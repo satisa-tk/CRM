{
  "nbformat": 4,
  "nbformat_minor": 0,
  "metadata": {
    "colab": {
      "name": "Homework 11 - Voice of Customer.ipynb",
      "provenance": [],
      "collapsed_sections": [],
      "authorship_tag": "ABX9TyNzMaVUA0vWHUkxjIA5AnHR",
      "include_colab_link": true
    },
    "kernelspec": {
      "name": "python3",
      "display_name": "Python 3"
    },
    "language_info": {
      "name": "python"
    }
  },
  "cells": [
    {
      "cell_type": "markdown",
      "metadata": {
        "id": "view-in-github",
        "colab_type": "text"
      },
      "source": [
        "<a href=\"https://colab.research.google.com/github/satisa-tk/CRM/blob/main/Homework_11_Voice_of_Customer.ipynb\" target=\"_parent\"><img src=\"https://colab.research.google.com/assets/colab-badge.svg\" alt=\"Open In Colab\"/></a>"
      ]
    },
    {
      "cell_type": "code",
      "metadata": {
        "colab": {
          "base_uri": "https://localhost:8080/"
        },
        "id": "DzW1bQFPPYbW",
        "outputId": "7dfd124e-8629-4707-bd52-b6e8ec54ddc5"
      },
      "source": [
        "from google.colab import drive\n",
        "drive.mount('/content/drive')"
      ],
      "execution_count": 22,
      "outputs": [
        {
          "output_type": "stream",
          "text": [
            "Drive already mounted at /content/drive; to attempt to forcibly remount, call drive.mount(\"/content/drive\", force_remount=True).\n"
          ],
          "name": "stdout"
        }
      ]
    },
    {
      "cell_type": "code",
      "metadata": {
        "colab": {
          "base_uri": "https://localhost:8080/"
        },
        "id": "L3UDpsXYRwLC",
        "outputId": "c1c3e151-bbff-4b32-ebe6-260bcaeaf282"
      },
      "source": [
        "%cd /content/drive/My Drive/HW_CRM"
      ],
      "execution_count": 23,
      "outputs": [
        {
          "output_type": "stream",
          "text": [
            "/content/drive/My Drive/HW_CRM\n"
          ],
          "name": "stdout"
        }
      ]
    },
    {
      "cell_type": "code",
      "metadata": {
        "id": "gO-IEVwUqjIB"
      },
      "source": [
        "!pip install pythainlp"
      ],
      "execution_count": null,
      "outputs": []
    },
    {
      "cell_type": "code",
      "metadata": {
        "colab": {
          "base_uri": "https://localhost:8080/"
        },
        "id": "nsd7Mn_CqpBU",
        "outputId": "ad546fd4-9550-4bf8-f15d-8cdfef642f6d"
      },
      "source": [
        "!pip install pyLDAvis"
      ],
      "execution_count": 46,
      "outputs": [
        {
          "output_type": "stream",
          "text": [
            "Requirement already satisfied: pyLDAvis in /usr/local/lib/python3.7/dist-packages (3.3.1)\n",
            "Requirement already satisfied: numpy>=1.20.0 in /usr/local/lib/python3.7/dist-packages (from pyLDAvis) (1.20.2)\n",
            "Requirement already satisfied: numexpr in /usr/local/lib/python3.7/dist-packages (from pyLDAvis) (2.7.3)\n",
            "Requirement already satisfied: future in /usr/local/lib/python3.7/dist-packages (from pyLDAvis) (0.16.0)\n",
            "Requirement already satisfied: funcy in /usr/local/lib/python3.7/dist-packages (from pyLDAvis) (1.15)\n",
            "Requirement already satisfied: jinja2 in /usr/local/lib/python3.7/dist-packages (from pyLDAvis) (2.11.3)\n",
            "Requirement already satisfied: gensim in /usr/local/lib/python3.7/dist-packages (from pyLDAvis) (3.6.0)\n",
            "Requirement already satisfied: setuptools in /usr/local/lib/python3.7/dist-packages (from pyLDAvis) (56.1.0)\n",
            "Requirement already satisfied: scikit-learn in /usr/local/lib/python3.7/dist-packages (from pyLDAvis) (0.22.2.post1)\n",
            "Requirement already satisfied: scipy in /usr/local/lib/python3.7/dist-packages (from pyLDAvis) (1.4.1)\n",
            "Requirement already satisfied: joblib in /usr/local/lib/python3.7/dist-packages (from pyLDAvis) (1.0.1)\n",
            "Requirement already satisfied: pandas>=1.2.0 in /usr/local/lib/python3.7/dist-packages (from pyLDAvis) (1.2.4)\n",
            "Requirement already satisfied: sklearn in /usr/local/lib/python3.7/dist-packages (from pyLDAvis) (0.0)\n",
            "Requirement already satisfied: MarkupSafe>=0.23 in /usr/local/lib/python3.7/dist-packages (from jinja2->pyLDAvis) (1.1.1)\n",
            "Requirement already satisfied: six>=1.5.0 in /usr/local/lib/python3.7/dist-packages (from gensim->pyLDAvis) (1.15.0)\n",
            "Requirement already satisfied: smart-open>=1.2.1 in /usr/local/lib/python3.7/dist-packages (from gensim->pyLDAvis) (5.0.0)\n",
            "Requirement already satisfied: pytz>=2017.3 in /usr/local/lib/python3.7/dist-packages (from pandas>=1.2.0->pyLDAvis) (2018.9)\n",
            "Requirement already satisfied: python-dateutil>=2.7.3 in /usr/local/lib/python3.7/dist-packages (from pandas>=1.2.0->pyLDAvis) (2.8.1)\n"
          ],
          "name": "stdout"
        }
      ]
    },
    {
      "cell_type": "markdown",
      "metadata": {
        "id": "NqBQjshnVGg6"
      },
      "source": [
        "# **Load Data**"
      ]
    },
    {
      "cell_type": "code",
      "metadata": {
        "id": "feeO5Yajq8qD"
      },
      "source": [
        "import pandas as pd\n",
        "import pythainlp\n",
        "import gensim\n",
        "import pyLDAvis.gensim_models\n",
        "pyLDAvis.enable_notebook()\n",
        "import warnings\n",
        "warnings.filterwarnings(\"ignore\", category=DeprecationWarning) "
      ],
      "execution_count": 26,
      "outputs": []
    },
    {
      "cell_type": "code",
      "metadata": {
        "colab": {
          "base_uri": "https://localhost:8080/",
          "height": 295
        },
        "id": "LbwfFF90rFf2",
        "outputId": "c46113de-1283-4a63-9f4a-eb4b7897711e"
      },
      "source": [
        "df = pd.read_csv('CustomerReviews.csv')\n",
        "df.head()"
      ],
      "execution_count": 27,
      "outputs": [
        {
          "output_type": "execute_result",
          "data": {
            "text/html": [
              "<div>\n",
              "<style scoped>\n",
              "    .dataframe tbody tr th:only-of-type {\n",
              "        vertical-align: middle;\n",
              "    }\n",
              "\n",
              "    .dataframe tbody tr th {\n",
              "        vertical-align: top;\n",
              "    }\n",
              "\n",
              "    .dataframe thead th {\n",
              "        text-align: right;\n",
              "    }\n",
              "</style>\n",
              "<table border=\"1\" class=\"dataframe\">\n",
              "  <thead>\n",
              "    <tr style=\"text-align: right;\">\n",
              "      <th></th>\n",
              "      <th>Review ID</th>\n",
              "      <th>Restaurant_ID</th>\n",
              "      <th>Restaurant</th>\n",
              "      <th>User</th>\n",
              "      <th>Headline</th>\n",
              "      <th>Review</th>\n",
              "      <th>Rating</th>\n",
              "    </tr>\n",
              "  </thead>\n",
              "  <tbody>\n",
              "    <tr>\n",
              "      <th>0</th>\n",
              "      <td>1</td>\n",
              "      <td>352696Px-mo-mo-paradise-เดอะมอลล์-บางกะปิ</td>\n",
              "      <td>Mo-Mo-Paradise (โม โม พาราไดซ์) เดอะมอลล์ บางกะปิ</td>\n",
              "      <td>7b16469831074f7abc7824745ee75212</td>\n",
              "      <td>ที่สำคัญของร้านนี้คือบริการดีมากพนักงานน่ารักส...</td>\n",
              "      <td>ที่สำคัญของร้านนี้คือบริการดีมากพนักงานน่ารักส...</td>\n",
              "      <td>5.0</td>\n",
              "    </tr>\n",
              "    <tr>\n",
              "      <th>1</th>\n",
              "      <td>2</td>\n",
              "      <td>352696Px-mo-mo-paradise-เดอะมอลล์-บางกะปิ</td>\n",
              "      <td>Mo-Mo-Paradise (โม โม พาราไดซ์) เดอะมอลล์ บางกะปิ</td>\n",
              "      <td>pakkaramonpondej</td>\n",
              "      <td>รสชาติเหมือนทุกสาขา แต่สาขานี้ บริการดี ที่นั่งดี</td>\n",
              "      <td>นึกถึงชาบูญี่ปุ่นยังไงก็ต้อง คิดถึงโมโม่ พาราไ...</td>\n",
              "      <td>5.0</td>\n",
              "    </tr>\n",
              "    <tr>\n",
              "      <th>2</th>\n",
              "      <td>3</td>\n",
              "      <td>352696Px-mo-mo-paradise-เดอะมอลล์-บางกะปิ</td>\n",
              "      <td>Mo-Mo-Paradise (โม โม พาราไดซ์) เดอะมอลล์ บางกะปิ</td>\n",
              "      <td>saanowy</td>\n",
              "      <td>ชาบูพรีเมี่ยมสไตล์ญี่ปุ่น เนื้อดีมากกก</td>\n",
              "      <td>มาทานช่วงนี้ สามารถนั่งโต๊ะเดียวกัน หม้อเดียวก...</td>\n",
              "      <td>4.0</td>\n",
              "    </tr>\n",
              "    <tr>\n",
              "      <th>3</th>\n",
              "      <td>4</td>\n",
              "      <td>352696Px-mo-mo-paradise-เดอะมอลล์-บางกะปิ</td>\n",
              "      <td>Mo-Mo-Paradise (โม โม พาราไดซ์) เดอะมอลล์ บางกะปิ</td>\n",
              "      <td>ployynp</td>\n",
              "      <td>เนื้อดี ไอติมดี คุ้มค่าดี</td>\n",
              "      <td>ถ้านึกถึงชาบูที่มีเนื้อเน้นๆ ในราคาไม่โหดจนเกิ...</td>\n",
              "      <td>4.0</td>\n",
              "    </tr>\n",
              "    <tr>\n",
              "      <th>4</th>\n",
              "      <td>5</td>\n",
              "      <td>352696Px-mo-mo-paradise-เดอะมอลล์-บางกะปิ</td>\n",
              "      <td>Mo-Mo-Paradise (โม โม พาราไดซ์) เดอะมอลล์ บางกะปิ</td>\n",
              "      <td>665a902b335b434ab489f00f2fbb477e</td>\n",
              "      <td>อาหารมีคุณภาพ บริการดีค่ะ</td>\n",
              "      <td>เดินมาหน้าร้านแล้วได้กลิ่นชาบูหอมมาก ๆ  ประกอบ...</td>\n",
              "      <td>5.0</td>\n",
              "    </tr>\n",
              "  </tbody>\n",
              "</table>\n",
              "</div>"
            ],
            "text/plain": [
              "   Review ID  ... Rating\n",
              "0          1  ...    5.0\n",
              "1          2  ...    5.0\n",
              "2          3  ...    4.0\n",
              "3          4  ...    4.0\n",
              "4          5  ...    5.0\n",
              "\n",
              "[5 rows x 7 columns]"
            ]
          },
          "metadata": {
            "tags": []
          },
          "execution_count": 27
        }
      ]
    },
    {
      "cell_type": "markdown",
      "metadata": {
        "id": "dXVNf_iiVgA3"
      },
      "source": [
        "# **Tokenize Words**"
      ]
    },
    {
      "cell_type": "code",
      "metadata": {
        "id": "Ac2K0J9-sY3n"
      },
      "source": [
        "stopwords = list(pythainlp.corpus.thai_stopwords())\n",
        "removed_words = [' ', '  ', '\\n', 'ร้าน', '(', ')']\n",
        "screening_words = stopwords + removed_words\n",
        "\n",
        "def tokenize_with_space(sentence):\n",
        "  merged = ''\n",
        "  words = pythainlp.word_tokenize(str(sentence), engine='newmm')\n",
        "  for word in words:\n",
        "    if word not in screening_words:\n",
        "      merged = merged + ',' + word\n",
        "  return merged[1:]"
      ],
      "execution_count": 28,
      "outputs": []
    },
    {
      "cell_type": "code",
      "metadata": {
        "id": "Fh9Lc0RHseRh"
      },
      "source": [
        "df['Review_tokenized'] = df['Review'].apply(lambda x: tokenize_with_space(x))"
      ],
      "execution_count": 29,
      "outputs": []
    },
    {
      "cell_type": "code",
      "metadata": {
        "colab": {
          "base_uri": "https://localhost:8080/",
          "height": 295
        },
        "id": "mGnh43TLsjkc",
        "outputId": "1f4f966c-1446-46f5-96d9-41188b7bafad"
      },
      "source": [
        "df.head()"
      ],
      "execution_count": 44,
      "outputs": [
        {
          "output_type": "execute_result",
          "data": {
            "text/html": [
              "<div>\n",
              "<style scoped>\n",
              "    .dataframe tbody tr th:only-of-type {\n",
              "        vertical-align: middle;\n",
              "    }\n",
              "\n",
              "    .dataframe tbody tr th {\n",
              "        vertical-align: top;\n",
              "    }\n",
              "\n",
              "    .dataframe thead th {\n",
              "        text-align: right;\n",
              "    }\n",
              "</style>\n",
              "<table border=\"1\" class=\"dataframe\">\n",
              "  <thead>\n",
              "    <tr style=\"text-align: right;\">\n",
              "      <th></th>\n",
              "      <th>Review ID</th>\n",
              "      <th>Restaurant_ID</th>\n",
              "      <th>Restaurant</th>\n",
              "      <th>User</th>\n",
              "      <th>Headline</th>\n",
              "      <th>Review</th>\n",
              "      <th>Rating</th>\n",
              "      <th>Review_tokenized</th>\n",
              "      <th>topics</th>\n",
              "      <th>score</th>\n",
              "    </tr>\n",
              "  </thead>\n",
              "  <tbody>\n",
              "    <tr>\n",
              "      <th>0</th>\n",
              "      <td>1</td>\n",
              "      <td>352696Px-mo-mo-paradise-เดอะมอลล์-บางกะปิ</td>\n",
              "      <td>Mo-Mo-Paradise (โม โม พาราไดซ์) เดอะมอลล์ บางกะปิ</td>\n",
              "      <td>7b16469831074f7abc7824745ee75212</td>\n",
              "      <td>ที่สำคัญของร้านนี้คือบริการดีมากพนักงานน่ารักส...</td>\n",
              "      <td>ที่สำคัญของร้านนี้คือบริการดีมากพนักงานน่ารักส...</td>\n",
              "      <td>5.0</td>\n",
              "      <td>บริการ,ดีมาก,พนักงาน,น่ารัก,สะอาดสะอ้าน,ใส่ใจ,...</td>\n",
              "      <td>1</td>\n",
              "      <td>0.997608</td>\n",
              "    </tr>\n",
              "    <tr>\n",
              "      <th>1</th>\n",
              "      <td>2</td>\n",
              "      <td>352696Px-mo-mo-paradise-เดอะมอลล์-บางกะปิ</td>\n",
              "      <td>Mo-Mo-Paradise (โม โม พาราไดซ์) เดอะมอลล์ บางกะปิ</td>\n",
              "      <td>pakkaramonpondej</td>\n",
              "      <td>รสชาติเหมือนทุกสาขา แต่สาขานี้ บริการดี ที่นั่งดี</td>\n",
              "      <td>นึกถึงชาบูญี่ปุ่นยังไงก็ต้อง คิดถึงโมโม่ พาราไ...</td>\n",
              "      <td>5.0</td>\n",
              "      <td>นึกถึง,ชาบู,ญี่ปุ่น,คิดถึง,โม,โม่,พาราไดซ์,คุณ...</td>\n",
              "      <td>3</td>\n",
              "      <td>0.996469</td>\n",
              "    </tr>\n",
              "    <tr>\n",
              "      <th>2</th>\n",
              "      <td>3</td>\n",
              "      <td>352696Px-mo-mo-paradise-เดอะมอลล์-บางกะปิ</td>\n",
              "      <td>Mo-Mo-Paradise (โม โม พาราไดซ์) เดอะมอลล์ บางกะปิ</td>\n",
              "      <td>saanowy</td>\n",
              "      <td>ชาบูพรีเมี่ยมสไตล์ญี่ปุ่น เนื้อดีมากกก</td>\n",
              "      <td>มาทานช่วงนี้ สามารถนั่งโต๊ะเดียวกัน หม้อเดียวก...</td>\n",
              "      <td>4.0</td>\n",
              "      <td>ทาน,นั่ง,โต๊ะ,หม้อ,โต๊ะ,ยังมี,ฉาก,กั้น,น้ำ,ซุป...</td>\n",
              "      <td>3</td>\n",
              "      <td>0.998951</td>\n",
              "    </tr>\n",
              "    <tr>\n",
              "      <th>3</th>\n",
              "      <td>4</td>\n",
              "      <td>352696Px-mo-mo-paradise-เดอะมอลล์-บางกะปิ</td>\n",
              "      <td>Mo-Mo-Paradise (โม โม พาราไดซ์) เดอะมอลล์ บางกะปิ</td>\n",
              "      <td>ployynp</td>\n",
              "      <td>เนื้อดี ไอติมดี คุ้มค่าดี</td>\n",
              "      <td>ถ้านึกถึงชาบูที่มีเนื้อเน้นๆ ในราคาไม่โหดจนเกิ...</td>\n",
              "      <td>4.0</td>\n",
              "      <td>นึกถึง,ชาบู,เนื้อ,ราคา,โหด,เกินไป,นึกถึง,โม,โม...</td>\n",
              "      <td>5</td>\n",
              "      <td>0.994734</td>\n",
              "    </tr>\n",
              "    <tr>\n",
              "      <th>4</th>\n",
              "      <td>5</td>\n",
              "      <td>352696Px-mo-mo-paradise-เดอะมอลล์-บางกะปิ</td>\n",
              "      <td>Mo-Mo-Paradise (โม โม พาราไดซ์) เดอะมอลล์ บางกะปิ</td>\n",
              "      <td>665a902b335b434ab489f00f2fbb477e</td>\n",
              "      <td>อาหารมีคุณภาพ บริการดีค่ะ</td>\n",
              "      <td>เดินมาหน้าร้านแล้วได้กลิ่นชาบูหอมมาก ๆ  ประกอบ...</td>\n",
              "      <td>5.0</td>\n",
              "      <td>เดิน,หน้า,ได้กลิ่น,ชาบู,หอ,มมาก,โปร,บัตรเครดิต...</td>\n",
              "      <td>6</td>\n",
              "      <td>0.995655</td>\n",
              "    </tr>\n",
              "  </tbody>\n",
              "</table>\n",
              "</div>"
            ],
            "text/plain": [
              "   Review ID                              Restaurant_ID  ... topics     score\n",
              "0          1  352696Px-mo-mo-paradise-เดอะมอลล์-บางกะปิ  ...      1  0.997608\n",
              "1          2  352696Px-mo-mo-paradise-เดอะมอลล์-บางกะปิ  ...      3  0.996469\n",
              "2          3  352696Px-mo-mo-paradise-เดอะมอลล์-บางกะปิ  ...      3  0.998951\n",
              "3          4  352696Px-mo-mo-paradise-เดอะมอลล์-บางกะปิ  ...      5  0.994734\n",
              "4          5  352696Px-mo-mo-paradise-เดอะมอลล์-บางกะปิ  ...      6  0.995655\n",
              "\n",
              "[5 rows x 10 columns]"
            ]
          },
          "metadata": {
            "tags": []
          },
          "execution_count": 44
        }
      ]
    },
    {
      "cell_type": "code",
      "metadata": {
        "id": "4Ok-tNNBswoX"
      },
      "source": [
        "documents = df['Review_tokenized'].to_list()\n",
        "texts = [[text for text in doc.split(',')] for doc in documents]\n",
        "dictionary = gensim.corpora.Dictionary(texts)"
      ],
      "execution_count": 31,
      "outputs": []
    },
    {
      "cell_type": "code",
      "metadata": {
        "colab": {
          "base_uri": "https://localhost:8080/"
        },
        "id": "WB8wsBfYsyEG",
        "outputId": "0f6d18a2-c737-4704-d70c-57f76bad35c6"
      },
      "source": [
        "print(dictionary.token2id.keys())"
      ],
      "execution_count": 32,
      "outputs": [
        {
          "output_type": "stream",
          "text": [
            "dict_keys(['1', '4', '560', 'กิน', 'ข้างนอก', 'ความต้องการ', 'คอ', 'คุณภาพ', 'คุ้ม', 'จำกัด', 'ซุป', 'ดำ', 'ดี', 'ดีมาก', 'ถาด', 'ถาม', 'น่ารัก', 'น้ำ', 'น้ำจิ้ม', 'บริการ', 'บาท', 'ประทับใจ', 'พนักงาน', 'พอกับ', 'ภาพ', 'รสชาติ', 'ราคา', 'สรุป', 'สะอาดสะอ้าน', 'สัน', 'หลากหลาย', 'อร่อย', 'อันนี้', 'อาหาร', 'เคลม', 'เซ็ท', 'เต้าเจี้ยว', 'เนื้อ', 'เป็ด', 'เผ็ด', 'แบบนี้', 'แปลก', 'แฟน', 'โดยรวม', 'โมจิ', 'ใส่ใจ', 'ไม่ต้อง', 'ไอติม', '\\u200b', '           ', '21', '30', '9', 'CTW', 'Terminal', 'กา', 'การงด', 'คิดถึง', 'ชาบู', 'ญี่ปุ่น', 'ฐาน', 'ทะยอย', 'ทำงาน', 'ที่ทาง', 'นาที', 'นึกถึง', 'พนักงานบริการ', 'พระราม', 'พรีเมียม', 'พาราไดซ์', 'มาตรา', 'มีโอ', 'รายละเอียด', 'ลูกค้า', 'สมาทาน', 'สาขา', 'สู้', 'ออร์เดอร์', 'เครื่องดื่ม', 'เค้า', 'เจอ', 'เป็นกันเอง', 'เหวี่ยง', 'แจ้ง', 'โม', 'โม่', 'โอเค', '', '++', '2', '555', '600', ':', '::', 'กก', 'กรุบ', 'กั้น', 'ของหวาน', 'คนละ', 'คาว', 'คุ', 'คุ้มค่า', 'จาน', 'จิ้ม', 'จืด', 'ฉาก', 'ชอบ', 'ชาเขียว', 'ชิ้น', 'ซอย', 'ซอส', 'ตก', 'ตะ', 'ตัก', 'ตามน้ำ', 'ต่างกัน', 'ถั่ว', 'ถ่ายรูป', 'ทาน', 'นั่ง', 'นุ่ม', 'บด', 'บาร์', 'บู', 'ผัก', 'ภาษา', 'มีชื่อ', 'ยังมี', 'รส', 'รี่', 'รู้สึก', 'ลอง', 'ลิ้น', 'ลืม', 'ววว', 'สด', 'สตอ', 'สั่ง', 'สามรส', 'ส่วนตัว', 'หนึบ', 'หม้อ', 'หวาน', 'อยากได้', 'เข้มข้น', 'เข้ากัน', 'เค็ม', 'เนื้อวัว', 'เนื้อสัตว์', 'เนื้อหมู', 'เบอ', 'เป็นผู้ใหญ่', 'เลือก', 'เสิร์ฟ', 'เหนียว', 'เห็ด', 'แดง', 'แตก', 'แตา', 'แนว', 'แย้', 'โควิด', 'โต๊ะ', 'โร', 'ใส', 'ไก่', 'ไข่', 'ไดฟูกุ', 'ไผ่', 'ไม้', 'ไหว', '3', 'ข้าว', 'จ่าย', 'ถ้วย', 'ธรรมดา', 'ส', 'ออ', 'เกินไป', 'เลี่ยน', 'โปร', 'โหด', 'ไว', 'ไอศกรีม', 'ขนม', 'คุณภาพดี', 'ตัดสินใจ', 'ต่าง ๆ', 'ที่จะ', 'ที่นั่ง', 'บัตรเครดิต', 'มมาก', 'ลูกชิ้น', 'สบายดี', 'หน้า', 'หอ', 'เดิน', 'เด็ก', 'เส้น', 'เหมือนกับ', 'แคบ', 'ได้กลิ่น', 'คามี', 'ซึ', 'นะคะ', 'บุ', 'บ๋วย', 'พอน', 'ฟเฟ่', 'รา', 'สาย', 'หยิบ', 'โซน', 'โปรโมชั่น', '+', '/', '20', '4.0', '5', 'Menu', 'Number', 'กรรมวิธี', 'กะปิ', 'ก์', 'คน', 'คะแนน', 'ชุด', 'ดังเดิม', 'บุฟเฟ่ต์', 'ประ', 'พารา', 'มอ', 'ยุค', 'ร้านอาหาร', 'ล', 'สุกี้', 'สไตล์', 'ส์', 'หมู', 'หลาก', 'หลายชนิด', 'เดอะ', 'เมนู', 'แบบฉบับ', 'แบ่ง', 'ได', 'ไทย', '–', '!!!!', '500', 'กาแฟ', 'งวด', 'ตอนที่', 'ตำ', 'ติด', 'ทั่วไป', 'น', 'บ๊วย', 'ยุ', 'ร้อน', 'ลุย', 'สุกี้ยากี้', 'อยู่แล้ว', 'ออสเตรเลีย', 'เป็นปกติ', 'เฟรนไชส์', 'เรื่อง', 'เหมาะสม', 'แนะนำ', 'โช', 'ไข่ไก่', 'ไอศครีม', '..', '399', 'กุ้ง', 'ของกิน', 'ขา', 'ชิ', 'ซูชิ', 'ซ่า', 'ตอน', 'ตอนนี้', 'นิดนึง', 'ปุระ', 'ปูอัด', 'ม', 'ละลานตา', 'สายพาน', 'หิว', 'ฮ่า', 'าน', 'เกี๊ยว', 'เท', 'เทียบ', 'เล่น', 'แพง', 'แล้วก็', 'ไม่งั้น', 'กลาย', 'กี่', 'ชั่วคราว', 'ชื่นใจ', 'ซะงั้น', 'ญี่', 'ดึก', 'ตบท้าย', 'ตัว', 'ทอด', 'ทานอาหาร', 'นพ', 'นึก', 'น้ะ', 'ปลา', 'ปุ', 'ผิดหวัง', 'วก', 'สมใจ', 'อย่า', 'อาหารเสริม', 'เติม', 'เป็นมา', 'เป็นหลัก', 'เย็น', '1.15', 'net', 'กลับมา', 'ของคาว', 'ชม.', 'ตรงนั้น', 'ยืน', 'ลายตา', 'สไลด์', 'อัพเดท', 'อิ่ม', 'เบ', 'เพลิน', 'ไลน์', '\"', '-', '/คน', '15', '359', 'G', 'Net', 'Shabushi', 'กด', 'กรอ', 'ขาดสารอาหาร', 'ขึ้นราคา', 'ข่าว', 'คนเดียว', 'ครึ่ง', 'คิว', 'งาน', 'จุ', 'ชั่วโมง', 'ชั้น', 'ชื่น', 'ดู', 'ตลับ', 'ตับ', 'ตั้งอยู่', 'ติง', 'ถนนใหญ่', 'ถูกใจ', 'ทำ', 'ทิ้ง', 'น้ำมัน', 'บดี', 'ปลาดิบ', 'ปอกเปลือก', 'ฝรั่ง', 'ฝั่ง', 'มอลล์', 'มื้อ', 'รอ', 'ระดับ', 'รายการ', 'ลด', 'ลา', 'ลูก', 'วันหยุด', 'วาง', 'วานิลา', 'สะอาด', 'สาเหตุ', 'สำหรับ', 'สไปรท์', 'หนา', 'หอม', 'หอย', 'หาไม่', 'ห่างหาย', 'ห้าง', 'อม', 'ออกมา', 'อาทิตย์', 'อีกครั้ง', 'เช็คบิล', 'เด่น', 'เด้ง', 'เบคอน', 'เปรี้ยวหวาน', 'เพื่อน', 'เลิก', 'เวลา', 'เสาร์', 'เหมือน', 'เหมือนกัน', 'แก้ว', 'แถม', 'แน่น', 'แป้ง', 'แย่', 'แออัด', 'โดน', 'โดยประมาณ', 'โฟลต', 'โอ', 'ใจดี', 'ใจมา', 'ใช้ได้', 'ใส่', 'ได้ยิน', 'ชอค', 'ต', 'นัด', 'นิ', 'มะนาว', 'มุ', 'ลงเอย', 'ว', 'วันก่อน', 'ห', 'หา', 'อยุ่', 'อาหารสด', 'เบอร์', 'แกงค์', 'แล', 'โก', 'กินที่', 'ขยัน', 'จอง', 'ชู', 'ณ์', 'บุฟเฟต์', 'ป', 'ประตู', 'พลาด', 'พอได้', 'พี่', 'รอบ', 'ร้อย', 'สาม', 'สุดท้าย', 'หลายครั้ง', 'หล่ะ', 'อาราม', 'เข้าหน้า', 'เต็ม', 'โชคดี', 'ขวัญใจ', 'ข้อดี', 'ต้องการ', 'ทั่วถึง', 'นํ้า', 'บ', 'ฟเฟ', 'มี่', 'ระบบ', 'รีวิว', 'สวัสดี', 'เก้', 'ใช้แล้ว', '^^', 'xx', 'กลยุทธ์', 'ขนาด', 'ข้น', 'ข้าวปั้น', 'ค่า', 'ชอป', 'ซุ้ม', 'ดีขึ้น', 'ตรงข้าม', 'ตรงนี้', 'ต้ม', 'ต้มยำ', 'ท่าน', 'นัล', 'บริเวณ', 'บัตรสมาชิก', 'ปรับปรุง', 'มันดี', 'มากขึ้น', 'ยอด', 'ลาน', 'สลัด', 'หมู่คณะ', 'ออกร้าน', 'อิอิ', 'เครือ', 'เคลื่อนตัว', 'เคาน์เตอร์', 'เบา', 'เป็นแนว', 'แมค', 'โชคชะตา', 'โด', 'โน้น', 'โออิชิ', '199', '39', '40', '49', 'HALL', 'MCC', 'ค่ายมวย', 'ด้านใน', 'ตอนแรก', 'ตัวเลือก', 'ติดกับ', 'ที่ไหนได้', 'นม', 'นา', 'น้ำดื่ม', 'พิซ', 'พิซซ่า', 'ฟี', 'ยู', 'รี', 'หลังจากที่', 'อลล์', 'อเรีย', 'เซ', 'แกงเขียวหวาน', 'แน่นอน', 'แวะ', '10', '300', '6', 'VAT', 'กำ', 'ค่าน้ำ', 'ช่อง', 'ซี', 'ซึป', 'ถูกหวย', 'ทอน', 'นึง', 'ฟรี', 'ฟู้ด', 'รับประกัน', 'ลอตเตอรี่', 'สัปดาห์', 'หวย', 'หัว', 'ฮัน', 'เงิน', 'แลก', 'โทส', 'ได้เวลา', 'Narai', 'mall', 'pizza', 'pizzeria', 'union', 'ของสด', 'ขึ้นใจ', 'ข้าวมันไก่', 'จำได้', 'ชื่อ', 'ตตี้', 'ตัดกำลัง', 'ตู้', 'นิว', 'บางส่วน', 'ปรุง', 'รู้จัก', 'ลี', 'สปา', 'สุก', 'เก', '😆', '🤣', '128', '255', '29', 'ครีม', 'จบ', 'จุก', 'ชาต', 'บรา', 'บุพ', 'ปิดท้าย', 'ย', 'วิป', 'สมราคา', 'สวย', 'เ', 'เซต', 'เด็ด', 'เป้ง', 'เฟ่', 'เรย', 'เริส', 'เเบบ', 'โชค', '%', '7', 'ทดแทน', 'ปรกติ', 'สดๆ ร้อนๆ', 'เงินสด', 'โดยเฉพาะ'])\n"
          ],
          "name": "stdout"
        }
      ]
    },
    {
      "cell_type": "code",
      "metadata": {
        "id": "CXyON-MUs776"
      },
      "source": [
        "gensim_corpus = [dictionary.doc2bow(text, allow_update=True) for text in texts]\n",
        "word_frequencies = [[(dictionary[id], frequence) for id, frequence in couple] for couple in gensim_corpus]"
      ],
      "execution_count": 33,
      "outputs": []
    },
    {
      "cell_type": "markdown",
      "metadata": {
        "id": "Qd4qHiKhX-RV"
      },
      "source": [
        "# **Topic Modeling**"
      ]
    },
    {
      "cell_type": "code",
      "metadata": {
        "colab": {
          "base_uri": "https://localhost:8080/"
        },
        "id": "HmC_IpzhtBjV",
        "outputId": "78231166-c15d-4af0-cb72-26b02d21f03c"
      },
      "source": [
        "num_topics = 7\n",
        "chunksize = 4000 # size of the doc looked at every pass\n",
        "passes = 20 # number of passes through documents\n",
        "iterations = 50\n",
        "eval_every = 1  # Don't evaluate model perplexity, takes too much time.\n",
        "\n",
        "# Make a index to word dictionary.\n",
        "temp = dictionary[0]  # This is only to \"load\" the dictionary.\n",
        "id2word = dictionary.id2token\n",
        "\n",
        "%time model = gensim.models.LdaModel(corpus=gensim_corpus, id2word=id2word, chunksize=chunksize, \\\n",
        "                       alpha='auto', eta='auto', \\\n",
        "                       iterations=iterations, num_topics=num_topics, \\\n",
        "                       passes=passes, eval_every=eval_every)"
      ],
      "execution_count": 34,
      "outputs": [
        {
          "output_type": "stream",
          "text": [
            "CPU times: user 388 ms, sys: 7.68 ms, total: 395 ms\n",
            "Wall time: 399 ms\n"
          ],
          "name": "stdout"
        }
      ]
    },
    {
      "cell_type": "code",
      "metadata": {
        "colab": {
          "base_uri": "https://localhost:8080/",
          "height": 860
        },
        "id": "7VJi9nK-tI0S",
        "outputId": "54e179e3-87cf-4290-c642-ff6906648539"
      },
      "source": [
        "pyLDAvis.gensim_models.prepare(model, gensim_corpus, dictionary)"
      ],
      "execution_count": 35,
      "outputs": [
        {
          "output_type": "execute_result",
          "data": {
            "text/html": [
              "\n",
              "<link rel=\"stylesheet\" type=\"text/css\" href=\"https://cdn.jsdelivr.net/gh/bmabey/pyLDAvis@3.3.1/pyLDAvis/js/ldavis.v1.0.0.css\">\n",
              "\n",
              "\n",
              "<div id=\"ldavis_el5491400687664539687753288475\"></div>\n",
              "<script type=\"text/javascript\">\n",
              "\n",
              "var ldavis_el5491400687664539687753288475_data = {\"mdsDat\": {\"x\": [0.08936804581751787, -0.04116355044291823, 0.00416445901836012, -0.016709477012178828, -0.010937375934142901, -0.01583116926360386, -0.008890932183034134], \"y\": [-0.018498467929864357, -0.047358708949197484, 0.04188311253239057, 0.044295500842435644, -0.005557695502117283, -0.011152853463104306, -0.0036108875305427995], \"topics\": [1, 2, 3, 4, 5, 6, 7], \"cluster\": [1, 1, 1, 1, 1, 1, 1], \"Freq\": [23.098893473743978, 20.063066622157237, 15.283166981243065, 14.365354189634896, 9.92969450441072, 9.365541511610907, 7.894282717199196]}, \"tinfo\": {\"Term\": [\"\\u200b\", \"\\u0e2d\\u0e23\\u0e48\\u0e2d\\u0e22\", \"\\u0e01\\u0e34\\u0e19\", \"\", \"\\u0e23\\u0e32\\u0e04\\u0e32\", \"\\u0e2d\\u0e32\\u0e2b\\u0e32\\u0e23\", \":\", \"-\", \"\\u0e1a\\u0e32\\u0e17\", \"\\u0e23\\u0e2a\", \"\\u0e19\\u0e49\\u0e33\", \"\\u0e23\\u0e2a\\u0e0a\\u0e32\\u0e15\\u0e34\", \"\\u0e01\\u0e38\\u0e49\\u0e07\", \"\\u0e14\\u0e35\\u0e21\\u0e32\\u0e01\", \"\\u0e14\\u0e35\", \"\\u0e1a\\u0e23\\u0e34\\u0e01\\u0e32\\u0e23\", \"\\u0e0b\\u0e38\\u0e1b\", \"\\u0e0a\\u0e2d\\u0e1a\", \"\\u0e02\\u0e2d\\u0e07\\u0e2b\\u0e27\\u0e32\\u0e19\", \"\\u0e2a\\u0e31\\u0e48\\u0e07\", \"\\u0e08\\u0e48\\u0e32\\u0e22\", \"\\u0e1a\\u0e38\\u0e1f\\u0e40\\u0e1f\\u0e48\\u0e15\\u0e4c\", \"\\u0e42\\u0e21\", \"\\u0e19\\u0e49\\u0e33\\u0e08\\u0e34\\u0e49\\u0e21\", \"\\u0e41\\u0e19\\u0e30\\u0e19\\u0e33\", \"\\u0e25\\u0e2d\\u0e07\", \"\\u0e40\\u0e19\\u0e37\\u0e49\\u0e2d\", \"\\u0e0a\\u0e38\\u0e14\", \"\\u0e1b\\u0e23\\u0e30\\u0e17\\u0e31\\u0e1a\\u0e43\\u0e08\", \"\\u0e41\\u0e1b\\u0e25\\u0e01\", \"\\u0e15\\u0e31\\u0e27\", \"\\u0e43\\u0e0a\\u0e49\\u0e44\\u0e14\\u0e49\", \"\\u0e15\\u0e48\\u0e32\\u0e07 \\u0e46\", \"\\u0e2d\\u0e22\\u0e48\\u0e32\", \"\\u0e25\\u0e39\\u0e01\\u0e0a\\u0e34\\u0e49\\u0e19\", \"\\u0e1c\\u0e34\\u0e14\\u0e2b\\u0e27\\u0e31\\u0e07\", \"\\u0e01\\u0e38\\u0e49\\u0e07\", \"\\u0e42\\u0e14\\u0e19\", \"\\u0e27\\u0e32\\u0e19\\u0e34\\u0e25\\u0e32\", \"\\u0e2b\\u0e2d\\u0e21\", \"\\u0e40\\u0e0a\\u0e47\\u0e04\\u0e1a\\u0e34\\u0e25\", \"\\u0e1b\\u0e2d\\u0e01\\u0e40\\u0e1b\\u0e25\\u0e37\\u0e2d\\u0e01\", \"\\u0e0a\\u0e37\\u0e48\\u0e19\", \"\\u0e2d\\u0e35\\u0e01\\u0e04\\u0e23\\u0e31\\u0e49\\u0e07\", \"\\u0e43\\u0e08\\u0e14\\u0e35\", \"\\u0e40\\u0e14\\u0e49\\u0e07\", \"\\u0e40\\u0e27\\u0e25\\u0e32\", \"-\", \"\\u0e2a\\u0e33\\u0e2b\\u0e23\\u0e31\\u0e1a\", \"\\u0e1a\\u0e31\\u0e15\\u0e23\\u0e40\\u0e04\\u0e23\\u0e14\\u0e34\\u0e15\", \"\\u0e0a\\u0e31\\u0e48\\u0e27\\u0e04\\u0e23\\u0e32\\u0e27\", \"\\u0e02\\u0e19\\u0e21\", \"\\u0e17\\u0e32\\u0e19\\u0e2d\\u0e32\\u0e2b\\u0e32\\u0e23\", \"\\u0e15\\u0e31\\u0e14\\u0e2a\\u0e34\\u0e19\\u0e43\\u0e08\", \"\\u0e40\\u0e22\\u0e47\\u0e19\", \"\\u0e41\\u0e04\\u0e1a\", \"\\u0e2a\\u0e21\\u0e43\\u0e08\", \"\\u0e0d\\u0e35\\u0e48\", \"\\u0e0a\\u0e37\\u0e48\\u0e19\\u0e43\\u0e08\", \"\\u0e01\\u0e35\\u0e48\", \"\\u0e2a\\u0e14\", \"\\u0e21\", \"\\u0e1b\\u0e38\\u0e23\\u0e30\", \"\\u0e40\\u0e17\", \"\\u0e01\\u0e25\\u0e31\\u0e1a\\u0e21\\u0e32\", \"\\u0e01\\u0e34\\u0e19\", \"\\u0e17\\u0e2d\\u0e14\", \"\\u0e19\\u0e30\\u0e04\\u0e30\", \"\\u0e15\\u0e34\\u0e14\", \"15\", \"\\u0e04\\u0e19\", \"\\u0e2a\\u0e32\\u0e02\\u0e32\", \"1\", \"\\u0e40\\u0e19\\u0e37\\u0e49\\u0e2d\", \"\\u0e14\\u0e35\", \"\\u0e0a\\u0e32\\u0e1a\\u0e39\", \"\\u0e17\\u0e32\\u0e19\", \"\\u0e19\\u0e38\\u0e48\\u0e21\", \"\\u0e2d\\u0e32\\u0e2b\\u0e32\\u0e23\", \"\\u0e19\\u0e49\\u0e33\", \"\\u0e2d\\u0e23\\u0e48\\u0e2d\\u0e22\", \"\\u0e23\\u0e2a\\u0e0a\\u0e32\\u0e15\\u0e34\", \"\\u0e40\\u0e25\\u0e37\\u0e2d\\u0e01\", \"\\u0e44\\u0e2d\\u0e15\\u0e34\\u0e21\", \"\\u0e04\\u0e38\\u0e49\\u0e21\", \"\\u0e0b\\u0e39\\u0e0a\\u0e34\", \"\\u0e23\\u0e32\\u0e04\\u0e32\", \"\\u0e40\\u0e2b\\u0e47\\u0e14\", \"\\u0e25\\u0e39\\u0e01\\u0e04\\u0e49\\u0e32\", \"\\u0e19\\u0e4d\\u0e49\\u0e32\", \"\\u0e08\\u0e34\\u0e49\\u0e21\", \"::\", \"\\u0e44\\u0e21\\u0e49\", \"\\u0e44\\u0e14\\u0e1f\\u0e39\\u0e01\\u0e38\", \"\\u0e44\\u0e1c\\u0e48\", \"\\u0e17\\u0e30\\u0e22\\u0e2d\\u0e22\", \"\\u0e40\\u0e04\\u0e23\\u0e37\\u0e48\\u0e2d\\u0e07\\u0e14\\u0e37\\u0e48\\u0e21\", \"\\u0e2a\\u0e21\\u0e32\\u0e17\\u0e32\\u0e19\", \"\\u0e10\\u0e32\\u0e19\", \"9\", \"\\u0e04\\u0e34\\u0e14\\u0e16\\u0e36\\u0e07\", \"\\u0e41\\u0e08\\u0e49\\u0e07\", \"30\", \"\\u0e1e\\u0e23\\u0e35\\u0e40\\u0e21\\u0e35\\u0e22\\u0e21\", \"\\u0e2a\\u0e39\\u0e49\", \"\\u0e40\\u0e08\\u0e2d\", \"\\u0e17\\u0e35\\u0e48\\u0e17\\u0e32\\u0e07\", \"\\u0e17\\u0e33\\u0e07\\u0e32\\u0e19\", \"\\u0e1e\\u0e32\\u0e23\\u0e32\\u0e44\\u0e14\\u0e0b\\u0e4c\", \"           \", \"Terminal\", \"\\u0e1e\\u0e23\\u0e30\\u0e23\\u0e32\\u0e21\", \"\\u0e40\\u0e2b\\u0e27\\u0e35\\u0e48\\u0e22\\u0e07\", \"\\u0e40\\u0e04\\u0e49\\u0e32\", \"\\u0e21\\u0e32\\u0e15\\u0e23\\u0e32\", \"21\", \"net\", \"\", \"\\u0e40\\u0e19\\u0e37\\u0e49\\u0e2d\\u0e27\\u0e31\\u0e27\", \"\\u0e44\\u0e01\\u0e48\", \"\\u0e0b\\u0e38\\u0e1b\", \"\\u0e40\\u0e1b\\u0e47\\u0e14\", \":\", \"\\u0e40\\u0e19\\u0e37\\u0e49\\u0e2d\\u0e2b\\u0e21\\u0e39\", \"\\u0e17\\u0e32\\u0e19\", \"\\u0e40\\u0e2a\\u0e34\\u0e23\\u0e4c\\u0e1f\", \"\\u0e19\\u0e49\\u0e33\", \"\\u0e40\\u0e25\\u0e37\\u0e2d\\u0e01\", \"555\", \"\\u0e42\\u0e15\\u0e4a\\u0e30\", \"\\u0e2d\\u0e23\\u0e48\\u0e2d\\u0e22\", \"\\u0e0a\\u0e32\\u0e1a\\u0e39\", \"\\u0e25\\u0e2d\\u0e07\", \"\\u0e14\\u0e33\", \"\\u0e1a\\u0e23\\u0e34\\u0e01\\u0e32\\u0e23\", \"2\", \"\\u0e40\\u0e19\\u0e37\\u0e49\\u0e2d\", \"\\u0e2a\\u0e31\\u0e48\\u0e07\", \"\\u0e0d\\u0e35\\u0e48\\u0e1b\\u0e38\\u0e48\\u0e19\", \"\\u0e04\\u0e38\\u0e49\\u0e21\", \"\\u0e23\\u0e2a\\u0e0a\\u0e32\\u0e15\\u0e34\", \"\\u0e14\\u0e35\", \"\\u0e2a\\u0e32\\u0e02\\u0e32\", \"\\u0e23\\u0e32\\u0e04\\u0e32\", \"\\u0e44\\u0e2d\\u0e15\\u0e34\\u0e21\", \"\\u0e0a\\u0e2d\\u0e1a\", \"\\u0e1e\\u0e19\\u0e31\\u0e01\\u0e07\\u0e32\\u0e19\", \"\\u0e19\\u0e49\\u0e33\\u0e08\\u0e34\\u0e49\\u0e21\", \"\\u0e2d\\u0e32\\u0e2b\\u0e32\\u0e23\", \"\\u0e01\\u0e34\\u0e19\", \"\\u0e0a\\u0e34\", \"\\u0e19\\u0e38\\u0e48\\u0e21\", \"\\u0e1a\\u0e32\\u0e17\", \"\\u0e2b\\u0e34\\u0e27\", \"\\u0e04\\u0e48\\u0e32\", \"\\u0e40\\u0e25\\u0e48\\u0e19\", \"\\u0e44\\u0e21\\u0e48\\u0e07\\u0e31\\u0e49\\u0e19\", \"\\u0e0b\\u0e48\\u0e32\", \"\\u0e1b\\u0e39\\u0e2d\\u0e31\\u0e14\", \"\\u0e02\\u0e32\", \"\\u0e25\\u0e30\\u0e25\\u0e32\\u0e19\\u0e15\\u0e32\", \"..\", \"\\u0e02\\u0e2d\\u0e07\\u0e01\\u0e34\\u0e19\", \"\\u0e2e\\u0e48\\u0e32\", \"\\u0e32\\u0e19\", \"\\u0e40\\u0e01\\u0e35\\u0e4a\\u0e22\\u0e27\", \"\\u0e42\\u0e19\\u0e49\\u0e19\", \"\\u0e42\\u0e0a\\u0e04\\u0e0a\\u0e30\\u0e15\\u0e32\", \"\\u0e02\\u0e19\\u0e32\\u0e14\", \"\\u0e02\\u0e49\\u0e19\", \"\\u0e22\\u0e39\", \"\\u0e02\\u0e49\\u0e32\\u0e27\\u0e1b\\u0e31\\u0e49\\u0e19\", \"\\u0e1a\\u0e23\\u0e34\\u0e40\\u0e27\\u0e13\", \"\\u0e2d\\u0e25\\u0e25\\u0e4c\", \"\\u0e42\\u0e2d\\u0e2d\\u0e34\\u0e0a\\u0e34\", \"\\u0e21\\u0e32\\u0e01\\u0e02\\u0e36\\u0e49\\u0e19\", \"\\u0e19\\u0e21\", \"\\u0e15\\u0e49\\u0e21\", \"^^\", \"\\u0e41\\u0e21\\u0e04\", \"39\", \"\\u0e40\\u0e1b\\u0e47\\u0e19\\u0e41\\u0e19\\u0e27\", \"\\u0e22\\u0e2d\\u0e14\", \"\\u0e2b\\u0e21\\u0e49\\u0e2d\", \"\\u0e1a\\u0e32\\u0e17\", \"\\u0e2b\\u0e19\\u0e49\\u0e32\", \"\\u0e2a\\u0e32\\u0e22\\u0e1e\\u0e32\\u0e19\", \"\\u0e23\\u0e32\\u0e04\\u0e32\", \"\\u0e2d\\u0e32\\u0e2b\\u0e32\\u0e23\", \"\\u0e0b\\u0e38\\u0e1b\", \"\\u0e40\\u0e21\\u0e19\\u0e39\", \"199\", \"\\u0e17\\u0e32\\u0e19\", \"\\u0e0a\\u0e34\", \"\\u0e21\\u0e2d\\u0e25\\u0e25\\u0e4c\", \"\\u0e08\\u0e48\\u0e32\\u0e22\", \"\\u0e04\\u0e38\\u0e49\\u0e21\", \"\\u0e19\\u0e49\\u0e33\", \"-\", \"\\u0e1e\\u0e34\\u0e0b\\u0e0b\\u0e48\\u0e32\", \"3\", \"\\u0e2a\\u0e32\\u0e02\\u0e32\", \"\\u0e04\\u0e19\\u0e25\\u0e30\", \"\\u0e01\\u0e30\\u0e1b\\u0e34\", \"\\u0e2b\\u0e49\\u0e32\\u0e07\", \"\\u0e40\\u0e25\\u0e37\\u0e2d\\u0e01\", \"\\u0e40\\u0e14\\u0e2d\\u0e30\", \"\\u0e17\\u0e2d\\u0e14\", \"\\u0e02\\u0e2d\\u0e07\\u0e2b\\u0e27\\u0e32\\u0e19\", \"\\u0e14\\u0e35\", \"\\u0e23\\u0e2a\\u0e0a\\u0e32\\u0e15\\u0e34\", \"\\u0e40\\u0e19\\u0e37\\u0e49\\u0e2d\", \"\\u0e0a\\u0e32\\u0e1a\\u0e39\", \"\\u0e0b\\u0e39\\u0e0a\\u0e34\", \"\\u0e2d\\u0e23\\u0e48\\u0e2d\\u0e22\", \"\\u0e01\\u0e34\\u0e19\", \"\\u0e2a\\u0e31\\u0e48\\u0e07\", \"\\u0e0a\\u0e38\\u0e14\", \"\\u0e1a\\u0e38\\u0e1f\\u0e40\\u0e1f\\u0e15\\u0e4c\", \"\\u0e2a\\u0e38\\u0e01\\u0e35\\u0e49\", \"\\u0e41\\u0e1a\\u0e48\\u0e07\", \"\\u0e40\\u0e02\\u0e49\\u0e32\\u0e2b\\u0e19\\u0e49\\u0e32\", \"\\u0e01\\u0e34\\u0e19\\u0e17\\u0e35\\u0e48\", \"\\u0e2a\\u0e32\\u0e21\", \"\\u0e2b\\u0e25\\u0e48\\u0e30\", \"\\u0e1b\", \"\\u0e2d\\u0e32\\u0e23\\u0e32\\u0e21\", \"\\u0e2b\\u0e25\\u0e32\\u0e22\\u0e04\\u0e23\\u0e31\\u0e49\\u0e07\", \"\\u0e13\\u0e4c\", \"\\u0e23\\u0e49\\u0e2d\\u0e22\", \"\\u0e1f\\u0e23\\u0e35\", \"\\u0e1e\\u0e2d\\u0e44\\u0e14\\u0e49\", \"\\u0e0b\\u0e35\", \"\\u0e40\\u0e07\\u0e34\\u0e19\", \"\\u0e2a\\u0e38\\u0e14\\u0e17\\u0e49\\u0e32\\u0e22\", \"\\u0e1e\\u0e35\\u0e48\", \"\\u0e42\\u0e0a\\u0e04\\u0e14\\u0e35\", \"\\u0e2a\\u0e31\\u0e1b\\u0e14\\u0e32\\u0e2b\\u0e4c\", \"\\u0e2b\\u0e27\\u0e22\", \"10\", \"6\", \"\\u0e42\\u0e17\\u0e2a\", \"\\u0e2e\\u0e31\\u0e19\", \"\\u0e41\\u0e25\\u0e01\", \"\\u0e1e\\u0e25\\u0e32\\u0e14\", \"\\u0e04\\u0e48\\u0e32\\u0e19\\u0e49\\u0e33\", \"\\u0e16\\u0e39\\u0e01\\u0e2b\\u0e27\\u0e22\", \"\\u0e42\\u0e21\", \"\\u0e1a\\u0e38\\u0e1f\\u0e40\\u0e1f\\u0e48\\u0e15\\u0e4c\", \"/\", \"\\u0e23\\u0e2d\", \":\", \"\\u0e40\\u0e25\\u0e37\\u0e2d\\u0e01\", \"\\u0e41\\u0e19\\u0e30\\u0e19\\u0e33\", \"\\u0e04\\u0e19\", \"\\u0e19\\u0e49\\u0e33\", \"\\u0e1c\\u0e31\\u0e01\", \"\\u0e1a\\u0e32\\u0e17\", \"\\u0e01\\u0e34\\u0e19\", \"\\u0e17\\u0e32\\u0e19\", \"\\u0e04\\u0e19\\u0e25\\u0e30\", \"\\u0e01\\u0e30\\u0e1b\\u0e34\", \"\\u0e04\\u0e34\\u0e27\", \"\\u0e40\\u0e14\\u0e2d\\u0e30\", \"\\u0e19\\u0e49\\u0e33\\u0e08\\u0e34\\u0e49\\u0e21\", \"\\u0e14\\u0e39\", \"\\u0e23\\u0e32\\u0e04\\u0e32\", \"\\u0e14\\u0e35\", \"\\u0e2d\\u0e32\\u0e2b\\u0e32\\u0e23\", \"\\u0e2d\\u0e23\\u0e48\\u0e2d\\u0e22\", \"\\u0e14\\u0e33\", \"\\u0e40\\u0e19\\u0e37\\u0e49\\u0e2d\", \"\\u0e0a\\u0e32\\u0e1a\\u0e39\", \"\\u0e0b\\u0e38\\u0e1b\", \"\\u0e2a\\u0e32\\u0e02\\u0e32\", \"\\u0e23\\u0e2a\\u0e0a\\u0e32\\u0e15\\u0e34\", \"\\u0e0a\\u0e2d\\u0e1a\", \"\\u0e40\\u0e01\\u0e34\\u0e19\\u0e44\\u0e1b\", \"\\u0e02\\u0e49\\u0e32\\u0e27\", \"\\u0e27\", \"\\u0e2a\", \"\\u0e40\\u0e25\\u0e35\\u0e48\\u0e22\\u0e19\", \"\\u0e44\\u0e27\", \"\\u0e16\\u0e49\\u0e27\\u0e22\", \"\\u0e42\\u0e2b\\u0e14\", \"\\u0e2a\\u0e27\\u0e22\", \"\\u0e08\\u0e1a\", \"\\u0e40\\u0e0b\\u0e15\", \"\\u0e42\\u0e0a\\u0e04\", \"\\u0e40\\u0e1f\\u0e48\", \"\\u0e40\", \"\\u0e40\\u0e23\\u0e22\", \"\\u0e1b\\u0e34\\u0e14\\u0e17\\u0e49\\u0e32\\u0e22\", \"\\u0e27\\u0e34\\u0e1b\", \"255\", \"\\u0e2a\\u0e21\\u0e23\\u0e32\\u0e04\\u0e32\", \"\\u0e04\\u0e23\\u0e35\\u0e21\", \"29\", \"\\u0e1a\\u0e38\\u0e1e\", \"\\u0e0a\\u0e32\\u0e15\", \"\\u0e1a\\u0e23\\u0e32\", \"\\u0e40\\u0e23\\u0e34\\u0e2a\", \"128\", \"\\u0e22\", \"\\u0e40\\u0e14\\u0e47\\u0e14\", \"\\u0e40\\u0e1b\\u0e49\\u0e07\", \"\\u0e08\\u0e38\\u0e01\", \"\\u0e23\\u0e2a\", \"\\u0e19\\u0e36\\u0e01\\u0e16\\u0e36\\u0e07\", \"+\", \"\\u0e44\\u0e2d\\u0e28\\u0e01\\u0e23\\u0e35\\u0e21\", \"\\u0e2d\\u0e23\\u0e48\\u0e2d\\u0e22\", \":\", \"\\u0e02\\u0e2d\\u0e07\\u0e2b\\u0e27\\u0e32\\u0e19\", \"\\u0e1f\\u0e40\\u0e1f\\u0e48\", \"\\u0e23\\u0e32\\u0e04\\u0e32\", \"\\u0e14\\u0e35\", \"\\u0e1a\\u0e38\", \"\\u0e17\\u0e32\\u0e19\", \"\\u0e23\\u0e2a\\u0e0a\\u0e32\\u0e15\\u0e34\", \"\\u0e40\\u0e19\\u0e37\\u0e49\\u0e2d\", \"\\u0e0a\\u0e2d\\u0e1a\", \"\\u0e19\\u0e38\\u0e48\\u0e21\", \"\\u0e19\\u0e49\\u0e33\", \"\\u0e2d\\u0e32\\u0e2b\\u0e32\\u0e23\", \"\\u0e0a\\u0e32\\u0e1a\\u0e39\", \"\\u0e1a\\u0e32\\u0e17\", \"\\u0e2a\\u0e31\\u0e48\\u0e07\", \"\\u0e44\\u0e2d\\u0e15\\u0e34\\u0e21\", \"\\u0e0b\\u0e39\\u0e0a\\u0e34\", \"\\u0e1c\\u0e31\\u0e01\", \"2\", \"\\u0e2b\\u0e21\\u0e39\", \"\\u0e01\\u0e34\\u0e19\", \"\\u0e04\\u0e19\", \"\\u0e40\\u0e25\\u0e37\\u0e2d\\u0e01\", \"\\u0e0b\\u0e38\\u0e1b\", \"\\u0e1a\\u0e32\\u0e07\\u0e2a\\u0e48\\u0e27\\u0e19\", \"\\u0e0a\\u0e37\\u0e48\\u0e2d\", \"\\u0e19\", \"\\u0e40\\u0e2b\\u0e21\\u0e32\\u0e30\\u0e2a\\u0e21\", \"\\u0e2d\\u0e22\\u0e39\\u0e48\\u0e41\\u0e25\\u0e49\\u0e27\", \"\\u0e1b\\u0e23\\u0e38\\u0e07\", \"\\u0e40\\u0e01\", \"\\u0e19\\u0e34\\u0e27\", \"\\u0e02\\u0e36\\u0e49\\u0e19\\u0e43\\u0e08\", \"\\u0e08\\u0e33\\u0e44\\u0e14\\u0e49\", \"\\u0e2a\\u0e1b\\u0e32\", \"Narai\", \"\\u0e23\\u0e39\\u0e49\\u0e08\\u0e31\\u0e01\", \"mall\", \"\\u0e02\\u0e49\\u0e32\\u0e27\\u0e21\\u0e31\\u0e19\\u0e44\\u0e01\\u0e48\", \"\\ud83d\\ude06\", \"\\u0e25\\u0e35\", \"\\u0e15\\u0e39\\u0e49\", \"\\ud83e\\udd23\", \"pizzeria\", \"\\u0e02\\u0e2d\\u0e07\\u0e2a\\u0e14\", \"\\u0e15\\u0e15\\u0e35\\u0e49\", \"union\", \"pizza\", \"\\u0e2a\\u0e38\\u0e01\", \"\\u0e15\\u0e31\\u0e14\\u0e01\\u0e33\\u0e25\\u0e31\\u0e07\", \"\\u0e04\\u0e32\\u0e21\\u0e35\", \"\\u0e23\\u0e32\", \"\\u0e1a\\u0e4b\\u0e27\\u0e22\", \"\\u0e2a\\u0e32\\u0e22\", \"\\u0e14\\u0e35\\u0e21\\u0e32\\u0e01\", \"\\u0e41\\u0e19\\u0e30\\u0e19\\u0e33\", \"\\u0e0a\\u0e2d\\u0e1a\", \"\\u0e0a\\u0e32\\u0e1a\\u0e39\", \"\\\"\", \"\\u0e14\\u0e35\", \"\\u0e19\\u0e49\\u0e33\", \"\\u0e2b\\u0e22\\u0e34\\u0e1a\", \"\\u0e23\\u0e32\\u0e04\\u0e32\", \"\\u0e1e\\u0e19\\u0e31\\u0e01\\u0e07\\u0e32\\u0e19\", \"\\u0e23\\u0e2a\\u0e0a\\u0e32\\u0e15\\u0e34\", \"\\u0e19\\u0e49\\u0e33\\u0e08\\u0e34\\u0e49\\u0e21\", \"\\u0e2d\\u0e32\\u0e2b\\u0e32\\u0e23\", \"\\u0e2d\\u0e23\\u0e48\\u0e2d\\u0e22\", \"\\u0e40\\u0e19\\u0e37\\u0e49\\u0e2d\", \"\\u0e25\\u0e2d\\u0e07\", \"\\u0e2a\\u0e31\\u0e48\\u0e07\", \"\\u0e01\\u0e34\\u0e19\", \"\\u0e0b\\u0e38\\u0e1b\", \"\\u0e1a\\u0e32\\u0e17\", \"\\u0e40\\u0e25\\u0e37\\u0e2d\\u0e01\", \"\\u0e02\\u0e2d\\u0e07\\u0e2b\\u0e27\\u0e32\\u0e19\", \"\\u0e44\\u0e2d\\u0e15\\u0e34\\u0e21\", \"\\u0e17\\u0e32\\u0e19\", \"\\u0e04\\u0e38\\u0e49\\u0e21\", \"\\u0e1c\\u0e31\\u0e01\", \"\\u0e1a\\u0e23\\u0e34\\u0e01\\u0e32\\u0e23\", \"\\u200b\", \"\\u0e1b\\u0e23\\u0e30\\u0e17\\u0e31\\u0e1a\\u0e43\\u0e08\", \"\\u0e41\\u0e1b\\u0e25\\u0e01\", \"\\u0e02\\u0e49\\u0e32\\u0e07\\u0e19\\u0e2d\\u0e01\", \"\\u0e42\\u0e14\\u0e22\\u0e40\\u0e09\\u0e1e\\u0e32\\u0e30\", \"\\u0e16\\u0e32\\u0e14\", \"\\u0e17\\u0e14\\u0e41\\u0e17\\u0e19\", \"\\u0e1b\\u0e23\\u0e01\\u0e15\\u0e34\", \"\\u0e41\\u0e1a\\u0e1a\\u0e19\\u0e35\\u0e49\", \"7\", \"560\", \"\\u0e40\\u0e04\\u0e25\\u0e21\", \"\\u0e40\\u0e07\\u0e34\\u0e19\\u0e2a\\u0e14\", \"\\u0e41\\u0e1f\\u0e19\", \"\\u0e2a\\u0e30\\u0e2d\\u0e32\\u0e14\\u0e2a\\u0e30\\u0e2d\\u0e49\\u0e32\\u0e19\", \"\\u0e2a\\u0e14\\u0e46 \\u0e23\\u0e49\\u0e2d\\u0e19\\u0e46\", \"%\", \"\\u0e40\\u0e1c\\u0e47\\u0e14\", \"\\u0e44\\u0e21\\u0e48\\u0e15\\u0e49\\u0e2d\\u0e07\", \"\\u0e1e\\u0e2d\\u0e01\\u0e31\\u0e1a\", \"\\u0e04\\u0e27\\u0e32\\u0e21\\u0e15\\u0e49\\u0e2d\\u0e07\\u0e01\\u0e32\\u0e23\", \"\\u0e20\\u0e32\\u0e1e\", \"\\u0e43\\u0e2a\\u0e48\\u0e43\\u0e08\", \"\\u0e42\\u0e21\\u0e08\\u0e34\", \"\\u0e40\\u0e15\\u0e49\\u0e32\\u0e40\\u0e08\\u0e35\\u0e49\\u0e22\\u0e27\", \"\\u0e16\\u0e32\\u0e21\", \"\\u0e08\\u0e33\\u0e01\\u0e31\\u0e14\", \"\\u0e2a\\u0e31\\u0e19\", \"\\u0e2d\\u0e31\\u0e19\\u0e19\\u0e35\\u0e49\", \"VAT\", \"\", \"\\u0e08\\u0e48\\u0e32\\u0e22\", \"\\u0e1a\\u0e23\\u0e34\\u0e01\\u0e32\\u0e23\", \"\\u0e01\\u0e34\\u0e19\", \"\\u0e2d\\u0e23\\u0e48\\u0e2d\\u0e22\", \"\\u0e2d\\u0e32\\u0e2b\\u0e32\\u0e23\", \"\\u0e23\\u0e2a\\u0e0a\\u0e32\\u0e15\\u0e34\", \"\\u0e23\\u0e32\\u0e04\\u0e32\", \"\\u0e14\\u0e35\", \"\\u0e19\\u0e49\\u0e33\", \"\\u0e40\\u0e19\\u0e37\\u0e49\\u0e2d\", \"\\u0e2a\\u0e31\\u0e48\\u0e07\", \"\\u0e0b\\u0e39\\u0e0a\\u0e34\", \"\\u0e1a\\u0e32\\u0e17\", \"\\u0e0b\\u0e38\\u0e1b\", \"\\u0e02\\u0e2d\\u0e07\\u0e2b\\u0e27\\u0e32\\u0e19\", \"\\u0e44\\u0e2d\\u0e15\\u0e34\\u0e21\", \"\\u0e17\\u0e32\\u0e19\", \"\\u0e04\\u0e38\\u0e49\\u0e21\", \"\\u0e1e\\u0e19\\u0e31\\u0e01\\u0e07\\u0e32\\u0e19\", \"\\u0e0a\\u0e32\\u0e1a\\u0e39\", \"\\u0e19\\u0e49\\u0e33\\u0e08\\u0e34\\u0e49\\u0e21\", \"\\u0e04\\u0e38\\u0e13\\u0e20\\u0e32\\u0e1e\", \"\\u0e14\\u0e35\\u0e21\\u0e32\\u0e01\", \"\\u0e25\\u0e2d\\u0e07\", \"\\u0e14\\u0e33\", \"\\u0e14\\u0e39\", \"\\u0e40\\u0e25\\u0e37\\u0e2d\\u0e01\"], \"Freq\": [4.0, 19.0, 19.0, 7.0, 17.0, 17.0, 12.0, 11.0, 13.0, 4.0, 25.0, 15.0, 10.0, 5.0, 19.0, 7.0, 15.0, 8.0, 8.0, 9.0, 4.0, 7.0, 5.0, 6.0, 3.0, 6.0, 19.0, 2.0, 1.0, 1.0, 2.4551922829409656, 1.8781690044082153, 1.2712382273537062, 1.2817787388393789, 1.2828734185353334, 1.2835295848495263, 6.805278021618167, 1.2857583508776227, 1.2889874039615032, 1.289273331182213, 1.2894883875533452, 1.2900515358774673, 1.2918625610141956, 1.292114885676916, 1.2932291159520644, 1.2934030855591094, 3.1671360940960254, 6.8133579094256165, 2.5832665998507363, 0.6837298815559659, 0.6839062949854102, 0.6845681126389013, 0.6848422025948648, 0.6850351881949539, 0.6852580342499835, 0.6853686935829986, 0.6855573261244391, 0.6856055152473738, 0.6857090722215411, 0.6857150290386392, 4.5912665712570675, 3.2910647717833044, 3.29225124755813, 3.292928797318316, 1.9942307123145782, 7.408820897132846, 2.032891218975874, 1.395370658733521, 1.4013595510006307, 1.3964754191968725, 3.684446252431525, 3.8669237216817223, 2.277930694385222, 4.768667915906267, 4.881531882203239, 4.623905652265565, 4.302336809252075, 2.272333271918689, 3.491511972612829, 3.6013669825807506, 3.1452492206885343, 2.7440655315529767, 2.6368968933574064, 2.0484525635807618, 2.0884185296199456, 1.955285042127072, 2.396703823243529, 1.766973720250979, 1.192593653644107, 1.1930122111758792, 1.207248208519592, 1.2141470448958898, 1.2150695961085503, 1.2150880365196173, 1.2155686811908093, 0.6348938011687043, 0.6349103179397679, 0.6354633312745358, 0.6355481704319267, 0.6356994746680554, 0.6356996073328832, 0.6358585397966117, 0.6358779751938873, 0.6360004911623791, 0.63621222422758, 0.6362998493463551, 0.6363643907850894, 0.6363645897823312, 0.6364551335273184, 0.6365618623812996, 0.6365942989317016, 0.636619107254504, 0.6366739641608076, 0.6367151565898457, 0.6367585379885429, 0.636868981457703, 0.637317919235046, 3.6652726188906697, 2.009931442651624, 2.004060095366793, 5.015947293398234, 1.3178604273407615, 4.103022505973962, 1.3193647138234128, 6.684110923240571, 1.3205915981510925, 7.08557644925577, 5.121664710732156, 1.3153518681115124, 1.3197654942682573, 5.06860727015312, 4.867350481075632, 2.208099661872635, 2.21638802965552, 2.2510029365303246, 2.2868399517990072, 3.9433166062993643, 2.5811319313301335, 1.4437686354799257, 2.488786332651505, 3.1034354810948717, 3.519532876299999, 2.5685871452114704, 2.7777024680297075, 1.9211631510551634, 1.9069405528590606, 1.78802391381084, 1.7166921585292503, 2.21577763878272, 2.1823604299734747, 1.7270776919103143, 1.6016653848975413, 1.7999596357049812, 1.046847111776042, 1.0494169224128198, 1.0500504566800721, 0.5584642967970239, 0.5591355257973573, 0.5591921184261117, 0.5592216779688093, 0.5593291534343098, 0.5594306159330052, 0.5595543617792726, 0.5599419707571074, 0.5600420184400839, 0.5602183651136132, 0.5631140381279242, 0.5638708634792485, 0.5642861624218667, 0.5647077775060869, 0.5647060089864384, 0.5650351557576045, 0.5650563274642546, 0.5650458679337617, 0.5650900303958432, 0.5653360062143935, 0.5653624834799894, 0.5654220067984471, 0.5654392877618704, 0.5655265010451115, 0.5655151319902277, 0.565656259858184, 0.5657095175641725, 1.7473990774071877, 3.8787484192001966, 1.7989543558528482, 1.8527785944784976, 3.8086568315556275, 3.7782500163589536, 3.4488380683037434, 1.9237611117928857, 1.2525127082725003, 3.979450151271893, 1.970292581737406, 1.2471676355449133, 1.2697366748339007, 2.1692997522861126, 3.8684521988644596, 2.3384737143538774, 1.3623578890438601, 1.3698365038754878, 2.2410715346550933, 1.3098731777291743, 1.3019580922482783, 1.2844823895471866, 2.6189910459810086, 1.4215626718483334, 1.200585232234514, 1.7188038326802482, 2.6070146309208595, 2.244011521718884, 2.5158819039054063, 2.396072074967851, 1.598686685556903, 1.6480212086152817, 1.443160844379386, 1.3268988679734028, 1.4930486406570507, 1.0146679404257635, 1.0229513898893559, 1.0265076003959606, 0.5445524517068622, 0.5454203217131016, 0.5455464675422799, 0.5461178283574203, 0.546273135910663, 0.5463582463496265, 0.546702345194655, 0.5471745371501102, 0.5479351167090178, 0.5484978809898656, 0.5478822551473178, 0.5486043640278994, 0.5486466342793935, 0.5480871946250677, 0.5480996857218575, 0.5481403411547553, 0.5488135305307986, 0.548851858725131, 0.5490363754971027, 0.5490178525779087, 0.5490807355138394, 0.5491816141814502, 0.5492026068232034, 0.5484728987962859, 0.5492423123628093, 0.5492491515945117, 2.1507782184049797, 2.7599696737714394, 1.1086169464927675, 1.7234117273994296, 3.0131631608191483, 3.8713341866113287, 1.1461818065756773, 2.466753572737089, 4.635076510224042, 1.9367777085426754, 2.8566959778456047, 3.178747609588006, 3.4024436802817957, 1.267212270397717, 1.256794125739004, 1.2444907278636506, 1.372077450176432, 1.4476402266940758, 1.3921941003358356, 2.340293518857954, 2.5198778749216837, 2.3151012088820555, 2.4875965113075593, 1.4222336207915014, 2.430539840872726, 2.3169656594356014, 1.996339057609865, 1.7171335026752579, 1.723546042310919, 1.1615229631988597, 0.790940915917734, 0.8060918651706345, 0.8114473428081537, 0.4254896944009211, 0.42549067928616063, 0.4254908434337006, 0.4254915985123842, 0.4254918283189401, 0.4334841063787622, 0.4335051829228883, 0.43351270088021676, 0.4336258970237475, 0.4337087258723925, 0.4338445087174166, 0.4339291431890007, 0.4339594776543785, 0.4339868574640376, 0.4340044540803173, 0.43402198503758105, 0.4340244472506799, 0.4340872172699463, 0.4340998238010124, 0.43419233735451285, 0.43427582279331756, 0.43432447612415065, 0.4344217171268009, 0.43456324513572225, 0.43465313232858394, 0.4347766369376218, 0.43495716640202886, 1.6630340118486941, 0.8580371420873762, 0.883132477603876, 0.8800722421875885, 3.0681554694298256, 2.057408194047433, 1.6911497277587881, 0.9707585052736231, 2.2359778681458136, 2.378511773191844, 1.060378006327208, 2.3690757846888935, 1.739963529226916, 1.9494614888434427, 1.2892273850842422, 1.0826031892786505, 1.925447491660938, 1.4977206304384099, 1.4994649278566448, 1.2167775197295279, 1.029138825368448, 0.9405212808985516, 0.8817759623339545, 0.836959941371137, 0.8297973306371005, 0.7535783094706803, 1.1172184911795255, 0.9037516410247147, 0.9552782103966215, 0.8842698887375087, 0.7619223179904174, 0.7620602949472489, 0.7745421313939724, 0.7746152690896717, 0.7753968701543801, 0.40983862753780964, 0.40987052077513825, 0.40990006072505236, 0.4099079256593062, 0.4099129728415243, 0.40991625505818136, 0.4099226646699552, 0.40992278852718755, 0.4099268758158549, 0.40992703063739533, 0.4099304676755929, 0.4099328209630074, 0.4099366605372101, 0.4099378062166093, 0.40994548536501463, 0.40995276197741487, 0.40995440308574344, 0.4099615868052194, 0.40996520962926547, 0.41000283126359, 0.41001382359296057, 0.41683052312518265, 0.4171584661121221, 0.4172635589737662, 0.4173252708397817, 1.391462062619872, 0.8844151390631573, 1.5857017865298941, 2.477624965231911, 0.8714866734366004, 2.2900781145860747, 2.5428722120874645, 1.011367997143997, 1.8075234013678887, 1.1635522455259961, 1.674891998827146, 1.11721279604565, 1.786668692157462, 1.9196814511165923, 1.8766966747742901, 1.0922887574665532, 1.3351909971067701, 1.7650570914001793, 1.5405148285965113, 1.1712135584898817, 1.2644952706003931, 0.9384783874811066, 0.9055082115172305, 1.24683248612471, 0.9300248836591472, 0.8057870999685255, 0.7753532724085949, 3.818851690049162, 0.6933075084019792, 0.6943445673663042, 0.37246241273140046, 0.3725492475623843, 0.372718062617029, 0.3727719069982492, 0.37280074754175296, 0.37292887263502, 0.3730225456763187, 0.3731307825395858, 0.3731692800976565, 0.37324405671045136, 0.3733633599904113, 0.37338677172572615, 0.37337547040867897, 0.3734167084708835, 0.37351213021482, 0.373819458178401, 0.3738796187691487, 0.37402157688328175, 0.37404089091241555, 0.3741509808784779, 0.37423343090284755, 0.37430671981339836, 0.37448641858446036, 0.37464641182579805, 0.42855332874030816, 0.43267014015020705, 0.4348490497369275, 1.5117366219404436, 0.8450477084906032, 1.3055956921924303, 2.802395679202089, 2.632973850842065, 2.207116630068632, 1.8004237286031262, 1.9185871676437438, 1.734142574223014, 1.959526854198167, 1.6730454096625589, 1.19004998270046, 1.0639304164586258, 1.351514953058165, 1.0661186437594015, 0.8364944123886024, 0.8072177372269506, 1.1116404532256106, 0.8290596073737609, 0.7298459975175287, 0.9794708978578252, 0.688575519064131, 0.6467569397839645, 0.6258101443873068, 0.6663472117344093, 0.6711219007366668, 0.6514173106137817, 0.8199358166112121], \"Total\": [4.0, 19.0, 19.0, 7.0, 17.0, 17.0, 12.0, 11.0, 13.0, 4.0, 25.0, 15.0, 10.0, 5.0, 19.0, 7.0, 15.0, 8.0, 8.0, 9.0, 4.0, 7.0, 5.0, 6.0, 3.0, 6.0, 19.0, 2.0, 1.0, 1.0, 3.306300763287564, 2.6761913326160185, 1.8869697496942996, 1.9421779618809947, 1.9483527017851074, 1.951557260617382, 10.36899747956801, 1.9634118387142163, 1.9807704442582978, 1.9823343294854745, 1.9834972945213167, 1.9865982775654982, 1.9963089129439069, 1.9976459970923033, 2.003726826422334, 2.004633679369257, 5.01428826120957, 11.266530203644232, 4.451926493932158, 1.1997799077690083, 1.2004180022144362, 1.2043864823705586, 1.2055361803890419, 1.2069634504803728, 1.207808600798833, 1.2088066674461466, 1.2093786094507055, 1.2096982676011567, 1.2102209741118843, 1.2102451662836644, 8.865100157504344, 6.3087438478120035, 6.315825192798171, 6.319542461328767, 3.8250958521013, 19.897761042855507, 4.424994247494345, 2.8925039780591755, 2.924770753739961, 2.912114821526675, 10.09162029243853, 12.260338457496477, 5.935956649643147, 19.157609840264055, 19.930689726346717, 19.16085465869103, 23.09589028808555, 6.554446569970978, 17.29214678930106, 25.618318698871594, 19.970284982152982, 15.030337833334839, 17.288596134290128, 8.56267055044893, 9.872017216411637, 7.9613100426814185, 17.285445078844262, 2.6010860125715025, 1.8159430885478487, 1.8188456596592266, 1.8998382968018583, 1.9396721056505832, 1.9450114807295535, 1.9450725704042884, 1.9478532889189248, 1.1272430318954347, 1.1273376303335632, 1.1305076679962212, 1.130994554134998, 1.131862346298068, 1.1318630393284996, 1.1327745251789036, 1.1328862456212987, 1.1335894694495956, 1.1348044915680124, 1.1353079480079826, 1.135678341855687, 1.1356793729323345, 1.1361995611109972, 1.1368124839762845, 1.1369988298390357, 1.1371415195531946, 1.137456549804195, 1.1376930307008022, 1.1379425407190833, 1.1385771876176882, 1.1411019056184006, 7.179381484048777, 4.635222201349256, 4.652625293855774, 15.346954121678822, 2.836997767300562, 12.104933278141807, 2.8830630452101906, 23.09589028808555, 2.890096542240153, 25.618318698871594, 17.288596134290128, 2.9763786256670826, 3.0022568684119095, 19.970284982152982, 19.16085465869103, 6.568499716812729, 6.819444439832079, 7.183594715137017, 7.3897054517898795, 19.157609840264055, 9.921517334273304, 4.036322636322485, 9.872017216411637, 15.030337833334839, 19.930689726346717, 12.260338457496477, 17.285445078844262, 8.56267055044893, 8.642857851999477, 7.211292742641977, 6.6884046479660135, 17.29214678930106, 19.897761042855507, 7.8173049729251005, 6.554446569970978, 13.629367622804093, 1.7287878522399505, 1.7455296709663375, 1.7496454549840867, 1.092886584147355, 1.0973038511419588, 1.0976948932128079, 1.0978806735037978, 1.098590418174951, 1.0992889384416569, 1.1001159607301783, 1.1026731500718323, 1.1033115117225316, 1.1045057963641656, 1.123261665195446, 1.1282425341479725, 1.130972042368928, 1.1337611708120605, 1.1338320936070778, 1.1359213265814625, 1.1360517989256607, 1.1360647860894062, 1.136268196612642, 1.1378923692658167, 1.1381662137881732, 1.1384631469158033, 1.1385699489555077, 1.1391435019103513, 1.139209496947505, 1.1399999538428742, 1.1403559488791495, 4.725312872860708, 13.629367622804093, 5.52098950382742, 5.955449868304977, 17.285445078844262, 17.29214678930106, 15.346954121678822, 7.004703364098603, 3.825344981272806, 23.09589028808555, 7.8173049729251005, 4.0278066176439395, 4.1566305690762295, 9.872017216411637, 25.618318698871594, 11.266530203644232, 4.90028953509741, 4.948681113431732, 12.260338457496477, 4.868107699400657, 4.841780895655386, 4.834653588751161, 17.288596134290128, 5.978422266645779, 4.424994247494345, 8.934188873112248, 19.930689726346717, 15.030337833334839, 19.157609840264055, 19.16085465869103, 7.9613100426814185, 19.970284982152982, 19.897761042855507, 9.921517334273304, 2.3723687055579132, 1.7169027197034692, 1.7676009647355067, 1.7914927017855717, 1.1074524298059822, 1.1138102011943505, 1.1146449847412176, 1.1188008189501504, 1.119991748136612, 1.1206675482924167, 1.1231072739691752, 1.1264173181013541, 1.1321287807081821, 1.1333235188552098, 1.1320580092910515, 1.1340250150560598, 1.134223347959924, 1.133274030906965, 1.1336229401776476, 1.1338113319287095, 1.1355603599883783, 1.135668596973781, 1.136934962839803, 1.136908450053114, 1.1372533432227676, 1.1379049784357727, 1.138017790646229, 1.1365838584017405, 1.1383417225296286, 1.1384505488820569, 5.130773443005308, 7.237018824746327, 2.70314256950517, 5.540946693787621, 12.104933278141807, 17.288596134290128, 3.2878393973895066, 10.09162029243853, 25.618318698871594, 7.168240221720153, 13.629367622804093, 19.897761042855507, 23.09589028808555, 4.868107699400657, 4.841780895655386, 4.872901242145559, 5.978422266645779, 6.6884046479660135, 6.234956004250849, 17.285445078844262, 19.930689726346717, 17.29214678930106, 19.970284982152982, 6.819444439832079, 19.157609840264055, 19.16085465869103, 15.346954121678822, 12.260338457496477, 15.030337833334839, 8.642857851999477, 1.3453483449001176, 1.4736071790740848, 1.519028881446257, 0.9253145321782019, 0.9253231279407184, 0.9253244707136254, 0.9253310041179956, 0.9253329413557033, 0.9930208723747405, 0.9932069400791343, 0.993264727310281, 0.9942273638804557, 0.9949444079608304, 0.9960921172345624, 0.9968151689023443, 0.9970664259169107, 0.9973042873505312, 0.9974489961085901, 0.9975992503457861, 0.9976192948708098, 0.9981551104872255, 0.9982612120053517, 0.9990481027484965, 0.9997639258872835, 1.0001735230803752, 1.0010030121492797, 1.0022117484766049, 1.0029804329287584, 1.0040265289030037, 1.0055660098873747, 4.433991359113604, 2.4396102049558017, 2.568782990083978, 2.6609331073241873, 19.970284982152982, 12.104933278141807, 8.934188873112248, 3.651255539764433, 17.285445078844262, 19.930689726346717, 4.935315577527502, 23.09589028808555, 15.030337833334839, 19.157609840264055, 8.642857851999477, 6.554446569970978, 25.618318698871594, 17.29214678930106, 19.16085465869103, 13.629367622804093, 9.921517334273304, 8.56267055044893, 7.9613100426814185, 7.168240221720153, 7.3897054517898795, 5.504633481379543, 19.897761042855507, 10.09162029243853, 17.288596134290128, 15.346954121678822, 1.321939384940382, 1.3231495034760743, 1.433007506184973, 1.433677479719308, 1.4406012473132646, 0.9133778574573569, 0.9136578877886189, 0.9139168440648033, 0.9139861048170331, 0.914030546426201, 0.9140591583416755, 0.9141152003165518, 0.914116509773384, 0.9141521524021112, 0.9141537486440464, 0.9141840795402802, 0.9142043117900364, 0.9142379153823526, 0.9142479576435286, 0.9143155254425855, 0.9143793846071677, 0.9143938072574215, 0.9144568755303543, 0.9144888905076032, 0.9148187828901239, 0.9149157242144123, 0.9751382437762391, 0.9780785045186864, 0.9790204796937417, 0.979584536066296, 5.284804755611767, 3.2878393973895066, 8.642857851999477, 19.16085465869103, 3.4091843268112076, 19.930689726346717, 25.618318698871594, 4.941235649452965, 17.285445078844262, 7.211292742641977, 15.030337833334839, 6.6884046479660135, 17.29214678930106, 19.970284982152982, 19.157609840264055, 6.568499716812729, 9.921517334273304, 19.897761042855507, 15.346954121678822, 13.629367622804093, 17.288596134290128, 8.934188873112248, 8.56267055044893, 23.09589028808555, 9.872017216411637, 7.168240221720153, 7.183594715137017, 4.973875539739627, 1.3864094395056892, 1.3968460890168197, 0.9461443681253148, 0.9474536176435584, 0.9486861843207086, 0.949720262390326, 0.9500149873456694, 0.9507411647652111, 0.952282438858649, 0.9527570986789904, 0.9531525954983848, 0.9545583244520238, 0.9551266199415664, 0.955301090731441, 0.955914757642343, 0.9563414425991417, 0.9566200851222151, 0.9595905233021826, 0.9601774576064519, 0.961598196033889, 0.9618039881949209, 0.9628966111734891, 0.9637602722304482, 0.9644262964920562, 0.9662538528334703, 0.9678040031008789, 1.840954225846442, 1.9831072235966278, 2.0050918620083396, 7.179381484048777, 4.1566305690762295, 7.183594715137017, 19.897761042855507, 19.970284982152982, 17.29214678930106, 15.030337833334839, 17.285445078844262, 19.930689726346717, 25.618318698871594, 19.157609840264055, 9.921517334273304, 7.9613100426814185, 13.629367622804093, 15.346954121678822, 8.934188873112248, 8.56267055044893, 23.09589028808555, 9.872017216411637, 7.211292742641977, 19.16085465869103, 6.6884046479660135, 5.537023463236695, 5.284804755611767, 6.568499716812729, 6.819444439832079, 6.234956004250849, 17.288596134290128], \"Category\": [\"Default\", \"Default\", \"Default\", \"Default\", \"Default\", \"Default\", \"Default\", \"Default\", \"Default\", \"Default\", \"Default\", \"Default\", \"Default\", \"Default\", \"Default\", \"Default\", \"Default\", \"Default\", \"Default\", \"Default\", \"Default\", \"Default\", \"Default\", \"Default\", \"Default\", \"Default\", \"Default\", \"Default\", \"Default\", \"Default\", \"Topic1\", \"Topic1\", \"Topic1\", \"Topic1\", \"Topic1\", \"Topic1\", \"Topic1\", \"Topic1\", \"Topic1\", \"Topic1\", \"Topic1\", \"Topic1\", \"Topic1\", \"Topic1\", \"Topic1\", \"Topic1\", \"Topic1\", \"Topic1\", \"Topic1\", \"Topic1\", \"Topic1\", \"Topic1\", \"Topic1\", \"Topic1\", \"Topic1\", \"Topic1\", \"Topic1\", \"Topic1\", \"Topic1\", \"Topic1\", \"Topic1\", \"Topic1\", \"Topic1\", \"Topic1\", \"Topic1\", \"Topic1\", \"Topic1\", \"Topic1\", \"Topic1\", \"Topic1\", \"Topic1\", \"Topic1\", \"Topic1\", \"Topic1\", \"Topic1\", \"Topic1\", \"Topic1\", \"Topic1\", \"Topic1\", \"Topic1\", \"Topic1\", \"Topic1\", \"Topic1\", \"Topic1\", \"Topic1\", \"Topic1\", \"Topic1\", \"Topic2\", \"Topic2\", \"Topic2\", \"Topic2\", \"Topic2\", \"Topic2\", \"Topic2\", \"Topic2\", \"Topic2\", \"Topic2\", \"Topic2\", \"Topic2\", \"Topic2\", \"Topic2\", \"Topic2\", \"Topic2\", \"Topic2\", \"Topic2\", \"Topic2\", \"Topic2\", \"Topic2\", \"Topic2\", \"Topic2\", \"Topic2\", \"Topic2\", \"Topic2\", \"Topic2\", \"Topic2\", \"Topic2\", \"Topic2\", \"Topic2\", \"Topic2\", \"Topic2\", \"Topic2\", \"Topic2\", \"Topic2\", \"Topic2\", \"Topic2\", \"Topic2\", \"Topic2\", \"Topic2\", \"Topic2\", \"Topic2\", \"Topic2\", \"Topic2\", \"Topic2\", \"Topic2\", \"Topic2\", \"Topic2\", \"Topic2\", \"Topic2\", \"Topic2\", \"Topic2\", \"Topic2\", \"Topic2\", \"Topic2\", \"Topic2\", \"Topic2\", \"Topic2\", \"Topic2\", \"Topic2\", \"Topic2\", \"Topic2\", \"Topic2\", \"Topic2\", \"Topic2\", \"Topic3\", \"Topic3\", \"Topic3\", \"Topic3\", \"Topic3\", \"Topic3\", \"Topic3\", \"Topic3\", \"Topic3\", \"Topic3\", \"Topic3\", \"Topic3\", \"Topic3\", \"Topic3\", \"Topic3\", \"Topic3\", \"Topic3\", \"Topic3\", \"Topic3\", \"Topic3\", \"Topic3\", \"Topic3\", \"Topic3\", \"Topic3\", \"Topic3\", \"Topic3\", \"Topic3\", \"Topic3\", \"Topic3\", \"Topic3\", \"Topic3\", \"Topic3\", \"Topic3\", \"Topic3\", \"Topic3\", \"Topic3\", \"Topic3\", \"Topic3\", \"Topic3\", \"Topic3\", \"Topic3\", \"Topic3\", \"Topic3\", \"Topic3\", \"Topic3\", \"Topic3\", \"Topic3\", \"Topic3\", \"Topic3\", \"Topic3\", \"Topic3\", \"Topic3\", \"Topic3\", \"Topic3\", \"Topic3\", \"Topic3\", \"Topic3\", \"Topic3\", \"Topic3\", \"Topic3\", \"Topic3\", \"Topic3\", \"Topic3\", \"Topic3\", \"Topic4\", \"Topic4\", \"Topic4\", \"Topic4\", \"Topic4\", \"Topic4\", \"Topic4\", \"Topic4\", \"Topic4\", \"Topic4\", \"Topic4\", \"Topic4\", \"Topic4\", \"Topic4\", \"Topic4\", \"Topic4\", \"Topic4\", \"Topic4\", \"Topic4\", \"Topic4\", \"Topic4\", \"Topic4\", \"Topic4\", \"Topic4\", \"Topic4\", \"Topic4\", \"Topic4\", \"Topic4\", \"Topic4\", \"Topic4\", \"Topic4\", \"Topic4\", \"Topic4\", \"Topic4\", \"Topic4\", \"Topic4\", \"Topic4\", \"Topic4\", \"Topic4\", \"Topic4\", \"Topic4\", \"Topic4\", \"Topic4\", \"Topic4\", \"Topic4\", \"Topic4\", \"Topic4\", \"Topic4\", \"Topic4\", \"Topic4\", \"Topic4\", \"Topic4\", \"Topic4\", \"Topic4\", \"Topic4\", \"Topic4\", \"Topic4\", \"Topic4\", \"Topic4\", \"Topic4\", \"Topic5\", \"Topic5\", \"Topic5\", \"Topic5\", \"Topic5\", \"Topic5\", \"Topic5\", \"Topic5\", \"Topic5\", \"Topic5\", \"Topic5\", \"Topic5\", \"Topic5\", \"Topic5\", \"Topic5\", \"Topic5\", \"Topic5\", \"Topic5\", \"Topic5\", \"Topic5\", \"Topic5\", \"Topic5\", \"Topic5\", \"Topic5\", \"Topic5\", \"Topic5\", \"Topic5\", \"Topic5\", \"Topic5\", \"Topic5\", \"Topic5\", \"Topic5\", \"Topic5\", \"Topic5\", \"Topic5\", \"Topic5\", \"Topic5\", \"Topic5\", \"Topic5\", \"Topic5\", \"Topic5\", \"Topic5\", \"Topic5\", \"Topic5\", \"Topic5\", \"Topic5\", \"Topic5\", \"Topic5\", \"Topic5\", \"Topic5\", \"Topic5\", \"Topic5\", \"Topic5\", \"Topic5\", \"Topic5\", \"Topic5\", \"Topic5\", \"Topic5\", \"Topic5\", \"Topic5\", \"Topic6\", \"Topic6\", \"Topic6\", \"Topic6\", \"Topic6\", \"Topic6\", \"Topic6\", \"Topic6\", \"Topic6\", \"Topic6\", \"Topic6\", \"Topic6\", \"Topic6\", \"Topic6\", \"Topic6\", \"Topic6\", \"Topic6\", \"Topic6\", \"Topic6\", \"Topic6\", \"Topic6\", \"Topic6\", \"Topic6\", \"Topic6\", \"Topic6\", \"Topic6\", \"Topic6\", \"Topic6\", \"Topic6\", \"Topic6\", \"Topic6\", \"Topic6\", \"Topic6\", \"Topic6\", \"Topic6\", \"Topic6\", \"Topic6\", \"Topic6\", \"Topic6\", \"Topic6\", \"Topic6\", \"Topic6\", \"Topic6\", \"Topic6\", \"Topic6\", \"Topic6\", \"Topic6\", \"Topic6\", \"Topic6\", \"Topic6\", \"Topic6\", \"Topic6\", \"Topic6\", \"Topic6\", \"Topic6\", \"Topic6\", \"Topic6\", \"Topic7\", \"Topic7\", \"Topic7\", \"Topic7\", \"Topic7\", \"Topic7\", \"Topic7\", \"Topic7\", \"Topic7\", \"Topic7\", \"Topic7\", \"Topic7\", \"Topic7\", \"Topic7\", \"Topic7\", \"Topic7\", \"Topic7\", \"Topic7\", \"Topic7\", \"Topic7\", \"Topic7\", \"Topic7\", \"Topic7\", \"Topic7\", \"Topic7\", \"Topic7\", \"Topic7\", \"Topic7\", \"Topic7\", \"Topic7\", \"Topic7\", \"Topic7\", \"Topic7\", \"Topic7\", \"Topic7\", \"Topic7\", \"Topic7\", \"Topic7\", \"Topic7\", \"Topic7\", \"Topic7\", \"Topic7\", \"Topic7\", \"Topic7\", \"Topic7\", \"Topic7\", \"Topic7\", \"Topic7\", \"Topic7\", \"Topic7\", \"Topic7\", \"Topic7\", \"Topic7\", \"Topic7\", \"Topic7\", \"Topic7\", \"Topic7\", \"Topic7\"], \"logprob\": [30.0, 29.0, 28.0, 27.0, 26.0, 25.0, 24.0, 23.0, 22.0, 21.0, 20.0, 19.0, 18.0, 17.0, 16.0, 15.0, 14.0, 13.0, 12.0, 11.0, 10.0, 9.0, 8.0, 7.0, 6.0, 5.0, 4.0, 3.0, 2.0, 1.0, -4.8948, -5.1627, -5.553, -5.5448, -5.5439, -5.5434, -3.8753, -5.5417, -5.5392, -5.5389, -5.5388, -5.5383, -5.5369, -5.5367, -5.5359, -5.5357, -4.6402, -3.8741, -4.844, -6.1732, -6.173, -6.172, -6.1716, -6.1713, -6.171, -6.1708, -6.1705, -6.1705, -6.1703, -6.1703, -4.2689, -4.6018, -4.6015, -4.6012, -5.1028, -3.7904, -5.0836, -5.4599, -5.4556, -5.4591, -4.4889, -4.4406, -4.9698, -4.231, -4.2076, -4.2618, -4.3339, -4.9722, -4.5427, -4.5117, -4.6471, -4.7836, -4.8234, -5.0759, -5.0566, -5.1225, -4.9189, -5.0829, -5.476, -5.4756, -5.4638, -5.4581, -5.4573, -5.4573, -5.4569, -6.1064, -6.1064, -6.1055, -6.1054, -6.1052, -6.1052, -6.1049, -6.1049, -6.1047, -6.1043, -6.1042, -6.1041, -6.1041, -6.104, -6.1038, -6.1037, -6.1037, -6.1036, -6.1036, -6.1035, -6.1033, -6.1026, -4.3532, -4.954, -4.9569, -4.0395, -5.3761, -4.2404, -5.375, -3.7524, -5.374, -3.6941, -4.0186, -5.378, -5.3747, -4.0291, -4.0696, -4.86, -4.8562, -4.8407, -4.825, -4.2801, -4.7039, -5.2849, -4.7403, -4.5196, -4.3938, -4.7088, -4.6305, -4.9992, -5.0066, -5.071, -5.1117, -4.8565, -4.8717, -5.1057, -5.1811, -5.0644, -5.3342, -5.3318, -5.3312, -5.9626, -5.9614, -5.9613, -5.9612, -5.961, -5.9608, -5.9606, -5.9599, -5.9597, -5.9594, -5.9543, -5.9529, -5.9522, -5.9514, -5.9514, -5.9509, -5.9508, -5.9508, -5.9508, -5.9503, -5.9503, -5.9502, -5.9501, -5.95, -5.95, -5.9498, -5.9497, -4.8219, -4.0245, -4.7928, -4.7633, -4.0427, -4.0507, -4.142, -4.7257, -5.1548, -3.9989, -4.7018, -5.1591, -5.1412, -4.6056, -4.0271, -4.5305, -5.0708, -5.0653, -4.573, -5.1101, -5.1161, -5.1296, -4.4172, -5.0282, -5.1972, -4.8384, -4.4218, -4.5717, -4.4574, -4.5062, -4.9108, -4.8804, -5.0132, -5.0971, -4.9172, -5.3035, -5.2954, -5.2919, -5.9259, -5.9243, -5.924, -5.923, -5.9227, -5.9225, -5.9219, -5.921, -5.9197, -5.9186, -5.9198, -5.9184, -5.9184, -5.9194, -5.9194, -5.9193, -5.9181, -5.918, -5.9177, -5.9177, -5.9176, -5.9174, -5.9173, -5.9187, -5.9173, -5.9173, -4.5522, -4.3028, -5.2149, -4.7738, -4.2151, -3.9645, -5.1816, -4.4152, -3.7844, -4.657, -4.2684, -4.1616, -4.0936, -5.0812, -5.0895, -5.0993, -5.0017, -4.9481, -4.9872, -4.4678, -4.3939, -4.4786, -4.4067, -4.9658, -4.4299, -4.4778, -4.6267, -4.7774, -4.7737, -5.1683, -5.1833, -5.1643, -5.1577, -5.8033, -5.8033, -5.8033, -5.8033, -5.8033, -5.7847, -5.7846, -5.7846, -5.7843, -5.7842, -5.7838, -5.7836, -5.7836, -5.7835, -5.7835, -5.7834, -5.7834, -5.7833, -5.7833, -5.783, -5.7828, -5.7827, -5.7825, -5.7822, -5.782, -5.7817, -5.7813, -4.4401, -5.1019, -5.0731, -5.0765, -3.8277, -4.2273, -4.4234, -4.9784, -4.1441, -4.0823, -4.8901, -4.0863, -4.3949, -4.2812, -4.6947, -4.8694, -4.2936, -4.5448, -4.5437, -4.7526, -4.92, -5.0101, -5.0746, -5.1268, -5.1353, -5.2317, -4.8379, -5.05, -4.9945, -5.0718, -5.1622, -5.162, -5.1458, -5.1457, -5.1447, -5.7823, -5.7822, -5.7821, -5.7821, -5.7821, -5.7821, -5.7821, -5.7821, -5.7821, -5.7821, -5.782, -5.782, -5.782, -5.782, -5.782, -5.782, -5.782, -5.782, -5.782, -5.7819, -5.7818, -5.7654, -5.7646, -5.7643, -5.7642, -4.5599, -5.0131, -4.4293, -3.983, -5.0278, -4.0617, -3.957, -4.879, -4.2983, -4.7388, -4.3745, -4.7794, -4.3099, -4.2381, -4.2608, -4.802, -4.6012, -4.3221, -4.4582, -4.7322, -4.6556, -4.9538, -4.9895, -4.6697, -4.9628, -5.1062, -5.1447, -3.3794, -5.0857, -5.0842, -5.707, -5.7068, -5.7063, -5.7062, -5.7061, -5.7057, -5.7055, -5.7052, -5.7051, -5.7049, -5.7046, -5.7045, -5.7046, -5.7044, -5.7042, -5.7034, -5.7032, -5.7028, -5.7028, -5.7025, -5.7023, -5.7021, -5.7016, -5.7012, -5.5667, -5.5572, -5.5521, -4.3061, -4.8877, -4.4527, -3.6889, -3.7513, -3.9277, -4.1314, -4.0678, -4.1689, -4.0467, -4.2047, -4.5454, -4.6574, -4.4182, -4.6554, -4.8979, -4.9335, -4.6135, -4.9068, -5.0343, -4.7401, -5.0925, -5.1552, -5.1881, -5.1253, -5.1182, -5.148, -4.9179], \"loglift\": [30.0, 29.0, 28.0, 27.0, 26.0, 25.0, 24.0, 23.0, 22.0, 21.0, 20.0, 19.0, 18.0, 17.0, 16.0, 15.0, 14.0, 13.0, 12.0, 11.0, 10.0, 9.0, 8.0, 7.0, 6.0, 5.0, 4.0, 3.0, 2.0, 1.0, 1.1678, 1.1113, 1.0704, 1.0498, 1.0475, 1.0464, 1.0443, 1.0421, 1.0358, 1.0352, 1.0348, 1.0336, 1.0302, 1.0297, 1.0275, 1.0272, 1.0059, 0.9624, 0.9211, 0.9031, 0.9028, 0.9004, 0.8999, 0.899, 0.8986, 0.898, 0.8978, 0.8976, 0.8973, 0.8973, 0.8074, 0.8147, 0.8139, 0.8135, 0.8141, 0.4774, 0.6876, 0.7364, 0.7296, 0.7305, 0.4578, 0.3115, 0.5076, 0.0748, 0.0586, 0.0438, -0.2151, 0.406, -0.1345, -0.4966, -0.383, -0.2352, -0.4151, 0.0351, -0.0879, 0.0613, -0.5104, 1.2196, 1.1858, 1.1846, 1.1529, 1.1378, 1.1358, 1.1358, 1.1348, 1.0322, 1.0322, 1.0302, 1.0299, 1.0294, 1.0294, 1.0288, 1.0288, 1.0283, 1.0276, 1.0273, 1.0271, 1.0271, 1.0268, 1.0264, 1.0263, 1.0262, 1.026, 1.0259, 1.0257, 1.0253, 1.0238, 0.934, 0.7707, 0.764, 0.488, 0.8396, 0.5244, 0.8246, 0.3664, 0.8231, 0.321, 0.3897, 0.7897, 0.7844, 0.2351, 0.236, 0.5161, 0.4824, 0.4459, 0.4334, 0.0256, 0.2598, 0.5782, 0.2284, 0.0287, -0.1276, 0.0433, -0.222, 0.1118, 0.0951, 0.2118, 0.2463, -0.4484, -0.6039, 0.0964, 0.1972, -0.4182, 1.3768, 1.3696, 1.3678, 1.207, 1.2042, 1.2039, 1.2038, 1.2034, 1.2029, 1.2024, 1.2008, 1.2004, 1.1996, 1.1879, 1.1848, 1.1831, 1.1814, 1.1814, 1.1801, 1.18, 1.18, 1.1799, 1.1789, 1.1787, 1.1786, 1.1785, 1.1781, 1.1781, 1.1776, 1.1774, 0.8836, 0.6217, 0.7571, 0.7108, 0.3658, 0.3574, 0.3855, 0.5861, 0.7619, 0.1199, 0.5003, 0.7061, 0.6925, 0.3631, -0.012, 0.3061, 0.5983, 0.594, 0.179, 0.5656, 0.565, 0.553, -0.0088, 0.442, 0.574, 0.2302, -0.1556, -0.0234, -0.1517, -0.2006, 0.273, -0.6163, -0.7454, -0.1334, 1.4773, 1.4144, 1.3934, 1.3835, 1.2305, 1.2264, 1.2258, 1.2232, 1.2224, 1.2219, 1.2204, 1.2183, 1.2147, 1.2146, 1.2146, 1.2142, 1.2141, 1.2139, 1.2136, 1.2135, 1.2132, 1.2132, 1.2124, 1.2124, 1.2122, 1.2118, 1.2118, 1.2117, 1.2116, 1.2115, 1.0709, 0.9764, 1.049, 0.7725, 0.5497, 0.4439, 0.8866, 0.5315, 0.2307, 0.6317, 0.3778, 0.1062, 0.0252, 0.5945, 0.5916, 0.5754, 0.4685, 0.4099, 0.4411, -0.0592, -0.1277, -0.0704, -0.1426, 0.3728, -0.1242, -0.1723, -0.0993, -0.0254, -0.2253, -0.0667, 1.7785, 1.7064, 1.6826, 1.5327, 1.5327, 1.5327, 1.5327, 1.5327, 1.4807, 1.4806, 1.4806, 1.4799, 1.4793, 1.4785, 1.478, 1.4778, 1.4776, 1.4775, 1.4774, 1.4774, 1.477, 1.4769, 1.4763, 1.4758, 1.4755, 1.4749, 1.474, 1.4735, 1.4727, 1.4716, 1.329, 1.2647, 1.2419, 1.2032, 0.4365, 0.5375, 0.6452, 0.9849, 0.2645, 0.1839, 0.7718, 0.0325, 0.1534, 0.0245, 0.407, 0.5089, -0.2785, -0.1367, -0.2381, -0.1064, 0.0437, 0.1009, 0.1092, 0.162, 0.123, 0.3211, -0.5701, -0.1033, -0.5862, -0.5443, 1.8171, 1.8164, 1.7529, 1.7525, 1.7487, 1.5667, 1.5665, 1.5663, 1.5663, 1.5662, 1.5662, 1.5661, 1.5661, 1.5661, 1.5661, 1.5661, 1.5661, 1.566, 1.566, 1.566, 1.5659, 1.5659, 1.5659, 1.5658, 1.5656, 1.5655, 1.5182, 1.516, 1.5153, 1.5149, 1.0337, 1.0551, 0.6724, 0.3226, 1.0041, 0.2045, 0.0581, 0.7818, 0.1102, 0.544, 0.1738, 0.5786, 0.0982, 0.026, 0.0449, 0.5741, 0.3625, -0.0543, 0.0693, -0.0861, -0.2472, 0.1148, 0.1215, -0.5509, 0.0059, 0.1825, 0.1419, 2.2748, 1.846, 1.84, 1.6068, 1.6056, 1.6048, 1.6038, 1.6036, 1.6032, 1.6018, 1.6016, 1.6013, 1.6, 1.5997, 1.5996, 1.5989, 1.5986, 1.5986, 1.5963, 1.5958, 1.5947, 1.5946, 1.5937, 1.5931, 1.5926, 1.5912, 1.59, 1.0814, 1.0166, 1.0106, 0.9811, 0.946, 0.8339, 0.5789, 0.5129, 0.4805, 0.417, 0.3408, 0.0973, -0.0316, 0.101, 0.4183, 0.5264, 0.228, -0.1279, 0.1706, 0.1775, -0.4948, 0.0619, 0.2485, -0.4346, 0.2655, 0.3918, 0.4055, 0.2508, 0.2204, 0.2803, -0.5095]}, \"token.table\": {\"Topic\": [1, 2, 7, 2, 1, 6, 4, 5, 1, 2, 3, 3, 4, 5, 1, 2, 3, 5, 7, 4, 1, 5, 3, 4, 7, 1, 2, 3, 4, 5, 2, 1, 2, 3, 4, 5, 7, 2, 3, 2, 3, 4, 2, 1, 2, 3, 4, 5, 6, 7, 2, 2, 4, 3, 2, 1, 2, 1, 3, 4, 1, 2, 3, 4, 5, 6, 7, 4, 1, 1, 2, 3, 1, 3, 3, 1, 2, 3, 4, 5, 6, 7, 3, 3, 5, 3, 1, 2, 3, 4, 5, 6, 2, 3, 4, 2, 1, 3, 4, 1, 2, 3, 6, 7, 1, 2, 3, 4, 5, 6, 7, 3, 4, 2, 3, 5, 7, 1, 2, 3, 4, 5, 6, 1, 1, 2, 3, 4, 5, 6, 7, 1, 2, 3, 4, 1, 1, 6, 4, 4, 1, 2, 3, 4, 5, 6, 7, 1, 2, 3, 4, 5, 6, 7, 3, 1, 2, 4, 6, 2, 4, 1, 2, 3, 4, 7, 1, 2, 3, 4, 5, 6, 7, 1, 2, 3, 5, 6, 7, 1, 2, 3, 4, 7, 1, 1, 1, 6, 1, 3, 4, 1, 3, 2, 1, 2, 3, 4, 5, 6, 7, 1, 2, 2, 6, 3, 1, 6, 2, 5, 1, 2, 5, 1, 2, 3, 4, 5, 6, 7, 1, 2, 3, 4, 6, 7, 2, 1, 2, 3, 4, 6, 7, 3, 1, 6, 1, 2, 3, 4, 5, 6, 7, 1, 2, 4, 5, 6, 4, 1, 2, 3, 4, 5, 4, 7, 1, 1, 2, 3, 3, 1, 2, 3, 4, 5, 6, 1, 1, 2, 3, 4, 6, 7, 2, 2, 4, 4, 2, 1, 2, 3, 4, 5, 7, 4, 4, 4, 5, 6, 1, 2, 3, 1, 3, 4, 3, 2, 3, 3, 2, 5, 1, 2, 3, 4, 5, 6, 7, 1, 3, 4, 1, 2, 3, 4, 5, 6, 7, 4, 1, 2, 3, 4, 6, 7, 3, 2, 1, 5, 1, 1, 2, 3, 4, 2, 1, 4, 1, 2, 3, 4, 5, 6, 7, 1, 2, 3, 4, 5, 6, 7, 4, 1, 2, 3, 4, 1, 3, 4, 4, 2, 1, 3, 7, 1, 2, 3, 4, 5, 6, 2, 3, 4, 1, 2, 3, 4, 6, 4, 4, 4, 1, 3, 1, 3, 4, 6, 1, 1, 2, 3, 4, 5, 6, 7, 3, 4, 4, 1, 2, 3, 4, 5, 6, 7, 1, 4, 3, 3, 5, 3, 4, 2, 2, 4, 2, 1, 1, 2, 3, 4, 5, 1, 1, 2, 3, 1, 2, 3, 4, 5, 6, 7, 2, 6, 7, 2, 6, 2, 3, 1, 2, 3, 4, 1, 1, 2, 3, 4, 5, 6, 7, 3, 1, 5, 2, 6, 6, 2, 2, 1, 2, 4, 6, 4, 7, 3, 4, 3, 4, 1, 2, 3, 4, 3, 2, 4, 5, 3, 1, 1, 2, 5, 6, 2, 2, 3, 2, 1, 2, 3, 4, 5, 6, 7, 1, 5, 7], \"Freq\": [0.13928776486133382, 0.5571510594453353, 0.27857552972266764, 0.8796525496467554, 0.29332529547774655, 0.29332529547774655, 0.3892894043055417, 0.3892894043055417, 0.6213093005099125, 0.08875847150141608, 0.17751694300283216, 0.9096789433882524, 0.3699397920336319, 0.3699397920336319, 0.3369296843029058, 0.1684648421514529, 0.1684648421514529, 0.1684648421514529, 0.1684648421514529, 0.8795577871070382, 0.34339305325734043, 0.34339305325734043, 0.2614143312290936, 0.2614143312290936, 0.2614143312290936, 0.13532339096922835, 0.2706467819384567, 0.13532339096922835, 0.13532339096922835, 0.13532339096922835, 0.8782891584999684, 0.2020740429779958, 0.2020740429779958, 0.2020740429779958, 0.2020740429779958, 0.2020740429779958, 0.2020740429779958, 0.8827011572124603, 0.8778016709652484, 0.3359787600194429, 0.3359787600194429, 0.8795782984577889, 0.8834996616599675, 0.0826109468778094, 0.3304437875112376, 0.0826109468778094, 0.2478328406334282, 0.1652218937556188, 0.0826109468778094, 0.0826109468778094, 0.5155510547823191, 0.8795083809730653, 0.49873026715014457, 0.8782947423804502, 0.876345920619655, 0.5228627143817347, 0.26143135719086735, 0.20653557472981013, 0.20653557472981013, 0.20653557472981013, 0.35179837494899563, 0.10051382141399876, 0.05025691070699938, 0.15077073212099812, 0.05025691070699938, 0.10051382141399876, 0.15077073212099812, 0.8978190349914998, 0.8262788630428738, 0.6750893723133233, 0.09644133890190333, 0.09644133890190333, 0.830298259435567, 0.884195154732035, 0.9089950838784955, 0.22385915816253554, 0.11192957908126777, 0.22385915816253554, 0.11192957908126777, 0.22385915816253554, 0.11192957908126777, 0.11192957908126777, 0.9108457996701778, 0.8820199754095887, 0.6786069002651931, 0.8803426580690094, 0.3963684605728902, 0.09909211514322255, 0.09909211514322255, 0.1981842302864451, 0.09909211514322255, 0.09909211514322255, 0.20541862706182862, 0.20541862706182862, 0.20541862706182862, 0.8834991207003897, 0.41043310763248536, 0.20521655381624268, 0.20521655381624268, 0.18060244942784565, 0.18060244942784565, 0.18060244942784565, 0.18060244942784565, 0.18060244942784565, 0.20259283955412072, 0.20259283955412072, 0.20259283955412072, 0.10129641977706036, 0.10129641977706036, 0.10129641977706036, 0.10129641977706036, 0.5728920090177516, 0.878470831920133, 0.5263605864158943, 0.24057947498140067, 0.24057947498140067, 0.24057947498140067, 0.11570246984551014, 0.23140493969102027, 0.11570246984551014, 0.11570246984551014, 0.11570246984551014, 0.23140493969102027, 0.8330431550970404, 0.2609486940464885, 0.2609486940464885, 0.10437947761859541, 0.10437947761859541, 0.052189738809297705, 0.10437947761859541, 0.052189738809297705, 0.25584264742477286, 0.25584264742477286, 0.25584264742477286, 0.12792132371238643, 0.5009244779282807, 0.8262953802580111, 0.7557724938662477, 0.4215196388559799, 0.8818147630990006, 0.0651595093118457, 0.32579754655922855, 0.1954785279355371, 0.1303190186236914, 0.0651595093118457, 0.1303190186236914, 0.0651595093118457, 0.25121493689829816, 0.12560746844914908, 0.25121493689829816, 0.12560746844914908, 0.12560746844914908, 0.12560746844914908, 0.12560746844914908, 0.9113246061784116, 0.8266524196839676, 0.2477502643126431, 0.2477502643126431, 0.2477502643126431, 0.8841775553595087, 0.8877704416739275, 0.14663951130080968, 0.29327902260161937, 0.14663951130080968, 0.14663951130080968, 0.14663951130080968, 0.25086939130814, 0.20069551304651198, 0.15052163478488398, 0.15052163478488398, 0.10034775652325599, 0.10034775652325599, 0.10034775652325599, 0.189221749192935, 0.189221749192935, 0.189221749192935, 0.189221749192935, 0.189221749192935, 0.189221749192935, 0.32077211108409526, 0.16038605554204763, 0.16038605554204763, 0.16038605554204763, 0.16038605554204763, 0.8285255030730209, 0.6049056462762129, 0.34190713878046014, 0.34190713878046014, 0.5299502019902577, 0.8783771373795347, 0.8783868574546224, 0.4519779887019064, 0.2259889943509532, 0.8871201433097543, 0.1731909855002851, 0.30308422462549894, 0.1731909855002851, 0.12989323912521383, 0.08659549275014256, 0.04329774637507128, 0.04329774637507128, 0.8295064190253396, 0.8805302128698446, 0.8805310122987905, 0.6978330508974457, 0.8786062948325335, 0.3457212185654397, 0.3457212185654397, 0.40990154819348157, 0.40990154819348157, 0.30513636485541684, 0.30513636485541684, 0.15256818242770842, 0.15613827148524728, 0.27324197509918274, 0.15613827148524728, 0.1951728393565591, 0.07806913574262364, 0.11710370361393546, 0.07806913574262364, 0.1495124850593641, 0.2990249701187282, 0.1495124850593641, 0.1495124850593641, 0.1495124850593641, 0.1495124850593641, 0.5497992612453753, 0.13920607156370268, 0.27841214312740536, 0.13920607156370268, 0.13920607156370268, 0.13920607156370268, 0.13920607156370268, 0.8802415531982593, 0.8334862031983022, 0.7564643367101881, 0.07337097565163929, 0.14674195130327858, 0.29348390260655716, 0.22011292695491788, 0.07337097565163929, 0.07337097565163929, 0.07337097565163929, 0.20262128820159067, 0.20262128820159067, 0.20262128820159067, 0.20262128820159067, 0.20262128820159067, 0.5824441819118981, 0.13817844394443068, 0.13817844394443068, 0.13817844394443068, 0.41453533183329205, 0.13817844394443068, 0.892863721240582, 0.721287645269164, 0.5033730328335241, 0.4749973136401637, 0.15833243788005458, 0.15833243788005458, 0.9109999565299354, 0.13950425335495123, 0.13950425335495123, 0.13950425335495123, 0.27900850670990246, 0.13950425335495123, 0.13950425335495123, 0.5124113036189604, 0.1386713916198101, 0.2773427832396202, 0.1386713916198101, 0.1386713916198101, 0.1386713916198101, 0.1386713916198101, 0.8793980193361682, 0.8821535723029795, 0.8798294930971445, 0.8833469590716888, 0.8801270782239885, 0.20406957442773258, 0.20406957442773258, 0.20406957442773258, 0.20406957442773258, 0.20406957442773258, 0.20406957442773258, 0.8821275263213112, 0.8823605822723222, 0.2738783930922887, 0.2738783930922887, 0.2738783930922887, 0.4755304815617865, 0.1585101605205955, 0.1585101605205955, 0.2482740843662819, 0.2482740843662819, 0.2482740843662819, 0.8788177397175212, 0.8787789929780503, 0.87691917684377, 0.8819648038173662, 0.22553043499839143, 0.45106086999678285, 0.19959631202343897, 0.19959631202343897, 0.13306420801562596, 0.13306420801562596, 0.13306420801562596, 0.13306420801562596, 0.13306420801562596, 0.3609491501230923, 0.18047457506154616, 0.3609491501230923, 0.11570428131166895, 0.1735564219675034, 0.2314085626233379, 0.11570428131166895, 0.11570428131166895, 0.11570428131166895, 0.11570428131166895, 0.8832917394560613, 0.152241766478333, 0.304483532956666, 0.152241766478333, 0.152241766478333, 0.152241766478333, 0.152241766478333, 0.9102573474664599, 0.5506780505988588, 0.5132540936165132, 0.6583153304155132, 0.5048540596406422, 0.5640094202170384, 0.22560376808681532, 0.11280188404340766, 0.11280188404340766, 0.8845583522422801, 0.8268709171681113, 0.8806224972578598, 0.2015820698202196, 0.30237310473032936, 0.1007910349101098, 0.1007910349101098, 0.1007910349101098, 0.1007910349101098, 0.1007910349101098, 0.3262552672478821, 0.2446914504359116, 0.16312763362394106, 0.16312763362394106, 0.08156381681197053, 0.08156381681197053, 0.08156381681197053, 0.8971466374400506, 0.16791342755179922, 0.16791342755179922, 0.33582685510359844, 0.16791342755179922, 0.6738655734969816, 0.2246218578323272, 0.5657385461710438, 0.8823991133015682, 0.8812090606182332, 0.36225390369126803, 0.36225390369126803, 0.18112695184563402, 0.18166513781211555, 0.18166513781211555, 0.18166513781211555, 0.18166513781211555, 0.18166513781211555, 0.18166513781211555, 0.21162619849859787, 0.42325239699719575, 0.21162619849859787, 0.20237852855908786, 0.20237852855908786, 0.20237852855908786, 0.20237852855908786, 0.20237852855908786, 0.8903868964056286, 0.8938141473103054, 0.8805385679103064, 0.5044557747529678, 0.578439973825778, 0.4136801041244032, 0.2068400520622016, 0.2068400520622016, 0.6941546120864533, 0.5148858753558826, 0.15022319424490116, 0.2503719904081686, 0.10014879616326744, 0.10014879616326744, 0.15022319424490116, 0.10014879616326744, 0.15022319424490116, 0.8802314905316516, 0.5042591686930409, 0.89232529444055, 0.17348915878138105, 0.11565943918758735, 0.2313188783751747, 0.11565943918758735, 0.057829719593793676, 0.11565943918758735, 0.11565943918758735, 0.5005891942093652, 0.8788080015034784, 0.9068870498341746, 0.9063623368152501, 0.7433019141776569, 0.9053823015613138, 0.9029733224524984, 0.8870457022747607, 0.8789717199761826, 0.8816605669409421, 0.8808182852543271, 0.504160002013682, 0.16726821147765036, 0.16726821147765036, 0.16726821147765036, 0.16726821147765036, 0.16726821147765036, 0.4988442578270173, 0.4747179116776138, 0.15823930389253793, 0.15823930389253793, 0.26099289220784566, 0.20879431376627655, 0.1565957353247074, 0.10439715688313828, 0.10439715688313828, 0.10439715688313828, 0.10439715688313828, 0.43147877558444225, 0.21573938779222113, 0.21573938779222113, 0.3468533238152254, 0.3468533238152254, 0.35248529679017415, 0.8771930179725512, 0.28552244057195264, 0.14276122028597632, 0.28552244057195264, 0.14276122028597632, 0.8279457517843554, 0.17352478921349854, 0.28920798202249753, 0.17352478921349854, 0.23136638561799805, 0.05784159640449951, 0.05784159640449951, 0.05784159640449951, 0.5715443646890708, 0.5982902943988956, 0.1994300981329652, 0.3460092025939336, 0.3460092025939336, 0.697506945701473, 0.8791544610404176, 0.7689095978885938, 0.8272621478112014, 0.8827882140464502, 0.304151109325469, 0.304151109325469, 0.5581937336408377, 0.7158984857836823, 0.8778525254482805, 0.878720884874871, 0.8863342497144739, 0.881980953831988, 0.5093174953324475, 0.33308275868112697, 0.33308275868112697, 0.8793115500247142, 0.8902645135904299, 0.19490238871554194, 0.3898047774310839, 0.19490238871554194, 0.8800739147510468, 0.49907002631965847, 0.7473307216958097, 0.42986483408435805, 0.21493241704217902, 0.21493241704217902, 0.5141196350283976, 0.5133856875612067, 0.915008029657695, 0.5141357826972365, 0.23357198997865714, 0.23357198997865714, 0.11678599498932857, 0.11678599498932857, 0.11678599498932857, 0.11678599498932857, 0.11678599498932857, 0.3758080190920665, 0.3758080190920665, 0.8042018679481057], \"Term\": [\"\", \"\", \"\", \"           \", \"\\\"\", \"\\\"\", \"+\", \"+\", \"-\", \"-\", \"-\", \"..\", \"/\", \"/\", \"1\", \"1\", \"1\", \"1\", \"1\", \"10\", \"15\", \"15\", \"199\", \"199\", \"199\", \"2\", \"2\", \"2\", \"2\", \"2\", \"21\", \"3\", \"3\", \"3\", \"3\", \"3\", \"3\", \"30\", \"39\", \"555\", \"555\", \"6\", \"9\", \":\", \":\", \":\", \":\", \":\", \":\", \":\", \"::\", \"Terminal\", \"VAT\", \"^^\", \"net\", \"\\u0e01\\u0e25\\u0e31\\u0e1a\\u0e21\\u0e32\", \"\\u0e01\\u0e25\\u0e31\\u0e1a\\u0e21\\u0e32\", \"\\u0e01\\u0e30\\u0e1b\\u0e34\", \"\\u0e01\\u0e30\\u0e1b\\u0e34\", \"\\u0e01\\u0e30\\u0e1b\\u0e34\", \"\\u0e01\\u0e34\\u0e19\", \"\\u0e01\\u0e34\\u0e19\", \"\\u0e01\\u0e34\\u0e19\", \"\\u0e01\\u0e34\\u0e19\", \"\\u0e01\\u0e34\\u0e19\", \"\\u0e01\\u0e34\\u0e19\", \"\\u0e01\\u0e34\\u0e19\", \"\\u0e01\\u0e34\\u0e19\\u0e17\\u0e35\\u0e48\", \"\\u0e01\\u0e35\\u0e48\", \"\\u0e01\\u0e38\\u0e49\\u0e07\", \"\\u0e01\\u0e38\\u0e49\\u0e07\", \"\\u0e01\\u0e38\\u0e49\\u0e07\", \"\\u0e02\\u0e19\\u0e21\", \"\\u0e02\\u0e19\\u0e32\\u0e14\", \"\\u0e02\\u0e2d\\u0e07\\u0e01\\u0e34\\u0e19\", \"\\u0e02\\u0e2d\\u0e07\\u0e2b\\u0e27\\u0e32\\u0e19\", \"\\u0e02\\u0e2d\\u0e07\\u0e2b\\u0e27\\u0e32\\u0e19\", \"\\u0e02\\u0e2d\\u0e07\\u0e2b\\u0e27\\u0e32\\u0e19\", \"\\u0e02\\u0e2d\\u0e07\\u0e2b\\u0e27\\u0e32\\u0e19\", \"\\u0e02\\u0e2d\\u0e07\\u0e2b\\u0e27\\u0e32\\u0e19\", \"\\u0e02\\u0e2d\\u0e07\\u0e2b\\u0e27\\u0e32\\u0e19\", \"\\u0e02\\u0e2d\\u0e07\\u0e2b\\u0e27\\u0e32\\u0e19\", \"\\u0e02\\u0e32\", \"\\u0e02\\u0e49\\u0e19\", \"\\u0e02\\u0e49\\u0e32\\u0e27\", \"\\u0e02\\u0e49\\u0e32\\u0e27\\u0e1b\\u0e31\\u0e49\\u0e19\", \"\\u0e04\\u0e19\", \"\\u0e04\\u0e19\", \"\\u0e04\\u0e19\", \"\\u0e04\\u0e19\", \"\\u0e04\\u0e19\", \"\\u0e04\\u0e19\", \"\\u0e04\\u0e19\\u0e25\\u0e30\", \"\\u0e04\\u0e19\\u0e25\\u0e30\", \"\\u0e04\\u0e19\\u0e25\\u0e30\", \"\\u0e04\\u0e34\\u0e14\\u0e16\\u0e36\\u0e07\", \"\\u0e04\\u0e34\\u0e27\", \"\\u0e04\\u0e34\\u0e27\", \"\\u0e04\\u0e34\\u0e27\", \"\\u0e04\\u0e38\\u0e13\\u0e20\\u0e32\\u0e1e\", \"\\u0e04\\u0e38\\u0e13\\u0e20\\u0e32\\u0e1e\", \"\\u0e04\\u0e38\\u0e13\\u0e20\\u0e32\\u0e1e\", \"\\u0e04\\u0e38\\u0e13\\u0e20\\u0e32\\u0e1e\", \"\\u0e04\\u0e38\\u0e13\\u0e20\\u0e32\\u0e1e\", \"\\u0e04\\u0e38\\u0e49\\u0e21\", \"\\u0e04\\u0e38\\u0e49\\u0e21\", \"\\u0e04\\u0e38\\u0e49\\u0e21\", \"\\u0e04\\u0e38\\u0e49\\u0e21\", \"\\u0e04\\u0e38\\u0e49\\u0e21\", \"\\u0e04\\u0e38\\u0e49\\u0e21\", \"\\u0e04\\u0e38\\u0e49\\u0e21\", \"\\u0e04\\u0e48\\u0e32\", \"\\u0e04\\u0e48\\u0e32\\u0e19\\u0e49\\u0e33\", \"\\u0e08\\u0e34\\u0e49\\u0e21\", \"\\u0e08\\u0e48\\u0e32\\u0e22\", \"\\u0e08\\u0e48\\u0e32\\u0e22\", \"\\u0e08\\u0e48\\u0e32\\u0e22\", \"\\u0e0a\\u0e2d\\u0e1a\", \"\\u0e0a\\u0e2d\\u0e1a\", \"\\u0e0a\\u0e2d\\u0e1a\", \"\\u0e0a\\u0e2d\\u0e1a\", \"\\u0e0a\\u0e2d\\u0e1a\", \"\\u0e0a\\u0e2d\\u0e1a\", \"\\u0e0a\\u0e31\\u0e48\\u0e27\\u0e04\\u0e23\\u0e32\\u0e27\", \"\\u0e0a\\u0e32\\u0e1a\\u0e39\", \"\\u0e0a\\u0e32\\u0e1a\\u0e39\", \"\\u0e0a\\u0e32\\u0e1a\\u0e39\", \"\\u0e0a\\u0e32\\u0e1a\\u0e39\", \"\\u0e0a\\u0e32\\u0e1a\\u0e39\", \"\\u0e0a\\u0e32\\u0e1a\\u0e39\", \"\\u0e0a\\u0e32\\u0e1a\\u0e39\", \"\\u0e0a\\u0e34\", \"\\u0e0a\\u0e34\", \"\\u0e0a\\u0e34\", \"\\u0e0a\\u0e34\", \"\\u0e0a\\u0e37\\u0e48\\u0e19\", \"\\u0e0a\\u0e37\\u0e48\\u0e19\\u0e43\\u0e08\", \"\\u0e0a\\u0e37\\u0e48\\u0e2d\", \"\\u0e0a\\u0e38\\u0e14\", \"\\u0e0b\\u0e35\", \"\\u0e0b\\u0e38\\u0e1b\", \"\\u0e0b\\u0e38\\u0e1b\", \"\\u0e0b\\u0e38\\u0e1b\", \"\\u0e0b\\u0e38\\u0e1b\", \"\\u0e0b\\u0e38\\u0e1b\", \"\\u0e0b\\u0e38\\u0e1b\", \"\\u0e0b\\u0e38\\u0e1b\", \"\\u0e0b\\u0e39\\u0e0a\\u0e34\", \"\\u0e0b\\u0e39\\u0e0a\\u0e34\", \"\\u0e0b\\u0e39\\u0e0a\\u0e34\", \"\\u0e0b\\u0e39\\u0e0a\\u0e34\", \"\\u0e0b\\u0e39\\u0e0a\\u0e34\", \"\\u0e0b\\u0e39\\u0e0a\\u0e34\", \"\\u0e0b\\u0e39\\u0e0a\\u0e34\", \"\\u0e0b\\u0e48\\u0e32\", \"\\u0e0d\\u0e35\\u0e48\", \"\\u0e0d\\u0e35\\u0e48\\u0e1b\\u0e38\\u0e48\\u0e19\", \"\\u0e0d\\u0e35\\u0e48\\u0e1b\\u0e38\\u0e48\\u0e19\", \"\\u0e0d\\u0e35\\u0e48\\u0e1b\\u0e38\\u0e48\\u0e19\", \"\\u0e10\\u0e32\\u0e19\", \"\\u0e13\\u0e4c\", \"\\u0e14\\u0e33\", \"\\u0e14\\u0e33\", \"\\u0e14\\u0e33\", \"\\u0e14\\u0e33\", \"\\u0e14\\u0e33\", \"\\u0e14\\u0e35\", \"\\u0e14\\u0e35\", \"\\u0e14\\u0e35\", \"\\u0e14\\u0e35\", \"\\u0e14\\u0e35\", \"\\u0e14\\u0e35\", \"\\u0e14\\u0e35\", \"\\u0e14\\u0e35\\u0e21\\u0e32\\u0e01\", \"\\u0e14\\u0e35\\u0e21\\u0e32\\u0e01\", \"\\u0e14\\u0e35\\u0e21\\u0e32\\u0e01\", \"\\u0e14\\u0e35\\u0e21\\u0e32\\u0e01\", \"\\u0e14\\u0e35\\u0e21\\u0e32\\u0e01\", \"\\u0e14\\u0e35\\u0e21\\u0e32\\u0e01\", \"\\u0e14\\u0e39\", \"\\u0e14\\u0e39\", \"\\u0e14\\u0e39\", \"\\u0e14\\u0e39\", \"\\u0e14\\u0e39\", \"\\u0e15\\u0e31\\u0e14\\u0e2a\\u0e34\\u0e19\\u0e43\\u0e08\", \"\\u0e15\\u0e31\\u0e27\", \"\\u0e15\\u0e34\\u0e14\", \"\\u0e15\\u0e34\\u0e14\", \"\\u0e15\\u0e48\\u0e32\\u0e07 \\u0e46\", \"\\u0e15\\u0e49\\u0e21\", \"\\u0e16\\u0e39\\u0e01\\u0e2b\\u0e27\\u0e22\", \"\\u0e17\\u0e2d\\u0e14\", \"\\u0e17\\u0e2d\\u0e14\", \"\\u0e17\\u0e30\\u0e22\\u0e2d\\u0e22\", \"\\u0e17\\u0e32\\u0e19\", \"\\u0e17\\u0e32\\u0e19\", \"\\u0e17\\u0e32\\u0e19\", \"\\u0e17\\u0e32\\u0e19\", \"\\u0e17\\u0e32\\u0e19\", \"\\u0e17\\u0e32\\u0e19\", \"\\u0e17\\u0e32\\u0e19\", \"\\u0e17\\u0e32\\u0e19\\u0e2d\\u0e32\\u0e2b\\u0e32\\u0e23\", \"\\u0e17\\u0e33\\u0e07\\u0e32\\u0e19\", \"\\u0e17\\u0e35\\u0e48\\u0e17\\u0e32\\u0e07\", \"\\u0e19\", \"\\u0e19\\u0e21\", \"\\u0e19\\u0e30\\u0e04\\u0e30\", \"\\u0e19\\u0e30\\u0e04\\u0e30\", \"\\u0e19\\u0e36\\u0e01\\u0e16\\u0e36\\u0e07\", \"\\u0e19\\u0e36\\u0e01\\u0e16\\u0e36\\u0e07\", \"\\u0e19\\u0e38\\u0e48\\u0e21\", \"\\u0e19\\u0e38\\u0e48\\u0e21\", \"\\u0e19\\u0e38\\u0e48\\u0e21\", \"\\u0e19\\u0e49\\u0e33\", \"\\u0e19\\u0e49\\u0e33\", \"\\u0e19\\u0e49\\u0e33\", \"\\u0e19\\u0e49\\u0e33\", \"\\u0e19\\u0e49\\u0e33\", \"\\u0e19\\u0e49\\u0e33\", \"\\u0e19\\u0e49\\u0e33\", \"\\u0e19\\u0e49\\u0e33\\u0e08\\u0e34\\u0e49\\u0e21\", \"\\u0e19\\u0e49\\u0e33\\u0e08\\u0e34\\u0e49\\u0e21\", \"\\u0e19\\u0e49\\u0e33\\u0e08\\u0e34\\u0e49\\u0e21\", \"\\u0e19\\u0e49\\u0e33\\u0e08\\u0e34\\u0e49\\u0e21\", \"\\u0e19\\u0e49\\u0e33\\u0e08\\u0e34\\u0e49\\u0e21\", \"\\u0e19\\u0e49\\u0e33\\u0e08\\u0e34\\u0e49\\u0e21\", \"\\u0e19\\u0e4d\\u0e49\\u0e32\", \"\\u0e1a\\u0e23\\u0e34\\u0e01\\u0e32\\u0e23\", \"\\u0e1a\\u0e23\\u0e34\\u0e01\\u0e32\\u0e23\", \"\\u0e1a\\u0e23\\u0e34\\u0e01\\u0e32\\u0e23\", \"\\u0e1a\\u0e23\\u0e34\\u0e01\\u0e32\\u0e23\", \"\\u0e1a\\u0e23\\u0e34\\u0e01\\u0e32\\u0e23\", \"\\u0e1a\\u0e23\\u0e34\\u0e01\\u0e32\\u0e23\", \"\\u0e1a\\u0e23\\u0e34\\u0e40\\u0e27\\u0e13\", \"\\u0e1a\\u0e31\\u0e15\\u0e23\\u0e40\\u0e04\\u0e23\\u0e14\\u0e34\\u0e15\", \"\\u0e1a\\u0e32\\u0e07\\u0e2a\\u0e48\\u0e27\\u0e19\", \"\\u0e1a\\u0e32\\u0e17\", \"\\u0e1a\\u0e32\\u0e17\", \"\\u0e1a\\u0e32\\u0e17\", \"\\u0e1a\\u0e32\\u0e17\", \"\\u0e1a\\u0e32\\u0e17\", \"\\u0e1a\\u0e32\\u0e17\", \"\\u0e1a\\u0e32\\u0e17\", \"\\u0e1a\\u0e38\", \"\\u0e1a\\u0e38\", \"\\u0e1a\\u0e38\", \"\\u0e1a\\u0e38\", \"\\u0e1a\\u0e38\", \"\\u0e1a\\u0e38\\u0e1f\\u0e40\\u0e1f\\u0e15\\u0e4c\", \"\\u0e1a\\u0e38\\u0e1f\\u0e40\\u0e1f\\u0e48\\u0e15\\u0e4c\", \"\\u0e1a\\u0e38\\u0e1f\\u0e40\\u0e1f\\u0e48\\u0e15\\u0e4c\", \"\\u0e1a\\u0e38\\u0e1f\\u0e40\\u0e1f\\u0e48\\u0e15\\u0e4c\", \"\\u0e1a\\u0e38\\u0e1f\\u0e40\\u0e1f\\u0e48\\u0e15\\u0e4c\", \"\\u0e1a\\u0e38\\u0e1f\\u0e40\\u0e1f\\u0e48\\u0e15\\u0e4c\", \"\\u0e1b\", \"\\u0e1b\\u0e23\\u0e30\\u0e17\\u0e31\\u0e1a\\u0e43\\u0e08\", \"\\u0e1b\\u0e2d\\u0e01\\u0e40\\u0e1b\\u0e25\\u0e37\\u0e2d\\u0e01\", \"\\u0e1b\\u0e38\\u0e23\\u0e30\", \"\\u0e1b\\u0e38\\u0e23\\u0e30\", \"\\u0e1b\\u0e38\\u0e23\\u0e30\", \"\\u0e1b\\u0e39\\u0e2d\\u0e31\\u0e14\", \"\\u0e1c\\u0e31\\u0e01\", \"\\u0e1c\\u0e31\\u0e01\", \"\\u0e1c\\u0e31\\u0e01\", \"\\u0e1c\\u0e31\\u0e01\", \"\\u0e1c\\u0e31\\u0e01\", \"\\u0e1c\\u0e31\\u0e01\", \"\\u0e1c\\u0e34\\u0e14\\u0e2b\\u0e27\\u0e31\\u0e07\", \"\\u0e1e\\u0e19\\u0e31\\u0e01\\u0e07\\u0e32\\u0e19\", \"\\u0e1e\\u0e19\\u0e31\\u0e01\\u0e07\\u0e32\\u0e19\", \"\\u0e1e\\u0e19\\u0e31\\u0e01\\u0e07\\u0e32\\u0e19\", \"\\u0e1e\\u0e19\\u0e31\\u0e01\\u0e07\\u0e32\\u0e19\", \"\\u0e1e\\u0e19\\u0e31\\u0e01\\u0e07\\u0e32\\u0e19\", \"\\u0e1e\\u0e19\\u0e31\\u0e01\\u0e07\\u0e32\\u0e19\", \"\\u0e1e\\u0e23\\u0e30\\u0e23\\u0e32\\u0e21\", \"\\u0e1e\\u0e23\\u0e35\\u0e40\\u0e21\\u0e35\\u0e22\\u0e21\", \"\\u0e1e\\u0e25\\u0e32\\u0e14\", \"\\u0e1e\\u0e2d\\u0e44\\u0e14\\u0e49\", \"\\u0e1e\\u0e32\\u0e23\\u0e32\\u0e44\\u0e14\\u0e0b\\u0e4c\", \"\\u0e1e\\u0e34\\u0e0b\\u0e0b\\u0e48\\u0e32\", \"\\u0e1e\\u0e34\\u0e0b\\u0e0b\\u0e48\\u0e32\", \"\\u0e1e\\u0e34\\u0e0b\\u0e0b\\u0e48\\u0e32\", \"\\u0e1e\\u0e34\\u0e0b\\u0e0b\\u0e48\\u0e32\", \"\\u0e1e\\u0e34\\u0e0b\\u0e0b\\u0e48\\u0e32\", \"\\u0e1e\\u0e34\\u0e0b\\u0e0b\\u0e48\\u0e32\", \"\\u0e1e\\u0e35\\u0e48\", \"\\u0e1f\\u0e23\\u0e35\", \"\\u0e1f\\u0e40\\u0e1f\\u0e48\", \"\\u0e1f\\u0e40\\u0e1f\\u0e48\", \"\\u0e1f\\u0e40\\u0e1f\\u0e48\", \"\\u0e21\", \"\\u0e21\", \"\\u0e21\", \"\\u0e21\\u0e2d\\u0e25\\u0e25\\u0e4c\", \"\\u0e21\\u0e2d\\u0e25\\u0e25\\u0e4c\", \"\\u0e21\\u0e2d\\u0e25\\u0e25\\u0e4c\", \"\\u0e21\\u0e32\\u0e01\\u0e02\\u0e36\\u0e49\\u0e19\", \"\\u0e21\\u0e32\\u0e15\\u0e23\\u0e32\", \"\\u0e22\\u0e2d\\u0e14\", \"\\u0e22\\u0e39\", \"\\u0e23\\u0e2a\", \"\\u0e23\\u0e2a\", \"\\u0e23\\u0e2a\\u0e0a\\u0e32\\u0e15\\u0e34\", \"\\u0e23\\u0e2a\\u0e0a\\u0e32\\u0e15\\u0e34\", \"\\u0e23\\u0e2a\\u0e0a\\u0e32\\u0e15\\u0e34\", \"\\u0e23\\u0e2a\\u0e0a\\u0e32\\u0e15\\u0e34\", \"\\u0e23\\u0e2a\\u0e0a\\u0e32\\u0e15\\u0e34\", \"\\u0e23\\u0e2a\\u0e0a\\u0e32\\u0e15\\u0e34\", \"\\u0e23\\u0e2a\\u0e0a\\u0e32\\u0e15\\u0e34\", \"\\u0e23\\u0e2d\", \"\\u0e23\\u0e2d\", \"\\u0e23\\u0e2d\", \"\\u0e23\\u0e32\\u0e04\\u0e32\", \"\\u0e23\\u0e32\\u0e04\\u0e32\", \"\\u0e23\\u0e32\\u0e04\\u0e32\", \"\\u0e23\\u0e32\\u0e04\\u0e32\", \"\\u0e23\\u0e32\\u0e04\\u0e32\", \"\\u0e23\\u0e32\\u0e04\\u0e32\", \"\\u0e23\\u0e32\\u0e04\\u0e32\", \"\\u0e23\\u0e49\\u0e2d\\u0e22\", \"\\u0e25\\u0e2d\\u0e07\", \"\\u0e25\\u0e2d\\u0e07\", \"\\u0e25\\u0e2d\\u0e07\", \"\\u0e25\\u0e2d\\u0e07\", \"\\u0e25\\u0e2d\\u0e07\", \"\\u0e25\\u0e2d\\u0e07\", \"\\u0e25\\u0e30\\u0e25\\u0e32\\u0e19\\u0e15\\u0e32\", \"\\u0e25\\u0e39\\u0e01\\u0e04\\u0e49\\u0e32\", \"\\u0e25\\u0e39\\u0e01\\u0e0a\\u0e34\\u0e49\\u0e19\", \"\\u0e27\", \"\\u0e27\\u0e32\\u0e19\\u0e34\\u0e25\\u0e32\", \"\\u0e2a\\u0e14\", \"\\u0e2a\\u0e14\", \"\\u0e2a\\u0e14\", \"\\u0e2a\\u0e14\", \"\\u0e2a\\u0e21\\u0e32\\u0e17\\u0e32\\u0e19\", \"\\u0e2a\\u0e21\\u0e43\\u0e08\", \"\\u0e2a\\u0e31\\u0e1b\\u0e14\\u0e32\\u0e2b\\u0e4c\", \"\\u0e2a\\u0e31\\u0e48\\u0e07\", \"\\u0e2a\\u0e31\\u0e48\\u0e07\", \"\\u0e2a\\u0e31\\u0e48\\u0e07\", \"\\u0e2a\\u0e31\\u0e48\\u0e07\", \"\\u0e2a\\u0e31\\u0e48\\u0e07\", \"\\u0e2a\\u0e31\\u0e48\\u0e07\", \"\\u0e2a\\u0e31\\u0e48\\u0e07\", \"\\u0e2a\\u0e32\\u0e02\\u0e32\", \"\\u0e2a\\u0e32\\u0e02\\u0e32\", \"\\u0e2a\\u0e32\\u0e02\\u0e32\", \"\\u0e2a\\u0e32\\u0e02\\u0e32\", \"\\u0e2a\\u0e32\\u0e02\\u0e32\", \"\\u0e2a\\u0e32\\u0e02\\u0e32\", \"\\u0e2a\\u0e32\\u0e02\\u0e32\", \"\\u0e2a\\u0e32\\u0e21\", \"\\u0e2a\\u0e32\\u0e22\\u0e1e\\u0e32\\u0e19\", \"\\u0e2a\\u0e32\\u0e22\\u0e1e\\u0e32\\u0e19\", \"\\u0e2a\\u0e32\\u0e22\\u0e1e\\u0e32\\u0e19\", \"\\u0e2a\\u0e32\\u0e22\\u0e1e\\u0e32\\u0e19\", \"\\u0e2a\\u0e33\\u0e2b\\u0e23\\u0e31\\u0e1a\", \"\\u0e2a\\u0e33\\u0e2b\\u0e23\\u0e31\\u0e1a\", \"\\u0e2a\\u0e38\\u0e01\\u0e35\\u0e49\", \"\\u0e2a\\u0e38\\u0e14\\u0e17\\u0e49\\u0e32\\u0e22\", \"\\u0e2a\\u0e39\\u0e49\", \"\\u0e2b\\u0e19\\u0e49\\u0e32\", \"\\u0e2b\\u0e19\\u0e49\\u0e32\", \"\\u0e2b\\u0e19\\u0e49\\u0e32\", \"\\u0e2b\\u0e21\\u0e39\", \"\\u0e2b\\u0e21\\u0e39\", \"\\u0e2b\\u0e21\\u0e39\", \"\\u0e2b\\u0e21\\u0e39\", \"\\u0e2b\\u0e21\\u0e39\", \"\\u0e2b\\u0e21\\u0e39\", \"\\u0e2b\\u0e21\\u0e49\\u0e2d\", \"\\u0e2b\\u0e21\\u0e49\\u0e2d\", \"\\u0e2b\\u0e21\\u0e49\\u0e2d\", \"\\u0e2b\\u0e22\\u0e34\\u0e1a\", \"\\u0e2b\\u0e22\\u0e34\\u0e1a\", \"\\u0e2b\\u0e22\\u0e34\\u0e1a\", \"\\u0e2b\\u0e22\\u0e34\\u0e1a\", \"\\u0e2b\\u0e22\\u0e34\\u0e1a\", \"\\u0e2b\\u0e25\\u0e32\\u0e22\\u0e04\\u0e23\\u0e31\\u0e49\\u0e07\", \"\\u0e2b\\u0e25\\u0e48\\u0e30\", \"\\u0e2b\\u0e27\\u0e22\", \"\\u0e2b\\u0e2d\\u0e21\", \"\\u0e2b\\u0e34\\u0e27\", \"\\u0e2b\\u0e49\\u0e32\\u0e07\", \"\\u0e2b\\u0e49\\u0e32\\u0e07\", \"\\u0e2b\\u0e49\\u0e32\\u0e07\", \"\\u0e2d\\u0e22\\u0e39\\u0e48\\u0e41\\u0e25\\u0e49\\u0e27\", \"\\u0e2d\\u0e22\\u0e48\\u0e32\", \"\\u0e2d\\u0e23\\u0e48\\u0e2d\\u0e22\", \"\\u0e2d\\u0e23\\u0e48\\u0e2d\\u0e22\", \"\\u0e2d\\u0e23\\u0e48\\u0e2d\\u0e22\", \"\\u0e2d\\u0e23\\u0e48\\u0e2d\\u0e22\", \"\\u0e2d\\u0e23\\u0e48\\u0e2d\\u0e22\", \"\\u0e2d\\u0e23\\u0e48\\u0e2d\\u0e22\", \"\\u0e2d\\u0e23\\u0e48\\u0e2d\\u0e22\", \"\\u0e2d\\u0e25\\u0e25\\u0e4c\", \"\\u0e2d\\u0e31\\u0e19\\u0e19\\u0e35\\u0e49\", \"\\u0e2d\\u0e32\\u0e23\\u0e32\\u0e21\", \"\\u0e2d\\u0e32\\u0e2b\\u0e32\\u0e23\", \"\\u0e2d\\u0e32\\u0e2b\\u0e32\\u0e23\", \"\\u0e2d\\u0e32\\u0e2b\\u0e32\\u0e23\", \"\\u0e2d\\u0e32\\u0e2b\\u0e32\\u0e23\", \"\\u0e2d\\u0e32\\u0e2b\\u0e32\\u0e23\", \"\\u0e2d\\u0e32\\u0e2b\\u0e32\\u0e23\", \"\\u0e2d\\u0e32\\u0e2b\\u0e32\\u0e23\", \"\\u0e2d\\u0e35\\u0e01\\u0e04\\u0e23\\u0e31\\u0e49\\u0e07\", \"\\u0e2e\\u0e31\\u0e19\", \"\\u0e2e\\u0e48\\u0e32\", \"\\u0e32\\u0e19\", \"\\u0e40\\u0e01\\u0e34\\u0e19\\u0e44\\u0e1b\", \"\\u0e40\\u0e01\\u0e35\\u0e4a\\u0e22\\u0e27\", \"\\u0e40\\u0e02\\u0e49\\u0e32\\u0e2b\\u0e19\\u0e49\\u0e32\", \"\\u0e40\\u0e04\\u0e23\\u0e37\\u0e48\\u0e2d\\u0e07\\u0e14\\u0e37\\u0e48\\u0e21\", \"\\u0e40\\u0e04\\u0e49\\u0e32\", \"\\u0e40\\u0e07\\u0e34\\u0e19\", \"\\u0e40\\u0e08\\u0e2d\", \"\\u0e40\\u0e0a\\u0e47\\u0e04\\u0e1a\\u0e34\\u0e25\", \"\\u0e40\\u0e14\\u0e2d\\u0e30\", \"\\u0e40\\u0e14\\u0e2d\\u0e30\", \"\\u0e40\\u0e14\\u0e2d\\u0e30\", \"\\u0e40\\u0e14\\u0e2d\\u0e30\", \"\\u0e40\\u0e14\\u0e2d\\u0e30\", \"\\u0e40\\u0e14\\u0e49\\u0e07\", \"\\u0e40\\u0e17\", \"\\u0e40\\u0e17\", \"\\u0e40\\u0e17\", \"\\u0e40\\u0e19\\u0e37\\u0e49\\u0e2d\", \"\\u0e40\\u0e19\\u0e37\\u0e49\\u0e2d\", \"\\u0e40\\u0e19\\u0e37\\u0e49\\u0e2d\", \"\\u0e40\\u0e19\\u0e37\\u0e49\\u0e2d\", \"\\u0e40\\u0e19\\u0e37\\u0e49\\u0e2d\", \"\\u0e40\\u0e19\\u0e37\\u0e49\\u0e2d\", \"\\u0e40\\u0e19\\u0e37\\u0e49\\u0e2d\", \"\\u0e40\\u0e19\\u0e37\\u0e49\\u0e2d\\u0e27\\u0e31\\u0e27\", \"\\u0e40\\u0e19\\u0e37\\u0e49\\u0e2d\\u0e27\\u0e31\\u0e27\", \"\\u0e40\\u0e19\\u0e37\\u0e49\\u0e2d\\u0e27\\u0e31\\u0e27\", \"\\u0e40\\u0e19\\u0e37\\u0e49\\u0e2d\\u0e2b\\u0e21\\u0e39\", \"\\u0e40\\u0e19\\u0e37\\u0e49\\u0e2d\\u0e2b\\u0e21\\u0e39\", \"\\u0e40\\u0e1b\\u0e47\\u0e14\", \"\\u0e40\\u0e1b\\u0e47\\u0e19\\u0e41\\u0e19\\u0e27\", \"\\u0e40\\u0e21\\u0e19\\u0e39\", \"\\u0e40\\u0e21\\u0e19\\u0e39\", \"\\u0e40\\u0e21\\u0e19\\u0e39\", \"\\u0e40\\u0e21\\u0e19\\u0e39\", \"\\u0e40\\u0e22\\u0e47\\u0e19\", \"\\u0e40\\u0e25\\u0e37\\u0e2d\\u0e01\", \"\\u0e40\\u0e25\\u0e37\\u0e2d\\u0e01\", \"\\u0e40\\u0e25\\u0e37\\u0e2d\\u0e01\", \"\\u0e40\\u0e25\\u0e37\\u0e2d\\u0e01\", \"\\u0e40\\u0e25\\u0e37\\u0e2d\\u0e01\", \"\\u0e40\\u0e25\\u0e37\\u0e2d\\u0e01\", \"\\u0e40\\u0e25\\u0e37\\u0e2d\\u0e01\", \"\\u0e40\\u0e25\\u0e48\\u0e19\", \"\\u0e40\\u0e27\\u0e25\\u0e32\", \"\\u0e40\\u0e27\\u0e25\\u0e32\", \"\\u0e40\\u0e2a\\u0e34\\u0e23\\u0e4c\\u0e1f\", \"\\u0e40\\u0e2a\\u0e34\\u0e23\\u0e4c\\u0e1f\", \"\\u0e40\\u0e2b\\u0e21\\u0e32\\u0e30\\u0e2a\\u0e21\", \"\\u0e40\\u0e2b\\u0e27\\u0e35\\u0e48\\u0e22\\u0e07\", \"\\u0e40\\u0e2b\\u0e47\\u0e14\", \"\\u0e41\\u0e04\\u0e1a\", \"\\u0e41\\u0e08\\u0e49\\u0e07\", \"\\u0e41\\u0e19\\u0e30\\u0e19\\u0e33\", \"\\u0e41\\u0e19\\u0e30\\u0e19\\u0e33\", \"\\u0e41\\u0e1a\\u0e48\\u0e07\", \"\\u0e41\\u0e1b\\u0e25\\u0e01\", \"\\u0e41\\u0e21\\u0e04\", \"\\u0e41\\u0e25\\u0e01\", \"\\u0e42\\u0e0a\\u0e04\\u0e0a\\u0e30\\u0e15\\u0e32\", \"\\u0e42\\u0e0a\\u0e04\\u0e14\\u0e35\", \"\\u0e42\\u0e14\\u0e19\", \"\\u0e42\\u0e15\\u0e4a\\u0e30\", \"\\u0e42\\u0e15\\u0e4a\\u0e30\", \"\\u0e42\\u0e17\\u0e2a\", \"\\u0e42\\u0e19\\u0e49\\u0e19\", \"\\u0e42\\u0e21\", \"\\u0e42\\u0e21\", \"\\u0e42\\u0e21\", \"\\u0e42\\u0e2d\\u0e2d\\u0e34\\u0e0a\\u0e34\", \"\\u0e43\\u0e08\\u0e14\\u0e35\", \"\\u0e43\\u0e0a\\u0e49\\u0e44\\u0e14\\u0e49\", \"\\u0e44\\u0e01\\u0e48\", \"\\u0e44\\u0e01\\u0e48\", \"\\u0e44\\u0e01\\u0e48\", \"\\u0e44\\u0e14\\u0e1f\\u0e39\\u0e01\\u0e38\", \"\\u0e44\\u0e1c\\u0e48\", \"\\u0e44\\u0e21\\u0e48\\u0e07\\u0e31\\u0e49\\u0e19\", \"\\u0e44\\u0e21\\u0e49\", \"\\u0e44\\u0e2d\\u0e15\\u0e34\\u0e21\", \"\\u0e44\\u0e2d\\u0e15\\u0e34\\u0e21\", \"\\u0e44\\u0e2d\\u0e15\\u0e34\\u0e21\", \"\\u0e44\\u0e2d\\u0e15\\u0e34\\u0e21\", \"\\u0e44\\u0e2d\\u0e15\\u0e34\\u0e21\", \"\\u0e44\\u0e2d\\u0e15\\u0e34\\u0e21\", \"\\u0e44\\u0e2d\\u0e15\\u0e34\\u0e21\", \"\\u0e44\\u0e2d\\u0e28\\u0e01\\u0e23\\u0e35\\u0e21\", \"\\u0e44\\u0e2d\\u0e28\\u0e01\\u0e23\\u0e35\\u0e21\", \"\\u200b\"]}, \"R\": 30, \"lambda.step\": 0.01, \"plot.opts\": {\"xlab\": \"PC1\", \"ylab\": \"PC2\"}, \"topic.order\": [7, 4, 1, 5, 6, 3, 2]};\n",
              "\n",
              "function LDAvis_load_lib(url, callback){\n",
              "  var s = document.createElement('script');\n",
              "  s.src = url;\n",
              "  s.async = true;\n",
              "  s.onreadystatechange = s.onload = callback;\n",
              "  s.onerror = function(){console.warn(\"failed to load library \" + url);};\n",
              "  document.getElementsByTagName(\"head\")[0].appendChild(s);\n",
              "}\n",
              "\n",
              "if(typeof(LDAvis) !== \"undefined\"){\n",
              "   // already loaded: just create the visualization\n",
              "   !function(LDAvis){\n",
              "       new LDAvis(\"#\" + \"ldavis_el5491400687664539687753288475\", ldavis_el5491400687664539687753288475_data);\n",
              "   }(LDAvis);\n",
              "}else if(typeof define === \"function\" && define.amd){\n",
              "   // require.js is available: use it to load d3/LDAvis\n",
              "   require.config({paths: {d3: \"https://d3js.org/d3.v5\"}});\n",
              "   require([\"d3\"], function(d3){\n",
              "      window.d3 = d3;\n",
              "      LDAvis_load_lib(\"https://cdn.jsdelivr.net/gh/bmabey/pyLDAvis@3.3.1/pyLDAvis/js/ldavis.v3.0.0.js\", function(){\n",
              "        new LDAvis(\"#\" + \"ldavis_el5491400687664539687753288475\", ldavis_el5491400687664539687753288475_data);\n",
              "      });\n",
              "    });\n",
              "}else{\n",
              "    // require.js not available: dynamically load d3 & LDAvis\n",
              "    LDAvis_load_lib(\"https://d3js.org/d3.v5.js\", function(){\n",
              "         LDAvis_load_lib(\"https://cdn.jsdelivr.net/gh/bmabey/pyLDAvis@3.3.1/pyLDAvis/js/ldavis.v3.0.0.js\", function(){\n",
              "                 new LDAvis(\"#\" + \"ldavis_el5491400687664539687753288475\", ldavis_el5491400687664539687753288475_data);\n",
              "            })\n",
              "         });\n",
              "}\n",
              "</script>"
            ],
            "text/plain": [
              "PreparedData(topic_coordinates=              x         y  topics  cluster       Freq\n",
              "topic                                                \n",
              "6      0.089368 -0.018498       1        1  23.098893\n",
              "3     -0.041164 -0.047359       2        1  20.063067\n",
              "0      0.004164  0.041883       3        1  15.283167\n",
              "4     -0.016709  0.044296       4        1  14.365354\n",
              "5     -0.010937 -0.005558       5        1   9.929695\n",
              "2     -0.015831 -0.011153       6        1   9.365542\n",
              "1     -0.008891 -0.003611       7        1   7.894283, topic_info=      Term       Freq      Total Category  logprob  loglift\n",
              "48       ​   4.000000   4.000000  Default  30.0000  30.0000\n",
              "31   อร่อย  19.000000  19.000000  Default  29.0000  29.0000\n",
              "3      กิน  19.000000  19.000000  Default  28.0000  28.0000\n",
              "87           7.000000   7.000000  Default  27.0000  27.0000\n",
              "26    ราคา  17.000000  17.000000  Default  26.0000  26.0000\n",
              "..     ...        ...        ...      ...      ...      ...\n",
              "13   ดีมาก   0.625810   5.284805   Topic7  -5.1881   0.4055\n",
              "131    ลอง   0.666347   6.568500   Topic7  -5.1253   0.2508\n",
              "11      ดำ   0.671122   6.819444   Topic7  -5.1182   0.2204\n",
              "358     ดู   0.651417   6.234956   Topic7  -5.1480   0.2803\n",
              "152  เลือก   0.819936  17.288596   Topic7  -4.9179  -0.5095\n",
              "\n",
              "[452 rows x 6 columns], token_table=      Topic      Freq         Term\n",
              "term                              \n",
              "87        1  0.139288             \n",
              "87        2  0.557151             \n",
              "87        7  0.278576             \n",
              "49        2  0.879653             \n",
              "337       1  0.293325            \"\n",
              "...     ...       ...          ...\n",
              "47        6  0.116786        ไอติม\n",
              "47        7  0.116786        ไอติม\n",
              "183       1  0.375808      ไอศกรีม\n",
              "183       5  0.375808      ไอศกรีม\n",
              "48        7  0.804202            ​\n",
              "\n",
              "[499 rows x 3 columns], R=30, lambda_step=0.01, plot_opts={'xlab': 'PC1', 'ylab': 'PC2'}, topic_order=[7, 4, 1, 5, 6, 3, 2])"
            ]
          },
          "metadata": {
            "tags": []
          },
          "execution_count": 35
        }
      ]
    },
    {
      "cell_type": "code",
      "metadata": {
        "colab": {
          "base_uri": "https://localhost:8080/"
        },
        "id": "cL507Sc2t2DA",
        "outputId": "b1dddd66-1877-4c05-8a20-def83f844e6c"
      },
      "source": [
        "model.show_topic(2)"
      ],
      "execution_count": 36,
      "outputs": [
        {
          "output_type": "execute_result",
          "data": {
            "text/plain": [
              "[('น้ำ', 0.019120678),\n",
              " ('ชาบู', 0.018630063),\n",
              " ('ดี', 0.017219838),\n",
              " ('อร่อย', 0.0144347055),\n",
              " ('เนื้อ', 0.014111489),\n",
              " ('ราคา', 0.013591353),\n",
              " ('อาหาร', 0.01343454),\n",
              " ('กิน', 0.013272035),\n",
              " ('รสชาติ', 0.012594054),\n",
              " ('ชอบ', 0.011923404)]"
            ]
          },
          "metadata": {
            "tags": []
          },
          "execution_count": 36
        }
      ]
    },
    {
      "cell_type": "code",
      "metadata": {
        "id": "E1TXJCLiuDj0"
      },
      "source": [
        "df['topics'] = df['Review_tokenized'].apply(lambda x: model.get_document_topics(dictionary.doc2bow(x.split(',')))[0][0])\n",
        "df['score'] = df['Review_tokenized'].apply(lambda x: model.get_document_topics(dictionary.doc2bow(x.split(',')))[0][1])"
      ],
      "execution_count": 37,
      "outputs": []
    },
    {
      "cell_type": "code",
      "metadata": {
        "colab": {
          "base_uri": "https://localhost:8080/",
          "height": 663
        },
        "id": "h6s6STI6uGyE",
        "outputId": "f5e71c6d-0a4e-4aa1-f8e0-3f40d5b5068a"
      },
      "source": [
        "df[['Restaurant', 'Review', 'topics']]"
      ],
      "execution_count": 38,
      "outputs": [
        {
          "output_type": "execute_result",
          "data": {
            "text/html": [
              "<div>\n",
              "<style scoped>\n",
              "    .dataframe tbody tr th:only-of-type {\n",
              "        vertical-align: middle;\n",
              "    }\n",
              "\n",
              "    .dataframe tbody tr th {\n",
              "        vertical-align: top;\n",
              "    }\n",
              "\n",
              "    .dataframe thead th {\n",
              "        text-align: right;\n",
              "    }\n",
              "</style>\n",
              "<table border=\"1\" class=\"dataframe\">\n",
              "  <thead>\n",
              "    <tr style=\"text-align: right;\">\n",
              "      <th></th>\n",
              "      <th>Restaurant</th>\n",
              "      <th>Review</th>\n",
              "      <th>topics</th>\n",
              "    </tr>\n",
              "  </thead>\n",
              "  <tbody>\n",
              "    <tr>\n",
              "      <th>0</th>\n",
              "      <td>Mo-Mo-Paradise (โม โม พาราไดซ์) เดอะมอลล์ บางกะปิ</td>\n",
              "      <td>ที่สำคัญของร้านนี้คือบริการดีมากพนักงานน่ารักส...</td>\n",
              "      <td>1</td>\n",
              "    </tr>\n",
              "    <tr>\n",
              "      <th>1</th>\n",
              "      <td>Mo-Mo-Paradise (โม โม พาราไดซ์) เดอะมอลล์ บางกะปิ</td>\n",
              "      <td>นึกถึงชาบูญี่ปุ่นยังไงก็ต้อง คิดถึงโมโม่ พาราไ...</td>\n",
              "      <td>3</td>\n",
              "    </tr>\n",
              "    <tr>\n",
              "      <th>2</th>\n",
              "      <td>Mo-Mo-Paradise (โม โม พาราไดซ์) เดอะมอลล์ บางกะปิ</td>\n",
              "      <td>มาทานช่วงนี้ สามารถนั่งโต๊ะเดียวกัน หม้อเดียวก...</td>\n",
              "      <td>3</td>\n",
              "    </tr>\n",
              "    <tr>\n",
              "      <th>3</th>\n",
              "      <td>Mo-Mo-Paradise (โม โม พาราไดซ์) เดอะมอลล์ บางกะปิ</td>\n",
              "      <td>ถ้านึกถึงชาบูที่มีเนื้อเน้นๆ ในราคาไม่โหดจนเกิ...</td>\n",
              "      <td>5</td>\n",
              "    </tr>\n",
              "    <tr>\n",
              "      <th>4</th>\n",
              "      <td>Mo-Mo-Paradise (โม โม พาราไดซ์) เดอะมอลล์ บางกะปิ</td>\n",
              "      <td>เดินมาหน้าร้านแล้วได้กลิ่นชาบูหอมมาก ๆ  ประกอบ...</td>\n",
              "      <td>6</td>\n",
              "    </tr>\n",
              "    <tr>\n",
              "      <th>5</th>\n",
              "      <td>Mo-Mo-Paradise (โม โม พาราไดซ์) เดอะมอลล์ บางกะปิ</td>\n",
              "      <td>ร้านบุฟเฟ่ ชาบูแนวญี่ปุ่น สายเนื้อหมู เนื้อวัว...</td>\n",
              "      <td>2</td>\n",
              "    </tr>\n",
              "    <tr>\n",
              "      <th>6</th>\n",
              "      <td>Mo-Mo-Paradise (โม โม พาราไดซ์) เดอะมอลล์ บางกะปิ</td>\n",
              "      <td>Number 20 : โมโม – พาราไดส์ (สาขาเดอะมอลบางกะป...</td>\n",
              "      <td>4</td>\n",
              "    </tr>\n",
              "    <tr>\n",
              "      <th>7</th>\n",
              "      <td>Mo-Mo-Paradise (โม โม พาราไดซ์) เดอะมอลล์ บางกะปิ</td>\n",
              "      <td>ร้านชาบูเฟรนไชส์รสชาติดีมากคุ้มค่าเหมาะสมกับรา...</td>\n",
              "      <td>2</td>\n",
              "    </tr>\n",
              "    <tr>\n",
              "      <th>8</th>\n",
              "      <td>Shabushi (ชาบูชิ) เดอะมอลล์บางกะปิ ชั้น G</td>\n",
              "      <td>มา านที่ขาบูชิต้องมาตอนหิว ไม่งั้นจะไม่คุ้มนะค...</td>\n",
              "      <td>0</td>\n",
              "    </tr>\n",
              "    <tr>\n",
              "      <th>9</th>\n",
              "      <td>Shabushi (ชาบูชิ) เดอะมอลล์บางกะปิ ชั้น G</td>\n",
              "      <td>ใครชอบกุ้งทอดเทมปุระ แค่กุ้งเทมปุระก็คุ้มแล้ว ...</td>\n",
              "      <td>6</td>\n",
              "    </tr>\n",
              "    <tr>\n",
              "      <th>10</th>\n",
              "      <td>Shabushi (ชาบูชิ) เดอะมอลล์บางกะปิ ชั้น G</td>\n",
              "      <td>กลับมาอัพเดทราคาชาบูชิ ตอนนี้อยู่ที่ 399 บาท n...</td>\n",
              "      <td>3</td>\n",
              "    </tr>\n",
              "    <tr>\n",
              "      <th>11</th>\n",
              "      <td>Shabushi (ชาบูชิ) เดอะมอลล์บางกะปิ ชั้น G</td>\n",
              "      <td>ห่างหายไปนานสำหรับชาบูชิ ตั้งแต่ทางร้านได้ปรับ...</td>\n",
              "      <td>6</td>\n",
              "    </tr>\n",
              "    <tr>\n",
              "      <th>12</th>\n",
              "      <td>Shabushi (ชาบูชิ) เดอะมอลล์บางกะปิ ชั้น G</td>\n",
              "      <td>เมื่อหลายวันก่อนนัดหาข้าวทานกับเดอะแกงค์ และก็...</td>\n",
              "      <td>5</td>\n",
              "    </tr>\n",
              "    <tr>\n",
              "      <th>13</th>\n",
              "      <td>Shabushi (ชาบูชิ) เดอะมอลล์บางกะปิ ชั้น G</td>\n",
              "      <td>บอกตรงๆว่าหลายครั้งที่เลือกจะกินบุฟเฟต์จะต้องอ...</td>\n",
              "      <td>4</td>\n",
              "    </tr>\n",
              "    <tr>\n",
              "      <th>14</th>\n",
              "      <td>Shabushi (ชาบูชิ) เดอะมอลล์บางกะปิ ชั้น G</td>\n",
              "      <td>สวัสดีครับวันนี้จะขอมารีวิวร้านชาบูชิ บุฟเฟขวั...</td>\n",
              "      <td>3</td>\n",
              "    </tr>\n",
              "    <tr>\n",
              "      <th>15</th>\n",
              "      <td>Shabushi (ชาบูชิ) เดอะมอลล์บางกะปิ ชั้น G</td>\n",
              "      <td>ชาบูชิ สาขาเดอะมอลล์บางกะปิ ตั้งอยู่ประตูหน้าห...</td>\n",
              "      <td>0</td>\n",
              "    </tr>\n",
              "    <tr>\n",
              "      <th>16</th>\n",
              "      <td>ข้าน้อยขอชาบู</td>\n",
              "      <td>หลังจากที่เคยลองสาขายูเนี่ยนมอลล์ไป รอบนี้มาที...</td>\n",
              "      <td>0</td>\n",
              "    </tr>\n",
              "    <tr>\n",
              "      <th>17</th>\n",
              "      <td>ข้าน้อยขอชาบู</td>\n",
              "      <td>ร้านบุฟเฟ่ต์ที่มีโปรโมชั่นหัวละ199บาท ไม่รวมน้...</td>\n",
              "      <td>4</td>\n",
              "    </tr>\n",
              "    <tr>\n",
              "      <th>18</th>\n",
              "      <td>ข้าน้อยขอชาบู</td>\n",
              "      <td>เคยรู้จักร้านนี้จากที่ union mall ไม่เคยได้ลอง...</td>\n",
              "      <td>2</td>\n",
              "    </tr>\n",
              "    <tr>\n",
              "      <th>19</th>\n",
              "      <td>ข้าน้อยขอชาบู</td>\n",
              "      <td>อร่อยมากค่ะ คุ้มค่าสมราคา บุฟเฟ่หมูผักต่างๆ รว...</td>\n",
              "      <td>5</td>\n",
              "    </tr>\n",
              "    <tr>\n",
              "      <th>20</th>\n",
              "      <td>ข้าน้อยขอชาบู</td>\n",
              "      <td>ก็ตามที่เขียนเลยครับ ว่า ถ้าจะจ่ายในราคา 199 บ...</td>\n",
              "      <td>1</td>\n",
              "    </tr>\n",
              "  </tbody>\n",
              "</table>\n",
              "</div>"
            ],
            "text/plain": [
              "                                           Restaurant  ... topics\n",
              "0   Mo-Mo-Paradise (โม โม พาราไดซ์) เดอะมอลล์ บางกะปิ  ...      1\n",
              "1   Mo-Mo-Paradise (โม โม พาราไดซ์) เดอะมอลล์ บางกะปิ  ...      3\n",
              "2   Mo-Mo-Paradise (โม โม พาราไดซ์) เดอะมอลล์ บางกะปิ  ...      3\n",
              "3   Mo-Mo-Paradise (โม โม พาราไดซ์) เดอะมอลล์ บางกะปิ  ...      5\n",
              "4   Mo-Mo-Paradise (โม โม พาราไดซ์) เดอะมอลล์ บางกะปิ  ...      6\n",
              "5   Mo-Mo-Paradise (โม โม พาราไดซ์) เดอะมอลล์ บางกะปิ  ...      2\n",
              "6   Mo-Mo-Paradise (โม โม พาราไดซ์) เดอะมอลล์ บางกะปิ  ...      4\n",
              "7   Mo-Mo-Paradise (โม โม พาราไดซ์) เดอะมอลล์ บางกะปิ  ...      2\n",
              "8           Shabushi (ชาบูชิ) เดอะมอลล์บางกะปิ ชั้น G  ...      0\n",
              "9           Shabushi (ชาบูชิ) เดอะมอลล์บางกะปิ ชั้น G  ...      6\n",
              "10          Shabushi (ชาบูชิ) เดอะมอลล์บางกะปิ ชั้น G  ...      3\n",
              "11          Shabushi (ชาบูชิ) เดอะมอลล์บางกะปิ ชั้น G  ...      6\n",
              "12          Shabushi (ชาบูชิ) เดอะมอลล์บางกะปิ ชั้น G  ...      5\n",
              "13          Shabushi (ชาบูชิ) เดอะมอลล์บางกะปิ ชั้น G  ...      4\n",
              "14          Shabushi (ชาบูชิ) เดอะมอลล์บางกะปิ ชั้น G  ...      3\n",
              "15          Shabushi (ชาบูชิ) เดอะมอลล์บางกะปิ ชั้น G  ...      0\n",
              "16                                      ข้าน้อยขอชาบู  ...      0\n",
              "17                                      ข้าน้อยขอชาบู  ...      4\n",
              "18                                      ข้าน้อยขอชาบู  ...      2\n",
              "19                                      ข้าน้อยขอชาบู  ...      5\n",
              "20                                      ข้าน้อยขอชาบู  ...      1\n",
              "\n",
              "[21 rows x 3 columns]"
            ]
          },
          "metadata": {
            "tags": []
          },
          "execution_count": 38
        }
      ]
    }
  ]
}