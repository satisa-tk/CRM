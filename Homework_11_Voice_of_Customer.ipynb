{
  "nbformat": 4,
  "nbformat_minor": 0,
  "metadata": {
    "colab": {
      "name": "Homework 11 - Voice of Customer.ipynb",
      "provenance": [],
      "collapsed_sections": [],
      "toc_visible": true,
      "authorship_tag": "ABX9TyMzY4HaBSBXcz6TcgOSca7P",
      "include_colab_link": true
    },
    "kernelspec": {
      "name": "python3",
      "display_name": "Python 3"
    },
    "language_info": {
      "name": "python"
    }
  },
  "cells": [
    {
      "cell_type": "markdown",
      "metadata": {
        "id": "view-in-github",
        "colab_type": "text"
      },
      "source": [
        "<a href=\"https://colab.research.google.com/github/satisa-tk/CRM/blob/main/Homework_11_Voice_of_Customer.ipynb\" target=\"_parent\"><img src=\"https://colab.research.google.com/assets/colab-badge.svg\" alt=\"Open In Colab\"/></a>"
      ]
    },
    {
      "cell_type": "code",
      "metadata": {
        "colab": {
          "base_uri": "https://localhost:8080/"
        },
        "id": "DzW1bQFPPYbW",
        "outputId": "17097bb0-22dd-4a82-f683-e1b1e186a45b"
      },
      "source": [
        "from google.colab import drive\n",
        "drive.mount('/content/drive')"
      ],
      "execution_count": 1,
      "outputs": [
        {
          "output_type": "stream",
          "text": [
            "Drive already mounted at /content/drive; to attempt to forcibly remount, call drive.mount(\"/content/drive\", force_remount=True).\n"
          ],
          "name": "stdout"
        }
      ]
    },
    {
      "cell_type": "code",
      "metadata": {
        "colab": {
          "base_uri": "https://localhost:8080/"
        },
        "id": "L3UDpsXYRwLC",
        "outputId": "38fd3479-d48d-4d94-f8a7-2a2a99df0b17"
      },
      "source": [
        "%cd /content/drive/My Drive/HW_CRM"
      ],
      "execution_count": 2,
      "outputs": [
        {
          "output_type": "stream",
          "text": [
            "/content/drive/My Drive/HW_CRM\n"
          ],
          "name": "stdout"
        }
      ]
    },
    {
      "cell_type": "code",
      "metadata": {
        "colab": {
          "base_uri": "https://localhost:8080/"
        },
        "id": "uGsd5tkNQN5Q",
        "outputId": "9e56ea9e-8223-49f0-c442-72620c5c31a6"
      },
      "source": [
        "!pip install --upgrade pandas==1.2"
      ],
      "execution_count": 3,
      "outputs": [
        {
          "output_type": "stream",
          "text": [
            "Requirement already up-to-date: pandas==1.2 in /usr/local/lib/python3.7/dist-packages (1.2.0)\n",
            "Requirement already satisfied, skipping upgrade: numpy>=1.16.5 in /usr/local/lib/python3.7/dist-packages (from pandas==1.2) (1.20.3)\n",
            "Requirement already satisfied, skipping upgrade: pytz>=2017.3 in /usr/local/lib/python3.7/dist-packages (from pandas==1.2) (2018.9)\n",
            "Requirement already satisfied, skipping upgrade: python-dateutil>=2.7.3 in /usr/local/lib/python3.7/dist-packages (from pandas==1.2) (2.8.1)\n",
            "Requirement already satisfied, skipping upgrade: six>=1.5 in /usr/local/lib/python3.7/dist-packages (from python-dateutil>=2.7.3->pandas==1.2) (1.15.0)\n"
          ],
          "name": "stdout"
        }
      ]
    },
    {
      "cell_type": "code",
      "metadata": {
        "id": "gO-IEVwUqjIB",
        "colab": {
          "base_uri": "https://localhost:8080/"
        },
        "outputId": "821763e6-2e09-498b-c504-222358012b4a"
      },
      "source": [
        "!pip install pythainlp"
      ],
      "execution_count": 4,
      "outputs": [
        {
          "output_type": "stream",
          "text": [
            "Requirement already satisfied: pythainlp in /usr/local/lib/python3.7/dist-packages (2.3.1)\n",
            "Requirement already satisfied: python-crfsuite>=0.9.6 in /usr/local/lib/python3.7/dist-packages (from pythainlp) (0.9.7)\n",
            "Requirement already satisfied: tinydb>=3.0 in /usr/local/lib/python3.7/dist-packages (from pythainlp) (4.4.0)\n",
            "Requirement already satisfied: requests>=2.22.0 in /usr/local/lib/python3.7/dist-packages (from pythainlp) (2.23.0)\n",
            "Requirement already satisfied: certifi>=2017.4.17 in /usr/local/lib/python3.7/dist-packages (from requests>=2.22.0->pythainlp) (2020.12.5)\n",
            "Requirement already satisfied: idna<3,>=2.5 in /usr/local/lib/python3.7/dist-packages (from requests>=2.22.0->pythainlp) (2.10)\n",
            "Requirement already satisfied: chardet<4,>=3.0.2 in /usr/local/lib/python3.7/dist-packages (from requests>=2.22.0->pythainlp) (3.0.4)\n",
            "Requirement already satisfied: urllib3!=1.25.0,!=1.25.1,<1.26,>=1.21.1 in /usr/local/lib/python3.7/dist-packages (from requests>=2.22.0->pythainlp) (1.24.3)\n"
          ],
          "name": "stdout"
        }
      ]
    },
    {
      "cell_type": "code",
      "metadata": {
        "colab": {
          "base_uri": "https://localhost:8080/"
        },
        "id": "nsd7Mn_CqpBU",
        "outputId": "735f7a88-894d-4033-a7db-b9af9fc51647"
      },
      "source": [
        "!pip install pyLDAvis"
      ],
      "execution_count": 5,
      "outputs": [
        {
          "output_type": "stream",
          "text": [
            "Requirement already satisfied: pyLDAvis in /usr/local/lib/python3.7/dist-packages (3.3.1)\n",
            "Requirement already satisfied: scikit-learn in /usr/local/lib/python3.7/dist-packages (from pyLDAvis) (0.22.2.post1)\n",
            "Requirement already satisfied: numexpr in /usr/local/lib/python3.7/dist-packages (from pyLDAvis) (2.7.3)\n",
            "Requirement already satisfied: scipy in /usr/local/lib/python3.7/dist-packages (from pyLDAvis) (1.4.1)\n",
            "Requirement already satisfied: future in /usr/local/lib/python3.7/dist-packages (from pyLDAvis) (0.16.0)\n",
            "Requirement already satisfied: pandas>=1.2.0 in /usr/local/lib/python3.7/dist-packages (from pyLDAvis) (1.2.0)\n",
            "Requirement already satisfied: gensim in /usr/local/lib/python3.7/dist-packages (from pyLDAvis) (3.6.0)\n",
            "Requirement already satisfied: setuptools in /usr/local/lib/python3.7/dist-packages (from pyLDAvis) (57.0.0)\n",
            "Requirement already satisfied: joblib in /usr/local/lib/python3.7/dist-packages (from pyLDAvis) (1.0.1)\n",
            "Requirement already satisfied: jinja2 in /usr/local/lib/python3.7/dist-packages (from pyLDAvis) (2.11.3)\n",
            "Requirement already satisfied: sklearn in /usr/local/lib/python3.7/dist-packages (from pyLDAvis) (0.0)\n",
            "Requirement already satisfied: numpy>=1.20.0 in /usr/local/lib/python3.7/dist-packages (from pyLDAvis) (1.20.3)\n",
            "Requirement already satisfied: funcy in /usr/local/lib/python3.7/dist-packages (from pyLDAvis) (1.16)\n",
            "Requirement already satisfied: pytz>=2017.3 in /usr/local/lib/python3.7/dist-packages (from pandas>=1.2.0->pyLDAvis) (2018.9)\n",
            "Requirement already satisfied: python-dateutil>=2.7.3 in /usr/local/lib/python3.7/dist-packages (from pandas>=1.2.0->pyLDAvis) (2.8.1)\n",
            "Requirement already satisfied: smart-open>=1.2.1 in /usr/local/lib/python3.7/dist-packages (from gensim->pyLDAvis) (5.0.0)\n",
            "Requirement already satisfied: six>=1.5.0 in /usr/local/lib/python3.7/dist-packages (from gensim->pyLDAvis) (1.15.0)\n",
            "Requirement already satisfied: MarkupSafe>=0.23 in /usr/local/lib/python3.7/dist-packages (from jinja2->pyLDAvis) (2.0.1)\n"
          ],
          "name": "stdout"
        }
      ]
    },
    {
      "cell_type": "markdown",
      "metadata": {
        "id": "NqBQjshnVGg6"
      },
      "source": [
        "# **Load Data**"
      ]
    },
    {
      "cell_type": "code",
      "metadata": {
        "id": "feeO5Yajq8qD",
        "colab": {
          "base_uri": "https://localhost:8080/"
        },
        "outputId": "ab560f76-6b3c-4f64-b161-d3c2716379b8"
      },
      "source": [
        "import pandas as pd\n",
        "import pythainlp\n",
        "import gensim\n",
        "import pyLDAvis.gensim_models\n",
        "pyLDAvis.enable_notebook()\n",
        "import warnings\n",
        "warnings.filterwarnings(\"ignore\", category=DeprecationWarning) "
      ],
      "execution_count": 6,
      "outputs": [
        {
          "output_type": "stream",
          "text": [
            "/usr/local/lib/python3.7/dist-packages/past/types/oldstr.py:5: DeprecationWarning: Using or importing the ABCs from 'collections' instead of from 'collections.abc' is deprecated since Python 3.3,and in 3.9 it will stop working\n",
            "  from collections import Iterable\n",
            "/usr/local/lib/python3.7/dist-packages/sklearn/linear_model/_least_angle.py:30: DeprecationWarning: `np.float` is a deprecated alias for the builtin `float`. To silence this warning, use `float` by itself. Doing this will not modify any behavior and is safe. If you specifically wanted the numpy scalar type, use `np.float64` here.\n",
            "Deprecated in NumPy 1.20; for more details and guidance: https://numpy.org/devdocs/release/1.20.0-notes.html#deprecations\n",
            "  method='lar', copy_X=True, eps=np.finfo(np.float).eps,\n",
            "/usr/local/lib/python3.7/dist-packages/sklearn/linear_model/_least_angle.py:169: DeprecationWarning: `np.float` is a deprecated alias for the builtin `float`. To silence this warning, use `float` by itself. Doing this will not modify any behavior and is safe. If you specifically wanted the numpy scalar type, use `np.float64` here.\n",
            "Deprecated in NumPy 1.20; for more details and guidance: https://numpy.org/devdocs/release/1.20.0-notes.html#deprecations\n",
            "  method='lar', copy_X=True, eps=np.finfo(np.float).eps,\n",
            "/usr/local/lib/python3.7/dist-packages/sklearn/linear_model/_least_angle.py:286: DeprecationWarning: `np.float` is a deprecated alias for the builtin `float`. To silence this warning, use `float` by itself. Doing this will not modify any behavior and is safe. If you specifically wanted the numpy scalar type, use `np.float64` here.\n",
            "Deprecated in NumPy 1.20; for more details and guidance: https://numpy.org/devdocs/release/1.20.0-notes.html#deprecations\n",
            "  eps=np.finfo(np.float).eps, copy_Gram=True, verbose=0,\n",
            "/usr/local/lib/python3.7/dist-packages/sklearn/linear_model/_least_angle.py:858: DeprecationWarning: `np.float` is a deprecated alias for the builtin `float`. To silence this warning, use `float` by itself. Doing this will not modify any behavior and is safe. If you specifically wanted the numpy scalar type, use `np.float64` here.\n",
            "Deprecated in NumPy 1.20; for more details and guidance: https://numpy.org/devdocs/release/1.20.0-notes.html#deprecations\n",
            "  eps=np.finfo(np.float).eps, copy_X=True, fit_path=True):\n",
            "/usr/local/lib/python3.7/dist-packages/sklearn/linear_model/_least_angle.py:1094: DeprecationWarning: `np.float` is a deprecated alias for the builtin `float`. To silence this warning, use `float` by itself. Doing this will not modify any behavior and is safe. If you specifically wanted the numpy scalar type, use `np.float64` here.\n",
            "Deprecated in NumPy 1.20; for more details and guidance: https://numpy.org/devdocs/release/1.20.0-notes.html#deprecations\n",
            "  eps=np.finfo(np.float).eps, copy_X=True, fit_path=True,\n",
            "/usr/local/lib/python3.7/dist-packages/sklearn/linear_model/_least_angle.py:1120: DeprecationWarning: `np.float` is a deprecated alias for the builtin `float`. To silence this warning, use `float` by itself. Doing this will not modify any behavior and is safe. If you specifically wanted the numpy scalar type, use `np.float64` here.\n",
            "Deprecated in NumPy 1.20; for more details and guidance: https://numpy.org/devdocs/release/1.20.0-notes.html#deprecations\n",
            "  eps=np.finfo(np.float).eps, positive=False):\n",
            "/usr/local/lib/python3.7/dist-packages/sklearn/linear_model/_least_angle.py:1349: DeprecationWarning: `np.float` is a deprecated alias for the builtin `float`. To silence this warning, use `float` by itself. Doing this will not modify any behavior and is safe. If you specifically wanted the numpy scalar type, use `np.float64` here.\n",
            "Deprecated in NumPy 1.20; for more details and guidance: https://numpy.org/devdocs/release/1.20.0-notes.html#deprecations\n",
            "  max_n_alphas=1000, n_jobs=None, eps=np.finfo(np.float).eps,\n",
            "/usr/local/lib/python3.7/dist-packages/sklearn/linear_model/_least_angle.py:1590: DeprecationWarning: `np.float` is a deprecated alias for the builtin `float`. To silence this warning, use `float` by itself. Doing this will not modify any behavior and is safe. If you specifically wanted the numpy scalar type, use `np.float64` here.\n",
            "Deprecated in NumPy 1.20; for more details and guidance: https://numpy.org/devdocs/release/1.20.0-notes.html#deprecations\n",
            "  max_n_alphas=1000, n_jobs=None, eps=np.finfo(np.float).eps,\n",
            "/usr/local/lib/python3.7/dist-packages/sklearn/linear_model/_least_angle.py:1723: DeprecationWarning: `np.float` is a deprecated alias for the builtin `float`. To silence this warning, use `float` by itself. Doing this will not modify any behavior and is safe. If you specifically wanted the numpy scalar type, use `np.float64` here.\n",
            "Deprecated in NumPy 1.20; for more details and guidance: https://numpy.org/devdocs/release/1.20.0-notes.html#deprecations\n",
            "  eps=np.finfo(np.float).eps, copy_X=True, positive=False):\n",
            "/usr/local/lib/python3.7/dist-packages/sklearn/decomposition/_lda.py:29: DeprecationWarning: `np.float` is a deprecated alias for the builtin `float`. To silence this warning, use `float` by itself. Doing this will not modify any behavior and is safe. If you specifically wanted the numpy scalar type, use `np.float64` here.\n",
            "Deprecated in NumPy 1.20; for more details and guidance: https://numpy.org/devdocs/release/1.20.0-notes.html#deprecations\n",
            "  EPS = np.finfo(np.float).eps\n"
          ],
          "name": "stderr"
        }
      ]
    },
    {
      "cell_type": "code",
      "metadata": {
        "colab": {
          "base_uri": "https://localhost:8080/",
          "height": 305
        },
        "id": "LbwfFF90rFf2",
        "outputId": "b95a1e4d-84c5-40e3-df64-89a211e7905a"
      },
      "source": [
        "df = pd.read_csv('CustomerReviews.csv')\n",
        "df.head()"
      ],
      "execution_count": 7,
      "outputs": [
        {
          "output_type": "execute_result",
          "data": {
            "text/html": [
              "<div>\n",
              "<style scoped>\n",
              "    .dataframe tbody tr th:only-of-type {\n",
              "        vertical-align: middle;\n",
              "    }\n",
              "\n",
              "    .dataframe tbody tr th {\n",
              "        vertical-align: top;\n",
              "    }\n",
              "\n",
              "    .dataframe thead th {\n",
              "        text-align: right;\n",
              "    }\n",
              "</style>\n",
              "<table border=\"1\" class=\"dataframe\">\n",
              "  <thead>\n",
              "    <tr style=\"text-align: right;\">\n",
              "      <th></th>\n",
              "      <th>Review ID</th>\n",
              "      <th>Restaurant_ID</th>\n",
              "      <th>Restaurant</th>\n",
              "      <th>User</th>\n",
              "      <th>Headline</th>\n",
              "      <th>Review</th>\n",
              "      <th>Rating</th>\n",
              "    </tr>\n",
              "  </thead>\n",
              "  <tbody>\n",
              "    <tr>\n",
              "      <th>0</th>\n",
              "      <td>1</td>\n",
              "      <td>352696Px-mo-mo-paradise-เดอะมอลล์-บางกะปิ</td>\n",
              "      <td>Mo-Mo-Paradise (โม โม พาราไดซ์) เดอะมอลล์ บางกะปิ</td>\n",
              "      <td>7b16469831074f7abc7824745ee75212</td>\n",
              "      <td>ที่สำคัญของร้านนี้คือบริการดีมากพนักงานน่ารักส...</td>\n",
              "      <td>ที่สำคัญของร้านนี้คือบริการดีมากพนักงานน่ารักส...</td>\n",
              "      <td>5.0</td>\n",
              "    </tr>\n",
              "    <tr>\n",
              "      <th>1</th>\n",
              "      <td>2</td>\n",
              "      <td>352696Px-mo-mo-paradise-เดอะมอลล์-บางกะปิ</td>\n",
              "      <td>Mo-Mo-Paradise (โม โม พาราไดซ์) เดอะมอลล์ บางกะปิ</td>\n",
              "      <td>pakkaramonpondej</td>\n",
              "      <td>รสชาติเหมือนทุกสาขา แต่สาขานี้ บริการดี ที่นั่งดี</td>\n",
              "      <td>นึกถึงชาบูญี่ปุ่นยังไงก็ต้อง คิดถึงโมโม่ พาราไ...</td>\n",
              "      <td>5.0</td>\n",
              "    </tr>\n",
              "    <tr>\n",
              "      <th>2</th>\n",
              "      <td>3</td>\n",
              "      <td>352696Px-mo-mo-paradise-เดอะมอลล์-บางกะปิ</td>\n",
              "      <td>Mo-Mo-Paradise (โม โม พาราไดซ์) เดอะมอลล์ บางกะปิ</td>\n",
              "      <td>saanowy</td>\n",
              "      <td>ชาบูพรีเมี่ยมสไตล์ญี่ปุ่น เนื้อดีมากกก</td>\n",
              "      <td>มาทานช่วงนี้ สามารถนั่งโต๊ะเดียวกัน หม้อเดียวก...</td>\n",
              "      <td>4.0</td>\n",
              "    </tr>\n",
              "    <tr>\n",
              "      <th>3</th>\n",
              "      <td>4</td>\n",
              "      <td>352696Px-mo-mo-paradise-เดอะมอลล์-บางกะปิ</td>\n",
              "      <td>Mo-Mo-Paradise (โม โม พาราไดซ์) เดอะมอลล์ บางกะปิ</td>\n",
              "      <td>ployynp</td>\n",
              "      <td>เนื้อดี ไอติมดี คุ้มค่าดี</td>\n",
              "      <td>ถ้านึกถึงชาบูที่มีเนื้อเน้นๆ ในราคาไม่โหดจนเกิ...</td>\n",
              "      <td>4.0</td>\n",
              "    </tr>\n",
              "    <tr>\n",
              "      <th>4</th>\n",
              "      <td>5</td>\n",
              "      <td>352696Px-mo-mo-paradise-เดอะมอลล์-บางกะปิ</td>\n",
              "      <td>Mo-Mo-Paradise (โม โม พาราไดซ์) เดอะมอลล์ บางกะปิ</td>\n",
              "      <td>665a902b335b434ab489f00f2fbb477e</td>\n",
              "      <td>อาหารมีคุณภาพ บริการดีค่ะ</td>\n",
              "      <td>เดินมาหน้าร้านแล้วได้กลิ่นชาบูหอมมาก ๆ  ประกอบ...</td>\n",
              "      <td>5.0</td>\n",
              "    </tr>\n",
              "  </tbody>\n",
              "</table>\n",
              "</div>"
            ],
            "text/plain": [
              "   Review ID  ... Rating\n",
              "0          1  ...    5.0\n",
              "1          2  ...    5.0\n",
              "2          3  ...    4.0\n",
              "3          4  ...    4.0\n",
              "4          5  ...    5.0\n",
              "\n",
              "[5 rows x 7 columns]"
            ]
          },
          "metadata": {
            "tags": []
          },
          "execution_count": 7
        }
      ]
    },
    {
      "cell_type": "markdown",
      "metadata": {
        "id": "dXVNf_iiVgA3"
      },
      "source": [
        "# **Tokenize Words**"
      ]
    },
    {
      "cell_type": "code",
      "metadata": {
        "id": "Ac2K0J9-sY3n"
      },
      "source": [
        "stopwords = list(pythainlp.corpus.thai_stopwords())\n",
        "removed_words = [' ', '  ', '\\n', 'ร้าน', '(', ')']\n",
        "screening = stopwords + removed_words\n",
        "\n",
        "def tokenize_with_space(sentence):\n",
        "  merged = ''\n",
        "  words = pythainlp.word_tokenize(str(sentence), engine='newmm')\n",
        "  for word in words:\n",
        "    if word not in screening:\n",
        "      merged = merged + ',' + word\n",
        "  return merged[1:]"
      ],
      "execution_count": 8,
      "outputs": []
    },
    {
      "cell_type": "code",
      "metadata": {
        "id": "Fh9Lc0RHseRh"
      },
      "source": [
        "df['Review_tokenized'] = df['Review'].apply(lambda x: tokenize_with_space(x))"
      ],
      "execution_count": 9,
      "outputs": []
    },
    {
      "cell_type": "code",
      "metadata": {
        "colab": {
          "base_uri": "https://localhost:8080/",
          "height": 389
        },
        "id": "mGnh43TLsjkc",
        "outputId": "5b5b4558-7d5c-4a02-c6a5-5b6e983876d3"
      },
      "source": [
        "df.head()"
      ],
      "execution_count": 10,
      "outputs": [
        {
          "output_type": "execute_result",
          "data": {
            "text/html": [
              "<div>\n",
              "<style scoped>\n",
              "    .dataframe tbody tr th:only-of-type {\n",
              "        vertical-align: middle;\n",
              "    }\n",
              "\n",
              "    .dataframe tbody tr th {\n",
              "        vertical-align: top;\n",
              "    }\n",
              "\n",
              "    .dataframe thead th {\n",
              "        text-align: right;\n",
              "    }\n",
              "</style>\n",
              "<table border=\"1\" class=\"dataframe\">\n",
              "  <thead>\n",
              "    <tr style=\"text-align: right;\">\n",
              "      <th></th>\n",
              "      <th>Review ID</th>\n",
              "      <th>Restaurant_ID</th>\n",
              "      <th>Restaurant</th>\n",
              "      <th>User</th>\n",
              "      <th>Headline</th>\n",
              "      <th>Review</th>\n",
              "      <th>Rating</th>\n",
              "      <th>Review_tokenized</th>\n",
              "    </tr>\n",
              "  </thead>\n",
              "  <tbody>\n",
              "    <tr>\n",
              "      <th>0</th>\n",
              "      <td>1</td>\n",
              "      <td>352696Px-mo-mo-paradise-เดอะมอลล์-บางกะปิ</td>\n",
              "      <td>Mo-Mo-Paradise (โม โม พาราไดซ์) เดอะมอลล์ บางกะปิ</td>\n",
              "      <td>7b16469831074f7abc7824745ee75212</td>\n",
              "      <td>ที่สำคัญของร้านนี้คือบริการดีมากพนักงานน่ารักส...</td>\n",
              "      <td>ที่สำคัญของร้านนี้คือบริการดีมากพนักงานน่ารักส...</td>\n",
              "      <td>5.0</td>\n",
              "      <td>บริการ,ดีมาก,พนักงาน,น่ารัก,สะอาดสะอ้าน,ใส่ใจ,...</td>\n",
              "    </tr>\n",
              "    <tr>\n",
              "      <th>1</th>\n",
              "      <td>2</td>\n",
              "      <td>352696Px-mo-mo-paradise-เดอะมอลล์-บางกะปิ</td>\n",
              "      <td>Mo-Mo-Paradise (โม โม พาราไดซ์) เดอะมอลล์ บางกะปิ</td>\n",
              "      <td>pakkaramonpondej</td>\n",
              "      <td>รสชาติเหมือนทุกสาขา แต่สาขานี้ บริการดี ที่นั่งดี</td>\n",
              "      <td>นึกถึงชาบูญี่ปุ่นยังไงก็ต้อง คิดถึงโมโม่ พาราไ...</td>\n",
              "      <td>5.0</td>\n",
              "      <td>นึกถึง,ชาบู,ญี่ปุ่น,คิดถึง,โม,โม่,พาราไดซ์,คุณ...</td>\n",
              "    </tr>\n",
              "    <tr>\n",
              "      <th>2</th>\n",
              "      <td>3</td>\n",
              "      <td>352696Px-mo-mo-paradise-เดอะมอลล์-บางกะปิ</td>\n",
              "      <td>Mo-Mo-Paradise (โม โม พาราไดซ์) เดอะมอลล์ บางกะปิ</td>\n",
              "      <td>saanowy</td>\n",
              "      <td>ชาบูพรีเมี่ยมสไตล์ญี่ปุ่น เนื้อดีมากกก</td>\n",
              "      <td>มาทานช่วงนี้ สามารถนั่งโต๊ะเดียวกัน หม้อเดียวก...</td>\n",
              "      <td>4.0</td>\n",
              "      <td>ทาน,นั่ง,โต๊ะ,หม้อ,โต๊ะ,ยังมี,ฉาก,กั้น,น้ำ,ซุป...</td>\n",
              "    </tr>\n",
              "    <tr>\n",
              "      <th>3</th>\n",
              "      <td>4</td>\n",
              "      <td>352696Px-mo-mo-paradise-เดอะมอลล์-บางกะปิ</td>\n",
              "      <td>Mo-Mo-Paradise (โม โม พาราไดซ์) เดอะมอลล์ บางกะปิ</td>\n",
              "      <td>ployynp</td>\n",
              "      <td>เนื้อดี ไอติมดี คุ้มค่าดี</td>\n",
              "      <td>ถ้านึกถึงชาบูที่มีเนื้อเน้นๆ ในราคาไม่โหดจนเกิ...</td>\n",
              "      <td>4.0</td>\n",
              "      <td>นึกถึง,ชาบู,เนื้อ,ราคา,โหด,เกินไป,นึกถึง,โม,โม...</td>\n",
              "    </tr>\n",
              "    <tr>\n",
              "      <th>4</th>\n",
              "      <td>5</td>\n",
              "      <td>352696Px-mo-mo-paradise-เดอะมอลล์-บางกะปิ</td>\n",
              "      <td>Mo-Mo-Paradise (โม โม พาราไดซ์) เดอะมอลล์ บางกะปิ</td>\n",
              "      <td>665a902b335b434ab489f00f2fbb477e</td>\n",
              "      <td>อาหารมีคุณภาพ บริการดีค่ะ</td>\n",
              "      <td>เดินมาหน้าร้านแล้วได้กลิ่นชาบูหอมมาก ๆ  ประกอบ...</td>\n",
              "      <td>5.0</td>\n",
              "      <td>เดิน,หน้า,ได้กลิ่น,ชาบู,หอ,มมาก,โปร,บัตรเครดิต...</td>\n",
              "    </tr>\n",
              "  </tbody>\n",
              "</table>\n",
              "</div>"
            ],
            "text/plain": [
              "   Review ID  ...                                   Review_tokenized\n",
              "0          1  ...  บริการ,ดีมาก,พนักงาน,น่ารัก,สะอาดสะอ้าน,ใส่ใจ,...\n",
              "1          2  ...  นึกถึง,ชาบู,ญี่ปุ่น,คิดถึง,โม,โม่,พาราไดซ์,คุณ...\n",
              "2          3  ...  ทาน,นั่ง,โต๊ะ,หม้อ,โต๊ะ,ยังมี,ฉาก,กั้น,น้ำ,ซุป...\n",
              "3          4  ...  นึกถึง,ชาบู,เนื้อ,ราคา,โหด,เกินไป,นึกถึง,โม,โม...\n",
              "4          5  ...  เดิน,หน้า,ได้กลิ่น,ชาบู,หอ,มมาก,โปร,บัตรเครดิต...\n",
              "\n",
              "[5 rows x 8 columns]"
            ]
          },
          "metadata": {
            "tags": []
          },
          "execution_count": 10
        }
      ]
    },
    {
      "cell_type": "code",
      "metadata": {
        "id": "4Ok-tNNBswoX"
      },
      "source": [
        "documents = df['Review_tokenized'].to_list()\n",
        "texts = [[text for text in doc.split(',')] for doc in documents]\n",
        "dictionary = gensim.corpora.Dictionary(texts)"
      ],
      "execution_count": 11,
      "outputs": []
    },
    {
      "cell_type": "code",
      "metadata": {
        "colab": {
          "base_uri": "https://localhost:8080/"
        },
        "id": "WB8wsBfYsyEG",
        "outputId": "b10a7266-2c11-46e5-94dc-e9e785376b4e"
      },
      "source": [
        "print(dictionary.token2id.keys())"
      ],
      "execution_count": 12,
      "outputs": [
        {
          "output_type": "stream",
          "text": [
            "dict_keys(['1', '4', '560', 'กิน', 'ข้างนอก', 'ความต้องการ', 'คอ', 'คุณภาพ', 'คุ้ม', 'จำกัด', 'ซุป', 'ดำ', 'ดี', 'ดีมาก', 'ถาด', 'ถาม', 'น่ารัก', 'น้ำ', 'น้ำจิ้ม', 'บริการ', 'บาท', 'ประทับใจ', 'พนักงาน', 'พอกับ', 'ภาพ', 'รสชาติ', 'ราคา', 'สรุป', 'สะอาดสะอ้าน', 'สัน', 'หลากหลาย', 'อร่อย', 'อันนี้', 'อาหาร', 'เคลม', 'เซ็ท', 'เต้าเจี้ยว', 'เนื้อ', 'เป็ด', 'เผ็ด', 'แบบนี้', 'แปลก', 'แฟน', 'โดยรวม', 'โมจิ', 'ใส่ใจ', 'ไม่ต้อง', 'ไอติม', '\\u200b', '           ', '21', '30', '9', 'CTW', 'Terminal', 'กา', 'การงด', 'คิดถึง', 'ชาบู', 'ญี่ปุ่น', 'ฐาน', 'ทะยอย', 'ทำงาน', 'ที่ทาง', 'นาที', 'นึกถึง', 'พนักงานบริการ', 'พระราม', 'พรีเมียม', 'พาราไดซ์', 'มาตรา', 'มีโอ', 'รายละเอียด', 'ลูกค้า', 'สมาทาน', 'สาขา', 'สู้', 'ออร์เดอร์', 'เครื่องดื่ม', 'เค้า', 'เจอ', 'เป็นกันเอง', 'เหวี่ยง', 'แจ้ง', 'โม', 'โม่', 'โอเค', '', '++', '2', '555', '600', ':', '::', 'กก', 'กรุบ', 'กั้น', 'ของหวาน', 'คนละ', 'คาว', 'คุ', 'คุ้มค่า', 'จาน', 'จิ้ม', 'จืด', 'ฉาก', 'ชอบ', 'ชาเขียว', 'ชิ้น', 'ซอย', 'ซอส', 'ตก', 'ตะ', 'ตัก', 'ตามน้ำ', 'ต่างกัน', 'ถั่ว', 'ถ่ายรูป', 'ทาน', 'นั่ง', 'นุ่ม', 'บด', 'บาร์', 'บู', 'ผัก', 'ภาษา', 'มีชื่อ', 'ยังมี', 'รส', 'รี่', 'รู้สึก', 'ลอง', 'ลิ้น', 'ลืม', 'ววว', 'สด', 'สตอ', 'สั่ง', 'สามรส', 'ส่วนตัว', 'หนึบ', 'หม้อ', 'หวาน', 'อยากได้', 'เข้มข้น', 'เข้ากัน', 'เค็ม', 'เนื้อวัว', 'เนื้อสัตว์', 'เนื้อหมู', 'เบอ', 'เป็นผู้ใหญ่', 'เลือก', 'เสิร์ฟ', 'เหนียว', 'เห็ด', 'แดง', 'แตก', 'แตา', 'แนว', 'แย้', 'โควิด', 'โต๊ะ', 'โร', 'ใส', 'ไก่', 'ไข่', 'ไดฟูกุ', 'ไผ่', 'ไม้', 'ไหว', '3', 'ข้าว', 'จ่าย', 'ถ้วย', 'ธรรมดา', 'ส', 'ออ', 'เกินไป', 'เลี่ยน', 'โปร', 'โหด', 'ไว', 'ไอศกรีม', 'ขนม', 'คุณภาพดี', 'ตัดสินใจ', 'ต่าง ๆ', 'ที่จะ', 'ที่นั่ง', 'บัตรเครดิต', 'มมาก', 'ลูกชิ้น', 'สบายดี', 'หน้า', 'หอ', 'เดิน', 'เด็ก', 'เส้น', 'เหมือนกับ', 'แคบ', 'ได้กลิ่น', 'คามี', 'ซึ', 'นะคะ', 'บุ', 'บ๋วย', 'พอน', 'ฟเฟ่', 'รา', 'สาย', 'หยิบ', 'โซน', 'โปรโมชั่น', '+', '/', '20', '4.0', '5', 'Menu', 'Number', 'กรรมวิธี', 'กะปิ', 'ก์', 'คน', 'คะแนน', 'ชุด', 'ดังเดิม', 'บุฟเฟ่ต์', 'ประ', 'พารา', 'มอ', 'ยุค', 'ร้านอาหาร', 'ล', 'สุกี้', 'สไตล์', 'ส์', 'หมู', 'หลาก', 'หลายชนิด', 'เดอะ', 'เมนู', 'แบบฉบับ', 'แบ่ง', 'ได', 'ไทย', '–', '!!!!', '500', 'กาแฟ', 'งวด', 'ตอนที่', 'ตำ', 'ติด', 'ทั่วไป', 'น', 'บ๊วย', 'ยุ', 'ร้อน', 'ลุย', 'สุกี้ยากี้', 'อยู่แล้ว', 'ออสเตรเลีย', 'เป็นปกติ', 'เฟรนไชส์', 'เรื่อง', 'เหมาะสม', 'แนะนำ', 'โช', 'ไข่ไก่', 'ไอศครีม', '..', '399', 'กุ้ง', 'ของกิน', 'ขา', 'ชิ', 'ซูชิ', 'ซ่า', 'ตอน', 'ตอนนี้', 'นิดนึง', 'ปุระ', 'ปูอัด', 'ม', 'ละลานตา', 'สายพาน', 'หิว', 'ฮ่า', 'าน', 'เกี๊ยว', 'เท', 'เทียบ', 'เล่น', 'แพง', 'แล้วก็', 'ไม่งั้น', 'กลาย', 'กี่', 'ชั่วคราว', 'ชื่นใจ', 'ซะงั้น', 'ญี่', 'ดึก', 'ตบท้าย', 'ตัว', 'ทอด', 'ทานอาหาร', 'นพ', 'นึก', 'น้ะ', 'ปลา', 'ปุ', 'ผิดหวัง', 'วก', 'สมใจ', 'อย่า', 'อาหารเสริม', 'เติม', 'เป็นมา', 'เป็นหลัก', 'เย็น', '1.15', 'net', 'กลับมา', 'ของคาว', 'ชม.', 'ตรงนั้น', 'ยืน', 'ลายตา', 'สไลด์', 'อัพเดท', 'อิ่ม', 'เบ', 'เพลิน', 'ไลน์', '\"', '-', '/คน', '15', '359', 'G', 'Net', 'Shabushi', 'กด', 'กรอ', 'ขาดสารอาหาร', 'ขึ้นราคา', 'ข่าว', 'คนเดียว', 'ครึ่ง', 'คิว', 'งาน', 'จุ', 'ชั่วโมง', 'ชั้น', 'ชื่น', 'ดู', 'ตลับ', 'ตับ', 'ตั้งอยู่', 'ติง', 'ถนนใหญ่', 'ถูกใจ', 'ทำ', 'ทิ้ง', 'น้ำมัน', 'บดี', 'ปลาดิบ', 'ปอกเปลือก', 'ฝรั่ง', 'ฝั่ง', 'มอลล์', 'มื้อ', 'รอ', 'ระดับ', 'รายการ', 'ลด', 'ลา', 'ลูก', 'วันหยุด', 'วาง', 'วานิลา', 'สะอาด', 'สาเหตุ', 'สำหรับ', 'สไปรท์', 'หนา', 'หอม', 'หอย', 'หาไม่', 'ห่างหาย', 'ห้าง', 'อม', 'ออกมา', 'อาทิตย์', 'อีกครั้ง', 'เช็คบิล', 'เด่น', 'เด้ง', 'เบคอน', 'เปรี้ยวหวาน', 'เพื่อน', 'เลิก', 'เวลา', 'เสาร์', 'เหมือน', 'เหมือนกัน', 'แก้ว', 'แถม', 'แน่น', 'แป้ง', 'แย่', 'แออัด', 'โดน', 'โดยประมาณ', 'โฟลต', 'โอ', 'ใจดี', 'ใจมา', 'ใช้ได้', 'ใส่', 'ได้ยิน', 'ชอค', 'ต', 'นัด', 'นิ', 'มะนาว', 'มุ', 'ลงเอย', 'ว', 'วันก่อน', 'ห', 'หา', 'อยุ่', 'อาหารสด', 'เบอร์', 'แกงค์', 'แล', 'โก', 'กินที่', 'ขยัน', 'จอง', 'ชู', 'ณ์', 'บุฟเฟต์', 'ป', 'ประตู', 'พลาด', 'พอได้', 'พี่', 'รอบ', 'ร้อย', 'สาม', 'สุดท้าย', 'หลายครั้ง', 'หล่ะ', 'อาราม', 'เข้าหน้า', 'เต็ม', 'โชคดี', 'ขวัญใจ', 'ข้อดี', 'ต้องการ', 'ทั่วถึง', 'นํ้า', 'บ', 'ฟเฟ', 'มี่', 'ระบบ', 'รีวิว', 'สวัสดี', 'เก้', 'ใช้แล้ว', '^^', 'xx', 'กลยุทธ์', 'ขนาด', 'ข้น', 'ข้าวปั้น', 'ค่า', 'ชอป', 'ซุ้ม', 'ดีขึ้น', 'ตรงข้าม', 'ตรงนี้', 'ต้ม', 'ต้มยำ', 'ท่าน', 'นัล', 'บริเวณ', 'บัตรสมาชิก', 'ปรับปรุง', 'มันดี', 'มากขึ้น', 'ยอด', 'ลาน', 'สลัด', 'หมู่คณะ', 'ออกร้าน', 'อิอิ', 'เครือ', 'เคลื่อนตัว', 'เคาน์เตอร์', 'เบา', 'เป็นแนว', 'แมค', 'โชคชะตา', 'โด', 'โน้น', 'โออิชิ', '199', '39', '40', '49', 'HALL', 'MCC', 'ค่ายมวย', 'ด้านใน', 'ตอนแรก', 'ตัวเลือก', 'ติดกับ', 'ที่ไหนได้', 'นม', 'นา', 'น้ำดื่ม', 'พิซ', 'พิซซ่า', 'ฟี', 'ยู', 'รี', 'หลังจากที่', 'อลล์', 'อเรีย', 'เซ', 'แกงเขียวหวาน', 'แน่นอน', 'แวะ', '10', '300', '6', 'VAT', 'กำ', 'ค่าน้ำ', 'ช่อง', 'ซี', 'ซึป', 'ถูกหวย', 'ทอน', 'นึง', 'ฟรี', 'ฟู้ด', 'รับประกัน', 'ลอตเตอรี่', 'สัปดาห์', 'หวย', 'หัว', 'ฮัน', 'เงิน', 'แลก', 'โทส', 'ได้เวลา', 'Narai', 'mall', 'pizza', 'pizzeria', 'union', 'ของสด', 'ขึ้นใจ', 'ข้าวมันไก่', 'จำได้', 'ชื่อ', 'ตตี้', 'ตัดกำลัง', 'ตู้', 'นิว', 'บางส่วน', 'ปรุง', 'รู้จัก', 'ลี', 'สปา', 'สุก', 'เก', '😆', '🤣', '128', '255', '29', 'ครีม', 'จบ', 'จุก', 'ชาต', 'บรา', 'บุพ', 'ปิดท้าย', 'ย', 'วิป', 'สมราคา', 'สวย', 'เ', 'เซต', 'เด็ด', 'เป้ง', 'เฟ่', 'เรย', 'เริส', 'เเบบ', 'โชค', '%', '7', 'ทดแทน', 'ปรกติ', 'สดๆ ร้อนๆ', 'เงินสด', 'โดยเฉพาะ'])\n"
          ],
          "name": "stdout"
        }
      ]
    },
    {
      "cell_type": "code",
      "metadata": {
        "id": "CXyON-MUs776"
      },
      "source": [
        "gensim_corpus = [dictionary.doc2bow(text, allow_update=True) for text in texts]\n",
        "word_frequencies = [[(dictionary[id], frequence) for id, frequence in couple] for couple in gensim_corpus]"
      ],
      "execution_count": 13,
      "outputs": []
    },
    {
      "cell_type": "markdown",
      "metadata": {
        "id": "Qd4qHiKhX-RV"
      },
      "source": [
        "# **Topic Modeling**"
      ]
    },
    {
      "cell_type": "code",
      "metadata": {
        "colab": {
          "base_uri": "https://localhost:8080/"
        },
        "id": "HmC_IpzhtBjV",
        "outputId": "50ea92c3-334e-4a45-8a58-0a6fb2da98a7"
      },
      "source": [
        "num_topics = 7\n",
        "chunksize = 4000 # size of the doc looked at every pass\n",
        "passes = 20 # number of passes through documents\n",
        "iterations = 50\n",
        "eval_every = 1  # Don't evaluate model perplexity, takes too much time.\n",
        "\n",
        "# Make a index to word dictionary.\n",
        "temp = dictionary[0]  # This is only to \"load\" the dictionary.\n",
        "id2word = dictionary.id2token\n",
        "\n",
        "%time model = gensim.models.LdaModel(corpus=gensim_corpus, id2word=id2word, chunksize=chunksize, \\\n",
        "                       alpha='auto', eta='auto', \\\n",
        "                       iterations=iterations, num_topics=num_topics, \\\n",
        "                       passes=passes, eval_every=eval_every)"
      ],
      "execution_count": 14,
      "outputs": [
        {
          "output_type": "stream",
          "text": [
            "CPU times: user 319 ms, sys: 6.2 ms, total: 325 ms\n",
            "Wall time: 326 ms\n"
          ],
          "name": "stdout"
        }
      ]
    },
    {
      "cell_type": "code",
      "metadata": {
        "colab": {
          "base_uri": "https://localhost:8080/",
          "height": 860
        },
        "id": "7VJi9nK-tI0S",
        "outputId": "4bd95215-f173-4ba3-cb11-c7b9cc51f3a3"
      },
      "source": [
        "pyLDAvis.gensim_models.prepare(model, gensim_corpus, dictionary)"
      ],
      "execution_count": 15,
      "outputs": [
        {
          "output_type": "execute_result",
          "data": {
            "text/html": [
              "\n",
              "<link rel=\"stylesheet\" type=\"text/css\" href=\"https://cdn.jsdelivr.net/gh/bmabey/pyLDAvis@3.3.1/pyLDAvis/js/ldavis.v1.0.0.css\">\n",
              "\n",
              "\n",
              "<div id=\"ldavis_el3371397975969406242606506961\"></div>\n",
              "<script type=\"text/javascript\">\n",
              "\n",
              "var ldavis_el3371397975969406242606506961_data = {\"mdsDat\": {\"x\": [-0.07909435337596843, -0.018060451944200157, 0.047604724779283826, 0.06779401363182085, -0.0016306135329342845, -0.023703799998772902, 0.007090480440771169], \"y\": [0.005324551457854025, -0.002191049958235827, 0.06766147242026103, -0.04033200994305317, -0.040833701646182115, 0.007965240114576479, 0.0024054975547795946], \"topics\": [1, 2, 3, 4, 5, 6, 7], \"cluster\": [1, 1, 1, 1, 1, 1, 1], \"Freq\": [22.55304207770592, 18.204659296040386, 17.03392618689033, 16.423734720167495, 12.32192753423562, 9.575228397552864, 3.8874817874073835]}, \"tinfo\": {\"Term\": [\"\\u200b\", \"\\u0e01\\u0e38\\u0e49\\u0e07\", \"-\", \"\\u0e17\\u0e32\\u0e19\", \"\\u0e21\", \"\\u0e1b\\u0e38\\u0e23\\u0e30\", \"\\u0e40\\u0e17\", \"\\u0e0a\\u0e32\\u0e1a\\u0e39\", \":\", \"\\u0e42\\u0e21\", \"\\u0e0a\\u0e2d\\u0e1a\", \"\\u0e01\\u0e34\\u0e19\", \"\\u0e2d\\u0e32\\u0e2b\\u0e32\\u0e23\", \"\\u0e19\\u0e49\\u0e33\", \"\\u0e2d\\u0e23\\u0e48\\u0e2d\\u0e22\", \"\\u0e17\\u0e2d\\u0e14\", \"\\u0e1a\\u0e32\\u0e17\", \"\\u0e40\\u0e19\\u0e37\\u0e49\\u0e2d\", \"\\u0e40\\u0e27\\u0e25\\u0e32\", \"\\u0e2a\\u0e14\", \"\\u0e23\\u0e2a\\u0e0a\\u0e32\\u0e15\\u0e34\", \"\\u0e23\\u0e32\\u0e04\\u0e32\", \"\\u0e0a\\u0e34\", \"\\u0e15\\u0e31\\u0e27\", \"\\u0e04\\u0e38\\u0e49\\u0e21\", \"\\u0e0b\\u0e39\\u0e0a\\u0e34\", \"\\u0e40\\u0e25\\u0e37\\u0e2d\\u0e01\", \"\\u0e0b\\u0e38\\u0e1b\", \"\\u0e40\\u0e21\\u0e19\\u0e39\", \"\\u0e14\\u0e35\", \"\\u0e19\\u0e31\\u0e48\\u0e07\", \"\\u0e40\\u0e2b\\u0e47\\u0e14\", \"\\u0e15\\u0e48\\u0e32\\u0e07 \\u0e46\", \"\\u0e21\\u0e21\\u0e32\\u0e01\", \"\\u0e2b\\u0e2d\", \"\\u0e44\\u0e14\\u0e1f\\u0e39\\u0e01\\u0e38\", \"\\u0e01\\u0e01\", \"\\u0e44\\u0e21\\u0e49\", \"::\", \"\\u0e44\\u0e1c\\u0e48\", \"\\u0e44\\u0e01\\u0e48\", \"\\u0e04\\u0e38\\u0e13\\u0e20\\u0e32\\u0e1e\\u0e14\\u0e35\", \"\\u0e15\\u0e31\\u0e14\\u0e2a\\u0e34\\u0e19\\u0e43\\u0e08\", \"\\u0e44\\u0e14\\u0e49\\u0e01\\u0e25\\u0e34\\u0e48\\u0e19\", \"\\u0e02\\u0e19\\u0e21\", \"\\u0e1a\\u0e31\\u0e15\\u0e23\\u0e40\\u0e04\\u0e23\\u0e14\\u0e34\\u0e15\", \"\\u0e40\\u0e14\\u0e47\\u0e01\", \"\\u0e2a\\u0e1a\\u0e32\\u0e22\\u0e14\\u0e35\", \"\\u0e17\\u0e35\\u0e48\\u0e08\\u0e30\", \"\\u0e40\\u0e2a\\u0e49\\u0e19\", \"\\u0e41\\u0e04\\u0e1a\", \"\\u0e40\\u0e2b\\u0e21\\u0e37\\u0e2d\\u0e19\\u0e01\\u0e31\\u0e1a\", \"\\u0e1a\\u0e38\\u0e1e\", \"\\u0e40\\u0e14\\u0e47\\u0e14\", \"29\", \"\\u0e27\\u0e34\\u0e1b\", \"\\u0e2a\\u0e21\\u0e23\\u0e32\\u0e04\\u0e32\", \"\\u0e1b\\u0e34\\u0e14\\u0e17\\u0e49\\u0e32\\u0e22\", \"\\u0e2a\\u0e27\\u0e22\", \"\\u0e1a\\u0e23\\u0e32\", \"2\", \"\", \"\\u0e19\\u0e49\\u0e33\", \"\\u0e2d\\u0e23\\u0e48\\u0e2d\\u0e22\", \"\\u0e40\\u0e25\\u0e37\\u0e2d\\u0e01\", \"\\u0e40\\u0e19\\u0e37\\u0e49\\u0e2d\\u0e2b\\u0e21\\u0e39\", \"\\u0e40\\u0e19\\u0e37\\u0e49\\u0e2d\\u0e27\\u0e31\\u0e27\", \"+\", \":\", \"\\u0e42\\u0e1b\\u0e23\\u0e42\\u0e21\\u0e0a\\u0e31\\u0e48\\u0e19\", \"\\u0e40\\u0e1b\\u0e47\\u0e14\", \"\\u0e0b\\u0e38\\u0e1b\", \"\\u0e0a\\u0e38\\u0e14\", \"\\u0e15\\u0e31\\u0e01\", \"\\u0e42\\u0e15\\u0e4a\\u0e30\", \"\\u0e40\\u0e2a\\u0e34\\u0e23\\u0e4c\\u0e1f\", \"\\u0e02\\u0e2d\\u0e07\\u0e2b\\u0e27\\u0e32\\u0e19\", \"\\u0e04\\u0e19\\u0e25\\u0e30\", \"\\u0e2a\\u0e31\\u0e48\\u0e07\", \"\\u0e17\\u0e32\\u0e19\", \"\\u0e1a\\u0e38\\u0e1f\\u0e40\\u0e1f\\u0e48\\u0e15\\u0e4c\", \"\\u0e0a\\u0e32\\u0e1a\\u0e39\", \"\\u0e40\\u0e19\\u0e37\\u0e49\\u0e2d\", \"\\u0e14\\u0e33\", \"\\u0e1c\\u0e31\\u0e01\", \"\\u0e19\\u0e38\\u0e48\\u0e21\", \"\\u0e44\\u0e2d\\u0e15\\u0e34\\u0e21\", \"\\u0e0a\\u0e2d\\u0e1a\", \"\\u0e23\\u0e2a\\u0e0a\\u0e32\\u0e15\\u0e34\", \"\\u0e14\\u0e35\", \"\\u0e01\\u0e34\\u0e19\", \"\\u0e23\\u0e32\\u0e04\\u0e32\", \"\\u0e2a\\u0e32\\u0e02\\u0e32\", \"\\u0e19\\u0e49\\u0e33\\u0e08\\u0e34\\u0e49\\u0e21\", \"\\u0e23\\u0e2a\", \"\\u0e25\\u0e2d\\u0e07\", \"\\u0e2d\\u0e32\\u0e2b\\u0e32\\u0e23\", \"199\", \"\\u0e19\\u0e4d\\u0e49\\u0e32\", \"\\u0e2d\\u0e34\\u0e48\\u0e21\", \"\\u0e40\\u0e1a\", \"\\u0e08\\u0e48\\u0e32\\u0e22\", \"\\u0e43\\u0e0a\\u0e49\\u0e41\\u0e25\\u0e49\\u0e27\", \"\\u0e1a\", \"\\u0e1f\\u0e40\\u0e1f\", \"\\u0e17\\u0e31\\u0e48\\u0e27\\u0e16\\u0e36\\u0e07\", \"\\u0e21\\u0e35\\u0e48\", \"\\u0e23\\u0e30\\u0e1a\\u0e1a\", \"\\u0e40\\u0e01\\u0e49\", \"\\u0e15\\u0e49\\u0e2d\\u0e07\\u0e01\\u0e32\\u0e23\", \"\\u0e2a\\u0e27\\u0e31\\u0e2a\\u0e14\\u0e35\", \"\\u0e23\\u0e35\\u0e27\\u0e34\\u0e27\", \"\\u0e02\\u0e49\\u0e2d\\u0e14\\u0e35\", \"\\u0e02\\u0e27\\u0e31\\u0e0d\\u0e43\\u0e08\", \"1.15\", \"\\u0e25\\u0e32\\u0e22\\u0e15\\u0e32\", \"\\u0e15\\u0e23\\u0e07\\u0e19\\u0e31\\u0e49\\u0e19\", \"\\u0e2d\\u0e31\\u0e1e\\u0e40\\u0e14\\u0e17\", \"net\", \"\\u0e22\\u0e37\\u0e19\", \"\\u0e02\\u0e2d\\u0e07\\u0e04\\u0e32\\u0e27\", \"\\u0e2d\\u0e25\\u0e25\\u0e4c\", \"\\u0e15\\u0e34\\u0e14\\u0e01\\u0e31\\u0e1a\", \"49\", \"HALL\", \"\\u0e19\\u0e49\\u0e33\\u0e14\\u0e37\\u0e48\\u0e21\", \"\\u0e40\\u0e07\\u0e34\\u0e19\\u0e2a\\u0e14\", \"\\u0e41\\u0e19\\u0e48\\u0e19\\u0e2d\\u0e19\", \"\\u0e40\\u0e0b\", \"VAT\", \"\\u0e1a\\u0e32\\u0e17\", \"\\u0e1e\\u0e34\\u0e0b\\u0e0b\\u0e48\\u0e32\", \"\\u0e41\\u0e19\\u0e30\\u0e19\\u0e33\", \"\\u0e0b\\u0e38\\u0e1b\", \"\\u0e2d\\u0e40\\u0e23\\u0e35\\u0e22\", \"\\u0e1e\\u0e34\\u0e0b\", \"\\u0e0b\\u0e39\\u0e0a\\u0e34\", \"\\u0e23\\u0e32\\u0e04\\u0e32\", \"\\u0e19\\u0e32\", \"\\u0e19\\u0e49\\u0e33\", \"\\u0e17\\u0e32\\u0e19\", \"\\u0e14\\u0e35\\u0e21\\u0e32\\u0e01\", \"\", \"\\u0e0a\\u0e32\\u0e1a\\u0e39\", \"\\u0e25\\u0e2d\\u0e07\", \"\\u0e23\\u0e2a\\u0e0a\\u0e32\\u0e15\\u0e34\", \"\\u0e04\\u0e19\\u0e25\\u0e30\", \"4\", \"-\", \"\\u0e04\\u0e38\\u0e49\\u0e21\", \"\\u0e2d\\u0e23\\u0e48\\u0e2d\\u0e22\", \"\\u0e2a\\u0e31\\u0e48\\u0e07\", \"\\u0e14\\u0e35\", \"\\u0e40\\u0e19\\u0e37\\u0e49\\u0e2d\", \"\\u0e40\\u0e25\\u0e37\\u0e2d\\u0e01\", \"\\u0e01\\u0e34\\u0e19\", \"\\u0e40\\u0e21\\u0e19\\u0e39\", \"\\u0e2b\\u0e21\\u0e39\", \"\\u0e2a\\u0e32\\u0e02\\u0e32\", \"\\u0e02\\u0e2d\\u0e07\\u0e2b\\u0e27\\u0e32\\u0e19\", \"\\u0e0a\\u0e34\", \"\\u0e2d\\u0e32\\u0e2b\\u0e32\\u0e23\", \"\\u0e41\\u0e1e\\u0e07\", \"\\u0e04\\u0e48\\u0e32\", \"\\u0e1a\\u0e38\\u0e1f\\u0e40\\u0e1f\\u0e15\\u0e4c\", \"\\u0e40\\u0e25\\u0e48\\u0e19\", \"\\u0e41\\u0e25\\u0e49\\u0e27\\u0e01\\u0e47\", \"\\u0e0a\\u0e39\", \"\\u0e1b\\u0e23\\u0e30\\u0e15\\u0e39\", \"\\u0e02\\u0e32\", \"\\u0e32\\u0e19\", \"\\u0e02\\u0e2d\\u0e07\\u0e01\\u0e34\\u0e19\", \"\\u0e1b\\u0e39\\u0e2d\\u0e31\\u0e14\", \"\\u0e2e\\u0e48\\u0e32\", \"\\u0e44\\u0e21\\u0e48\\u0e07\\u0e31\\u0e49\\u0e19\", \"\\u0e40\\u0e01\\u0e35\\u0e4a\\u0e22\\u0e27\", \"\\u0e25\\u0e30\\u0e25\\u0e32\\u0e19\\u0e15\\u0e32\", \"           \", \"\\u0e2a\\u0e39\\u0e49\", \"\\u0e1e\\u0e32\\u0e23\\u0e32\\u0e44\\u0e14\\u0e0b\\u0e4c\", \"\\u0e1e\\u0e19\\u0e31\\u0e01\\u0e07\\u0e32\\u0e19\\u0e1a\\u0e23\\u0e34\\u0e01\\u0e32\\u0e23\", \"\\u0e0b\\u0e48\\u0e32\", \"\\u0e40\\u0e04\\u0e49\\u0e32\", \"..\", \"\\u0e40\\u0e04\\u0e23\\u0e37\\u0e48\\u0e2d\\u0e07\\u0e14\\u0e37\\u0e48\\u0e21\", \"\\u0e1e\\u0e23\\u0e35\\u0e40\\u0e21\\u0e35\\u0e22\\u0e21\", \"\\u0e17\\u0e35\\u0e48\\u0e17\\u0e32\\u0e07\", \"\\u0e21\\u0e32\\u0e15\\u0e23\\u0e32\", \"9\", \"\\u0e17\\u0e33\\u0e07\\u0e32\\u0e19\", \"\\u0e41\\u0e08\\u0e49\\u0e07\", \"\\u0e17\\u0e30\\u0e22\\u0e2d\\u0e22\", \"\\u0e23\\u0e2d\", \"\\u0e2a\\u0e32\\u0e22\\u0e1e\\u0e32\\u0e19\", \"\\u0e04\\u0e34\\u0e27\", \"\\u0e2b\\u0e49\\u0e32\\u0e07\", \"\\u0e2b\\u0e21\\u0e49\\u0e2d\", \"\\u0e0a\\u0e34\", \"\\u0e2d\\u0e32\\u0e2b\\u0e32\\u0e23\", \"\\u0e2a\\u0e32\\u0e02\\u0e32\", \"\\u0e2b\\u0e19\\u0e49\\u0e32\", \"\\u0e14\\u0e35\", \"\\u0e42\\u0e2d\\u0e40\\u0e04\", \"\\u0e21\\u0e2d\\u0e25\\u0e25\\u0e4c\", \"\\u0e40\\u0e25\\u0e37\\u0e2d\\u0e01\", \"\\u0e04\\u0e19\", \"\\u0e2b\\u0e22\\u0e34\\u0e1a\", \"\\u0e04\\u0e38\\u0e13\\u0e20\\u0e32\\u0e1e\", \"\\u0e01\\u0e30\\u0e1b\\u0e34\", \"\\u0e23\\u0e32\\u0e04\\u0e32\", \"\\u0e17\\u0e32\\u0e19\", \"3\", \"\\u0e1a\\u0e32\\u0e17\", \"\\u0e01\\u0e34\\u0e19\", \"\\u0e40\\u0e14\\u0e2d\\u0e30\", \"\\u0e0a\\u0e32\\u0e1a\\u0e39\", \"\\u0e40\\u0e19\\u0e37\\u0e49\\u0e2d\", \"\\u0e04\\u0e38\\u0e49\\u0e21\", \"\\u0e40\\u0e21\\u0e19\\u0e39\", \"\\u0e1e\\u0e19\\u0e31\\u0e01\\u0e07\\u0e32\\u0e19\", \"\\u0e19\\u0e49\\u0e33\", \"\\u0e1a\\u0e23\\u0e34\\u0e01\\u0e32\\u0e23\", \"\\u0e1c\\u0e31\\u0e01\", \"\\u0e14\\u0e39\", \"\\u0e2d\\u0e23\\u0e48\\u0e2d\\u0e22\", \"\\u0e43\\u0e0a\\u0e49\\u0e44\\u0e14\\u0e49\", \"\\u0e1b\\u0e2d\\u0e01\\u0e40\\u0e1b\\u0e25\\u0e37\\u0e2d\\u0e01\", \"\\u0e2d\\u0e35\\u0e01\\u0e04\\u0e23\\u0e31\\u0e49\\u0e07\", \"\\u0e40\\u0e0a\\u0e47\\u0e04\\u0e1a\\u0e34\\u0e25\", \"\\u0e2b\\u0e2d\\u0e21\", \"\\u0e43\\u0e08\\u0e14\\u0e35\", \"\\u0e42\\u0e14\\u0e19\", \"\\u0e40\\u0e14\\u0e49\\u0e07\", \"\\u0e27\\u0e32\\u0e19\\u0e34\\u0e25\\u0e32\", \"\\u0e0a\\u0e37\\u0e48\\u0e19\", \"\\u0e40\\u0e27\\u0e25\\u0e32\", \"-\", \"\\u0e2a\\u0e33\\u0e2b\\u0e23\\u0e31\\u0e1a\", \"\\u0e15\\u0e31\\u0e27\", \"\\u0e02\\u0e48\\u0e32\\u0e27\", \"\\u0e40\\u0e1b\\u0e23\\u0e35\\u0e49\\u0e22\\u0e27\\u0e2b\\u0e27\\u0e32\\u0e19\", \"\\u0e04\\u0e19\\u0e40\\u0e14\\u0e35\\u0e22\\u0e27\", \"\\u0e23\\u0e30\\u0e14\\u0e31\\u0e1a\", \"\\u0e23\\u0e32\\u0e22\\u0e01\\u0e32\\u0e23\", \"\\u0e15\\u0e25\\u0e31\\u0e1a\", \"\\u0e43\\u0e2a\\u0e48\", \"\\u0e41\\u0e1b\\u0e49\\u0e07\", \"\\u0e40\\u0e1a\\u0e04\\u0e2d\\u0e19\", \"\\u0e19\\u0e49\\u0e33\\u0e21\\u0e31\\u0e19\", \"\\u0e2d\\u0e21\", \"\\u0e2b\\u0e2d\\u0e22\", \"\\u0e42\\u0e14\\u0e22\\u0e1b\\u0e23\\u0e30\\u0e21\\u0e32\\u0e13\", \"\\u0e2b\\u0e19\\u0e32\", \"\\u0e2a\\u0e32\\u0e40\\u0e2b\\u0e15\\u0e38\", \"\\u0e2a\\u0e44\\u0e1b\\u0e23\\u0e17\\u0e4c\", \"\\u0e01\\u0e25\\u0e31\\u0e1a\\u0e21\\u0e32\", \"\\u0e2a\\u0e14\", \"\\u0e01\\u0e38\\u0e49\\u0e07\", \"\\u0e19\\u0e30\\u0e04\\u0e30\", \"15\", \"\\u0e01\\u0e34\\u0e19\", \"\\u0e04\\u0e19\", \"\\u0e19\\u0e32\\u0e17\\u0e35\", \"\\u0e15\\u0e31\\u0e49\\u0e07\\u0e2d\\u0e22\\u0e39\\u0e48\", \"\\u0e0a\\u0e31\\u0e48\\u0e27\\u0e42\\u0e21\\u0e07\", \"\\u0e15\\u0e34\\u0e14\", \"1\", \"\\u0e19\\u0e38\\u0e48\\u0e21\", \"\\u0e14\\u0e35\", \"\\\"\", \"\\u0e2a\\u0e44\\u0e25\\u0e14\\u0e4c\", \"\\u0e2a\\u0e32\\u0e02\\u0e32\", \"\\u0e40\\u0e19\\u0e37\\u0e49\\u0e2d\", \"\\u0e2d\\u0e32\\u0e2b\\u0e32\\u0e23\", \"\\u0e23\\u0e2a\\u0e0a\\u0e32\\u0e15\\u0e34\", \"\\u0e17\\u0e32\\u0e19\", \"\\u0e0a\\u0e32\\u0e1a\\u0e39\", \"\\u0e18\\u0e23\\u0e23\\u0e21\\u0e14\\u0e32\", \"\\u0e19\\u0e49\\u0e33\", \"\\u0e23\\u0e32\\u0e04\\u0e32\", \"\\u0e2d\\u0e23\\u0e48\\u0e2d\\u0e22\", \"\\u0e23\\u0e39\\u0e49\\u0e2a\\u0e36\\u0e01\", \"\\u0e14\\u0e39\", \"\\u0e2b\\u0e27\\u0e32\\u0e19\", \"\\u0e04\\u0e38\\u0e49\\u0e21\", \"\\u0e2b\\u0e49\\u0e32\\u0e07\", \"\\u0e23\\u0e2d\", \"\\u200b\", \"\\u0e1b\\u0e23\\u0e30\\u0e17\\u0e31\\u0e1a\\u0e43\\u0e08\", \"\\u0e0a\\u0e37\\u0e48\\u0e2d\", \"\\u0e1a\\u0e32\\u0e07\\u0e2a\\u0e48\\u0e27\\u0e19\", \"\\u0e41\\u0e25\", \"\\u0e2b\\u0e32\", \"\\u0e0a\\u0e2d\\u0e04\", \"\\u0e40\\u0e1a\\u0e2d\\u0e23\\u0e4c\", \"\\u0e2d\\u0e32\\u0e2b\\u0e32\\u0e23\\u0e2a\\u0e14\", \"\\u0e42\\u0e01\", \"\\u0e19\\u0e34\", \"\\u0e21\\u0e38\", \"\\u0e27\\u0e31\\u0e19\\u0e01\\u0e48\\u0e2d\\u0e19\", \"\\u0e21\\u0e30\\u0e19\\u0e32\\u0e27\", \"\\u0e15\", \"\\u0e2b\", \"\\u0e41\\u0e01\\u0e07\\u0e04\\u0e4c\", \"\\u0e19\\u0e31\\u0e14\", \"\\u0e2d\\u0e22\\u0e38\\u0e48\", \"\\u0e25\\u0e07\\u0e40\\u0e2d\\u0e22\", \"\\u0e40\\u0e15\\u0e49\\u0e32\\u0e40\\u0e08\\u0e35\\u0e49\\u0e22\\u0e27\", \"\\u0e40\\u0e1c\\u0e47\\u0e14\", \"\\u0e04\\u0e27\\u0e32\\u0e21\\u0e15\\u0e49\\u0e2d\\u0e07\\u0e01\\u0e32\\u0e23\", \"\\u0e08\\u0e33\\u0e01\\u0e31\\u0e14\", \"\\u0e02\\u0e49\\u0e32\\u0e07\\u0e19\\u0e2d\\u0e01\", \"560\", \"\\u0e42\\u0e21\\u0e08\\u0e34\", \"\\u0e20\\u0e32\\u0e1e\", \"\\u0e1e\\u0e2d\\u0e01\\u0e31\\u0e1a\", \"\\u0e40\\u0e04\\u0e25\\u0e21\", \"\\u0e1a\\u0e23\\u0e34\\u0e01\\u0e32\\u0e23\", \"\\u0e2b\\u0e25\\u0e32\\u0e01\\u0e2b\\u0e25\\u0e32\\u0e22\", \"\\u0e2d\\u0e32\\u0e2b\\u0e32\\u0e23\", \"\\u0e23\\u0e2a\\u0e0a\\u0e32\\u0e15\\u0e34\", \"\\u0e01\\u0e34\\u0e19\", \"\\u0e2d\\u0e23\\u0e48\\u0e2d\\u0e22\", \":\", \"\\\"\", \"\\u0e14\\u0e35\", \"\\u0e23\\u0e32\\u0e04\\u0e32\", \"\\u0e04\\u0e38\\u0e13\\u0e20\\u0e32\\u0e1e\", \"1\", \"\\u0e1e\\u0e19\\u0e31\\u0e01\\u0e07\\u0e32\\u0e19\", \"\\u0e17\\u0e32\\u0e19\", \"\\u0e40\\u0e19\\u0e37\\u0e49\\u0e2d\", \"\\u0e1a\\u0e32\\u0e17\", \"\\u0e0a\\u0e32\\u0e1a\\u0e39\", \"\\u0e19\\u0e49\\u0e33\", \"\\u0e04\\u0e38\\u0e49\\u0e21\", \"\\u0e44\\u0e2d\\u0e15\\u0e34\\u0e21\", \"\\u0e04\\u0e19\", \"\\u0e1a\\u0e38\\u0e1f\\u0e40\\u0e1f\\u0e48\\u0e15\\u0e4c\", \"\\u0e40\\u0e14\\u0e2d\\u0e30\", \"\\u0e0b\\u0e39\\u0e0a\\u0e34\", \"\\u0e2a\\u0e31\\u0e48\\u0e07\", \"\\u0e0b\\u0e38\\u0e1b\", \"\\u0e40\\u0e25\\u0e37\\u0e2d\\u0e01\", \"\\u0e0b\\u0e36\", \"\\u0e2a\\u0e38\\u0e01\\u0e35\\u0e49\", \"\\u0e1e\\u0e2d\\u0e19\", \"\\u0e40\\u0e01\\u0e34\\u0e19\\u0e44\\u0e1b\", \"\\u0e42\\u0e21\", \"\\u0e04\\u0e32\\u0e21\\u0e35\", \"\\u0e1a\\u0e4b\\u0e27\\u0e22\", \"\\u0e2a\\u0e32\\u0e22\", \"\\u0e23\\u0e32\", \"\\u0e44\\u0e17\\u0e22\", \"\\u0e01\\u0e4c\", \"\\u0e21\\u0e2d\", \"20\", \"\\u0e04\\u0e30\\u0e41\\u0e19\\u0e19\", \"4.0\", \"\\u0e22\\u0e38\\u0e04\", \"\\u0e01\\u0e23\\u0e23\\u0e21\\u0e27\\u0e34\\u0e18\\u0e35\", \"\\u0e2b\\u0e25\\u0e32\\u0e22\\u0e0a\\u0e19\\u0e34\\u0e14\", \"\\u0e2a\\u0e4c\", \"\\u0e14\\u0e31\\u0e07\\u0e40\\u0e14\\u0e34\\u0e21\", \"\\u0e41\\u0e1a\\u0e1a\\u0e09\\u0e1a\\u0e31\\u0e1a\", \"Number\", \"\\u0e2a\\u0e44\\u0e15\\u0e25\\u0e4c\", \"Menu\", \"\\u0e44\\u0e14\", \"\\u2013\", \"\\u0e1b\\u0e23\\u0e30\", \"\\u0e1e\\u0e32\\u0e23\\u0e32\", \"\\u0e23\\u0e49\\u0e32\\u0e19\\u0e2d\\u0e32\\u0e2b\\u0e32\\u0e23\", \"\\u0e44\\u0e27\", \"\\u0e19\\u0e36\\u0e01\\u0e16\\u0e36\\u0e07\", \"\\u0e0a\\u0e2d\\u0e1a\", \"/\", \":\", \"\\u0e19\\u0e49\\u0e33\\u0e08\\u0e34\\u0e49\\u0e21\", \"\\u0e0a\\u0e32\\u0e1a\\u0e39\", \"\\u0e40\\u0e19\\u0e37\\u0e49\\u0e2d\", \"\\u0e1f\\u0e40\\u0e1f\\u0e48\", \"\\u0e0d\\u0e35\\u0e48\\u0e1b\\u0e38\\u0e48\\u0e19\", \"\\u0e1a\\u0e38\", \"\\u0e40\\u0e25\\u0e37\\u0e2d\\u0e01\", \"\\u0e19\\u0e49\\u0e33\", \"\\u0e23\\u0e2a\", \"\\u0e17\\u0e32\\u0e19\", \"\\u0e14\\u0e33\", \"\\u0e1c\\u0e31\\u0e01\", \"\\u0e23\\u0e32\\u0e04\\u0e32\", \"\\u0e2a\\u0e31\\u0e48\\u0e07\", \"\\u0e2d\\u0e23\\u0e48\\u0e2d\\u0e22\", \"\\u0e14\\u0e35\", \"\\u0e2d\\u0e32\\u0e2b\\u0e32\\u0e23\", \"\\u0e04\\u0e38\\u0e49\\u0e21\", \"\\u0e23\\u0e2a\\u0e0a\\u0e32\\u0e15\\u0e34\", \"\\u0e2a\\u0e32\\u0e02\\u0e32\", \"\\u0e44\\u0e2d\\u0e15\\u0e34\\u0e21\", \"\\u0e1a\\u0e32\\u0e17\", \"\\u0e01\\u0e34\\u0e19\", \"\\u0e04\\u0e19\", \"\\u0e02\\u0e2d\\u0e07\\u0e2b\\u0e27\\u0e32\\u0e19\", \"\\u0e01\\u0e25\\u0e32\\u0e22\", \"\\u0e2d\\u0e32\\u0e2b\\u0e32\\u0e23\\u0e40\\u0e2a\\u0e23\\u0e34\\u0e21\", \"\\u0e0a\\u0e37\\u0e48\\u0e19\\u0e43\\u0e08\", \"\\u0e40\\u0e22\\u0e47\\u0e19\", \"\\u0e1b\\u0e25\\u0e32\", \"\\u0e0b\\u0e30\\u0e07\\u0e31\\u0e49\\u0e19\", \"\\u0e27\\u0e01\", \"\\u0e1b\\u0e38\", \"\\u0e14\\u0e36\\u0e01\", \"\\u0e19\\u0e49\\u0e30\", \"\\u0e2a\\u0e21\\u0e43\\u0e08\", \"\\u0e01\\u0e35\\u0e48\", \"\\u0e40\\u0e1b\\u0e47\\u0e19\\u0e21\\u0e32\", \"\\u0e19\\u0e1e\", \"\\u0e17\\u0e32\\u0e19\\u0e2d\\u0e32\\u0e2b\\u0e32\\u0e23\", \"\\u0e0d\\u0e35\\u0e48\", \"\\u0e0a\\u0e31\\u0e48\\u0e27\\u0e04\\u0e23\\u0e32\\u0e27\", \"\\u0e40\\u0e17\", \"\\u0e1b\\u0e38\\u0e23\\u0e30\", \"\\u0e21\", \"\\u0e40\\u0e15\\u0e34\\u0e21\", \"\\u0e40\\u0e1b\\u0e47\\u0e19\\u0e2b\\u0e25\\u0e31\\u0e01\", \"\\u0e1c\\u0e34\\u0e14\\u0e2b\\u0e27\\u0e31\\u0e07\", \"\\u0e2d\\u0e22\\u0e48\\u0e32\", \"\\u0e19\\u0e36\\u0e01\", \"\\u0e15\\u0e1a\\u0e17\\u0e49\\u0e32\\u0e22\", \"\\u0e25\\u0e37\\u0e21\", \"\\u0e44\\u0e02\\u0e48\", \"\\u0e17\\u0e2d\\u0e14\", \"\\u0e01\\u0e38\\u0e49\\u0e07\", \"\\u0e17\\u0e32\\u0e19\", \"\\u0e0a\\u0e32\\u0e1a\\u0e39\", \"\\u0e04\\u0e38\\u0e49\\u0e21\", \"\\u0e44\\u0e2d\\u0e15\\u0e34\\u0e21\", \"\\u0e40\\u0e21\\u0e19\\u0e39\", \"\\u0e0b\\u0e39\\u0e0a\\u0e34\", \"\\u0e14\\u0e35\", \"\\u0e0a\\u0e2d\\u0e1a\", \"\\u0e40\\u0e19\\u0e37\\u0e49\\u0e2d\", \"\\u0e01\\u0e34\\u0e19\", \"\\u0e19\\u0e49\\u0e33\", \"\\u0e23\\u0e32\\u0e04\\u0e32\", \"\\u0e2d\\u0e23\\u0e48\\u0e2d\\u0e22\", \"\\u0e0a\\u0e34\", \"\\u0e2d\\u0e32\\u0e2b\\u0e32\\u0e23\", \"\\u0e23\\u0e2a\\u0e0a\\u0e32\\u0e15\\u0e34\", \"\\u0e40\\u0e25\\u0e37\\u0e2d\\u0e01\", \"\\u0e2a\\u0e32\\u0e02\\u0e32\", \"\\u0e15\\u0e31\\u0e27\", \"\\u0e1a\\u0e32\\u0e17\", \"\\u0e0b\\u0e38\\u0e1b\", \"\\u0e04\\u0e19\", \":\", \"\\u0e02\\u0e2d\\u0e07\\u0e2b\\u0e27\\u0e32\\u0e19\"], \"Freq\": [6.0, 9.0, 10.0, 23.0, 5.0, 5.0, 5.0, 19.0, 11.0, 3.0, 7.0, 20.0, 16.0, 24.0, 19.0, 4.0, 13.0, 18.0, 4.0, 8.0, 14.0, 17.0, 7.0, 3.0, 10.0, 7.0, 16.0, 14.0, 7.0, 19.0, 1.9110753387142976, 1.9255440333196583, 1.300542686343403, 1.3097767858678764, 1.3126426077438746, 1.3185487330275834, 1.3205822630843618, 1.3215252090031804, 1.3224797870241132, 1.322653970296797, 2.6509363867217055, 0.6986678224890309, 0.6991931312030968, 0.6991951444515396, 0.699519202886079, 0.6995647619526928, 0.6999594332122459, 0.6999641307919457, 0.7000770963990159, 0.7001726884176721, 0.700201470413929, 0.7002861014132852, 0.7064648354491053, 0.7066858453892745, 0.7067971705716876, 0.7070664239097275, 0.7070628448013847, 0.7071505329557838, 0.7071699943573979, 0.7071928857378404, 3.355829247960742, 3.952510452785898, 9.169055792041357, 7.29984438883593, 6.382681770000974, 1.4234529950736705, 2.1652652536459724, 1.4285163894721598, 4.40784938830381, 1.4327864148546572, 1.431051143826447, 4.805297439412737, 1.4347027291132084, 1.4359136607691954, 1.4362593429833062, 1.4319767907216086, 3.1793171687818145, 1.8577649673365488, 3.141170137286962, 5.952206900140626, 2.8506735981962152, 4.79962216661714, 4.697843659190448, 2.387572471459814, 2.301939023508551, 2.295242362669622, 2.628792145145655, 2.4421140561074925, 3.0237199074631795, 3.468107666229151, 3.4446615239933998, 2.7605778969185426, 2.3005767253955653, 1.8102964464218523, 1.7622439343292193, 1.801268145627091, 1.9220998871872663, 2.2241300141019105, 1.147604186739948, 1.1574409777147185, 1.1587852199753896, 2.348546394456865, 0.6164680321527946, 0.6164684534698817, 0.6164688145988135, 0.6164689951632795, 0.6164694164803667, 0.6164706804316281, 0.616470860996094, 0.61647104156056, 0.6164711619368706, 0.6164712221250259, 0.6164722453236662, 0.6164731481459957, 0.6164842227665727, 0.616485847846766, 0.6164887368782208, 0.616489338759774, 0.6164895193242398, 0.6164898804531717, 0.6164993901817105, 0.6251290475136039, 0.6251762952155214, 0.6254766942986687, 0.625478319378862, 0.6255076310104974, 0.6256605089249824, 1.0708335927617691, 1.0684997368515077, 1.058038674329872, 5.195005322522939, 2.0265255591490785, 1.7107485226967367, 5.30632740856149, 1.0393143799658644, 1.0250580931230646, 2.7522216110409135, 5.077146321312589, 1.0198838377874608, 6.062709548803443, 6.012896868459232, 2.080392032129661, 2.498970076720838, 4.298789726319942, 2.13453633363515, 3.229149183172708, 1.5316740747425752, 1.3838218712260242, 2.60565261899555, 2.5563014614262487, 3.641389655762469, 2.2929674480814315, 3.318711325046087, 3.166084997050426, 2.9024745996964296, 2.740786824542689, 1.7032074283417618, 1.5260362502347815, 2.060460604122776, 1.8059908615392466, 1.629773906446535, 1.9649401960027386, 1.1327592702730913, 1.1331747806644619, 1.1338537442424454, 1.135243321823996, 1.1353081995646925, 1.138618991769612, 1.1399609247603382, 0.6046069290475412, 0.604966290908118, 0.6050309433788815, 0.6052185932330489, 0.6055447840959953, 0.605835438627015, 0.6059228996784922, 0.6059641240762265, 0.6060135708265143, 0.606080813901507, 0.6061267689678337, 0.6064084690190178, 0.6064383736026201, 0.6064993091194896, 0.6065092773140236, 0.6067437833142496, 0.6068933062322611, 0.6068934751847108, 0.6069261393249921, 0.6069276035795564, 0.6071707824722019, 0.6071863824150604, 0.6072012502306366, 2.3428744333700027, 2.4246568803767627, 1.8170779651034952, 1.8189694440957116, 1.833951246258083, 2.6067202654763117, 4.338749820084789, 3.534352789642039, 2.0239706022154422, 3.642062003774647, 1.3543954865932897, 1.3562772789783883, 3.1874298842241684, 2.3513434565001616, 1.4786335441529679, 1.3977086997810402, 1.481335994903891, 2.9203334069850437, 3.501946808703992, 1.460332051623325, 2.4624024345360933, 3.0959162266527955, 1.6056997530861687, 2.670789061843524, 2.5803731446555345, 1.9859587789953366, 1.6622162623154604, 1.6738151858943606, 2.1361077221505878, 1.6065116259246073, 1.5029629221840968, 1.4581572956903934, 1.4078159984987526, 1.6569819855302477, 1.1364001438505082, 1.1367365870917125, 1.1369352167521911, 1.1371778294703483, 1.1376708741169164, 1.1381164605012486, 1.1381871591939614, 1.1382611158909466, 1.1415790674420363, 2.791215882339986, 5.9944216089545215, 2.2756086873838908, 1.7578190639658058, 0.6094059524617523, 0.6106092963397914, 0.6109495405859804, 0.6109810346272809, 0.6110948475765328, 0.6112639922983455, 0.6112686621044694, 0.6113649361307211, 0.6113767192461732, 0.6113867104592754, 0.6114587666537684, 0.6114955821020474, 0.6114955821020474, 0.6115872949223176, 0.6116105896528657, 0.6116085262501598, 1.7554718890877716, 4.102858645999866, 4.2519566503237565, 1.2264899349923069, 1.2263628728256804, 6.038837329600335, 3.3096905554564304, 1.224498534180827, 1.2293411231312932, 1.2301345557717835, 1.2343245664664726, 1.9181285125921408, 1.9708808145703658, 4.079066961199967, 1.2655855518614512, 1.335185971333932, 2.475040685714689, 3.035266249182346, 2.7659763404413984, 2.097402152487705, 2.441924158286393, 2.124110837112895, 1.451756821202417, 2.099398874706163, 1.8714825794216754, 1.883270256079779, 1.345769381012786, 1.4331884774522936, 1.3981154098582331, 1.4519355770368334, 1.288391255968357, 1.3038586312519376, 5.2868239125941185, 0.9527604554535826, 0.9547696879600576, 0.9569836731546416, 0.50811880910244, 0.5087466738913652, 0.508770139380492, 0.5087992675484183, 0.5088199220674934, 0.5088779747098642, 0.5089115433956982, 0.5090189305994101, 0.5092470265605568, 0.5093198673497209, 0.5095250274247941, 0.5095461300695295, 0.5096619094446999, 0.5097495383806575, 0.5097627377182913, 0.5101665396770135, 0.5106643258083318, 0.5107336223309091, 0.5108592604706084, 0.511039040337824, 0.5111203140371431, 0.5114560823728764, 0.5115985863328855, 0.511685604188397, 0.5116967665912108, 0.5117350202271309, 2.2082571709154086, 1.0442387093566534, 3.653205120118337, 3.0801912379363783, 3.890022421390427, 3.3245158661811613, 2.387165067073264, 1.0842497311620936, 3.066530412349776, 2.458702543862195, 1.1768790161932654, 1.215506959255907, 1.4093450987802059, 2.519659366421976, 2.172277894937945, 1.6455883103426192, 1.8193411318579493, 1.7982309912023284, 1.2437101958192198, 1.07819734599265, 1.1241605357743882, 1.012494872689169, 0.9241489356749434, 0.9770676060479327, 1.0273363871748522, 1.1659119961674527, 0.9725403961943327, 0.8227541778351021, 0.822768803633912, 0.8242172642372643, 0.8286113353948744, 2.0240998804160912, 0.4385957005027988, 0.4387714633491032, 0.43938008019352004, 0.43968573406258865, 0.4421501178469126, 0.4423581397602891, 0.44236371149316905, 0.44274094313520135, 0.4430548596308704, 0.4430605263364699, 0.44306837741461896, 0.44312320833136953, 0.44326395790173506, 0.44334471637092143, 0.44341065909585875, 0.4435621405835328, 0.44361019677962255, 0.44363368669892334, 0.4437132105227556, 0.4437302106395541, 0.4438739360217987, 0.4441419490363544, 0.44427449929526586, 0.44449702037715955, 0.4457583530654352, 0.8923643059952353, 1.9493663539273893, 0.9018820287419995, 2.41807280692859, 1.5115365450925737, 2.6654650913560936, 2.6010708016382194, 0.9311075405215234, 0.9806079550997829, 1.0155921693864844, 1.9378679434569432, 2.279612712255561, 1.1136017366115403, 2.164128417894831, 1.1413959461923764, 1.0871775401677124, 1.7444648642242688, 1.2500852590454012, 1.7533545640342558, 1.531653160025401, 1.3004853818534827, 1.0684733595199565, 1.1759151107290398, 1.086170576079951, 0.926281153544545, 1.0458955582176965, 1.1366136265572666, 0.9656549436134648, 0.9066799239031146, 0.2312282537095005, 0.23128791628281375, 0.23142479831766644, 0.2315380826608769, 0.23154139867636908, 0.23154936739576898, 0.231583607183642, 0.23164766540539838, 0.23164874503834934, 0.23167416782378958, 0.23177537056016798, 0.2318228229989169, 0.2319062632026975, 0.2319538441691787, 0.23197751897746025, 0.23207401759883808, 0.23207681950340125, 0.9574018437089381, 0.9574773151933188, 0.9578510738387194, 0.25898990970469915, 0.2631641562762711, 0.26727010321092226, 0.26786356716184123, 0.26647024942754655, 0.26516988294921934, 0.2695230658296382, 0.2701683007511099, 0.5548980738115274, 1.0532681086440658, 1.3155043718100876, 1.0030419386108684, 0.5551584709970782, 0.4813469479839704, 0.433425691478867, 0.43611459445984896, 0.6052932321070948, 0.439982970734198, 0.5879996714987673, 0.590936890058468, 0.6118403833771241, 0.5248329695043826, 0.5293796123273933, 0.4064586710411145, 0.4850262856697173, 0.42019658905321833, 0.43420652315786884, 0.37364806013970225, 0.2903105500171601, 0.35266696177630985, 0.32948875894664, 0.3110615066231749, 0.3017532969032751, 0.28034103940925664], \"Total\": [6.0, 9.0, 10.0, 23.0, 5.0, 5.0, 5.0, 19.0, 11.0, 3.0, 7.0, 20.0, 16.0, 24.0, 19.0, 4.0, 13.0, 18.0, 4.0, 8.0, 14.0, 17.0, 7.0, 3.0, 10.0, 7.0, 16.0, 14.0, 7.0, 19.0, 2.6307847323639995, 2.7084392258644776, 1.894580088918153, 1.9436454850332785, 1.959046567299983, 1.9908027642009054, 2.0015684839875716, 2.0068834359615635, 2.012449207236017, 2.0130228236809895, 4.483191768483957, 1.2047644150593926, 1.2076154520177758, 1.2076264023469505, 1.2093883829168413, 1.209636653889504, 1.2117868958490106, 1.2118123866555874, 1.2124292064771545, 1.2129506218951494, 1.2131079881666789, 1.2135706450365007, 1.2464271875225832, 1.2476299464752718, 1.2482302771437799, 1.2496902544036588, 1.2496980384406533, 1.2501206372199167, 1.2502647385721837, 1.250384336525905, 6.355256969585384, 8.04017385857246, 24.156956024536562, 19.839570341719742, 16.9524825705142, 2.917143855437397, 4.873498417551063, 2.943725104301178, 11.930257057076018, 3.0058979522952294, 3.0180676821553547, 14.487404086464059, 3.086652836308359, 3.1149251763666173, 3.1259737056059342, 3.115798042554367, 9.285508296086238, 4.52116067900184, 9.391448869152494, 23.90826689171714, 8.344312863403267, 19.381159953718413, 18.840916418153686, 6.839408416603885, 6.46273027345282, 6.602134648957889, 8.446234205810363, 7.960649911671419, 14.14444648759473, 19.711424760732122, 20.93777484279538, 17.357540582228697, 12.666912189204277, 6.660347604467882, 6.037325377971408, 6.919588269757049, 16.430483031357728, 3.134165330546212, 1.670590465845781, 1.7293920348141314, 1.7374926970727014, 4.0271896025935146, 1.088938072274757, 1.08894049946778, 1.0889425411047249, 1.0889435359354027, 1.0889462185335497, 1.0889535216779882, 1.088954584507642, 1.0889556482695797, 1.0889564601077644, 1.0889568308869144, 1.088963142988467, 1.0889686175709596, 1.089034595083545, 1.0890440854453045, 1.0890613355392145, 1.0890652533813159, 1.089066006300082, 1.0890683666945913, 1.0891250016428158, 1.1407890813531099, 1.141076727467095, 1.1428890403450829, 1.1429084192314793, 1.1430687231590033, 1.143893752851744, 2.044980729037324, 2.0552196183253852, 2.0664782112898092, 13.204489398188274, 4.456344695462956, 3.739782227475885, 14.487404086464059, 2.0843728605862473, 2.1007536562940485, 7.685696353957371, 17.357540582228697, 2.1129286917127423, 24.156956024536562, 23.90826689171714, 6.162524629340427, 8.04017385857246, 19.381159953718413, 6.919588269757049, 14.14444648759473, 4.52116067900184, 3.8703247243522174, 10.682072107204554, 10.55213459079928, 19.839570341719742, 9.391448869152494, 19.711424760732122, 18.840916418153686, 16.9524825705142, 20.93777484279538, 7.048530737463777, 5.3697563677742055, 12.666912189204277, 9.285508296086238, 7.2603688269557045, 16.430483031357728, 1.726317504119982, 1.729029968715798, 1.733181675897496, 1.7416075645330298, 1.741967439361673, 1.7622807590519194, 1.7705563173455017, 1.096015643581691, 1.0982199089866571, 1.0986165191727386, 1.0997678421385644, 1.1017696929743608, 1.1035543169096735, 1.1040915652591519, 1.1043450769473446, 1.1046475863551057, 1.1050607593201196, 1.1053431577322448, 1.1070739650729102, 1.1072586052473243, 1.1076323951427807, 1.107694980276555, 1.109135543914694, 1.1100549448420336, 1.1100560414158325, 1.1102569936203193, 1.1102663434688083, 1.1117628594405555, 1.111858380813483, 1.1119502529220266, 4.922961527801469, 5.44323101044426, 4.307251132373516, 4.318937754102984, 4.573368938972324, 7.2603688269557045, 16.430483031357728, 12.666912189204277, 6.170906264150744, 19.711424760732122, 4.097376682949043, 4.108827455643736, 16.9524825705142, 10.377219723636808, 5.150694155869987, 4.696175181469824, 5.237988803385449, 17.357540582228697, 23.90826689171714, 5.172286167813782, 13.204489398188274, 20.93777484279538, 6.4238114138563915, 19.381159953718413, 18.840916418153686, 10.55213459079928, 7.048530737463777, 7.327923076931102, 24.156956024536562, 7.4273778713502585, 6.46273027345282, 5.7501314195351485, 19.839570341719742, 2.4832336494015257, 1.8521896396081272, 1.8543027634550453, 1.85554818944634, 1.8571591964352592, 1.8601316559691619, 1.862969980070378, 1.863431444499016, 1.8638811330791107, 1.8847799352548216, 4.749952694525989, 10.682072107204554, 4.242441795938262, 3.2994881515061607, 1.1814448166524658, 1.1889844708615185, 1.1910980050835427, 1.191316296662059, 1.1920152539026112, 1.1930863144247963, 1.1931004738958644, 1.1937068846384529, 1.1937731282189241, 1.1938514481288243, 1.1943018547423825, 1.1945198606046954, 1.1945380876802079, 1.1951082352748021, 1.1952436124867356, 1.1952476124987097, 3.615004002202339, 8.872177090426467, 9.98020854590356, 2.7780384941383396, 2.8378814237205705, 20.93777484279538, 10.377219723636808, 2.906071039393298, 2.936752457032996, 2.9416515038082105, 2.979821851434988, 5.478910502737115, 6.602134648957889, 19.711424760732122, 3.5090648526499035, 4.033439505837825, 12.666912189204277, 18.840916418153686, 16.430483031357728, 14.14444648759473, 23.90826689171714, 19.381159953718413, 5.258544306972904, 24.156956024536562, 17.357540582228697, 19.839570341719742, 4.159509433637745, 5.7501314195351485, 5.158992247537985, 10.55213459079928, 4.318937754102984, 4.922961527801469, 6.240389463181917, 1.5584985772943674, 1.573053341778109, 1.5892118392148773, 1.0088120963114537, 1.013380707523418, 1.0135498962293337, 1.0137628448518996, 1.0139130888266654, 1.0143362351420229, 1.0145795339633128, 1.0153627672849665, 1.0170220004084178, 1.0175547603763566, 1.0190486833387824, 1.0192014842206056, 1.0200444860477493, 1.0206816155448193, 1.0207802855083783, 1.0237208861627387, 1.027330804396799, 1.0278358941337573, 1.0287535729571018, 1.0300570599303924, 1.0306528822182544, 1.0331036152380497, 1.034140054783495, 1.034778464639102, 1.0348645477215168, 1.035138012358058, 7.4273778713502585, 2.802332828640714, 16.430483031357728, 14.14444648759473, 20.93777484279538, 19.839570341719742, 11.930257057076018, 3.5090648526499035, 19.711424760732122, 17.357540582228697, 4.696175181469824, 5.478910502737115, 7.327923076931102, 23.90826689171714, 18.840916418153686, 13.204489398188274, 19.381159953718413, 24.156956024536562, 10.55213459079928, 8.446234205810363, 10.377219723636808, 8.344312863403267, 6.4238114138563915, 7.685696353957371, 9.391448869152494, 14.487404086464059, 16.9524825705142, 1.4742333395973037, 1.474652547058222, 1.4867039588355444, 1.5247270426093504, 3.918592910510937, 0.9662789192326524, 0.9677731614833662, 0.9729524808081608, 0.9755573029479667, 0.9964794856530443, 0.9982479118282263, 0.9983132009056225, 1.001524409414201, 1.0042159386674885, 1.0042673489283434, 1.004303213099204, 1.004800038616431, 1.0060563961824445, 1.0066994156435778, 1.0072610541763205, 1.0085479499774292, 1.0089549061604668, 1.009146132973769, 1.0099228751424878, 1.0100024776668028, 1.0112665724723626, 1.0135196037700893, 1.014669607510308, 1.0166134013140165, 1.0272563649716082, 2.569983699241629, 7.960649911671419, 2.722875028536951, 11.930257057076018, 6.660347604467882, 19.381159953718413, 18.840916418153686, 3.550402687360598, 3.894002650189044, 4.782840268523144, 16.9524825705142, 24.156956024536562, 6.037325377971408, 23.90826689171714, 6.839408416603885, 6.46273027345282, 17.357540582228697, 9.391448869152494, 19.839570341719742, 19.711424760732122, 16.430483031357728, 10.55213459079928, 14.14444648759473, 12.666912189204277, 8.446234205810363, 13.204489398188274, 20.93777484279538, 10.377219723636808, 9.285508296086238, 0.8436519222652155, 0.8446801017107471, 0.8470502466064602, 0.8490255779360267, 0.8490837426454403, 0.8492227838505659, 0.8498236834425906, 0.8509500264034968, 0.8509691100499167, 0.8514178308030712, 0.8532140781192725, 0.8540624768124545, 0.8555659096057302, 0.8564295310407082, 0.8568616663741594, 0.8586434743564657, 0.8586957831772939, 5.4339642537540636, 5.436649719291975, 5.441318178752393, 1.8040168343132015, 1.8830232570773475, 1.9272146643180776, 1.9372590655805384, 1.9369188429216984, 1.974513076132872, 2.046073936493326, 2.057377660382706, 4.715786276172411, 9.98020854590356, 23.90826689171714, 19.381159953718413, 10.55213459079928, 8.446234205810363, 7.048530737463777, 7.685696353957371, 19.711424760732122, 7.960649911671419, 18.840916418153686, 20.93777484279538, 24.156956024536562, 17.357540582228697, 19.839570341719742, 7.2603688269557045, 16.430483031357728, 14.14444648759473, 16.9524825705142, 12.666912189204277, 3.2994881515061607, 13.204489398188274, 14.487404086464059, 10.377219723636808, 11.930257057076018, 9.285508296086238], \"Category\": [\"Default\", \"Default\", \"Default\", \"Default\", \"Default\", \"Default\", \"Default\", \"Default\", \"Default\", \"Default\", \"Default\", \"Default\", \"Default\", \"Default\", \"Default\", \"Default\", \"Default\", \"Default\", \"Default\", \"Default\", \"Default\", \"Default\", \"Default\", \"Default\", \"Default\", \"Default\", \"Default\", \"Default\", \"Default\", \"Default\", \"Topic1\", \"Topic1\", \"Topic1\", \"Topic1\", \"Topic1\", \"Topic1\", \"Topic1\", \"Topic1\", \"Topic1\", \"Topic1\", \"Topic1\", \"Topic1\", \"Topic1\", \"Topic1\", \"Topic1\", \"Topic1\", \"Topic1\", \"Topic1\", \"Topic1\", \"Topic1\", \"Topic1\", \"Topic1\", \"Topic1\", \"Topic1\", \"Topic1\", \"Topic1\", \"Topic1\", \"Topic1\", \"Topic1\", \"Topic1\", \"Topic1\", \"Topic1\", \"Topic1\", \"Topic1\", \"Topic1\", \"Topic1\", \"Topic1\", \"Topic1\", \"Topic1\", \"Topic1\", \"Topic1\", \"Topic1\", \"Topic1\", \"Topic1\", \"Topic1\", \"Topic1\", \"Topic1\", \"Topic1\", \"Topic1\", \"Topic1\", \"Topic1\", \"Topic1\", \"Topic1\", \"Topic1\", \"Topic1\", \"Topic1\", \"Topic1\", \"Topic1\", \"Topic1\", \"Topic1\", \"Topic1\", \"Topic1\", \"Topic1\", \"Topic1\", \"Topic1\", \"Topic1\", \"Topic1\", \"Topic2\", \"Topic2\", \"Topic2\", \"Topic2\", \"Topic2\", \"Topic2\", \"Topic2\", \"Topic2\", \"Topic2\", \"Topic2\", \"Topic2\", \"Topic2\", \"Topic2\", \"Topic2\", \"Topic2\", \"Topic2\", \"Topic2\", \"Topic2\", \"Topic2\", \"Topic2\", \"Topic2\", \"Topic2\", \"Topic2\", \"Topic2\", \"Topic2\", \"Topic2\", \"Topic2\", \"Topic2\", \"Topic2\", \"Topic2\", \"Topic2\", \"Topic2\", \"Topic2\", \"Topic2\", \"Topic2\", \"Topic2\", \"Topic2\", \"Topic2\", \"Topic2\", \"Topic2\", \"Topic2\", \"Topic2\", \"Topic2\", \"Topic2\", \"Topic2\", \"Topic2\", \"Topic2\", \"Topic2\", \"Topic2\", \"Topic2\", \"Topic2\", \"Topic2\", \"Topic2\", \"Topic2\", \"Topic2\", \"Topic2\", \"Topic2\", \"Topic2\", \"Topic2\", \"Topic2\", \"Topic2\", \"Topic2\", \"Topic2\", \"Topic2\", \"Topic2\", \"Topic3\", \"Topic3\", \"Topic3\", \"Topic3\", \"Topic3\", \"Topic3\", \"Topic3\", \"Topic3\", \"Topic3\", \"Topic3\", \"Topic3\", \"Topic3\", \"Topic3\", \"Topic3\", \"Topic3\", \"Topic3\", \"Topic3\", \"Topic3\", \"Topic3\", \"Topic3\", \"Topic3\", \"Topic3\", \"Topic3\", \"Topic3\", \"Topic3\", \"Topic3\", \"Topic3\", \"Topic3\", \"Topic3\", \"Topic3\", \"Topic3\", \"Topic3\", \"Topic3\", \"Topic3\", \"Topic3\", \"Topic3\", \"Topic3\", \"Topic3\", \"Topic3\", \"Topic3\", \"Topic3\", \"Topic3\", \"Topic3\", \"Topic3\", \"Topic3\", \"Topic3\", \"Topic3\", \"Topic3\", \"Topic3\", \"Topic3\", \"Topic3\", \"Topic3\", \"Topic3\", \"Topic3\", \"Topic3\", \"Topic3\", \"Topic3\", \"Topic3\", \"Topic3\", \"Topic3\", \"Topic3\", \"Topic3\", \"Topic3\", \"Topic4\", \"Topic4\", \"Topic4\", \"Topic4\", \"Topic4\", \"Topic4\", \"Topic4\", \"Topic4\", \"Topic4\", \"Topic4\", \"Topic4\", \"Topic4\", \"Topic4\", \"Topic4\", \"Topic4\", \"Topic4\", \"Topic4\", \"Topic4\", \"Topic4\", \"Topic4\", \"Topic4\", \"Topic4\", \"Topic4\", \"Topic4\", \"Topic4\", \"Topic4\", \"Topic4\", \"Topic4\", \"Topic4\", \"Topic4\", \"Topic4\", \"Topic4\", \"Topic4\", \"Topic4\", \"Topic4\", \"Topic4\", \"Topic4\", \"Topic4\", \"Topic4\", \"Topic4\", \"Topic4\", \"Topic4\", \"Topic4\", \"Topic4\", \"Topic4\", \"Topic4\", \"Topic4\", \"Topic4\", \"Topic4\", \"Topic4\", \"Topic4\", \"Topic4\", \"Topic4\", \"Topic4\", \"Topic4\", \"Topic4\", \"Topic4\", \"Topic4\", \"Topic4\", \"Topic4\", \"Topic4\", \"Topic4\", \"Topic5\", \"Topic5\", \"Topic5\", \"Topic5\", \"Topic5\", \"Topic5\", \"Topic5\", \"Topic5\", \"Topic5\", \"Topic5\", \"Topic5\", \"Topic5\", \"Topic5\", \"Topic5\", \"Topic5\", \"Topic5\", \"Topic5\", \"Topic5\", \"Topic5\", \"Topic5\", \"Topic5\", \"Topic5\", \"Topic5\", \"Topic5\", \"Topic5\", \"Topic5\", \"Topic5\", \"Topic5\", \"Topic5\", \"Topic5\", \"Topic5\", \"Topic5\", \"Topic5\", \"Topic5\", \"Topic5\", \"Topic5\", \"Topic5\", \"Topic5\", \"Topic5\", \"Topic5\", \"Topic5\", \"Topic5\", \"Topic5\", \"Topic5\", \"Topic5\", \"Topic5\", \"Topic5\", \"Topic5\", \"Topic5\", \"Topic5\", \"Topic5\", \"Topic5\", \"Topic5\", \"Topic5\", \"Topic5\", \"Topic5\", \"Topic5\", \"Topic6\", \"Topic6\", \"Topic6\", \"Topic6\", \"Topic6\", \"Topic6\", \"Topic6\", \"Topic6\", \"Topic6\", \"Topic6\", \"Topic6\", \"Topic6\", \"Topic6\", \"Topic6\", \"Topic6\", \"Topic6\", \"Topic6\", \"Topic6\", \"Topic6\", \"Topic6\", \"Topic6\", \"Topic6\", \"Topic6\", \"Topic6\", \"Topic6\", \"Topic6\", \"Topic6\", \"Topic6\", \"Topic6\", \"Topic6\", \"Topic6\", \"Topic6\", \"Topic6\", \"Topic6\", \"Topic6\", \"Topic6\", \"Topic6\", \"Topic6\", \"Topic6\", \"Topic6\", \"Topic6\", \"Topic6\", \"Topic6\", \"Topic6\", \"Topic6\", \"Topic6\", \"Topic6\", \"Topic6\", \"Topic6\", \"Topic6\", \"Topic6\", \"Topic6\", \"Topic6\", \"Topic6\", \"Topic6\", \"Topic6\", \"Topic6\", \"Topic6\", \"Topic6\", \"Topic7\", \"Topic7\", \"Topic7\", \"Topic7\", \"Topic7\", \"Topic7\", \"Topic7\", \"Topic7\", \"Topic7\", \"Topic7\", \"Topic7\", \"Topic7\", \"Topic7\", \"Topic7\", \"Topic7\", \"Topic7\", \"Topic7\", \"Topic7\", \"Topic7\", \"Topic7\", \"Topic7\", \"Topic7\", \"Topic7\", \"Topic7\", \"Topic7\", \"Topic7\", \"Topic7\", \"Topic7\", \"Topic7\", \"Topic7\", \"Topic7\", \"Topic7\", \"Topic7\", \"Topic7\", \"Topic7\", \"Topic7\", \"Topic7\", \"Topic7\", \"Topic7\", \"Topic7\", \"Topic7\", \"Topic7\", \"Topic7\", \"Topic7\", \"Topic7\", \"Topic7\", \"Topic7\", \"Topic7\", \"Topic7\", \"Topic7\", \"Topic7\", \"Topic7\", \"Topic7\", \"Topic7\"], \"logprob\": [30.0, 29.0, 28.0, 27.0, 26.0, 25.0, 24.0, 23.0, 22.0, 21.0, 20.0, 19.0, 18.0, 17.0, 16.0, 15.0, 14.0, 13.0, 12.0, 11.0, 10.0, 9.0, 8.0, 7.0, 6.0, 5.0, 4.0, 3.0, 2.0, 1.0, -5.1214, -5.1139, -5.5063, -5.4993, -5.4971, -5.4926, -5.491, -5.4903, -5.4896, -5.4895, -4.7942, -6.1277, -6.1269, -6.1269, -6.1265, -6.1264, -6.1258, -6.1258, -6.1257, -6.1255, -6.1255, -6.1254, -6.1166, -6.1163, -6.1161, -6.1157, -6.1157, -6.1156, -6.1156, -6.1156, -4.5584, -4.3948, -3.5533, -3.7813, -3.9155, -5.416, -4.9966, -5.4125, -4.2857, -5.4095, -5.4107, -4.1994, -5.4082, -5.4073, -5.4071, -5.4101, -4.6124, -5.1497, -4.6245, -3.9853, -4.7216, -4.2006, -4.222, -4.8988, -4.9354, -4.9383, -4.8026, -4.8762, -4.6626, -4.5255, -4.5323, -4.7537, -4.936, -5.1756, -5.2025, -5.1806, -5.1157, -4.7556, -5.4172, -5.4087, -5.4075, -4.7011, -6.0387, -6.0387, -6.0387, -6.0387, -6.0387, -6.0387, -6.0387, -6.0387, -6.0387, -6.0387, -6.0387, -6.0387, -6.0386, -6.0386, -6.0386, -6.0386, -6.0386, -6.0386, -6.0386, -6.0247, -6.0246, -6.0242, -6.0242, -6.0241, -6.0239, -5.4865, -5.4887, -5.4985, -3.9072, -4.8486, -5.018, -3.886, -5.5164, -5.5302, -4.5425, -3.9302, -5.5352, -3.7528, -3.761, -4.8224, -4.639, -4.0966, -4.7967, -4.3827, -5.1286, -5.2301, -4.5972, -4.6164, -4.2626, -4.7251, -4.3553, -4.4024, -4.4894, -4.5467, -5.0224, -5.1322, -4.832, -4.9638, -5.0665, -4.8795, -5.3638, -5.3634, -5.3628, -5.3616, -5.3615, -5.3586, -5.3575, -5.9916, -5.991, -5.9909, -5.9906, -5.9901, -5.9896, -5.9895, -5.9894, -5.9893, -5.9892, -5.9891, -5.9887, -5.9886, -5.9885, -5.9885, -5.9881, -5.9879, -5.9879, -5.9878, -5.9878, -5.9874, -5.9874, -5.9873, -4.6371, -4.6028, -4.8912, -4.8902, -4.882, -4.5304, -4.0209, -4.2259, -4.7834, -4.1959, -5.1851, -5.1837, -4.3292, -4.6335, -5.0973, -5.1536, -5.0955, -4.4168, -4.2351, -5.1098, -4.5873, -4.3584, -5.0149, -4.5061, -4.5405, -4.8023, -4.9803, -4.9733, -4.7295, -5.0144, -5.081, -5.1113, -5.1464, -4.947, -5.3241, -5.3238, -5.3236, -5.3234, -5.323, -5.3226, -5.3225, -5.3225, -5.3196, -4.4255, -3.6611, -4.6297, -4.8879, -5.9472, -5.9453, -5.9447, -5.9447, -5.9445, -5.9442, -5.9442, -5.944, -5.944, -5.944, -5.9439, -5.9438, -5.9438, -5.9437, -5.9436, -5.9436, -4.8892, -4.0403, -4.0046, -5.2478, -5.2479, -3.6538, -4.2551, -5.2494, -5.2455, -5.2448, -5.2414, -4.8006, -4.7735, -4.0461, -5.2164, -5.1629, -4.5457, -4.3417, -4.4346, -4.7113, -4.5592, -4.6986, -5.0792, -4.7103, -4.8252, -4.819, -5.155, -5.0921, -5.1168, -5.0791, -5.1986, -5.1866, -3.4994, -5.213, -5.2109, -5.2086, -5.8417, -5.8404, -5.8404, -5.8403, -5.8403, -5.8402, -5.8401, -5.8399, -5.8394, -5.8393, -5.8389, -5.8389, -5.8386, -5.8385, -5.8384, -5.8376, -5.8367, -5.8365, -5.8363, -5.8359, -5.8358, -5.8351, -5.8348, -5.8347, -5.8346, -5.8346, -4.3724, -5.1213, -3.869, -4.0396, -3.8062, -3.9633, -4.2945, -5.0837, -4.0441, -4.265, -5.0018, -4.9695, -4.8215, -4.2405, -4.3888, -4.6665, -4.5661, -4.5778, -4.9465, -5.0893, -5.0476, -5.1522, -5.2435, -5.1878, -5.1377, -5.0111, -5.1925, -5.1075, -5.1075, -5.1057, -5.1004, -4.2073, -5.7366, -5.7362, -5.7348, -5.7341, -5.7285, -5.7281, -5.728, -5.7272, -5.7265, -5.7265, -5.7265, -5.7263, -5.726, -5.7258, -5.7257, -5.7253, -5.7252, -5.7252, -5.725, -5.725, -5.7246, -5.724, -5.7237, -5.7232, -5.7204, -5.0263, -4.2449, -5.0157, -4.0295, -4.4993, -3.932, -3.9565, -4.9838, -4.932, -4.8969, -4.2508, -4.0884, -4.8048, -4.1404, -4.7802, -4.8288, -4.356, -4.6892, -4.3509, -4.4861, -4.6497, -4.8462, -4.7504, -4.8298, -4.989, -4.8675, -4.7844, -4.9474, -5.0104, -5.4754, -5.4751, -5.4745, -5.474, -5.474, -5.474, -5.4738, -5.4735, -5.4735, -5.4734, -5.473, -5.4728, -5.4724, -5.4722, -5.4721, -5.4717, -5.4717, -4.0545, -4.0545, -4.0541, -5.362, -5.346, -5.3305, -5.3283, -5.3335, -5.3384, -5.3221, -5.3197, -4.6, -3.9591, -3.7368, -4.008, -4.5995, -4.7422, -4.847, -4.8409, -4.513, -4.832, -4.542, -4.537, -4.5023, -4.6557, -4.6471, -4.9113, -4.7346, -4.878, -4.8452, -4.9954, -5.2478, -5.0532, -5.1212, -5.1788, -5.2091, -5.2828], \"loglift\": [30.0, 29.0, 28.0, 27.0, 26.0, 25.0, 24.0, 23.0, 22.0, 21.0, 20.0, 19.0, 18.0, 17.0, 16.0, 15.0, 14.0, 13.0, 12.0, 11.0, 10.0, 9.0, 8.0, 7.0, 6.0, 5.0, 4.0, 3.0, 2.0, 1.0, 1.1697, 1.1481, 1.1131, 1.0946, 1.0889, 1.0773, 1.0734, 1.0715, 1.0695, 1.0693, 0.9639, 0.9444, 0.9428, 0.9428, 0.9418, 0.9417, 0.9405, 0.9405, 0.9401, 0.9398, 0.9397, 0.9395, 0.9215, 0.9209, 0.9206, 0.9198, 0.9198, 0.9195, 0.9195, 0.9194, 0.8507, 0.7792, 0.5206, 0.4895, 0.5125, 0.7718, 0.678, 0.7663, 0.4936, 0.7483, 0.7431, 0.3857, 0.7232, 0.7149, 0.7116, 0.7119, 0.4175, 0.5999, 0.3941, 0.0988, 0.4153, 0.0935, 0.1004, 0.4369, 0.457, 0.4327, 0.3221, 0.3077, -0.0535, -0.2483, -0.3154, -0.3493, -0.2165, 0.1866, 0.2579, 0.1434, -0.6564, 1.3605, 1.328, 1.3019, 1.2984, 1.1642, 1.1345, 1.1345, 1.1345, 1.1345, 1.1345, 1.1345, 1.1345, 1.1345, 1.1345, 1.1345, 1.1345, 1.1345, 1.1345, 1.1345, 1.1345, 1.1345, 1.1345, 1.1345, 1.1344, 1.102, 1.1018, 1.1007, 1.1007, 1.1006, 1.1001, 1.0565, 1.0494, 1.0341, 0.7706, 0.9155, 0.9214, 0.6991, 1.0076, 0.9859, 0.6765, 0.4742, 0.9751, 0.3211, 0.3232, 0.6176, 0.5349, 0.1975, 0.5274, 0.2264, 0.6211, 0.675, 0.2926, 0.2857, 0.0082, 0.2935, -0.0781, -0.08, -0.0614, -0.3298, 0.2832, 0.4454, -0.1126, 0.0661, 0.2095, -0.4202, 1.3486, 1.3474, 1.3456, 1.342, 1.3419, 1.3332, 1.3297, 1.1751, 1.1737, 1.1734, 1.1727, 1.1714, 1.1703, 1.1699, 1.1698, 1.1696, 1.1693, 1.1691, 1.168, 1.1679, 1.1677, 1.1676, 1.1667, 1.1662, 1.1662, 1.166, 1.166, 1.1651, 1.165, 1.165, 1.0274, 0.9613, 0.9069, 0.9052, 0.8562, 0.7456, 0.4384, 0.4935, 0.6552, 0.0813, 0.663, 0.6616, 0.0988, 0.2853, 0.522, 0.558, 0.507, -0.0124, -0.1509, 0.5053, 0.0905, -0.1415, 0.3835, -0.212, -0.2181, 0.0997, 0.3253, 0.2934, -0.6556, 0.2389, 0.3113, 0.3979, -0.8757, 1.4019, 1.3179, 1.3171, 1.3166, 1.3159, 1.3148, 1.3136, 1.3135, 1.3133, 1.305, 1.2748, 1.2287, 1.1836, 1.1767, 1.1444, 1.14, 1.1388, 1.1387, 1.1383, 1.1377, 1.1377, 1.1373, 1.1373, 1.1372, 1.137, 1.1369, 1.1368, 1.1365, 1.1364, 1.1364, 1.0841, 1.0352, 0.9532, 0.9889, 0.9674, 0.5631, 0.6637, 0.9422, 0.9356, 0.9346, 0.9251, 0.7569, 0.5975, 0.2311, 0.7866, 0.7009, 0.1737, -0.0193, 0.0247, -0.1022, -0.475, -0.4045, 0.5194, -0.6365, -0.4209, -0.5482, 0.678, 0.4171, 0.5008, -0.177, 0.5968, 0.4779, 1.928, 1.6017, 1.5945, 1.5866, 1.408, 1.4047, 1.4046, 1.4044, 1.4043, 1.404, 1.4038, 1.4033, 1.4021, 1.4017, 1.4006, 1.4005, 1.3999, 1.3995, 1.3994, 1.3973, 1.3948, 1.3944, 1.3938, 1.3929, 1.3924, 1.3907, 1.39, 1.3896, 1.3895, 1.3893, 0.8808, 1.1066, 0.5903, 0.5695, 0.4106, 0.3074, 0.4848, 0.9193, 0.2331, 0.1394, 0.7099, 0.588, 0.4452, -0.1563, -0.0665, 0.0113, -0.272, -0.504, -0.0444, 0.0354, -0.1288, -0.0154, 0.1549, 0.0312, -0.119, -0.426, -0.7645, 1.7628, 1.7625, 1.7561, 1.7362, 1.6854, 1.5561, 1.555, 1.551, 1.549, 1.5334, 1.5321, 1.5321, 1.5297, 1.5277, 1.5277, 1.5277, 1.5273, 1.5264, 1.5259, 1.5255, 1.5246, 1.5243, 1.5241, 1.5235, 1.5235, 1.5226, 1.521, 1.5201, 1.5187, 1.5111, 1.2882, 0.939, 1.241, 0.7499, 0.8629, 0.3621, 0.3659, 1.0075, 0.967, 0.7964, 0.1772, -0.0146, 0.6556, -0.0562, 0.5555, 0.5635, 0.0484, 0.3294, -0.0802, -0.2089, -0.1904, 0.0559, -0.1413, -0.1103, 0.1357, -0.1897, -0.5675, -0.0286, 0.0196, 1.9531, 1.9521, 1.9499, 1.9481, 1.948, 1.9479, 1.9473, 1.9463, 1.9463, 1.9458, 1.9442, 1.9434, 1.942, 1.9412, 1.9408, 1.9391, 1.9391, 1.5112, 1.5108, 1.5103, 1.3064, 1.2796, 1.2718, 1.2689, 1.2638, 1.2397, 1.2204, 1.2173, 1.1075, 0.9987, 0.3474, 0.2861, 0.3026, 0.3825, 0.4586, 0.3782, -0.2358, 0.3519, -0.2197, -0.3202, -0.4284, -0.2513, -0.3763, 0.3647, -0.2753, -0.2689, -0.4172, -0.276, 0.8168, -0.3754, -0.5361, -0.26, -0.4298, -0.2528]}, \"token.table\": {\"Topic\": [1, 2, 3, 4, 5, 1, 6, 1, 2, 3, 4, 3, 1, 6, 2, 4, 5, 2, 4, 5, 2, 1, 2, 6, 1, 1, 2, 3, 6, 2, 5, 6, 2, 5, 3, 1, 2, 3, 4, 5, 6, 1, 2, 2, 2, 1, 2, 4, 1, 2, 3, 4, 6, 1, 2, 3, 4, 5, 6, 7, 1, 2, 3, 4, 5, 6, 7, 1, 2, 3, 2, 1, 2, 3, 4, 5, 6, 3, 4, 2, 5, 1, 2, 3, 4, 5, 6, 1, 2, 4, 5, 3, 4, 3, 4, 5, 1, 1, 2, 3, 4, 5, 6, 7, 3, 5, 2, 6, 5, 1, 2, 3, 4, 5, 6, 3, 4, 1, 2, 3, 4, 5, 6, 7, 1, 2, 3, 4, 4, 5, 1, 6, 3, 6, 1, 2, 3, 4, 5, 6, 1, 2, 3, 4, 5, 3, 1, 3, 6, 1, 2, 3, 4, 5, 6, 1, 2, 3, 4, 5, 6, 7, 1, 2, 3, 5, 1, 2, 3, 4, 5, 1, 2, 4, 1, 4, 1, 4, 3, 4, 2, 4, 2, 1, 2, 1, 2, 3, 4, 7, 3, 2, 1, 2, 3, 4, 5, 6, 7, 3, 1, 3, 1, 2, 4, 6, 4, 6, 5, 1, 2, 3, 4, 5, 2, 3, 6, 1, 4, 5, 1, 2, 3, 4, 5, 6, 7, 1, 2, 3, 4, 5, 6, 2, 4, 2, 2, 1, 1, 2, 3, 4, 5, 1, 5, 1, 2, 3, 4, 5, 6, 1, 2, 6, 1, 3, 1, 2, 3, 4, 5, 6, 3, 5, 4, 1, 1, 2, 3, 4, 7, 3, 1, 3, 6, 4, 1, 2, 3, 4, 5, 6, 3, 3, 5, 6, 3, 2, 1, 2, 2, 1, 6, 5, 1, 2, 3, 4, 7, 1, 2, 3, 4, 5, 3, 2, 5, 2, 1, 2, 3, 4, 5, 6, 1, 2, 3, 4, 5, 6, 3, 4, 4, 2, 1, 2, 3, 4, 5, 6, 7, 4, 2, 1, 4, 5, 5, 1, 2, 3, 4, 5, 6, 3, 2, 1, 5, 4, 1, 1, 2, 3, 4, 5, 1, 1, 1, 2, 1, 2, 3, 4, 5, 6, 1, 2, 3, 4, 5, 6, 2, 3, 4, 4, 2, 4, 6, 3, 4, 2, 4, 5, 5, 4, 1, 2, 3, 4, 1, 2, 4, 6, 1, 3, 1, 2, 3, 5, 6, 1, 5, 1, 2, 4, 1, 4, 4, 5, 3, 4, 4, 5, 4, 1, 2, 3, 4, 5, 6, 7, 2, 2, 1, 2, 3, 4, 5, 6, 5, 2, 4, 2, 3, 3, 6, 3, 2, 3, 5, 3, 2, 4, 2, 1, 2, 3, 4, 5, 6, 1, 1, 4, 3, 5, 1, 2, 3, 4, 7, 1, 2, 3, 4, 5, 6, 7, 1, 2, 6, 1, 6, 2, 4, 5, 4, 1, 5, 2, 5, 1, 2, 3, 4, 5, 6, 1, 2, 3, 4, 5, 6, 3, 4, 5, 1, 2, 1, 1, 1, 5, 1, 3, 1, 2, 2, 4, 3, 5, 3, 5, 4, 4, 1, 3, 1, 6, 3, 6, 5, 2, 3, 4, 4, 2, 4, 4, 1, 5, 1, 1, 1, 1, 3, 1, 1, 2, 3, 4, 5, 6, 5], \"Freq\": [0.4975016797348463, 0.24875083986742316, 0.9052660887981471, 0.28497620932962825, 0.28497620932962825, 0.339705633022209, 0.339705633022209, 0.09361479589016695, 0.28084438767050085, 0.09361479589016695, 0.5616887753410017, 0.9027755996062499, 0.36725886774807937, 0.36725886774807937, 0.18251803885105025, 0.3650360777021005, 0.18251803885105025, 0.9182444749822528, 0.35237554030321744, 0.35237554030321744, 0.6381284294442268, 0.47205014909030807, 0.15735004969676936, 0.15735004969676936, 0.8011342284439821, 0.19333810380075686, 0.19333810380075686, 0.19333810380075686, 0.19333810380075686, 0.2583762529557185, 0.2583762529557185, 0.2583762529557185, 0.8749755791673888, 0.9679571199347493, 0.9006847824240958, 0.33528196256488363, 0.08382049064122091, 0.08382049064122091, 0.08382049064122091, 0.16764098128244181, 0.16764098128244181, 0.4969069511937856, 0.8749607432872228, 0.483915095033033, 0.9182179906591073, 0.4996081862798802, 0.27662486663660074, 0.5532497332732015, 0.19091297013725456, 0.19091297013725456, 0.19091297013725456, 0.19091297013725456, 0.19091297013725456, 0.14328170125643938, 0.14328170125643938, 0.14328170125643938, 0.28656340251287876, 0.19104226834191917, 0.047760567085479794, 0.047760567085479794, 0.10019830701939153, 0.10019830701939153, 0.10019830701939153, 0.4007932280775661, 0.10019830701939153, 0.10019830701939153, 0.10019830701939153, 0.8268642349516937, 0.9183001088044098, 0.9102357215172796, 0.9181682529476586, 0.32308409021232304, 0.215389393474882, 0.107694696737441, 0.107694696737441, 0.107694696737441, 0.107694696737441, 0.9123957361886554, 0.8464212512552419, 0.9183047254066622, 0.9702587721364726, 0.09636492496369146, 0.09636492496369146, 0.19272984992738293, 0.2890947748910744, 0.09636492496369146, 0.09636492496369146, 0.4423642825367468, 0.4423642825367468, 0.8395614766644335, 0.97205008690813, 0.46433326930206126, 0.23216663465103063, 0.21293924552597646, 0.21293924552597646, 0.21293924552597646, 0.8300377961866527, 0.18953511090958405, 0.28430266636437607, 0.18953511090958405, 0.09476755545479203, 0.09476755545479203, 0.09476755545479203, 0.09476755545479203, 0.5783589747393041, 0.9708200049301894, 0.4966242460280484, 0.2483121230140242, 0.9866312489599744, 0.25123576871126085, 0.12561788435563043, 0.12561788435563043, 0.12561788435563043, 0.12561788435563043, 0.25123576871126085, 0.33994509502754405, 0.33994509502754405, 0.25798249495591796, 0.2063859959647344, 0.1547894969735508, 0.1031929979823672, 0.1031929979823672, 0.1547894969735508, 0.0515964989911836, 0.13773404958261648, 0.27546809916523296, 0.41320214874784944, 0.13773404958261648, 0.5305659198164163, 0.6357063511079953, 0.32397553370336307, 0.32397553370336307, 0.56744647234189, 0.6783186712309439, 0.3451273927446825, 0.3451273927446825, 0.06902547854893651, 0.06902547854893651, 0.06902547854893651, 0.06902547854893651, 0.1301118277311462, 0.39033548319343864, 0.1301118277311462, 0.1301118277311462, 0.1301118277311462, 0.9031313870680044, 0.2568051667739498, 0.2568051667739498, 0.2568051667739498, 0.29242295212911146, 0.14621147606455573, 0.14621147606455573, 0.14621147606455573, 0.14621147606455573, 0.14621147606455573, 0.15219599985366933, 0.15219599985366933, 0.20292799980489243, 0.20292799980489243, 0.15219599985366933, 0.10146399990244621, 0.05073199995122311, 0.1622711567332153, 0.3245423134664306, 0.1622711567332153, 0.1622711567332153, 0.17390906868713651, 0.17390906868713651, 0.17390906868713651, 0.17390906868713651, 0.9813073863396086, 0.5064539769767047, 0.9182219287078826, 0.8381623256504406, 0.3210349987175111, 0.3210349987175111, 0.8280781753240437, 0.6061546240398026, 0.34051218637961095, 0.34051218637961095, 0.3355905318696927, 0.3355905318696927, 0.8763652574176585, 0.5278214448939037, 0.9183110456234505, 0.21205371521027763, 0.21205371521027763, 0.21205371521027763, 0.21205371521027763, 0.21205371521027763, 0.8993208080776641, 0.9183212600100517, 0.25095921955257494, 0.25095921955257494, 0.16730614636838329, 0.08365307318419164, 0.12547960977628747, 0.08365307318419164, 0.04182653659209582, 0.8994723933332374, 0.8247904245936216, 0.9008554187269137, 0.19016669664149943, 0.19016669664149943, 0.19016669664149943, 0.19016669664149943, 0.3599662143307228, 0.3599662143307228, 0.9797374467906137, 0.7602294385382182, 0.4732767385488049, 0.34410721088524066, 0.34410721088524066, 0.9856299743142266, 0.5162838926651022, 0.38910752636099905, 0.38910752636099905, 0.3029323251254334, 0.3029323251254334, 0.1514661625627167, 0.3725634964462647, 0.2483756642975098, 0.08279188809916993, 0.08279188809916993, 0.08279188809916993, 0.08279188809916993, 0.041395944049584965, 0.3002846275858581, 0.15014231379292906, 0.15014231379292906, 0.15014231379292906, 0.15014231379292906, 0.3002846275858581, 0.8748380388157098, 0.8376251514100383, 0.5985907500637646, 0.9183238207126563, 0.7997541002300314, 0.13463701690165997, 0.13463701690165997, 0.26927403380331993, 0.13463701690165997, 0.26927403380331993, 0.8266945258186152, 0.6292427323559537, 0.15146363783475117, 0.3786590945868779, 0.15146363783475117, 0.07573181891737558, 0.15146363783475117, 0.07573181891737558, 0.4181615708896681, 0.20908078544483405, 0.20908078544483405, 0.8022931543940521, 0.5769735590368323, 0.3595263084103052, 0.11984210280343506, 0.11984210280343506, 0.11984210280343506, 0.11984210280343506, 0.11984210280343506, 0.5647942345597035, 0.6416431908048648, 0.5399015190537254, 0.7999227996298437, 0.18393680881287894, 0.18393680881287894, 0.18393680881287894, 0.18393680881287894, 0.18393680881287894, 0.9092828155944623, 0.30946672928862107, 0.30946672928862107, 0.15473336464431053, 0.5188835569356973, 0.13646431458158745, 0.13646431458158745, 0.2729286291631749, 0.13646431458158745, 0.13646431458158745, 0.13646431458158745, 0.9032820132610936, 0.9008563086418259, 0.9663100375809773, 0.6726288674062901, 0.9046964221062624, 0.47601964038187405, 0.2243991585790275, 0.448798317158055, 0.9183220989653933, 0.2816581914947257, 0.2816581914947257, 0.9663904247840801, 0.1837789975055794, 0.1837789975055794, 0.1837789975055794, 0.1837789975055794, 0.1837789975055794, 0.514497117761616, 0.24337843601255058, 0.24337843601255058, 0.24337843601255058, 0.9827480927219447, 0.9006923673943328, 0.9183189977432211, 0.9848696763561205, 0.9182160005575033, 0.3312725213216878, 0.1656362606608439, 0.1656362606608439, 0.1656362606608439, 0.1656362606608439, 0.1656362606608439, 0.2120973770611049, 0.2120973770611049, 0.07069912568703496, 0.14139825137406992, 0.2120973770611049, 0.07069912568703496, 0.4062595225872452, 0.2031297612936226, 0.83940763909794, 0.918312838971384, 0.17283554578414828, 0.2880592429735805, 0.17283554578414828, 0.11522369718943219, 0.11522369718943219, 0.11522369718943219, 0.057611848594716096, 0.8389154389812037, 0.9183100483290394, 0.24041296598898176, 0.24041296598898176, 0.24041296598898176, 0.9768287562719826, 0.2890345381879522, 0.2890345381879522, 0.1445172690939761, 0.1445172690939761, 0.1445172690939761, 0.1445172690939761, 0.9055140651907666, 0.9182364730359884, 0.4887408915993794, 0.9832628985394789, 0.5365149001470986, 0.8001982863163091, 0.1127119071010261, 0.1127119071010261, 0.1127119071010261, 0.4508476284041044, 0.1127119071010261, 0.8252102478997129, 0.8001933020938232, 0.799830603190498, 0.9183103610047355, 0.31943952863907005, 0.21295968575938, 0.10647984287969, 0.10647984287969, 0.10647984287969, 0.10647984287969, 0.15789167637118023, 0.15789167637118023, 0.31578335274236047, 0.15789167637118023, 0.07894583818559012, 0.07894583818559012, 0.18371441485419945, 0.3674288297083989, 0.18371441485419945, 0.8366495244592639, 0.23571331042358803, 0.47142662084717607, 0.6781258419109611, 0.9049276173875205, 0.8366467245305453, 0.24792735791689532, 0.24792735791689532, 0.24792735791689532, 0.9811602666225616, 0.8367442968628368, 0.1620507518983717, 0.1620507518983717, 0.3241015037967434, 0.1620507518983717, 0.18622818830316984, 0.3724563766063397, 0.18622818830316984, 0.18622818830316984, 0.4373143795500167, 0.4373143795500167, 0.19414858846944938, 0.19414858846944938, 0.19414858846944938, 0.19414858846944938, 0.19414858846944938, 0.3568455501715173, 0.3568455501715173, 0.38767261202116665, 0.19383630601058333, 0.19383630601058333, 0.5104523887751327, 0.5384568010752439, 0.8371564450119526, 0.9867959717171655, 0.4630768290420494, 0.2315384145210247, 0.8373092581487329, 0.9796427440817697, 0.5161932225622752, 0.3528302215940642, 0.2016172694823224, 0.0504043173705806, 0.1008086347411612, 0.1512129521117418, 0.1008086347411612, 0.0504043173705806, 0.8765862299574979, 0.9182186254636375, 0.12172496670870732, 0.12172496670870732, 0.24344993341741464, 0.18258745006306099, 0.24344993341741464, 0.06086248335435366, 0.9862778289579375, 0.5782378893097402, 0.5392862588074568, 0.47976061236891254, 0.9076307021119621, 0.9105644432568283, 0.6558550954068764, 0.905721981279044, 0.9183119426896377, 0.9016030596860145, 0.9660547560435799, 0.9028266096091329, 0.8742070646919656, 0.5389242950884401, 0.48656600544462036, 0.1556708215068338, 0.1556708215068338, 0.3113416430136676, 0.1556708215068338, 0.1556708215068338, 0.1556708215068338, 0.8252276067892061, 0.8015197157018706, 0.5366443734498911, 0.5543185523436123, 0.9733962962272446, 0.18402771039745952, 0.18402771039745952, 0.18402771039745952, 0.18402771039745952, 0.18402771039745952, 0.2653798726681032, 0.1592279236008619, 0.1592279236008619, 0.1592279236008619, 0.10615194906724128, 0.1592279236008619, 0.05307597453362064, 0.41038281510410374, 0.20519140755205187, 0.20519140755205187, 0.3428010580061228, 0.3428010580061228, 0.5755419874194483, 0.8376801055088012, 0.9864239995361931, 0.8410538779160139, 0.3313378311270506, 0.3313378311270506, 0.5310608863918688, 0.972917958700774, 0.14187353893271423, 0.28374707786542847, 0.28374707786542847, 0.14187353893271423, 0.14187353893271423, 0.14187353893271423, 0.35393046269435036, 0.17696523134717518, 0.17696523134717518, 0.058988410449058386, 0.058988410449058386, 0.11797682089811677, 0.57418216386085, 0.6315852373555856, 0.21052841245186185, 0.32094506330076145, 0.32094506330076145, 0.8244358689866293, 0.8240146579764401, 0.7384326666446213, 0.9803494001272303, 0.8243289218722066, 0.8993951183498364, 0.26739524902094, 0.53479049804188, 0.4890021631014345, 0.8377265917360254, 0.579267717330924, 0.9912648784211909, 0.5740635429824338, 0.9858663876480608, 0.5367773022097879, 0.8371436711088881, 0.3199003236037014, 0.3199003236037014, 0.33267929113708755, 0.33267929113708755, 0.2551936429317972, 0.5103872858635944, 0.9669870104870444, 0.24405859587219128, 0.24405859587219128, 0.24405859587219128, 0.5375963560380258, 0.9183258676143371, 0.8054014572821258, 0.8381523785123243, 0.66916611086982, 0.22305537028994, 0.48605563249577793, 0.5023099314418489, 0.8280706666039754, 0.49676535617783607, 0.9061629180159788, 0.49828504340655305, 0.3551878774491275, 0.11839595914970917, 0.11839595914970917, 0.11839595914970917, 0.11839595914970917, 0.11839595914970917, 0.8012320432081728], \"Term\": [\"\", \"\", \"           \", \"\\\"\", \"\\\"\", \"+\", \"+\", \"-\", \"-\", \"-\", \"-\", \"..\", \"/\", \"/\", \"1\", \"1\", \"1\", \"1.15\", \"15\", \"15\", \"199\", \"2\", \"2\", \"2\", \"29\", \"3\", \"3\", \"3\", \"3\", \"4\", \"4\", \"4\", \"49\", \"560\", \"9\", \":\", \":\", \":\", \":\", \":\", \":\", \"::\", \"HALL\", \"VAT\", \"net\", \"\\u0e01\\u0e01\", \"\\u0e01\\u0e25\\u0e31\\u0e1a\\u0e21\\u0e32\", \"\\u0e01\\u0e25\\u0e31\\u0e1a\\u0e21\\u0e32\", \"\\u0e01\\u0e30\\u0e1b\\u0e34\", \"\\u0e01\\u0e30\\u0e1b\\u0e34\", \"\\u0e01\\u0e30\\u0e1b\\u0e34\", \"\\u0e01\\u0e30\\u0e1b\\u0e34\", \"\\u0e01\\u0e30\\u0e1b\\u0e34\", \"\\u0e01\\u0e34\\u0e19\", \"\\u0e01\\u0e34\\u0e19\", \"\\u0e01\\u0e34\\u0e19\", \"\\u0e01\\u0e34\\u0e19\", \"\\u0e01\\u0e34\\u0e19\", \"\\u0e01\\u0e34\\u0e19\", \"\\u0e01\\u0e34\\u0e19\", \"\\u0e01\\u0e38\\u0e49\\u0e07\", \"\\u0e01\\u0e38\\u0e49\\u0e07\", \"\\u0e01\\u0e38\\u0e49\\u0e07\", \"\\u0e01\\u0e38\\u0e49\\u0e07\", \"\\u0e01\\u0e38\\u0e49\\u0e07\", \"\\u0e01\\u0e38\\u0e49\\u0e07\", \"\\u0e01\\u0e38\\u0e49\\u0e07\", \"\\u0e02\\u0e19\\u0e21\", \"\\u0e02\\u0e27\\u0e31\\u0e0d\\u0e43\\u0e08\", \"\\u0e02\\u0e2d\\u0e07\\u0e01\\u0e34\\u0e19\", \"\\u0e02\\u0e2d\\u0e07\\u0e04\\u0e32\\u0e27\", \"\\u0e02\\u0e2d\\u0e07\\u0e2b\\u0e27\\u0e32\\u0e19\", \"\\u0e02\\u0e2d\\u0e07\\u0e2b\\u0e27\\u0e32\\u0e19\", \"\\u0e02\\u0e2d\\u0e07\\u0e2b\\u0e27\\u0e32\\u0e19\", \"\\u0e02\\u0e2d\\u0e07\\u0e2b\\u0e27\\u0e32\\u0e19\", \"\\u0e02\\u0e2d\\u0e07\\u0e2b\\u0e27\\u0e32\\u0e19\", \"\\u0e02\\u0e2d\\u0e07\\u0e2b\\u0e27\\u0e32\\u0e19\", \"\\u0e02\\u0e32\", \"\\u0e02\\u0e48\\u0e32\\u0e27\", \"\\u0e02\\u0e49\\u0e2d\\u0e14\\u0e35\", \"\\u0e02\\u0e49\\u0e32\\u0e07\\u0e19\\u0e2d\\u0e01\", \"\\u0e04\\u0e19\", \"\\u0e04\\u0e19\", \"\\u0e04\\u0e19\", \"\\u0e04\\u0e19\", \"\\u0e04\\u0e19\", \"\\u0e04\\u0e19\", \"\\u0e04\\u0e19\\u0e25\\u0e30\", \"\\u0e04\\u0e19\\u0e25\\u0e30\", \"\\u0e04\\u0e19\\u0e40\\u0e14\\u0e35\\u0e22\\u0e27\", \"\\u0e04\\u0e27\\u0e32\\u0e21\\u0e15\\u0e49\\u0e2d\\u0e07\\u0e01\\u0e32\\u0e23\", \"\\u0e04\\u0e34\\u0e27\", \"\\u0e04\\u0e34\\u0e27\", \"\\u0e04\\u0e38\\u0e13\\u0e20\\u0e32\\u0e1e\", \"\\u0e04\\u0e38\\u0e13\\u0e20\\u0e32\\u0e1e\", \"\\u0e04\\u0e38\\u0e13\\u0e20\\u0e32\\u0e1e\", \"\\u0e04\\u0e38\\u0e13\\u0e20\\u0e32\\u0e1e\\u0e14\\u0e35\", \"\\u0e04\\u0e38\\u0e49\\u0e21\", \"\\u0e04\\u0e38\\u0e49\\u0e21\", \"\\u0e04\\u0e38\\u0e49\\u0e21\", \"\\u0e04\\u0e38\\u0e49\\u0e21\", \"\\u0e04\\u0e38\\u0e49\\u0e21\", \"\\u0e04\\u0e38\\u0e49\\u0e21\", \"\\u0e04\\u0e38\\u0e49\\u0e21\", \"\\u0e04\\u0e48\\u0e32\", \"\\u0e08\\u0e33\\u0e01\\u0e31\\u0e14\", \"\\u0e08\\u0e48\\u0e32\\u0e22\", \"\\u0e08\\u0e48\\u0e32\\u0e22\", \"\\u0e0a\\u0e2d\\u0e04\", \"\\u0e0a\\u0e2d\\u0e1a\", \"\\u0e0a\\u0e2d\\u0e1a\", \"\\u0e0a\\u0e2d\\u0e1a\", \"\\u0e0a\\u0e2d\\u0e1a\", \"\\u0e0a\\u0e2d\\u0e1a\", \"\\u0e0a\\u0e2d\\u0e1a\", \"\\u0e0a\\u0e31\\u0e48\\u0e27\\u0e42\\u0e21\\u0e07\", \"\\u0e0a\\u0e31\\u0e48\\u0e27\\u0e42\\u0e21\\u0e07\", \"\\u0e0a\\u0e32\\u0e1a\\u0e39\", \"\\u0e0a\\u0e32\\u0e1a\\u0e39\", \"\\u0e0a\\u0e32\\u0e1a\\u0e39\", \"\\u0e0a\\u0e32\\u0e1a\\u0e39\", \"\\u0e0a\\u0e32\\u0e1a\\u0e39\", \"\\u0e0a\\u0e32\\u0e1a\\u0e39\", \"\\u0e0a\\u0e32\\u0e1a\\u0e39\", \"\\u0e0a\\u0e34\", \"\\u0e0a\\u0e34\", \"\\u0e0a\\u0e34\", \"\\u0e0a\\u0e34\", \"\\u0e0a\\u0e37\\u0e48\\u0e19\", \"\\u0e0a\\u0e37\\u0e48\\u0e2d\", \"\\u0e0a\\u0e38\\u0e14\", \"\\u0e0a\\u0e38\\u0e14\", \"\\u0e0a\\u0e39\", \"\\u0e0b\\u0e36\", \"\\u0e0b\\u0e38\\u0e1b\", \"\\u0e0b\\u0e38\\u0e1b\", \"\\u0e0b\\u0e38\\u0e1b\", \"\\u0e0b\\u0e38\\u0e1b\", \"\\u0e0b\\u0e38\\u0e1b\", \"\\u0e0b\\u0e38\\u0e1b\", \"\\u0e0b\\u0e39\\u0e0a\\u0e34\", \"\\u0e0b\\u0e39\\u0e0a\\u0e34\", \"\\u0e0b\\u0e39\\u0e0a\\u0e34\", \"\\u0e0b\\u0e39\\u0e0a\\u0e34\", \"\\u0e0b\\u0e39\\u0e0a\\u0e34\", \"\\u0e0b\\u0e48\\u0e32\", \"\\u0e0d\\u0e35\\u0e48\\u0e1b\\u0e38\\u0e48\\u0e19\", \"\\u0e0d\\u0e35\\u0e48\\u0e1b\\u0e38\\u0e48\\u0e19\", \"\\u0e0d\\u0e35\\u0e48\\u0e1b\\u0e38\\u0e48\\u0e19\", \"\\u0e14\\u0e33\", \"\\u0e14\\u0e33\", \"\\u0e14\\u0e33\", \"\\u0e14\\u0e33\", \"\\u0e14\\u0e33\", \"\\u0e14\\u0e33\", \"\\u0e14\\u0e35\", \"\\u0e14\\u0e35\", \"\\u0e14\\u0e35\", \"\\u0e14\\u0e35\", \"\\u0e14\\u0e35\", \"\\u0e14\\u0e35\", \"\\u0e14\\u0e35\", \"\\u0e14\\u0e35\\u0e21\\u0e32\\u0e01\", \"\\u0e14\\u0e35\\u0e21\\u0e32\\u0e01\", \"\\u0e14\\u0e35\\u0e21\\u0e32\\u0e01\", \"\\u0e14\\u0e35\\u0e21\\u0e32\\u0e01\", \"\\u0e14\\u0e39\", \"\\u0e14\\u0e39\", \"\\u0e14\\u0e39\", \"\\u0e14\\u0e39\", \"\\u0e15\", \"\\u0e15\\u0e1a\\u0e17\\u0e49\\u0e32\\u0e22\", \"\\u0e15\\u0e23\\u0e07\\u0e19\\u0e31\\u0e49\\u0e19\", \"\\u0e15\\u0e25\\u0e31\\u0e1a\", \"\\u0e15\\u0e31\\u0e01\", \"\\u0e15\\u0e31\\u0e01\", \"\\u0e15\\u0e31\\u0e14\\u0e2a\\u0e34\\u0e19\\u0e43\\u0e08\", \"\\u0e15\\u0e31\\u0e27\", \"\\u0e15\\u0e31\\u0e49\\u0e07\\u0e2d\\u0e22\\u0e39\\u0e48\", \"\\u0e15\\u0e31\\u0e49\\u0e07\\u0e2d\\u0e22\\u0e39\\u0e48\", \"\\u0e15\\u0e34\\u0e14\", \"\\u0e15\\u0e34\\u0e14\", \"\\u0e15\\u0e34\\u0e14\\u0e01\\u0e31\\u0e1a\", \"\\u0e15\\u0e48\\u0e32\\u0e07 \\u0e46\", \"\\u0e15\\u0e49\\u0e2d\\u0e07\\u0e01\\u0e32\\u0e23\", \"\\u0e17\\u0e2d\\u0e14\", \"\\u0e17\\u0e2d\\u0e14\", \"\\u0e17\\u0e2d\\u0e14\", \"\\u0e17\\u0e2d\\u0e14\", \"\\u0e17\\u0e2d\\u0e14\", \"\\u0e17\\u0e30\\u0e22\\u0e2d\\u0e22\", \"\\u0e17\\u0e31\\u0e48\\u0e27\\u0e16\\u0e36\\u0e07\", \"\\u0e17\\u0e32\\u0e19\", \"\\u0e17\\u0e32\\u0e19\", \"\\u0e17\\u0e32\\u0e19\", \"\\u0e17\\u0e32\\u0e19\", \"\\u0e17\\u0e32\\u0e19\", \"\\u0e17\\u0e32\\u0e19\", \"\\u0e17\\u0e32\\u0e19\", \"\\u0e17\\u0e33\\u0e07\\u0e32\\u0e19\", \"\\u0e17\\u0e35\\u0e48\\u0e08\\u0e30\", \"\\u0e17\\u0e35\\u0e48\\u0e17\\u0e32\\u0e07\", \"\\u0e18\\u0e23\\u0e23\\u0e21\\u0e14\\u0e32\", \"\\u0e18\\u0e23\\u0e23\\u0e21\\u0e14\\u0e32\", \"\\u0e18\\u0e23\\u0e23\\u0e21\\u0e14\\u0e32\", \"\\u0e18\\u0e23\\u0e23\\u0e21\\u0e14\\u0e32\", \"\\u0e19\\u0e30\\u0e04\\u0e30\", \"\\u0e19\\u0e30\\u0e04\\u0e30\", \"\\u0e19\\u0e31\\u0e14\", \"\\u0e19\\u0e31\\u0e48\\u0e07\", \"\\u0e19\\u0e32\", \"\\u0e19\\u0e32\\u0e17\\u0e35\", \"\\u0e19\\u0e32\\u0e17\\u0e35\", \"\\u0e19\\u0e34\", \"\\u0e19\\u0e36\\u0e01\", \"\\u0e19\\u0e36\\u0e01\\u0e16\\u0e36\\u0e07\", \"\\u0e19\\u0e36\\u0e01\\u0e16\\u0e36\\u0e07\", \"\\u0e19\\u0e38\\u0e48\\u0e21\", \"\\u0e19\\u0e38\\u0e48\\u0e21\", \"\\u0e19\\u0e38\\u0e48\\u0e21\", \"\\u0e19\\u0e49\\u0e33\", \"\\u0e19\\u0e49\\u0e33\", \"\\u0e19\\u0e49\\u0e33\", \"\\u0e19\\u0e49\\u0e33\", \"\\u0e19\\u0e49\\u0e33\", \"\\u0e19\\u0e49\\u0e33\", \"\\u0e19\\u0e49\\u0e33\", \"\\u0e19\\u0e49\\u0e33\\u0e08\\u0e34\\u0e49\\u0e21\", \"\\u0e19\\u0e49\\u0e33\\u0e08\\u0e34\\u0e49\\u0e21\", \"\\u0e19\\u0e49\\u0e33\\u0e08\\u0e34\\u0e49\\u0e21\", \"\\u0e19\\u0e49\\u0e33\\u0e08\\u0e34\\u0e49\\u0e21\", \"\\u0e19\\u0e49\\u0e33\\u0e08\\u0e34\\u0e49\\u0e21\", \"\\u0e19\\u0e49\\u0e33\\u0e08\\u0e34\\u0e49\\u0e21\", \"\\u0e19\\u0e49\\u0e33\\u0e14\\u0e37\\u0e48\\u0e21\", \"\\u0e19\\u0e49\\u0e33\\u0e21\\u0e31\\u0e19\", \"\\u0e19\\u0e4d\\u0e49\\u0e32\", \"\\u0e1a\", \"\\u0e1a\\u0e23\\u0e32\", \"\\u0e1a\\u0e23\\u0e34\\u0e01\\u0e32\\u0e23\", \"\\u0e1a\\u0e23\\u0e34\\u0e01\\u0e32\\u0e23\", \"\\u0e1a\\u0e23\\u0e34\\u0e01\\u0e32\\u0e23\", \"\\u0e1a\\u0e23\\u0e34\\u0e01\\u0e32\\u0e23\", \"\\u0e1a\\u0e23\\u0e34\\u0e01\\u0e32\\u0e23\", \"\\u0e1a\\u0e31\\u0e15\\u0e23\\u0e40\\u0e04\\u0e23\\u0e14\\u0e34\\u0e15\", \"\\u0e1a\\u0e32\\u0e07\\u0e2a\\u0e48\\u0e27\\u0e19\", \"\\u0e1a\\u0e32\\u0e17\", \"\\u0e1a\\u0e32\\u0e17\", \"\\u0e1a\\u0e32\\u0e17\", \"\\u0e1a\\u0e32\\u0e17\", \"\\u0e1a\\u0e32\\u0e17\", \"\\u0e1a\\u0e32\\u0e17\", \"\\u0e1a\\u0e38\", \"\\u0e1a\\u0e38\", \"\\u0e1a\\u0e38\", \"\\u0e1a\\u0e38\\u0e1e\", \"\\u0e1a\\u0e38\\u0e1f\\u0e40\\u0e1f\\u0e15\\u0e4c\", \"\\u0e1a\\u0e38\\u0e1f\\u0e40\\u0e1f\\u0e48\\u0e15\\u0e4c\", \"\\u0e1a\\u0e38\\u0e1f\\u0e40\\u0e1f\\u0e48\\u0e15\\u0e4c\", \"\\u0e1a\\u0e38\\u0e1f\\u0e40\\u0e1f\\u0e48\\u0e15\\u0e4c\", \"\\u0e1a\\u0e38\\u0e1f\\u0e40\\u0e1f\\u0e48\\u0e15\\u0e4c\", \"\\u0e1a\\u0e38\\u0e1f\\u0e40\\u0e1f\\u0e48\\u0e15\\u0e4c\", \"\\u0e1a\\u0e38\\u0e1f\\u0e40\\u0e1f\\u0e48\\u0e15\\u0e4c\", \"\\u0e1b\\u0e23\\u0e30\\u0e15\\u0e39\", \"\\u0e1b\\u0e23\\u0e30\\u0e17\\u0e31\\u0e1a\\u0e43\\u0e08\", \"\\u0e1b\\u0e2d\\u0e01\\u0e40\\u0e1b\\u0e25\\u0e37\\u0e2d\\u0e01\", \"\\u0e1b\\u0e34\\u0e14\\u0e17\\u0e49\\u0e32\\u0e22\", \"\\u0e1b\\u0e38\\u0e23\\u0e30\", \"\\u0e1b\\u0e38\\u0e23\\u0e30\", \"\\u0e1b\\u0e38\\u0e23\\u0e30\", \"\\u0e1b\\u0e38\\u0e23\\u0e30\", \"\\u0e1b\\u0e38\\u0e23\\u0e30\", \"\\u0e1b\\u0e39\\u0e2d\\u0e31\\u0e14\", \"\\u0e1c\\u0e31\\u0e01\", \"\\u0e1c\\u0e31\\u0e01\", \"\\u0e1c\\u0e31\\u0e01\", \"\\u0e1c\\u0e34\\u0e14\\u0e2b\\u0e27\\u0e31\\u0e07\", \"\\u0e1e\\u0e19\\u0e31\\u0e01\\u0e07\\u0e32\\u0e19\", \"\\u0e1e\\u0e19\\u0e31\\u0e01\\u0e07\\u0e32\\u0e19\", \"\\u0e1e\\u0e19\\u0e31\\u0e01\\u0e07\\u0e32\\u0e19\", \"\\u0e1e\\u0e19\\u0e31\\u0e01\\u0e07\\u0e32\\u0e19\", \"\\u0e1e\\u0e19\\u0e31\\u0e01\\u0e07\\u0e32\\u0e19\", \"\\u0e1e\\u0e19\\u0e31\\u0e01\\u0e07\\u0e32\\u0e19\", \"\\u0e1e\\u0e19\\u0e31\\u0e01\\u0e07\\u0e32\\u0e19\\u0e1a\\u0e23\\u0e34\\u0e01\\u0e32\\u0e23\", \"\\u0e1e\\u0e23\\u0e35\\u0e40\\u0e21\\u0e35\\u0e22\\u0e21\", \"\\u0e1e\\u0e2d\\u0e01\\u0e31\\u0e1a\", \"\\u0e1e\\u0e2d\\u0e19\", \"\\u0e1e\\u0e32\\u0e23\\u0e32\\u0e44\\u0e14\\u0e0b\\u0e4c\", \"\\u0e1e\\u0e34\\u0e0b\", \"\\u0e1e\\u0e34\\u0e0b\\u0e0b\\u0e48\\u0e32\", \"\\u0e1e\\u0e34\\u0e0b\\u0e0b\\u0e48\\u0e32\", \"\\u0e1f\\u0e40\\u0e1f\", \"\\u0e1f\\u0e40\\u0e1f\\u0e48\", \"\\u0e1f\\u0e40\\u0e1f\\u0e48\", \"\\u0e20\\u0e32\\u0e1e\", \"\\u0e21\", \"\\u0e21\", \"\\u0e21\", \"\\u0e21\", \"\\u0e21\", \"\\u0e21\\u0e21\\u0e32\\u0e01\", \"\\u0e21\\u0e2d\\u0e25\\u0e25\\u0e4c\", \"\\u0e21\\u0e2d\\u0e25\\u0e25\\u0e4c\", \"\\u0e21\\u0e2d\\u0e25\\u0e25\\u0e4c\", \"\\u0e21\\u0e30\\u0e19\\u0e32\\u0e27\", \"\\u0e21\\u0e32\\u0e15\\u0e23\\u0e32\", \"\\u0e21\\u0e35\\u0e48\", \"\\u0e21\\u0e38\", \"\\u0e22\\u0e37\\u0e19\", \"\\u0e23\\u0e2a\", \"\\u0e23\\u0e2a\", \"\\u0e23\\u0e2a\", \"\\u0e23\\u0e2a\", \"\\u0e23\\u0e2a\", \"\\u0e23\\u0e2a\", \"\\u0e23\\u0e2a\\u0e0a\\u0e32\\u0e15\\u0e34\", \"\\u0e23\\u0e2a\\u0e0a\\u0e32\\u0e15\\u0e34\", \"\\u0e23\\u0e2a\\u0e0a\\u0e32\\u0e15\\u0e34\", \"\\u0e23\\u0e2a\\u0e0a\\u0e32\\u0e15\\u0e34\", \"\\u0e23\\u0e2a\\u0e0a\\u0e32\\u0e15\\u0e34\", \"\\u0e23\\u0e2a\\u0e0a\\u0e32\\u0e15\\u0e34\", \"\\u0e23\\u0e2d\", \"\\u0e23\\u0e2d\", \"\\u0e23\\u0e30\\u0e14\\u0e31\\u0e1a\", \"\\u0e23\\u0e30\\u0e1a\\u0e1a\", \"\\u0e23\\u0e32\\u0e04\\u0e32\", \"\\u0e23\\u0e32\\u0e04\\u0e32\", \"\\u0e23\\u0e32\\u0e04\\u0e32\", \"\\u0e23\\u0e32\\u0e04\\u0e32\", \"\\u0e23\\u0e32\\u0e04\\u0e32\", \"\\u0e23\\u0e32\\u0e04\\u0e32\", \"\\u0e23\\u0e32\\u0e04\\u0e32\", \"\\u0e23\\u0e32\\u0e22\\u0e01\\u0e32\\u0e23\", \"\\u0e23\\u0e35\\u0e27\\u0e34\\u0e27\", \"\\u0e23\\u0e39\\u0e49\\u0e2a\\u0e36\\u0e01\", \"\\u0e23\\u0e39\\u0e49\\u0e2a\\u0e36\\u0e01\", \"\\u0e23\\u0e39\\u0e49\\u0e2a\\u0e36\\u0e01\", \"\\u0e25\\u0e07\\u0e40\\u0e2d\\u0e22\", \"\\u0e25\\u0e2d\\u0e07\", \"\\u0e25\\u0e2d\\u0e07\", \"\\u0e25\\u0e2d\\u0e07\", \"\\u0e25\\u0e2d\\u0e07\", \"\\u0e25\\u0e2d\\u0e07\", \"\\u0e25\\u0e2d\\u0e07\", \"\\u0e25\\u0e30\\u0e25\\u0e32\\u0e19\\u0e15\\u0e32\", \"\\u0e25\\u0e32\\u0e22\\u0e15\\u0e32\", \"\\u0e25\\u0e37\\u0e21\", \"\\u0e27\\u0e31\\u0e19\\u0e01\\u0e48\\u0e2d\\u0e19\", \"\\u0e27\\u0e32\\u0e19\\u0e34\\u0e25\\u0e32\", \"\\u0e27\\u0e34\\u0e1b\", \"\\u0e2a\\u0e14\", \"\\u0e2a\\u0e14\", \"\\u0e2a\\u0e14\", \"\\u0e2a\\u0e14\", \"\\u0e2a\\u0e14\", \"\\u0e2a\\u0e1a\\u0e32\\u0e22\\u0e14\\u0e35\", \"\\u0e2a\\u0e21\\u0e23\\u0e32\\u0e04\\u0e32\", \"\\u0e2a\\u0e27\\u0e22\", \"\\u0e2a\\u0e27\\u0e31\\u0e2a\\u0e14\\u0e35\", \"\\u0e2a\\u0e31\\u0e48\\u0e07\", \"\\u0e2a\\u0e31\\u0e48\\u0e07\", \"\\u0e2a\\u0e31\\u0e48\\u0e07\", \"\\u0e2a\\u0e31\\u0e48\\u0e07\", \"\\u0e2a\\u0e31\\u0e48\\u0e07\", \"\\u0e2a\\u0e31\\u0e48\\u0e07\", \"\\u0e2a\\u0e32\\u0e02\\u0e32\", \"\\u0e2a\\u0e32\\u0e02\\u0e32\", \"\\u0e2a\\u0e32\\u0e02\\u0e32\", \"\\u0e2a\\u0e32\\u0e02\\u0e32\", \"\\u0e2a\\u0e32\\u0e02\\u0e32\", \"\\u0e2a\\u0e32\\u0e02\\u0e32\", \"\\u0e2a\\u0e32\\u0e22\\u0e1e\\u0e32\\u0e19\", \"\\u0e2a\\u0e32\\u0e22\\u0e1e\\u0e32\\u0e19\", \"\\u0e2a\\u0e32\\u0e22\\u0e1e\\u0e32\\u0e19\", \"\\u0e2a\\u0e32\\u0e40\\u0e2b\\u0e15\\u0e38\", \"\\u0e2a\\u0e33\\u0e2b\\u0e23\\u0e31\\u0e1a\", \"\\u0e2a\\u0e33\\u0e2b\\u0e23\\u0e31\\u0e1a\", \"\\u0e2a\\u0e38\\u0e01\\u0e35\\u0e49\", \"\\u0e2a\\u0e39\\u0e49\", \"\\u0e2a\\u0e44\\u0e1b\\u0e23\\u0e17\\u0e4c\", \"\\u0e2a\\u0e44\\u0e25\\u0e14\\u0e4c\", \"\\u0e2a\\u0e44\\u0e25\\u0e14\\u0e4c\", \"\\u0e2a\\u0e44\\u0e25\\u0e14\\u0e4c\", \"\\u0e2b\", \"\\u0e2b\\u0e19\\u0e32\", \"\\u0e2b\\u0e19\\u0e49\\u0e32\", \"\\u0e2b\\u0e19\\u0e49\\u0e32\", \"\\u0e2b\\u0e19\\u0e49\\u0e32\", \"\\u0e2b\\u0e19\\u0e49\\u0e32\", \"\\u0e2b\\u0e21\\u0e39\", \"\\u0e2b\\u0e21\\u0e39\", \"\\u0e2b\\u0e21\\u0e39\", \"\\u0e2b\\u0e21\\u0e39\", \"\\u0e2b\\u0e21\\u0e49\\u0e2d\", \"\\u0e2b\\u0e21\\u0e49\\u0e2d\", \"\\u0e2b\\u0e22\\u0e34\\u0e1a\", \"\\u0e2b\\u0e22\\u0e34\\u0e1a\", \"\\u0e2b\\u0e22\\u0e34\\u0e1a\", \"\\u0e2b\\u0e22\\u0e34\\u0e1a\", \"\\u0e2b\\u0e22\\u0e34\\u0e1a\", \"\\u0e2b\\u0e25\\u0e32\\u0e01\\u0e2b\\u0e25\\u0e32\\u0e22\", \"\\u0e2b\\u0e25\\u0e32\\u0e01\\u0e2b\\u0e25\\u0e32\\u0e22\", \"\\u0e2b\\u0e27\\u0e32\\u0e19\", \"\\u0e2b\\u0e27\\u0e32\\u0e19\", \"\\u0e2b\\u0e27\\u0e32\\u0e19\", \"\\u0e2b\\u0e2d\", \"\\u0e2b\\u0e2d\\u0e21\", \"\\u0e2b\\u0e2d\\u0e22\", \"\\u0e2b\\u0e32\", \"\\u0e2b\\u0e49\\u0e32\\u0e07\", \"\\u0e2b\\u0e49\\u0e32\\u0e07\", \"\\u0e2d\\u0e21\", \"\\u0e2d\\u0e22\\u0e38\\u0e48\", \"\\u0e2d\\u0e22\\u0e48\\u0e32\", \"\\u0e2d\\u0e23\\u0e48\\u0e2d\\u0e22\", \"\\u0e2d\\u0e23\\u0e48\\u0e2d\\u0e22\", \"\\u0e2d\\u0e23\\u0e48\\u0e2d\\u0e22\", \"\\u0e2d\\u0e23\\u0e48\\u0e2d\\u0e22\", \"\\u0e2d\\u0e23\\u0e48\\u0e2d\\u0e22\", \"\\u0e2d\\u0e23\\u0e48\\u0e2d\\u0e22\", \"\\u0e2d\\u0e23\\u0e48\\u0e2d\\u0e22\", \"\\u0e2d\\u0e25\\u0e25\\u0e4c\", \"\\u0e2d\\u0e31\\u0e1e\\u0e40\\u0e14\\u0e17\", \"\\u0e2d\\u0e32\\u0e2b\\u0e32\\u0e23\", \"\\u0e2d\\u0e32\\u0e2b\\u0e32\\u0e23\", \"\\u0e2d\\u0e32\\u0e2b\\u0e32\\u0e23\", \"\\u0e2d\\u0e32\\u0e2b\\u0e32\\u0e23\", \"\\u0e2d\\u0e32\\u0e2b\\u0e32\\u0e23\", \"\\u0e2d\\u0e32\\u0e2b\\u0e32\\u0e23\", \"\\u0e2d\\u0e32\\u0e2b\\u0e32\\u0e23\\u0e2a\\u0e14\", \"\\u0e2d\\u0e34\\u0e48\\u0e21\", \"\\u0e2d\\u0e35\\u0e01\\u0e04\\u0e23\\u0e31\\u0e49\\u0e07\", \"\\u0e2d\\u0e40\\u0e23\\u0e35\\u0e22\", \"\\u0e2e\\u0e48\\u0e32\", \"\\u0e32\\u0e19\", \"\\u0e40\\u0e01\\u0e34\\u0e19\\u0e44\\u0e1b\", \"\\u0e40\\u0e01\\u0e35\\u0e4a\\u0e22\\u0e27\", \"\\u0e40\\u0e01\\u0e49\", \"\\u0e40\\u0e04\\u0e23\\u0e37\\u0e48\\u0e2d\\u0e07\\u0e14\\u0e37\\u0e48\\u0e21\", \"\\u0e40\\u0e04\\u0e25\\u0e21\", \"\\u0e40\\u0e04\\u0e49\\u0e32\", \"\\u0e40\\u0e07\\u0e34\\u0e19\\u0e2a\\u0e14\", \"\\u0e40\\u0e0a\\u0e47\\u0e04\\u0e1a\\u0e34\\u0e25\", \"\\u0e40\\u0e0b\", \"\\u0e40\\u0e14\\u0e2d\\u0e30\", \"\\u0e40\\u0e14\\u0e2d\\u0e30\", \"\\u0e40\\u0e14\\u0e2d\\u0e30\", \"\\u0e40\\u0e14\\u0e2d\\u0e30\", \"\\u0e40\\u0e14\\u0e2d\\u0e30\", \"\\u0e40\\u0e14\\u0e2d\\u0e30\", \"\\u0e40\\u0e14\\u0e47\\u0e01\", \"\\u0e40\\u0e14\\u0e47\\u0e14\", \"\\u0e40\\u0e14\\u0e49\\u0e07\", \"\\u0e40\\u0e15\\u0e34\\u0e21\", \"\\u0e40\\u0e15\\u0e49\\u0e32\\u0e40\\u0e08\\u0e35\\u0e49\\u0e22\\u0e27\", \"\\u0e40\\u0e17\", \"\\u0e40\\u0e17\", \"\\u0e40\\u0e17\", \"\\u0e40\\u0e17\", \"\\u0e40\\u0e17\", \"\\u0e40\\u0e19\\u0e37\\u0e49\\u0e2d\", \"\\u0e40\\u0e19\\u0e37\\u0e49\\u0e2d\", \"\\u0e40\\u0e19\\u0e37\\u0e49\\u0e2d\", \"\\u0e40\\u0e19\\u0e37\\u0e49\\u0e2d\", \"\\u0e40\\u0e19\\u0e37\\u0e49\\u0e2d\", \"\\u0e40\\u0e19\\u0e37\\u0e49\\u0e2d\", \"\\u0e40\\u0e19\\u0e37\\u0e49\\u0e2d\", \"\\u0e40\\u0e19\\u0e37\\u0e49\\u0e2d\\u0e27\\u0e31\\u0e27\", \"\\u0e40\\u0e19\\u0e37\\u0e49\\u0e2d\\u0e27\\u0e31\\u0e27\", \"\\u0e40\\u0e19\\u0e37\\u0e49\\u0e2d\\u0e27\\u0e31\\u0e27\", \"\\u0e40\\u0e19\\u0e37\\u0e49\\u0e2d\\u0e2b\\u0e21\\u0e39\", \"\\u0e40\\u0e19\\u0e37\\u0e49\\u0e2d\\u0e2b\\u0e21\\u0e39\", \"\\u0e40\\u0e1a\", \"\\u0e40\\u0e1a\\u0e04\\u0e2d\\u0e19\", \"\\u0e40\\u0e1a\\u0e2d\\u0e23\\u0e4c\", \"\\u0e40\\u0e1b\\u0e23\\u0e35\\u0e49\\u0e22\\u0e27\\u0e2b\\u0e27\\u0e32\\u0e19\", \"\\u0e40\\u0e1b\\u0e47\\u0e14\", \"\\u0e40\\u0e1b\\u0e47\\u0e14\", \"\\u0e40\\u0e1b\\u0e47\\u0e19\\u0e2b\\u0e25\\u0e31\\u0e01\", \"\\u0e40\\u0e1c\\u0e47\\u0e14\", \"\\u0e40\\u0e21\\u0e19\\u0e39\", \"\\u0e40\\u0e21\\u0e19\\u0e39\", \"\\u0e40\\u0e21\\u0e19\\u0e39\", \"\\u0e40\\u0e21\\u0e19\\u0e39\", \"\\u0e40\\u0e21\\u0e19\\u0e39\", \"\\u0e40\\u0e21\\u0e19\\u0e39\", \"\\u0e40\\u0e25\\u0e37\\u0e2d\\u0e01\", \"\\u0e40\\u0e25\\u0e37\\u0e2d\\u0e01\", \"\\u0e40\\u0e25\\u0e37\\u0e2d\\u0e01\", \"\\u0e40\\u0e25\\u0e37\\u0e2d\\u0e01\", \"\\u0e40\\u0e25\\u0e37\\u0e2d\\u0e01\", \"\\u0e40\\u0e25\\u0e37\\u0e2d\\u0e01\", \"\\u0e40\\u0e25\\u0e48\\u0e19\", \"\\u0e40\\u0e27\\u0e25\\u0e32\", \"\\u0e40\\u0e27\\u0e25\\u0e32\", \"\\u0e40\\u0e2a\\u0e34\\u0e23\\u0e4c\\u0e1f\", \"\\u0e40\\u0e2a\\u0e34\\u0e23\\u0e4c\\u0e1f\", \"\\u0e40\\u0e2a\\u0e49\\u0e19\", \"\\u0e40\\u0e2b\\u0e21\\u0e37\\u0e2d\\u0e19\\u0e01\\u0e31\\u0e1a\", \"\\u0e40\\u0e2b\\u0e47\\u0e14\", \"\\u0e41\\u0e01\\u0e07\\u0e04\\u0e4c\", \"\\u0e41\\u0e04\\u0e1a\", \"\\u0e41\\u0e08\\u0e49\\u0e07\", \"\\u0e41\\u0e19\\u0e30\\u0e19\\u0e33\", \"\\u0e41\\u0e19\\u0e30\\u0e19\\u0e33\", \"\\u0e41\\u0e19\\u0e48\\u0e19\\u0e2d\\u0e19\", \"\\u0e41\\u0e1b\\u0e49\\u0e07\", \"\\u0e41\\u0e1e\\u0e07\", \"\\u0e41\\u0e25\", \"\\u0e41\\u0e25\\u0e49\\u0e27\\u0e01\\u0e47\", \"\\u0e42\\u0e01\", \"\\u0e42\\u0e14\\u0e19\", \"\\u0e42\\u0e14\\u0e22\\u0e1b\\u0e23\\u0e30\\u0e21\\u0e32\\u0e13\", \"\\u0e42\\u0e15\\u0e4a\\u0e30\", \"\\u0e42\\u0e15\\u0e4a\\u0e30\", \"\\u0e42\\u0e1b\\u0e23\\u0e42\\u0e21\\u0e0a\\u0e31\\u0e48\\u0e19\", \"\\u0e42\\u0e1b\\u0e23\\u0e42\\u0e21\\u0e0a\\u0e31\\u0e48\\u0e19\", \"\\u0e42\\u0e21\", \"\\u0e42\\u0e21\", \"\\u0e42\\u0e21\\u0e08\\u0e34\", \"\\u0e42\\u0e2d\\u0e40\\u0e04\", \"\\u0e42\\u0e2d\\u0e40\\u0e04\", \"\\u0e42\\u0e2d\\u0e40\\u0e04\", \"\\u0e43\\u0e08\\u0e14\\u0e35\", \"\\u0e43\\u0e0a\\u0e49\\u0e41\\u0e25\\u0e49\\u0e27\", \"\\u0e43\\u0e0a\\u0e49\\u0e44\\u0e14\\u0e49\", \"\\u0e43\\u0e2a\\u0e48\", \"\\u0e44\\u0e01\\u0e48\", \"\\u0e44\\u0e01\\u0e48\", \"\\u0e44\\u0e02\\u0e48\", \"\\u0e44\\u0e14\\u0e1f\\u0e39\\u0e01\\u0e38\", \"\\u0e44\\u0e14\\u0e49\\u0e01\\u0e25\\u0e34\\u0e48\\u0e19\", \"\\u0e44\\u0e1c\\u0e48\", \"\\u0e44\\u0e21\\u0e48\\u0e07\\u0e31\\u0e49\\u0e19\", \"\\u0e44\\u0e21\\u0e49\", \"\\u0e44\\u0e2d\\u0e15\\u0e34\\u0e21\", \"\\u0e44\\u0e2d\\u0e15\\u0e34\\u0e21\", \"\\u0e44\\u0e2d\\u0e15\\u0e34\\u0e21\", \"\\u0e44\\u0e2d\\u0e15\\u0e34\\u0e21\", \"\\u0e44\\u0e2d\\u0e15\\u0e34\\u0e21\", \"\\u0e44\\u0e2d\\u0e15\\u0e34\\u0e21\", \"\\u200b\"]}, \"R\": 30, \"lambda.step\": 0.01, \"plot.opts\": {\"xlab\": \"PC1\", \"ylab\": \"PC2\"}, \"topic.order\": [7, 4, 5, 1, 2, 6, 3]};\n",
              "\n",
              "function LDAvis_load_lib(url, callback){\n",
              "  var s = document.createElement('script');\n",
              "  s.src = url;\n",
              "  s.async = true;\n",
              "  s.onreadystatechange = s.onload = callback;\n",
              "  s.onerror = function(){console.warn(\"failed to load library \" + url);};\n",
              "  document.getElementsByTagName(\"head\")[0].appendChild(s);\n",
              "}\n",
              "\n",
              "if(typeof(LDAvis) !== \"undefined\"){\n",
              "   // already loaded: just create the visualization\n",
              "   !function(LDAvis){\n",
              "       new LDAvis(\"#\" + \"ldavis_el3371397975969406242606506961\", ldavis_el3371397975969406242606506961_data);\n",
              "   }(LDAvis);\n",
              "}else if(typeof define === \"function\" && define.amd){\n",
              "   // require.js is available: use it to load d3/LDAvis\n",
              "   require.config({paths: {d3: \"https://d3js.org/d3.v5\"}});\n",
              "   require([\"d3\"], function(d3){\n",
              "      window.d3 = d3;\n",
              "      LDAvis_load_lib(\"https://cdn.jsdelivr.net/gh/bmabey/pyLDAvis@3.3.1/pyLDAvis/js/ldavis.v3.0.0.js\", function(){\n",
              "        new LDAvis(\"#\" + \"ldavis_el3371397975969406242606506961\", ldavis_el3371397975969406242606506961_data);\n",
              "      });\n",
              "    });\n",
              "}else{\n",
              "    // require.js not available: dynamically load d3 & LDAvis\n",
              "    LDAvis_load_lib(\"https://d3js.org/d3.v5.js\", function(){\n",
              "         LDAvis_load_lib(\"https://cdn.jsdelivr.net/gh/bmabey/pyLDAvis@3.3.1/pyLDAvis/js/ldavis.v3.0.0.js\", function(){\n",
              "                 new LDAvis(\"#\" + \"ldavis_el3371397975969406242606506961\", ldavis_el3371397975969406242606506961_data);\n",
              "            })\n",
              "         });\n",
              "}\n",
              "</script>"
            ],
            "text/plain": [
              "PreparedData(topic_coordinates=              x         y  topics  cluster       Freq\n",
              "topic                                                \n",
              "6     -0.079094  0.005325       1        1  22.553042\n",
              "3     -0.018060 -0.002191       2        1  18.204659\n",
              "4      0.047605  0.067661       3        1  17.033926\n",
              "0      0.067794 -0.040332       4        1  16.423735\n",
              "1     -0.001631 -0.040834       5        1  12.321928\n",
              "5     -0.023704  0.007965       6        1   9.575228\n",
              "2      0.007090  0.002405       7        1   3.887482, topic_info=        Term       Freq      Total Category  logprob  loglift\n",
              "48         ​   6.000000   6.000000  Default  30.0000  30.0000\n",
              "274     กุ้ง   9.000000   9.000000  Default  29.0000  29.0000\n",
              "338        -  10.000000  10.000000  Default  28.0000  28.0000\n",
              "118      ทาน  23.000000  23.000000  Default  27.0000  27.0000\n",
              "285        ม   5.000000   5.000000  Default  26.0000  26.0000\n",
              "..       ...        ...        ...      ...      ...      ...\n",
              "20       บาท   0.352667  13.204489   Topic7  -5.0532  -0.3754\n",
              "10       ซุป   0.329489  14.487404   Topic7  -5.1212  -0.5361\n",
              "224       คน   0.311062  10.377220   Topic7  -5.1788  -0.2600\n",
              "92         :   0.301753  11.930257   Topic7  -5.2091  -0.4298\n",
              "97   ของหวาน   0.280341   9.285508   Topic7  -5.2828  -0.2528\n",
              "\n",
              "[457 rows x 6 columns], token_table=      Topic      Freq         Term\n",
              "term                              \n",
              "87        1  0.497502             \n",
              "87        2  0.248751             \n",
              "49        3  0.905266             \n",
              "337       4  0.284976            \"\n",
              "337       5  0.284976            \"\n",
              "...     ...       ...          ...\n",
              "47        3  0.118396        ไอติม\n",
              "47        4  0.118396        ไอติม\n",
              "47        5  0.118396        ไอติม\n",
              "47        6  0.118396        ไอติม\n",
              "48        5  0.801232            ​\n",
              "\n",
              "[541 rows x 3 columns], R=30, lambda_step=0.01, plot_opts={'xlab': 'PC1', 'ylab': 'PC2'}, topic_order=[7, 4, 5, 1, 2, 6, 3])"
            ]
          },
          "metadata": {
            "tags": []
          },
          "execution_count": 15
        }
      ]
    },
    {
      "cell_type": "code",
      "metadata": {
        "id": "cL507Sc2t2DA",
        "colab": {
          "base_uri": "https://localhost:8080/"
        },
        "outputId": "f73c2a7a-52c0-489f-9bb1-780378029dc9"
      },
      "source": [
        "model.show_topic(2)"
      ],
      "execution_count": 16,
      "outputs": [
        {
          "output_type": "execute_result",
          "data": {
            "text/plain": [
              "[('ทาน', 0.023830634),\n",
              " ('กุ้ง', 0.01908017),\n",
              " ('ชาบู', 0.018170312),\n",
              " ('ม', 0.01735167),\n",
              " ('ปุระ', 0.0173449),\n",
              " ('เท', 0.017343532),\n",
              " ('น้ำ', 0.011083615),\n",
              " ('ดี', 0.010965012),\n",
              " ('กิน', 0.010704944),\n",
              " ('เนื้อ', 0.010651736)]"
            ]
          },
          "metadata": {
            "tags": []
          },
          "execution_count": 16
        }
      ]
    },
    {
      "cell_type": "code",
      "metadata": {
        "id": "E1TXJCLiuDj0"
      },
      "source": [
        "df['topics'] = df['Review_tokenized'].apply(lambda x: model.get_document_topics(dictionary.doc2bow(x.split(',')))[0][0])\n",
        "df['score'] = df['Review_tokenized'].apply(lambda x: model.get_document_topics(dictionary.doc2bow(x.split(',')))[0][1])"
      ],
      "execution_count": 17,
      "outputs": []
    },
    {
      "cell_type": "code",
      "metadata": {
        "id": "h6s6STI6uGyE",
        "colab": {
          "base_uri": "https://localhost:8080/",
          "height": 698
        },
        "outputId": "af0204e5-bd63-435c-c684-d32caa308612"
      },
      "source": [
        "df[['Restaurant', 'Review', 'topics']]"
      ],
      "execution_count": 18,
      "outputs": [
        {
          "output_type": "execute_result",
          "data": {
            "text/html": [
              "<div>\n",
              "<style scoped>\n",
              "    .dataframe tbody tr th:only-of-type {\n",
              "        vertical-align: middle;\n",
              "    }\n",
              "\n",
              "    .dataframe tbody tr th {\n",
              "        vertical-align: top;\n",
              "    }\n",
              "\n",
              "    .dataframe thead th {\n",
              "        text-align: right;\n",
              "    }\n",
              "</style>\n",
              "<table border=\"1\" class=\"dataframe\">\n",
              "  <thead>\n",
              "    <tr style=\"text-align: right;\">\n",
              "      <th></th>\n",
              "      <th>Restaurant</th>\n",
              "      <th>Review</th>\n",
              "      <th>topics</th>\n",
              "    </tr>\n",
              "  </thead>\n",
              "  <tbody>\n",
              "    <tr>\n",
              "      <th>0</th>\n",
              "      <td>Mo-Mo-Paradise (โม โม พาราไดซ์) เดอะมอลล์ บางกะปิ</td>\n",
              "      <td>ที่สำคัญของร้านนี้คือบริการดีมากพนักงานน่ารักส...</td>\n",
              "      <td>1</td>\n",
              "    </tr>\n",
              "    <tr>\n",
              "      <th>1</th>\n",
              "      <td>Mo-Mo-Paradise (โม โม พาราไดซ์) เดอะมอลล์ บางกะปิ</td>\n",
              "      <td>นึกถึงชาบูญี่ปุ่นยังไงก็ต้อง คิดถึงโมโม่ พาราไ...</td>\n",
              "      <td>4</td>\n",
              "    </tr>\n",
              "    <tr>\n",
              "      <th>2</th>\n",
              "      <td>Mo-Mo-Paradise (โม โม พาราไดซ์) เดอะมอลล์ บางกะปิ</td>\n",
              "      <td>มาทานช่วงนี้ สามารถนั่งโต๊ะเดียวกัน หม้อเดียวก...</td>\n",
              "      <td>6</td>\n",
              "    </tr>\n",
              "    <tr>\n",
              "      <th>3</th>\n",
              "      <td>Mo-Mo-Paradise (โม โม พาราไดซ์) เดอะมอลล์ บางกะปิ</td>\n",
              "      <td>ถ้านึกถึงชาบูที่มีเนื้อเน้นๆ ในราคาไม่โหดจนเกิ...</td>\n",
              "      <td>5</td>\n",
              "    </tr>\n",
              "    <tr>\n",
              "      <th>4</th>\n",
              "      <td>Mo-Mo-Paradise (โม โม พาราไดซ์) เดอะมอลล์ บางกะปิ</td>\n",
              "      <td>เดินมาหน้าร้านแล้วได้กลิ่นชาบูหอมมาก ๆ  ประกอบ...</td>\n",
              "      <td>6</td>\n",
              "    </tr>\n",
              "    <tr>\n",
              "      <th>5</th>\n",
              "      <td>Mo-Mo-Paradise (โม โม พาราไดซ์) เดอะมอลล์ บางกะปิ</td>\n",
              "      <td>ร้านบุฟเฟ่ ชาบูแนวญี่ปุ่น สายเนื้อหมู เนื้อวัว...</td>\n",
              "      <td>5</td>\n",
              "    </tr>\n",
              "    <tr>\n",
              "      <th>6</th>\n",
              "      <td>Mo-Mo-Paradise (โม โม พาราไดซ์) เดอะมอลล์ บางกะปิ</td>\n",
              "      <td>Number 20 : โมโม – พาราไดส์ (สาขาเดอะมอลบางกะป...</td>\n",
              "      <td>5</td>\n",
              "    </tr>\n",
              "    <tr>\n",
              "      <th>7</th>\n",
              "      <td>Mo-Mo-Paradise (โม โม พาราไดซ์) เดอะมอลล์ บางกะปิ</td>\n",
              "      <td>ร้านชาบูเฟรนไชส์รสชาติดีมากคุ้มค่าเหมาะสมกับรา...</td>\n",
              "      <td>3</td>\n",
              "    </tr>\n",
              "    <tr>\n",
              "      <th>8</th>\n",
              "      <td>Shabushi (ชาบูชิ) เดอะมอลล์บางกะปิ ชั้น G</td>\n",
              "      <td>มา านที่ขาบูชิต้องมาตอนหิว ไม่งั้นจะไม่คุ้มนะค...</td>\n",
              "      <td>4</td>\n",
              "    </tr>\n",
              "    <tr>\n",
              "      <th>9</th>\n",
              "      <td>Shabushi (ชาบูชิ) เดอะมอลล์บางกะปิ ชั้น G</td>\n",
              "      <td>ใครชอบกุ้งทอดเทมปุระ แค่กุ้งเทมปุระก็คุ้มแล้ว ...</td>\n",
              "      <td>2</td>\n",
              "    </tr>\n",
              "    <tr>\n",
              "      <th>10</th>\n",
              "      <td>Shabushi (ชาบูชิ) เดอะมอลล์บางกะปิ ชั้น G</td>\n",
              "      <td>กลับมาอัพเดทราคาชาบูชิ ตอนนี้อยู่ที่ 399 บาท n...</td>\n",
              "      <td>3</td>\n",
              "    </tr>\n",
              "    <tr>\n",
              "      <th>11</th>\n",
              "      <td>Shabushi (ชาบูชิ) เดอะมอลล์บางกะปิ ชั้น G</td>\n",
              "      <td>ห่างหายไปนานสำหรับชาบูชิ ตั้งแต่ทางร้านได้ปรับ...</td>\n",
              "      <td>0</td>\n",
              "    </tr>\n",
              "    <tr>\n",
              "      <th>12</th>\n",
              "      <td>Shabushi (ชาบูชิ) เดอะมอลล์บางกะปิ ชั้น G</td>\n",
              "      <td>เมื่อหลายวันก่อนนัดหาข้าวทานกับเดอะแกงค์ และก็...</td>\n",
              "      <td>1</td>\n",
              "    </tr>\n",
              "    <tr>\n",
              "      <th>13</th>\n",
              "      <td>Shabushi (ชาบูชิ) เดอะมอลล์บางกะปิ ชั้น G</td>\n",
              "      <td>บอกตรงๆว่าหลายครั้งที่เลือกจะกินบุฟเฟต์จะต้องอ...</td>\n",
              "      <td>4</td>\n",
              "    </tr>\n",
              "    <tr>\n",
              "      <th>14</th>\n",
              "      <td>Shabushi (ชาบูชิ) เดอะมอลล์บางกะปิ ชั้น G</td>\n",
              "      <td>สวัสดีครับวันนี้จะขอมารีวิวร้านชาบูชิ บุฟเฟขวั...</td>\n",
              "      <td>3</td>\n",
              "    </tr>\n",
              "    <tr>\n",
              "      <th>15</th>\n",
              "      <td>Shabushi (ชาบูชิ) เดอะมอลล์บางกะปิ ชั้น G</td>\n",
              "      <td>ชาบูชิ สาขาเดอะมอลล์บางกะปิ ตั้งอยู่ประตูหน้าห...</td>\n",
              "      <td>4</td>\n",
              "    </tr>\n",
              "    <tr>\n",
              "      <th>16</th>\n",
              "      <td>ข้าน้อยขอชาบู</td>\n",
              "      <td>หลังจากที่เคยลองสาขายูเนี่ยนมอลล์ไป รอบนี้มาที...</td>\n",
              "      <td>3</td>\n",
              "    </tr>\n",
              "    <tr>\n",
              "      <th>17</th>\n",
              "      <td>ข้าน้อยขอชาบู</td>\n",
              "      <td>ร้านบุฟเฟ่ต์ที่มีโปรโมชั่นหัวละ199บาท ไม่รวมน้...</td>\n",
              "      <td>3</td>\n",
              "    </tr>\n",
              "    <tr>\n",
              "      <th>18</th>\n",
              "      <td>ข้าน้อยขอชาบู</td>\n",
              "      <td>เคยรู้จักร้านนี้จากที่ union mall ไม่เคยได้ลอง...</td>\n",
              "      <td>1</td>\n",
              "    </tr>\n",
              "    <tr>\n",
              "      <th>19</th>\n",
              "      <td>ข้าน้อยขอชาบู</td>\n",
              "      <td>อร่อยมากค่ะ คุ้มค่าสมราคา บุฟเฟ่หมูผักต่างๆ รว...</td>\n",
              "      <td>6</td>\n",
              "    </tr>\n",
              "    <tr>\n",
              "      <th>20</th>\n",
              "      <td>ข้าน้อยขอชาบู</td>\n",
              "      <td>ก็ตามที่เขียนเลยครับ ว่า ถ้าจะจ่ายในราคา 199 บ...</td>\n",
              "      <td>3</td>\n",
              "    </tr>\n",
              "  </tbody>\n",
              "</table>\n",
              "</div>"
            ],
            "text/plain": [
              "                                           Restaurant  ... topics\n",
              "0   Mo-Mo-Paradise (โม โม พาราไดซ์) เดอะมอลล์ บางกะปิ  ...      1\n",
              "1   Mo-Mo-Paradise (โม โม พาราไดซ์) เดอะมอลล์ บางกะปิ  ...      4\n",
              "2   Mo-Mo-Paradise (โม โม พาราไดซ์) เดอะมอลล์ บางกะปิ  ...      6\n",
              "3   Mo-Mo-Paradise (โม โม พาราไดซ์) เดอะมอลล์ บางกะปิ  ...      5\n",
              "4   Mo-Mo-Paradise (โม โม พาราไดซ์) เดอะมอลล์ บางกะปิ  ...      6\n",
              "5   Mo-Mo-Paradise (โม โม พาราไดซ์) เดอะมอลล์ บางกะปิ  ...      5\n",
              "6   Mo-Mo-Paradise (โม โม พาราไดซ์) เดอะมอลล์ บางกะปิ  ...      5\n",
              "7   Mo-Mo-Paradise (โม โม พาราไดซ์) เดอะมอลล์ บางกะปิ  ...      3\n",
              "8           Shabushi (ชาบูชิ) เดอะมอลล์บางกะปิ ชั้น G  ...      4\n",
              "9           Shabushi (ชาบูชิ) เดอะมอลล์บางกะปิ ชั้น G  ...      2\n",
              "10          Shabushi (ชาบูชิ) เดอะมอลล์บางกะปิ ชั้น G  ...      3\n",
              "11          Shabushi (ชาบูชิ) เดอะมอลล์บางกะปิ ชั้น G  ...      0\n",
              "12          Shabushi (ชาบูชิ) เดอะมอลล์บางกะปิ ชั้น G  ...      1\n",
              "13          Shabushi (ชาบูชิ) เดอะมอลล์บางกะปิ ชั้น G  ...      4\n",
              "14          Shabushi (ชาบูชิ) เดอะมอลล์บางกะปิ ชั้น G  ...      3\n",
              "15          Shabushi (ชาบูชิ) เดอะมอลล์บางกะปิ ชั้น G  ...      4\n",
              "16                                      ข้าน้อยขอชาบู  ...      3\n",
              "17                                      ข้าน้อยขอชาบู  ...      3\n",
              "18                                      ข้าน้อยขอชาบู  ...      1\n",
              "19                                      ข้าน้อยขอชาบู  ...      6\n",
              "20                                      ข้าน้อยขอชาบู  ...      3\n",
              "\n",
              "[21 rows x 3 columns]"
            ]
          },
          "metadata": {
            "tags": []
          },
          "execution_count": 18
        }
      ]
    },
    {
      "cell_type": "code",
      "metadata": {
        "id": "JNgAdqw10H8u",
        "colab": {
          "base_uri": "https://localhost:8080/",
          "height": 392
        },
        "outputId": "386c4e47-5809-41f6-8a4a-d3ddbe4db89d"
      },
      "source": [
        "Restaurant = df.groupby(\"Restaurant\")\n",
        "Restaurant.describe().head()"
      ],
      "execution_count": 19,
      "outputs": [
        {
          "output_type": "execute_result",
          "data": {
            "text/html": [
              "<div>\n",
              "<style scoped>\n",
              "    .dataframe tbody tr th:only-of-type {\n",
              "        vertical-align: middle;\n",
              "    }\n",
              "\n",
              "    .dataframe tbody tr th {\n",
              "        vertical-align: top;\n",
              "    }\n",
              "\n",
              "    .dataframe thead tr th {\n",
              "        text-align: left;\n",
              "    }\n",
              "\n",
              "    .dataframe thead tr:last-of-type th {\n",
              "        text-align: right;\n",
              "    }\n",
              "</style>\n",
              "<table border=\"1\" class=\"dataframe\">\n",
              "  <thead>\n",
              "    <tr>\n",
              "      <th></th>\n",
              "      <th colspan=\"8\" halign=\"left\">Review ID</th>\n",
              "      <th colspan=\"8\" halign=\"left\">Rating</th>\n",
              "      <th colspan=\"8\" halign=\"left\">topics</th>\n",
              "      <th colspan=\"8\" halign=\"left\">score</th>\n",
              "    </tr>\n",
              "    <tr>\n",
              "      <th></th>\n",
              "      <th>count</th>\n",
              "      <th>mean</th>\n",
              "      <th>std</th>\n",
              "      <th>min</th>\n",
              "      <th>25%</th>\n",
              "      <th>50%</th>\n",
              "      <th>75%</th>\n",
              "      <th>max</th>\n",
              "      <th>count</th>\n",
              "      <th>mean</th>\n",
              "      <th>std</th>\n",
              "      <th>min</th>\n",
              "      <th>25%</th>\n",
              "      <th>50%</th>\n",
              "      <th>75%</th>\n",
              "      <th>max</th>\n",
              "      <th>count</th>\n",
              "      <th>mean</th>\n",
              "      <th>std</th>\n",
              "      <th>min</th>\n",
              "      <th>25%</th>\n",
              "      <th>50%</th>\n",
              "      <th>75%</th>\n",
              "      <th>max</th>\n",
              "      <th>count</th>\n",
              "      <th>mean</th>\n",
              "      <th>std</th>\n",
              "      <th>min</th>\n",
              "      <th>25%</th>\n",
              "      <th>50%</th>\n",
              "      <th>75%</th>\n",
              "      <th>max</th>\n",
              "    </tr>\n",
              "    <tr>\n",
              "      <th>Restaurant</th>\n",
              "      <th></th>\n",
              "      <th></th>\n",
              "      <th></th>\n",
              "      <th></th>\n",
              "      <th></th>\n",
              "      <th></th>\n",
              "      <th></th>\n",
              "      <th></th>\n",
              "      <th></th>\n",
              "      <th></th>\n",
              "      <th></th>\n",
              "      <th></th>\n",
              "      <th></th>\n",
              "      <th></th>\n",
              "      <th></th>\n",
              "      <th></th>\n",
              "      <th></th>\n",
              "      <th></th>\n",
              "      <th></th>\n",
              "      <th></th>\n",
              "      <th></th>\n",
              "      <th></th>\n",
              "      <th></th>\n",
              "      <th></th>\n",
              "      <th></th>\n",
              "      <th></th>\n",
              "      <th></th>\n",
              "      <th></th>\n",
              "      <th></th>\n",
              "      <th></th>\n",
              "      <th></th>\n",
              "      <th></th>\n",
              "    </tr>\n",
              "  </thead>\n",
              "  <tbody>\n",
              "    <tr>\n",
              "      <th>Mo-Mo-Paradise (โม โม พาราไดซ์) เดอะมอลล์ บางกะปิ</th>\n",
              "      <td>8.0</td>\n",
              "      <td>4.5</td>\n",
              "      <td>2.449490</td>\n",
              "      <td>1.0</td>\n",
              "      <td>2.75</td>\n",
              "      <td>4.5</td>\n",
              "      <td>6.25</td>\n",
              "      <td>8.0</td>\n",
              "      <td>8.0</td>\n",
              "      <td>4.375</td>\n",
              "      <td>0.517549</td>\n",
              "      <td>4.0</td>\n",
              "      <td>4.00</td>\n",
              "      <td>4.0</td>\n",
              "      <td>5.00</td>\n",
              "      <td>5.0</td>\n",
              "      <td>8.0</td>\n",
              "      <td>4.375</td>\n",
              "      <td>1.685018</td>\n",
              "      <td>1.0</td>\n",
              "      <td>3.75</td>\n",
              "      <td>5.0</td>\n",
              "      <td>5.25</td>\n",
              "      <td>6.0</td>\n",
              "      <td>8.0</td>\n",
              "      <td>0.996372</td>\n",
              "      <td>0.001639</td>\n",
              "      <td>0.994073</td>\n",
              "      <td>0.995253</td>\n",
              "      <td>0.996536</td>\n",
              "      <td>0.997464</td>\n",
              "      <td>0.998891</td>\n",
              "    </tr>\n",
              "    <tr>\n",
              "      <th>Shabushi (ชาบูชิ) เดอะมอลล์บางกะปิ ชั้น G</th>\n",
              "      <td>8.0</td>\n",
              "      <td>12.5</td>\n",
              "      <td>2.449490</td>\n",
              "      <td>9.0</td>\n",
              "      <td>10.75</td>\n",
              "      <td>12.5</td>\n",
              "      <td>14.25</td>\n",
              "      <td>16.0</td>\n",
              "      <td>8.0</td>\n",
              "      <td>3.500</td>\n",
              "      <td>0.534522</td>\n",
              "      <td>3.0</td>\n",
              "      <td>3.00</td>\n",
              "      <td>3.5</td>\n",
              "      <td>4.00</td>\n",
              "      <td>4.0</td>\n",
              "      <td>8.0</td>\n",
              "      <td>2.625</td>\n",
              "      <td>1.505941</td>\n",
              "      <td>0.0</td>\n",
              "      <td>1.75</td>\n",
              "      <td>3.0</td>\n",
              "      <td>4.00</td>\n",
              "      <td>4.0</td>\n",
              "      <td>8.0</td>\n",
              "      <td>0.996675</td>\n",
              "      <td>0.001413</td>\n",
              "      <td>0.995060</td>\n",
              "      <td>0.995628</td>\n",
              "      <td>0.996402</td>\n",
              "      <td>0.997408</td>\n",
              "      <td>0.999171</td>\n",
              "    </tr>\n",
              "    <tr>\n",
              "      <th>ข้าน้อยขอชาบู</th>\n",
              "      <td>5.0</td>\n",
              "      <td>19.0</td>\n",
              "      <td>1.581139</td>\n",
              "      <td>17.0</td>\n",
              "      <td>18.00</td>\n",
              "      <td>19.0</td>\n",
              "      <td>20.00</td>\n",
              "      <td>21.0</td>\n",
              "      <td>4.0</td>\n",
              "      <td>4.000</td>\n",
              "      <td>0.816497</td>\n",
              "      <td>3.0</td>\n",
              "      <td>3.75</td>\n",
              "      <td>4.0</td>\n",
              "      <td>4.25</td>\n",
              "      <td>5.0</td>\n",
              "      <td>5.0</td>\n",
              "      <td>3.200</td>\n",
              "      <td>1.788854</td>\n",
              "      <td>1.0</td>\n",
              "      <td>3.00</td>\n",
              "      <td>3.0</td>\n",
              "      <td>3.00</td>\n",
              "      <td>6.0</td>\n",
              "      <td>5.0</td>\n",
              "      <td>0.822439</td>\n",
              "      <td>0.389643</td>\n",
              "      <td>0.125427</td>\n",
              "      <td>0.995487</td>\n",
              "      <td>0.996320</td>\n",
              "      <td>0.996910</td>\n",
              "      <td>0.998052</td>\n",
              "    </tr>\n",
              "  </tbody>\n",
              "</table>\n",
              "</div>"
            ],
            "text/plain": [
              "                                                  Review ID  ...     score\n",
              "                                                      count  ...       max\n",
              "Restaurant                                                   ...          \n",
              "Mo-Mo-Paradise (โม โม พาราไดซ์) เดอะมอลล์ บางกะปิ       8.0  ...  0.998891\n",
              "Shabushi (ชาบูชิ) เดอะมอลล์บางกะปิ ชั้น G               8.0  ...  0.999171\n",
              "ข้าน้อยขอชาบู                                           5.0  ...  0.998052\n",
              "\n",
              "[3 rows x 32 columns]"
            ]
          },
          "metadata": {
            "tags": []
          },
          "execution_count": 19
        }
      ]
    }
  ]
}