{
  "nbformat": 4,
  "nbformat_minor": 0,
  "metadata": {
    "colab": {
      "name": "Homework 11 - Voice of Customer.ipynb",
      "provenance": [],
      "collapsed_sections": [],
      "authorship_tag": "ABX9TyO8DyI4GbJzheslZVyihnMD",
      "include_colab_link": true
    },
    "kernelspec": {
      "name": "python3",
      "display_name": "Python 3"
    },
    "language_info": {
      "name": "python"
    }
  },
  "cells": [
    {
      "cell_type": "markdown",
      "metadata": {
        "id": "view-in-github",
        "colab_type": "text"
      },
      "source": [
        "<a href=\"https://colab.research.google.com/github/satisa-tk/CRM/blob/main/Homework_11_Voice_of_Customer.ipynb\" target=\"_parent\"><img src=\"https://colab.research.google.com/assets/colab-badge.svg\" alt=\"Open In Colab\"/></a>"
      ]
    },
    {
      "cell_type": "code",
      "metadata": {
        "colab": {
          "base_uri": "https://localhost:8080/"
        },
        "id": "DzW1bQFPPYbW",
        "outputId": "7bf52f6e-91c3-49d1-b8c8-75327cd95927"
      },
      "source": [
        "from google.colab import drive\n",
        "drive.mount('/content/drive')"
      ],
      "execution_count": 14,
      "outputs": [
        {
          "output_type": "stream",
          "text": [
            "Drive already mounted at /content/drive; to attempt to forcibly remount, call drive.mount(\"/content/drive\", force_remount=True).\n"
          ],
          "name": "stdout"
        }
      ]
    },
    {
      "cell_type": "code",
      "metadata": {
        "colab": {
          "base_uri": "https://localhost:8080/"
        },
        "id": "L3UDpsXYRwLC",
        "outputId": "8d33bd49-d311-4bf5-eac9-d5b63eeeedfa"
      },
      "source": [
        "%cd /content/drive/My Drive/HW_CRM"
      ],
      "execution_count": 15,
      "outputs": [
        {
          "output_type": "stream",
          "text": [
            "/content/drive/My Drive/HW_CRM\n"
          ],
          "name": "stdout"
        }
      ]
    },
    {
      "cell_type": "code",
      "metadata": {
        "id": "gO-IEVwUqjIB",
        "colab": {
          "base_uri": "https://localhost:8080/"
        },
        "outputId": "dfc73a61-e2f5-433f-8373-62e8e58fe8eb"
      },
      "source": [
        "!pip install pythainlp"
      ],
      "execution_count": 16,
      "outputs": [
        {
          "output_type": "stream",
          "text": [
            "Requirement already satisfied: pythainlp in /usr/local/lib/python3.7/dist-packages (2.3.1)\n",
            "Requirement already satisfied: requests>=2.22.0 in /usr/local/lib/python3.7/dist-packages (from pythainlp) (2.23.0)\n",
            "Requirement already satisfied: python-crfsuite>=0.9.6 in /usr/local/lib/python3.7/dist-packages (from pythainlp) (0.9.7)\n",
            "Requirement already satisfied: tinydb>=3.0 in /usr/local/lib/python3.7/dist-packages (from pythainlp) (4.4.0)\n",
            "Requirement already satisfied: chardet<4,>=3.0.2 in /usr/local/lib/python3.7/dist-packages (from requests>=2.22.0->pythainlp) (3.0.4)\n",
            "Requirement already satisfied: urllib3!=1.25.0,!=1.25.1,<1.26,>=1.21.1 in /usr/local/lib/python3.7/dist-packages (from requests>=2.22.0->pythainlp) (1.24.3)\n",
            "Requirement already satisfied: idna<3,>=2.5 in /usr/local/lib/python3.7/dist-packages (from requests>=2.22.0->pythainlp) (2.10)\n",
            "Requirement already satisfied: certifi>=2017.4.17 in /usr/local/lib/python3.7/dist-packages (from requests>=2.22.0->pythainlp) (2020.12.5)\n"
          ],
          "name": "stdout"
        }
      ]
    },
    {
      "cell_type": "code",
      "metadata": {
        "colab": {
          "base_uri": "https://localhost:8080/"
        },
        "id": "nsd7Mn_CqpBU",
        "outputId": "432b0791-624b-40c5-cb3d-11896a1a892e"
      },
      "source": [
        "!pip install pyLDAvis"
      ],
      "execution_count": 17,
      "outputs": [
        {
          "output_type": "stream",
          "text": [
            "Requirement already satisfied: pyLDAvis in /usr/local/lib/python3.7/dist-packages (3.3.1)\n",
            "Requirement already satisfied: scikit-learn in /usr/local/lib/python3.7/dist-packages (from pyLDAvis) (0.22.2.post1)\n",
            "Requirement already satisfied: funcy in /usr/local/lib/python3.7/dist-packages (from pyLDAvis) (1.16)\n",
            "Requirement already satisfied: scipy in /usr/local/lib/python3.7/dist-packages (from pyLDAvis) (1.4.1)\n",
            "Requirement already satisfied: jinja2 in /usr/local/lib/python3.7/dist-packages (from pyLDAvis) (2.11.3)\n",
            "Requirement already satisfied: sklearn in /usr/local/lib/python3.7/dist-packages (from pyLDAvis) (0.0)\n",
            "Requirement already satisfied: joblib in /usr/local/lib/python3.7/dist-packages (from pyLDAvis) (1.0.1)\n",
            "Requirement already satisfied: numexpr in /usr/local/lib/python3.7/dist-packages (from pyLDAvis) (2.7.3)\n",
            "Requirement already satisfied: gensim in /usr/local/lib/python3.7/dist-packages (from pyLDAvis) (3.6.0)\n",
            "Requirement already satisfied: setuptools in /usr/local/lib/python3.7/dist-packages (from pyLDAvis) (56.1.0)\n",
            "Requirement already satisfied: numpy>=1.20.0 in /usr/local/lib/python3.7/dist-packages (from pyLDAvis) (1.20.3)\n",
            "Requirement already satisfied: pandas>=1.2.0 in /usr/local/lib/python3.7/dist-packages (from pyLDAvis) (1.2.4)\n",
            "Requirement already satisfied: future in /usr/local/lib/python3.7/dist-packages (from pyLDAvis) (0.16.0)\n",
            "Requirement already satisfied: MarkupSafe>=0.23 in /usr/local/lib/python3.7/dist-packages (from jinja2->pyLDAvis) (2.0.0)\n",
            "Requirement already satisfied: six>=1.5.0 in /usr/local/lib/python3.7/dist-packages (from gensim->pyLDAvis) (1.15.0)\n",
            "Requirement already satisfied: smart-open>=1.2.1 in /usr/local/lib/python3.7/dist-packages (from gensim->pyLDAvis) (5.0.0)\n",
            "Requirement already satisfied: pytz>=2017.3 in /usr/local/lib/python3.7/dist-packages (from pandas>=1.2.0->pyLDAvis) (2018.9)\n",
            "Requirement already satisfied: python-dateutil>=2.7.3 in /usr/local/lib/python3.7/dist-packages (from pandas>=1.2.0->pyLDAvis) (2.8.1)\n"
          ],
          "name": "stdout"
        }
      ]
    },
    {
      "cell_type": "markdown",
      "metadata": {
        "id": "NqBQjshnVGg6"
      },
      "source": [
        "# **Load Data**"
      ]
    },
    {
      "cell_type": "code",
      "metadata": {
        "id": "feeO5Yajq8qD"
      },
      "source": [
        "import pandas as pd\n",
        "import pythainlp\n",
        "import gensim\n",
        "import pyLDAvis.gensim_models\n",
        "pyLDAvis.enable_notebook()\n",
        "import warnings\n",
        "warnings.filterwarnings(\"ignore\", category=DeprecationWarning) "
      ],
      "execution_count": 18,
      "outputs": []
    },
    {
      "cell_type": "code",
      "metadata": {
        "colab": {
          "base_uri": "https://localhost:8080/",
          "height": 295
        },
        "id": "LbwfFF90rFf2",
        "outputId": "1fb0f012-06cf-4831-c47a-0ba98b595ea3"
      },
      "source": [
        "df = pd.read_csv('CustomerReviews.csv')\n",
        "df.head()"
      ],
      "execution_count": 19,
      "outputs": [
        {
          "output_type": "execute_result",
          "data": {
            "text/html": [
              "<div>\n",
              "<style scoped>\n",
              "    .dataframe tbody tr th:only-of-type {\n",
              "        vertical-align: middle;\n",
              "    }\n",
              "\n",
              "    .dataframe tbody tr th {\n",
              "        vertical-align: top;\n",
              "    }\n",
              "\n",
              "    .dataframe thead th {\n",
              "        text-align: right;\n",
              "    }\n",
              "</style>\n",
              "<table border=\"1\" class=\"dataframe\">\n",
              "  <thead>\n",
              "    <tr style=\"text-align: right;\">\n",
              "      <th></th>\n",
              "      <th>Review ID</th>\n",
              "      <th>Restaurant_ID</th>\n",
              "      <th>Restaurant</th>\n",
              "      <th>User</th>\n",
              "      <th>Headline</th>\n",
              "      <th>Review</th>\n",
              "      <th>Rating</th>\n",
              "    </tr>\n",
              "  </thead>\n",
              "  <tbody>\n",
              "    <tr>\n",
              "      <th>0</th>\n",
              "      <td>1</td>\n",
              "      <td>352696Px-mo-mo-paradise-เดอะมอลล์-บางกะปิ</td>\n",
              "      <td>Mo-Mo-Paradise (โม โม พาราไดซ์) เดอะมอลล์ บางกะปิ</td>\n",
              "      <td>7b16469831074f7abc7824745ee75212</td>\n",
              "      <td>ที่สำคัญของร้านนี้คือบริการดีมากพนักงานน่ารักส...</td>\n",
              "      <td>ที่สำคัญของร้านนี้คือบริการดีมากพนักงานน่ารักส...</td>\n",
              "      <td>5.0</td>\n",
              "    </tr>\n",
              "    <tr>\n",
              "      <th>1</th>\n",
              "      <td>2</td>\n",
              "      <td>352696Px-mo-mo-paradise-เดอะมอลล์-บางกะปิ</td>\n",
              "      <td>Mo-Mo-Paradise (โม โม พาราไดซ์) เดอะมอลล์ บางกะปิ</td>\n",
              "      <td>pakkaramonpondej</td>\n",
              "      <td>รสชาติเหมือนทุกสาขา แต่สาขานี้ บริการดี ที่นั่งดี</td>\n",
              "      <td>นึกถึงชาบูญี่ปุ่นยังไงก็ต้อง คิดถึงโมโม่ พาราไ...</td>\n",
              "      <td>5.0</td>\n",
              "    </tr>\n",
              "    <tr>\n",
              "      <th>2</th>\n",
              "      <td>3</td>\n",
              "      <td>352696Px-mo-mo-paradise-เดอะมอลล์-บางกะปิ</td>\n",
              "      <td>Mo-Mo-Paradise (โม โม พาราไดซ์) เดอะมอลล์ บางกะปิ</td>\n",
              "      <td>saanowy</td>\n",
              "      <td>ชาบูพรีเมี่ยมสไตล์ญี่ปุ่น เนื้อดีมากกก</td>\n",
              "      <td>มาทานช่วงนี้ สามารถนั่งโต๊ะเดียวกัน หม้อเดียวก...</td>\n",
              "      <td>4.0</td>\n",
              "    </tr>\n",
              "    <tr>\n",
              "      <th>3</th>\n",
              "      <td>4</td>\n",
              "      <td>352696Px-mo-mo-paradise-เดอะมอลล์-บางกะปิ</td>\n",
              "      <td>Mo-Mo-Paradise (โม โม พาราไดซ์) เดอะมอลล์ บางกะปิ</td>\n",
              "      <td>ployynp</td>\n",
              "      <td>เนื้อดี ไอติมดี คุ้มค่าดี</td>\n",
              "      <td>ถ้านึกถึงชาบูที่มีเนื้อเน้นๆ ในราคาไม่โหดจนเกิ...</td>\n",
              "      <td>4.0</td>\n",
              "    </tr>\n",
              "    <tr>\n",
              "      <th>4</th>\n",
              "      <td>5</td>\n",
              "      <td>352696Px-mo-mo-paradise-เดอะมอลล์-บางกะปิ</td>\n",
              "      <td>Mo-Mo-Paradise (โม โม พาราไดซ์) เดอะมอลล์ บางกะปิ</td>\n",
              "      <td>665a902b335b434ab489f00f2fbb477e</td>\n",
              "      <td>อาหารมีคุณภาพ บริการดีค่ะ</td>\n",
              "      <td>เดินมาหน้าร้านแล้วได้กลิ่นชาบูหอมมาก ๆ  ประกอบ...</td>\n",
              "      <td>5.0</td>\n",
              "    </tr>\n",
              "  </tbody>\n",
              "</table>\n",
              "</div>"
            ],
            "text/plain": [
              "   Review ID  ... Rating\n",
              "0          1  ...    5.0\n",
              "1          2  ...    5.0\n",
              "2          3  ...    4.0\n",
              "3          4  ...    4.0\n",
              "4          5  ...    5.0\n",
              "\n",
              "[5 rows x 7 columns]"
            ]
          },
          "metadata": {
            "tags": []
          },
          "execution_count": 19
        }
      ]
    },
    {
      "cell_type": "markdown",
      "metadata": {
        "id": "dXVNf_iiVgA3"
      },
      "source": [
        "# **Tokenize Words**"
      ]
    },
    {
      "cell_type": "code",
      "metadata": {
        "id": "Ac2K0J9-sY3n"
      },
      "source": [
        "stopwords = list(pythainlp.corpus.thai_stopwords())\n",
        "removed_words = [' ', '  ', '\\n', 'ร้าน', '(', ')']\n",
        "screening = stopwords + removed_words\n",
        "\n",
        "def tokenize_with_space(sentence):\n",
        "  merged = ''\n",
        "  words = pythainlp.word_tokenize(str(sentence), engine='newmm')\n",
        "  for word in words:\n",
        "    if word not in screening:\n",
        "      merged = merged + ',' + word\n",
        "  return merged[1:]"
      ],
      "execution_count": 20,
      "outputs": []
    },
    {
      "cell_type": "code",
      "metadata": {
        "id": "Fh9Lc0RHseRh"
      },
      "source": [
        "df['Review_tokenized'] = df['Review'].apply(lambda x: tokenize_with_space(x))"
      ],
      "execution_count": 21,
      "outputs": []
    },
    {
      "cell_type": "code",
      "metadata": {
        "colab": {
          "base_uri": "https://localhost:8080/",
          "height": 295
        },
        "id": "mGnh43TLsjkc",
        "outputId": "2287736d-a2bf-418b-8f7a-568a731b4071"
      },
      "source": [
        "df.head()"
      ],
      "execution_count": 22,
      "outputs": [
        {
          "output_type": "execute_result",
          "data": {
            "text/html": [
              "<div>\n",
              "<style scoped>\n",
              "    .dataframe tbody tr th:only-of-type {\n",
              "        vertical-align: middle;\n",
              "    }\n",
              "\n",
              "    .dataframe tbody tr th {\n",
              "        vertical-align: top;\n",
              "    }\n",
              "\n",
              "    .dataframe thead th {\n",
              "        text-align: right;\n",
              "    }\n",
              "</style>\n",
              "<table border=\"1\" class=\"dataframe\">\n",
              "  <thead>\n",
              "    <tr style=\"text-align: right;\">\n",
              "      <th></th>\n",
              "      <th>Review ID</th>\n",
              "      <th>Restaurant_ID</th>\n",
              "      <th>Restaurant</th>\n",
              "      <th>User</th>\n",
              "      <th>Headline</th>\n",
              "      <th>Review</th>\n",
              "      <th>Rating</th>\n",
              "      <th>Review_tokenized</th>\n",
              "    </tr>\n",
              "  </thead>\n",
              "  <tbody>\n",
              "    <tr>\n",
              "      <th>0</th>\n",
              "      <td>1</td>\n",
              "      <td>352696Px-mo-mo-paradise-เดอะมอลล์-บางกะปิ</td>\n",
              "      <td>Mo-Mo-Paradise (โม โม พาราไดซ์) เดอะมอลล์ บางกะปิ</td>\n",
              "      <td>7b16469831074f7abc7824745ee75212</td>\n",
              "      <td>ที่สำคัญของร้านนี้คือบริการดีมากพนักงานน่ารักส...</td>\n",
              "      <td>ที่สำคัญของร้านนี้คือบริการดีมากพนักงานน่ารักส...</td>\n",
              "      <td>5.0</td>\n",
              "      <td>บริการ,ดีมาก,พนักงาน,น่ารัก,สะอาดสะอ้าน,ใส่ใจ,...</td>\n",
              "    </tr>\n",
              "    <tr>\n",
              "      <th>1</th>\n",
              "      <td>2</td>\n",
              "      <td>352696Px-mo-mo-paradise-เดอะมอลล์-บางกะปิ</td>\n",
              "      <td>Mo-Mo-Paradise (โม โม พาราไดซ์) เดอะมอลล์ บางกะปิ</td>\n",
              "      <td>pakkaramonpondej</td>\n",
              "      <td>รสชาติเหมือนทุกสาขา แต่สาขานี้ บริการดี ที่นั่งดี</td>\n",
              "      <td>นึกถึงชาบูญี่ปุ่นยังไงก็ต้อง คิดถึงโมโม่ พาราไ...</td>\n",
              "      <td>5.0</td>\n",
              "      <td>นึกถึง,ชาบู,ญี่ปุ่น,คิดถึง,โม,โม่,พาราไดซ์,คุณ...</td>\n",
              "    </tr>\n",
              "    <tr>\n",
              "      <th>2</th>\n",
              "      <td>3</td>\n",
              "      <td>352696Px-mo-mo-paradise-เดอะมอลล์-บางกะปิ</td>\n",
              "      <td>Mo-Mo-Paradise (โม โม พาราไดซ์) เดอะมอลล์ บางกะปิ</td>\n",
              "      <td>saanowy</td>\n",
              "      <td>ชาบูพรีเมี่ยมสไตล์ญี่ปุ่น เนื้อดีมากกก</td>\n",
              "      <td>มาทานช่วงนี้ สามารถนั่งโต๊ะเดียวกัน หม้อเดียวก...</td>\n",
              "      <td>4.0</td>\n",
              "      <td>ทาน,นั่ง,โต๊ะ,หม้อ,โต๊ะ,ยังมี,ฉาก,กั้น,น้ำ,ซุป...</td>\n",
              "    </tr>\n",
              "    <tr>\n",
              "      <th>3</th>\n",
              "      <td>4</td>\n",
              "      <td>352696Px-mo-mo-paradise-เดอะมอลล์-บางกะปิ</td>\n",
              "      <td>Mo-Mo-Paradise (โม โม พาราไดซ์) เดอะมอลล์ บางกะปิ</td>\n",
              "      <td>ployynp</td>\n",
              "      <td>เนื้อดี ไอติมดี คุ้มค่าดี</td>\n",
              "      <td>ถ้านึกถึงชาบูที่มีเนื้อเน้นๆ ในราคาไม่โหดจนเกิ...</td>\n",
              "      <td>4.0</td>\n",
              "      <td>นึกถึง,ชาบู,เนื้อ,ราคา,โหด,เกินไป,นึกถึง,โม,โม...</td>\n",
              "    </tr>\n",
              "    <tr>\n",
              "      <th>4</th>\n",
              "      <td>5</td>\n",
              "      <td>352696Px-mo-mo-paradise-เดอะมอลล์-บางกะปิ</td>\n",
              "      <td>Mo-Mo-Paradise (โม โม พาราไดซ์) เดอะมอลล์ บางกะปิ</td>\n",
              "      <td>665a902b335b434ab489f00f2fbb477e</td>\n",
              "      <td>อาหารมีคุณภาพ บริการดีค่ะ</td>\n",
              "      <td>เดินมาหน้าร้านแล้วได้กลิ่นชาบูหอมมาก ๆ  ประกอบ...</td>\n",
              "      <td>5.0</td>\n",
              "      <td>เดิน,หน้า,ได้กลิ่น,ชาบู,หอ,มมาก,โปร,บัตรเครดิต...</td>\n",
              "    </tr>\n",
              "  </tbody>\n",
              "</table>\n",
              "</div>"
            ],
            "text/plain": [
              "   Review ID  ...                                   Review_tokenized\n",
              "0          1  ...  บริการ,ดีมาก,พนักงาน,น่ารัก,สะอาดสะอ้าน,ใส่ใจ,...\n",
              "1          2  ...  นึกถึง,ชาบู,ญี่ปุ่น,คิดถึง,โม,โม่,พาราไดซ์,คุณ...\n",
              "2          3  ...  ทาน,นั่ง,โต๊ะ,หม้อ,โต๊ะ,ยังมี,ฉาก,กั้น,น้ำ,ซุป...\n",
              "3          4  ...  นึกถึง,ชาบู,เนื้อ,ราคา,โหด,เกินไป,นึกถึง,โม,โม...\n",
              "4          5  ...  เดิน,หน้า,ได้กลิ่น,ชาบู,หอ,มมาก,โปร,บัตรเครดิต...\n",
              "\n",
              "[5 rows x 8 columns]"
            ]
          },
          "metadata": {
            "tags": []
          },
          "execution_count": 22
        }
      ]
    },
    {
      "cell_type": "code",
      "metadata": {
        "id": "4Ok-tNNBswoX"
      },
      "source": [
        "documents = df['Review_tokenized'].to_list()\n",
        "texts = [[text for text in doc.split(',')] for doc in documents]\n",
        "dictionary = gensim.corpora.Dictionary(texts)"
      ],
      "execution_count": 23,
      "outputs": []
    },
    {
      "cell_type": "code",
      "metadata": {
        "colab": {
          "base_uri": "https://localhost:8080/"
        },
        "id": "WB8wsBfYsyEG",
        "outputId": "122df4d4-f720-4515-8daf-480b755c538c"
      },
      "source": [
        "print(dictionary.token2id.keys())"
      ],
      "execution_count": 24,
      "outputs": [
        {
          "output_type": "stream",
          "text": [
            "dict_keys(['1', '4', '560', 'กิน', 'ข้างนอก', 'ความต้องการ', 'คอ', 'คุณภาพ', 'คุ้ม', 'จำกัด', 'ซุป', 'ดำ', 'ดี', 'ดีมาก', 'ถาด', 'ถาม', 'น่ารัก', 'น้ำ', 'น้ำจิ้ม', 'บริการ', 'บาท', 'ประทับใจ', 'พนักงาน', 'พอกับ', 'ภาพ', 'รสชาติ', 'ราคา', 'สรุป', 'สะอาดสะอ้าน', 'สัน', 'หลากหลาย', 'อร่อย', 'อันนี้', 'อาหาร', 'เคลม', 'เซ็ท', 'เต้าเจี้ยว', 'เนื้อ', 'เป็ด', 'เผ็ด', 'แบบนี้', 'แปลก', 'แฟน', 'โดยรวม', 'โมจิ', 'ใส่ใจ', 'ไม่ต้อง', 'ไอติม', '\\u200b', '           ', '21', '30', '9', 'CTW', 'Terminal', 'กา', 'การงด', 'คิดถึง', 'ชาบู', 'ญี่ปุ่น', 'ฐาน', 'ทะยอย', 'ทำงาน', 'ที่ทาง', 'นาที', 'นึกถึง', 'พนักงานบริการ', 'พระราม', 'พรีเมียม', 'พาราไดซ์', 'มาตรา', 'มีโอ', 'รายละเอียด', 'ลูกค้า', 'สมาทาน', 'สาขา', 'สู้', 'ออร์เดอร์', 'เครื่องดื่ม', 'เค้า', 'เจอ', 'เป็นกันเอง', 'เหวี่ยง', 'แจ้ง', 'โม', 'โม่', 'โอเค', '', '++', '2', '555', '600', ':', '::', 'กก', 'กรุบ', 'กั้น', 'ของหวาน', 'คนละ', 'คาว', 'คุ', 'คุ้มค่า', 'จาน', 'จิ้ม', 'จืด', 'ฉาก', 'ชอบ', 'ชาเขียว', 'ชิ้น', 'ซอย', 'ซอส', 'ตก', 'ตะ', 'ตัก', 'ตามน้ำ', 'ต่างกัน', 'ถั่ว', 'ถ่ายรูป', 'ทาน', 'นั่ง', 'นุ่ม', 'บด', 'บาร์', 'บู', 'ผัก', 'ภาษา', 'มีชื่อ', 'ยังมี', 'รส', 'รี่', 'รู้สึก', 'ลอง', 'ลิ้น', 'ลืม', 'ววว', 'สด', 'สตอ', 'สั่ง', 'สามรส', 'ส่วนตัว', 'หนึบ', 'หม้อ', 'หวาน', 'อยากได้', 'เข้มข้น', 'เข้ากัน', 'เค็ม', 'เนื้อวัว', 'เนื้อสัตว์', 'เนื้อหมู', 'เบอ', 'เป็นผู้ใหญ่', 'เลือก', 'เสิร์ฟ', 'เหนียว', 'เห็ด', 'แดง', 'แตก', 'แตา', 'แนว', 'แย้', 'โควิด', 'โต๊ะ', 'โร', 'ใส', 'ไก่', 'ไข่', 'ไดฟูกุ', 'ไผ่', 'ไม้', 'ไหว', '3', 'ข้าว', 'จ่าย', 'ถ้วย', 'ธรรมดา', 'ส', 'ออ', 'เกินไป', 'เลี่ยน', 'โปร', 'โหด', 'ไว', 'ไอศกรีม', 'ขนม', 'คุณภาพดี', 'ตัดสินใจ', 'ต่าง ๆ', 'ที่จะ', 'ที่นั่ง', 'บัตรเครดิต', 'มมาก', 'ลูกชิ้น', 'สบายดี', 'หน้า', 'หอ', 'เดิน', 'เด็ก', 'เส้น', 'เหมือนกับ', 'แคบ', 'ได้กลิ่น', 'คามี', 'ซึ', 'นะคะ', 'บุ', 'บ๋วย', 'พอน', 'ฟเฟ่', 'รา', 'สาย', 'หยิบ', 'โซน', 'โปรโมชั่น', '+', '/', '20', '4.0', '5', 'Menu', 'Number', 'กรรมวิธี', 'กะปิ', 'ก์', 'คน', 'คะแนน', 'ชุด', 'ดังเดิม', 'บุฟเฟ่ต์', 'ประ', 'พารา', 'มอ', 'ยุค', 'ร้านอาหาร', 'ล', 'สุกี้', 'สไตล์', 'ส์', 'หมู', 'หลาก', 'หลายชนิด', 'เดอะ', 'เมนู', 'แบบฉบับ', 'แบ่ง', 'ได', 'ไทย', '–', '!!!!', '500', 'กาแฟ', 'งวด', 'ตอนที่', 'ตำ', 'ติด', 'ทั่วไป', 'น', 'บ๊วย', 'ยุ', 'ร้อน', 'ลุย', 'สุกี้ยากี้', 'อยู่แล้ว', 'ออสเตรเลีย', 'เป็นปกติ', 'เฟรนไชส์', 'เรื่อง', 'เหมาะสม', 'แนะนำ', 'โช', 'ไข่ไก่', 'ไอศครีม', '..', '399', 'กุ้ง', 'ของกิน', 'ขา', 'ชิ', 'ซูชิ', 'ซ่า', 'ตอน', 'ตอนนี้', 'นิดนึง', 'ปุระ', 'ปูอัด', 'ม', 'ละลานตา', 'สายพาน', 'หิว', 'ฮ่า', 'าน', 'เกี๊ยว', 'เท', 'เทียบ', 'เล่น', 'แพง', 'แล้วก็', 'ไม่งั้น', 'กลาย', 'กี่', 'ชั่วคราว', 'ชื่นใจ', 'ซะงั้น', 'ญี่', 'ดึก', 'ตบท้าย', 'ตัว', 'ทอด', 'ทานอาหาร', 'นพ', 'นึก', 'น้ะ', 'ปลา', 'ปุ', 'ผิดหวัง', 'วก', 'สมใจ', 'อย่า', 'อาหารเสริม', 'เติม', 'เป็นมา', 'เป็นหลัก', 'เย็น', '1.15', 'net', 'กลับมา', 'ของคาว', 'ชม.', 'ตรงนั้น', 'ยืน', 'ลายตา', 'สไลด์', 'อัพเดท', 'อิ่ม', 'เบ', 'เพลิน', 'ไลน์', '\"', '-', '/คน', '15', '359', 'G', 'Net', 'Shabushi', 'กด', 'กรอ', 'ขาดสารอาหาร', 'ขึ้นราคา', 'ข่าว', 'คนเดียว', 'ครึ่ง', 'คิว', 'งาน', 'จุ', 'ชั่วโมง', 'ชั้น', 'ชื่น', 'ดู', 'ตลับ', 'ตับ', 'ตั้งอยู่', 'ติง', 'ถนนใหญ่', 'ถูกใจ', 'ทำ', 'ทิ้ง', 'น้ำมัน', 'บดี', 'ปลาดิบ', 'ปอกเปลือก', 'ฝรั่ง', 'ฝั่ง', 'มอลล์', 'มื้อ', 'รอ', 'ระดับ', 'รายการ', 'ลด', 'ลา', 'ลูก', 'วันหยุด', 'วาง', 'วานิลา', 'สะอาด', 'สาเหตุ', 'สำหรับ', 'สไปรท์', 'หนา', 'หอม', 'หอย', 'หาไม่', 'ห่างหาย', 'ห้าง', 'อม', 'ออกมา', 'อาทิตย์', 'อีกครั้ง', 'เช็คบิล', 'เด่น', 'เด้ง', 'เบคอน', 'เปรี้ยวหวาน', 'เพื่อน', 'เลิก', 'เวลา', 'เสาร์', 'เหมือน', 'เหมือนกัน', 'แก้ว', 'แถม', 'แน่น', 'แป้ง', 'แย่', 'แออัด', 'โดน', 'โดยประมาณ', 'โฟลต', 'โอ', 'ใจดี', 'ใจมา', 'ใช้ได้', 'ใส่', 'ได้ยิน', 'ชอค', 'ต', 'นัด', 'นิ', 'มะนาว', 'มุ', 'ลงเอย', 'ว', 'วันก่อน', 'ห', 'หา', 'อยุ่', 'อาหารสด', 'เบอร์', 'แกงค์', 'แล', 'โก', 'กินที่', 'ขยัน', 'จอง', 'ชู', 'ณ์', 'บุฟเฟต์', 'ป', 'ประตู', 'พลาด', 'พอได้', 'พี่', 'รอบ', 'ร้อย', 'สาม', 'สุดท้าย', 'หลายครั้ง', 'หล่ะ', 'อาราม', 'เข้าหน้า', 'เต็ม', 'โชคดี', 'ขวัญใจ', 'ข้อดี', 'ต้องการ', 'ทั่วถึง', 'นํ้า', 'บ', 'ฟเฟ', 'มี่', 'ระบบ', 'รีวิว', 'สวัสดี', 'เก้', 'ใช้แล้ว', '^^', 'xx', 'กลยุทธ์', 'ขนาด', 'ข้น', 'ข้าวปั้น', 'ค่า', 'ชอป', 'ซุ้ม', 'ดีขึ้น', 'ตรงข้าม', 'ตรงนี้', 'ต้ม', 'ต้มยำ', 'ท่าน', 'นัล', 'บริเวณ', 'บัตรสมาชิก', 'ปรับปรุง', 'มันดี', 'มากขึ้น', 'ยอด', 'ลาน', 'สลัด', 'หมู่คณะ', 'ออกร้าน', 'อิอิ', 'เครือ', 'เคลื่อนตัว', 'เคาน์เตอร์', 'เบา', 'เป็นแนว', 'แมค', 'โชคชะตา', 'โด', 'โน้น', 'โออิชิ', '199', '39', '40', '49', 'HALL', 'MCC', 'ค่ายมวย', 'ด้านใน', 'ตอนแรก', 'ตัวเลือก', 'ติดกับ', 'ที่ไหนได้', 'นม', 'นา', 'น้ำดื่ม', 'พิซ', 'พิซซ่า', 'ฟี', 'ยู', 'รี', 'หลังจากที่', 'อลล์', 'อเรีย', 'เซ', 'แกงเขียวหวาน', 'แน่นอน', 'แวะ', '10', '300', '6', 'VAT', 'กำ', 'ค่าน้ำ', 'ช่อง', 'ซี', 'ซึป', 'ถูกหวย', 'ทอน', 'นึง', 'ฟรี', 'ฟู้ด', 'รับประกัน', 'ลอตเตอรี่', 'สัปดาห์', 'หวย', 'หัว', 'ฮัน', 'เงิน', 'แลก', 'โทส', 'ได้เวลา', 'Narai', 'mall', 'pizza', 'pizzeria', 'union', 'ของสด', 'ขึ้นใจ', 'ข้าวมันไก่', 'จำได้', 'ชื่อ', 'ตตี้', 'ตัดกำลัง', 'ตู้', 'นิว', 'บางส่วน', 'ปรุง', 'รู้จัก', 'ลี', 'สปา', 'สุก', 'เก', '😆', '🤣', '128', '255', '29', 'ครีม', 'จบ', 'จุก', 'ชาต', 'บรา', 'บุพ', 'ปิดท้าย', 'ย', 'วิป', 'สมราคา', 'สวย', 'เ', 'เซต', 'เด็ด', 'เป้ง', 'เฟ่', 'เรย', 'เริส', 'เเบบ', 'โชค', '%', '7', 'ทดแทน', 'ปรกติ', 'สดๆ ร้อนๆ', 'เงินสด', 'โดยเฉพาะ'])\n"
          ],
          "name": "stdout"
        }
      ]
    },
    {
      "cell_type": "code",
      "metadata": {
        "id": "CXyON-MUs776"
      },
      "source": [
        "gensim_corpus = [dictionary.doc2bow(text, allow_update=True) for text in texts]\n",
        "word_frequencies = [[(dictionary[id], frequence) for id, frequence in couple] for couple in gensim_corpus]"
      ],
      "execution_count": 25,
      "outputs": []
    },
    {
      "cell_type": "markdown",
      "metadata": {
        "id": "Qd4qHiKhX-RV"
      },
      "source": [
        "# **Topic Modeling**"
      ]
    },
    {
      "cell_type": "code",
      "metadata": {
        "colab": {
          "base_uri": "https://localhost:8080/"
        },
        "id": "HmC_IpzhtBjV",
        "outputId": "7c89f62a-974b-4a6c-ba95-4a3321a90fd8"
      },
      "source": [
        "num_topics = 7\n",
        "chunksize = 4000 # size of the doc looked at every pass\n",
        "passes = 20 # number of passes through documents\n",
        "iterations = 50\n",
        "eval_every = 1  # Don't evaluate model perplexity, takes too much time.\n",
        "\n",
        "# Make a index to word dictionary.\n",
        "temp = dictionary[0]  # This is only to \"load\" the dictionary.\n",
        "id2word = dictionary.id2token\n",
        "\n",
        "%time model = gensim.models.LdaModel(corpus=gensim_corpus, id2word=id2word, chunksize=chunksize, \\\n",
        "                       alpha='auto', eta='auto', \\\n",
        "                       iterations=iterations, num_topics=num_topics, \\\n",
        "                       passes=passes, eval_every=eval_every)"
      ],
      "execution_count": 26,
      "outputs": [
        {
          "output_type": "stream",
          "text": [
            "CPU times: user 361 ms, sys: 627 µs, total: 362 ms\n",
            "Wall time: 366 ms\n"
          ],
          "name": "stdout"
        }
      ]
    },
    {
      "cell_type": "code",
      "metadata": {
        "colab": {
          "base_uri": "https://localhost:8080/",
          "height": 860
        },
        "id": "7VJi9nK-tI0S",
        "outputId": "8b5e1551-0cd8-4719-9a31-2a4a10007bf1"
      },
      "source": [
        "pyLDAvis.gensim_models.prepare(model, gensim_corpus, dictionary)"
      ],
      "execution_count": 27,
      "outputs": [
        {
          "output_type": "execute_result",
          "data": {
            "text/html": [
              "\n",
              "<link rel=\"stylesheet\" type=\"text/css\" href=\"https://cdn.jsdelivr.net/gh/bmabey/pyLDAvis@3.3.1/pyLDAvis/js/ldavis.v1.0.0.css\">\n",
              "\n",
              "\n",
              "<div id=\"ldavis_el3171400149984690723020992480\"></div>\n",
              "<script type=\"text/javascript\">\n",
              "\n",
              "var ldavis_el3171400149984690723020992480_data = {\"mdsDat\": {\"x\": [0.09581558447563056, -0.04742601652837504, -0.032505809661789106, -0.02172682825780388, -8.807257325680902e-06, 0.0029198081060447943, 0.002932069123618312], \"y\": [0.011678535862689098, 0.0709686755918957, -0.038519199306699455, -0.04538043528638971, -0.001717563561579097, 0.0014824161149194677, 0.0014875705851639498], \"topics\": [1, 2, 3, 4, 5, 6, 7], \"cluster\": [1, 1, 1, 1, 1, 1, 1], \"Freq\": [31.435248006403928, 31.031334593032028, 18.652790710336266, 16.493839512614084, 2.338755346043861, 0.024856520068445475, 0.023175311501388372]}, \"tinfo\": {\"Term\": [\"\\u0e17\\u0e32\\u0e19\", \"\\u0e19\\u0e49\\u0e33\", \"\\u0e2d\\u0e23\\u0e48\\u0e2d\\u0e22\", \"\\u0e40\\u0e19\\u0e37\\u0e49\\u0e2d\", \"\\u0e0a\\u0e32\\u0e1a\\u0e39\", \"\\u0e01\\u0e34\\u0e19\", \"\\u0e14\\u0e35\", \"\\u0e23\\u0e32\\u0e04\\u0e32\", \"\\u0e40\\u0e25\\u0e37\\u0e2d\\u0e01\", \"\\u0e2d\\u0e32\\u0e2b\\u0e32\\u0e23\", \"\\u0e23\\u0e2a\\u0e0a\\u0e32\\u0e15\\u0e34\", \"\\u0e1a\\u0e32\\u0e17\", \":\", \"\\u0e0b\\u0e38\\u0e1b\", \"\\u0e2a\\u0e32\\u0e02\\u0e32\", \"\\u0e2a\\u0e31\\u0e48\\u0e07\", \"-\", \"\\u0e0a\\u0e2d\\u0e1a\", \"\\u0e04\\u0e38\\u0e49\\u0e21\", \"\\u0e01\\u0e38\\u0e49\\u0e07\", \"\\u0e04\\u0e19\", \"\\u0e02\\u0e2d\\u0e07\\u0e2b\\u0e27\\u0e32\\u0e19\", \"\\u0e0b\\u0e39\\u0e0a\\u0e34\", \"\\u0e2a\\u0e14\", \"\\u0e40\\u0e21\\u0e19\\u0e39\", \"2\", \"\\u0e1c\\u0e31\\u0e01\", \"\\u0e19\\u0e49\\u0e33\\u0e08\\u0e34\\u0e49\\u0e21\", \"\\u0e44\\u0e2d\\u0e15\\u0e34\\u0e21\", \"\\u0e25\\u0e2d\\u0e07\", \"\\u0e40\\u0e27\\u0e25\\u0e32\", \"\\u0e15\\u0e31\\u0e27\", \"\\u0e19\\u0e30\\u0e04\\u0e30\", \"15\", \"\\u0e43\\u0e0a\\u0e49\\u0e44\\u0e14\\u0e49\", \"G\", \"\\u0e01\\u0e38\\u0e49\\u0e07\", \"\\u0e0a\\u0e31\\u0e48\\u0e27\\u0e42\\u0e21\\u0e07\", \"\\u0e2a\\u0e44\\u0e25\\u0e14\\u0e4c\", \"\\u0e01\\u0e25\\u0e31\\u0e1a\\u0e21\\u0e32\", \"359\", \"\\u0e1c\\u0e34\\u0e14\\u0e2b\\u0e27\\u0e31\\u0e07\", \"\\u0e2d\\u0e22\\u0e48\\u0e32\", \"\\u0e25\\u0e32\", \"\\u0e1a\\u0e38\\u0e1f\\u0e40\\u0e1f\\u0e15\\u0e4c\", \"\\u0e43\\u0e08\\u0e14\\u0e35\", \"\\u0e42\\u0e14\\u0e19\", \"\\u0e04\\u0e23\\u0e36\\u0e48\\u0e07\", \"\\u0e2d\\u0e35\\u0e01\\u0e04\\u0e23\\u0e31\\u0e49\\u0e07\", \"\\u0e1b\\u0e2d\\u0e01\\u0e40\\u0e1b\\u0e25\\u0e37\\u0e2d\\u0e01\", \"\\u0e2b\\u0e2d\\u0e21\", \"Shabushi\", \"\\u0e40\\u0e14\\u0e49\\u0e07\", \"\\u0e27\\u0e32\\u0e19\\u0e34\\u0e25\\u0e32\", \"\\u0e0a\\u0e37\\u0e48\\u0e19\", \"\\u0e40\\u0e0a\\u0e47\\u0e04\\u0e1a\\u0e34\\u0e25\", \"\\u0e2a\\u0e14\", \"\\u0e40\\u0e25\\u0e34\\u0e01\", \"\\u0e1a\\u0e4b\\u0e27\\u0e22\", \"\\u0e04\\u0e32\\u0e21\\u0e35\", \"\\u0e04\\u0e19\", \"\\u0e1b\\u0e38\\u0e23\\u0e30\", \"-\", \"\\u0e21\", \"\\u0e40\\u0e17\", \"\\u0e23\\u0e2d\", \"\\u0e2a\\u0e33\\u0e2b\\u0e23\\u0e31\\u0e1a\", \"\\u0e04\\u0e34\\u0e27\", \"\\u0e01\\u0e34\\u0e19\", \"\\u0e14\\u0e35\", \"\\u0e14\\u0e39\", \"1\", \"\\u0e0a\\u0e31\\u0e49\\u0e19\", \"\\u0e17\\u0e32\\u0e19\", \"\\u0e19\\u0e38\\u0e48\\u0e21\", \"\\u0e40\\u0e19\\u0e37\\u0e49\\u0e2d\", \"\\u0e0b\\u0e39\\u0e0a\\u0e34\", \"\\u0e0a\\u0e34\", \"\\u0e17\\u0e2d\\u0e14\", \"\\u0e2a\\u0e32\\u0e02\\u0e32\", \"\\u0e0a\\u0e32\\u0e1a\\u0e39\", \"\\u0e23\\u0e2a\\u0e0a\\u0e32\\u0e15\\u0e34\", \"\\u0e2d\\u0e32\\u0e2b\\u0e32\\u0e23\", \":\", \"\\u0e23\\u0e32\\u0e04\\u0e32\", \"\\u0e04\\u0e38\\u0e49\\u0e21\", \"\\u0e2d\\u0e23\\u0e48\\u0e2d\\u0e22\", \"\\u0e40\\u0e25\\u0e37\\u0e2d\\u0e01\", \"\\u0e0a\\u0e2d\\u0e1a\", \"\\u0e1a\\u0e32\\u0e17\", \"\\u200b\", \"\", \"555\", \"\\u0e42\\u0e15\\u0e4a\\u0e30\", \"\\u0e40\\u0e1b\\u0e47\\u0e14\", \"\\u0e40\\u0e2b\\u0e47\\u0e14\", \"\\u0e41\\u0e1b\\u0e25\\u0e01\", \"\\u0e40\\u0e25\\u0e48\\u0e19\", \"\\u0e04\\u0e48\\u0e32\", \"\\u0e1b\\u0e23\\u0e30\\u0e17\\u0e31\\u0e1a\\u0e43\\u0e08\", \"\\u0e19\\u0e4d\\u0e49\\u0e32\", \"\\u0e08\\u0e34\\u0e49\\u0e21\", \"\\u0e43\\u0e2a\", \"\\u0e1a\\u0e39\", \"\\u0e44\\u0e1c\\u0e48\", \"\\u0e2a\\u0e23\\u0e38\\u0e1b\", \"\\u0e44\\u0e14\\u0e1f\\u0e39\\u0e01\\u0e38\", \"::\", \"\\u0e44\\u0e21\\u0e49\", \"7\", \"\\u0e2a\\u0e14\\u0e46 \\u0e23\\u0e49\\u0e2d\\u0e19\\u0e46\", \"%\", \"\\u0e1b\\u0e23\\u0e01\\u0e15\\u0e34\", \"\\u0e17\\u0e14\\u0e41\\u0e17\\u0e19\", \"\\u0e42\\u0e14\\u0e22\\u0e40\\u0e09\\u0e1e\\u0e32\\u0e30\", \"\\u0e40\\u0e07\\u0e34\\u0e19\\u0e2a\\u0e14\", \"..\", \"\\u0e0b\\u0e48\\u0e32\", \"\\u0e02\\u0e2d\\u0e07\\u0e01\\u0e34\\u0e19\", \"\\u0e40\\u0e01\\u0e35\\u0e4a\\u0e22\\u0e27\", \"\\u0e2b\\u0e21\\u0e49\\u0e2d\", \"\\u0e40\\u0e19\\u0e37\\u0e49\\u0e2d\\u0e27\\u0e31\\u0e27\", \"\\u0e14\\u0e33\", \"\\u0e08\\u0e32\\u0e19\", \"\\u0e2d\\u0e23\\u0e48\\u0e2d\\u0e22\", \"\\u0e2a\\u0e32\\u0e22\\u0e1e\\u0e32\\u0e19\", \"\\u0e2b\\u0e19\\u0e49\\u0e32\", \"\\u0e2d\\u0e32\\u0e2b\\u0e32\\u0e23\", \"3\", \"\\u0e0b\\u0e38\\u0e1b\", \"\\u0e40\\u0e25\\u0e37\\u0e2d\\u0e01\", \"\\u0e19\\u0e49\\u0e33\", \"\\u0e17\\u0e32\\u0e19\", \"\\u0e2a\\u0e31\\u0e48\\u0e07\", \"\\u0e04\\u0e38\\u0e49\\u0e21\", \":\", \"\\u0e23\\u0e2a\\u0e0a\\u0e32\\u0e15\\u0e34\", \"\\u0e25\\u0e2d\\u0e07\", \"\\u0e23\\u0e32\\u0e04\\u0e32\", \"\\u0e40\\u0e19\\u0e37\\u0e49\\u0e2d\", \"\\u0e1a\\u0e23\\u0e34\\u0e01\\u0e32\\u0e23\", \"\\u0e01\\u0e34\\u0e19\", \"\\u0e44\\u0e2d\\u0e15\\u0e34\\u0e21\", \"\\u0e0a\\u0e34\", \"\\u0e0a\\u0e32\\u0e1a\\u0e39\", \"\\u0e1a\\u0e32\\u0e17\", \"\\u0e14\\u0e35\", \"2\", \"\\u0e19\\u0e49\\u0e33\\u0e08\\u0e34\\u0e49\\u0e21\", \"\\u0e40\\u0e21\\u0e19\\u0e39\", \"\\u0e02\\u0e2d\\u0e07\\u0e2b\\u0e27\\u0e32\\u0e19\", \"\\u0e41\\u0e19\\u0e30\\u0e19\\u0e33\", \"\\u0e1e\\u0e34\\u0e0b\", \"\\u0e2d\\u0e40\\u0e23\\u0e35\\u0e22\", \"\\u0e19\\u0e32\", \"\\u0e40\\u0e0b\", \"\\u0e41\\u0e19\\u0e48\\u0e19\\u0e2d\\u0e19\", \"\\u0e2b\\u0e31\\u0e27\", \"\\u0e25\\u0e2d\\u0e15\\u0e40\\u0e15\\u0e2d\\u0e23\\u0e35\\u0e48\", \"\\u0e0b\\u0e35\", \"\\u0e44\\u0e14\\u0e49\\u0e40\\u0e27\\u0e25\\u0e32\", \"\\u0e2b\\u0e27\\u0e22\", \"\\u0e1f\\u0e39\\u0e49\\u0e14\", \"\\u0e15\\u0e34\\u0e14\\u0e01\\u0e31\\u0e1a\", \"\\u0e0a\\u0e48\\u0e2d\\u0e07\", \"\\u0e17\\u0e2d\\u0e19\", \"\\u0e2a\\u0e31\\u0e1b\\u0e14\\u0e32\\u0e2b\\u0e4c\", \"\\u0e2b\\u0e25\\u0e31\\u0e07\\u0e08\\u0e32\\u0e01\\u0e17\\u0e35\\u0e48\", \"!!!!\", \"6\", \"\\u0e41\\u0e25\\u0e01\", \"\\u0e1f\\u0e23\\u0e35\", \"\\u0e04\\u0e48\\u0e32\\u0e19\\u0e49\\u0e33\", \"300\", \"\\u0e19\\u0e36\\u0e07\", \"\\u0e23\\u0e31\\u0e1a\\u0e1b\\u0e23\\u0e30\\u0e01\\u0e31\\u0e19\", \"\\u0e0b\\u0e36\\u0e1b\", \"\\u0e41\\u0e01\\u0e07\\u0e40\\u0e02\\u0e35\\u0e22\\u0e27\\u0e2b\\u0e27\\u0e32\\u0e19\", \"49\", \"\\u0e01\\u0e33\", \"10\", \"\\u0e1e\\u0e34\\u0e0b\\u0e0b\\u0e48\\u0e32\", \"\\u0e04\\u0e19\\u0e25\\u0e30\", \"199\", \"\\u0e14\\u0e35\\u0e21\\u0e32\\u0e01\", \"\\u0e0b\\u0e38\\u0e1b\", \"\\u0e1a\\u0e32\\u0e17\", \"\\u0e19\\u0e49\\u0e33\", \"\\u0e2b\\u0e21\\u0e39\", \"\\u0e1a\\u0e38\\u0e1f\\u0e40\\u0e1f\\u0e48\\u0e15\\u0e4c\", \"\\u0e0a\\u0e38\\u0e14\", \"+\", \"\\u0e42\\u0e1b\\u0e23\\u0e42\\u0e21\\u0e0a\\u0e31\\u0e48\\u0e19\", \"\\u0e02\\u0e2d\\u0e07\\u0e2b\\u0e27\\u0e32\\u0e19\", \"\\u0e23\\u0e32\\u0e04\\u0e32\", \"\\u0e14\\u0e35\", \"\\u0e2d\\u0e23\\u0e48\\u0e2d\\u0e22\", \"\\u0e17\\u0e32\\u0e19\", \"\\u0e23\\u0e2a\\u0e0a\\u0e32\\u0e15\\u0e34\", \"\\u0e1f\\u0e40\\u0e1f\\u0e48\", \"-\", \"\\u0e04\\u0e38\\u0e49\\u0e21\\u0e04\\u0e48\\u0e32\", \"\\u0e18\\u0e23\\u0e23\\u0e21\\u0e14\\u0e32\", \"\\u0e08\\u0e48\\u0e32\\u0e22\", \"\\u0e0a\\u0e32\\u0e1a\\u0e39\", \"\\u0e40\\u0e25\\u0e37\\u0e2d\\u0e01\", \"\\u0e40\\u0e19\\u0e37\\u0e49\\u0e2d\", \"\\u0e0a\\u0e2d\\u0e1a\", \"2\", \"\\u0e01\\u0e34\\u0e19\", \"\\u0e2a\\u0e32\\u0e02\\u0e32\", \"\\u0e1a\\u0e38\", \"\\u0e2d\\u0e32\\u0e2b\\u0e32\\u0e23\", \"\\u0e2a\\u0e31\\u0e48\\u0e07\", \"CTW\", \"\\u0e15\\u0e48\\u0e32\\u0e07 \\u0e46\", \"\\u0e0a\\u0e37\\u0e48\\u0e2d\", \"\\u0e1a\\u0e32\\u0e07\\u0e2a\\u0e48\\u0e27\\u0e19\", \"\\u0e23\\u0e32\\u0e22\\u0e25\\u0e30\\u0e40\\u0e2d\\u0e35\\u0e22\\u0e14\", \"\\u0e44\\u0e25\\u0e19\\u0e4c\", \"\\u0e42\\u0e21\", \"\\u0e2a\\u0e38\\u0e01\\u0e35\\u0e49\", \"\\u0e04\\u0e34\\u0e14\\u0e16\\u0e36\\u0e07\", \"\\u0e40\\u0e08\\u0e2d\", \"           \", \"\\u0e40\\u0e04\\u0e49\\u0e32\", \"\\u0e1e\\u0e23\\u0e35\\u0e40\\u0e21\\u0e35\\u0e22\\u0e21\", \"\\u0e40\\u0e1b\\u0e47\\u0e19\\u0e01\\u0e31\\u0e19\\u0e40\\u0e2d\\u0e07\", \"\\u0e1e\\u0e32\\u0e23\\u0e32\\u0e44\\u0e14\\u0e0b\\u0e4c\", \"\\u0e17\\u0e35\\u0e48\\u0e17\\u0e32\\u0e07\", \"\\u0e21\\u0e32\\u0e15\\u0e23\\u0e32\", \"21\", \"\\u0e10\\u0e32\\u0e19\", \"\\u0e40\\u0e04\\u0e23\\u0e37\\u0e48\\u0e2d\\u0e07\\u0e14\\u0e37\\u0e48\\u0e21\", \"\\u0e2a\\u0e21\\u0e32\\u0e17\\u0e32\\u0e19\", \"9\", \"\\u0e1e\\u0e23\\u0e30\\u0e23\\u0e32\\u0e21\", \"\\u0e01\\u0e32\\u0e23\\u0e07\\u0e14\", \"Terminal\", \"\\u0e1e\\u0e19\\u0e31\\u0e01\\u0e07\\u0e32\\u0e19\\u0e1a\\u0e23\\u0e34\\u0e01\\u0e32\\u0e23\", \"\\u0e17\\u0e33\\u0e07\\u0e32\\u0e19\", \"\\u0e41\\u0e08\\u0e49\\u0e07\", \"\\u0e21\\u0e35\\u0e42\\u0e2d\", \"\\u0e2a\\u0e39\\u0e49\", \"\\u0e2a\\u0e32\\u0e02\\u0e32\", \"\\u0e1a\\u0e23\\u0e34\\u0e01\\u0e32\\u0e23\", \"\\u0e0a\\u0e32\\u0e1a\\u0e39\", \"/\", \"\\u0e2b\\u0e25\\u0e32\\u0e01\\u0e2b\\u0e25\\u0e32\\u0e22\", \"\\u0e19\\u0e31\\u0e48\\u0e07\", \":\", \"\\u0e40\\u0e25\\u0e37\\u0e2d\\u0e01\", \"\\u0e19\\u0e49\\u0e33\", \"\\u0e40\\u0e19\\u0e37\\u0e49\\u0e2d\", \"\\u0e2d\\u0e32\\u0e2b\\u0e32\\u0e23\", \"\\u0e0d\\u0e35\\u0e48\\u0e1b\\u0e38\\u0e48\\u0e19\", \"\\\"\", \"\\u0e14\\u0e35\", \"\\u0e23\\u0e32\\u0e04\\u0e32\", \"\\u0e04\\u0e38\\u0e13\\u0e20\\u0e32\\u0e1e\", \"\\u0e17\\u0e32\\u0e19\", \"\\u0e1c\\u0e31\\u0e01\", \"\\u0e19\\u0e49\\u0e33\\u0e08\\u0e34\\u0e49\\u0e21\", \"\\u0e2a\\u0e31\\u0e48\\u0e07\", \"\\u0e1e\\u0e19\\u0e31\\u0e01\\u0e07\\u0e32\\u0e19\", \"\\u0e2d\\u0e23\\u0e48\\u0e2d\\u0e22\", \"\\u0e01\\u0e34\\u0e19\", \"\\u0e1a\\u0e32\\u0e17\", \"\\u0e14\\u0e33\", \"\\u0e23\\u0e2a\\u0e0a\\u0e32\\u0e15\\u0e34\", \"\\u0e1a\\u0e38\\u0e1f\\u0e40\\u0e1f\\u0e48\\u0e15\\u0e4c\", \"\\u0e0b\\u0e38\\u0e1b\", \"\\u0e40\\u0e01\\u0e34\\u0e19\\u0e44\\u0e1b\", \"\\u0e42\\u0e2b\\u0e14\", \"\\u0e2a\", \"\\u0e16\\u0e49\\u0e27\\u0e22\", \"\\u0e44\\u0e27\", \"\\u0e40\\u0e25\\u0e35\\u0e48\\u0e22\\u0e19\", \"\\u0e19\\u0e36\\u0e01\\u0e16\\u0e36\\u0e07\", \"\\u0e42\\u0e1b\\u0e23\", \"\\u0e42\\u0e21\\u0e48\", \"\\u0e2d\\u0e2d\", \"\\u0e02\\u0e49\\u0e32\\u0e27\", \"\\u0e0a\\u0e32\\u0e40\\u0e02\\u0e35\\u0e22\\u0e27\", \"\\u0e23\\u0e2a\", \"\\u0e44\\u0e2d\\u0e28\\u0e01\\u0e23\\u0e35\\u0e21\", \"\\u0e2a\\u0e48\\u0e27\\u0e19\\u0e15\\u0e31\\u0e27\", \"4\", \"\\u0e0a\\u0e2d\\u0e1a\", \"\\u0e08\\u0e48\\u0e32\\u0e22\", \"\\u0e18\\u0e23\\u0e23\\u0e21\\u0e14\\u0e32\", \"3\", \"\\u0e42\\u0e21\", \"2\", \"\\u0e40\\u0e19\\u0e37\\u0e49\\u0e2d\", \"\\u0e2a\\u0e31\\u0e48\\u0e07\", \"\\u0e23\\u0e49\\u0e32\\u0e19\\u0e2d\\u0e32\\u0e2b\\u0e32\\u0e23\", \"Menu\", \"20\", \"4.0\", \"\\u0e1e\\u0e32\\u0e23\\u0e32\", \"\\u0e2b\\u0e25\\u0e32\\u0e22\\u0e0a\\u0e19\\u0e34\\u0e14\", \"\\u0e23\\u0e32\\u0e04\\u0e32\", \"\\u0e0a\\u0e32\\u0e1a\\u0e39\", \"\\u0e2d\\u0e23\\u0e48\\u0e2d\\u0e22\", \"\\u0e17\\u0e32\\u0e19\", \"\\u0e41\\u0e1a\\u0e48\\u0e07\", \"\\u0e1a\\u0e38\", \"\\u0e01\\u0e30\\u0e1b\\u0e34\", \"\\u0e14\\u0e35\", \"\\u0e40\\u0e25\\u0e37\\u0e2d\\u0e01\", \"\\u0e19\\u0e49\\u0e33\", \"\\u0e01\\u0e34\\u0e19\", \"\\u0e2d\\u0e32\\u0e2b\\u0e32\\u0e23\", \"\\u0e1a\\u0e32\\u0e17\", \"\\u0e23\\u0e2a\\u0e0a\\u0e32\\u0e15\\u0e34\", \"\\u0e2a\\u0e32\\u0e02\\u0e32\", \":\", \"\\u0e0b\\u0e38\\u0e1b\", \"\\u0e04\\u0e38\\u0e49\\u0e21\", \"\\u0e40\\u0e25\\u0e35\\u0e48\\u0e22\\u0e19\", \"\\u0e44\\u0e27\", \"\\u0e16\\u0e49\\u0e27\\u0e22\", \"\\u0e2a\", \"\\u0e42\\u0e2b\\u0e14\", \"\\u0e40\\u0e01\\u0e34\\u0e19\\u0e44\\u0e1b\", \"\\u0e2d\\u0e2d\", \"\\u0e42\\u0e21\\u0e48\", \"\\u0e42\\u0e1b\\u0e23\", \"\\u0e19\\u0e36\\u0e01\\u0e16\\u0e36\\u0e07\", \"\\u0e23\\u0e49\\u0e32\\u0e19\\u0e2d\\u0e32\\u0e2b\\u0e32\\u0e23\", \"Menu\", \"20\", \"4.0\", \"\\u0e1e\\u0e32\\u0e23\\u0e32\", \"\\u0e2b\\u0e25\\u0e32\\u0e22\\u0e0a\\u0e19\\u0e34\\u0e14\", \"\\u0e01\\u0e4c\", \"\\u0e2a\\u0e44\\u0e15\\u0e25\\u0e4c\", \"\\u0e01\\u0e23\\u0e23\\u0e21\\u0e27\\u0e34\\u0e18\\u0e35\", \"4\", \"\\u0e21\\u0e2d\", \"\\u0e41\\u0e1a\\u0e1a\\u0e09\\u0e1a\\u0e31\\u0e1a\", \"\\u0e2a\\u0e4c\", \"\\u0e22\\u0e38\\u0e04\", \"\\u0e44\\u0e17\\u0e22\", \"Number\", \"\\u0e1b\\u0e23\\u0e30\", \"\\u0e14\\u0e31\\u0e07\\u0e40\\u0e14\\u0e34\\u0e21\", \"\\u0e02\\u0e49\\u0e32\\u0e27\", \"\\u0e04\\u0e30\\u0e41\\u0e19\\u0e19\", \"\\u0e0a\\u0e32\\u0e40\\u0e02\\u0e35\\u0e22\\u0e27\", \"\\u0e23\\u0e2a\", \"\\u0e2a\\u0e48\\u0e27\\u0e19\\u0e15\\u0e31\\u0e27\", \"\\u0e41\\u0e1a\\u0e48\\u0e07\", \"\\u0e40\\u0e19\\u0e37\\u0e49\\u0e2d\", \"\\u0e0a\\u0e32\\u0e1a\\u0e39\", \"2\", \"\\u0e0a\\u0e2d\\u0e1a\", \"\\u0e23\\u0e32\\u0e04\\u0e32\", \"\\u0e2a\\u0e31\\u0e48\\u0e07\", \"\\u0e1a\\u0e38\", \"\\u0e01\\u0e30\\u0e1b\\u0e34\", \"\\u0e17\\u0e32\\u0e19\", \"\\u0e18\\u0e23\\u0e23\\u0e21\\u0e14\\u0e32\", \"\\u0e2d\\u0e23\\u0e48\\u0e2d\\u0e22\", \"\\u0e25\", \"\\u0e1c\\u0e31\\u0e01\", \"\\u0e14\\u0e35\", \"\\u0e19\\u0e49\\u0e33\\u0e08\\u0e34\\u0e49\\u0e21\", \"\\u0e40\\u0e25\\u0e37\\u0e2d\\u0e01\", \"\\u0e2a\\u0e32\\u0e02\\u0e32\", \"\\u0e1a\\u0e32\\u0e17\", \"\\u0e19\\u0e49\\u0e33\", \"\\u0e23\\u0e2a\\u0e0a\\u0e32\\u0e15\\u0e34\", \"\\u0e01\\u0e34\\u0e19\", \"\\u0e2d\\u0e32\\u0e2b\\u0e32\\u0e23\", \"\\u0e40\\u0e21\\u0e19\\u0e39\", \"\\u0e40\\u0e14\\u0e2d\\u0e30\", \"\\u0e25\\u0e2d\\u0e07\", \"\\u0e08\\u0e48\\u0e32\\u0e22\", \":\", \"\\u0e02\\u0e2d\\u0e07\\u0e2b\\u0e27\\u0e32\\u0e19\", \"\\u0e04\\u0e38\\u0e49\\u0e21\", \"\\u0e1a\\u0e38\\u0e1f\\u0e40\\u0e1f\\u0e48\\u0e15\\u0e4c\", \"\\u0e0b\\u0e38\\u0e1b\", \"\\u0e0b\\u0e39\\u0e0a\\u0e34\", \"\\u0e1e\\u0e19\\u0e31\\u0e01\\u0e07\\u0e32\\u0e19\", \"\\u0e44\\u0e2d\\u0e15\\u0e34\\u0e21\", \"-\", \"\\u0e40\\u0e25\\u0e35\\u0e48\\u0e22\\u0e19\", \"\\u0e44\\u0e27\", \"\\u0e16\\u0e49\\u0e27\\u0e22\", \"\\u0e2a\", \"\\u0e42\\u0e2b\\u0e14\", \"\\u0e40\\u0e01\\u0e34\\u0e19\\u0e44\\u0e1b\", \"\\u0e2d\\u0e2d\", \"\\u0e42\\u0e21\\u0e48\", \"\\u0e42\\u0e1b\\u0e23\", \"\\u0e19\\u0e36\\u0e01\\u0e16\\u0e36\\u0e07\", \"\\u0e23\\u0e49\\u0e32\\u0e19\\u0e2d\\u0e32\\u0e2b\\u0e32\\u0e23\", \"Menu\", \"20\", \"4.0\", \"\\u0e1e\\u0e32\\u0e23\\u0e32\", \"\\u0e2b\\u0e25\\u0e32\\u0e22\\u0e0a\\u0e19\\u0e34\\u0e14\", \"\\u0e01\\u0e4c\", \"\\u0e2a\\u0e44\\u0e15\\u0e25\\u0e4c\", \"\\u0e01\\u0e23\\u0e23\\u0e21\\u0e27\\u0e34\\u0e18\\u0e35\", \"4\", \"\\u0e21\\u0e2d\", \"\\u0e41\\u0e1a\\u0e1a\\u0e09\\u0e1a\\u0e31\\u0e1a\", \"\\u0e2a\\u0e4c\", \"\\u0e22\\u0e38\\u0e04\", \"\\u0e44\\u0e17\\u0e22\", \"Number\", \"\\u0e1b\\u0e23\\u0e30\", \"\\u0e14\\u0e31\\u0e07\\u0e40\\u0e14\\u0e34\\u0e21\", \"\\u0e02\\u0e49\\u0e32\\u0e27\", \"\\u0e04\\u0e30\\u0e41\\u0e19\\u0e19\", \"\\u0e0a\\u0e32\\u0e40\\u0e02\\u0e35\\u0e22\\u0e27\", \"\\u0e23\\u0e2a\", \"\\u0e2a\\u0e48\\u0e27\\u0e19\\u0e15\\u0e31\\u0e27\", \"\\u0e41\\u0e1a\\u0e48\\u0e07\", \"\\u0e40\\u0e19\\u0e37\\u0e49\\u0e2d\", \"\\u0e0a\\u0e32\\u0e1a\\u0e39\", \"2\", \"\\u0e0a\\u0e2d\\u0e1a\", \"\\u0e23\\u0e32\\u0e04\\u0e32\", \"\\u0e2a\\u0e31\\u0e48\\u0e07\", \"\\u0e1a\\u0e38\", \"\\u0e01\\u0e30\\u0e1b\\u0e34\", \"\\u0e17\\u0e32\\u0e19\", \"\\u0e18\\u0e23\\u0e23\\u0e21\\u0e14\\u0e32\", \"\\u0e2d\\u0e23\\u0e48\\u0e2d\\u0e22\", \"\\u0e25\", \"\\u0e1c\\u0e31\\u0e01\", \"\\u0e14\\u0e35\", \"\\u0e19\\u0e49\\u0e33\\u0e08\\u0e34\\u0e49\\u0e21\", \"\\u0e40\\u0e25\\u0e37\\u0e2d\\u0e01\", \"\\u0e2a\\u0e32\\u0e02\\u0e32\", \"\\u0e1a\\u0e32\\u0e17\", \"\\u0e19\\u0e49\\u0e33\", \"\\u0e23\\u0e2a\\u0e0a\\u0e32\\u0e15\\u0e34\", \"\\u0e01\\u0e34\\u0e19\", \"\\u0e2d\\u0e32\\u0e2b\\u0e32\\u0e23\", \"\\u0e40\\u0e21\\u0e19\\u0e39\", \"\\u0e40\\u0e14\\u0e2d\\u0e30\", \"\\u0e25\\u0e2d\\u0e07\", \"\\u0e08\\u0e48\\u0e32\\u0e22\", \":\", \"\\u0e02\\u0e2d\\u0e07\\u0e2b\\u0e27\\u0e32\\u0e19\", \"\\u0e04\\u0e38\\u0e49\\u0e21\", \"\\u0e1a\\u0e38\\u0e1f\\u0e40\\u0e1f\\u0e48\\u0e15\\u0e4c\", \"\\u0e0b\\u0e38\\u0e1b\", \"\\u0e0b\\u0e39\\u0e0a\\u0e34\", \"\\u0e1e\\u0e19\\u0e31\\u0e01\\u0e07\\u0e32\\u0e19\", \"\\u0e44\\u0e2d\\u0e15\\u0e34\\u0e21\", \"-\"], \"Freq\": [23.0, 23.0, 20.0, 18.0, 18.0, 21.0, 18.0, 17.0, 17.0, 16.0, 14.0, 13.0, 13.0, 13.0, 11.0, 9.0, 12.0, 8.0, 9.0, 10.0, 9.0, 8.0, 7.0, 8.0, 7.0, 6.0, 7.0, 7.0, 7.0, 7.0, 4.127837143912468, 2.801337118076991, 2.1356168716254853, 2.1398849047076833, 2.141794326219059, 2.1421803261914762, 8.257581630715029, 2.1495600553356478, 2.7984139529654657, 2.806006948653364, 1.465215673973738, 1.4654546114903206, 1.4673569656893308, 1.4674666129620557, 1.4691258724019156, 1.4719111209912554, 1.4727702151678845, 1.4730459442811916, 1.4736630869403766, 1.473801315255755, 1.4742965467766402, 1.4773319574374952, 1.4772663769359888, 1.4792355588092758, 1.4802418193728037, 1.4804274402534545, 6.29171931561833, 1.4823365499716374, 0.7737972766929841, 0.7738152048015576, 6.474943130204554, 4.265707520705638, 7.841226304516535, 4.266467048922769, 4.268818385319098, 3.6474149682263746, 2.972824413308024, 2.979136562560793, 9.559829550582922, 7.297433201748684, 3.0296749132843668, 3.160196116666238, 2.295779422377664, 7.152594870687681, 3.2417294129401846, 5.510059186229268, 3.1597708307515555, 3.0554377612010764, 2.4665946993476178, 3.8198469968309325, 4.81833143813594, 3.9837620825869062, 4.114285780314318, 3.7772015868465214, 4.069814093669887, 3.254252690451326, 4.008315588640652, 3.1542502204836893, 2.925625159814881, 2.9276513998424103, 7.962270106501993, 6.700073608911288, 2.127827165719936, 2.1366298722865698, 2.139246266492424, 2.1419956246576066, 1.4455757529728572, 1.451494598480266, 1.4516651124466267, 1.4541783980266132, 1.4542440592410961, 1.4631895789492309, 1.4643624523929344, 1.4671421788698153, 1.4700207049553637, 1.4702119432425456, 1.473987770862264, 1.4743773265363143, 1.476091904999503, 0.7670303515072848, 0.7670317365485277, 0.7670317365485277, 0.7670321982289421, 0.7670340962484232, 0.7670346092266614, 0.767035276098371, 0.7780652828772235, 0.7789845398799863, 0.7790970873054361, 0.779273910904126, 2.9399546139928328, 2.9341795049877533, 3.735397137282996, 2.286894946057147, 9.093994487854152, 3.0203584126576914, 3.133819554945337, 7.286445490313739, 2.417413025145833, 6.225411151708853, 7.473587338477064, 9.177755216109457, 8.139582470857206, 4.330825341693021, 4.103152877742261, 5.028389154848843, 5.241213976674624, 3.3325520438039886, 5.755467683914796, 5.895494738008399, 3.056725491873015, 6.334502745363947, 3.282376616374174, 3.218085874552161, 5.285814356612236, 3.9677697130429714, 3.793522906638936, 2.7512682909500885, 2.7391710329467673, 2.7344409632084443, 2.755038270617892, 2.235519397027573, 1.177665462527419, 1.1779255856004083, 1.178075073113193, 1.1793467036881193, 1.1796461720718168, 0.6322288822214004, 0.6330143700309463, 0.6330983025824727, 0.6331315425863469, 0.6332721496528275, 0.6333979559754682, 0.6334665944250265, 0.6334669027738565, 0.6335978276870752, 0.6336541321834335, 0.6336911957127996, 0.6337362146419798, 0.633767419543576, 0.6338213189190602, 0.633967352924949, 0.633974198268975, 0.6341387948744298, 0.6342055832310082, 0.6342118118773742, 0.6344385716069574, 0.6345409434185179, 0.6346743967921425, 0.6347358198790788, 0.6348558292437154, 2.382442927621084, 2.386556054334241, 1.8385386559908752, 2.4329650200401103, 5.0331749919661535, 4.748739723787033, 6.891917526675452, 1.989966299613985, 2.6758782814502893, 1.3095875758622921, 1.3123508747372339, 1.2897892375250861, 2.734824710584021, 4.13027460829041, 4.089637686003106, 4.246202667813105, 4.519263070993, 3.197134824875014, 1.4091504529210173, 2.699409737402558, 1.3441203013713552, 1.4936178046581874, 1.4809186431038726, 3.2349652794511776, 2.942982618629876, 2.698506151991121, 1.8349475021771455, 1.7040343062140373, 2.5364663750346788, 2.039302235753761, 1.5612348795520303, 1.7609821415712312, 1.434745255904124, 1.0893828082463022, 1.09420396928535, 1.105372201647289, 1.1055058046847923, 1.1117197092249969, 1.113957151114287, 2.7705773395831645, 1.1270694440015292, 0.5838629422094862, 0.58389108064514, 0.5840572937301645, 0.5841217503792784, 0.5841736101705705, 0.584175518785392, 0.5842603158153175, 0.5843135389029106, 0.5843298984585233, 0.5844094058988007, 0.5844547218678479, 0.5844563032915571, 0.5844623017952817, 0.5844654646427001, 0.5845060908724715, 0.5845309573970028, 0.5845989040846473, 0.5846518545129802, 0.5846678323456286, 0.5846703953426745, 0.5847046413457571, 0.5847093310850326, 3.8596043820267436, 2.3224581372607465, 4.86743371490695, 1.2400952143278319, 1.2106316546694509, 1.2217898531706144, 3.3290847156123102, 3.636349452874269, 3.9759452527023935, 3.332709556881257, 3.112114255216582, 1.3421740425477824, 1.261494821833626, 3.145460046485549, 2.752792103230725, 1.3986026214676766, 3.0658455056506635, 1.6022123418582581, 1.594399454352473, 1.8364351533482692, 1.5084327162006044, 2.548234401124243, 2.389814572138778, 1.8671985342319273, 1.3825932694088423, 1.5576576374657287, 1.3585413416834216, 1.2118241572099089, 0.2612956068943585, 0.14115083650236504, 0.14115114579762741, 0.14115119219191677, 0.14115147055765292, 0.1411515478814685, 0.286011360381733, 0.16275062579840402, 0.16280034501183183, 0.1672844767963117, 0.1647179447090705, 0.19512273606982117, 0.38981391246004155, 0.1764714121157751, 0.19812964275164105, 0.2311253541310717, 0.4189877241412772, 0.2207430699463196, 0.22362149537614623, 0.2101598984886508, 0.20202546401754518, 0.27171301155615396, 0.6156011860519613, 0.32757631351212513, 0.031655569803248865, 0.03161855682581876, 0.03149022248907514, 0.031485478672988364, 0.03144998317543932, 0.031267328858239955, 0.47231282545604125, 0.5033642449570896, 0.49999555560686226, 0.559122757678166, 0.05587292877101274, 0.12168610467016357, 0.12437998134930875, 0.34603542592536424, 0.3192091652856037, 0.3981590697934076, 0.3442051402806958, 0.2845771582500703, 0.2607195135386468, 0.26041547629572587, 0.23080783161471088, 0.22127250611170104, 0.2069315209342027, 0.16826730888681807, 0.0002859792027040018, 0.0002859783603538168, 0.0002859750731335826, 0.00028597449787004156, 0.00028597057375088694, 0.0003191876260410154, 0.0006004214181599905, 0.0005464486724047137, 0.0005456493026242516, 0.0006165578070263483, 0.00038089263286665803, 0.000380447255615171, 0.00037890308391013534, 0.00037884600954881834, 0.0003784189174598843, 0.0003762211641917753, 0.00037525324219380243, 0.0003747792250360246, 0.00037397747202089275, 0.0013687875755315022, 0.00037184640823328594, 0.000370921959722911, 0.0003699658717177814, 0.0003693074415048625, 0.0003690118793155511, 0.0003688324381810144, 0.00036712645305994813, 0.00036476281844076864, 0.0005695396687596477, 0.000364267557622227, 0.0009350669713561425, 0.0018657192059376964, 0.0009714946311039296, 0.0006721367296783293, 0.004581725918877762, 0.004643293910255016, 0.0018565044701770665, 0.0022160323493045503, 0.0042709399552175635, 0.0025288458704052306, 0.0014643667088818455, 0.0014966337339791514, 0.005314594576557019, 0.001278369049226897, 0.004603584618547384, 0.0006504572246017262, 0.001849750547483791, 0.004163617474121905, 0.0018287997780428666, 0.0038395136664046937, 0.002776909535302921, 0.0031373318670561423, 0.0047900350927896004, 0.0031330292244915415, 0.004140989893639493, 0.0034237864839865213, 0.001818069962476274, 0.0016082437364263332, 0.0017307176730256648, 0.0012440436489994141, 0.002662039760910452, 0.0018644094130353625, 0.002024736348076049, 0.0016838565406154021, 0.002489479271407018, 0.0017706426063806631, 0.0015723518935767276, 0.0016199643201715267, 0.0017643765071701492, 0.0002666578841617725, 0.0002666570987852243, 0.00026665403390113387, 0.00026665347839089243, 0.00026664983884103503, 0.00029762269546068307, 0.000559855710683415, 0.0005095295476968608, 0.0005087842061971095, 0.0005749019162824568, 0.0003551587684037631, 0.0003547434766095043, 0.0003533036323748522, 0.0003532504183248314, 0.00035285217494832586, 0.0003508029168233348, 0.00034990038508079336, 0.00034945839048389633, 0.00034871078863212826, 0.0012761165174749777, 0.0003467237093431226, 0.00034586174900372876, 0.00034497021253286197, 0.0003443562779384895, 0.000344080706547705, 0.00034391340218741645, 0.00034232265072235983, 0.0003401186925729022, 0.0005310604350545209, 0.0003396569294736217, 0.0008718460464055095, 0.0017394150470627671, 0.0009058642676350773, 0.0006266566217435793, 0.004271901953283046, 0.004329293133830749, 0.0017306931531623096, 0.002066158508842752, 0.0039817236314118095, 0.0023576939613892487, 0.0013651992891170698, 0.0013953798157327543, 0.0049547185916351865, 0.001191852356599924, 0.0042917148964858945, 0.0006063701156377016, 0.0017242801896914083, 0.003882037356904018, 0.0017051576116299382, 0.0035795480086181783, 0.002589159218204562, 0.0029245013655445676, 0.00446544631871219, 0.002921002187378477, 0.003861462177027869, 0.00319267473911145, 0.0016951539832028458, 0.0014994813622612785, 0.0016135230941162224, 0.0011596329158430536, 0.0024818472055912694, 0.001737810120508792, 0.001887888146522674, 0.0015698218313354255, 0.002319740275743312, 0.0016509477807681438, 0.0014660756581171914, 0.0015102696010155315, 0.0016454636304208598], \"Total\": [23.0, 23.0, 20.0, 18.0, 18.0, 21.0, 18.0, 17.0, 17.0, 16.0, 14.0, 13.0, 13.0, 13.0, 11.0, 9.0, 12.0, 8.0, 9.0, 10.0, 9.0, 8.0, 7.0, 8.0, 7.0, 6.0, 7.0, 7.0, 7.0, 7.0, 4.915096148576761, 3.4617453216712897, 2.7256668141067437, 2.7419609189889145, 2.7490954920410418, 2.7502331694208846, 10.671575820078468, 2.7784064215550828, 3.66893530726067, 3.7046309590069653, 1.9722610098543014, 1.973234932727454, 1.980462872890787, 1.9808004748666916, 1.9869981673220918, 1.997597196677163, 2.0007991728231094, 2.0016974565204646, 2.0042296121409597, 2.004733166759827, 2.006643280357219, 2.0178972338044745, 2.0179292246999077, 2.025274527267515, 2.029178854323962, 2.029833724029475, 8.63543522429232, 2.03680615414958, 1.1400363993997475, 1.1401041793455955, 9.540303942787245, 6.354646108903598, 12.092905360980495, 6.359734924644026, 6.373064414734031, 5.510850976758035, 4.618397520943492, 4.765443132166564, 21.17282083547169, 18.680134921632668, 5.591974616286595, 5.957120402648952, 3.83952157653223, 23.44667798903491, 6.898846661640269, 18.06122444703417, 7.944251314664532, 7.5764304704299885, 5.116704780755007, 11.846761709726058, 18.71888162110748, 14.24623802930987, 16.56502128688904, 13.330386150816613, 17.188913978148488, 9.645936759117802, 20.40563800055405, 17.533797857425522, 8.220236173351019, 13.778140717675587, 8.815900620164266, 7.589418645759878, 2.7198320772686815, 2.7533192108236255, 2.763163707132231, 2.7737040498347545, 1.9144112371568849, 1.9367213999234933, 1.9375495780839826, 1.9471329216539175, 1.9473444382198328, 1.980954315304751, 1.9853569625272036, 1.9958079029088953, 2.006883821127869, 2.0074995752433615, 2.021948555129795, 2.023457853784718, 2.029909046557708, 1.1232139045850336, 1.1232191267425478, 1.1232191320443656, 1.123220842361495, 1.1232280792474476, 1.1232299304316464, 1.1232326138431747, 1.1648428835029654, 1.1683302663744863, 1.1687454796639283, 1.1694191671436185, 4.5274715048828345, 4.631606112203877, 6.213213322816549, 3.95774100276486, 20.40563800055405, 5.595081807112967, 5.865389700836243, 16.56502128688904, 4.438855103485741, 13.959017852116238, 17.533797857425522, 23.37544623662349, 23.44667798903491, 9.721414839548528, 9.645936759117802, 13.330386150816613, 14.24623802930987, 7.1272265506802475, 17.188913978148488, 18.06122444703417, 6.390144945831135, 21.17282083547169, 7.735136418717898, 7.5764304704299885, 18.71888162110748, 13.778140717675587, 18.680134921632668, 6.693584095692411, 7.141377558491775, 7.2785921247226835, 8.413597150213198, 2.891637792063193, 1.725114667023866, 1.7263571955999557, 1.7270479251855526, 1.7330420760048544, 1.7344614776272824, 1.0647752669831185, 1.0684778686308345, 1.0688602196566261, 1.0690059158119896, 1.069670361954141, 1.0702852576551456, 1.0705954531514996, 1.070620125554254, 1.0712275659570878, 1.0714650820241878, 1.0716551232242524, 1.0718949361765993, 1.0720349180828663, 1.07227801526806, 1.0729379994665953, 1.0729937239135927, 1.0737720522189926, 1.0740791857417749, 1.0741216851322137, 1.0752095750696686, 1.0756576179660506, 1.0762836570955288, 1.0765753290668743, 1.0771330442095153, 4.214528861403956, 4.23342969205696, 3.561572114972858, 5.0880781819444305, 13.959017852116238, 13.778140717675587, 23.37544623662349, 4.754773554796178, 7.222114900080771, 2.824466643519655, 2.8383808790850735, 2.8883388003103914, 8.413597150213198, 17.188913978148488, 18.680134921632668, 20.40563800055405, 23.44667798903491, 14.24623802930987, 3.930101011356816, 12.092905360980495, 3.7765652744907, 4.5952558480577, 4.532057591866766, 18.71888162110748, 17.533797857425522, 18.06122444703417, 8.220236173351019, 6.693584095692411, 21.17282083547169, 11.846761709726058, 5.276640267974761, 16.56502128688904, 9.721414839548528, 1.564222208932091, 1.5883511699581456, 1.6444150313363433, 1.6450226908714964, 1.6757116417508804, 1.705418836997286, 4.269091991584218, 1.7554944348358767, 0.9757811975927073, 0.9759212172689996, 0.9767462631474049, 0.9770657619161057, 0.9773233674024175, 0.9773328345210572, 0.9777535571659112, 0.9780176633353772, 0.9780987607564983, 0.9784935101963755, 0.9787183479787559, 0.9787261908435682, 0.9787556744525847, 0.9787714883442666, 0.9789731072954181, 0.9790965877622346, 0.9794338807167499, 0.9796967106065806, 0.9797759380040235, 0.9797889001564724, 0.9799591679037668, 0.9799820665136075, 11.846761709726058, 6.390144945831135, 18.71888162110748, 2.8323976446326546, 2.8021280735697336, 2.857176602840237, 13.330386150816613, 17.533797857425522, 23.37544623662349, 18.06122444703417, 16.56502128688904, 4.096218514082021, 3.6970280531277897, 18.680134921632668, 17.188913978148488, 5.009896628020988, 23.44667798903491, 7.180595077872264, 7.141377558491775, 9.721414839548528, 6.834051238411644, 20.40563800055405, 21.17282083547169, 13.778140717675587, 6.213213322816549, 14.24623802930987, 7.222114900080771, 13.959017852116238, 0.7764779622384359, 0.6027194844713142, 0.6027260923682515, 0.6027271023645593, 0.6027326624836639, 0.602734102842708, 1.7657225430329029, 1.5279444780805345, 1.5293534297127798, 1.6209964580400849, 1.7242930754971837, 2.8561912585837996, 5.7466185610277805, 2.604525134636488, 3.0441341700801905, 4.102501112652802, 8.220236173351019, 4.532057591866766, 4.5952558480577, 4.438855103485741, 4.269091991584218, 6.693584095692411, 18.06122444703417, 9.721414839548528, 1.1312573105683708, 1.1304722975956212, 1.1278475352243362, 1.1277277121974556, 1.1269948465051896, 1.1232661866135423, 17.188913978148488, 18.71888162110748, 20.40563800055405, 23.44667798903491, 2.139457480284002, 5.276640267974761, 5.457352785164203, 18.680134921632668, 17.533797857425522, 23.37544623662349, 21.17282083547169, 16.56502128688904, 13.778140717675587, 14.24623802930987, 11.846761709726058, 13.330386150816613, 13.959017852116238, 9.645936759117802, 0.602734102842708, 0.6027326624836639, 0.6027271023645593, 0.6027260923682515, 0.6027194844713142, 0.7764779622384359, 1.6209964580400849, 1.5293534297127798, 1.5279444780805345, 1.7657225430329029, 1.1312573105683708, 1.1304722975956212, 1.1278475352243362, 1.1277277121974556, 1.1269948465051896, 1.1232661866135423, 1.1216219352740904, 1.120785026518439, 1.1194211938414715, 4.102501112652802, 1.115790008087143, 1.1142256506770452, 1.1126032744790317, 1.1114867871914842, 1.1109808425863024, 1.1106523782063897, 1.107775057047901, 1.1037046158748758, 1.7242930754971837, 1.1028880283617761, 2.8561912585837996, 5.7466185610277805, 3.0441341700801905, 2.139457480284002, 18.06122444703417, 18.71888162110748, 6.693584095692411, 8.220236173351019, 17.188913978148488, 9.721414839548528, 5.276640267974761, 5.457352785164203, 23.44667798903491, 4.5952558480577, 20.40563800055405, 2.1025266909029448, 7.180595077872264, 18.680134921632668, 7.141377558491775, 17.533797857425522, 11.846761709726058, 13.778140717675587, 23.37544623662349, 14.24623802930987, 21.17282083547169, 16.56502128688904, 7.2785921247226835, 6.2871515105659155, 7.1272265506802475, 4.532057591866766, 13.330386150816613, 8.413597150213198, 9.645936759117802, 7.222114900080771, 13.959017852116238, 7.944251314664532, 6.834051238411644, 7.735136418717898, 12.092905360980495, 0.602734102842708, 0.6027326624836639, 0.6027271023645593, 0.6027260923682515, 0.6027194844713142, 0.7764779622384359, 1.6209964580400849, 1.5293534297127798, 1.5279444780805345, 1.7657225430329029, 1.1312573105683708, 1.1304722975956212, 1.1278475352243362, 1.1277277121974556, 1.1269948465051896, 1.1232661866135423, 1.1216219352740904, 1.120785026518439, 1.1194211938414715, 4.102501112652802, 1.115790008087143, 1.1142256506770452, 1.1126032744790317, 1.1114867871914842, 1.1109808425863024, 1.1106523782063897, 1.107775057047901, 1.1037046158748758, 1.7242930754971837, 1.1028880283617761, 2.8561912585837996, 5.7466185610277805, 3.0441341700801905, 2.139457480284002, 18.06122444703417, 18.71888162110748, 6.693584095692411, 8.220236173351019, 17.188913978148488, 9.721414839548528, 5.276640267974761, 5.457352785164203, 23.44667798903491, 4.5952558480577, 20.40563800055405, 2.1025266909029448, 7.180595077872264, 18.680134921632668, 7.141377558491775, 17.533797857425522, 11.846761709726058, 13.778140717675587, 23.37544623662349, 14.24623802930987, 21.17282083547169, 16.56502128688904, 7.2785921247226835, 6.2871515105659155, 7.1272265506802475, 4.532057591866766, 13.330386150816613, 8.413597150213198, 9.645936759117802, 7.222114900080771, 13.959017852116238, 7.944251314664532, 6.834051238411644, 7.735136418717898, 12.092905360980495], \"Category\": [\"Default\", \"Default\", \"Default\", \"Default\", \"Default\", \"Default\", \"Default\", \"Default\", \"Default\", \"Default\", \"Default\", \"Default\", \"Default\", \"Default\", \"Default\", \"Default\", \"Default\", \"Default\", \"Default\", \"Default\", \"Default\", \"Default\", \"Default\", \"Default\", \"Default\", \"Default\", \"Default\", \"Default\", \"Default\", \"Default\", \"Topic1\", \"Topic1\", \"Topic1\", \"Topic1\", \"Topic1\", \"Topic1\", \"Topic1\", \"Topic1\", \"Topic1\", \"Topic1\", \"Topic1\", \"Topic1\", \"Topic1\", \"Topic1\", \"Topic1\", \"Topic1\", \"Topic1\", \"Topic1\", \"Topic1\", \"Topic1\", \"Topic1\", \"Topic1\", \"Topic1\", \"Topic1\", \"Topic1\", \"Topic1\", \"Topic1\", \"Topic1\", \"Topic1\", \"Topic1\", \"Topic1\", \"Topic1\", \"Topic1\", \"Topic1\", \"Topic1\", \"Topic1\", \"Topic1\", \"Topic1\", \"Topic1\", \"Topic1\", \"Topic1\", \"Topic1\", \"Topic1\", \"Topic1\", \"Topic1\", \"Topic1\", \"Topic1\", \"Topic1\", \"Topic1\", \"Topic1\", \"Topic1\", \"Topic1\", \"Topic1\", \"Topic1\", \"Topic1\", \"Topic1\", \"Topic1\", \"Topic1\", \"Topic1\", \"Topic1\", \"Topic2\", \"Topic2\", \"Topic2\", \"Topic2\", \"Topic2\", \"Topic2\", \"Topic2\", \"Topic2\", \"Topic2\", \"Topic2\", \"Topic2\", \"Topic2\", \"Topic2\", \"Topic2\", \"Topic2\", \"Topic2\", \"Topic2\", \"Topic2\", \"Topic2\", \"Topic2\", \"Topic2\", \"Topic2\", \"Topic2\", \"Topic2\", \"Topic2\", \"Topic2\", \"Topic2\", \"Topic2\", \"Topic2\", \"Topic2\", \"Topic2\", \"Topic2\", \"Topic2\", \"Topic2\", \"Topic2\", \"Topic2\", \"Topic2\", \"Topic2\", \"Topic2\", \"Topic2\", \"Topic2\", \"Topic2\", \"Topic2\", \"Topic2\", \"Topic2\", \"Topic2\", \"Topic2\", \"Topic2\", \"Topic2\", \"Topic2\", \"Topic2\", \"Topic2\", \"Topic2\", \"Topic2\", \"Topic2\", \"Topic2\", \"Topic2\", \"Topic2\", \"Topic2\", \"Topic2\", \"Topic2\", \"Topic3\", \"Topic3\", \"Topic3\", \"Topic3\", \"Topic3\", \"Topic3\", \"Topic3\", \"Topic3\", \"Topic3\", \"Topic3\", \"Topic3\", \"Topic3\", \"Topic3\", \"Topic3\", \"Topic3\", \"Topic3\", \"Topic3\", \"Topic3\", \"Topic3\", \"Topic3\", \"Topic3\", \"Topic3\", \"Topic3\", \"Topic3\", \"Topic3\", \"Topic3\", \"Topic3\", \"Topic3\", \"Topic3\", \"Topic3\", \"Topic3\", \"Topic3\", \"Topic3\", \"Topic3\", \"Topic3\", \"Topic3\", \"Topic3\", \"Topic3\", \"Topic3\", \"Topic3\", \"Topic3\", \"Topic3\", \"Topic3\", \"Topic3\", \"Topic3\", \"Topic3\", \"Topic3\", \"Topic3\", \"Topic3\", \"Topic3\", \"Topic3\", \"Topic3\", \"Topic3\", \"Topic3\", \"Topic3\", \"Topic3\", \"Topic3\", \"Topic3\", \"Topic3\", \"Topic3\", \"Topic3\", \"Topic3\", \"Topic3\", \"Topic4\", \"Topic4\", \"Topic4\", \"Topic4\", \"Topic4\", \"Topic4\", \"Topic4\", \"Topic4\", \"Topic4\", \"Topic4\", \"Topic4\", \"Topic4\", \"Topic4\", \"Topic4\", \"Topic4\", \"Topic4\", \"Topic4\", \"Topic4\", \"Topic4\", \"Topic4\", \"Topic4\", \"Topic4\", \"Topic4\", \"Topic4\", \"Topic4\", \"Topic4\", \"Topic4\", \"Topic4\", \"Topic4\", \"Topic4\", \"Topic4\", \"Topic4\", \"Topic4\", \"Topic4\", \"Topic4\", \"Topic4\", \"Topic4\", \"Topic4\", \"Topic4\", \"Topic4\", \"Topic4\", \"Topic4\", \"Topic4\", \"Topic4\", \"Topic4\", \"Topic4\", \"Topic4\", \"Topic4\", \"Topic4\", \"Topic4\", \"Topic4\", \"Topic4\", \"Topic4\", \"Topic4\", \"Topic4\", \"Topic4\", \"Topic4\", \"Topic4\", \"Topic5\", \"Topic5\", \"Topic5\", \"Topic5\", \"Topic5\", \"Topic5\", \"Topic5\", \"Topic5\", \"Topic5\", \"Topic5\", \"Topic5\", \"Topic5\", \"Topic5\", \"Topic5\", \"Topic5\", \"Topic5\", \"Topic5\", \"Topic5\", \"Topic5\", \"Topic5\", \"Topic5\", \"Topic5\", \"Topic5\", \"Topic5\", \"Topic5\", \"Topic5\", \"Topic5\", \"Topic5\", \"Topic5\", \"Topic5\", \"Topic5\", \"Topic5\", \"Topic5\", \"Topic5\", \"Topic5\", \"Topic5\", \"Topic5\", \"Topic5\", \"Topic5\", \"Topic5\", \"Topic5\", \"Topic5\", \"Topic5\", \"Topic5\", \"Topic5\", \"Topic5\", \"Topic5\", \"Topic5\", \"Topic6\", \"Topic6\", \"Topic6\", \"Topic6\", \"Topic6\", \"Topic6\", \"Topic6\", \"Topic6\", \"Topic6\", \"Topic6\", \"Topic6\", \"Topic6\", \"Topic6\", \"Topic6\", \"Topic6\", \"Topic6\", \"Topic6\", \"Topic6\", \"Topic6\", \"Topic6\", \"Topic6\", \"Topic6\", \"Topic6\", \"Topic6\", \"Topic6\", \"Topic6\", \"Topic6\", \"Topic6\", \"Topic6\", \"Topic6\", \"Topic6\", \"Topic6\", \"Topic6\", \"Topic6\", \"Topic6\", \"Topic6\", \"Topic6\", \"Topic6\", \"Topic6\", \"Topic6\", \"Topic6\", \"Topic6\", \"Topic6\", \"Topic6\", \"Topic6\", \"Topic6\", \"Topic6\", \"Topic6\", \"Topic6\", \"Topic6\", \"Topic6\", \"Topic6\", \"Topic6\", \"Topic6\", \"Topic6\", \"Topic6\", \"Topic6\", \"Topic6\", \"Topic6\", \"Topic6\", \"Topic6\", \"Topic6\", \"Topic6\", \"Topic6\", \"Topic6\", \"Topic6\", \"Topic6\", \"Topic6\", \"Topic6\", \"Topic7\", \"Topic7\", \"Topic7\", \"Topic7\", \"Topic7\", \"Topic7\", \"Topic7\", \"Topic7\", \"Topic7\", \"Topic7\", \"Topic7\", \"Topic7\", \"Topic7\", \"Topic7\", \"Topic7\", \"Topic7\", \"Topic7\", \"Topic7\", \"Topic7\", \"Topic7\", \"Topic7\", \"Topic7\", \"Topic7\", \"Topic7\", \"Topic7\", \"Topic7\", \"Topic7\", \"Topic7\", \"Topic7\", \"Topic7\", \"Topic7\", \"Topic7\", \"Topic7\", \"Topic7\", \"Topic7\", \"Topic7\", \"Topic7\", \"Topic7\", \"Topic7\", \"Topic7\", \"Topic7\", \"Topic7\", \"Topic7\", \"Topic7\", \"Topic7\", \"Topic7\", \"Topic7\", \"Topic7\", \"Topic7\", \"Topic7\", \"Topic7\", \"Topic7\", \"Topic7\", \"Topic7\", \"Topic7\", \"Topic7\", \"Topic7\", \"Topic7\", \"Topic7\", \"Topic7\", \"Topic7\", \"Topic7\", \"Topic7\", \"Topic7\", \"Topic7\", \"Topic7\", \"Topic7\", \"Topic7\", \"Topic7\"], \"logprob\": [30.0, 29.0, 28.0, 27.0, 26.0, 25.0, 24.0, 23.0, 22.0, 21.0, 20.0, 19.0, 18.0, 17.0, 16.0, 15.0, 14.0, 13.0, 12.0, 11.0, 10.0, 9.0, 8.0, 7.0, 6.0, 5.0, 4.0, 3.0, 2.0, 1.0, -4.6834, -5.0711, -5.3424, -5.3404, -5.3395, -5.3393, -3.99, -5.3359, -5.0721, -5.0694, -5.7192, -5.719, -5.7177, -5.7176, -5.7165, -5.7146, -5.714, -5.7138, -5.7134, -5.7133, -5.713, -5.7109, -5.711, -5.7096, -5.709, -5.7088, -4.2619, -5.7076, -6.3576, -6.3576, -4.2332, -4.6506, -4.0418, -4.6504, -4.6498, -4.8072, -5.0117, -5.0095, -3.8436, -4.1136, -4.9927, -4.9505, -5.2701, -4.1337, -4.9251, -4.3946, -4.9507, -4.9842, -5.1983, -4.761, -4.5287, -4.7189, -4.6867, -4.7722, -4.6976, -4.9212, -4.7128, -4.9524, -5.0277, -5.027, -4.0135, -4.1861, -5.3331, -5.329, -5.3278, -5.3265, -5.7197, -5.7156, -5.7155, -5.7138, -5.7138, -5.7076, -5.7068, -5.7049, -5.703, -5.7028, -5.7003, -5.7, -5.6988, -6.3535, -6.3535, -6.3535, -6.3535, -6.3535, -6.3535, -6.3535, -6.3392, -6.338, -6.3379, -6.3376, -5.0098, -5.0118, -4.7704, -5.261, -3.8806, -4.9829, -4.946, -4.1022, -5.2055, -4.2596, -4.0769, -3.8715, -3.9915, -4.6225, -4.6765, -4.4731, -4.4317, -4.8845, -4.3381, -4.3141, -4.9709, -4.2422, -4.8997, -4.9195, -4.4232, -4.71, -4.7549, -5.0762, -5.0806, -5.0823, -5.0748, -4.7748, -5.4157, -5.4155, -5.4154, -5.4143, -5.414, -6.0377, -6.0365, -6.0364, -6.0363, -6.0361, -6.0359, -6.0358, -6.0358, -6.0356, -6.0355, -6.0354, -6.0354, -6.0353, -6.0352, -6.035, -6.035, -6.0347, -6.0346, -6.0346, -6.0343, -6.0341, -6.0339, -6.0338, -6.0336, -4.7111, -4.7094, -4.9703, -4.6901, -3.9632, -4.0214, -3.6489, -4.8911, -4.595, -5.3095, -5.3074, -5.3248, -4.5732, -4.1609, -4.1708, -4.1332, -4.0709, -4.417, -5.2363, -4.5862, -5.2835, -5.178, -5.1866, -4.4052, -4.4998, -4.5865, -4.9722, -5.0462, -4.6485, -4.8666, -5.1338, -5.0134, -5.2183, -5.3706, -5.3662, -5.356, -5.3559, -5.3503, -5.3483, -4.4372, -5.3366, -5.9943, -5.9943, -5.994, -5.9939, -5.9938, -5.9938, -5.9936, -5.9935, -5.9935, -5.9934, -5.9933, -5.9933, -5.9933, -5.9933, -5.9932, -5.9932, -5.9931, -5.993, -5.9929, -5.9929, -5.9929, -5.9929, -4.1057, -4.6136, -3.8737, -5.241, -5.2651, -5.2559, -4.2535, -4.1652, -4.076, -4.2524, -4.3209, -5.1619, -5.2239, -4.3103, -4.4436, -5.1208, -4.3359, -4.9848, -4.9897, -4.8484, -5.0452, -4.5208, -4.585, -4.8318, -5.1323, -5.013, -5.1498, -5.2641, -4.845, -5.4608, -5.4608, -5.4608, -5.4608, -5.4608, -4.7546, -5.3184, -5.3181, -5.2909, -5.3064, -5.137, -4.4449, -5.2375, -5.1217, -4.9677, -4.3728, -5.0136, -5.0007, -5.0627, -5.1022, -4.8059, -3.988, -4.6189, -6.9557, -6.9569, -6.9609, -6.9611, -6.9622, -6.968, -4.253, -4.1893, -4.196, -4.0842, -6.3875, -5.6092, -5.5873, -4.5641, -4.6448, -4.4238, -4.5694, -4.7596, -4.8472, -4.8483, -4.969, -5.0112, -5.0782, -5.2851, -7.1182, -7.1182, -7.1182, -7.1182, -7.1182, -7.0083, -6.3765, -6.4707, -6.4721, -6.35, -6.8316, -6.8328, -6.8368, -6.837, -6.8381, -6.8439, -6.8465, -6.8478, -6.8499, -5.5524, -6.8556, -6.8581, -6.8607, -6.8625, -6.8633, -6.8638, -6.8684, -6.8749, -6.4293, -6.8762, -5.9335, -5.2427, -5.8953, -6.2637, -4.3443, -4.3309, -5.2477, -5.0706, -4.4145, -4.9386, -5.4849, -5.4631, -4.1959, -5.6208, -4.3395, -6.2964, -5.2513, -4.44, -5.2627, -4.521, -4.845, -4.723, -4.2998, -4.7244, -4.4454, -4.6356, -5.2686, -5.3912, -5.3178, -5.648, -4.8873, -5.2434, -5.1609, -5.3453, -4.9543, -5.295, -5.4138, -5.384, -5.2986, -7.1181, -7.1181, -7.1181, -7.1181, -7.1181, -7.0083, -6.3764, -6.4706, -6.4721, -6.3499, -6.8315, -6.8327, -6.8368, -6.8369, -6.838, -6.8439, -6.8464, -6.8477, -6.8498, -5.5525, -6.8556, -6.858, -6.8606, -6.8624, -6.8632, -6.8637, -6.8683, -6.8748, -6.4292, -6.8761, -5.9335, -5.2428, -5.8952, -6.2637, -4.3443, -4.3309, -5.2478, -5.0706, -4.4146, -4.9386, -5.485, -5.4632, -4.196, -5.6208, -4.3396, -6.2966, -5.2515, -4.44, -5.2627, -4.5211, -4.845, -4.7232, -4.3, -4.7244, -4.4453, -4.6355, -5.2686, -5.3912, -5.3179, -5.6482, -4.8873, -5.2437, -5.1609, -5.3454, -4.9549, -5.295, -5.4137, -5.384, -5.2983], \"loglift\": [30.0, 29.0, 28.0, 27.0, 26.0, 25.0, 24.0, 23.0, 22.0, 21.0, 20.0, 19.0, 18.0, 17.0, 16.0, 15.0, 14.0, 13.0, 12.0, 11.0, 10.0, 9.0, 8.0, 7.0, 6.0, 5.0, 4.0, 3.0, 2.0, 1.0, 0.9827, 0.9456, 0.9133, 0.9093, 0.9076, 0.9074, 0.9008, 0.9006, 0.8864, 0.8794, 0.8601, 0.8597, 0.8574, 0.8573, 0.8553, 0.8519, 0.8508, 0.8506, 0.8497, 0.8496, 0.849, 0.8454, 0.8454, 0.8431, 0.8418, 0.8416, 0.8406, 0.8395, 0.7697, 0.7697, 0.7697, 0.7587, 0.724, 0.758, 0.7565, 0.7445, 0.7167, 0.6875, 0.3621, 0.2173, 0.5444, 0.5233, 0.643, -0.03, 0.402, -0.03, 0.2353, 0.2491, 0.4276, 0.0254, -0.1999, -0.117, -0.2356, -0.1038, -0.2834, 0.0707, -0.4702, -0.5581, 0.1241, -0.3916, 1.0683, 1.0455, 0.9247, 0.9166, 0.9142, 0.9117, 0.8893, 0.8818, 0.8815, 0.8783, 0.8782, 0.8672, 0.8658, 0.8624, 0.8589, 0.8587, 0.8541, 0.8536, 0.8516, 0.7887, 0.7887, 0.7887, 0.7887, 0.7887, 0.7887, 0.7887, 0.7666, 0.7648, 0.7646, 0.7643, 0.7384, 0.7137, 0.6613, 0.6217, 0.362, 0.5537, 0.5434, 0.3489, 0.5625, 0.3627, 0.3174, 0.2353, 0.1122, 0.3616, 0.3154, 0.1952, 0.1702, 0.41, 0.0761, 0.0506, 0.4328, -0.0365, 0.313, 0.3139, -0.0943, -0.0747, -0.424, 0.2811, 0.2119, 0.1912, 0.0538, 1.4218, 1.2974, 1.2969, 1.2966, 1.2943, 1.2937, 1.1579, 1.1557, 1.1555, 1.1554, 1.155, 1.1546, 1.1544, 1.1544, 1.154, 1.1539, 1.1538, 1.1536, 1.1535, 1.1534, 1.153, 1.153, 1.1525, 1.1523, 1.1523, 1.1516, 1.1514, 1.151, 1.1508, 1.1505, 1.1088, 1.106, 1.0179, 0.9414, 0.6591, 0.614, 0.4578, 0.8081, 0.6863, 0.9106, 0.9078, 0.873, 0.5554, 0.2533, 0.1602, 0.1094, 0.0328, 0.1849, 0.6535, 0.1796, 0.6461, 0.5554, 0.5607, -0.0763, -0.1055, -0.2219, 0.1796, 0.311, -0.4428, -0.0803, 0.4614, -0.5622, -0.2342, 1.4404, 1.4295, 1.405, 1.4047, 1.3919, 1.3763, 1.3698, 1.3591, 1.2886, 1.2885, 1.288, 1.2877, 1.2876, 1.2876, 1.2873, 1.2871, 1.287, 1.2868, 1.2866, 1.2866, 1.2866, 1.2866, 1.2864, 1.2864, 1.2861, 1.286, 1.2859, 1.2859, 1.2858, 1.2858, 0.6807, 0.7901, 0.4552, 0.9762, 0.9629, 0.9527, 0.4148, 0.229, 0.0308, 0.1122, 0.1302, 0.6864, 0.727, 0.0207, -0.0295, 0.5262, -0.2322, 0.3022, 0.3028, 0.1357, 0.2913, -0.2782, -0.3793, -0.1965, 0.2995, -0.4111, 0.1314, -0.6418, 2.6664, 2.3039, 2.3039, 2.3039, 2.3039, 2.3039, 1.9353, 1.5161, 1.5155, 1.4845, 1.4072, 1.0719, 1.0649, 1.0637, 1.0235, 0.8792, 0.779, 0.7336, 0.7327, 0.7053, 0.7048, 0.5514, 0.3766, 0.3652, 0.1794, 0.1789, 0.1772, 0.1771, 0.1766, 0.1741, 0.1612, 0.1396, 0.0466, 0.0194, 0.1103, -0.014, -0.0258, -0.2331, -0.2505, -0.317, -0.3637, -0.3085, -0.2118, -0.2464, -0.1827, -0.3429, -0.4559, -0.2932, 0.6465, 0.6465, 0.6465, 0.6465, 0.6465, 0.5031, 0.3989, 0.3629, 0.3623, 0.3399, 0.3035, 0.303, 0.3013, 0.3012, 0.3007, 0.2982, 0.2971, 0.2966, 0.2957, 0.2944, 0.2932, 0.2921, 0.291, 0.2902, 0.2899, 0.2897, 0.2876, 0.2849, 0.2843, 0.2843, 0.2754, 0.2671, 0.2499, 0.2342, 0.0204, -0.0021, 0.1096, 0.0812, -0.0004, 0.0455, 0.1102, 0.0983, -0.0922, 0.1126, -0.0969, 0.2188, 0.0357, -0.109, 0.0298, -0.1267, -0.0587, -0.0877, -0.1931, -0.1224, -0.2397, -0.1845, 0.0049, 0.0287, -0.0233, 0.0992, -0.2189, -0.1149, -0.169, -0.064, -0.332, -0.1091, -0.0773, -0.1713, -0.5328, 0.6466, 0.6466, 0.6466, 0.6466, 0.6466, 0.5031, 0.399, 0.363, 0.3624, 0.34, 0.3036, 0.3031, 0.3013, 0.3013, 0.3008, 0.2983, 0.2972, 0.2967, 0.2958, 0.2943, 0.2933, 0.2922, 0.2911, 0.2903, 0.29, 0.2898, 0.2877, 0.2849, 0.2844, 0.2843, 0.2755, 0.267, 0.25, 0.2342, 0.0204, -0.002, 0.1095, 0.0812, -0.0005, 0.0454, 0.1101, 0.0983, -0.0923, 0.1126, -0.097, 0.2187, 0.0355, -0.109, 0.0298, -0.1268, -0.0586, -0.0879, -0.1932, -0.1225, -0.2396, -0.1844, 0.0049, 0.0287, -0.0234, 0.099, -0.219, -0.1151, -0.169, -0.0641, -0.3326, -0.109, -0.0772, -0.1714, -0.5325]}, \"token.table\": {\"Topic\": [2, 4, 3, 1, 4, 2, 3, 4, 1, 2, 3, 4, 2, 3, 4, 1, 2, 3, 3, 1, 2, 3, 1, 2, 3, 4, 4, 4, 1, 2, 3, 3, 1, 1, 2, 3, 4, 4, 3, 2, 3, 2, 4, 1, 2, 3, 4, 2, 4, 1, 4, 4, 1, 4, 4, 1, 1, 2, 3, 4, 4, 3, 1, 2, 3, 4, 1, 2, 3, 4, 4, 2, 1, 2, 3, 4, 1, 1, 2, 3, 4, 2, 3, 1, 4, 1, 4, 1, 2, 1, 2, 4, 1, 2, 3, 4, 2, 3, 2, 3, 1, 2, 2, 1, 2, 3, 1, 2, 3, 4, 1, 1, 3, 1, 2, 3, 4, 5, 2, 3, 1, 2, 3, 4, 1, 4, 3, 4, 3, 3, 3, 1, 2, 3, 4, 1, 2, 3, 4, 2, 1, 2, 4, 4, 4, 1, 2, 4, 1, 2, 3, 4, 2, 3, 1, 2, 1, 3, 4, 2, 1, 2, 3, 3, 1, 2, 3, 4, 5, 4, 4, 1, 2, 3, 1, 2, 4, 3, 4, 3, 1, 2, 3, 4, 1, 2, 3, 4, 1, 2, 3, 4, 2, 1, 2, 4, 4, 1, 2, 3, 4, 1, 2, 3, 4, 1, 1, 2, 3, 4, 2, 1, 2, 4, 2, 1, 1, 2, 1, 2, 3, 4, 1, 1, 2, 3, 4, 4, 4, 4, 4, 4, 3, 2, 3, 3, 3, 1, 3, 4, 1, 2, 4, 4, 4, 4, 1, 2, 3, 4, 1, 2, 3, 4, 1, 2, 3, 1, 2, 3, 4, 4, 4, 3, 4, 1, 2, 3, 4, 3, 1, 1, 1, 2, 4, 2, 4, 2, 3, 1, 2, 3, 4, 1, 2, 3, 4, 1, 2, 1, 3, 4, 4, 4, 1, 1, 2, 4, 1, 2, 4, 1, 2, 3, 4, 2, 3, 3, 2, 4, 4, 3, 1, 3, 1, 1, 2, 3, 4, 4, 1, 2, 3, 4, 1, 3, 2, 4, 4, 2, 4, 1, 3, 1, 2, 3, 4, 1, 1, 2, 1, 2, 3, 4, 5, 1, 2, 2, 4, 1, 2, 3, 4, 1, 1, 2, 3, 4, 2, 1, 2, 3, 4, 3, 3, 4, 3, 4, 2, 3, 1, 2, 2, 4, 1, 3, 4, 4, 1, 1, 2, 2, 3, 4, 2, 2, 4, 1, 2, 3, 4, 1, 2], \"Freq\": [0.9223367858236178, 1.0238073466261992, 0.9329272545749258, 0.5409750673403584, 0.2704875336701792, 0.8902982254049616, 0.3523135345818497, 0.3523135345818497, 0.6615449109370487, 0.08269311386713109, 0.24807934160139325, 0.08269311386713109, 0.858484877370549, 0.3530577713531795, 0.3530577713531795, 0.5035990205378408, 0.16786634017928026, 0.16786634017928026, 0.9283904206410067, 0.7294049984992094, 0.2807748847190255, 0.561549769438051, 0.14939679336269787, 0.4481903800880936, 0.29879358672539574, 0.14939679336269787, 0.8866446649644835, 1.0219791849199984, 0.22528331668558424, 0.4505666333711685, 0.22528331668558424, 0.9312963565530135, 0.5070322817332752, 0.24375374254398913, 0.24375374254398913, 0.24375374254398913, 0.24375374254398913, 0.8867388724991343, 0.9291230926042409, 0.7353395147866799, 0.9328054367746833, 0.8903023688701981, 1.0216889354752705, 0.30006632626729735, 0.3750829078341217, 0.07501658156682434, 0.225049744700473, 0.49420352300868486, 0.6392953598854151, 0.7272110678605258, 0.8845860284474727, 0.9003717271239413, 0.49556537530636985, 1.0209979659558028, 0.893318802164484, 0.8097972600229408, 0.36647804874132267, 0.18323902437066134, 0.18323902437066134, 0.18323902437066134, 1.0213496936860347, 0.928871369239674, 0.4723036234853786, 0.2833821740912272, 0.1416910870456136, 0.09446072469707571, 0.7496549839385553, 0.09370687299231942, 0.09370687299231942, 0.09370687299231942, 0.8915660157409727, 0.8556182825088223, 0.2377104541960772, 0.3565656812941158, 0.3565656812941158, 0.1188552270980386, 0.5799478140986325, 0.6289107806189109, 0.10481846343648515, 0.10481846343648515, 0.10481846343648515, 0.23621509573579688, 0.47243019147159376, 0.4995759957342866, 0.9067103588796721, 0.8771128271575906, 1.0248199109257705, 0.6295322212010277, 0.20984407373367592, 0.19960491687730103, 0.39920983375460206, 0.19960491687730103, 0.31101178402027735, 0.4146823786937031, 0.10367059467342578, 0.10367059467342578, 0.5295817375405264, 0.2647908687702632, 0.5161158255309714, 0.9319719004065015, 0.25266938875014927, 0.5053387775002985, 0.5048071993755997, 0.22065032928853348, 0.44130065857706696, 0.22065032928853348, 0.36495301798330637, 0.24330201198887091, 0.24330201198887091, 0.12165100599443546, 0.719837092400828, 0.5208982317547894, 0.2604491158773947, 0.2671099749015978, 0.2671099749015978, 0.1602659849409587, 0.2671099749015978, 0.05342199498031956, 0.3501166096614396, 0.3501166096614396, 0.39596482957359463, 0.39596482957359463, 0.13198827652453154, 0.13198827652453154, 0.49281018174869473, 0.6081189851368266, 0.35404914492240885, 0.35404914492240885, 0.9340381113070386, 0.9355760291287222, 0.930051241345395, 0.0716382778927671, 0.4298296673566026, 0.3581913894638355, 0.0716382778927671, 0.3776315578614954, 0.3776315578614954, 0.1258771859538318, 0.1258771859538318, 0.8559223609803058, 0.24412760124055638, 0.24412760124055638, 0.24412760124055638, 1.021744408966272, 0.9060395196474992, 0.16094731470553855, 0.6437892588221542, 0.16094731470553855, 0.37472962745539906, 0.21413121568879948, 0.21413121568879948, 0.1605984117665996, 0.3930757210251222, 0.3930757210251222, 0.536483121948107, 0.35765541463207134, 0.8666148781134585, 0.9340596366781788, 0.6295836959193041, 0.8902911336315512, 0.39087656718488367, 0.19543828359244184, 0.19543828359244184, 0.9335084642883984, 0.29854975631403413, 0.34119972150175326, 0.2132498259385958, 0.12794989556315747, 0.04264996518771916, 1.0206415173219874, 1.022476420916219, 0.43523147918855265, 0.21761573959427633, 0.21761573959427633, 0.7337653999560619, 0.3499958662008953, 0.3499958662008953, 0.5790227274049508, 0.5663403935945365, 0.9310300518572896, 0.43485529496994507, 0.2899035299799634, 0.1449517649899817, 0.1449517649899817, 0.12833979593937114, 0.38501938781811346, 0.2994595238585327, 0.17111972791916155, 0.140029005861888, 0.4200870175856639, 0.140029005861888, 0.280058011723776, 0.513519837771561, 0.15649097297118272, 0.4694729189135482, 0.31298194594236545, 0.6078943503631687, 0.2177361997872024, 0.2903149330496032, 0.36289366631200404, 0.1451574665248016, 0.1895145299309578, 0.1895145299309578, 0.3790290598619156, 0.1895145299309578, 0.5032717273955595, 0.27692719205805383, 0.13846359602902691, 0.41539078808708074, 0.13846359602902691, 0.5010502255966105, 0.877164975194231, 0.8902968697567687, 0.9027103414522532, 0.5135756213040599, 0.4988195020568555, 0.6294607018942463, 0.15736517547356157, 0.41779267142423976, 0.13926422380807993, 0.13926422380807993, 0.27852844761615986, 0.5067820275296745, 0.4389782715028712, 0.29265218100191415, 0.14632609050095707, 0.29265218100191415, 1.0207240558977162, 1.021478519223753, 1.023202793828468, 0.8873155037940054, 1.0227526074142566, 0.5796716120472041, 0.23727444582426638, 0.47454889164853276, 0.9320203035936317, 0.9343303505748258, 0.25444638626597615, 0.25444638626597615, 0.25444638626597615, 0.6289570316051958, 0.15723925790129895, 0.8962259858504668, 1.022391643995707, 1.020450680755508, 0.8996958052257282, 0.3480307556105309, 0.17401537780526544, 0.17401537780526544, 0.17401537780526544, 0.2807758786404169, 0.35096984830052114, 0.21058190898031268, 0.14038793932020846, 0.725840712599554, 0.1814601781498885, 0.9309932141225786, 0.23270812833696325, 0.3490621925054449, 0.23270812833696325, 0.17453109625272245, 0.5967613848854939, 0.8839721879875199, 0.47561821893949086, 0.47561821893949086, 0.14030703147840257, 0.4209210944352077, 0.14030703147840257, 0.14030703147840257, 0.9359108217013581, 0.5048464056266446, 0.4937602219039373, 0.6948115345850104, 0.11580192243083508, 0.11580192243083508, 0.8902982296073465, 1.0217054430456274, 0.4981321103785408, 0.9333015296315793, 0.2057313706913964, 0.4114627413827928, 0.1028656853456982, 0.2057313706913964, 0.3376450120302534, 0.1688225060151267, 0.1688225060151267, 0.3376450120302534, 0.3574567931173806, 0.536185189676071, 0.6495759592792979, 0.21652531975976597, 0.5696400855258144, 1.02042683654162, 0.8922317628621069, 0.817675905613033, 0.32850063240598143, 0.32850063240598143, 0.8987929686511507, 0.17049165545768044, 0.5114749663730412, 0.17049165545768044, 0.21031495789979146, 0.21031495789979146, 0.4206299157995829, 0.21031495789979146, 0.6626215088851534, 0.22087383629505114, 0.9331360232677598, 0.3568716253308377, 0.3568716253308377, 0.8902609300604258, 0.9348674466151771, 0.4983446782937831, 0.9391653159199973, 0.5049324648739049, 0.19602425564402315, 0.44105457519905206, 0.19602425564402315, 0.14701819173301736, 0.6169044941708759, 0.24147267490479707, 0.42257718108339487, 0.12073633745239853, 0.1811045061785978, 0.49894482844796373, 0.5792543991178332, 0.8551253717198465, 1.0217362213818921, 1.0234725634423198, 0.8902875394424931, 1.0246728755404888, 0.4926511901747668, 0.577020035373451, 0.4771636240924574, 0.15905454136415245, 0.15905454136415245, 0.15905454136415245, 0.4955575189455483, 0.6276415456828445, 0.15691038642071112, 0.3322033906170331, 0.3322033906170331, 0.16610169530851654, 0.16610169530851654, 0.05536723176950551, 0.21590782458056773, 0.6477234737417032, 0.7238080012550955, 1.0231928823818253, 0.2747784139746944, 0.4121676209620416, 0.1373892069873472, 0.1373892069873472, 0.4909647380840354, 0.17109812856257534, 0.3992289666460091, 0.17109812856257534, 0.2281308380834338, 0.5163365262755413, 0.8138192782166143, 0.7210574610940023, 0.9296638477686694, 1.0206280147083724, 0.6916495577314313, 0.5765478293400815, 0.8974842747448531, 0.4674082140988636, 0.4674082140988636, 0.5223538081008718, 0.9325939595525595, 0.4998002865969847, 0.890289666351492, 0.7263959776758764, 0.6544740429680013, 0.34621977168763457, 0.34621977168763457, 0.7027255458336304, 0.653871093869914, 0.5006014233817593, 0.7275120146936466, 0.5036877593675037, 0.49457242493284254, 0.9354485182997566, 0.9001055298775944, 0.49828494777440574, 0.4926329096841981, 0.5863662217785105, 0.3878406065005446, 0.3878406065005446, 0.12928020216684818, 0.12928020216684818, 0.767894298044138, 0.9074512457300065], \"Term\": [\"\", \"           \", \"!!!!\", \"\\\"\", \"\\\"\", \"%\", \"+\", \"+\", \"-\", \"-\", \"-\", \"-\", \"..\", \"/\", \"/\", \"1\", \"1\", \"1\", \"10\", \"15\", \"199\", \"199\", \"2\", \"2\", \"2\", \"2\", \"20\", \"21\", \"3\", \"3\", \"3\", \"300\", \"359\", \"4\", \"4\", \"4\", \"4\", \"4.0\", \"49\", \"555\", \"6\", \"7\", \"9\", \":\", \":\", \":\", \":\", \"::\", \"CTW\", \"G\", \"Menu\", \"Number\", \"Shabushi\", \"Terminal\", \"\\u0e01\\u0e23\\u0e23\\u0e21\\u0e27\\u0e34\\u0e18\\u0e35\", \"\\u0e01\\u0e25\\u0e31\\u0e1a\\u0e21\\u0e32\", \"\\u0e01\\u0e30\\u0e1b\\u0e34\", \"\\u0e01\\u0e30\\u0e1b\\u0e34\", \"\\u0e01\\u0e30\\u0e1b\\u0e34\", \"\\u0e01\\u0e30\\u0e1b\\u0e34\", \"\\u0e01\\u0e32\\u0e23\\u0e07\\u0e14\", \"\\u0e01\\u0e33\", \"\\u0e01\\u0e34\\u0e19\", \"\\u0e01\\u0e34\\u0e19\", \"\\u0e01\\u0e34\\u0e19\", \"\\u0e01\\u0e34\\u0e19\", \"\\u0e01\\u0e38\\u0e49\\u0e07\", \"\\u0e01\\u0e38\\u0e49\\u0e07\", \"\\u0e01\\u0e38\\u0e49\\u0e07\", \"\\u0e01\\u0e38\\u0e49\\u0e07\", \"\\u0e01\\u0e4c\", \"\\u0e02\\u0e2d\\u0e07\\u0e01\\u0e34\\u0e19\", \"\\u0e02\\u0e2d\\u0e07\\u0e2b\\u0e27\\u0e32\\u0e19\", \"\\u0e02\\u0e2d\\u0e07\\u0e2b\\u0e27\\u0e32\\u0e19\", \"\\u0e02\\u0e2d\\u0e07\\u0e2b\\u0e27\\u0e32\\u0e19\", \"\\u0e02\\u0e2d\\u0e07\\u0e2b\\u0e27\\u0e32\\u0e19\", \"\\u0e02\\u0e49\\u0e32\\u0e27\", \"\\u0e04\\u0e19\", \"\\u0e04\\u0e19\", \"\\u0e04\\u0e19\", \"\\u0e04\\u0e19\", \"\\u0e04\\u0e19\\u0e25\\u0e30\", \"\\u0e04\\u0e19\\u0e25\\u0e30\", \"\\u0e04\\u0e23\\u0e36\\u0e48\\u0e07\", \"\\u0e04\\u0e30\\u0e41\\u0e19\\u0e19\", \"\\u0e04\\u0e32\\u0e21\\u0e35\", \"\\u0e04\\u0e34\\u0e14\\u0e16\\u0e36\\u0e07\", \"\\u0e04\\u0e34\\u0e27\", \"\\u0e04\\u0e34\\u0e27\", \"\\u0e04\\u0e38\\u0e13\\u0e20\\u0e32\\u0e1e\", \"\\u0e04\\u0e38\\u0e13\\u0e20\\u0e32\\u0e1e\", \"\\u0e04\\u0e38\\u0e13\\u0e20\\u0e32\\u0e1e\", \"\\u0e04\\u0e38\\u0e49\\u0e21\", \"\\u0e04\\u0e38\\u0e49\\u0e21\", \"\\u0e04\\u0e38\\u0e49\\u0e21\", \"\\u0e04\\u0e38\\u0e49\\u0e21\", \"\\u0e04\\u0e38\\u0e49\\u0e21\\u0e04\\u0e48\\u0e32\", \"\\u0e04\\u0e38\\u0e49\\u0e21\\u0e04\\u0e48\\u0e32\", \"\\u0e04\\u0e48\\u0e32\", \"\\u0e04\\u0e48\\u0e32\\u0e19\\u0e49\\u0e33\", \"\\u0e08\\u0e32\\u0e19\", \"\\u0e08\\u0e32\\u0e19\", \"\\u0e08\\u0e34\\u0e49\\u0e21\", \"\\u0e08\\u0e48\\u0e32\\u0e22\", \"\\u0e08\\u0e48\\u0e32\\u0e22\", \"\\u0e08\\u0e48\\u0e32\\u0e22\", \"\\u0e0a\\u0e2d\\u0e1a\", \"\\u0e0a\\u0e2d\\u0e1a\", \"\\u0e0a\\u0e2d\\u0e1a\", \"\\u0e0a\\u0e2d\\u0e1a\", \"\\u0e0a\\u0e31\\u0e48\\u0e27\\u0e42\\u0e21\\u0e07\", \"\\u0e0a\\u0e31\\u0e49\\u0e19\", \"\\u0e0a\\u0e31\\u0e49\\u0e19\", \"\\u0e0a\\u0e32\\u0e1a\\u0e39\", \"\\u0e0a\\u0e32\\u0e1a\\u0e39\", \"\\u0e0a\\u0e32\\u0e1a\\u0e39\", \"\\u0e0a\\u0e32\\u0e1a\\u0e39\", \"\\u0e0a\\u0e32\\u0e1a\\u0e39\", \"\\u0e0a\\u0e32\\u0e40\\u0e02\\u0e35\\u0e22\\u0e27\", \"\\u0e0a\\u0e32\\u0e40\\u0e02\\u0e35\\u0e22\\u0e27\", \"\\u0e0a\\u0e34\", \"\\u0e0a\\u0e34\", \"\\u0e0a\\u0e34\", \"\\u0e0a\\u0e34\", \"\\u0e0a\\u0e37\\u0e48\\u0e19\", \"\\u0e0a\\u0e37\\u0e48\\u0e2d\", \"\\u0e0a\\u0e38\\u0e14\", \"\\u0e0a\\u0e38\\u0e14\", \"\\u0e0a\\u0e48\\u0e2d\\u0e07\", \"\\u0e0b\\u0e35\", \"\\u0e0b\\u0e36\\u0e1b\", \"\\u0e0b\\u0e38\\u0e1b\", \"\\u0e0b\\u0e38\\u0e1b\", \"\\u0e0b\\u0e38\\u0e1b\", \"\\u0e0b\\u0e38\\u0e1b\", \"\\u0e0b\\u0e39\\u0e0a\\u0e34\", \"\\u0e0b\\u0e39\\u0e0a\\u0e34\", \"\\u0e0b\\u0e39\\u0e0a\\u0e34\", \"\\u0e0b\\u0e39\\u0e0a\\u0e34\", \"\\u0e0b\\u0e48\\u0e32\", \"\\u0e0d\\u0e35\\u0e48\\u0e1b\\u0e38\\u0e48\\u0e19\", \"\\u0e0d\\u0e35\\u0e48\\u0e1b\\u0e38\\u0e48\\u0e19\", \"\\u0e0d\\u0e35\\u0e48\\u0e1b\\u0e38\\u0e48\\u0e19\", \"\\u0e10\\u0e32\\u0e19\", \"\\u0e14\\u0e31\\u0e07\\u0e40\\u0e14\\u0e34\\u0e21\", \"\\u0e14\\u0e33\", \"\\u0e14\\u0e33\", \"\\u0e14\\u0e33\", \"\\u0e14\\u0e35\", \"\\u0e14\\u0e35\", \"\\u0e14\\u0e35\", \"\\u0e14\\u0e35\", \"\\u0e14\\u0e35\\u0e21\\u0e32\\u0e01\", \"\\u0e14\\u0e35\\u0e21\\u0e32\\u0e01\", \"\\u0e14\\u0e39\", \"\\u0e14\\u0e39\", \"\\u0e15\\u0e31\\u0e27\", \"\\u0e15\\u0e34\\u0e14\\u0e01\\u0e31\\u0e1a\", \"\\u0e15\\u0e48\\u0e32\\u0e07 \\u0e46\", \"\\u0e17\\u0e14\\u0e41\\u0e17\\u0e19\", \"\\u0e17\\u0e2d\\u0e14\", \"\\u0e17\\u0e2d\\u0e14\", \"\\u0e17\\u0e2d\\u0e14\", \"\\u0e17\\u0e2d\\u0e19\", \"\\u0e17\\u0e32\\u0e19\", \"\\u0e17\\u0e32\\u0e19\", \"\\u0e17\\u0e32\\u0e19\", \"\\u0e17\\u0e32\\u0e19\", \"\\u0e17\\u0e32\\u0e19\", \"\\u0e17\\u0e33\\u0e07\\u0e32\\u0e19\", \"\\u0e17\\u0e35\\u0e48\\u0e17\\u0e32\\u0e07\", \"\\u0e18\\u0e23\\u0e23\\u0e21\\u0e14\\u0e32\", \"\\u0e18\\u0e23\\u0e23\\u0e21\\u0e14\\u0e32\", \"\\u0e18\\u0e23\\u0e23\\u0e21\\u0e14\\u0e32\", \"\\u0e19\\u0e30\\u0e04\\u0e30\", \"\\u0e19\\u0e31\\u0e48\\u0e07\", \"\\u0e19\\u0e31\\u0e48\\u0e07\", \"\\u0e19\\u0e32\", \"\\u0e19\\u0e36\\u0e01\\u0e16\\u0e36\\u0e07\", \"\\u0e19\\u0e36\\u0e07\", \"\\u0e19\\u0e38\\u0e48\\u0e21\", \"\\u0e19\\u0e38\\u0e48\\u0e21\", \"\\u0e19\\u0e38\\u0e48\\u0e21\", \"\\u0e19\\u0e38\\u0e48\\u0e21\", \"\\u0e19\\u0e49\\u0e33\", \"\\u0e19\\u0e49\\u0e33\", \"\\u0e19\\u0e49\\u0e33\", \"\\u0e19\\u0e49\\u0e33\", \"\\u0e19\\u0e49\\u0e33\\u0e08\\u0e34\\u0e49\\u0e21\", \"\\u0e19\\u0e49\\u0e33\\u0e08\\u0e34\\u0e49\\u0e21\", \"\\u0e19\\u0e49\\u0e33\\u0e08\\u0e34\\u0e49\\u0e21\", \"\\u0e19\\u0e49\\u0e33\\u0e08\\u0e34\\u0e49\\u0e21\", \"\\u0e19\\u0e4d\\u0e49\\u0e32\", \"\\u0e1a\\u0e23\\u0e34\\u0e01\\u0e32\\u0e23\", \"\\u0e1a\\u0e23\\u0e34\\u0e01\\u0e32\\u0e23\", \"\\u0e1a\\u0e23\\u0e34\\u0e01\\u0e32\\u0e23\", \"\\u0e1a\\u0e32\\u0e07\\u0e2a\\u0e48\\u0e27\\u0e19\", \"\\u0e1a\\u0e32\\u0e17\", \"\\u0e1a\\u0e32\\u0e17\", \"\\u0e1a\\u0e32\\u0e17\", \"\\u0e1a\\u0e32\\u0e17\", \"\\u0e1a\\u0e38\", \"\\u0e1a\\u0e38\", \"\\u0e1a\\u0e38\", \"\\u0e1a\\u0e38\", \"\\u0e1a\\u0e38\\u0e1f\\u0e40\\u0e1f\\u0e15\\u0e4c\", \"\\u0e1a\\u0e38\\u0e1f\\u0e40\\u0e1f\\u0e48\\u0e15\\u0e4c\", \"\\u0e1a\\u0e38\\u0e1f\\u0e40\\u0e1f\\u0e48\\u0e15\\u0e4c\", \"\\u0e1a\\u0e38\\u0e1f\\u0e40\\u0e1f\\u0e48\\u0e15\\u0e4c\", \"\\u0e1a\\u0e38\\u0e1f\\u0e40\\u0e1f\\u0e48\\u0e15\\u0e4c\", \"\\u0e1a\\u0e39\", \"\\u0e1a\\u0e4b\\u0e27\\u0e22\", \"\\u0e1b\\u0e23\\u0e01\\u0e15\\u0e34\", \"\\u0e1b\\u0e23\\u0e30\", \"\\u0e1b\\u0e23\\u0e30\\u0e17\\u0e31\\u0e1a\\u0e43\\u0e08\", \"\\u0e1b\\u0e2d\\u0e01\\u0e40\\u0e1b\\u0e25\\u0e37\\u0e2d\\u0e01\", \"\\u0e1b\\u0e38\\u0e23\\u0e30\", \"\\u0e1b\\u0e38\\u0e23\\u0e30\", \"\\u0e1c\\u0e31\\u0e01\", \"\\u0e1c\\u0e31\\u0e01\", \"\\u0e1c\\u0e31\\u0e01\", \"\\u0e1c\\u0e31\\u0e01\", \"\\u0e1c\\u0e34\\u0e14\\u0e2b\\u0e27\\u0e31\\u0e07\", \"\\u0e1e\\u0e19\\u0e31\\u0e01\\u0e07\\u0e32\\u0e19\", \"\\u0e1e\\u0e19\\u0e31\\u0e01\\u0e07\\u0e32\\u0e19\", \"\\u0e1e\\u0e19\\u0e31\\u0e01\\u0e07\\u0e32\\u0e19\", \"\\u0e1e\\u0e19\\u0e31\\u0e01\\u0e07\\u0e32\\u0e19\", \"\\u0e1e\\u0e19\\u0e31\\u0e01\\u0e07\\u0e32\\u0e19\\u0e1a\\u0e23\\u0e34\\u0e01\\u0e32\\u0e23\", \"\\u0e1e\\u0e23\\u0e30\\u0e23\\u0e32\\u0e21\", \"\\u0e1e\\u0e23\\u0e35\\u0e40\\u0e21\\u0e35\\u0e22\\u0e21\", \"\\u0e1e\\u0e32\\u0e23\\u0e32\", \"\\u0e1e\\u0e32\\u0e23\\u0e32\\u0e44\\u0e14\\u0e0b\\u0e4c\", \"\\u0e1e\\u0e34\\u0e0b\", \"\\u0e1e\\u0e34\\u0e0b\\u0e0b\\u0e48\\u0e32\", \"\\u0e1e\\u0e34\\u0e0b\\u0e0b\\u0e48\\u0e32\", \"\\u0e1f\\u0e23\\u0e35\", \"\\u0e1f\\u0e39\\u0e49\\u0e14\", \"\\u0e1f\\u0e40\\u0e1f\\u0e48\", \"\\u0e1f\\u0e40\\u0e1f\\u0e48\", \"\\u0e1f\\u0e40\\u0e1f\\u0e48\", \"\\u0e21\", \"\\u0e21\", \"\\u0e21\\u0e2d\", \"\\u0e21\\u0e32\\u0e15\\u0e23\\u0e32\", \"\\u0e21\\u0e35\\u0e42\\u0e2d\", \"\\u0e22\\u0e38\\u0e04\", \"\\u0e23\\u0e2a\", \"\\u0e23\\u0e2a\", \"\\u0e23\\u0e2a\", \"\\u0e23\\u0e2a\", \"\\u0e23\\u0e2a\\u0e0a\\u0e32\\u0e15\\u0e34\", \"\\u0e23\\u0e2a\\u0e0a\\u0e32\\u0e15\\u0e34\", \"\\u0e23\\u0e2a\\u0e0a\\u0e32\\u0e15\\u0e34\", \"\\u0e23\\u0e2a\\u0e0a\\u0e32\\u0e15\\u0e34\", \"\\u0e23\\u0e2d\", \"\\u0e23\\u0e2d\", \"\\u0e23\\u0e31\\u0e1a\\u0e1b\\u0e23\\u0e30\\u0e01\\u0e31\\u0e19\", \"\\u0e23\\u0e32\\u0e04\\u0e32\", \"\\u0e23\\u0e32\\u0e04\\u0e32\", \"\\u0e23\\u0e32\\u0e04\\u0e32\", \"\\u0e23\\u0e32\\u0e04\\u0e32\", \"\\u0e23\\u0e32\\u0e22\\u0e25\\u0e30\\u0e40\\u0e2d\\u0e35\\u0e22\\u0e14\", \"\\u0e23\\u0e49\\u0e32\\u0e19\\u0e2d\\u0e32\\u0e2b\\u0e32\\u0e23\", \"\\u0e25\", \"\\u0e25\", \"\\u0e25\\u0e2d\\u0e07\", \"\\u0e25\\u0e2d\\u0e07\", \"\\u0e25\\u0e2d\\u0e07\", \"\\u0e25\\u0e2d\\u0e07\", \"\\u0e25\\u0e2d\\u0e15\\u0e40\\u0e15\\u0e2d\\u0e23\\u0e35\\u0e48\", \"\\u0e25\\u0e32\", \"\\u0e27\\u0e32\\u0e19\\u0e34\\u0e25\\u0e32\", \"\\u0e2a\\u0e14\", \"\\u0e2a\\u0e14\", \"\\u0e2a\\u0e14\", \"\\u0e2a\\u0e14\\u0e46 \\u0e23\\u0e49\\u0e2d\\u0e19\\u0e46\", \"\\u0e2a\\u0e21\\u0e32\\u0e17\\u0e32\\u0e19\", \"\\u0e2a\\u0e23\\u0e38\\u0e1b\", \"\\u0e2a\\u0e31\\u0e1b\\u0e14\\u0e32\\u0e2b\\u0e4c\", \"\\u0e2a\\u0e31\\u0e48\\u0e07\", \"\\u0e2a\\u0e31\\u0e48\\u0e07\", \"\\u0e2a\\u0e31\\u0e48\\u0e07\", \"\\u0e2a\\u0e31\\u0e48\\u0e07\", \"\\u0e2a\\u0e32\\u0e02\\u0e32\", \"\\u0e2a\\u0e32\\u0e02\\u0e32\", \"\\u0e2a\\u0e32\\u0e02\\u0e32\", \"\\u0e2a\\u0e32\\u0e02\\u0e32\", \"\\u0e2a\\u0e32\\u0e22\\u0e1e\\u0e32\\u0e19\", \"\\u0e2a\\u0e32\\u0e22\\u0e1e\\u0e32\\u0e19\", \"\\u0e2a\\u0e33\\u0e2b\\u0e23\\u0e31\\u0e1a\", \"\\u0e2a\\u0e33\\u0e2b\\u0e23\\u0e31\\u0e1a\", \"\\u0e2a\\u0e38\\u0e01\\u0e35\\u0e49\", \"\\u0e2a\\u0e39\\u0e49\", \"\\u0e2a\\u0e44\\u0e15\\u0e25\\u0e4c\", \"\\u0e2a\\u0e44\\u0e25\\u0e14\\u0e4c\", \"\\u0e2a\\u0e48\\u0e27\\u0e19\\u0e15\\u0e31\\u0e27\", \"\\u0e2a\\u0e48\\u0e27\\u0e19\\u0e15\\u0e31\\u0e27\", \"\\u0e2a\\u0e4c\", \"\\u0e2b\\u0e19\\u0e49\\u0e32\", \"\\u0e2b\\u0e19\\u0e49\\u0e32\", \"\\u0e2b\\u0e19\\u0e49\\u0e32\", \"\\u0e2b\\u0e21\\u0e39\", \"\\u0e2b\\u0e21\\u0e39\", \"\\u0e2b\\u0e21\\u0e39\", \"\\u0e2b\\u0e21\\u0e39\", \"\\u0e2b\\u0e21\\u0e49\\u0e2d\", \"\\u0e2b\\u0e21\\u0e49\\u0e2d\", \"\\u0e2b\\u0e25\\u0e31\\u0e07\\u0e08\\u0e32\\u0e01\\u0e17\\u0e35\\u0e48\", \"\\u0e2b\\u0e25\\u0e32\\u0e01\\u0e2b\\u0e25\\u0e32\\u0e22\", \"\\u0e2b\\u0e25\\u0e32\\u0e01\\u0e2b\\u0e25\\u0e32\\u0e22\", \"\\u0e2b\\u0e25\\u0e32\\u0e22\\u0e0a\\u0e19\\u0e34\\u0e14\", \"\\u0e2b\\u0e27\\u0e22\", \"\\u0e2b\\u0e2d\\u0e21\", \"\\u0e2b\\u0e31\\u0e27\", \"\\u0e2d\\u0e22\\u0e48\\u0e32\", \"\\u0e2d\\u0e23\\u0e48\\u0e2d\\u0e22\", \"\\u0e2d\\u0e23\\u0e48\\u0e2d\\u0e22\", \"\\u0e2d\\u0e23\\u0e48\\u0e2d\\u0e22\", \"\\u0e2d\\u0e23\\u0e48\\u0e2d\\u0e22\", \"\\u0e2d\\u0e2d\", \"\\u0e2d\\u0e32\\u0e2b\\u0e32\\u0e23\", \"\\u0e2d\\u0e32\\u0e2b\\u0e32\\u0e23\", \"\\u0e2d\\u0e32\\u0e2b\\u0e32\\u0e23\", \"\\u0e2d\\u0e32\\u0e2b\\u0e32\\u0e23\", \"\\u0e2d\\u0e35\\u0e01\\u0e04\\u0e23\\u0e31\\u0e49\\u0e07\", \"\\u0e2d\\u0e40\\u0e23\\u0e35\\u0e22\", \"\\u0e40\\u0e01\\u0e35\\u0e4a\\u0e22\\u0e27\", \"\\u0e40\\u0e04\\u0e23\\u0e37\\u0e48\\u0e2d\\u0e07\\u0e14\\u0e37\\u0e48\\u0e21\", \"\\u0e40\\u0e04\\u0e49\\u0e32\", \"\\u0e40\\u0e07\\u0e34\\u0e19\\u0e2a\\u0e14\", \"\\u0e40\\u0e08\\u0e2d\", \"\\u0e40\\u0e0a\\u0e47\\u0e04\\u0e1a\\u0e34\\u0e25\", \"\\u0e40\\u0e0b\", \"\\u0e40\\u0e14\\u0e2d\\u0e30\", \"\\u0e40\\u0e14\\u0e2d\\u0e30\", \"\\u0e40\\u0e14\\u0e2d\\u0e30\", \"\\u0e40\\u0e14\\u0e2d\\u0e30\", \"\\u0e40\\u0e14\\u0e49\\u0e07\", \"\\u0e40\\u0e17\", \"\\u0e40\\u0e17\", \"\\u0e40\\u0e19\\u0e37\\u0e49\\u0e2d\", \"\\u0e40\\u0e19\\u0e37\\u0e49\\u0e2d\", \"\\u0e40\\u0e19\\u0e37\\u0e49\\u0e2d\", \"\\u0e40\\u0e19\\u0e37\\u0e49\\u0e2d\", \"\\u0e40\\u0e19\\u0e37\\u0e49\\u0e2d\", \"\\u0e40\\u0e19\\u0e37\\u0e49\\u0e2d\\u0e27\\u0e31\\u0e27\", \"\\u0e40\\u0e19\\u0e37\\u0e49\\u0e2d\\u0e27\\u0e31\\u0e27\", \"\\u0e40\\u0e1b\\u0e47\\u0e14\", \"\\u0e40\\u0e1b\\u0e47\\u0e19\\u0e01\\u0e31\\u0e19\\u0e40\\u0e2d\\u0e07\", \"\\u0e40\\u0e21\\u0e19\\u0e39\", \"\\u0e40\\u0e21\\u0e19\\u0e39\", \"\\u0e40\\u0e21\\u0e19\\u0e39\", \"\\u0e40\\u0e21\\u0e19\\u0e39\", \"\\u0e40\\u0e25\\u0e34\\u0e01\", \"\\u0e40\\u0e25\\u0e37\\u0e2d\\u0e01\", \"\\u0e40\\u0e25\\u0e37\\u0e2d\\u0e01\", \"\\u0e40\\u0e25\\u0e37\\u0e2d\\u0e01\", \"\\u0e40\\u0e25\\u0e37\\u0e2d\\u0e01\", \"\\u0e40\\u0e25\\u0e48\\u0e19\", \"\\u0e40\\u0e27\\u0e25\\u0e32\", \"\\u0e40\\u0e2b\\u0e47\\u0e14\", \"\\u0e41\\u0e01\\u0e07\\u0e40\\u0e02\\u0e35\\u0e22\\u0e27\\u0e2b\\u0e27\\u0e32\\u0e19\", \"\\u0e41\\u0e08\\u0e49\\u0e07\", \"\\u0e41\\u0e19\\u0e30\\u0e19\\u0e33\", \"\\u0e41\\u0e19\\u0e48\\u0e19\\u0e2d\\u0e19\", \"\\u0e41\\u0e1a\\u0e1a\\u0e09\\u0e1a\\u0e31\\u0e1a\", \"\\u0e41\\u0e1a\\u0e48\\u0e07\", \"\\u0e41\\u0e1a\\u0e48\\u0e07\", \"\\u0e41\\u0e1b\\u0e25\\u0e01\", \"\\u0e41\\u0e25\\u0e01\", \"\\u0e42\\u0e14\\u0e19\", \"\\u0e42\\u0e14\\u0e22\\u0e40\\u0e09\\u0e1e\\u0e32\\u0e30\", \"\\u0e42\\u0e15\\u0e4a\\u0e30\", \"\\u0e42\\u0e1b\\u0e23\", \"\\u0e42\\u0e1b\\u0e23\\u0e42\\u0e21\\u0e0a\\u0e31\\u0e48\\u0e19\", \"\\u0e42\\u0e1b\\u0e23\\u0e42\\u0e21\\u0e0a\\u0e31\\u0e48\\u0e19\", \"\\u0e42\\u0e21\", \"\\u0e42\\u0e21\\u0e48\", \"\\u0e43\\u0e08\\u0e14\\u0e35\", \"\\u0e43\\u0e0a\\u0e49\\u0e44\\u0e14\\u0e49\", \"\\u0e43\\u0e2a\", \"\\u0e44\\u0e14\\u0e1f\\u0e39\\u0e01\\u0e38\", \"\\u0e44\\u0e14\\u0e49\\u0e40\\u0e27\\u0e25\\u0e32\", \"\\u0e44\\u0e17\\u0e22\", \"\\u0e44\\u0e1c\\u0e48\", \"\\u0e44\\u0e21\\u0e49\", \"\\u0e44\\u0e25\\u0e19\\u0e4c\", \"\\u0e44\\u0e2d\\u0e15\\u0e34\\u0e21\", \"\\u0e44\\u0e2d\\u0e15\\u0e34\\u0e21\", \"\\u0e44\\u0e2d\\u0e15\\u0e34\\u0e21\", \"\\u0e44\\u0e2d\\u0e15\\u0e34\\u0e21\", \"\\u0e44\\u0e2d\\u0e28\\u0e01\\u0e23\\u0e35\\u0e21\", \"\\u200b\"]}, \"R\": 30, \"lambda.step\": 0.01, \"plot.opts\": {\"xlab\": \"PC1\", \"ylab\": \"PC2\"}, \"topic.order\": [5, 1, 4, 6, 3, 2, 7]};\n",
              "\n",
              "function LDAvis_load_lib(url, callback){\n",
              "  var s = document.createElement('script');\n",
              "  s.src = url;\n",
              "  s.async = true;\n",
              "  s.onreadystatechange = s.onload = callback;\n",
              "  s.onerror = function(){console.warn(\"failed to load library \" + url);};\n",
              "  document.getElementsByTagName(\"head\")[0].appendChild(s);\n",
              "}\n",
              "\n",
              "if(typeof(LDAvis) !== \"undefined\"){\n",
              "   // already loaded: just create the visualization\n",
              "   !function(LDAvis){\n",
              "       new LDAvis(\"#\" + \"ldavis_el3171400149984690723020992480\", ldavis_el3171400149984690723020992480_data);\n",
              "   }(LDAvis);\n",
              "}else if(typeof define === \"function\" && define.amd){\n",
              "   // require.js is available: use it to load d3/LDAvis\n",
              "   require.config({paths: {d3: \"https://d3js.org/d3.v5\"}});\n",
              "   require([\"d3\"], function(d3){\n",
              "      window.d3 = d3;\n",
              "      LDAvis_load_lib(\"https://cdn.jsdelivr.net/gh/bmabey/pyLDAvis@3.3.1/pyLDAvis/js/ldavis.v3.0.0.js\", function(){\n",
              "        new LDAvis(\"#\" + \"ldavis_el3171400149984690723020992480\", ldavis_el3171400149984690723020992480_data);\n",
              "      });\n",
              "    });\n",
              "}else{\n",
              "    // require.js not available: dynamically load d3 & LDAvis\n",
              "    LDAvis_load_lib(\"https://d3js.org/d3.v5.js\", function(){\n",
              "         LDAvis_load_lib(\"https://cdn.jsdelivr.net/gh/bmabey/pyLDAvis@3.3.1/pyLDAvis/js/ldavis.v3.0.0.js\", function(){\n",
              "                 new LDAvis(\"#\" + \"ldavis_el3171400149984690723020992480\", ldavis_el3171400149984690723020992480_data);\n",
              "            })\n",
              "         });\n",
              "}\n",
              "</script>"
            ],
            "text/plain": [
              "PreparedData(topic_coordinates=              x         y  topics  cluster       Freq\n",
              "topic                                                \n",
              "4      0.095816  0.011679       1        1  31.435248\n",
              "0     -0.047426  0.070969       2        1  31.031335\n",
              "3     -0.032506 -0.038519       3        1  18.652791\n",
              "5     -0.021727 -0.045380       4        1  16.493840\n",
              "2     -0.000009 -0.001718       5        1   2.338755\n",
              "1      0.002920  0.001482       6        1   0.024857\n",
              "6      0.002932  0.001488       7        1   0.023175, topic_info=        Term       Freq      Total Category  logprob  loglift\n",
              "118      ทาน  23.000000  23.000000  Default  30.0000  30.0000\n",
              "17       น้ำ  23.000000  23.000000  Default  29.0000  29.0000\n",
              "31     อร่อย  20.000000  20.000000  Default  28.0000  28.0000\n",
              "37     เนื้อ  18.000000  18.000000  Default  27.0000  27.0000\n",
              "58      ชาบู  18.000000  18.000000  Default  26.0000  26.0000\n",
              "..       ...        ...        ...      ...      ...      ...\n",
              "10       ซุป   0.002320  13.959018   Topic7  -4.9549  -0.3326\n",
              "278     ซูชิ   0.001651   7.944251   Topic7  -5.2950  -0.1090\n",
              "22   พนักงาน   0.001466   6.834051   Topic7  -5.4137  -0.0772\n",
              "47     ไอติม   0.001510   7.735136   Topic7  -5.3840  -0.1714\n",
              "338        -   0.001645  12.092905   Topic7  -5.2983  -0.5325\n",
              "\n",
              "[458 rows x 6 columns], token_table=      Topic      Freq         Term\n",
              "term                              \n",
              "87        2  0.922337             \n",
              "49        4  1.023807             \n",
              "248       3  0.932927         !!!!\n",
              "337       1  0.540975            \"\n",
              "337       4  0.270488            \"\n",
              "...     ...       ...          ...\n",
              "47        2  0.387841        ไอติม\n",
              "47        3  0.129280        ไอติม\n",
              "47        4  0.129280        ไอติม\n",
              "183       1  0.767894      ไอศกรีม\n",
              "48        2  0.907451            ​\n",
              "\n",
              "[393 rows x 3 columns], R=30, lambda_step=0.01, plot_opts={'xlab': 'PC1', 'ylab': 'PC2'}, topic_order=[5, 1, 4, 6, 3, 2, 7])"
            ]
          },
          "metadata": {
            "tags": []
          },
          "execution_count": 27
        }
      ]
    },
    {
      "cell_type": "code",
      "metadata": {
        "colab": {
          "base_uri": "https://localhost:8080/"
        },
        "id": "cL507Sc2t2DA",
        "outputId": "4fa7b88f-eb6f-4e29-9b34-1ecf36804242"
      },
      "source": [
        "model.show_topic(2)"
      ],
      "execution_count": 28,
      "outputs": [
        {
          "output_type": "execute_result",
          "data": {
            "text/plain": [
              "[('เนื้อ', 0.01853644),\n",
              " ('ทาน', 0.01683581),\n",
              " ('ชาบู', 0.0151568595),\n",
              " ('อร่อย', 0.0150554245),\n",
              " ('ราคา', 0.014221867),\n",
              " ('ชอบ', 0.012616188),\n",
              " ('น้ำ', 0.011989014),\n",
              " ('รส', 0.011737732),\n",
              " ('ดี', 0.010419513),\n",
              " ('กิน', 0.010364401)]"
            ]
          },
          "metadata": {
            "tags": []
          },
          "execution_count": 28
        }
      ]
    },
    {
      "cell_type": "code",
      "metadata": {
        "id": "E1TXJCLiuDj0"
      },
      "source": [
        "df['topics'] = df['Review_tokenized'].apply(lambda x: model.get_document_topics(dictionary.doc2bow(x.split(',')))[0][0])\n",
        "df['score'] = df['Review_tokenized'].apply(lambda x: model.get_document_topics(dictionary.doc2bow(x.split(',')))[0][1])"
      ],
      "execution_count": 31,
      "outputs": []
    },
    {
      "cell_type": "code",
      "metadata": {
        "colab": {
          "base_uri": "https://localhost:8080/",
          "height": 663
        },
        "id": "h6s6STI6uGyE",
        "outputId": "d24bf0a3-f69d-473c-b2d4-043f67812923"
      },
      "source": [
        "df[['Restaurant', 'Review', 'topics']]"
      ],
      "execution_count": 32,
      "outputs": [
        {
          "output_type": "execute_result",
          "data": {
            "text/html": [
              "<div>\n",
              "<style scoped>\n",
              "    .dataframe tbody tr th:only-of-type {\n",
              "        vertical-align: middle;\n",
              "    }\n",
              "\n",
              "    .dataframe tbody tr th {\n",
              "        vertical-align: top;\n",
              "    }\n",
              "\n",
              "    .dataframe thead th {\n",
              "        text-align: right;\n",
              "    }\n",
              "</style>\n",
              "<table border=\"1\" class=\"dataframe\">\n",
              "  <thead>\n",
              "    <tr style=\"text-align: right;\">\n",
              "      <th></th>\n",
              "      <th>Restaurant</th>\n",
              "      <th>Review</th>\n",
              "      <th>topics</th>\n",
              "    </tr>\n",
              "  </thead>\n",
              "  <tbody>\n",
              "    <tr>\n",
              "      <th>0</th>\n",
              "      <td>Mo-Mo-Paradise (โม โม พาราไดซ์) เดอะมอลล์ บางกะปิ</td>\n",
              "      <td>ที่สำคัญของร้านนี้คือบริการดีมากพนักงานน่ารักส...</td>\n",
              "      <td>0</td>\n",
              "    </tr>\n",
              "    <tr>\n",
              "      <th>1</th>\n",
              "      <td>Mo-Mo-Paradise (โม โม พาราไดซ์) เดอะมอลล์ บางกะปิ</td>\n",
              "      <td>นึกถึงชาบูญี่ปุ่นยังไงก็ต้อง คิดถึงโมโม่ พาราไ...</td>\n",
              "      <td>5</td>\n",
              "    </tr>\n",
              "    <tr>\n",
              "      <th>2</th>\n",
              "      <td>Mo-Mo-Paradise (โม โม พาราไดซ์) เดอะมอลล์ บางกะปิ</td>\n",
              "      <td>มาทานช่วงนี้ สามารถนั่งโต๊ะเดียวกัน หม้อเดียวก...</td>\n",
              "      <td>0</td>\n",
              "    </tr>\n",
              "    <tr>\n",
              "      <th>3</th>\n",
              "      <td>Mo-Mo-Paradise (โม โม พาราไดซ์) เดอะมอลล์ บางกะปิ</td>\n",
              "      <td>ถ้านึกถึงชาบูที่มีเนื้อเน้นๆ ในราคาไม่โหดจนเกิ...</td>\n",
              "      <td>2</td>\n",
              "    </tr>\n",
              "    <tr>\n",
              "      <th>4</th>\n",
              "      <td>Mo-Mo-Paradise (โม โม พาราไดซ์) เดอะมอลล์ บางกะปิ</td>\n",
              "      <td>เดินมาหน้าร้านแล้วได้กลิ่นชาบูหอมมาก ๆ  ประกอบ...</td>\n",
              "      <td>5</td>\n",
              "    </tr>\n",
              "    <tr>\n",
              "      <th>5</th>\n",
              "      <td>Mo-Mo-Paradise (โม โม พาราไดซ์) เดอะมอลล์ บางกะปิ</td>\n",
              "      <td>ร้านบุฟเฟ่ ชาบูแนวญี่ปุ่น สายเนื้อหมู เนื้อวัว...</td>\n",
              "      <td>4</td>\n",
              "    </tr>\n",
              "    <tr>\n",
              "      <th>6</th>\n",
              "      <td>Mo-Mo-Paradise (โม โม พาราไดซ์) เดอะมอลล์ บางกะปิ</td>\n",
              "      <td>Number 20 : โมโม – พาราไดส์ (สาขาเดอะมอลบางกะป...</td>\n",
              "      <td>5</td>\n",
              "    </tr>\n",
              "    <tr>\n",
              "      <th>7</th>\n",
              "      <td>Mo-Mo-Paradise (โม โม พาราไดซ์) เดอะมอลล์ บางกะปิ</td>\n",
              "      <td>ร้านชาบูเฟรนไชส์รสชาติดีมากคุ้มค่าเหมาะสมกับรา...</td>\n",
              "      <td>3</td>\n",
              "    </tr>\n",
              "    <tr>\n",
              "      <th>8</th>\n",
              "      <td>Shabushi (ชาบูชิ) เดอะมอลล์บางกะปิ ชั้น G</td>\n",
              "      <td>มา านที่ขาบูชิต้องมาตอนหิว ไม่งั้นจะไม่คุ้มนะค...</td>\n",
              "      <td>0</td>\n",
              "    </tr>\n",
              "    <tr>\n",
              "      <th>9</th>\n",
              "      <td>Shabushi (ชาบูชิ) เดอะมอลล์บางกะปิ ชั้น G</td>\n",
              "      <td>ใครชอบกุ้งทอดเทมปุระ แค่กุ้งเทมปุระก็คุ้มแล้ว ...</td>\n",
              "      <td>4</td>\n",
              "    </tr>\n",
              "    <tr>\n",
              "      <th>10</th>\n",
              "      <td>Shabushi (ชาบูชิ) เดอะมอลล์บางกะปิ ชั้น G</td>\n",
              "      <td>กลับมาอัพเดทราคาชาบูชิ ตอนนี้อยู่ที่ 399 บาท n...</td>\n",
              "      <td>4</td>\n",
              "    </tr>\n",
              "    <tr>\n",
              "      <th>11</th>\n",
              "      <td>Shabushi (ชาบูชิ) เดอะมอลล์บางกะปิ ชั้น G</td>\n",
              "      <td>ห่างหายไปนานสำหรับชาบูชิ ตั้งแต่ทางร้านได้ปรับ...</td>\n",
              "      <td>4</td>\n",
              "    </tr>\n",
              "    <tr>\n",
              "      <th>12</th>\n",
              "      <td>Shabushi (ชาบูชิ) เดอะมอลล์บางกะปิ ชั้น G</td>\n",
              "      <td>เมื่อหลายวันก่อนนัดหาข้าวทานกับเดอะแกงค์ และก็...</td>\n",
              "      <td>4</td>\n",
              "    </tr>\n",
              "    <tr>\n",
              "      <th>13</th>\n",
              "      <td>Shabushi (ชาบูชิ) เดอะมอลล์บางกะปิ ชั้น G</td>\n",
              "      <td>บอกตรงๆว่าหลายครั้งที่เลือกจะกินบุฟเฟต์จะต้องอ...</td>\n",
              "      <td>4</td>\n",
              "    </tr>\n",
              "    <tr>\n",
              "      <th>14</th>\n",
              "      <td>Shabushi (ชาบูชิ) เดอะมอลล์บางกะปิ ชั้น G</td>\n",
              "      <td>สวัสดีครับวันนี้จะขอมารีวิวร้านชาบูชิ บุฟเฟขวั...</td>\n",
              "      <td>0</td>\n",
              "    </tr>\n",
              "    <tr>\n",
              "      <th>15</th>\n",
              "      <td>Shabushi (ชาบูชิ) เดอะมอลล์บางกะปิ ชั้น G</td>\n",
              "      <td>ชาบูชิ สาขาเดอะมอลล์บางกะปิ ตั้งอยู่ประตูหน้าห...</td>\n",
              "      <td>0</td>\n",
              "    </tr>\n",
              "    <tr>\n",
              "      <th>16</th>\n",
              "      <td>ข้าน้อยขอชาบู</td>\n",
              "      <td>หลังจากที่เคยลองสาขายูเนี่ยนมอลล์ไป รอบนี้มาที...</td>\n",
              "      <td>3</td>\n",
              "    </tr>\n",
              "    <tr>\n",
              "      <th>17</th>\n",
              "      <td>ข้าน้อยขอชาบู</td>\n",
              "      <td>ร้านบุฟเฟ่ต์ที่มีโปรโมชั่นหัวละ199บาท ไม่รวมน้...</td>\n",
              "      <td>3</td>\n",
              "    </tr>\n",
              "    <tr>\n",
              "      <th>18</th>\n",
              "      <td>ข้าน้อยขอชาบู</td>\n",
              "      <td>เคยรู้จักร้านนี้จากที่ union mall ไม่เคยได้ลอง...</td>\n",
              "      <td>5</td>\n",
              "    </tr>\n",
              "    <tr>\n",
              "      <th>19</th>\n",
              "      <td>ข้าน้อยขอชาบู</td>\n",
              "      <td>อร่อยมากค่ะ คุ้มค่าสมราคา บุฟเฟ่หมูผักต่างๆ รว...</td>\n",
              "      <td>3</td>\n",
              "    </tr>\n",
              "    <tr>\n",
              "      <th>20</th>\n",
              "      <td>ข้าน้อยขอชาบู</td>\n",
              "      <td>ก็ตามที่เขียนเลยครับ ว่า ถ้าจะจ่ายในราคา 199 บ...</td>\n",
              "      <td>0</td>\n",
              "    </tr>\n",
              "  </tbody>\n",
              "</table>\n",
              "</div>"
            ],
            "text/plain": [
              "                                           Restaurant  ... topics\n",
              "0   Mo-Mo-Paradise (โม โม พาราไดซ์) เดอะมอลล์ บางกะปิ  ...      0\n",
              "1   Mo-Mo-Paradise (โม โม พาราไดซ์) เดอะมอลล์ บางกะปิ  ...      5\n",
              "2   Mo-Mo-Paradise (โม โม พาราไดซ์) เดอะมอลล์ บางกะปิ  ...      0\n",
              "3   Mo-Mo-Paradise (โม โม พาราไดซ์) เดอะมอลล์ บางกะปิ  ...      2\n",
              "4   Mo-Mo-Paradise (โม โม พาราไดซ์) เดอะมอลล์ บางกะปิ  ...      5\n",
              "5   Mo-Mo-Paradise (โม โม พาราไดซ์) เดอะมอลล์ บางกะปิ  ...      4\n",
              "6   Mo-Mo-Paradise (โม โม พาราไดซ์) เดอะมอลล์ บางกะปิ  ...      5\n",
              "7   Mo-Mo-Paradise (โม โม พาราไดซ์) เดอะมอลล์ บางกะปิ  ...      3\n",
              "8           Shabushi (ชาบูชิ) เดอะมอลล์บางกะปิ ชั้น G  ...      0\n",
              "9           Shabushi (ชาบูชิ) เดอะมอลล์บางกะปิ ชั้น G  ...      4\n",
              "10          Shabushi (ชาบูชิ) เดอะมอลล์บางกะปิ ชั้น G  ...      4\n",
              "11          Shabushi (ชาบูชิ) เดอะมอลล์บางกะปิ ชั้น G  ...      4\n",
              "12          Shabushi (ชาบูชิ) เดอะมอลล์บางกะปิ ชั้น G  ...      4\n",
              "13          Shabushi (ชาบูชิ) เดอะมอลล์บางกะปิ ชั้น G  ...      4\n",
              "14          Shabushi (ชาบูชิ) เดอะมอลล์บางกะปิ ชั้น G  ...      0\n",
              "15          Shabushi (ชาบูชิ) เดอะมอลล์บางกะปิ ชั้น G  ...      0\n",
              "16                                      ข้าน้อยขอชาบู  ...      3\n",
              "17                                      ข้าน้อยขอชาบู  ...      3\n",
              "18                                      ข้าน้อยขอชาบู  ...      5\n",
              "19                                      ข้าน้อยขอชาบู  ...      3\n",
              "20                                      ข้าน้อยขอชาบู  ...      0\n",
              "\n",
              "[21 rows x 3 columns]"
            ]
          },
          "metadata": {
            "tags": []
          },
          "execution_count": 32
        }
      ]
    }
  ]
}