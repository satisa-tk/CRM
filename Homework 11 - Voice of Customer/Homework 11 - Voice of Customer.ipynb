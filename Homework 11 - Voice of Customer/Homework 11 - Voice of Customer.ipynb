{
  "nbformat": 4,
  "nbformat_minor": 0,
  "metadata": {
    "colab": {
      "name": "Homework 11 - Voice of Customer.ipynb",
      "provenance": [],
      "collapsed_sections": []
    },
    "kernelspec": {
      "name": "python3",
      "display_name": "Python 3"
    },
    "language_info": {
      "name": "python"
    }
  },
  "cells": [
    {
      "cell_type": "code",
      "metadata": {
        "colab": {
          "base_uri": "https://localhost:8080/"
        },
        "id": "r0wgxe3vqVe-",
        "outputId": "851d9648-940c-40ba-d132-41ef01b593f5"
      },
      "source": [
        "from google.colab import drive\n",
        "drive.mount('/content/drive')"
      ],
      "execution_count": 40,
      "outputs": [
        {
          "output_type": "stream",
          "text": [
            "Drive already mounted at /content/drive; to attempt to forcibly remount, call drive.mount(\"/content/drive\", force_remount=True).\n"
          ],
          "name": "stdout"
        }
      ]
    },
    {
      "cell_type": "code",
      "metadata": {
        "colab": {
          "base_uri": "https://localhost:8080/"
        },
        "id": "B6vTHqjgqEO0",
        "outputId": "e1956a6b-8e05-4d3b-f119-1b8682cd3adf"
      },
      "source": [
        "%cd '/content/drive/My Drive/HW_CRM'\n",
        "%ls"
      ],
      "execution_count": 41,
      "outputs": [
        {
          "output_type": "stream",
          "text": [
            "/content/drive/My Drive/HW_CRM\n",
            "'Customer Behaviors (Responses).xlsx'   Retail_Data_Response.csv\n",
            "'Customer Preference Survey.csv'        Retail_Data_Transactions.csv\n",
            " CustomerReviews.csv                   'Supermarket Data.csv'\n"
          ],
          "name": "stdout"
        }
      ]
    },
    {
      "cell_type": "code",
      "metadata": {
        "colab": {
          "base_uri": "https://localhost:8080/"
        },
        "id": "XAue08ekpvda",
        "outputId": "fb57d2dc-ed31-47e7-fb32-fd768e58758d"
      },
      "source": [
        "!pip install mlxtend"
      ],
      "execution_count": 42,
      "outputs": [
        {
          "output_type": "stream",
          "text": [
            "Requirement already satisfied: mlxtend in /usr/local/lib/python3.7/dist-packages (0.14.0)\n",
            "Requirement already satisfied: pandas>=0.17.1 in /usr/local/lib/python3.7/dist-packages (from mlxtend) (1.2.4)\n",
            "Requirement already satisfied: scipy>=0.17 in /usr/local/lib/python3.7/dist-packages (from mlxtend) (1.4.1)\n",
            "Requirement already satisfied: setuptools in /usr/local/lib/python3.7/dist-packages (from mlxtend) (57.0.0)\n",
            "Requirement already satisfied: numpy>=1.10.4 in /usr/local/lib/python3.7/dist-packages (from mlxtend) (1.20.3)\n",
            "Requirement already satisfied: scikit-learn>=0.18 in /usr/local/lib/python3.7/dist-packages (from mlxtend) (0.22.2.post1)\n",
            "Requirement already satisfied: matplotlib>=1.5.1 in /usr/local/lib/python3.7/dist-packages (from mlxtend) (3.2.2)\n",
            "Requirement already satisfied: python-dateutil>=2.7.3 in /usr/local/lib/python3.7/dist-packages (from pandas>=0.17.1->mlxtend) (2.8.1)\n",
            "Requirement already satisfied: pytz>=2017.3 in /usr/local/lib/python3.7/dist-packages (from pandas>=0.17.1->mlxtend) (2018.9)\n",
            "Requirement already satisfied: joblib>=0.11 in /usr/local/lib/python3.7/dist-packages (from scikit-learn>=0.18->mlxtend) (1.0.1)\n",
            "Requirement already satisfied: cycler>=0.10 in /usr/local/lib/python3.7/dist-packages (from matplotlib>=1.5.1->mlxtend) (0.10.0)\n",
            "Requirement already satisfied: kiwisolver>=1.0.1 in /usr/local/lib/python3.7/dist-packages (from matplotlib>=1.5.1->mlxtend) (1.3.1)\n",
            "Requirement already satisfied: pyparsing!=2.0.4,!=2.1.2,!=2.1.6,>=2.0.1 in /usr/local/lib/python3.7/dist-packages (from matplotlib>=1.5.1->mlxtend) (2.4.7)\n",
            "Requirement already satisfied: six>=1.5 in /usr/local/lib/python3.7/dist-packages (from python-dateutil>=2.7.3->pandas>=0.17.1->mlxtend) (1.15.0)\n"
          ],
          "name": "stdout"
        }
      ]
    },
    {
      "cell_type": "code",
      "metadata": {
        "colab": {
          "base_uri": "https://localhost:8080/"
        },
        "id": "CUjJrYwdrMGQ",
        "outputId": "ed11aeb6-fe92-4f05-853b-1d8abec2b6cb"
      },
      "source": [
        "!pip install --upgrade pythainlp\n",
        "!pip install pyLDAvis"
      ],
      "execution_count": 43,
      "outputs": [
        {
          "output_type": "stream",
          "text": [
            "Requirement already up-to-date: pythainlp in /usr/local/lib/python3.7/dist-packages (2.3.1)\n",
            "Requirement already satisfied, skipping upgrade: python-crfsuite>=0.9.6 in /usr/local/lib/python3.7/dist-packages (from pythainlp) (0.9.7)\n",
            "Requirement already satisfied, skipping upgrade: tinydb>=3.0 in /usr/local/lib/python3.7/dist-packages (from pythainlp) (4.4.0)\n",
            "Requirement already satisfied, skipping upgrade: requests>=2.22.0 in /usr/local/lib/python3.7/dist-packages (from pythainlp) (2.23.0)\n",
            "Requirement already satisfied, skipping upgrade: idna<3,>=2.5 in /usr/local/lib/python3.7/dist-packages (from requests>=2.22.0->pythainlp) (2.10)\n",
            "Requirement already satisfied, skipping upgrade: certifi>=2017.4.17 in /usr/local/lib/python3.7/dist-packages (from requests>=2.22.0->pythainlp) (2020.12.5)\n",
            "Requirement already satisfied, skipping upgrade: chardet<4,>=3.0.2 in /usr/local/lib/python3.7/dist-packages (from requests>=2.22.0->pythainlp) (3.0.4)\n",
            "Requirement already satisfied, skipping upgrade: urllib3!=1.25.0,!=1.25.1,<1.26,>=1.21.1 in /usr/local/lib/python3.7/dist-packages (from requests>=2.22.0->pythainlp) (1.24.3)\n",
            "Requirement already satisfied: pyLDAvis in /usr/local/lib/python3.7/dist-packages (3.3.1)\n",
            "Requirement already satisfied: setuptools in /usr/local/lib/python3.7/dist-packages (from pyLDAvis) (57.0.0)\n",
            "Requirement already satisfied: numexpr in /usr/local/lib/python3.7/dist-packages (from pyLDAvis) (2.7.3)\n",
            "Requirement already satisfied: numpy>=1.20.0 in /usr/local/lib/python3.7/dist-packages (from pyLDAvis) (1.20.3)\n",
            "Requirement already satisfied: future in /usr/local/lib/python3.7/dist-packages (from pyLDAvis) (0.16.0)\n",
            "Requirement already satisfied: funcy in /usr/local/lib/python3.7/dist-packages (from pyLDAvis) (1.16)\n",
            "Requirement already satisfied: scipy in /usr/local/lib/python3.7/dist-packages (from pyLDAvis) (1.4.1)\n",
            "Requirement already satisfied: sklearn in /usr/local/lib/python3.7/dist-packages (from pyLDAvis) (0.0)\n",
            "Requirement already satisfied: jinja2 in /usr/local/lib/python3.7/dist-packages (from pyLDAvis) (2.11.3)\n",
            "Requirement already satisfied: pandas>=1.2.0 in /usr/local/lib/python3.7/dist-packages (from pyLDAvis) (1.2.4)\n",
            "Requirement already satisfied: scikit-learn in /usr/local/lib/python3.7/dist-packages (from pyLDAvis) (0.22.2.post1)\n",
            "Requirement already satisfied: gensim in /usr/local/lib/python3.7/dist-packages (from pyLDAvis) (3.6.0)\n",
            "Requirement already satisfied: joblib in /usr/local/lib/python3.7/dist-packages (from pyLDAvis) (1.0.1)\n",
            "Requirement already satisfied: MarkupSafe>=0.23 in /usr/local/lib/python3.7/dist-packages (from jinja2->pyLDAvis) (2.0.1)\n",
            "Requirement already satisfied: python-dateutil>=2.7.3 in /usr/local/lib/python3.7/dist-packages (from pandas>=1.2.0->pyLDAvis) (2.8.1)\n",
            "Requirement already satisfied: pytz>=2017.3 in /usr/local/lib/python3.7/dist-packages (from pandas>=1.2.0->pyLDAvis) (2018.9)\n",
            "Requirement already satisfied: smart-open>=1.2.1 in /usr/local/lib/python3.7/dist-packages (from gensim->pyLDAvis) (5.0.0)\n",
            "Requirement already satisfied: six>=1.5.0 in /usr/local/lib/python3.7/dist-packages (from gensim->pyLDAvis) (1.15.0)\n"
          ],
          "name": "stdout"
        }
      ]
    },
    {
      "cell_type": "markdown",
      "metadata": {
        "id": "YBJj6nPuvJYi"
      },
      "source": [
        "# **Load Data**"
      ]
    },
    {
      "cell_type": "code",
      "metadata": {
        "id": "lRr7EJO9rcMw"
      },
      "source": [
        "import pandas as pd\n",
        "import pythainlp\n",
        "import gensim\n",
        "import pyLDAvis.gensim_models\n",
        "pyLDAvis.enable_notebook()\n",
        "import warnings\n",
        "warnings.filterwarnings(\"ignore\", category=DeprecationWarning) "
      ],
      "execution_count": 44,
      "outputs": []
    },
    {
      "cell_type": "code",
      "metadata": {
        "colab": {
          "base_uri": "https://localhost:8080/",
          "height": 305
        },
        "id": "T1OcJSRerj0W",
        "outputId": "05daea50-e439-4bad-e0ca-dacdb5105f40"
      },
      "source": [
        "df = pd.read_csv('CustomerReviews.csv')\n",
        "df.head()"
      ],
      "execution_count": 45,
      "outputs": [
        {
          "output_type": "execute_result",
          "data": {
            "text/html": [
              "<div>\n",
              "<style scoped>\n",
              "    .dataframe tbody tr th:only-of-type {\n",
              "        vertical-align: middle;\n",
              "    }\n",
              "\n",
              "    .dataframe tbody tr th {\n",
              "        vertical-align: top;\n",
              "    }\n",
              "\n",
              "    .dataframe thead th {\n",
              "        text-align: right;\n",
              "    }\n",
              "</style>\n",
              "<table border=\"1\" class=\"dataframe\">\n",
              "  <thead>\n",
              "    <tr style=\"text-align: right;\">\n",
              "      <th></th>\n",
              "      <th>Review ID</th>\n",
              "      <th>Restaurant_ID</th>\n",
              "      <th>Restaurant</th>\n",
              "      <th>User</th>\n",
              "      <th>Headline</th>\n",
              "      <th>Review</th>\n",
              "      <th>Rating</th>\n",
              "    </tr>\n",
              "  </thead>\n",
              "  <tbody>\n",
              "    <tr>\n",
              "      <th>0</th>\n",
              "      <td>1</td>\n",
              "      <td>352696Px-mo-mo-paradise-เดอะมอลล์-บางกะปิ</td>\n",
              "      <td>Mo-Mo-Paradise (โม โม พาราไดซ์) เดอะมอลล์ บางกะปิ</td>\n",
              "      <td>7b16469831074f7abc7824745ee75212</td>\n",
              "      <td>ที่สำคัญของร้านนี้คือบริการดีมากพนักงานน่ารักส...</td>\n",
              "      <td>ที่สำคัญของร้านนี้คือบริการดีมากพนักงานน่ารักส...</td>\n",
              "      <td>5.0</td>\n",
              "    </tr>\n",
              "    <tr>\n",
              "      <th>1</th>\n",
              "      <td>2</td>\n",
              "      <td>352696Px-mo-mo-paradise-เดอะมอลล์-บางกะปิ</td>\n",
              "      <td>Mo-Mo-Paradise (โม โม พาราไดซ์) เดอะมอลล์ บางกะปิ</td>\n",
              "      <td>pakkaramonpondej</td>\n",
              "      <td>รสชาติเหมือนทุกสาขา แต่สาขานี้ บริการดี ที่นั่งดี</td>\n",
              "      <td>นึกถึงชาบูญี่ปุ่นยังไงก็ต้อง คิดถึงโมโม่ พาราไ...</td>\n",
              "      <td>5.0</td>\n",
              "    </tr>\n",
              "    <tr>\n",
              "      <th>2</th>\n",
              "      <td>3</td>\n",
              "      <td>352696Px-mo-mo-paradise-เดอะมอลล์-บางกะปิ</td>\n",
              "      <td>Mo-Mo-Paradise (โม โม พาราไดซ์) เดอะมอลล์ บางกะปิ</td>\n",
              "      <td>saanowy</td>\n",
              "      <td>ชาบูพรีเมี่ยมสไตล์ญี่ปุ่น เนื้อดีมากกก</td>\n",
              "      <td>มาทานช่วงนี้ สามารถนั่งโต๊ะเดียวกัน หม้อเดียวก...</td>\n",
              "      <td>4.0</td>\n",
              "    </tr>\n",
              "    <tr>\n",
              "      <th>3</th>\n",
              "      <td>4</td>\n",
              "      <td>352696Px-mo-mo-paradise-เดอะมอลล์-บางกะปิ</td>\n",
              "      <td>Mo-Mo-Paradise (โม โม พาราไดซ์) เดอะมอลล์ บางกะปิ</td>\n",
              "      <td>ployynp</td>\n",
              "      <td>เนื้อดี ไอติมดี คุ้มค่าดี</td>\n",
              "      <td>ถ้านึกถึงชาบูที่มีเนื้อเน้นๆ ในราคาไม่โหดจนเกิ...</td>\n",
              "      <td>4.0</td>\n",
              "    </tr>\n",
              "    <tr>\n",
              "      <th>4</th>\n",
              "      <td>5</td>\n",
              "      <td>352696Px-mo-mo-paradise-เดอะมอลล์-บางกะปิ</td>\n",
              "      <td>Mo-Mo-Paradise (โม โม พาราไดซ์) เดอะมอลล์ บางกะปิ</td>\n",
              "      <td>665a902b335b434ab489f00f2fbb477e</td>\n",
              "      <td>อาหารมีคุณภาพ บริการดีค่ะ</td>\n",
              "      <td>เดินมาหน้าร้านแล้วได้กลิ่นชาบูหอมมาก ๆ  ประกอบ...</td>\n",
              "      <td>5.0</td>\n",
              "    </tr>\n",
              "  </tbody>\n",
              "</table>\n",
              "</div>"
            ],
            "text/plain": [
              "   Review ID  ... Rating\n",
              "0          1  ...    5.0\n",
              "1          2  ...    5.0\n",
              "2          3  ...    4.0\n",
              "3          4  ...    4.0\n",
              "4          5  ...    5.0\n",
              "\n",
              "[5 rows x 7 columns]"
            ]
          },
          "metadata": {
            "tags": []
          },
          "execution_count": 45
        }
      ]
    },
    {
      "cell_type": "markdown",
      "metadata": {
        "id": "Zv2yUFQxr8_O"
      },
      "source": [
        "# **Tokenize Words**"
      ]
    },
    {
      "cell_type": "code",
      "metadata": {
        "id": "Gxn5-vDErrrq"
      },
      "source": [
        "stopwords = list(pythainlp.corpus.thai_stopwords())\n",
        "removed = [' ', '  ', '\\n', 'ร้าน', '(', ')']\n",
        "screening = stopwords + removed\n",
        "\n",
        "def tokenize_with_space(sentence):\n",
        "  merged = ''\n",
        "  words = pythainlp.word_tokenize(str(sentence), engine='newmm')\n",
        "  for word in words:\n",
        "    if word not in screening:\n",
        "      merged = merged + ',' + word\n",
        "  return merged[1:]"
      ],
      "execution_count": 46,
      "outputs": []
    },
    {
      "cell_type": "code",
      "metadata": {
        "colab": {
          "base_uri": "https://localhost:8080/",
          "height": 305
        },
        "id": "gCpaOjqFsQaQ",
        "outputId": "c66e11af-5687-45cb-eadc-93801ba52c3e"
      },
      "source": [
        "df['Review_tokenized'] = df['Review'].apply(lambda x: tokenize_with_space(x))\n",
        "df.head()"
      ],
      "execution_count": 47,
      "outputs": [
        {
          "output_type": "execute_result",
          "data": {
            "text/html": [
              "<div>\n",
              "<style scoped>\n",
              "    .dataframe tbody tr th:only-of-type {\n",
              "        vertical-align: middle;\n",
              "    }\n",
              "\n",
              "    .dataframe tbody tr th {\n",
              "        vertical-align: top;\n",
              "    }\n",
              "\n",
              "    .dataframe thead th {\n",
              "        text-align: right;\n",
              "    }\n",
              "</style>\n",
              "<table border=\"1\" class=\"dataframe\">\n",
              "  <thead>\n",
              "    <tr style=\"text-align: right;\">\n",
              "      <th></th>\n",
              "      <th>Review ID</th>\n",
              "      <th>Restaurant_ID</th>\n",
              "      <th>Restaurant</th>\n",
              "      <th>User</th>\n",
              "      <th>Headline</th>\n",
              "      <th>Review</th>\n",
              "      <th>Rating</th>\n",
              "      <th>Review_tokenized</th>\n",
              "    </tr>\n",
              "  </thead>\n",
              "  <tbody>\n",
              "    <tr>\n",
              "      <th>0</th>\n",
              "      <td>1</td>\n",
              "      <td>352696Px-mo-mo-paradise-เดอะมอลล์-บางกะปิ</td>\n",
              "      <td>Mo-Mo-Paradise (โม โม พาราไดซ์) เดอะมอลล์ บางกะปิ</td>\n",
              "      <td>7b16469831074f7abc7824745ee75212</td>\n",
              "      <td>ที่สำคัญของร้านนี้คือบริการดีมากพนักงานน่ารักส...</td>\n",
              "      <td>ที่สำคัญของร้านนี้คือบริการดีมากพนักงานน่ารักส...</td>\n",
              "      <td>5.0</td>\n",
              "      <td>บริการ,ดีมาก,พนักงาน,น่ารัก,สะอาดสะอ้าน,ใส่ใจ,...</td>\n",
              "    </tr>\n",
              "    <tr>\n",
              "      <th>1</th>\n",
              "      <td>2</td>\n",
              "      <td>352696Px-mo-mo-paradise-เดอะมอลล์-บางกะปิ</td>\n",
              "      <td>Mo-Mo-Paradise (โม โม พาราไดซ์) เดอะมอลล์ บางกะปิ</td>\n",
              "      <td>pakkaramonpondej</td>\n",
              "      <td>รสชาติเหมือนทุกสาขา แต่สาขานี้ บริการดี ที่นั่งดี</td>\n",
              "      <td>นึกถึงชาบูญี่ปุ่นยังไงก็ต้อง คิดถึงโมโม่ พาราไ...</td>\n",
              "      <td>5.0</td>\n",
              "      <td>นึกถึง,ชาบู,ญี่ปุ่น,คิดถึง,โม,โม่,พาราไดซ์,คุณ...</td>\n",
              "    </tr>\n",
              "    <tr>\n",
              "      <th>2</th>\n",
              "      <td>3</td>\n",
              "      <td>352696Px-mo-mo-paradise-เดอะมอลล์-บางกะปิ</td>\n",
              "      <td>Mo-Mo-Paradise (โม โม พาราไดซ์) เดอะมอลล์ บางกะปิ</td>\n",
              "      <td>saanowy</td>\n",
              "      <td>ชาบูพรีเมี่ยมสไตล์ญี่ปุ่น เนื้อดีมากกก</td>\n",
              "      <td>มาทานช่วงนี้ สามารถนั่งโต๊ะเดียวกัน หม้อเดียวก...</td>\n",
              "      <td>4.0</td>\n",
              "      <td>ทาน,นั่ง,โต๊ะ,หม้อ,โต๊ะ,ยังมี,ฉาก,กั้น,น้ำ,ซุป...</td>\n",
              "    </tr>\n",
              "    <tr>\n",
              "      <th>3</th>\n",
              "      <td>4</td>\n",
              "      <td>352696Px-mo-mo-paradise-เดอะมอลล์-บางกะปิ</td>\n",
              "      <td>Mo-Mo-Paradise (โม โม พาราไดซ์) เดอะมอลล์ บางกะปิ</td>\n",
              "      <td>ployynp</td>\n",
              "      <td>เนื้อดี ไอติมดี คุ้มค่าดี</td>\n",
              "      <td>ถ้านึกถึงชาบูที่มีเนื้อเน้นๆ ในราคาไม่โหดจนเกิ...</td>\n",
              "      <td>4.0</td>\n",
              "      <td>นึกถึง,ชาบู,เนื้อ,ราคา,โหด,เกินไป,นึกถึง,โม,โม...</td>\n",
              "    </tr>\n",
              "    <tr>\n",
              "      <th>4</th>\n",
              "      <td>5</td>\n",
              "      <td>352696Px-mo-mo-paradise-เดอะมอลล์-บางกะปิ</td>\n",
              "      <td>Mo-Mo-Paradise (โม โม พาราไดซ์) เดอะมอลล์ บางกะปิ</td>\n",
              "      <td>665a902b335b434ab489f00f2fbb477e</td>\n",
              "      <td>อาหารมีคุณภาพ บริการดีค่ะ</td>\n",
              "      <td>เดินมาหน้าร้านแล้วได้กลิ่นชาบูหอมมาก ๆ  ประกอบ...</td>\n",
              "      <td>5.0</td>\n",
              "      <td>เดิน,หน้า,ได้กลิ่น,ชาบู,หอ,มมาก,โปร,บัตรเครดิต...</td>\n",
              "    </tr>\n",
              "  </tbody>\n",
              "</table>\n",
              "</div>"
            ],
            "text/plain": [
              "   Review ID  ...                                   Review_tokenized\n",
              "0          1  ...  บริการ,ดีมาก,พนักงาน,น่ารัก,สะอาดสะอ้าน,ใส่ใจ,...\n",
              "1          2  ...  นึกถึง,ชาบู,ญี่ปุ่น,คิดถึง,โม,โม่,พาราไดซ์,คุณ...\n",
              "2          3  ...  ทาน,นั่ง,โต๊ะ,หม้อ,โต๊ะ,ยังมี,ฉาก,กั้น,น้ำ,ซุป...\n",
              "3          4  ...  นึกถึง,ชาบู,เนื้อ,ราคา,โหด,เกินไป,นึกถึง,โม,โม...\n",
              "4          5  ...  เดิน,หน้า,ได้กลิ่น,ชาบู,หอ,มมาก,โปร,บัตรเครดิต...\n",
              "\n",
              "[5 rows x 8 columns]"
            ]
          },
          "metadata": {
            "tags": []
          },
          "execution_count": 47
        }
      ]
    },
    {
      "cell_type": "code",
      "metadata": {
        "id": "FXFcznVasLfZ"
      },
      "source": [
        "documents = df['Review_tokenized'].to_list()\n",
        "texts = [[text for text in doc.split(',')] for doc in documents]\n",
        "dictionary = gensim.corpora.Dictionary(texts)"
      ],
      "execution_count": 48,
      "outputs": []
    },
    {
      "cell_type": "code",
      "metadata": {
        "colab": {
          "base_uri": "https://localhost:8080/"
        },
        "id": "V7USTfV2sbmj",
        "outputId": "03f27f55-b80e-455b-db20-efdc8649f281"
      },
      "source": [
        "print(dictionary.token2id.keys())"
      ],
      "execution_count": 49,
      "outputs": [
        {
          "output_type": "stream",
          "text": [
            "dict_keys(['1', '4', '560', 'กิน', 'ข้างนอก', 'ความต้องการ', 'คอ', 'คุณภาพ', 'คุ้ม', 'จำกัด', 'ซุป', 'ดำ', 'ดี', 'ดีมาก', 'ถาด', 'ถาม', 'น่ารัก', 'น้ำ', 'น้ำจิ้ม', 'บริการ', 'บาท', 'ประทับใจ', 'พนักงาน', 'พอกับ', 'ภาพ', 'รสชาติ', 'ราคา', 'สรุป', 'สะอาดสะอ้าน', 'สัน', 'หลากหลาย', 'อร่อย', 'อันนี้', 'อาหาร', 'เคลม', 'เซ็ท', 'เต้าเจี้ยว', 'เนื้อ', 'เป็ด', 'เผ็ด', 'แบบนี้', 'แปลก', 'แฟน', 'โดยรวม', 'โมจิ', 'ใส่ใจ', 'ไม่ต้อง', 'ไอติม', '\\u200b', '           ', '21', '30', '9', 'CTW', 'Terminal', 'กา', 'การงด', 'คิดถึง', 'ชาบู', 'ญี่ปุ่น', 'ฐาน', 'ทะยอย', 'ทำงาน', 'ที่ทาง', 'นาที', 'นึกถึง', 'พนักงานบริการ', 'พระราม', 'พรีเมียม', 'พาราไดซ์', 'มาตรา', 'มีโอ', 'รายละเอียด', 'ลูกค้า', 'สมาทาน', 'สาขา', 'สู้', 'ออร์เดอร์', 'เครื่องดื่ม', 'เค้า', 'เจอ', 'เป็นกันเอง', 'เหวี่ยง', 'แจ้ง', 'โม', 'โม่', 'โอเค', '', '++', '2', '555', '600', ':', '::', 'กก', 'กรุบ', 'กั้น', 'ของหวาน', 'คนละ', 'คาว', 'คุ', 'คุ้มค่า', 'จาน', 'จิ้ม', 'จืด', 'ฉาก', 'ชอบ', 'ชาเขียว', 'ชิ้น', 'ซอย', 'ซอส', 'ตก', 'ตะ', 'ตัก', 'ตามน้ำ', 'ต่างกัน', 'ถั่ว', 'ถ่ายรูป', 'ทาน', 'นั่ง', 'นุ่ม', 'บด', 'บาร์', 'บู', 'ผัก', 'ภาษา', 'มีชื่อ', 'ยังมี', 'รส', 'รี่', 'รู้สึก', 'ลอง', 'ลิ้น', 'ลืม', 'ววว', 'สด', 'สตอ', 'สั่ง', 'สามรส', 'ส่วนตัว', 'หนึบ', 'หม้อ', 'หวาน', 'อยากได้', 'เข้มข้น', 'เข้ากัน', 'เค็ม', 'เนื้อวัว', 'เนื้อสัตว์', 'เนื้อหมู', 'เบอ', 'เป็นผู้ใหญ่', 'เลือก', 'เสิร์ฟ', 'เหนียว', 'เห็ด', 'แดง', 'แตก', 'แตา', 'แนว', 'แย้', 'โควิด', 'โต๊ะ', 'โร', 'ใส', 'ไก่', 'ไข่', 'ไดฟูกุ', 'ไผ่', 'ไม้', 'ไหว', '3', 'ข้าว', 'จ่าย', 'ถ้วย', 'ธรรมดา', 'ส', 'ออ', 'เกินไป', 'เลี่ยน', 'โปร', 'โหด', 'ไว', 'ไอศกรีม', 'ขนม', 'คุณภาพดี', 'ตัดสินใจ', 'ต่าง ๆ', 'ที่จะ', 'ที่นั่ง', 'บัตรเครดิต', 'มมาก', 'ลูกชิ้น', 'สบายดี', 'หน้า', 'หอ', 'เดิน', 'เด็ก', 'เส้น', 'เหมือนกับ', 'แคบ', 'ได้กลิ่น', 'คามี', 'ซึ', 'นะคะ', 'บุ', 'บ๋วย', 'พอน', 'ฟเฟ่', 'รา', 'สาย', 'หยิบ', 'โซน', 'โปรโมชั่น', '+', '/', '20', '4.0', '5', 'Menu', 'Number', 'กรรมวิธี', 'กะปิ', 'ก์', 'คน', 'คะแนน', 'ชุด', 'ดังเดิม', 'บุฟเฟ่ต์', 'ประ', 'พารา', 'มอ', 'ยุค', 'ร้านอาหาร', 'ล', 'สุกี้', 'สไตล์', 'ส์', 'หมู', 'หลาก', 'หลายชนิด', 'เดอะ', 'เมนู', 'แบบฉบับ', 'แบ่ง', 'ได', 'ไทย', '–', '!!!!', '500', 'กาแฟ', 'งวด', 'ตอนที่', 'ตำ', 'ติด', 'ทั่วไป', 'น', 'บ๊วย', 'ยุ', 'ร้อน', 'ลุย', 'สุกี้ยากี้', 'อยู่แล้ว', 'ออสเตรเลีย', 'เป็นปกติ', 'เฟรนไชส์', 'เรื่อง', 'เหมาะสม', 'แนะนำ', 'โช', 'ไข่ไก่', 'ไอศครีม', '..', '399', 'กุ้ง', 'ของกิน', 'ขา', 'ชิ', 'ซูชิ', 'ซ่า', 'ตอน', 'ตอนนี้', 'นิดนึง', 'ปุระ', 'ปูอัด', 'ม', 'ละลานตา', 'สายพาน', 'หิว', 'ฮ่า', 'าน', 'เกี๊ยว', 'เท', 'เทียบ', 'เล่น', 'แพง', 'แล้วก็', 'ไม่งั้น', 'กลาย', 'กี่', 'ชั่วคราว', 'ชื่นใจ', 'ซะงั้น', 'ญี่', 'ดึก', 'ตบท้าย', 'ตัว', 'ทอด', 'ทานอาหาร', 'นพ', 'นึก', 'น้ะ', 'ปลา', 'ปุ', 'ผิดหวัง', 'วก', 'สมใจ', 'อย่า', 'อาหารเสริม', 'เติม', 'เป็นมา', 'เป็นหลัก', 'เย็น', '1.15', 'net', 'กลับมา', 'ของคาว', 'ชม.', 'ตรงนั้น', 'ยืน', 'ลายตา', 'สไลด์', 'อัพเดท', 'อิ่ม', 'เบ', 'เพลิน', 'ไลน์', '\"', '-', '/คน', '15', '359', 'G', 'Net', 'Shabushi', 'กด', 'กรอ', 'ขาดสารอาหาร', 'ขึ้นราคา', 'ข่าว', 'คนเดียว', 'ครึ่ง', 'คิว', 'งาน', 'จุ', 'ชั่วโมง', 'ชั้น', 'ชื่น', 'ดู', 'ตลับ', 'ตับ', 'ตั้งอยู่', 'ติง', 'ถนนใหญ่', 'ถูกใจ', 'ทำ', 'ทิ้ง', 'น้ำมัน', 'บดี', 'ปลาดิบ', 'ปอกเปลือก', 'ฝรั่ง', 'ฝั่ง', 'มอลล์', 'มื้อ', 'รอ', 'ระดับ', 'รายการ', 'ลด', 'ลา', 'ลูก', 'วันหยุด', 'วาง', 'วานิลา', 'สะอาด', 'สาเหตุ', 'สำหรับ', 'สไปรท์', 'หนา', 'หอม', 'หอย', 'หาไม่', 'ห่างหาย', 'ห้าง', 'อม', 'ออกมา', 'อาทิตย์', 'อีกครั้ง', 'เช็คบิล', 'เด่น', 'เด้ง', 'เบคอน', 'เปรี้ยวหวาน', 'เพื่อน', 'เลิก', 'เวลา', 'เสาร์', 'เหมือน', 'เหมือนกัน', 'แก้ว', 'แถม', 'แน่น', 'แป้ง', 'แย่', 'แออัด', 'โดน', 'โดยประมาณ', 'โฟลต', 'โอ', 'ใจดี', 'ใจมา', 'ใช้ได้', 'ใส่', 'ได้ยิน', 'ชอค', 'ต', 'นัด', 'นิ', 'มะนาว', 'มุ', 'ลงเอย', 'ว', 'วันก่อน', 'ห', 'หา', 'อยุ่', 'อาหารสด', 'เบอร์', 'แกงค์', 'แล', 'โก', 'กินที่', 'ขยัน', 'จอง', 'ชู', 'ณ์', 'บุฟเฟต์', 'ป', 'ประตู', 'พลาด', 'พอได้', 'พี่', 'รอบ', 'ร้อย', 'สาม', 'สุดท้าย', 'หลายครั้ง', 'หล่ะ', 'อาราม', 'เข้าหน้า', 'เต็ม', 'โชคดี', 'ขวัญใจ', 'ข้อดี', 'ต้องการ', 'ทั่วถึง', 'นํ้า', 'บ', 'ฟเฟ', 'มี่', 'ระบบ', 'รีวิว', 'สวัสดี', 'เก้', 'ใช้แล้ว', '^^', 'xx', 'กลยุทธ์', 'ขนาด', 'ข้น', 'ข้าวปั้น', 'ค่า', 'ชอป', 'ซุ้ม', 'ดีขึ้น', 'ตรงข้าม', 'ตรงนี้', 'ต้ม', 'ต้มยำ', 'ท่าน', 'นัล', 'บริเวณ', 'บัตรสมาชิก', 'ปรับปรุง', 'มันดี', 'มากขึ้น', 'ยอด', 'ลาน', 'สลัด', 'หมู่คณะ', 'ออกร้าน', 'อิอิ', 'เครือ', 'เคลื่อนตัว', 'เคาน์เตอร์', 'เบา', 'เป็นแนว', 'แมค', 'โชคชะตา', 'โด', 'โน้น', 'โออิชิ', '199', '39', '40', '49', 'HALL', 'MCC', 'ค่ายมวย', 'ด้านใน', 'ตอนแรก', 'ตัวเลือก', 'ติดกับ', 'ที่ไหนได้', 'นม', 'นา', 'น้ำดื่ม', 'พิซ', 'พิซซ่า', 'ฟี', 'ยู', 'รี', 'หลังจากที่', 'อลล์', 'อเรีย', 'เซ', 'แกงเขียวหวาน', 'แน่นอน', 'แวะ', '10', '300', '6', 'VAT', 'กำ', 'ค่าน้ำ', 'ช่อง', 'ซี', 'ซึป', 'ถูกหวย', 'ทอน', 'นึง', 'ฟรี', 'ฟู้ด', 'รับประกัน', 'ลอตเตอรี่', 'สัปดาห์', 'หวย', 'หัว', 'ฮัน', 'เงิน', 'แลก', 'โทส', 'ได้เวลา', 'Narai', 'mall', 'pizza', 'pizzeria', 'union', 'ของสด', 'ขึ้นใจ', 'ข้าวมันไก่', 'จำได้', 'ชื่อ', 'ตตี้', 'ตัดกำลัง', 'ตู้', 'นิว', 'บางส่วน', 'ปรุง', 'รู้จัก', 'ลี', 'สปา', 'สุก', 'เก', '😆', '🤣', '128', '255', '29', 'ครีม', 'จบ', 'จุก', 'ชาต', 'บรา', 'บุพ', 'ปิดท้าย', 'ย', 'วิป', 'สมราคา', 'สวย', 'เ', 'เซต', 'เด็ด', 'เป้ง', 'เฟ่', 'เรย', 'เริส', 'เเบบ', 'โชค', '%', '7', 'ทดแทน', 'ปรกติ', 'สดๆ ร้อนๆ', 'เงินสด', 'โดยเฉพาะ'])\n"
          ],
          "name": "stdout"
        }
      ]
    },
    {
      "cell_type": "code",
      "metadata": {
        "id": "WuzuKpUIsfDg"
      },
      "source": [
        "gensim_corpus = [dictionary.doc2bow(text, allow_update=True) for text in texts]\n",
        "word_frequencies = [[(dictionary[id], frequence) for id, frequence in couple] for couple in gensim_corpus]"
      ],
      "execution_count": 50,
      "outputs": []
    },
    {
      "cell_type": "markdown",
      "metadata": {
        "id": "UGGqmXvnshsx"
      },
      "source": [
        "# **Topic Modeling**"
      ]
    },
    {
      "cell_type": "code",
      "metadata": {
        "colab": {
          "base_uri": "https://localhost:8080/"
        },
        "id": "c2rrAWCasgKm",
        "outputId": "36f865f4-6fc9-4a37-e238-18675991d352"
      },
      "source": [
        "num_topics = 5\n",
        "chunksize = 4000 # size of the doc looked at every pass\n",
        "passes = 20 # number of passes through documents\n",
        "iterations = 50\n",
        "eval_every = 1  # Don't evaluate model perplexity, takes too much time.\n",
        "\n",
        "# Make a index to word dictionary.\n",
        "temp = dictionary[0]  # This is only to \"load\" the dictionary.\n",
        "id2word = dictionary.id2token\n",
        "\n",
        "%time model = gensim.models.LdaModel(corpus=gensim_corpus, id2word=id2word, chunksize=chunksize, \\\n",
        "                       alpha='auto', eta='auto', \\\n",
        "                       iterations=iterations, num_topics=num_topics, \\\n",
        "                       passes=passes, eval_every=eval_every)"
      ],
      "execution_count": 51,
      "outputs": [
        {
          "output_type": "stream",
          "text": [
            "CPU times: user 325 ms, sys: 126 µs, total: 325 ms\n",
            "Wall time: 330 ms\n"
          ],
          "name": "stdout"
        }
      ]
    },
    {
      "cell_type": "code",
      "metadata": {
        "colab": {
          "base_uri": "https://localhost:8080/",
          "height": 861
        },
        "id": "oX-4xSdWstXh",
        "outputId": "8679a379-1d89-4c15-8783-cad61eb07bf2"
      },
      "source": [
        "pyLDAvis.gensim_models.prepare(model, gensim_corpus, dictionary)"
      ],
      "execution_count": 52,
      "outputs": [
        {
          "output_type": "execute_result",
          "data": {
            "text/html": [
              "\n",
              "<link rel=\"stylesheet\" type=\"text/css\" href=\"https://cdn.jsdelivr.net/gh/bmabey/pyLDAvis@3.3.1/pyLDAvis/js/ldavis.v1.0.0.css\">\n",
              "\n",
              "\n",
              "<div id=\"ldavis_el3341405285744592163251397973\"></div>\n",
              "<script type=\"text/javascript\">\n",
              "\n",
              "var ldavis_el3341405285744592163251397973_data = {\"mdsDat\": {\"x\": [0.0628765993073836, -0.03751206855554183, -0.00871306762379513, -0.010911768285578398, -0.0057396948424682254], \"y\": [-0.010760685384643134, -0.026708554484396338, 0.0479594705642954, -0.006257754057668093, -0.004232476637587833], \"topics\": [1, 2, 3, 4, 5], \"cluster\": [1, 1, 1, 1, 1], \"Freq\": [36.468436978121716, 23.874208339094324, 19.718551885067647, 11.765270869642206, 8.173531928074102]}, \"tinfo\": {\"Term\": [\"\\u200b\", \"\\u0e19\\u0e49\\u0e33\", \"\\u0e2d\\u0e23\\u0e48\\u0e2d\\u0e22\", \"\\u0e01\\u0e34\\u0e19\", \"\", \"\\u0e40\\u0e19\\u0e37\\u0e49\\u0e2d\", \"\\u0e14\\u0e35\", \"\\u0e0a\\u0e32\\u0e1a\\u0e39\", \"\\u0e2a\\u0e32\\u0e02\\u0e32\", \":\", \"\\u0e1a\\u0e23\\u0e34\\u0e01\\u0e32\\u0e23\", \"\\u0e23\\u0e2a\\u0e0a\\u0e32\\u0e15\\u0e34\", \"\\u0e2a\\u0e31\\u0e48\\u0e07\", \"\\u0e23\\u0e32\\u0e04\\u0e32\", \"\\u0e2d\\u0e32\\u0e2b\\u0e32\\u0e23\", \"\\u0e0b\\u0e38\\u0e1b\", \"\\u0e40\\u0e25\\u0e37\\u0e2d\\u0e01\", \"\\u0e14\\u0e35\\u0e21\\u0e32\\u0e01\", \"\\u0e01\\u0e38\\u0e49\\u0e07\", \"\\u0e1a\\u0e32\\u0e17\", \"\\u0e02\\u0e2d\\u0e07\\u0e2b\\u0e27\\u0e32\\u0e19\", \"\\u0e0a\\u0e2d\\u0e1a\", \"\\u0e19\\u0e49\\u0e33\\u0e08\\u0e34\\u0e49\\u0e21\", \"\\u0e1e\\u0e19\\u0e31\\u0e01\\u0e07\\u0e32\\u0e19\", \"\\u0e40\\u0e19\\u0e37\\u0e49\\u0e2d\\u0e27\\u0e31\\u0e27\", \"\\u0e08\\u0e48\\u0e32\\u0e22\", \"\\u0e1c\\u0e31\\u0e01\", \"\\u0e42\\u0e21\", \"\\u0e25\\u0e2d\\u0e07\", \"\\u0e2b\\u0e19\\u0e49\\u0e32\", \"\\u0e01\\u0e38\\u0e49\\u0e07\", \"\\u0e40\\u0e17\", \"\\u0e1b\\u0e38\\u0e23\\u0e30\", \"\\u0e21\", \"\\u0e15\\u0e31\\u0e27\", \"\\\"\", \"\\u0e01\\u0e25\\u0e31\\u0e1a\\u0e21\\u0e32\", \"\\u0e19\\u0e4d\\u0e49\\u0e32\", \"\\u0e43\\u0e0a\\u0e49\\u0e44\\u0e14\\u0e49\", \"\\u0e40\\u0e1b\\u0e47\\u0e19\\u0e2b\\u0e25\\u0e31\\u0e01\", \"\\u0e0a\\u0e37\\u0e48\\u0e2d\", \"\\u0e1a\\u0e32\\u0e07\\u0e2a\\u0e48\\u0e27\\u0e19\", \"\\u0e2d\\u0e22\\u0e48\\u0e32\", \"399\", \"\\u0e1c\\u0e34\\u0e14\\u0e2b\\u0e27\\u0e31\\u0e07\", \"\\u0e15\\u0e2d\\u0e19\\u0e19\\u0e35\\u0e49\", \"\\u0e44\\u0e25\\u0e19\\u0e4c\", \"\\u0e40\\u0e1e\\u0e25\\u0e34\\u0e19\", \"\\u0e19\\u0e34\\u0e14\\u0e19\\u0e36\\u0e07\", \"\\u0e40\\u0e17\\u0e35\\u0e22\\u0e1a\", \"\\u0e0a\\u0e37\\u0e48\\u0e19\", \"\\u0e2b\\u0e2d\\u0e21\", \"\\u0e27\\u0e32\\u0e19\\u0e34\\u0e25\\u0e32\", \"\\u0e40\\u0e0a\\u0e47\\u0e04\\u0e1a\\u0e34\\u0e25\", \"\\u0e2d\\u0e35\\u0e01\\u0e04\\u0e23\\u0e31\\u0e49\\u0e07\", \"\\u0e42\\u0e14\\u0e19\", \"\\u0e40\\u0e14\\u0e49\\u0e07\", \"\\u0e43\\u0e08\\u0e14\\u0e35\", \"\\u0e1b\\u0e2d\\u0e01\\u0e40\\u0e1b\\u0e25\\u0e37\\u0e2d\\u0e01\", \"\\u0e0d\\u0e35\\u0e48\", \"\\u0e40\\u0e27\\u0e25\\u0e32\", \"\\u0e2a\\u0e14\", \"-\", \"\\u0e1a\\u0e38\\u0e1f\\u0e40\\u0e1f\\u0e48\\u0e15\\u0e4c\", \"\\u0e2a\\u0e33\\u0e2b\\u0e23\\u0e31\\u0e1a\", \"\\u0e17\\u0e32\\u0e19\", \"\\u0e01\\u0e34\\u0e19\", \"\\u0e2d\\u0e32\\u0e2b\\u0e32\\u0e23\", \"\\u0e04\\u0e38\\u0e49\\u0e21\", \"\\u0e0a\\u0e34\", \"\\u0e04\\u0e19\", \"\\u0e14\\u0e35\", \"\\u0e2a\\u0e44\\u0e25\\u0e14\\u0e4c\", \"\\u0e0a\\u0e32\\u0e1a\\u0e39\", \"\\u0e40\\u0e21\\u0e19\\u0e39\", \"\\u0e23\\u0e39\\u0e49\\u0e2a\\u0e36\\u0e01\", \"\\u0e40\\u0e25\\u0e37\\u0e2d\\u0e01\", \"\\u0e0b\\u0e39\\u0e0a\\u0e34\", \"\\u0e2d\\u0e23\\u0e48\\u0e2d\\u0e22\", \"\\u0e19\\u0e49\\u0e33\", \"\\u0e1a\\u0e32\\u0e17\", \"\\u0e23\\u0e32\\u0e04\\u0e32\", \"\\u0e40\\u0e19\\u0e37\\u0e49\\u0e2d\", \"\\u0e0b\\u0e38\\u0e1b\", \"\\u0e2a\\u0e32\\u0e02\\u0e32\", \"\\u0e23\\u0e2a\\u0e0a\\u0e32\\u0e15\\u0e34\", \"1\", \"\\u0e19\\u0e38\\u0e48\\u0e21\", \"\\u0e40\\u0e2b\\u0e47\\u0e14\", \"\\u0e40\\u0e01\\u0e34\\u0e19\\u0e44\\u0e1b\", \"\\u0e44\\u0e21\\u0e49\", \"::\", \"\\u0e01\\u0e01\", \"\\u0e44\\u0e14\\u0e1f\\u0e39\\u0e01\\u0e38\", \"\\u0e2d\\u0e22\\u0e32\\u0e01\\u0e44\\u0e14\\u0e49\", \"\\u0e44\\u0e1c\\u0e48\", \"\\u0e40\\u0e02\\u0e49\\u0e21\\u0e02\\u0e49\\u0e19\", \"\\u0e44\\u0e27\", \"\\u0e16\\u0e49\\u0e27\\u0e22\", \"\\u0e2a\", \"\\u0e40\\u0e25\\u0e35\\u0e48\\u0e22\\u0e19\", \"\\u0e42\\u0e2b\\u0e14\", \"\\u0e40\\u0e1f\\u0e48\", \"\\u0e2a\\u0e27\\u0e22\", \"\\u0e40\\u0e40\\u0e1a\\u0e1a\", \"\\u0e42\\u0e0a\\u0e04\", \"\\u0e27\\u0e34\\u0e1b\", \"\\u0e08\\u0e38\\u0e01\", \"\\u0e0a\\u0e32\\u0e15\", \"\\u0e2a\\u0e21\\u0e23\\u0e32\\u0e04\\u0e32\", \"\\u0e04\\u0e23\\u0e35\\u0e21\", \"\\u0e1b\\u0e34\\u0e14\\u0e17\\u0e49\\u0e32\\u0e22\", \"\\u0e1a\\u0e38\\u0e1e\", \"\\u0e40\\u0e23\\u0e34\\u0e2a\", \"\\u0e40\", \"128\", \"\\u0e40\\u0e14\\u0e47\\u0e14\", \"255\", \"\\u0e44\\u0e01\\u0e48\", \"\", \"2\", \"\\u0e08\\u0e48\\u0e32\\u0e22\", \"\\u0e40\\u0e19\\u0e37\\u0e49\\u0e2d\\u0e27\\u0e31\\u0e27\", \"\\u0e23\\u0e2a\", \"\\u0e0b\\u0e38\\u0e1b\", \"\\u0e19\\u0e49\\u0e33\", \"\\u0e02\\u0e2d\\u0e07\\u0e2b\\u0e27\\u0e32\\u0e19\", \"\\u0e19\\u0e36\\u0e01\\u0e16\\u0e36\\u0e07\", \"\\u0e2a\\u0e31\\u0e48\\u0e07\", \"\\u0e40\\u0e19\\u0e37\\u0e49\\u0e2d\\u0e2b\\u0e21\\u0e39\", \"\\u0e0a\\u0e32\\u0e40\\u0e02\\u0e35\\u0e22\\u0e27\", \"\\u0e1e\\u0e34\\u0e0b\\u0e0b\\u0e48\\u0e32\", \"\\u0e40\\u0e2a\\u0e34\\u0e23\\u0e4c\\u0e1f\", \"\\u0e40\\u0e1b\\u0e47\\u0e14\", \"\\u0e2d\\u0e23\\u0e48\\u0e2d\\u0e22\", \":\", \"\\u0e04\\u0e19\\u0e25\\u0e30\", \"\\u0e0a\\u0e2d\\u0e1a\", \"\\u0e23\\u0e32\\u0e04\\u0e32\", \"\\u0e40\\u0e19\\u0e37\\u0e49\\u0e2d\", \"\\u0e23\\u0e2a\\u0e0a\\u0e32\\u0e15\\u0e34\", \"\\u0e17\\u0e32\\u0e19\", \"\\u0e0a\\u0e32\\u0e1a\\u0e39\", \"\\u0e1a\\u0e32\\u0e17\", \"\\u0e40\\u0e25\\u0e37\\u0e2d\\u0e01\", \"\\u0e14\\u0e33\", \"\\u0e44\\u0e2d\\u0e15\\u0e34\\u0e21\", \"\\u0e25\\u0e2d\\u0e07\", \"\\u0e14\\u0e35\", \"\\u0e19\\u0e38\\u0e48\\u0e21\", \"-\", \"\\u0e2a\\u0e32\\u0e02\\u0e32\", \"\\u0e01\\u0e34\\u0e19\", \"\\u0e04\\u0e38\\u0e49\\u0e21\", \"\\u0e2d\\u0e32\\u0e2b\\u0e32\\u0e23\", \"\\u0e2a\\u0e38\\u0e01\\u0e35\\u0e49\", \"\\u0e1a\\u0e38\\u0e1f\\u0e40\\u0e1f\\u0e15\\u0e4c\", \"\\u0e2b\\u0e25\\u0e32\\u0e01\", \"\\u0e0a\\u0e39\", \"\\u0e1b\\u0e23\\u0e30\\u0e15\\u0e39\", \"\\u0e04\\u0e48\\u0e32\", \"\\u0e2a\\u0e44\\u0e15\\u0e25\\u0e4c\", \"Menu\", \"\\u0e04\\u0e30\\u0e41\\u0e19\\u0e19\", \"Number\", \"\\u0e2b\\u0e25\\u0e32\\u0e22\\u0e0a\\u0e19\\u0e34\\u0e14\", \"\\u0e23\\u0e49\\u0e32\\u0e19\\u0e2d\\u0e32\\u0e2b\\u0e32\\u0e23\", \"\\u0e44\\u0e14\", \"\\u0e1e\\u0e32\\u0e23\\u0e32\", \"\\u0e14\\u0e31\\u0e07\\u0e40\\u0e14\\u0e34\\u0e21\", \"\\u2013\", \"4.0\", \"\\u0e01\\u0e4c\", \"\\u0e41\\u0e1a\\u0e1a\\u0e09\\u0e1a\\u0e31\\u0e1a\", \"\\u0e01\\u0e23\\u0e23\\u0e21\\u0e27\\u0e34\\u0e18\\u0e35\", \"\\u0e1b\\u0e23\\u0e30\", \"\\u0e44\\u0e17\\u0e22\", \"\\u0e2a\\u0e4c\", \"\\u0e22\\u0e38\\u0e04\", \"20\", \"\\u0e21\\u0e2d\", \"\\u0e2a\\u0e32\\u0e21\", \"\\u0e40\\u0e15\\u0e47\\u0e21\", \"\\u0e23\\u0e49\\u0e2d\\u0e22\", \"\\u0e42\\u0e0a\\u0e04\\u0e14\\u0e35\", \":\", \"\\u0e42\\u0e21\", \"\\u0e23\\u0e2d\", \"\\u0e40\\u0e14\\u0e2d\\u0e30\", \"\\u0e01\\u0e30\\u0e1b\\u0e34\", \"\\u0e2b\\u0e21\\u0e49\\u0e2d\", \"\\u0e04\\u0e34\\u0e27\", \"\\u0e2b\\u0e49\\u0e32\\u0e07\", \"\\u0e04\\u0e19\", \"\\u0e2b\\u0e19\\u0e49\\u0e32\", \"\\u0e40\\u0e25\\u0e37\\u0e2d\\u0e01\", \"/\", \"\\u0e1c\\u0e31\\u0e01\", \"G\", \"\\u0e2a\\u0e32\\u0e22\\u0e1e\\u0e32\\u0e19\", \"\\u0e14\\u0e33\", \"\\u0e1a\\u0e32\\u0e17\", \"\\u0e23\\u0e32\\u0e04\\u0e32\", \"\\u0e2d\\u0e32\\u0e2b\\u0e32\\u0e23\", \"\\u0e19\\u0e49\\u0e33\", \"\\u0e17\\u0e32\\u0e19\", \"\\u0e2a\\u0e32\\u0e02\\u0e32\", \"\\u0e0a\\u0e34\", \"\\u0e23\\u0e2a\\u0e0a\\u0e32\\u0e15\\u0e34\", \"\\u0e0a\\u0e32\\u0e1a\\u0e39\", \"\\u0e40\\u0e19\\u0e37\\u0e49\\u0e2d\", \"\\u0e14\\u0e35\", \"\\u0e01\\u0e34\\u0e19\", \"\\u0e2d\\u0e23\\u0e48\\u0e2d\\u0e22\", \"\\u0e19\\u0e49\\u0e33\\u0e08\\u0e34\\u0e49\\u0e21\", \"3\", \"\\u0e0b\\u0e38\\u0e1b\", \"\\u0e40\\u0e21\\u0e19\\u0e39\", \"\\u200b\", \"\\u0e1b\\u0e23\\u0e30\\u0e17\\u0e31\\u0e1a\\u0e43\\u0e08\", \"\\u0e15\\u0e48\\u0e32\\u0e07 \\u0e46\", \"\\u0e2a\\u0e31\\u0e19\", \"\\u0e40\\u0e04\\u0e25\\u0e21\", \"\\u0e16\\u0e32\\u0e21\", \"\\u0e02\\u0e49\\u0e32\\u0e07\\u0e19\\u0e2d\\u0e01\", \"\\u0e43\\u0e2a\\u0e48\\u0e43\\u0e08\", \"\\u0e1e\\u0e2d\\u0e01\\u0e31\\u0e1a\", \"\\u0e2a\\u0e30\\u0e2d\\u0e32\\u0e14\\u0e2a\\u0e30\\u0e2d\\u0e49\\u0e32\\u0e19\", \"\\u0e40\\u0e1c\\u0e47\\u0e14\", \"\\u0e44\\u0e21\\u0e48\\u0e15\\u0e49\\u0e2d\\u0e07\", \"\\u0e42\\u0e21\\u0e08\\u0e34\", \"\\u0e40\\u0e15\\u0e49\\u0e32\\u0e40\\u0e08\\u0e35\\u0e49\\u0e22\\u0e27\", \"\\u0e1a\\u0e4a\\u0e27\\u0e22\", \"\\u0e08\\u0e33\\u0e01\\u0e31\\u0e14\", \"\\u0e41\\u0e1a\\u0e1a\\u0e19\\u0e35\\u0e49\", \"\\u0e20\\u0e32\\u0e1e\", \"\\u0e2a\\u0e38\\u0e01\\u0e35\\u0e49\\u0e22\\u0e32\\u0e01\\u0e35\\u0e49\", \"\\u0e23\\u0e49\\u0e2d\\u0e19\", \"\\u0e40\\u0e2b\\u0e21\\u0e37\\u0e2d\\u0e19\\u0e01\\u0e31\\u0e1a\", \"\\u0e41\\u0e1f\\u0e19\", \"\\u0e40\\u0e2a\\u0e49\\u0e19\", \"\\u0e2d\\u0e2d\\u0e2a\\u0e40\\u0e15\\u0e23\\u0e40\\u0e25\\u0e35\\u0e22\", \"\\u0e41\\u0e04\\u0e1a\", \"\\u0e04\\u0e27\\u0e32\\u0e21\\u0e15\\u0e49\\u0e2d\\u0e07\\u0e01\\u0e32\\u0e23\", \"\\u0e17\\u0e35\\u0e48\\u0e08\\u0e30\", \"\\u0e44\\u0e2d\\u0e28\\u0e04\\u0e23\\u0e35\\u0e21\", \"\\u0e15\\u0e31\\u0e14\\u0e2a\\u0e34\\u0e19\\u0e43\\u0e08\", \"560\", \"\\u0e14\\u0e35\\u0e21\\u0e32\\u0e01\", \"\\u0e1a\\u0e23\\u0e34\\u0e01\\u0e32\\u0e23\", \"\\u0e04\\u0e2d\", \"\\u0e19\\u0e31\\u0e48\\u0e07\", \"\\u0e01\\u0e34\\u0e19\", \"\\u0e23\\u0e2a\\u0e0a\\u0e32\\u0e15\\u0e34\", \"\\u0e2b\\u0e25\\u0e32\\u0e01\\u0e2b\\u0e25\\u0e32\\u0e22\", \"\\u0e40\\u0e19\\u0e37\\u0e49\\u0e2d\", \"\\u0e19\\u0e49\\u0e33\", \"\\u0e0a\\u0e32\\u0e1a\\u0e39\", \"\\u0e2d\\u0e23\\u0e48\\u0e2d\\u0e22\", \"\\u0e14\\u0e35\", \"\\u0e41\\u0e19\\u0e30\\u0e19\\u0e33\", \"\\u0e2d\\u0e32\\u0e2b\\u0e32\\u0e23\", \"\\u0e0b\\u0e38\\u0e1b\", \"\\u0e19\\u0e49\\u0e33\\u0e08\\u0e34\\u0e49\\u0e21\", \"\\u0e2a\\u0e32\\u0e02\\u0e32\", \"\\u0e23\\u0e32\\u0e04\\u0e32\", \"\\u0e40\\u0e25\\u0e37\\u0e2d\\u0e01\", \"\\u0e1a\\u0e32\\u0e17\", \"\\u0e1e\\u0e19\\u0e31\\u0e01\\u0e07\\u0e32\\u0e19\", \"\\u0e44\\u0e2d\\u0e15\\u0e34\\u0e21\", \"\\u0e2a\\u0e31\\u0e48\\u0e07\", \"\\u0e0a\\u0e2d\\u0e1a\", \"\\u0e1c\\u0e31\\u0e01\", \"\\u0e17\\u0e32\\u0e19\", \"\\u0e04\\u0e38\\u0e49\\u0e21\", \"\\u0e2b\\u0e19\\u0e49\\u0e32\", \"1\", \"\\u0e21\\u0e32\\u0e15\\u0e23\\u0e32\", \"\\u0e1e\\u0e23\\u0e35\\u0e40\\u0e21\\u0e35\\u0e22\\u0e21\", \"\\u0e1e\\u0e23\\u0e30\\u0e23\\u0e32\\u0e21\", \"\\u0e41\\u0e08\\u0e49\\u0e07\", \"\\u0e1e\\u0e32\\u0e23\\u0e32\\u0e44\\u0e14\\u0e0b\\u0e4c\", \"\\u0e2d\\u0e2d\\u0e23\\u0e4c\\u0e40\\u0e14\\u0e2d\\u0e23\\u0e4c\", \"21\", \"\\u0e2a\\u0e21\\u0e32\\u0e17\\u0e32\\u0e19\", \"\\u0e40\\u0e1b\\u0e47\\u0e19\\u0e01\\u0e31\\u0e19\\u0e40\\u0e2d\\u0e07\", \"\\u0e42\\u0e14\\u0e22\\u0e40\\u0e09\\u0e1e\\u0e32\\u0e30\", \"\\u0e17\\u0e35\\u0e48\\u0e17\\u0e32\\u0e07\", \"\\u0e10\\u0e32\\u0e19\", \"7\", \"\\u0e21\\u0e35\\u0e42\\u0e2d\", \"30\", \"\\u0e17\\u0e33\\u0e07\\u0e32\\u0e19\", \"\\u0e40\\u0e04\\u0e49\\u0e32\", \"\\u0e2a\\u0e39\\u0e49\", \"Terminal\", \"\\u0e1e\\u0e19\\u0e31\\u0e01\\u0e07\\u0e32\\u0e19\\u0e1a\\u0e23\\u0e34\\u0e01\\u0e32\\u0e23\", \"\\u0e40\\u0e07\\u0e34\\u0e19\\u0e2a\\u0e14\", \"\\u0e40\\u0e04\\u0e23\\u0e37\\u0e48\\u0e2d\\u0e07\\u0e14\\u0e37\\u0e48\\u0e21\", \"\\u0e40\\u0e08\\u0e2d\", \"\\u0e17\\u0e30\\u0e22\\u0e2d\\u0e22\", \"\\u0e40\\u0e2b\\u0e27\\u0e35\\u0e48\\u0e22\\u0e07\", \"9\", \"\\u0e01\\u0e32\\u0e23\\u0e07\\u0e14\", \"\\u0e04\\u0e34\\u0e14\\u0e16\\u0e36\\u0e07\", \"           \", \"\\u0e17\\u0e14\\u0e41\\u0e17\\u0e19\", \"\", \"\\u0e2a\\u0e31\\u0e48\\u0e07\", \"\\u0e2a\\u0e32\\u0e02\\u0e32\", \"\\u0e0d\\u0e35\\u0e48\\u0e1b\\u0e38\\u0e48\\u0e19\", \"\\u0e14\\u0e35\", \"\\u0e2d\\u0e23\\u0e48\\u0e2d\\u0e22\", \"\\u0e42\\u0e2d\\u0e40\\u0e04\", \"\\u0e0a\\u0e32\\u0e1a\\u0e39\", \"\\u0e23\\u0e32\\u0e04\\u0e32\", \"\\u0e40\\u0e19\\u0e37\\u0e49\\u0e2d\\u0e27\\u0e31\\u0e27\", \"\\u0e08\\u0e48\\u0e32\\u0e22\", \"\\u0e1e\\u0e19\\u0e31\\u0e01\\u0e07\\u0e32\\u0e19\", \"\\u0e1a\\u0e23\\u0e34\\u0e01\\u0e32\\u0e23\", \"\\u0e2d\\u0e32\\u0e2b\\u0e32\\u0e23\", \"\\u0e0a\\u0e2d\\u0e1a\", \"\\u0e19\\u0e49\\u0e33\", \"\\u0e25\\u0e2d\\u0e07\", \"\\u0e02\\u0e2d\\u0e07\\u0e2b\\u0e27\\u0e32\\u0e19\", \"\\u0e0b\\u0e39\\u0e0a\\u0e34\", \"\\u0e40\\u0e19\\u0e37\\u0e49\\u0e2d\", \"\\u0e01\\u0e34\\u0e19\", \"\\u0e40\\u0e25\\u0e37\\u0e2d\\u0e01\", \"\\u0e1a\\u0e32\\u0e17\", \"\\u0e44\\u0e2d\\u0e15\\u0e34\\u0e21\", \"\\u0e19\\u0e49\\u0e33\\u0e08\\u0e34\\u0e49\\u0e21\", \"\\u0e17\\u0e32\\u0e19\", \"\\u0e1c\\u0e31\\u0e01\", \"\\u0e04\\u0e38\\u0e49\\u0e21\", \"\\u0e2b\\u0e19\\u0e49\\u0e32\", \"\\u0e23\\u0e2a\\u0e0a\\u0e32\\u0e15\\u0e34\", \"\\u0e0b\\u0e38\\u0e1b\"], \"Freq\": [5.0, 24.0, 20.0, 20.0, 7.0, 18.0, 19.0, 19.0, 12.0, 11.0, 6.0, 13.0, 8.0, 17.0, 16.0, 15.0, 18.0, 4.0, 9.0, 14.0, 8.0, 8.0, 6.0, 7.0, 4.0, 4.0, 6.0, 5.0, 6.0, 5.0, 8.004393839047788, 4.352162031950979, 4.3550745636578965, 4.358996039946844, 2.618640425870901, 2.6206988271501075, 2.6295931655735196, 1.3471556347615368, 2.028817065975664, 1.3563164367994665, 1.371735637197195, 1.3721290628868652, 1.3746185082483795, 1.376962423481965, 1.37762110706844, 1.3781703114865977, 1.3816342179035563, 1.3913117905531707, 1.3924768755790007, 1.3966701206404017, 1.396665418341322, 1.4046874199995596, 1.4059983968686325, 1.4066938548453465, 1.4072996074242319, 1.4086460323940595, 1.409182938491547, 1.409790258503459, 1.4113439463481083, 0.7361230974401759, 3.4844337610182294, 5.592589463928251, 7.53926701072284, 4.197271676274469, 2.8480315967311305, 10.151738020201144, 9.3205741034817, 7.5648190627785175, 4.78140718343158, 3.7127971781001112, 4.544369833124177, 7.627463814549227, 2.2350177034924084, 6.547333658759519, 3.2399313300641075, 2.228292933521318, 6.2654846039400605, 3.4790714520625463, 6.654325190292249, 6.655618684254486, 4.670014299960229, 5.105690267433553, 5.185432578658139, 4.502605218415782, 3.895449184112683, 3.339415098543087, 2.7108896469298394, 2.694930526140342, 1.6343306320620006, 1.1072652736430817, 1.133316726243412, 1.136649663428074, 1.1374313348772087, 1.1376192738573552, 1.1379485025369815, 1.1382244515813291, 1.1388374436518107, 0.6094543026990751, 0.610458761956468, 0.6105409309939869, 0.6107479322436441, 0.6107691651649626, 0.6177916578930859, 0.6181490261134188, 0.6185286533813793, 0.6188920599603771, 0.6188937964818233, 0.6195112087887131, 0.6196182021896323, 0.6196694295722929, 0.6201915305316286, 0.6202168284917868, 0.6202408240608606, 0.6203222432368458, 0.6203590653847829, 0.6207659244663304, 0.6209380768878756, 0.6210657901469587, 2.3229215322382286, 3.6010043160312404, 3.0242897572150333, 1.8990656945073146, 1.9056257989340109, 2.5050322728146437, 5.955550587518339, 8.625494618910233, 3.3685649215753446, 1.2796814096497544, 3.475185443980294, 1.2977028713520378, 1.2957821207670392, 2.00163680676549, 1.2996926881309163, 1.3060332015274712, 6.327665663702903, 3.912148545586548, 1.8988367894075981, 2.970901826144241, 5.069539142234328, 5.138999684348095, 4.094876382738681, 5.4964755690106655, 4.864482796596768, 3.7964204417934395, 4.1752722739954455, 2.2038844078967386, 2.5243509160371813, 2.2315200416526917, 3.9107072327862658, 2.194271814498929, 2.9268573276471095, 2.7147911185283062, 2.9945652460249796, 2.050819356490529, 2.0182141140869425, 0.976054903577303, 0.9977207504665447, 1.002142295992471, 1.0085001501448836, 1.0100949106452406, 1.0161305139124734, 0.5377926892355689, 0.537824177638875, 0.5379896058446495, 0.5381105069708008, 0.538121655039052, 0.5381487102924101, 0.5381497859832063, 0.5381556859842398, 0.5381574462055426, 0.53816227051578, 0.5382256710793724, 0.5382819003709903, 0.5382835628022208, 0.5383388467898057, 0.5384610191868979, 0.5384741556532875, 0.5384830219531832, 0.5384895412913417, 0.5385253324578325, 0.5390871364236499, 0.548106705959456, 0.5481625114940936, 0.5485640375312818, 0.548644160197251, 4.75071003883644, 2.2434669830550376, 2.1878885821588585, 2.258835410056597, 1.7946951718446582, 1.8046743227640287, 1.7310576955035801, 1.7341526861009944, 2.9071549048415672, 1.9908473233327235, 4.573985384674242, 1.1478004132208688, 2.080199416333061, 1.1631242479494237, 1.7875992634193105, 1.9795692594786334, 3.4090224225905668, 3.7274300275389547, 3.4614910991850927, 4.446980854138904, 4.110269294602902, 2.8470476501133715, 1.8858990176555648, 2.8512403668699307, 3.54315650133615, 3.375631676409844, 3.5088684334512776, 3.5099386480033936, 2.7956658775766474, 1.7030680906004954, 1.4957897758374354, 2.049603771194457, 1.5408035892476013, 3.8426032032275557, 0.7205828179220108, 0.7213326990037857, 0.7261643324164538, 0.39526395971102535, 0.3953825994713435, 0.39553220226419056, 0.3956906349670679, 0.395763024670003, 0.3957947267698913, 0.3959014247576135, 0.3961108920065686, 0.39633599636491657, 0.39633700772025043, 0.396365597957573, 0.3964676670497287, 0.3965887574018173, 0.39660151603833677, 0.3967665225508842, 0.396922504661991, 0.39705114128080155, 0.39706510576406523, 0.3970853717690245, 0.3970794592301496, 0.397152549102162, 0.39718292866045984, 0.39729822316851987, 0.3974172519116587, 0.39749080856305596, 0.39748384577056517, 1.6202096048322716, 1.7854758023107875, 0.8372264739973778, 0.8305740120009416, 3.6925127815164243, 2.6311837355276047, 0.8350907249219588, 3.006398742693325, 3.4780880243078136, 2.831162293147364, 2.8866135057647333, 2.511650715059965, 0.873140479868375, 2.1823204326120713, 2.057519340006921, 1.2188736232898814, 1.742587801243751, 2.0776717619825362, 2.0933278537369397, 1.8499269882476095, 0.9745922562875798, 1.0320037089316614, 1.0533470407111785, 1.02424007860957, 0.8985950488765956, 1.4668262101540932, 1.0229948668038964, 0.8347320049646951, 0.8270253995241206, 0.2985212806634171, 0.29875408632420897, 0.2987955941007588, 0.2988106460744165, 0.2989786769042254, 0.2991520042992712, 0.29920480781188724, 0.2992757980000359, 0.29928495889603224, 0.29933570863845443, 0.29935805690095874, 0.29938929582653917, 0.29939105234052077, 0.2993994025377564, 0.29950057774309646, 0.299557137493304, 0.29956470401507085, 0.29958910604776906, 0.2996866060853938, 0.29971081895504786, 0.2997610552549216, 0.29977640448479154, 0.29977878253448975, 0.2997819172363646, 0.2998525831450089, 0.29985715008136105, 0.29986666228015374, 0.2998886862631538, 0.30008044354336033, 0.30008990169556893, 1.3169209017626637, 1.2549692481440962, 1.5558673354342447, 0.7246401687700679, 1.9175323752206024, 1.9784781138168464, 0.7292220219794225, 1.7108712089966491, 1.586343771806914, 0.7100193787599114, 0.7067450745584589, 0.9694469816432714, 0.9125206875027663, 1.4409886187084764, 1.0073053166517159, 1.7542191636401385, 0.8698982542035532, 0.9766302050360819, 0.9369711459402863, 1.3939618211819262, 1.4671378693758306, 1.3729726140800846, 1.187149324522635, 0.7878605659491903, 0.7052133943665047, 1.119965529195433, 0.686048691848996, 0.7810267537222578, 0.6373882822729748, 0.8821801242423967, 0.8948810714939578], \"Total\": [5.0, 24.0, 20.0, 20.0, 7.0, 18.0, 19.0, 19.0, 12.0, 11.0, 6.0, 13.0, 8.0, 17.0, 16.0, 15.0, 18.0, 4.0, 9.0, 14.0, 8.0, 8.0, 6.0, 7.0, 4.0, 4.0, 6.0, 5.0, 6.0, 5.0, 9.640556282686441, 5.333451329419395, 5.343560096625065, 5.357286473701502, 3.5071658302318287, 3.5129451238947724, 3.5465460613496105, 1.882805857332794, 2.8576033293835192, 1.9147606435157942, 1.968454700519953, 1.969813160449112, 1.9785804784804473, 1.9865586590156226, 1.9890993423695162, 1.9907869731708248, 2.00289188718422, 2.0374637292281856, 2.0408574325697675, 2.0556560619329187, 2.056398964847596, 2.0858257948705807, 2.089747140338758, 2.092610559984726, 2.0948299625200697, 2.100032017746274, 2.101846186087033, 2.1039268274920575, 2.1099052457171403, 1.1580434425167752, 5.527408813328105, 9.126260270532335, 12.66869188506298, 7.014402594050806, 4.771247052481093, 22.345274623164237, 20.984728648402328, 16.6678333273711, 9.652981778333789, 7.140694464935772, 9.462585235417672, 19.47622257106734, 3.9816085169130626, 19.497006458836452, 6.941414178250614, 4.00655666937623, 18.481042730426772, 7.804523960393867, 20.642748351153376, 24.960401345251572, 14.912533477114481, 17.566674970996285, 18.10042450329133, 15.460159988629458, 12.755743089432356, 13.7988957079217, 6.387185342564634, 6.956835299023212, 2.47247774434051, 1.7233855693813007, 1.8348193640763582, 1.849211092367426, 1.852547688367567, 1.853410838289192, 1.8548235700134212, 1.8559919349161313, 1.8585759210364905, 1.0995693426279969, 1.1039016881458605, 1.104256234087809, 1.1051508601699664, 1.1052419975042171, 1.1352002045278824, 1.1367317378971475, 1.1383619215216012, 1.1399224843553433, 1.139928283422078, 1.1425793362248124, 1.1430494497874883, 1.1432679647545625, 1.1455099126388846, 1.1456165351899654, 1.1457244842838386, 1.1460655955423764, 1.146231065827974, 1.1479789144643031, 1.1487179891028394, 1.1492670046226776, 4.474597007296806, 7.263650280478485, 6.260306032306146, 4.051404149113188, 4.079691280960774, 5.662115018667102, 15.460159988629458, 24.960401345251572, 8.290440447342071, 2.6833987622020437, 8.858763838444567, 2.7607240816669814, 2.8220905332821156, 4.827697944741837, 2.838816626434007, 2.8662861496721526, 20.642748351153376, 11.399278418938755, 4.7296162593484015, 8.546051881988806, 17.566674970996285, 18.10042450329133, 13.7988957079217, 22.345274623164237, 19.497006458836452, 14.912533477114481, 18.481042730426772, 6.432482227792905, 8.32477324555522, 6.5981052887503475, 19.47622257106734, 6.956835299023212, 12.66869188506298, 12.755743089432356, 20.984728648402328, 9.652981778333789, 16.6678333273711, 1.5421412107620631, 1.6457896211607823, 1.66666958443495, 1.696931248949364, 1.704620705373666, 1.7334904680220504, 1.0072292061299928, 1.007379091378826, 1.0081662521454864, 1.0087419480741808, 1.0087947958799888, 1.0089235526517886, 1.0089285023380845, 1.0089568355491725, 1.0089652639612283, 1.008988266601698, 1.0092899123193082, 1.0095573744471071, 1.0095653784882146, 1.0098284170137237, 1.01041033099785, 1.0104726394764278, 1.0105148176581427, 1.0105459724484136, 1.010716128467379, 1.0133902622728923, 1.0564819324881978, 1.05674951600055, 1.0586813540589388, 1.0590651480922226, 11.399278418938755, 5.15165053913221, 5.334015444621986, 5.565198438740121, 4.906650576631338, 4.955343652410053, 4.710720058869836, 4.725519142235731, 9.462585235417672, 5.899884199977372, 18.481042730426772, 2.8162760337999386, 6.6770148835305525, 2.996112300316175, 5.5446055995369665, 6.432482227792905, 14.912533477114481, 17.566674970996285, 16.6678333273711, 24.960401345251572, 22.345274623164237, 12.755743089432356, 7.140694464935772, 13.7988957079217, 19.497006458836452, 18.10042450329133, 19.47622257106734, 20.984728648402328, 20.642748351153376, 6.726135593495446, 5.259344791791557, 15.460159988629458, 6.941414178250614, 5.53612846889667, 1.454061738072974, 1.4590768767343039, 1.4913358906773824, 0.9588604296656459, 0.9595980030569583, 0.9606260787744835, 0.9616899517756331, 0.9621642821659657, 0.9623971512945673, 0.9630938445284133, 0.9644929204451337, 0.9660037335979892, 0.9660153561586452, 0.9662257813312394, 0.9669157177706448, 0.9677067810269158, 0.9677948315541929, 0.9689101595875013, 0.9699541915560698, 0.9708100302228371, 0.9709185829198633, 0.9710180694208128, 0.9710337668429769, 0.9714772667624987, 0.9717167375935932, 0.9724330720361676, 0.9733146209346157, 0.9737277615876897, 0.973711191467584, 4.966992203494549, 6.771667463253748, 2.639917133835289, 2.642654252946176, 20.984728648402328, 13.7988957079217, 2.778225983633003, 18.10042450329133, 24.960401345251572, 19.497006458836452, 20.642748351153376, 19.47622257106734, 3.5956957756250683, 16.6678333273711, 15.460159988629458, 6.726135593495446, 12.755743089432356, 17.566674970996285, 18.481042730426772, 14.912533477114481, 7.251687614553801, 8.32477324555522, 8.858763838444567, 8.546051881988806, 6.6770148835305525, 22.345274623164237, 9.652981778333789, 5.899884199977372, 6.387185342564634, 0.8606297615295578, 0.8626727594240672, 0.8630372106791662, 0.8631692725224263, 0.8646448135224601, 0.8661677700568375, 0.8666319665856641, 0.8672559677812153, 0.8673360876962929, 0.867799226849342, 0.8679781229286014, 0.8682540178023671, 0.8682861386516006, 0.8683423589736372, 0.8692332877270591, 0.8697312902729644, 0.869797173694707, 0.8700122316332346, 0.8708698446659007, 0.8710844960461166, 0.8715461598950069, 0.8716624415308607, 0.8716826862674122, 0.87171096070373, 0.8723329528587234, 0.8723741808947197, 0.8724577720147897, 0.8726511037763637, 0.874343015684355, 0.8744483993077063, 7.263650280478485, 8.858763838444567, 12.755743089432356, 3.7010917202673372, 19.47622257106734, 20.642748351153376, 3.8466314934141943, 19.497006458836452, 17.566674970996285, 4.079691280960774, 4.051404149113188, 7.251687614553801, 6.771667463253748, 16.6678333273711, 8.546051881988806, 24.960401345251572, 6.5981052887503475, 8.290440447342071, 7.804523960393867, 18.10042450329133, 20.984728648402328, 18.481042730426772, 14.912533477114481, 8.32477324555522, 6.726135593495446, 22.345274623164237, 6.6770148835305525, 9.652981778333789, 5.899884199977372, 13.7988957079217, 15.460159988629458], \"Category\": [\"Default\", \"Default\", \"Default\", \"Default\", \"Default\", \"Default\", \"Default\", \"Default\", \"Default\", \"Default\", \"Default\", \"Default\", \"Default\", \"Default\", \"Default\", \"Default\", \"Default\", \"Default\", \"Default\", \"Default\", \"Default\", \"Default\", \"Default\", \"Default\", \"Default\", \"Default\", \"Default\", \"Default\", \"Default\", \"Default\", \"Topic1\", \"Topic1\", \"Topic1\", \"Topic1\", \"Topic1\", \"Topic1\", \"Topic1\", \"Topic1\", \"Topic1\", \"Topic1\", \"Topic1\", \"Topic1\", \"Topic1\", \"Topic1\", \"Topic1\", \"Topic1\", \"Topic1\", \"Topic1\", \"Topic1\", \"Topic1\", \"Topic1\", \"Topic1\", \"Topic1\", \"Topic1\", \"Topic1\", \"Topic1\", \"Topic1\", \"Topic1\", \"Topic1\", \"Topic1\", \"Topic1\", \"Topic1\", \"Topic1\", \"Topic1\", \"Topic1\", \"Topic1\", \"Topic1\", \"Topic1\", \"Topic1\", \"Topic1\", \"Topic1\", \"Topic1\", \"Topic1\", \"Topic1\", \"Topic1\", \"Topic1\", \"Topic1\", \"Topic1\", \"Topic1\", \"Topic1\", \"Topic1\", \"Topic1\", \"Topic1\", \"Topic1\", \"Topic1\", \"Topic1\", \"Topic1\", \"Topic1\", \"Topic2\", \"Topic2\", \"Topic2\", \"Topic2\", \"Topic2\", \"Topic2\", \"Topic2\", \"Topic2\", \"Topic2\", \"Topic2\", \"Topic2\", \"Topic2\", \"Topic2\", \"Topic2\", \"Topic2\", \"Topic2\", \"Topic2\", \"Topic2\", \"Topic2\", \"Topic2\", \"Topic2\", \"Topic2\", \"Topic2\", \"Topic2\", \"Topic2\", \"Topic2\", \"Topic2\", \"Topic2\", \"Topic2\", \"Topic2\", \"Topic2\", \"Topic2\", \"Topic2\", \"Topic2\", \"Topic2\", \"Topic2\", \"Topic2\", \"Topic2\", \"Topic2\", \"Topic2\", \"Topic2\", \"Topic2\", \"Topic2\", \"Topic2\", \"Topic2\", \"Topic2\", \"Topic2\", \"Topic2\", \"Topic2\", \"Topic2\", \"Topic2\", \"Topic2\", \"Topic2\", \"Topic2\", \"Topic2\", \"Topic2\", \"Topic2\", \"Topic2\", \"Topic2\", \"Topic2\", \"Topic2\", \"Topic2\", \"Topic2\", \"Topic2\", \"Topic2\", \"Topic2\", \"Topic2\", \"Topic3\", \"Topic3\", \"Topic3\", \"Topic3\", \"Topic3\", \"Topic3\", \"Topic3\", \"Topic3\", \"Topic3\", \"Topic3\", \"Topic3\", \"Topic3\", \"Topic3\", \"Topic3\", \"Topic3\", \"Topic3\", \"Topic3\", \"Topic3\", \"Topic3\", \"Topic3\", \"Topic3\", \"Topic3\", \"Topic3\", \"Topic3\", \"Topic3\", \"Topic3\", \"Topic3\", \"Topic3\", \"Topic3\", \"Topic3\", \"Topic3\", \"Topic3\", \"Topic3\", \"Topic3\", \"Topic3\", \"Topic3\", \"Topic3\", \"Topic3\", \"Topic3\", \"Topic3\", \"Topic3\", \"Topic3\", \"Topic3\", \"Topic3\", \"Topic3\", \"Topic3\", \"Topic3\", \"Topic3\", \"Topic3\", \"Topic3\", \"Topic3\", \"Topic3\", \"Topic3\", \"Topic3\", \"Topic3\", \"Topic3\", \"Topic3\", \"Topic3\", \"Topic3\", \"Topic3\", \"Topic3\", \"Topic3\", \"Topic3\", \"Topic4\", \"Topic4\", \"Topic4\", \"Topic4\", \"Topic4\", \"Topic4\", \"Topic4\", \"Topic4\", \"Topic4\", \"Topic4\", \"Topic4\", \"Topic4\", \"Topic4\", \"Topic4\", \"Topic4\", \"Topic4\", \"Topic4\", \"Topic4\", \"Topic4\", \"Topic4\", \"Topic4\", \"Topic4\", \"Topic4\", \"Topic4\", \"Topic4\", \"Topic4\", \"Topic4\", \"Topic4\", \"Topic4\", \"Topic4\", \"Topic4\", \"Topic4\", \"Topic4\", \"Topic4\", \"Topic4\", \"Topic4\", \"Topic4\", \"Topic4\", \"Topic4\", \"Topic4\", \"Topic4\", \"Topic4\", \"Topic4\", \"Topic4\", \"Topic4\", \"Topic4\", \"Topic4\", \"Topic4\", \"Topic4\", \"Topic4\", \"Topic4\", \"Topic4\", \"Topic4\", \"Topic4\", \"Topic4\", \"Topic4\", \"Topic4\", \"Topic4\", \"Topic4\", \"Topic5\", \"Topic5\", \"Topic5\", \"Topic5\", \"Topic5\", \"Topic5\", \"Topic5\", \"Topic5\", \"Topic5\", \"Topic5\", \"Topic5\", \"Topic5\", \"Topic5\", \"Topic5\", \"Topic5\", \"Topic5\", \"Topic5\", \"Topic5\", \"Topic5\", \"Topic5\", \"Topic5\", \"Topic5\", \"Topic5\", \"Topic5\", \"Topic5\", \"Topic5\", \"Topic5\", \"Topic5\", \"Topic5\", \"Topic5\", \"Topic5\", \"Topic5\", \"Topic5\", \"Topic5\", \"Topic5\", \"Topic5\", \"Topic5\", \"Topic5\", \"Topic5\", \"Topic5\", \"Topic5\", \"Topic5\", \"Topic5\", \"Topic5\", \"Topic5\", \"Topic5\", \"Topic5\", \"Topic5\", \"Topic5\", \"Topic5\", \"Topic5\", \"Topic5\", \"Topic5\", \"Topic5\", \"Topic5\", \"Topic5\", \"Topic5\", \"Topic5\", \"Topic5\", \"Topic5\", \"Topic5\"], \"logprob\": [30.0, 29.0, 28.0, 27.0, 26.0, 25.0, 24.0, 23.0, 22.0, 21.0, 20.0, 19.0, 18.0, 17.0, 16.0, 15.0, 14.0, 13.0, 12.0, 11.0, 10.0, 9.0, 8.0, 7.0, 6.0, 5.0, 4.0, 3.0, 2.0, 1.0, -4.1697, -4.779, -4.7783, -4.7774, -5.287, -5.2862, -5.2829, -5.9517, -5.5422, -5.9449, -5.9336, -5.9333, -5.9315, -5.9298, -5.9293, -5.9289, -5.9264, -5.9194, -5.9186, -5.9156, -5.9156, -5.9099, -5.9089, -5.9084, -5.908, -5.9071, -5.9067, -5.9062, -5.9051, -6.556, -5.0014, -4.5282, -4.2296, -4.8153, -5.2031, -3.932, -4.0175, -4.2262, -4.685, -4.9379, -4.7358, -4.2179, -5.4454, -4.3706, -5.0741, -5.4485, -4.4146, -5.0029, -4.3544, -4.3542, -4.7085, -4.6193, -4.6038, -4.745, -4.8899, -5.0439, -5.2524, -5.2583, -5.3348, -5.7241, -5.7009, -5.698, -5.6973, -5.6971, -5.6968, -5.6966, -5.696, -6.3212, -6.3196, -6.3195, -6.3191, -6.3191, -6.3076, -6.3071, -6.3065, -6.3059, -6.3059, -6.3049, -6.3047, -6.3046, -6.3038, -6.3037, -6.3037, -6.3036, -6.3035, -6.3028, -6.3026, -6.3024, -4.9832, -4.5448, -4.7194, -5.1847, -5.1812, -4.9077, -4.0417, -3.6713, -4.6116, -5.5794, -4.5804, -5.5654, -5.5669, -5.1321, -5.5639, -5.559, -3.9811, -4.462, -5.1848, -4.7372, -4.2028, -4.1892, -4.4163, -4.1219, -4.2441, -4.492, -4.3969, -5.0358, -4.9001, -5.0234, -4.4623, -5.0402, -4.7521, -4.8273, -4.7292, -5.1078, -5.1238, -5.659, -5.6371, -5.6327, -5.6263, -5.6248, -5.6188, -6.2551, -6.255, -6.2547, -6.2545, -6.2545, -6.2544, -6.2544, -6.2544, -6.2544, -6.2544, -6.2543, -6.2542, -6.2542, -6.2541, -6.2538, -6.2538, -6.2538, -6.2538, -6.2537, -6.2527, -6.2361, -6.236, -6.2353, -6.2351, -4.0765, -4.8268, -4.8519, -4.82, -5.05, -5.0444, -5.0861, -5.0843, -4.5676, -4.9462, -4.1144, -5.497, -4.9023, -5.4837, -5.0539, -4.9519, -4.4084, -4.3191, -4.3931, -4.1426, -4.2213, -4.5885, -5.0004, -4.587, -4.3698, -4.4182, -4.3795, -4.3792, -4.6067, -5.1024, -5.2321, -4.9172, -5.2025, -3.7722, -5.4461, -5.445, -5.4384, -6.0466, -6.0463, -6.0459, -6.0455, -6.0453, -6.0453, -6.045, -6.0445, -6.0439, -6.0439, -6.0438, -6.0436, -6.0432, -6.0432, -6.0428, -6.0424, -6.0421, -6.042, -6.042, -6.042, -6.0418, -6.0418, -6.0415, -6.0412, -6.041, -6.041, -4.6358, -4.5387, -5.2961, -5.304, -3.8121, -4.151, -5.2986, -4.0177, -3.8719, -4.0777, -4.0583, -4.1975, -5.2541, -4.338, -4.3969, -4.9205, -4.563, -4.3871, -4.3796, -4.5032, -5.1441, -5.0869, -5.0664, -5.0944, -5.2253, -4.7353, -5.0957, -5.299, -5.3083, -5.9631, -5.9623, -5.9621, -5.9621, -5.9615, -5.9609, -5.9608, -5.9605, -5.9605, -5.9603, -5.9603, -5.9602, -5.9601, -5.9601, -5.9598, -5.9596, -5.9596, -5.9595, -5.9592, -5.9591, -5.9589, -5.9589, -5.9589, -5.9588, -5.9586, -5.9586, -5.9586, -5.9585, -5.9578, -5.9578, -4.4788, -4.527, -4.3121, -5.0762, -4.1031, -4.0718, -5.0699, -4.2171, -4.2927, -5.0966, -5.1012, -4.7852, -4.8457, -4.3888, -4.7469, -4.1921, -4.8935, -4.7778, -4.8192, -4.422, -4.3708, -4.4372, -4.5826, -4.9926, -5.1034, -4.6408, -5.1309, -5.0013, -5.2045, -4.8795, -4.8652], \"loglift\": [30.0, 29.0, 28.0, 27.0, 26.0, 25.0, 24.0, 23.0, 22.0, 21.0, 20.0, 19.0, 18.0, 17.0, 16.0, 15.0, 14.0, 13.0, 12.0, 11.0, 10.0, 9.0, 8.0, 7.0, 6.0, 5.0, 4.0, 3.0, 2.0, 1.0, 0.8227, 0.8054, 0.8042, 0.8025, 0.7166, 0.7157, 0.7096, 0.674, 0.6662, 0.6639, 0.6476, 0.6471, 0.6445, 0.6422, 0.6414, 0.6409, 0.6374, 0.6273, 0.6264, 0.6222, 0.6219, 0.6134, 0.6124, 0.6116, 0.6109, 0.6094, 0.6089, 0.6084, 0.6066, 0.5556, 0.5473, 0.519, 0.4897, 0.4952, 0.4927, 0.2198, 0.1972, 0.2188, 0.3062, 0.3547, 0.2753, 0.0713, 0.4313, -0.0825, 0.2468, 0.422, -0.073, 0.2008, -0.1234, -0.3131, -0.1523, -0.2269, -0.2414, -0.2249, -0.1774, -0.4101, 0.1517, 0.0604, 1.0184, 0.99, 0.9506, 0.9457, 0.9446, 0.9443, 0.9438, 0.9434, 0.9426, 0.8423, 0.84, 0.8398, 0.8393, 0.8393, 0.824, 0.8232, 0.8224, 0.8216, 0.8216, 0.8203, 0.82, 0.8199, 0.8188, 0.8187, 0.8187, 0.8185, 0.8184, 0.8176, 0.8172, 0.8169, 0.7768, 0.7307, 0.7048, 0.6747, 0.6712, 0.6169, 0.4784, 0.3698, 0.5318, 0.6919, 0.4966, 0.6775, 0.654, 0.552, 0.6511, 0.6463, 0.2499, 0.3629, 0.5198, 0.3758, 0.1896, 0.1733, 0.2175, 0.0299, 0.0441, 0.0642, -0.0552, 0.3612, 0.2391, 0.3483, -0.1731, 0.2785, -0.0328, -0.1149, -0.5146, -0.1167, -0.6789, 1.1662, 1.1231, 1.1149, 1.1033, 1.1003, 1.0895, 0.9961, 0.996, 0.9956, 0.9952, 0.9952, 0.9951, 0.9951, 0.9951, 0.9951, 0.9951, 0.9949, 0.9947, 0.9947, 0.9946, 0.9942, 0.9942, 0.9942, 0.9941, 0.994, 0.9924, 0.9674, 0.9672, 0.9661, 0.9659, 0.7484, 0.7923, 0.7324, 0.7219, 0.6179, 0.6135, 0.6225, 0.6212, 0.4434, 0.5372, 0.2272, 0.726, 0.4574, 0.6774, 0.4917, 0.4451, 0.1478, 0.0733, 0.0518, -0.1015, -0.0695, 0.1239, 0.2922, 0.0468, -0.0816, -0.0557, -0.0903, -0.1646, -0.3757, 0.25, 0.3663, -0.397, 0.1184, 1.7749, 1.438, 1.4356, 1.4204, 1.2538, 1.2534, 1.2527, 1.252, 1.2516, 1.2515, 1.251, 1.2501, 1.2491, 1.2491, 1.249, 1.2485, 1.248, 1.2479, 1.2472, 1.2465, 1.246, 1.2459, 1.2458, 1.2458, 1.2455, 1.2454, 1.2449, 1.2443, 1.2441, 1.2441, 1.0198, 0.807, 0.9916, 0.9826, 0.4025, 0.4829, 0.938, 0.3448, 0.1692, 0.2104, 0.1727, 0.0918, 0.7246, 0.1069, 0.1233, 0.4319, 0.1494, 0.0053, -0.038, 0.053, 0.133, 0.0523, 0.0106, 0.0185, 0.1344, -0.5835, -0.1045, 0.1844, 0.0958, 1.4454, 1.4439, 1.4436, 1.4435, 1.4423, 1.4411, 1.4408, 1.4403, 1.4402, 1.4399, 1.4397, 1.4395, 1.4395, 1.4395, 1.4388, 1.4384, 1.4383, 1.4382, 1.4375, 1.4373, 1.437, 1.4369, 1.4369, 1.4369, 1.4364, 1.4364, 1.4363, 1.4361, 1.4348, 1.4348, 0.7967, 0.55, 0.4003, 0.8736, 0.1861, 0.1592, 0.8413, 0.071, 0.0997, 0.7558, 0.7581, 0.492, 0.5, 0.0561, 0.3661, -0.151, 0.4781, 0.3655, 0.3845, -0.0595, -0.1562, -0.0955, -0.0264, 0.1466, 0.249, -0.489, 0.2288, -0.0101, 0.279, -0.2457, -0.3451]}, \"token.table\": {\"Topic\": [1, 2, 3, 4, 5, 1, 1, 2, 3, 4, 5, 2, 3, 1, 2, 3, 4, 2, 1, 2, 3, 4, 3, 2, 1, 2, 3, 5, 1, 3, 1, 2, 3, 4, 5, 2, 1, 3, 3, 3, 2, 3, 1, 1, 2, 3, 1, 2, 3, 4, 5, 1, 2, 3, 1, 2, 3, 4, 5, 1, 2, 3, 4, 1, 2, 2, 3, 4, 3, 1, 2, 3, 1, 2, 3, 4, 5, 3, 2, 1, 2, 5, 1, 2, 3, 4, 5, 2, 1, 2, 3, 4, 5, 2, 4, 1, 2, 3, 1, 1, 3, 1, 2, 3, 4, 5, 1, 2, 3, 4, 5, 1, 1, 2, 3, 5, 3, 1, 2, 3, 4, 1, 2, 3, 4, 5, 1, 2, 3, 4, 1, 1, 4, 2, 1, 2, 3, 4, 5, 2, 4, 1, 2, 1, 2, 3, 4, 1, 2, 3, 4, 5, 1, 2, 3, 4, 5, 1, 1, 2, 3, 4, 5, 1, 1, 2, 3, 4, 5, 2, 3, 1, 2, 3, 3, 3, 4, 1, 2, 1, 1, 2, 3, 4, 5, 1, 1, 2, 3, 4, 5, 3, 1, 2, 3, 5, 1, 3, 3, 1, 2, 3, 1, 2, 3, 4, 5, 1, 2, 3, 1, 2, 3, 4, 5, 1, 2, 3, 3, 1, 2, 3, 4, 5, 1, 2, 2, 1, 2, 3, 4, 2, 2, 4, 1, 2, 3, 4, 5, 1, 2, 3, 4, 5, 3, 1, 2, 3, 1, 2, 3, 3, 1, 3, 3, 1, 2, 3, 4, 5, 1, 2, 3, 3, 1, 4, 3, 1, 1, 2, 3, 2, 1, 1, 2, 3, 4, 5, 1, 2, 3, 4, 5, 1, 2, 2, 2, 1, 1, 2, 3, 2, 1, 3, 1, 1, 1, 2, 3, 4, 5, 1, 2, 5, 2, 2, 4, 1, 1, 2, 1, 2, 3, 4, 2, 2, 1, 2, 3, 4, 5, 1, 2, 3, 2, 4, 2, 2, 1, 4, 3, 2, 3, 1, 1, 2, 3, 5, 2, 1, 2, 3, 5, 1, 1, 1, 2, 3, 2, 3, 2, 2, 1, 2, 1, 2, 3, 4, 5, 1, 4, 3], \"Freq\": [0.13767182633882616, 0.5506873053553046, 0.13767182633882616, 0.13767182633882616, 0.13767182633882616, 0.8539843049623063, 0.6314779830925085, 0.2368042436596907, 0.07893474788656356, 0.07893474788656356, 0.07893474788656356, 0.35507883034132925, 0.35507883034132925, 0.4696904566097053, 0.15656348553656843, 0.15656348553656843, 0.15656348553656843, 0.8710961389623114, 0.15973659991053568, 0.4792097997316071, 0.15973659991053568, 0.15973659991053568, 0.9893974893983056, 0.8701198207011221, 0.19013775281680237, 0.19013775281680237, 0.19013775281680237, 0.19013775281680237, 0.503383071756622, 0.9907955957887656, 0.0877248509290378, 0.3508994037161512, 0.438624254645189, 0.0877248509290378, 0.0877248509290378, 0.540771145126414, 0.333765860476749, 0.333765860476749, 0.9926749607551154, 0.9913338112974579, 0.5397971702856312, 0.9902672406043114, 0.8458934264788242, 0.20380501614740013, 0.20380501614740013, 0.40761003229480025, 0.42888331561462506, 0.142961105204875, 0.19061480693983335, 0.19061480693983335, 0.04765370173495834, 0.8298276329102782, 0.10372845411378477, 0.9905331042207073, 0.24124170636087294, 0.3618625595413094, 0.12062085318043647, 0.12062085318043647, 0.12062085318043647, 0.5283968255615193, 0.10567936511230387, 0.31703809533691163, 0.10567936511230387, 0.4228672878157645, 0.4228672878157645, 0.8729736765841888, 0.3787997688197104, 0.3787997688197104, 0.9918998953514783, 0.42456354336619745, 0.21228177168309872, 0.42456354336619745, 0.517974664701279, 0.20718986588051158, 0.10359493294025579, 0.10359493294025579, 0.10359493294025579, 0.5768707809169676, 0.8752127474176912, 0.24682800411775507, 0.49365600823551015, 0.24682800411775507, 0.35103929176028487, 0.35103929176028487, 0.11701309725342829, 0.11701309725342829, 0.11701309725342829, 0.8748527897773071, 0.35902947535966234, 0.2564496252569017, 0.20515970020552135, 0.15386977515414102, 0.10257985010276068, 0.3543472430124314, 0.3543472430124314, 0.5601696053012651, 0.14004240132531628, 0.28008480265063257, 0.48628695943450445, 0.5080127064828351, 0.589299065957527, 0.3234119183551379, 0.38809430202616546, 0.12936476734205515, 0.12936476734205515, 0.06468238367102758, 0.38439243895262515, 0.1281308129842084, 0.1281308129842084, 0.1281308129842084, 0.1281308129842084, 0.8635254631093118, 0.27019054797371195, 0.27019054797371195, 0.27019054797371195, 0.27019054797371195, 0.9911143978078785, 0.15546098140454828, 0.31092196280909656, 0.31092196280909656, 0.15546098140454828, 0.41075726932204504, 0.20537863466102252, 0.20537863466102252, 0.1540339759957669, 0.10268931733051126, 0.20132908589960052, 0.20132908589960052, 0.20132908589960052, 0.40265817179920105, 0.5023139157914273, 0.8553915455436836, 0.6853648467366527, 0.9058777704014782, 0.4475219109472701, 0.22376095547363506, 0.17900876437890803, 0.04475219109472701, 0.04475219109472701, 0.37840742839709174, 0.37840742839709174, 0.4899901306387871, 0.37266172068268477, 0.43123056261245984, 0.28748704174163986, 0.14374352087081993, 0.14374352087081993, 0.28044420853559987, 0.360571125260057, 0.16025383344891422, 0.12019037508668567, 0.08012691672445711, 0.14867377948298524, 0.2973475589659705, 0.2973475589659705, 0.14867377948298524, 0.14867377948298524, 0.531122205778886, 0.29534823008556466, 0.14767411504278233, 0.14767411504278233, 0.29534823008556466, 0.14767411504278233, 0.507662361120586, 0.3352884342337437, 0.268230747386995, 0.20117306054024622, 0.1341153736934975, 0.06705768684674875, 0.8728101857970444, 0.6076110744304584, 0.5702552635619402, 0.14256381589048506, 0.14256381589048506, 0.9896969273982292, 0.5866407681471828, 0.6877287076718429, 0.4739549332984893, 0.8728924289087541, 0.7485646137911608, 0.14976752597430754, 0.29953505194861507, 0.29953505194861507, 0.14976752597430754, 0.14976752597430754, 0.5027400988473252, 0.27579787027589175, 0.27579787027589175, 0.13789893513794588, 0.13789893513794588, 0.13789893513794588, 0.9911226771715191, 0.2071380627881174, 0.4142761255762348, 0.2071380627881174, 0.2071380627881174, 0.7466466502464794, 0.9867866677119437, 0.9895640844296651, 0.1766124490059205, 0.5298373470177614, 0.1766124490059205, 0.21740870164543338, 0.2898782688605778, 0.21740870164543338, 0.21740870164543338, 0.07246956721514446, 0.37495204518323944, 0.18747602259161972, 0.37495204518323944, 0.28462984647096407, 0.28462984647096407, 0.22770387717677126, 0.11385193858838563, 0.11385193858838563, 0.4991817575642515, 0.24959087878212574, 0.9445712783795076, 0.9911553728443205, 0.30311732118157686, 0.30311732118157686, 0.15155866059078843, 0.15155866059078843, 0.15155866059078843, 0.47852679431727574, 0.8772481695058818, 0.905586918262742, 0.6574434458518922, 0.10957390764198204, 0.10957390764198204, 0.10957390764198204, 0.8746855775099766, 0.8797150344811441, 0.670539753150974, 0.2257651334287248, 0.3386477001430872, 0.1128825667143624, 0.1128825667143624, 0.1128825667143624, 0.31358423981695327, 0.23518817986271495, 0.23518817986271495, 0.15679211990847663, 0.15679211990847663, 0.9465377203799661, 0.36071095844346823, 0.18035547922173412, 0.36071095844346823, 0.6287664350643868, 0.20958881168812893, 0.6484490479998527, 0.9928226801943432, 0.5023095544186243, 0.2511547772093122, 0.9895945932960086, 0.338989704239902, 0.169494852119951, 0.338989704239902, 0.169494852119951, 0.169494852119951, 0.2018023511878224, 0.2018023511878224, 0.4036047023756448, 0.5999989496052569, 0.35994192189230406, 0.35994192189230406, 0.9912818782215099, 0.47942642307865746, 0.423233921988466, 0.211616960994233, 0.423233921988466, 0.5391348353378775, 0.5054128507160859, 0.3391021331521918, 0.29065897127330725, 0.14532948563665363, 0.14532948563665363, 0.0968863237577691, 0.4799664025235237, 0.11999160063088092, 0.17998740094632137, 0.11999160063088092, 0.05999580031544046, 0.47736571363386704, 0.8724244437378386, 0.5802532049511139, 0.5380463551052141, 0.4778720030961227, 0.17968811193485226, 0.17968811193485226, 0.3593762238697045, 0.8705356836807355, 0.4757722076046302, 0.9462980440101565, 0.7499834071675018, 0.48646270089545385, 0.27623661528439925, 0.27623661528439925, 0.16574196917063955, 0.16574196917063955, 0.05524732305687985, 0.2451165863129963, 0.4902331726259926, 0.2451165863129963, 0.36222381173137, 0.34888351957266395, 0.34888351957266395, 0.52225848874972, 0.490806283152246, 0.8809018849815036, 0.4321885890918073, 0.14406286303060242, 0.28812572606120485, 0.14406286303060242, 0.8725504053952071, 0.9048538403582341, 0.32465700596653757, 0.2164380039776917, 0.2705475049721146, 0.10821900198884585, 0.054109500994422924, 0.5427497949430072, 0.18091659831433576, 0.18091659831433576, 0.35225945581985507, 0.35225945581985507, 0.8089051578231555, 0.8784552444123759, 0.556220582830683, 0.2781102914153415, 0.9905252510713686, 0.8772526322836125, 0.9442289757163463, 0.4761832160412423, 0.1941125455626206, 0.1941125455626206, 0.3882250911252412, 0.1941125455626206, 0.9047792268644627, 0.2599677150546125, 0.2599677150546125, 0.2599677150546125, 0.2599677150546125, 0.4753017010539427, 0.6998872024800822, 0.22348381281471427, 0.44696762562942854, 0.991150510350938, 0.5395457819395614, 0.9896359000063037, 0.5387954447362338, 0.5450127786848361, 0.49927807207100794, 0.9094469636721375, 0.3603701760407428, 0.3603701760407428, 0.12012339201358092, 0.12012339201358092, 0.12012339201358092, 0.1806316463966192, 0.7225265855864768, 0.9910918026510152], \"Term\": [\"\", \"\", \"\", \"\", \"\", \"\\\"\", \"-\", \"-\", \"-\", \"-\", \"-\", \"/\", \"/\", \"1\", \"1\", \"1\", \"1\", \"128\", \"2\", \"2\", \"2\", \"2\", \"20\", \"255\", \"3\", \"3\", \"3\", \"3\", \"399\", \"4.0\", \":\", \":\", \":\", \":\", \":\", \"::\", \"G\", \"G\", \"Menu\", \"Number\", \"\\u0e01\\u0e01\", \"\\u0e01\\u0e23\\u0e23\\u0e21\\u0e27\\u0e34\\u0e18\\u0e35\", \"\\u0e01\\u0e25\\u0e31\\u0e1a\\u0e21\\u0e32\", \"\\u0e01\\u0e30\\u0e1b\\u0e34\", \"\\u0e01\\u0e30\\u0e1b\\u0e34\", \"\\u0e01\\u0e30\\u0e1b\\u0e34\", \"\\u0e01\\u0e34\\u0e19\", \"\\u0e01\\u0e34\\u0e19\", \"\\u0e01\\u0e34\\u0e19\", \"\\u0e01\\u0e34\\u0e19\", \"\\u0e01\\u0e34\\u0e19\", \"\\u0e01\\u0e38\\u0e49\\u0e07\", \"\\u0e01\\u0e38\\u0e49\\u0e07\", \"\\u0e01\\u0e4c\", \"\\u0e02\\u0e2d\\u0e07\\u0e2b\\u0e27\\u0e32\\u0e19\", \"\\u0e02\\u0e2d\\u0e07\\u0e2b\\u0e27\\u0e32\\u0e19\", \"\\u0e02\\u0e2d\\u0e07\\u0e2b\\u0e27\\u0e32\\u0e19\", \"\\u0e02\\u0e2d\\u0e07\\u0e2b\\u0e27\\u0e32\\u0e19\", \"\\u0e02\\u0e2d\\u0e07\\u0e2b\\u0e27\\u0e32\\u0e19\", \"\\u0e04\\u0e19\", \"\\u0e04\\u0e19\", \"\\u0e04\\u0e19\", \"\\u0e04\\u0e19\", \"\\u0e04\\u0e19\\u0e25\\u0e30\", \"\\u0e04\\u0e19\\u0e25\\u0e30\", \"\\u0e04\\u0e23\\u0e35\\u0e21\", \"\\u0e04\\u0e2d\", \"\\u0e04\\u0e2d\", \"\\u0e04\\u0e30\\u0e41\\u0e19\\u0e19\", \"\\u0e04\\u0e34\\u0e27\", \"\\u0e04\\u0e34\\u0e27\", \"\\u0e04\\u0e34\\u0e27\", \"\\u0e04\\u0e38\\u0e49\\u0e21\", \"\\u0e04\\u0e38\\u0e49\\u0e21\", \"\\u0e04\\u0e38\\u0e49\\u0e21\", \"\\u0e04\\u0e38\\u0e49\\u0e21\", \"\\u0e04\\u0e38\\u0e49\\u0e21\", \"\\u0e04\\u0e48\\u0e32\", \"\\u0e08\\u0e38\\u0e01\", \"\\u0e08\\u0e48\\u0e32\\u0e22\", \"\\u0e08\\u0e48\\u0e32\\u0e22\", \"\\u0e08\\u0e48\\u0e32\\u0e22\", \"\\u0e0a\\u0e2d\\u0e1a\", \"\\u0e0a\\u0e2d\\u0e1a\", \"\\u0e0a\\u0e2d\\u0e1a\", \"\\u0e0a\\u0e2d\\u0e1a\", \"\\u0e0a\\u0e2d\\u0e1a\", \"\\u0e0a\\u0e32\\u0e15\", \"\\u0e0a\\u0e32\\u0e1a\\u0e39\", \"\\u0e0a\\u0e32\\u0e1a\\u0e39\", \"\\u0e0a\\u0e32\\u0e1a\\u0e39\", \"\\u0e0a\\u0e32\\u0e1a\\u0e39\", \"\\u0e0a\\u0e32\\u0e1a\\u0e39\", \"\\u0e0a\\u0e32\\u0e40\\u0e02\\u0e35\\u0e22\\u0e27\", \"\\u0e0a\\u0e32\\u0e40\\u0e02\\u0e35\\u0e22\\u0e27\", \"\\u0e0a\\u0e34\", \"\\u0e0a\\u0e34\", \"\\u0e0a\\u0e34\", \"\\u0e0a\\u0e37\\u0e48\\u0e19\", \"\\u0e0a\\u0e37\\u0e48\\u0e2d\", \"\\u0e0a\\u0e39\", \"\\u0e0b\\u0e38\\u0e1b\", \"\\u0e0b\\u0e38\\u0e1b\", \"\\u0e0b\\u0e38\\u0e1b\", \"\\u0e0b\\u0e38\\u0e1b\", \"\\u0e0b\\u0e38\\u0e1b\", \"\\u0e0b\\u0e39\\u0e0a\\u0e34\", \"\\u0e0b\\u0e39\\u0e0a\\u0e34\", \"\\u0e0b\\u0e39\\u0e0a\\u0e34\", \"\\u0e0b\\u0e39\\u0e0a\\u0e34\", \"\\u0e0b\\u0e39\\u0e0a\\u0e34\", \"\\u0e0d\\u0e35\\u0e48\", \"\\u0e0d\\u0e35\\u0e48\\u0e1b\\u0e38\\u0e48\\u0e19\", \"\\u0e0d\\u0e35\\u0e48\\u0e1b\\u0e38\\u0e48\\u0e19\", \"\\u0e0d\\u0e35\\u0e48\\u0e1b\\u0e38\\u0e48\\u0e19\", \"\\u0e0d\\u0e35\\u0e48\\u0e1b\\u0e38\\u0e48\\u0e19\", \"\\u0e14\\u0e31\\u0e07\\u0e40\\u0e14\\u0e34\\u0e21\", \"\\u0e14\\u0e33\", \"\\u0e14\\u0e33\", \"\\u0e14\\u0e33\", \"\\u0e14\\u0e33\", \"\\u0e14\\u0e35\", \"\\u0e14\\u0e35\", \"\\u0e14\\u0e35\", \"\\u0e14\\u0e35\", \"\\u0e14\\u0e35\", \"\\u0e14\\u0e35\\u0e21\\u0e32\\u0e01\", \"\\u0e14\\u0e35\\u0e21\\u0e32\\u0e01\", \"\\u0e14\\u0e35\\u0e21\\u0e32\\u0e01\", \"\\u0e14\\u0e35\\u0e21\\u0e32\\u0e01\", \"\\u0e15\\u0e2d\\u0e19\\u0e19\\u0e35\\u0e49\", \"\\u0e15\\u0e31\\u0e27\", \"\\u0e15\\u0e48\\u0e32\\u0e07 \\u0e46\", \"\\u0e16\\u0e49\\u0e27\\u0e22\", \"\\u0e17\\u0e32\\u0e19\", \"\\u0e17\\u0e32\\u0e19\", \"\\u0e17\\u0e32\\u0e19\", \"\\u0e17\\u0e32\\u0e19\", \"\\u0e17\\u0e32\\u0e19\", \"\\u0e19\\u0e31\\u0e48\\u0e07\", \"\\u0e19\\u0e31\\u0e48\\u0e07\", \"\\u0e19\\u0e34\\u0e14\\u0e19\\u0e36\\u0e07\", \"\\u0e19\\u0e36\\u0e01\\u0e16\\u0e36\\u0e07\", \"\\u0e19\\u0e38\\u0e48\\u0e21\", \"\\u0e19\\u0e38\\u0e48\\u0e21\", \"\\u0e19\\u0e38\\u0e48\\u0e21\", \"\\u0e19\\u0e38\\u0e48\\u0e21\", \"\\u0e19\\u0e49\\u0e33\", \"\\u0e19\\u0e49\\u0e33\", \"\\u0e19\\u0e49\\u0e33\", \"\\u0e19\\u0e49\\u0e33\", \"\\u0e19\\u0e49\\u0e33\", \"\\u0e19\\u0e49\\u0e33\\u0e08\\u0e34\\u0e49\\u0e21\", \"\\u0e19\\u0e49\\u0e33\\u0e08\\u0e34\\u0e49\\u0e21\", \"\\u0e19\\u0e49\\u0e33\\u0e08\\u0e34\\u0e49\\u0e21\", \"\\u0e19\\u0e49\\u0e33\\u0e08\\u0e34\\u0e49\\u0e21\", \"\\u0e19\\u0e49\\u0e33\\u0e08\\u0e34\\u0e49\\u0e21\", \"\\u0e19\\u0e4d\\u0e49\\u0e32\", \"\\u0e1a\\u0e23\\u0e34\\u0e01\\u0e32\\u0e23\", \"\\u0e1a\\u0e23\\u0e34\\u0e01\\u0e32\\u0e23\", \"\\u0e1a\\u0e23\\u0e34\\u0e01\\u0e32\\u0e23\", \"\\u0e1a\\u0e23\\u0e34\\u0e01\\u0e32\\u0e23\", \"\\u0e1a\\u0e23\\u0e34\\u0e01\\u0e32\\u0e23\", \"\\u0e1a\\u0e32\\u0e07\\u0e2a\\u0e48\\u0e27\\u0e19\", \"\\u0e1a\\u0e32\\u0e17\", \"\\u0e1a\\u0e32\\u0e17\", \"\\u0e1a\\u0e32\\u0e17\", \"\\u0e1a\\u0e32\\u0e17\", \"\\u0e1a\\u0e32\\u0e17\", \"\\u0e1a\\u0e38\\u0e1e\", \"\\u0e1a\\u0e38\\u0e1f\\u0e40\\u0e1f\\u0e15\\u0e4c\", \"\\u0e1a\\u0e38\\u0e1f\\u0e40\\u0e1f\\u0e48\\u0e15\\u0e4c\", \"\\u0e1a\\u0e38\\u0e1f\\u0e40\\u0e1f\\u0e48\\u0e15\\u0e4c\", \"\\u0e1a\\u0e38\\u0e1f\\u0e40\\u0e1f\\u0e48\\u0e15\\u0e4c\", \"\\u0e1b\\u0e23\\u0e30\", \"\\u0e1b\\u0e23\\u0e30\\u0e15\\u0e39\", \"\\u0e1b\\u0e23\\u0e30\\u0e17\\u0e31\\u0e1a\\u0e43\\u0e08\", \"\\u0e1b\\u0e2d\\u0e01\\u0e40\\u0e1b\\u0e25\\u0e37\\u0e2d\\u0e01\", \"\\u0e1b\\u0e34\\u0e14\\u0e17\\u0e49\\u0e32\\u0e22\", \"\\u0e1b\\u0e38\\u0e23\\u0e30\", \"\\u0e1c\\u0e31\\u0e01\", \"\\u0e1c\\u0e31\\u0e01\", \"\\u0e1c\\u0e31\\u0e01\", \"\\u0e1c\\u0e31\\u0e01\", \"\\u0e1c\\u0e31\\u0e01\", \"\\u0e1c\\u0e34\\u0e14\\u0e2b\\u0e27\\u0e31\\u0e07\", \"\\u0e1e\\u0e19\\u0e31\\u0e01\\u0e07\\u0e32\\u0e19\", \"\\u0e1e\\u0e19\\u0e31\\u0e01\\u0e07\\u0e32\\u0e19\", \"\\u0e1e\\u0e19\\u0e31\\u0e01\\u0e07\\u0e32\\u0e19\", \"\\u0e1e\\u0e19\\u0e31\\u0e01\\u0e07\\u0e32\\u0e19\", \"\\u0e1e\\u0e19\\u0e31\\u0e01\\u0e07\\u0e32\\u0e19\", \"\\u0e1e\\u0e32\\u0e23\\u0e32\", \"\\u0e1e\\u0e34\\u0e0b\\u0e0b\\u0e48\\u0e32\", \"\\u0e1e\\u0e34\\u0e0b\\u0e0b\\u0e48\\u0e32\", \"\\u0e1e\\u0e34\\u0e0b\\u0e0b\\u0e48\\u0e32\", \"\\u0e1e\\u0e34\\u0e0b\\u0e0b\\u0e48\\u0e32\", \"\\u0e21\", \"\\u0e21\\u0e2d\", \"\\u0e22\\u0e38\\u0e04\", \"\\u0e23\\u0e2a\", \"\\u0e23\\u0e2a\", \"\\u0e23\\u0e2a\", \"\\u0e23\\u0e2a\\u0e0a\\u0e32\\u0e15\\u0e34\", \"\\u0e23\\u0e2a\\u0e0a\\u0e32\\u0e15\\u0e34\", \"\\u0e23\\u0e2a\\u0e0a\\u0e32\\u0e15\\u0e34\", \"\\u0e23\\u0e2a\\u0e0a\\u0e32\\u0e15\\u0e34\", \"\\u0e23\\u0e2a\\u0e0a\\u0e32\\u0e15\\u0e34\", \"\\u0e23\\u0e2d\", \"\\u0e23\\u0e2d\", \"\\u0e23\\u0e2d\", \"\\u0e23\\u0e32\\u0e04\\u0e32\", \"\\u0e23\\u0e32\\u0e04\\u0e32\", \"\\u0e23\\u0e32\\u0e04\\u0e32\", \"\\u0e23\\u0e32\\u0e04\\u0e32\", \"\\u0e23\\u0e32\\u0e04\\u0e32\", \"\\u0e23\\u0e39\\u0e49\\u0e2a\\u0e36\\u0e01\", \"\\u0e23\\u0e39\\u0e49\\u0e2a\\u0e36\\u0e01\", \"\\u0e23\\u0e49\\u0e2d\\u0e22\", \"\\u0e23\\u0e49\\u0e32\\u0e19\\u0e2d\\u0e32\\u0e2b\\u0e32\\u0e23\", \"\\u0e25\\u0e2d\\u0e07\", \"\\u0e25\\u0e2d\\u0e07\", \"\\u0e25\\u0e2d\\u0e07\", \"\\u0e25\\u0e2d\\u0e07\", \"\\u0e25\\u0e2d\\u0e07\", \"\\u0e27\\u0e32\\u0e19\\u0e34\\u0e25\\u0e32\", \"\\u0e27\\u0e34\\u0e1b\", \"\\u0e2a\", \"\\u0e2a\\u0e14\", \"\\u0e2a\\u0e14\", \"\\u0e2a\\u0e14\", \"\\u0e2a\\u0e14\", \"\\u0e2a\\u0e21\\u0e23\\u0e32\\u0e04\\u0e32\", \"\\u0e2a\\u0e27\\u0e22\", \"\\u0e2a\\u0e31\\u0e19\", \"\\u0e2a\\u0e31\\u0e48\\u0e07\", \"\\u0e2a\\u0e31\\u0e48\\u0e07\", \"\\u0e2a\\u0e31\\u0e48\\u0e07\", \"\\u0e2a\\u0e31\\u0e48\\u0e07\", \"\\u0e2a\\u0e31\\u0e48\\u0e07\", \"\\u0e2a\\u0e32\\u0e02\\u0e32\", \"\\u0e2a\\u0e32\\u0e02\\u0e32\", \"\\u0e2a\\u0e32\\u0e02\\u0e32\", \"\\u0e2a\\u0e32\\u0e02\\u0e32\", \"\\u0e2a\\u0e32\\u0e02\\u0e32\", \"\\u0e2a\\u0e32\\u0e21\", \"\\u0e2a\\u0e32\\u0e22\\u0e1e\\u0e32\\u0e19\", \"\\u0e2a\\u0e32\\u0e22\\u0e1e\\u0e32\\u0e19\", \"\\u0e2a\\u0e32\\u0e22\\u0e1e\\u0e32\\u0e19\", \"\\u0e2a\\u0e33\\u0e2b\\u0e23\\u0e31\\u0e1a\", \"\\u0e2a\\u0e33\\u0e2b\\u0e23\\u0e31\\u0e1a\", \"\\u0e2a\\u0e38\\u0e01\\u0e35\\u0e49\", \"\\u0e2a\\u0e44\\u0e15\\u0e25\\u0e4c\", \"\\u0e2a\\u0e44\\u0e25\\u0e14\\u0e4c\", \"\\u0e2a\\u0e44\\u0e25\\u0e14\\u0e4c\", \"\\u0e2a\\u0e4c\", \"\\u0e2b\\u0e19\\u0e49\\u0e32\", \"\\u0e2b\\u0e19\\u0e49\\u0e32\", \"\\u0e2b\\u0e19\\u0e49\\u0e32\", \"\\u0e2b\\u0e19\\u0e49\\u0e32\", \"\\u0e2b\\u0e19\\u0e49\\u0e32\", \"\\u0e2b\\u0e21\\u0e49\\u0e2d\", \"\\u0e2b\\u0e21\\u0e49\\u0e2d\", \"\\u0e2b\\u0e21\\u0e49\\u0e2d\", \"\\u0e2b\\u0e25\\u0e32\\u0e01\", \"\\u0e2b\\u0e25\\u0e32\\u0e01\\u0e2b\\u0e25\\u0e32\\u0e22\", \"\\u0e2b\\u0e25\\u0e32\\u0e01\\u0e2b\\u0e25\\u0e32\\u0e22\", \"\\u0e2b\\u0e25\\u0e32\\u0e22\\u0e0a\\u0e19\\u0e34\\u0e14\", \"\\u0e2b\\u0e2d\\u0e21\", \"\\u0e2b\\u0e49\\u0e32\\u0e07\", \"\\u0e2b\\u0e49\\u0e32\\u0e07\", \"\\u0e2b\\u0e49\\u0e32\\u0e07\", \"\\u0e2d\\u0e22\\u0e32\\u0e01\\u0e44\\u0e14\\u0e49\", \"\\u0e2d\\u0e22\\u0e48\\u0e32\", \"\\u0e2d\\u0e23\\u0e48\\u0e2d\\u0e22\", \"\\u0e2d\\u0e23\\u0e48\\u0e2d\\u0e22\", \"\\u0e2d\\u0e23\\u0e48\\u0e2d\\u0e22\", \"\\u0e2d\\u0e23\\u0e48\\u0e2d\\u0e22\", \"\\u0e2d\\u0e23\\u0e48\\u0e2d\\u0e22\", \"\\u0e2d\\u0e32\\u0e2b\\u0e32\\u0e23\", \"\\u0e2d\\u0e32\\u0e2b\\u0e32\\u0e23\", \"\\u0e2d\\u0e32\\u0e2b\\u0e32\\u0e23\", \"\\u0e2d\\u0e32\\u0e2b\\u0e32\\u0e23\", \"\\u0e2d\\u0e32\\u0e2b\\u0e32\\u0e23\", \"\\u0e2d\\u0e35\\u0e01\\u0e04\\u0e23\\u0e31\\u0e49\\u0e07\", \"\\u0e40\", \"\\u0e40\\u0e01\\u0e34\\u0e19\\u0e44\\u0e1b\", \"\\u0e40\\u0e02\\u0e49\\u0e21\\u0e02\\u0e49\\u0e19\", \"\\u0e40\\u0e0a\\u0e47\\u0e04\\u0e1a\\u0e34\\u0e25\", \"\\u0e40\\u0e14\\u0e2d\\u0e30\", \"\\u0e40\\u0e14\\u0e2d\\u0e30\", \"\\u0e40\\u0e14\\u0e2d\\u0e30\", \"\\u0e40\\u0e14\\u0e47\\u0e14\", \"\\u0e40\\u0e14\\u0e49\\u0e07\", \"\\u0e40\\u0e15\\u0e47\\u0e21\", \"\\u0e40\\u0e17\", \"\\u0e40\\u0e17\\u0e35\\u0e22\\u0e1a\", \"\\u0e40\\u0e19\\u0e37\\u0e49\\u0e2d\", \"\\u0e40\\u0e19\\u0e37\\u0e49\\u0e2d\", \"\\u0e40\\u0e19\\u0e37\\u0e49\\u0e2d\", \"\\u0e40\\u0e19\\u0e37\\u0e49\\u0e2d\", \"\\u0e40\\u0e19\\u0e37\\u0e49\\u0e2d\", \"\\u0e40\\u0e19\\u0e37\\u0e49\\u0e2d\\u0e27\\u0e31\\u0e27\", \"\\u0e40\\u0e19\\u0e37\\u0e49\\u0e2d\\u0e27\\u0e31\\u0e27\", \"\\u0e40\\u0e19\\u0e37\\u0e49\\u0e2d\\u0e27\\u0e31\\u0e27\", \"\\u0e40\\u0e19\\u0e37\\u0e49\\u0e2d\\u0e2b\\u0e21\\u0e39\", \"\\u0e40\\u0e1b\\u0e47\\u0e14\", \"\\u0e40\\u0e1b\\u0e47\\u0e14\", \"\\u0e40\\u0e1b\\u0e47\\u0e19\\u0e2b\\u0e25\\u0e31\\u0e01\", \"\\u0e40\\u0e1e\\u0e25\\u0e34\\u0e19\", \"\\u0e40\\u0e1f\\u0e48\", \"\\u0e40\\u0e21\\u0e19\\u0e39\", \"\\u0e40\\u0e21\\u0e19\\u0e39\", \"\\u0e40\\u0e21\\u0e19\\u0e39\", \"\\u0e40\\u0e21\\u0e19\\u0e39\", \"\\u0e40\\u0e23\\u0e34\\u0e2a\", \"\\u0e40\\u0e25\\u0e35\\u0e48\\u0e22\\u0e19\", \"\\u0e40\\u0e25\\u0e37\\u0e2d\\u0e01\", \"\\u0e40\\u0e25\\u0e37\\u0e2d\\u0e01\", \"\\u0e40\\u0e25\\u0e37\\u0e2d\\u0e01\", \"\\u0e40\\u0e25\\u0e37\\u0e2d\\u0e01\", \"\\u0e40\\u0e25\\u0e37\\u0e2d\\u0e01\", \"\\u0e40\\u0e27\\u0e25\\u0e32\", \"\\u0e40\\u0e27\\u0e25\\u0e32\", \"\\u0e40\\u0e27\\u0e25\\u0e32\", \"\\u0e40\\u0e2a\\u0e34\\u0e23\\u0e4c\\u0e1f\", \"\\u0e40\\u0e2a\\u0e34\\u0e23\\u0e4c\\u0e1f\", \"\\u0e40\\u0e2b\\u0e47\\u0e14\", \"\\u0e40\\u0e40\\u0e1a\\u0e1a\", \"\\u0e41\\u0e19\\u0e30\\u0e19\\u0e33\", \"\\u0e41\\u0e19\\u0e30\\u0e19\\u0e33\", \"\\u0e41\\u0e1a\\u0e1a\\u0e09\\u0e1a\\u0e31\\u0e1a\", \"\\u0e42\\u0e0a\\u0e04\", \"\\u0e42\\u0e0a\\u0e04\\u0e14\\u0e35\", \"\\u0e42\\u0e14\\u0e19\", \"\\u0e42\\u0e21\", \"\\u0e42\\u0e21\", \"\\u0e42\\u0e21\", \"\\u0e42\\u0e21\", \"\\u0e42\\u0e2b\\u0e14\", \"\\u0e42\\u0e2d\\u0e40\\u0e04\", \"\\u0e42\\u0e2d\\u0e40\\u0e04\", \"\\u0e42\\u0e2d\\u0e40\\u0e04\", \"\\u0e42\\u0e2d\\u0e40\\u0e04\", \"\\u0e43\\u0e08\\u0e14\\u0e35\", \"\\u0e43\\u0e0a\\u0e49\\u0e44\\u0e14\\u0e49\", \"\\u0e44\\u0e01\\u0e48\", \"\\u0e44\\u0e01\\u0e48\", \"\\u0e44\\u0e14\", \"\\u0e44\\u0e14\\u0e1f\\u0e39\\u0e01\\u0e38\", \"\\u0e44\\u0e17\\u0e22\", \"\\u0e44\\u0e1c\\u0e48\", \"\\u0e44\\u0e21\\u0e49\", \"\\u0e44\\u0e25\\u0e19\\u0e4c\", \"\\u0e44\\u0e27\", \"\\u0e44\\u0e2d\\u0e15\\u0e34\\u0e21\", \"\\u0e44\\u0e2d\\u0e15\\u0e34\\u0e21\", \"\\u0e44\\u0e2d\\u0e15\\u0e34\\u0e21\", \"\\u0e44\\u0e2d\\u0e15\\u0e34\\u0e21\", \"\\u0e44\\u0e2d\\u0e15\\u0e34\\u0e21\", \"\\u200b\", \"\\u200b\", \"\\u2013\"]}, \"R\": 30, \"lambda.step\": 0.01, \"plot.opts\": {\"xlab\": \"PC1\", \"ylab\": \"PC2\"}, \"topic.order\": [5, 4, 2, 1, 3]};\n",
              "\n",
              "function LDAvis_load_lib(url, callback){\n",
              "  var s = document.createElement('script');\n",
              "  s.src = url;\n",
              "  s.async = true;\n",
              "  s.onreadystatechange = s.onload = callback;\n",
              "  s.onerror = function(){console.warn(\"failed to load library \" + url);};\n",
              "  document.getElementsByTagName(\"head\")[0].appendChild(s);\n",
              "}\n",
              "\n",
              "if(typeof(LDAvis) !== \"undefined\"){\n",
              "   // already loaded: just create the visualization\n",
              "   !function(LDAvis){\n",
              "       new LDAvis(\"#\" + \"ldavis_el3341405285744592163251397973\", ldavis_el3341405285744592163251397973_data);\n",
              "   }(LDAvis);\n",
              "}else if(typeof define === \"function\" && define.amd){\n",
              "   // require.js is available: use it to load d3/LDAvis\n",
              "   require.config({paths: {d3: \"https://d3js.org/d3.v5\"}});\n",
              "   require([\"d3\"], function(d3){\n",
              "      window.d3 = d3;\n",
              "      LDAvis_load_lib(\"https://cdn.jsdelivr.net/gh/bmabey/pyLDAvis@3.3.1/pyLDAvis/js/ldavis.v3.0.0.js\", function(){\n",
              "        new LDAvis(\"#\" + \"ldavis_el3341405285744592163251397973\", ldavis_el3341405285744592163251397973_data);\n",
              "      });\n",
              "    });\n",
              "}else{\n",
              "    // require.js not available: dynamically load d3 & LDAvis\n",
              "    LDAvis_load_lib(\"https://d3js.org/d3.v5.js\", function(){\n",
              "         LDAvis_load_lib(\"https://cdn.jsdelivr.net/gh/bmabey/pyLDAvis@3.3.1/pyLDAvis/js/ldavis.v3.0.0.js\", function(){\n",
              "                 new LDAvis(\"#\" + \"ldavis_el3341405285744592163251397973\", ldavis_el3341405285744592163251397973_data);\n",
              "            })\n",
              "         });\n",
              "}\n",
              "</script>"
            ],
            "text/plain": [
              "PreparedData(topic_coordinates=              x         y  topics  cluster       Freq\n",
              "topic                                                \n",
              "4      0.062877 -0.010761       1        1  36.468437\n",
              "3     -0.037512 -0.026709       2        1  23.874208\n",
              "1     -0.008713  0.047959       3        1  19.718552\n",
              "0     -0.010912 -0.006258       4        1  11.765271\n",
              "2     -0.005740 -0.004232       5        1   8.173532, topic_info=       Term       Freq      Total Category  logprob  loglift\n",
              "48        ​   5.000000   5.000000  Default  30.0000  30.0000\n",
              "17      น้ำ  24.000000  24.000000  Default  29.0000  29.0000\n",
              "31    อร่อย  20.000000  20.000000  Default  28.0000  28.0000\n",
              "3       กิน  20.000000  20.000000  Default  27.0000  27.0000\n",
              "87            7.000000   7.000000  Default  26.0000  26.0000\n",
              "..      ...        ...        ...      ...      ...      ...\n",
              "124     ผัก   0.686049   6.677015   Topic5  -5.1309   0.2288\n",
              "8      คุ้ม   0.781027   9.652982   Topic5  -5.0013  -0.0101\n",
              "194    หน้า   0.637388   5.899884   Topic5  -5.2045   0.2790\n",
              "25   รสชาติ   0.882180  13.798896   Topic5  -4.8795  -0.2457\n",
              "10      ซุป   0.894881  15.460160   Topic5  -4.8652  -0.3451\n",
              "\n",
              "[338 rows x 6 columns], token_table=      Topic      Freq   Term\n",
              "term                        \n",
              "87        1  0.137672       \n",
              "87        2  0.550687       \n",
              "87        3  0.137672       \n",
              "87        4  0.137672       \n",
              "87        5  0.137672       \n",
              "...     ...       ...    ...\n",
              "47        4  0.120123  ไอติม\n",
              "47        5  0.120123  ไอติม\n",
              "48        1  0.180632      ​\n",
              "48        4  0.722527      ​\n",
              "247       3  0.991092      –\n",
              "\n",
              "[362 rows x 3 columns], R=30, lambda_step=0.01, plot_opts={'xlab': 'PC1', 'ylab': 'PC2'}, topic_order=[5, 4, 2, 1, 3])"
            ]
          },
          "metadata": {
            "tags": []
          },
          "execution_count": 52
        }
      ]
    },
    {
      "cell_type": "code",
      "metadata": {
        "colab": {
          "base_uri": "https://localhost:8080/"
        },
        "id": "V2MiUpfMs0Zp",
        "outputId": "f00f66ba-3c95-41d2-8f65-9e49a9e04f6d"
      },
      "source": [
        "model.show_topic(1)"
      ],
      "execution_count": 53,
      "outputs": [
        {
          "output_type": "execute_result",
          "data": {
            "text/plain": [
              "[(':', 0.016966613),\n",
              " ('เลือก', 0.016335461),\n",
              " ('น้ำ', 0.01588188),\n",
              " ('ทาน', 0.014679353),\n",
              " ('ราคา', 0.013312086),\n",
              " ('ชาบู', 0.012653975),\n",
              " ('กิน', 0.012535341),\n",
              " ('ดี', 0.012531519),\n",
              " ('อาหาร', 0.012362316),\n",
              " ('บาท', 0.01217493)]"
            ]
          },
          "metadata": {
            "tags": []
          },
          "execution_count": 53
        }
      ]
    },
    {
      "cell_type": "code",
      "metadata": {
        "id": "WnosCtSss853"
      },
      "source": [
        "df['topics'] = df['Review_tokenized'].apply(lambda x: model.get_document_topics(dictionary.doc2bow(x.split(',')))[0][0])\n",
        "df['score'] = df['Review_tokenized'].apply(lambda x: model.get_document_topics(dictionary.doc2bow(x.split(',')))[0][1])"
      ],
      "execution_count": 54,
      "outputs": []
    },
    {
      "cell_type": "code",
      "metadata": {
        "colab": {
          "base_uri": "https://localhost:8080/",
          "height": 700
        },
        "id": "VNDRk-HYs_CH",
        "outputId": "3b6b0169-9ac7-4813-bb92-8baeff4a7596"
      },
      "source": [
        "df[['Restaurant', 'Review', 'topics']]"
      ],
      "execution_count": 55,
      "outputs": [
        {
          "output_type": "execute_result",
          "data": {
            "text/html": [
              "<div>\n",
              "<style scoped>\n",
              "    .dataframe tbody tr th:only-of-type {\n",
              "        vertical-align: middle;\n",
              "    }\n",
              "\n",
              "    .dataframe tbody tr th {\n",
              "        vertical-align: top;\n",
              "    }\n",
              "\n",
              "    .dataframe thead th {\n",
              "        text-align: right;\n",
              "    }\n",
              "</style>\n",
              "<table border=\"1\" class=\"dataframe\">\n",
              "  <thead>\n",
              "    <tr style=\"text-align: right;\">\n",
              "      <th></th>\n",
              "      <th>Restaurant</th>\n",
              "      <th>Review</th>\n",
              "      <th>topics</th>\n",
              "    </tr>\n",
              "  </thead>\n",
              "  <tbody>\n",
              "    <tr>\n",
              "      <th>0</th>\n",
              "      <td>Mo-Mo-Paradise (โม โม พาราไดซ์) เดอะมอลล์ บางกะปิ</td>\n",
              "      <td>ที่สำคัญของร้านนี้คือบริการดีมากพนักงานน่ารักส...</td>\n",
              "      <td>0</td>\n",
              "    </tr>\n",
              "    <tr>\n",
              "      <th>1</th>\n",
              "      <td>Mo-Mo-Paradise (โม โม พาราไดซ์) เดอะมอลล์ บางกะปิ</td>\n",
              "      <td>นึกถึงชาบูญี่ปุ่นยังไงก็ต้อง คิดถึงโมโม่ พาราไ...</td>\n",
              "      <td>2</td>\n",
              "    </tr>\n",
              "    <tr>\n",
              "      <th>2</th>\n",
              "      <td>Mo-Mo-Paradise (โม โม พาราไดซ์) เดอะมอลล์ บางกะปิ</td>\n",
              "      <td>มาทานช่วงนี้ สามารถนั่งโต๊ะเดียวกัน หม้อเดียวก...</td>\n",
              "      <td>3</td>\n",
              "    </tr>\n",
              "    <tr>\n",
              "      <th>3</th>\n",
              "      <td>Mo-Mo-Paradise (โม โม พาราไดซ์) เดอะมอลล์ บางกะปิ</td>\n",
              "      <td>ถ้านึกถึงชาบูที่มีเนื้อเน้นๆ ในราคาไม่โหดจนเกิ...</td>\n",
              "      <td>3</td>\n",
              "    </tr>\n",
              "    <tr>\n",
              "      <th>4</th>\n",
              "      <td>Mo-Mo-Paradise (โม โม พาราไดซ์) เดอะมอลล์ บางกะปิ</td>\n",
              "      <td>เดินมาหน้าร้านแล้วได้กลิ่นชาบูหอมมาก ๆ  ประกอบ...</td>\n",
              "      <td>0</td>\n",
              "    </tr>\n",
              "    <tr>\n",
              "      <th>5</th>\n",
              "      <td>Mo-Mo-Paradise (โม โม พาราไดซ์) เดอะมอลล์ บางกะปิ</td>\n",
              "      <td>ร้านบุฟเฟ่ ชาบูแนวญี่ปุ่น สายเนื้อหมู เนื้อวัว...</td>\n",
              "      <td>2</td>\n",
              "    </tr>\n",
              "    <tr>\n",
              "      <th>6</th>\n",
              "      <td>Mo-Mo-Paradise (โม โม พาราไดซ์) เดอะมอลล์ บางกะปิ</td>\n",
              "      <td>Number 20 : โมโม – พาราไดส์ (สาขาเดอะมอลบางกะป...</td>\n",
              "      <td>1</td>\n",
              "    </tr>\n",
              "    <tr>\n",
              "      <th>7</th>\n",
              "      <td>Mo-Mo-Paradise (โม โม พาราไดซ์) เดอะมอลล์ บางกะปิ</td>\n",
              "      <td>ร้านชาบูเฟรนไชส์รสชาติดีมากคุ้มค่าเหมาะสมกับรา...</td>\n",
              "      <td>0</td>\n",
              "    </tr>\n",
              "    <tr>\n",
              "      <th>8</th>\n",
              "      <td>Shabushi (ชาบูชิ) เดอะมอลล์บางกะปิ ชั้น G</td>\n",
              "      <td>มา านที่ขาบูชิต้องมาตอนหิว ไม่งั้นจะไม่คุ้มนะค...</td>\n",
              "      <td>4</td>\n",
              "    </tr>\n",
              "    <tr>\n",
              "      <th>9</th>\n",
              "      <td>Shabushi (ชาบูชิ) เดอะมอลล์บางกะปิ ชั้น G</td>\n",
              "      <td>ใครชอบกุ้งทอดเทมปุระ แค่กุ้งเทมปุระก็คุ้มแล้ว ...</td>\n",
              "      <td>4</td>\n",
              "    </tr>\n",
              "    <tr>\n",
              "      <th>10</th>\n",
              "      <td>Shabushi (ชาบูชิ) เดอะมอลล์บางกะปิ ชั้น G</td>\n",
              "      <td>กลับมาอัพเดทราคาชาบูชิ ตอนนี้อยู่ที่ 399 บาท n...</td>\n",
              "      <td>4</td>\n",
              "    </tr>\n",
              "    <tr>\n",
              "      <th>11</th>\n",
              "      <td>Shabushi (ชาบูชิ) เดอะมอลล์บางกะปิ ชั้น G</td>\n",
              "      <td>ห่างหายไปนานสำหรับชาบูชิ ตั้งแต่ทางร้านได้ปรับ...</td>\n",
              "      <td>4</td>\n",
              "    </tr>\n",
              "    <tr>\n",
              "      <th>12</th>\n",
              "      <td>Shabushi (ชาบูชิ) เดอะมอลล์บางกะปิ ชั้น G</td>\n",
              "      <td>เมื่อหลายวันก่อนนัดหาข้าวทานกับเดอะแกงค์ และก็...</td>\n",
              "      <td>1</td>\n",
              "    </tr>\n",
              "    <tr>\n",
              "      <th>13</th>\n",
              "      <td>Shabushi (ชาบูชิ) เดอะมอลล์บางกะปิ ชั้น G</td>\n",
              "      <td>บอกตรงๆว่าหลายครั้งที่เลือกจะกินบุฟเฟต์จะต้องอ...</td>\n",
              "      <td>1</td>\n",
              "    </tr>\n",
              "    <tr>\n",
              "      <th>14</th>\n",
              "      <td>Shabushi (ชาบูชิ) เดอะมอลล์บางกะปิ ชั้น G</td>\n",
              "      <td>สวัสดีครับวันนี้จะขอมารีวิวร้านชาบูชิ บุฟเฟขวั...</td>\n",
              "      <td>4</td>\n",
              "    </tr>\n",
              "    <tr>\n",
              "      <th>15</th>\n",
              "      <td>Shabushi (ชาบูชิ) เดอะมอลล์บางกะปิ ชั้น G</td>\n",
              "      <td>ชาบูชิ สาขาเดอะมอลล์บางกะปิ ตั้งอยู่ประตูหน้าห...</td>\n",
              "      <td>1</td>\n",
              "    </tr>\n",
              "    <tr>\n",
              "      <th>16</th>\n",
              "      <td>ข้าน้อยขอชาบู</td>\n",
              "      <td>หลังจากที่เคยลองสาขายูเนี่ยนมอลล์ไป รอบนี้มาที...</td>\n",
              "      <td>3</td>\n",
              "    </tr>\n",
              "    <tr>\n",
              "      <th>17</th>\n",
              "      <td>ข้าน้อยขอชาบู</td>\n",
              "      <td>ร้านบุฟเฟ่ต์ที่มีโปรโมชั่นหัวละ199บาท ไม่รวมน้...</td>\n",
              "      <td>4</td>\n",
              "    </tr>\n",
              "    <tr>\n",
              "      <th>18</th>\n",
              "      <td>ข้าน้อยขอชาบู</td>\n",
              "      <td>เคยรู้จักร้านนี้จากที่ union mall ไม่เคยได้ลอง...</td>\n",
              "      <td>4</td>\n",
              "    </tr>\n",
              "    <tr>\n",
              "      <th>19</th>\n",
              "      <td>ข้าน้อยขอชาบู</td>\n",
              "      <td>อร่อยมากค่ะ คุ้มค่าสมราคา บุฟเฟ่หมูผักต่างๆ รว...</td>\n",
              "      <td>3</td>\n",
              "    </tr>\n",
              "    <tr>\n",
              "      <th>20</th>\n",
              "      <td>ข้าน้อยขอชาบู</td>\n",
              "      <td>ก็ตามที่เขียนเลยครับ ว่า ถ้าจะจ่ายในราคา 199 บ...</td>\n",
              "      <td>2</td>\n",
              "    </tr>\n",
              "  </tbody>\n",
              "</table>\n",
              "</div>"
            ],
            "text/plain": [
              "                                           Restaurant  ... topics\n",
              "0   Mo-Mo-Paradise (โม โม พาราไดซ์) เดอะมอลล์ บางกะปิ  ...      0\n",
              "1   Mo-Mo-Paradise (โม โม พาราไดซ์) เดอะมอลล์ บางกะปิ  ...      2\n",
              "2   Mo-Mo-Paradise (โม โม พาราไดซ์) เดอะมอลล์ บางกะปิ  ...      3\n",
              "3   Mo-Mo-Paradise (โม โม พาราไดซ์) เดอะมอลล์ บางกะปิ  ...      3\n",
              "4   Mo-Mo-Paradise (โม โม พาราไดซ์) เดอะมอลล์ บางกะปิ  ...      0\n",
              "5   Mo-Mo-Paradise (โม โม พาราไดซ์) เดอะมอลล์ บางกะปิ  ...      2\n",
              "6   Mo-Mo-Paradise (โม โม พาราไดซ์) เดอะมอลล์ บางกะปิ  ...      1\n",
              "7   Mo-Mo-Paradise (โม โม พาราไดซ์) เดอะมอลล์ บางกะปิ  ...      0\n",
              "8           Shabushi (ชาบูชิ) เดอะมอลล์บางกะปิ ชั้น G  ...      4\n",
              "9           Shabushi (ชาบูชิ) เดอะมอลล์บางกะปิ ชั้น G  ...      4\n",
              "10          Shabushi (ชาบูชิ) เดอะมอลล์บางกะปิ ชั้น G  ...      4\n",
              "11          Shabushi (ชาบูชิ) เดอะมอลล์บางกะปิ ชั้น G  ...      4\n",
              "12          Shabushi (ชาบูชิ) เดอะมอลล์บางกะปิ ชั้น G  ...      1\n",
              "13          Shabushi (ชาบูชิ) เดอะมอลล์บางกะปิ ชั้น G  ...      1\n",
              "14          Shabushi (ชาบูชิ) เดอะมอลล์บางกะปิ ชั้น G  ...      4\n",
              "15          Shabushi (ชาบูชิ) เดอะมอลล์บางกะปิ ชั้น G  ...      1\n",
              "16                                      ข้าน้อยขอชาบู  ...      3\n",
              "17                                      ข้าน้อยขอชาบู  ...      4\n",
              "18                                      ข้าน้อยขอชาบู  ...      4\n",
              "19                                      ข้าน้อยขอชาบู  ...      3\n",
              "20                                      ข้าน้อยขอชาบู  ...      2\n",
              "\n",
              "[21 rows x 3 columns]"
            ]
          },
          "metadata": {
            "tags": []
          },
          "execution_count": 55
        }
      ]
    },
    {
      "cell_type": "code",
      "metadata": {
        "colab": {
          "base_uri": "https://localhost:8080/",
          "height": 306
        },
        "id": "SyxyRJShtDvg",
        "outputId": "77619bb6-124d-4204-8d70-48b3458bb3b6"
      },
      "source": [
        "Restaurant = df.groupby(\"Restaurant\")\n",
        "Restaurant.describe().head()"
      ],
      "execution_count": 56,
      "outputs": [
        {
          "output_type": "execute_result",
          "data": {
            "text/html": [
              "<div>\n",
              "<style scoped>\n",
              "    .dataframe tbody tr th:only-of-type {\n",
              "        vertical-align: middle;\n",
              "    }\n",
              "\n",
              "    .dataframe tbody tr th {\n",
              "        vertical-align: top;\n",
              "    }\n",
              "\n",
              "    .dataframe thead tr th {\n",
              "        text-align: left;\n",
              "    }\n",
              "\n",
              "    .dataframe thead tr:last-of-type th {\n",
              "        text-align: right;\n",
              "    }\n",
              "</style>\n",
              "<table border=\"1\" class=\"dataframe\">\n",
              "  <thead>\n",
              "    <tr>\n",
              "      <th></th>\n",
              "      <th colspan=\"8\" halign=\"left\">Review ID</th>\n",
              "      <th colspan=\"8\" halign=\"left\">Rating</th>\n",
              "      <th colspan=\"8\" halign=\"left\">topics</th>\n",
              "      <th colspan=\"8\" halign=\"left\">score</th>\n",
              "    </tr>\n",
              "    <tr>\n",
              "      <th></th>\n",
              "      <th>count</th>\n",
              "      <th>mean</th>\n",
              "      <th>std</th>\n",
              "      <th>min</th>\n",
              "      <th>25%</th>\n",
              "      <th>50%</th>\n",
              "      <th>75%</th>\n",
              "      <th>max</th>\n",
              "      <th>count</th>\n",
              "      <th>mean</th>\n",
              "      <th>std</th>\n",
              "      <th>min</th>\n",
              "      <th>25%</th>\n",
              "      <th>50%</th>\n",
              "      <th>75%</th>\n",
              "      <th>max</th>\n",
              "      <th>count</th>\n",
              "      <th>mean</th>\n",
              "      <th>std</th>\n",
              "      <th>min</th>\n",
              "      <th>25%</th>\n",
              "      <th>50%</th>\n",
              "      <th>75%</th>\n",
              "      <th>max</th>\n",
              "      <th>count</th>\n",
              "      <th>mean</th>\n",
              "      <th>std</th>\n",
              "      <th>min</th>\n",
              "      <th>25%</th>\n",
              "      <th>50%</th>\n",
              "      <th>75%</th>\n",
              "      <th>max</th>\n",
              "    </tr>\n",
              "    <tr>\n",
              "      <th>Restaurant</th>\n",
              "      <th></th>\n",
              "      <th></th>\n",
              "      <th></th>\n",
              "      <th></th>\n",
              "      <th></th>\n",
              "      <th></th>\n",
              "      <th></th>\n",
              "      <th></th>\n",
              "      <th></th>\n",
              "      <th></th>\n",
              "      <th></th>\n",
              "      <th></th>\n",
              "      <th></th>\n",
              "      <th></th>\n",
              "      <th></th>\n",
              "      <th></th>\n",
              "      <th></th>\n",
              "      <th></th>\n",
              "      <th></th>\n",
              "      <th></th>\n",
              "      <th></th>\n",
              "      <th></th>\n",
              "      <th></th>\n",
              "      <th></th>\n",
              "      <th></th>\n",
              "      <th></th>\n",
              "      <th></th>\n",
              "      <th></th>\n",
              "      <th></th>\n",
              "      <th></th>\n",
              "      <th></th>\n",
              "      <th></th>\n",
              "    </tr>\n",
              "  </thead>\n",
              "  <tbody>\n",
              "    <tr>\n",
              "      <th>Mo-Mo-Paradise (โม โม พาราไดซ์) เดอะมอลล์ บางกะปิ</th>\n",
              "      <td>8.0</td>\n",
              "      <td>4.5</td>\n",
              "      <td>2.449490</td>\n",
              "      <td>1.0</td>\n",
              "      <td>2.75</td>\n",
              "      <td>4.5</td>\n",
              "      <td>6.25</td>\n",
              "      <td>8.0</td>\n",
              "      <td>8.0</td>\n",
              "      <td>4.375</td>\n",
              "      <td>0.517549</td>\n",
              "      <td>4.0</td>\n",
              "      <td>4.00</td>\n",
              "      <td>4.0</td>\n",
              "      <td>5.00</td>\n",
              "      <td>5.0</td>\n",
              "      <td>8.0</td>\n",
              "      <td>1.375</td>\n",
              "      <td>1.302470</td>\n",
              "      <td>0.0</td>\n",
              "      <td>0.0</td>\n",
              "      <td>1.5</td>\n",
              "      <td>2.25</td>\n",
              "      <td>3.0</td>\n",
              "      <td>8.0</td>\n",
              "      <td>0.997467</td>\n",
              "      <td>0.001122</td>\n",
              "      <td>0.995896</td>\n",
              "      <td>0.996688</td>\n",
              "      <td>0.997448</td>\n",
              "      <td>0.998292</td>\n",
              "      <td>0.999242</td>\n",
              "    </tr>\n",
              "    <tr>\n",
              "      <th>Shabushi (ชาบูชิ) เดอะมอลล์บางกะปิ ชั้น G</th>\n",
              "      <td>8.0</td>\n",
              "      <td>12.5</td>\n",
              "      <td>2.449490</td>\n",
              "      <td>9.0</td>\n",
              "      <td>10.75</td>\n",
              "      <td>12.5</td>\n",
              "      <td>14.25</td>\n",
              "      <td>16.0</td>\n",
              "      <td>8.0</td>\n",
              "      <td>3.500</td>\n",
              "      <td>0.534522</td>\n",
              "      <td>3.0</td>\n",
              "      <td>3.00</td>\n",
              "      <td>3.5</td>\n",
              "      <td>4.00</td>\n",
              "      <td>4.0</td>\n",
              "      <td>8.0</td>\n",
              "      <td>2.875</td>\n",
              "      <td>1.552648</td>\n",
              "      <td>1.0</td>\n",
              "      <td>1.0</td>\n",
              "      <td>4.0</td>\n",
              "      <td>4.00</td>\n",
              "      <td>4.0</td>\n",
              "      <td>8.0</td>\n",
              "      <td>0.997880</td>\n",
              "      <td>0.000895</td>\n",
              "      <td>0.996988</td>\n",
              "      <td>0.997161</td>\n",
              "      <td>0.997782</td>\n",
              "      <td>0.998210</td>\n",
              "      <td>0.999533</td>\n",
              "    </tr>\n",
              "    <tr>\n",
              "      <th>ข้าน้อยขอชาบู</th>\n",
              "      <td>5.0</td>\n",
              "      <td>19.0</td>\n",
              "      <td>1.581139</td>\n",
              "      <td>17.0</td>\n",
              "      <td>18.00</td>\n",
              "      <td>19.0</td>\n",
              "      <td>20.00</td>\n",
              "      <td>21.0</td>\n",
              "      <td>4.0</td>\n",
              "      <td>4.000</td>\n",
              "      <td>0.816497</td>\n",
              "      <td>3.0</td>\n",
              "      <td>3.75</td>\n",
              "      <td>4.0</td>\n",
              "      <td>4.25</td>\n",
              "      <td>5.0</td>\n",
              "      <td>5.0</td>\n",
              "      <td>3.200</td>\n",
              "      <td>0.836660</td>\n",
              "      <td>2.0</td>\n",
              "      <td>3.0</td>\n",
              "      <td>3.0</td>\n",
              "      <td>4.00</td>\n",
              "      <td>4.0</td>\n",
              "      <td>5.0</td>\n",
              "      <td>0.997854</td>\n",
              "      <td>0.000794</td>\n",
              "      <td>0.996559</td>\n",
              "      <td>0.997829</td>\n",
              "      <td>0.997886</td>\n",
              "      <td>0.998426</td>\n",
              "      <td>0.998573</td>\n",
              "    </tr>\n",
              "  </tbody>\n",
              "</table>\n",
              "</div>"
            ],
            "text/plain": [
              "                                                  Review ID  ...     score\n",
              "                                                      count  ...       max\n",
              "Restaurant                                                   ...          \n",
              "Mo-Mo-Paradise (โม โม พาราไดซ์) เดอะมอลล์ บางกะปิ       8.0  ...  0.999242\n",
              "Shabushi (ชาบูชิ) เดอะมอลล์บางกะปิ ชั้น G               8.0  ...  0.999533\n",
              "ข้าน้อยขอชาบู                                           5.0  ...  0.998573\n",
              "\n",
              "[3 rows x 32 columns]"
            ]
          },
          "metadata": {
            "tags": []
          },
          "execution_count": 56
        }
      ]
    }
  ]
}