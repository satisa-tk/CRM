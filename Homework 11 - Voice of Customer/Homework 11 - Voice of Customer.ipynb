{
  "nbformat": 4,
  "nbformat_minor": 0,
  "metadata": {
    "colab": {
      "name": "Homework 11 - Voice of Customer.ipynb",
      "provenance": [],
      "collapsed_sections": []
    },
    "kernelspec": {
      "name": "python3",
      "display_name": "Python 3"
    },
    "language_info": {
      "name": "python"
    }
  },
  "cells": [
    {
      "cell_type": "code",
      "metadata": {
        "colab": {
          "base_uri": "https://localhost:8080/"
        },
        "id": "r0wgxe3vqVe-",
        "outputId": "6780f000-595e-4fd2-f2f5-15508afeac23"
      },
      "source": [
        "from google.colab import drive\n",
        "drive.mount('/content/drive')"
      ],
      "execution_count": 22,
      "outputs": [
        {
          "output_type": "stream",
          "text": [
            "Drive already mounted at /content/drive; to attempt to forcibly remount, call drive.mount(\"/content/drive\", force_remount=True).\n"
          ],
          "name": "stdout"
        }
      ]
    },
    {
      "cell_type": "code",
      "metadata": {
        "colab": {
          "base_uri": "https://localhost:8080/"
        },
        "id": "B6vTHqjgqEO0",
        "outputId": "9911612f-506e-4a15-9695-1b9b66ad4813"
      },
      "source": [
        "%cd '/content/drive/My Drive/HW_CRM'\n",
        "%ls"
      ],
      "execution_count": 23,
      "outputs": [
        {
          "output_type": "stream",
          "text": [
            "/content/drive/My Drive/HW_CRM\n",
            "'Customer Behaviors (Responses).xlsx'   Retail_Data_Response.csv\n",
            "'Customer Preference Survey.csv'        Retail_Data_Transactions.csv\n",
            " CustomerReviews.csv                   'Supermarket Data.csv'\n"
          ],
          "name": "stdout"
        }
      ]
    },
    {
      "cell_type": "code",
      "metadata": {
        "colab": {
          "base_uri": "https://localhost:8080/"
        },
        "id": "XAue08ekpvda",
        "outputId": "35c9bde7-e869-45e8-ee5c-6132993a4527"
      },
      "source": [
        "!pip install mlxtend"
      ],
      "execution_count": 24,
      "outputs": [
        {
          "output_type": "stream",
          "text": [
            "Requirement already satisfied: mlxtend in /usr/local/lib/python3.7/dist-packages (0.14.0)\n",
            "Requirement already satisfied: setuptools in /usr/local/lib/python3.7/dist-packages (from mlxtend) (57.0.0)\n",
            "Requirement already satisfied: scipy>=0.17 in /usr/local/lib/python3.7/dist-packages (from mlxtend) (1.4.1)\n",
            "Requirement already satisfied: matplotlib>=1.5.1 in /usr/local/lib/python3.7/dist-packages (from mlxtend) (3.2.2)\n",
            "Requirement already satisfied: pandas>=0.17.1 in /usr/local/lib/python3.7/dist-packages (from mlxtend) (1.2.4)\n",
            "Requirement already satisfied: numpy>=1.10.4 in /usr/local/lib/python3.7/dist-packages (from mlxtend) (1.20.3)\n",
            "Requirement already satisfied: scikit-learn>=0.18 in /usr/local/lib/python3.7/dist-packages (from mlxtend) (0.22.2.post1)\n",
            "Requirement already satisfied: python-dateutil>=2.1 in /usr/local/lib/python3.7/dist-packages (from matplotlib>=1.5.1->mlxtend) (2.8.1)\n",
            "Requirement already satisfied: kiwisolver>=1.0.1 in /usr/local/lib/python3.7/dist-packages (from matplotlib>=1.5.1->mlxtend) (1.3.1)\n",
            "Requirement already satisfied: cycler>=0.10 in /usr/local/lib/python3.7/dist-packages (from matplotlib>=1.5.1->mlxtend) (0.10.0)\n",
            "Requirement already satisfied: pyparsing!=2.0.4,!=2.1.2,!=2.1.6,>=2.0.1 in /usr/local/lib/python3.7/dist-packages (from matplotlib>=1.5.1->mlxtend) (2.4.7)\n",
            "Requirement already satisfied: pytz>=2017.3 in /usr/local/lib/python3.7/dist-packages (from pandas>=0.17.1->mlxtend) (2018.9)\n",
            "Requirement already satisfied: joblib>=0.11 in /usr/local/lib/python3.7/dist-packages (from scikit-learn>=0.18->mlxtend) (1.0.1)\n",
            "Requirement already satisfied: six>=1.5 in /usr/local/lib/python3.7/dist-packages (from python-dateutil>=2.1->matplotlib>=1.5.1->mlxtend) (1.15.0)\n"
          ],
          "name": "stdout"
        }
      ]
    },
    {
      "cell_type": "code",
      "metadata": {
        "colab": {
          "base_uri": "https://localhost:8080/"
        },
        "id": "CUjJrYwdrMGQ",
        "outputId": "2ccd6fd3-b659-4a1b-fd89-41a7159053f9"
      },
      "source": [
        "!pip install --upgrade pythainlp\n",
        "!pip install pyLDAvis"
      ],
      "execution_count": 25,
      "outputs": [
        {
          "output_type": "stream",
          "text": [
            "Requirement already up-to-date: pythainlp in /usr/local/lib/python3.7/dist-packages (2.3.1)\n",
            "Requirement already satisfied, skipping upgrade: tinydb>=3.0 in /usr/local/lib/python3.7/dist-packages (from pythainlp) (4.4.0)\n",
            "Requirement already satisfied, skipping upgrade: python-crfsuite>=0.9.6 in /usr/local/lib/python3.7/dist-packages (from pythainlp) (0.9.7)\n",
            "Requirement already satisfied, skipping upgrade: requests>=2.22.0 in /usr/local/lib/python3.7/dist-packages (from pythainlp) (2.23.0)\n",
            "Requirement already satisfied, skipping upgrade: urllib3!=1.25.0,!=1.25.1,<1.26,>=1.21.1 in /usr/local/lib/python3.7/dist-packages (from requests>=2.22.0->pythainlp) (1.24.3)\n",
            "Requirement already satisfied, skipping upgrade: idna<3,>=2.5 in /usr/local/lib/python3.7/dist-packages (from requests>=2.22.0->pythainlp) (2.10)\n",
            "Requirement already satisfied, skipping upgrade: certifi>=2017.4.17 in /usr/local/lib/python3.7/dist-packages (from requests>=2.22.0->pythainlp) (2020.12.5)\n",
            "Requirement already satisfied, skipping upgrade: chardet<4,>=3.0.2 in /usr/local/lib/python3.7/dist-packages (from requests>=2.22.0->pythainlp) (3.0.4)\n",
            "Requirement already satisfied: pyLDAvis in /usr/local/lib/python3.7/dist-packages (3.3.1)\n",
            "Requirement already satisfied: funcy in /usr/local/lib/python3.7/dist-packages (from pyLDAvis) (1.16)\n",
            "Requirement already satisfied: jinja2 in /usr/local/lib/python3.7/dist-packages (from pyLDAvis) (2.11.3)\n",
            "Requirement already satisfied: numpy>=1.20.0 in /usr/local/lib/python3.7/dist-packages (from pyLDAvis) (1.20.3)\n",
            "Requirement already satisfied: joblib in /usr/local/lib/python3.7/dist-packages (from pyLDAvis) (1.0.1)\n",
            "Requirement already satisfied: scikit-learn in /usr/local/lib/python3.7/dist-packages (from pyLDAvis) (0.22.2.post1)\n",
            "Requirement already satisfied: sklearn in /usr/local/lib/python3.7/dist-packages (from pyLDAvis) (0.0)\n",
            "Requirement already satisfied: numexpr in /usr/local/lib/python3.7/dist-packages (from pyLDAvis) (2.7.3)\n",
            "Requirement already satisfied: pandas>=1.2.0 in /usr/local/lib/python3.7/dist-packages (from pyLDAvis) (1.2.4)\n",
            "Requirement already satisfied: setuptools in /usr/local/lib/python3.7/dist-packages (from pyLDAvis) (57.0.0)\n",
            "Requirement already satisfied: gensim in /usr/local/lib/python3.7/dist-packages (from pyLDAvis) (3.6.0)\n",
            "Requirement already satisfied: future in /usr/local/lib/python3.7/dist-packages (from pyLDAvis) (0.16.0)\n",
            "Requirement already satisfied: scipy in /usr/local/lib/python3.7/dist-packages (from pyLDAvis) (1.4.1)\n",
            "Requirement already satisfied: MarkupSafe>=0.23 in /usr/local/lib/python3.7/dist-packages (from jinja2->pyLDAvis) (2.0.1)\n",
            "Requirement already satisfied: python-dateutil>=2.7.3 in /usr/local/lib/python3.7/dist-packages (from pandas>=1.2.0->pyLDAvis) (2.8.1)\n",
            "Requirement already satisfied: pytz>=2017.3 in /usr/local/lib/python3.7/dist-packages (from pandas>=1.2.0->pyLDAvis) (2018.9)\n",
            "Requirement already satisfied: smart-open>=1.2.1 in /usr/local/lib/python3.7/dist-packages (from gensim->pyLDAvis) (5.0.0)\n",
            "Requirement already satisfied: six>=1.5.0 in /usr/local/lib/python3.7/dist-packages (from gensim->pyLDAvis) (1.15.0)\n"
          ],
          "name": "stdout"
        }
      ]
    },
    {
      "cell_type": "markdown",
      "metadata": {
        "id": "YBJj6nPuvJYi"
      },
      "source": [
        "# **Load Data**"
      ]
    },
    {
      "cell_type": "code",
      "metadata": {
        "id": "lRr7EJO9rcMw"
      },
      "source": [
        "import pandas as pd\n",
        "import pythainlp\n",
        "import gensim\n",
        "import pyLDAvis.gensim_models\n",
        "pyLDAvis.enable_notebook()\n",
        "import warnings\n",
        "warnings.filterwarnings(\"ignore\", category=DeprecationWarning) "
      ],
      "execution_count": 26,
      "outputs": []
    },
    {
      "cell_type": "code",
      "metadata": {
        "colab": {
          "base_uri": "https://localhost:8080/",
          "height": 305
        },
        "id": "T1OcJSRerj0W",
        "outputId": "3d65253d-e5db-4a93-bdb4-2ef7323fe28c"
      },
      "source": [
        "df = pd.read_csv('CustomerReviews.csv')\n",
        "df.head()"
      ],
      "execution_count": 27,
      "outputs": [
        {
          "output_type": "execute_result",
          "data": {
            "text/html": [
              "<div>\n",
              "<style scoped>\n",
              "    .dataframe tbody tr th:only-of-type {\n",
              "        vertical-align: middle;\n",
              "    }\n",
              "\n",
              "    .dataframe tbody tr th {\n",
              "        vertical-align: top;\n",
              "    }\n",
              "\n",
              "    .dataframe thead th {\n",
              "        text-align: right;\n",
              "    }\n",
              "</style>\n",
              "<table border=\"1\" class=\"dataframe\">\n",
              "  <thead>\n",
              "    <tr style=\"text-align: right;\">\n",
              "      <th></th>\n",
              "      <th>Review ID</th>\n",
              "      <th>Restaurant_ID</th>\n",
              "      <th>Restaurant</th>\n",
              "      <th>User</th>\n",
              "      <th>Headline</th>\n",
              "      <th>Review</th>\n",
              "      <th>Rating</th>\n",
              "    </tr>\n",
              "  </thead>\n",
              "  <tbody>\n",
              "    <tr>\n",
              "      <th>0</th>\n",
              "      <td>1</td>\n",
              "      <td>352696Px-mo-mo-paradise-เดอะมอลล์-บางกะปิ</td>\n",
              "      <td>Mo-Mo-Paradise (โม โม พาราไดซ์) เดอะมอลล์ บางกะปิ</td>\n",
              "      <td>7b16469831074f7abc7824745ee75212</td>\n",
              "      <td>ที่สำคัญของร้านนี้คือบริการดีมากพนักงานน่ารักส...</td>\n",
              "      <td>ที่สำคัญของร้านนี้คือบริการดีมากพนักงานน่ารักส...</td>\n",
              "      <td>5.0</td>\n",
              "    </tr>\n",
              "    <tr>\n",
              "      <th>1</th>\n",
              "      <td>2</td>\n",
              "      <td>352696Px-mo-mo-paradise-เดอะมอลล์-บางกะปิ</td>\n",
              "      <td>Mo-Mo-Paradise (โม โม พาราไดซ์) เดอะมอลล์ บางกะปิ</td>\n",
              "      <td>pakkaramonpondej</td>\n",
              "      <td>รสชาติเหมือนทุกสาขา แต่สาขานี้ บริการดี ที่นั่งดี</td>\n",
              "      <td>นึกถึงชาบูญี่ปุ่นยังไงก็ต้อง คิดถึงโมโม่ พาราไ...</td>\n",
              "      <td>5.0</td>\n",
              "    </tr>\n",
              "    <tr>\n",
              "      <th>2</th>\n",
              "      <td>3</td>\n",
              "      <td>352696Px-mo-mo-paradise-เดอะมอลล์-บางกะปิ</td>\n",
              "      <td>Mo-Mo-Paradise (โม โม พาราไดซ์) เดอะมอลล์ บางกะปิ</td>\n",
              "      <td>saanowy</td>\n",
              "      <td>ชาบูพรีเมี่ยมสไตล์ญี่ปุ่น เนื้อดีมากกก</td>\n",
              "      <td>มาทานช่วงนี้ สามารถนั่งโต๊ะเดียวกัน หม้อเดียวก...</td>\n",
              "      <td>4.0</td>\n",
              "    </tr>\n",
              "    <tr>\n",
              "      <th>3</th>\n",
              "      <td>4</td>\n",
              "      <td>352696Px-mo-mo-paradise-เดอะมอลล์-บางกะปิ</td>\n",
              "      <td>Mo-Mo-Paradise (โม โม พาราไดซ์) เดอะมอลล์ บางกะปิ</td>\n",
              "      <td>ployynp</td>\n",
              "      <td>เนื้อดี ไอติมดี คุ้มค่าดี</td>\n",
              "      <td>ถ้านึกถึงชาบูที่มีเนื้อเน้นๆ ในราคาไม่โหดจนเกิ...</td>\n",
              "      <td>4.0</td>\n",
              "    </tr>\n",
              "    <tr>\n",
              "      <th>4</th>\n",
              "      <td>5</td>\n",
              "      <td>352696Px-mo-mo-paradise-เดอะมอลล์-บางกะปิ</td>\n",
              "      <td>Mo-Mo-Paradise (โม โม พาราไดซ์) เดอะมอลล์ บางกะปิ</td>\n",
              "      <td>665a902b335b434ab489f00f2fbb477e</td>\n",
              "      <td>อาหารมีคุณภาพ บริการดีค่ะ</td>\n",
              "      <td>เดินมาหน้าร้านแล้วได้กลิ่นชาบูหอมมาก ๆ  ประกอบ...</td>\n",
              "      <td>5.0</td>\n",
              "    </tr>\n",
              "  </tbody>\n",
              "</table>\n",
              "</div>"
            ],
            "text/plain": [
              "   Review ID  ... Rating\n",
              "0          1  ...    5.0\n",
              "1          2  ...    5.0\n",
              "2          3  ...    4.0\n",
              "3          4  ...    4.0\n",
              "4          5  ...    5.0\n",
              "\n",
              "[5 rows x 7 columns]"
            ]
          },
          "metadata": {
            "tags": []
          },
          "execution_count": 27
        }
      ]
    },
    {
      "cell_type": "markdown",
      "metadata": {
        "id": "Zv2yUFQxr8_O"
      },
      "source": [
        "# **Tokenize Words**"
      ]
    },
    {
      "cell_type": "code",
      "metadata": {
        "id": "Gxn5-vDErrrq"
      },
      "source": [
        "stopwords = list(pythainlp.corpus.thai_stopwords())\n",
        "removed = [' ', '  ', '\\n', 'ร้าน', '(', ')']\n",
        "screening = stopwords + removed\n",
        "\n",
        "def tokenize_with_space(sentence):\n",
        "  merged = ''\n",
        "  words = pythainlp.word_tokenize(str(sentence), engine='newmm')\n",
        "  for word in words:\n",
        "    if word not in screening:\n",
        "      merged = merged + ',' + word\n",
        "  return merged[1:]"
      ],
      "execution_count": 39,
      "outputs": []
    },
    {
      "cell_type": "code",
      "metadata": {
        "colab": {
          "base_uri": "https://localhost:8080/",
          "height": 305
        },
        "id": "gCpaOjqFsQaQ",
        "outputId": "99bba5d6-2423-45be-a239-a115be47cee5"
      },
      "source": [
        "df['Review_tokenized'] = df['Review'].apply(lambda x: tokenize_with_space(x))\n",
        "df.head()"
      ],
      "execution_count": 29,
      "outputs": [
        {
          "output_type": "execute_result",
          "data": {
            "text/html": [
              "<div>\n",
              "<style scoped>\n",
              "    .dataframe tbody tr th:only-of-type {\n",
              "        vertical-align: middle;\n",
              "    }\n",
              "\n",
              "    .dataframe tbody tr th {\n",
              "        vertical-align: top;\n",
              "    }\n",
              "\n",
              "    .dataframe thead th {\n",
              "        text-align: right;\n",
              "    }\n",
              "</style>\n",
              "<table border=\"1\" class=\"dataframe\">\n",
              "  <thead>\n",
              "    <tr style=\"text-align: right;\">\n",
              "      <th></th>\n",
              "      <th>Review ID</th>\n",
              "      <th>Restaurant_ID</th>\n",
              "      <th>Restaurant</th>\n",
              "      <th>User</th>\n",
              "      <th>Headline</th>\n",
              "      <th>Review</th>\n",
              "      <th>Rating</th>\n",
              "      <th>Review_tokenized</th>\n",
              "    </tr>\n",
              "  </thead>\n",
              "  <tbody>\n",
              "    <tr>\n",
              "      <th>0</th>\n",
              "      <td>1</td>\n",
              "      <td>352696Px-mo-mo-paradise-เดอะมอลล์-บางกะปิ</td>\n",
              "      <td>Mo-Mo-Paradise (โม โม พาราไดซ์) เดอะมอลล์ บางกะปิ</td>\n",
              "      <td>7b16469831074f7abc7824745ee75212</td>\n",
              "      <td>ที่สำคัญของร้านนี้คือบริการดีมากพนักงานน่ารักส...</td>\n",
              "      <td>ที่สำคัญของร้านนี้คือบริการดีมากพนักงานน่ารักส...</td>\n",
              "      <td>5.0</td>\n",
              "      <td>บริการ,ดีมาก,พนักงาน,น่ารัก,สะอาดสะอ้าน,ใส่ใจ,...</td>\n",
              "    </tr>\n",
              "    <tr>\n",
              "      <th>1</th>\n",
              "      <td>2</td>\n",
              "      <td>352696Px-mo-mo-paradise-เดอะมอลล์-บางกะปิ</td>\n",
              "      <td>Mo-Mo-Paradise (โม โม พาราไดซ์) เดอะมอลล์ บางกะปิ</td>\n",
              "      <td>pakkaramonpondej</td>\n",
              "      <td>รสชาติเหมือนทุกสาขา แต่สาขานี้ บริการดี ที่นั่งดี</td>\n",
              "      <td>นึกถึงชาบูญี่ปุ่นยังไงก็ต้อง คิดถึงโมโม่ พาราไ...</td>\n",
              "      <td>5.0</td>\n",
              "      <td>นึกถึง,ชาบู,ญี่ปุ่น,คิดถึง,โม,โม่,พาราไดซ์,คุณ...</td>\n",
              "    </tr>\n",
              "    <tr>\n",
              "      <th>2</th>\n",
              "      <td>3</td>\n",
              "      <td>352696Px-mo-mo-paradise-เดอะมอลล์-บางกะปิ</td>\n",
              "      <td>Mo-Mo-Paradise (โม โม พาราไดซ์) เดอะมอลล์ บางกะปิ</td>\n",
              "      <td>saanowy</td>\n",
              "      <td>ชาบูพรีเมี่ยมสไตล์ญี่ปุ่น เนื้อดีมากกก</td>\n",
              "      <td>มาทานช่วงนี้ สามารถนั่งโต๊ะเดียวกัน หม้อเดียวก...</td>\n",
              "      <td>4.0</td>\n",
              "      <td>ทาน,นั่ง,โต๊ะ,หม้อ,โต๊ะ,ยังมี,ฉาก,กั้น,น้ำ,ซุป...</td>\n",
              "    </tr>\n",
              "    <tr>\n",
              "      <th>3</th>\n",
              "      <td>4</td>\n",
              "      <td>352696Px-mo-mo-paradise-เดอะมอลล์-บางกะปิ</td>\n",
              "      <td>Mo-Mo-Paradise (โม โม พาราไดซ์) เดอะมอลล์ บางกะปิ</td>\n",
              "      <td>ployynp</td>\n",
              "      <td>เนื้อดี ไอติมดี คุ้มค่าดี</td>\n",
              "      <td>ถ้านึกถึงชาบูที่มีเนื้อเน้นๆ ในราคาไม่โหดจนเกิ...</td>\n",
              "      <td>4.0</td>\n",
              "      <td>นึกถึง,ชาบู,เนื้อ,ราคา,โหด,เกินไป,นึกถึง,โม,โม...</td>\n",
              "    </tr>\n",
              "    <tr>\n",
              "      <th>4</th>\n",
              "      <td>5</td>\n",
              "      <td>352696Px-mo-mo-paradise-เดอะมอลล์-บางกะปิ</td>\n",
              "      <td>Mo-Mo-Paradise (โม โม พาราไดซ์) เดอะมอลล์ บางกะปิ</td>\n",
              "      <td>665a902b335b434ab489f00f2fbb477e</td>\n",
              "      <td>อาหารมีคุณภาพ บริการดีค่ะ</td>\n",
              "      <td>เดินมาหน้าร้านแล้วได้กลิ่นชาบูหอมมาก ๆ  ประกอบ...</td>\n",
              "      <td>5.0</td>\n",
              "      <td>เดิน,หน้า,ได้กลิ่น,ชาบู,หอ,มมาก,โปร,บัตรเครดิต...</td>\n",
              "    </tr>\n",
              "  </tbody>\n",
              "</table>\n",
              "</div>"
            ],
            "text/plain": [
              "   Review ID  ...                                   Review_tokenized\n",
              "0          1  ...  บริการ,ดีมาก,พนักงาน,น่ารัก,สะอาดสะอ้าน,ใส่ใจ,...\n",
              "1          2  ...  นึกถึง,ชาบู,ญี่ปุ่น,คิดถึง,โม,โม่,พาราไดซ์,คุณ...\n",
              "2          3  ...  ทาน,นั่ง,โต๊ะ,หม้อ,โต๊ะ,ยังมี,ฉาก,กั้น,น้ำ,ซุป...\n",
              "3          4  ...  นึกถึง,ชาบู,เนื้อ,ราคา,โหด,เกินไป,นึกถึง,โม,โม...\n",
              "4          5  ...  เดิน,หน้า,ได้กลิ่น,ชาบู,หอ,มมาก,โปร,บัตรเครดิต...\n",
              "\n",
              "[5 rows x 8 columns]"
            ]
          },
          "metadata": {
            "tags": []
          },
          "execution_count": 29
        }
      ]
    },
    {
      "cell_type": "code",
      "metadata": {
        "id": "FXFcznVasLfZ"
      },
      "source": [
        "documents = df['Review_tokenized'].to_list()\n",
        "texts = [[text for text in doc.split(',')] for doc in documents]\n",
        "dictionary = gensim.corpora.Dictionary(texts)"
      ],
      "execution_count": 30,
      "outputs": []
    },
    {
      "cell_type": "code",
      "metadata": {
        "colab": {
          "base_uri": "https://localhost:8080/"
        },
        "id": "V7USTfV2sbmj",
        "outputId": "40d34b24-6829-4cb6-d161-a0b8bd0fc943"
      },
      "source": [
        "print(dictionary.token2id.keys())"
      ],
      "execution_count": 31,
      "outputs": [
        {
          "output_type": "stream",
          "text": [
            "dict_keys(['1', '4', '560', 'กิน', 'ข้างนอก', 'ความต้องการ', 'คอ', 'คุณภาพ', 'คุ้ม', 'จำกัด', 'ซุป', 'ดำ', 'ดี', 'ดีมาก', 'ถาด', 'ถาม', 'น่ารัก', 'น้ำ', 'น้ำจิ้ม', 'บริการ', 'บาท', 'ประทับใจ', 'พนักงาน', 'พอกับ', 'ภาพ', 'รสชาติ', 'ราคา', 'สรุป', 'สะอาดสะอ้าน', 'สัน', 'หลากหลาย', 'อร่อย', 'อันนี้', 'อาหาร', 'เคลม', 'เซ็ท', 'เต้าเจี้ยว', 'เนื้อ', 'เป็ด', 'เผ็ด', 'แบบนี้', 'แปลก', 'แฟน', 'โดยรวม', 'โมจิ', 'ใส่ใจ', 'ไม่ต้อง', 'ไอติม', '\\u200b', '           ', '21', '30', '9', 'CTW', 'Terminal', 'กา', 'การงด', 'คิดถึง', 'ชาบู', 'ญี่ปุ่น', 'ฐาน', 'ทะยอย', 'ทำงาน', 'ที่ทาง', 'นาที', 'นึกถึง', 'พนักงานบริการ', 'พระราม', 'พรีเมียม', 'พาราไดซ์', 'มาตรา', 'มีโอ', 'รายละเอียด', 'ลูกค้า', 'สมาทาน', 'สาขา', 'สู้', 'ออร์เดอร์', 'เครื่องดื่ม', 'เค้า', 'เจอ', 'เป็นกันเอง', 'เหวี่ยง', 'แจ้ง', 'โม', 'โม่', 'โอเค', '', '++', '2', '555', '600', ':', '::', 'กก', 'กรุบ', 'กั้น', 'ของหวาน', 'คนละ', 'คาว', 'คุ', 'คุ้มค่า', 'จาน', 'จิ้ม', 'จืด', 'ฉาก', 'ชอบ', 'ชาเขียว', 'ชิ้น', 'ซอย', 'ซอส', 'ตก', 'ตะ', 'ตัก', 'ตามน้ำ', 'ต่างกัน', 'ถั่ว', 'ถ่ายรูป', 'ทาน', 'นั่ง', 'นุ่ม', 'บด', 'บาร์', 'บู', 'ผัก', 'ภาษา', 'มีชื่อ', 'ยังมี', 'รส', 'รี่', 'รู้สึก', 'ลอง', 'ลิ้น', 'ลืม', 'ววว', 'สด', 'สตอ', 'สั่ง', 'สามรส', 'ส่วนตัว', 'หนึบ', 'หม้อ', 'หวาน', 'อยากได้', 'เข้มข้น', 'เข้ากัน', 'เค็ม', 'เนื้อวัว', 'เนื้อสัตว์', 'เนื้อหมู', 'เบอ', 'เป็นผู้ใหญ่', 'เลือก', 'เสิร์ฟ', 'เหนียว', 'เห็ด', 'แดง', 'แตก', 'แตา', 'แนว', 'แย้', 'โควิด', 'โต๊ะ', 'โร', 'ใส', 'ไก่', 'ไข่', 'ไดฟูกุ', 'ไผ่', 'ไม้', 'ไหว', '3', 'ข้าว', 'จ่าย', 'ถ้วย', 'ธรรมดา', 'ส', 'ออ', 'เกินไป', 'เลี่ยน', 'โปร', 'โหด', 'ไว', 'ไอศกรีม', 'ขนม', 'คุณภาพดี', 'ตัดสินใจ', 'ต่าง ๆ', 'ที่จะ', 'ที่นั่ง', 'บัตรเครดิต', 'มมาก', 'ลูกชิ้น', 'สบายดี', 'หน้า', 'หอ', 'เดิน', 'เด็ก', 'เส้น', 'เหมือนกับ', 'แคบ', 'ได้กลิ่น', 'คามี', 'ซึ', 'นะคะ', 'บุ', 'บ๋วย', 'พอน', 'ฟเฟ่', 'รา', 'สาย', 'หยิบ', 'โซน', 'โปรโมชั่น', '+', '/', '20', '4.0', '5', 'Menu', 'Number', 'กรรมวิธี', 'กะปิ', 'ก์', 'คน', 'คะแนน', 'ชุด', 'ดังเดิม', 'บุฟเฟ่ต์', 'ประ', 'พารา', 'มอ', 'ยุค', 'ร้านอาหาร', 'ล', 'สุกี้', 'สไตล์', 'ส์', 'หมู', 'หลาก', 'หลายชนิด', 'เดอะ', 'เมนู', 'แบบฉบับ', 'แบ่ง', 'ได', 'ไทย', '–', '!!!!', '500', 'กาแฟ', 'งวด', 'ตอนที่', 'ตำ', 'ติด', 'ทั่วไป', 'น', 'บ๊วย', 'ยุ', 'ร้อน', 'ลุย', 'สุกี้ยากี้', 'อยู่แล้ว', 'ออสเตรเลีย', 'เป็นปกติ', 'เฟรนไชส์', 'เรื่อง', 'เหมาะสม', 'แนะนำ', 'โช', 'ไข่ไก่', 'ไอศครีม', '..', '399', 'กุ้ง', 'ของกิน', 'ขา', 'ชิ', 'ซูชิ', 'ซ่า', 'ตอน', 'ตอนนี้', 'นิดนึง', 'ปุระ', 'ปูอัด', 'ม', 'ละลานตา', 'สายพาน', 'หิว', 'ฮ่า', 'าน', 'เกี๊ยว', 'เท', 'เทียบ', 'เล่น', 'แพง', 'แล้วก็', 'ไม่งั้น', 'กลาย', 'กี่', 'ชั่วคราว', 'ชื่นใจ', 'ซะงั้น', 'ญี่', 'ดึก', 'ตบท้าย', 'ตัว', 'ทอด', 'ทานอาหาร', 'นพ', 'นึก', 'น้ะ', 'ปลา', 'ปุ', 'ผิดหวัง', 'วก', 'สมใจ', 'อย่า', 'อาหารเสริม', 'เติม', 'เป็นมา', 'เป็นหลัก', 'เย็น', '1.15', 'net', 'กลับมา', 'ของคาว', 'ชม.', 'ตรงนั้น', 'ยืน', 'ลายตา', 'สไลด์', 'อัพเดท', 'อิ่ม', 'เบ', 'เพลิน', 'ไลน์', '\"', '-', '/คน', '15', '359', 'G', 'Net', 'Shabushi', 'กด', 'กรอ', 'ขาดสารอาหาร', 'ขึ้นราคา', 'ข่าว', 'คนเดียว', 'ครึ่ง', 'คิว', 'งาน', 'จุ', 'ชั่วโมง', 'ชั้น', 'ชื่น', 'ดู', 'ตลับ', 'ตับ', 'ตั้งอยู่', 'ติง', 'ถนนใหญ่', 'ถูกใจ', 'ทำ', 'ทิ้ง', 'น้ำมัน', 'บดี', 'ปลาดิบ', 'ปอกเปลือก', 'ฝรั่ง', 'ฝั่ง', 'มอลล์', 'มื้อ', 'รอ', 'ระดับ', 'รายการ', 'ลด', 'ลา', 'ลูก', 'วันหยุด', 'วาง', 'วานิลา', 'สะอาด', 'สาเหตุ', 'สำหรับ', 'สไปรท์', 'หนา', 'หอม', 'หอย', 'หาไม่', 'ห่างหาย', 'ห้าง', 'อม', 'ออกมา', 'อาทิตย์', 'อีกครั้ง', 'เช็คบิล', 'เด่น', 'เด้ง', 'เบคอน', 'เปรี้ยวหวาน', 'เพื่อน', 'เลิก', 'เวลา', 'เสาร์', 'เหมือน', 'เหมือนกัน', 'แก้ว', 'แถม', 'แน่น', 'แป้ง', 'แย่', 'แออัด', 'โดน', 'โดยประมาณ', 'โฟลต', 'โอ', 'ใจดี', 'ใจมา', 'ใช้ได้', 'ใส่', 'ได้ยิน', 'ชอค', 'ต', 'นัด', 'นิ', 'มะนาว', 'มุ', 'ลงเอย', 'ว', 'วันก่อน', 'ห', 'หา', 'อยุ่', 'อาหารสด', 'เบอร์', 'แกงค์', 'แล', 'โก', 'กินที่', 'ขยัน', 'จอง', 'ชู', 'ณ์', 'บุฟเฟต์', 'ป', 'ประตู', 'พลาด', 'พอได้', 'พี่', 'รอบ', 'ร้อย', 'สาม', 'สุดท้าย', 'หลายครั้ง', 'หล่ะ', 'อาราม', 'เข้าหน้า', 'เต็ม', 'โชคดี', 'ขวัญใจ', 'ข้อดี', 'ต้องการ', 'ทั่วถึง', 'นํ้า', 'บ', 'ฟเฟ', 'มี่', 'ระบบ', 'รีวิว', 'สวัสดี', 'เก้', 'ใช้แล้ว', '^^', 'xx', 'กลยุทธ์', 'ขนาด', 'ข้น', 'ข้าวปั้น', 'ค่า', 'ชอป', 'ซุ้ม', 'ดีขึ้น', 'ตรงข้าม', 'ตรงนี้', 'ต้ม', 'ต้มยำ', 'ท่าน', 'นัล', 'บริเวณ', 'บัตรสมาชิก', 'ปรับปรุง', 'มันดี', 'มากขึ้น', 'ยอด', 'ลาน', 'สลัด', 'หมู่คณะ', 'ออกร้าน', 'อิอิ', 'เครือ', 'เคลื่อนตัว', 'เคาน์เตอร์', 'เบา', 'เป็นแนว', 'แมค', 'โชคชะตา', 'โด', 'โน้น', 'โออิชิ', '199', '39', '40', '49', 'HALL', 'MCC', 'ค่ายมวย', 'ด้านใน', 'ตอนแรก', 'ตัวเลือก', 'ติดกับ', 'ที่ไหนได้', 'นม', 'นา', 'น้ำดื่ม', 'พิซ', 'พิซซ่า', 'ฟี', 'ยู', 'รี', 'หลังจากที่', 'อลล์', 'อเรีย', 'เซ', 'แกงเขียวหวาน', 'แน่นอน', 'แวะ', '10', '300', '6', 'VAT', 'กำ', 'ค่าน้ำ', 'ช่อง', 'ซี', 'ซึป', 'ถูกหวย', 'ทอน', 'นึง', 'ฟรี', 'ฟู้ด', 'รับประกัน', 'ลอตเตอรี่', 'สัปดาห์', 'หวย', 'หัว', 'ฮัน', 'เงิน', 'แลก', 'โทส', 'ได้เวลา', 'Narai', 'mall', 'pizza', 'pizzeria', 'union', 'ของสด', 'ขึ้นใจ', 'ข้าวมันไก่', 'จำได้', 'ชื่อ', 'ตตี้', 'ตัดกำลัง', 'ตู้', 'นิว', 'บางส่วน', 'ปรุง', 'รู้จัก', 'ลี', 'สปา', 'สุก', 'เก', '😆', '🤣', '128', '255', '29', 'ครีม', 'จบ', 'จุก', 'ชาต', 'บรา', 'บุพ', 'ปิดท้าย', 'ย', 'วิป', 'สมราคา', 'สวย', 'เ', 'เซต', 'เด็ด', 'เป้ง', 'เฟ่', 'เรย', 'เริส', 'เเบบ', 'โชค', '%', '7', 'ทดแทน', 'ปรกติ', 'สดๆ ร้อนๆ', 'เงินสด', 'โดยเฉพาะ'])\n"
          ],
          "name": "stdout"
        }
      ]
    },
    {
      "cell_type": "code",
      "metadata": {
        "id": "WuzuKpUIsfDg"
      },
      "source": [
        "gensim_corpus = [dictionary.doc2bow(text, allow_update=True) for text in texts]\n",
        "word_frequencies = [[(dictionary[id], frequence) for id, frequence in couple] for couple in gensim_corpus]"
      ],
      "execution_count": 32,
      "outputs": []
    },
    {
      "cell_type": "markdown",
      "metadata": {
        "id": "UGGqmXvnshsx"
      },
      "source": [
        "# **Topic Modeling**"
      ]
    },
    {
      "cell_type": "code",
      "metadata": {
        "colab": {
          "base_uri": "https://localhost:8080/"
        },
        "id": "c2rrAWCasgKm",
        "outputId": "4d6ff9bb-567a-4182-ec52-d4d864156969"
      },
      "source": [
        "num_topics = 5\n",
        "chunksize = 4000 # size of the doc looked at every pass\n",
        "passes = 20 # number of passes through documents\n",
        "iterations = 50\n",
        "eval_every = 1  # Don't evaluate model perplexity, takes too much time.\n",
        "\n",
        "# Make a index to word dictionary.\n",
        "temp = dictionary[0]  # This is only to \"load\" the dictionary.\n",
        "id2word = dictionary.id2token\n",
        "\n",
        "%time model = gensim.models.LdaModel(corpus=gensim_corpus, id2word=id2word, chunksize=chunksize, \\\n",
        "                       alpha='auto', eta='auto', \\\n",
        "                       iterations=iterations, num_topics=num_topics, \\\n",
        "                       passes=passes, eval_every=eval_every)"
      ],
      "execution_count": 33,
      "outputs": [
        {
          "output_type": "stream",
          "text": [
            "CPU times: user 318 ms, sys: 2.99 ms, total: 321 ms\n",
            "Wall time: 320 ms\n"
          ],
          "name": "stdout"
        }
      ]
    },
    {
      "cell_type": "code",
      "metadata": {
        "colab": {
          "base_uri": "https://localhost:8080/",
          "height": 860
        },
        "id": "oX-4xSdWstXh",
        "outputId": "e4747070-c532-423f-ae62-43cb7076e18c"
      },
      "source": [
        "pyLDAvis.gensim_models.prepare(model, gensim_corpus, dictionary)"
      ],
      "execution_count": 34,
      "outputs": [
        {
          "output_type": "execute_result",
          "data": {
            "text/html": [
              "\n",
              "<link rel=\"stylesheet\" type=\"text/css\" href=\"https://cdn.jsdelivr.net/gh/bmabey/pyLDAvis@3.3.1/pyLDAvis/js/ldavis.v1.0.0.css\">\n",
              "\n",
              "\n",
              "<div id=\"ldavis_el3341405285649732645474273900\"></div>\n",
              "<script type=\"text/javascript\">\n",
              "\n",
              "var ldavis_el3341405285649732645474273900_data = {\"mdsDat\": {\"x\": [0.05621637053143298, -0.03808014130167207, -0.028260196270730266, 0.011677889560284052, -0.0015539225193147651], \"y\": [-0.005355358695131403, -0.040828106767244146, 0.03642416995464991, -0.015807499668599373, 0.025566795176324993], \"topics\": [1, 2, 3, 4, 5], \"cluster\": [1, 1, 1, 1, 1], \"Freq\": [27.17974295353285, 20.080584752153076, 18.16510435763961, 17.7429927097721, 16.831575226902366]}, \"tinfo\": {\"Term\": [\"\\u200b\", \"-\", \"\\u0e01\\u0e38\\u0e49\\u0e07\", \"\\u0e1b\\u0e38\\u0e23\\u0e30\", \"\\u0e40\\u0e17\", \"\\u0e21\", \"\\u0e01\\u0e34\\u0e19\", \"\\u0e17\\u0e32\\u0e19\", \":\", \"\\u0e1a\\u0e23\\u0e34\\u0e01\\u0e32\\u0e23\", \"\\u0e2d\\u0e32\\u0e2b\\u0e32\\u0e23\", \"\\u0e40\\u0e27\\u0e25\\u0e32\", \"\\u0e2a\\u0e14\", \"\\u0e04\\u0e19\\u0e25\\u0e30\", \"\\u0e1a\\u0e32\\u0e17\", \"\", \"\\u0e2b\\u0e25\\u0e32\\u0e01\\u0e2b\\u0e25\\u0e32\\u0e22\", \"\\u0e2a\\u0e33\\u0e2b\\u0e23\\u0e31\\u0e1a\", \"\\u0e2d\\u0e23\\u0e48\\u0e2d\\u0e22\", \"\\u0e0a\\u0e34\", \"199\", \"\\u0e0b\\u0e38\\u0e1b\", \"\\u0e43\\u0e0a\\u0e49\\u0e44\\u0e14\\u0e49\", \"\\u0e15\\u0e34\\u0e14\", \"\\u0e0b\\u0e39\\u0e0a\\u0e34\", \"\\u0e1c\\u0e31\\u0e01\", \"\\u0e2a\\u0e32\\u0e02\\u0e32\", \"\\u0e2b\\u0e19\\u0e49\\u0e32\", \"\\u0e1f\\u0e40\\u0e1f\\u0e48\", \"3\", \"\\u0e1f\\u0e40\\u0e1f\\u0e48\", \"\\u0e40\\u0e2b\\u0e47\\u0e14\", \"\\u0e40\\u0e19\\u0e37\\u0e49\\u0e2d\\u0e2b\\u0e21\\u0e39\", \"/\", \"+\", \"\\u0e1a\\u0e38\\u0e1f\\u0e40\\u0e1f\\u0e15\\u0e4c\", \"\\u0e0b\\u0e36\", \"\\u0e44\\u0e14\\u0e1f\\u0e39\\u0e01\\u0e38\", \"\\u0e44\\u0e21\\u0e49\", \"\\u0e2a\\u0e38\\u0e01\\u0e35\\u0e49\", \"\\u0e41\\u0e19\\u0e27\", \"::\", \"\\u0e44\\u0e1c\\u0e48\", \"\\u0e1e\\u0e2d\\u0e19\", \"600\", \"\\u0e01\\u0e01\", \"\\u0e1c\\u0e31\\u0e01\", \"\\u0e23\\u0e49\\u0e2d\\u0e22\", \"\\u0e2b\\u0e25\\u0e32\\u0e22\\u0e04\\u0e23\\u0e31\\u0e49\\u0e07\", \"\\u0e1b\", \"\\u0e1e\\u0e25\\u0e32\\u0e14\", \"\\u0e2b\\u0e25\\u0e48\\u0e30\", \"\\u0e40\\u0e02\\u0e49\\u0e32\\u0e2b\\u0e19\\u0e49\\u0e32\", \"\\u0e01\\u0e34\\u0e19\\u0e17\\u0e35\\u0e48\", \"\\u0e08\\u0e2d\\u0e07\", \"\\u0e13\\u0e4c\", \"\\u0e1e\\u0e35\\u0e48\", \"\\u0e2a\\u0e38\\u0e14\\u0e17\\u0e49\\u0e32\\u0e22\", \"\\u0e42\\u0e0a\\u0e04\\u0e14\\u0e35\", \"\\u0e40\\u0e15\\u0e47\\u0e21\", \":\", \"\\u0e1a\\u0e38\", \"\\u0e40\\u0e19\\u0e37\\u0e49\\u0e2d\\u0e27\\u0e31\\u0e27\", \"\\u0e44\\u0e01\\u0e48\", \"\\u0e14\\u0e33\", \"\\u0e19\\u0e49\\u0e33\\u0e08\\u0e34\\u0e49\\u0e21\", \"\\u0e0d\\u0e35\\u0e48\\u0e1b\\u0e38\\u0e48\\u0e19\", \"\", \"\\u0e42\\u0e21\", \"\\u0e19\\u0e49\\u0e33\", \"\\u0e02\\u0e2d\\u0e07\\u0e2b\\u0e27\\u0e32\\u0e19\", \"\\u0e40\\u0e25\\u0e37\\u0e2d\\u0e01\", \"\\u0e2d\\u0e23\\u0e48\\u0e2d\\u0e22\", \"\\u0e40\\u0e19\\u0e37\\u0e49\\u0e2d\", \"\\u0e0a\\u0e32\\u0e1a\\u0e39\", \"\\u0e44\\u0e2d\\u0e15\\u0e34\\u0e21\", \"\\u0e0b\\u0e38\\u0e1b\", \"\\u0e0a\\u0e2d\\u0e1a\", \"\\u0e17\\u0e32\\u0e19\", \"\\u0e2a\\u0e31\\u0e48\\u0e07\", \"\\u0e04\\u0e19\", \"\\u0e23\\u0e32\\u0e04\\u0e32\", \"\\u0e14\\u0e35\", \"\\u0e23\\u0e2a\\u0e0a\\u0e32\\u0e15\\u0e34\", \"\\u0e01\\u0e34\\u0e19\", \"2\", \"\\u0e1e\\u0e19\\u0e31\\u0e01\\u0e07\\u0e32\\u0e19\", \"\\u0e25\\u0e2d\\u0e07\", \"\\u0e1a\\u0e32\\u0e17\", \"\\u0e2a\\u0e32\\u0e02\\u0e32\", \"\\u0e2d\\u0e32\\u0e2b\\u0e32\\u0e23\", \"\\u0e43\\u0e0a\\u0e49\\u0e44\\u0e14\\u0e49\", \"\\u0e15\\u0e34\\u0e14\", \"\\u0e40\\u0e14\\u0e49\\u0e07\", \"\\u0e1b\\u0e2d\\u0e01\\u0e40\\u0e1b\\u0e25\\u0e37\\u0e2d\\u0e01\", \"\\u0e2b\\u0e2d\\u0e21\", \"\\u0e0a\\u0e37\\u0e48\\u0e19\", \"\\u0e42\\u0e14\\u0e19\", \"\\u0e2d\\u0e35\\u0e01\\u0e04\\u0e23\\u0e31\\u0e49\\u0e07\", \"\\u0e40\\u0e23\\u0e37\\u0e48\\u0e2d\\u0e07\", \"\\u0e40\\u0e0a\\u0e47\\u0e04\\u0e1a\\u0e34\\u0e25\", \"\\u0e43\\u0e08\\u0e14\\u0e35\", \"\\u0e27\\u0e32\\u0e19\\u0e34\\u0e25\\u0e32\", \"\\u0e40\\u0e27\\u0e25\\u0e32\", \"-\", \"\\u0e2a\\u0e33\\u0e2b\\u0e23\\u0e31\\u0e1a\", \"\\u0e41\\u0e22\\u0e48\", \"\\u0e02\\u0e36\\u0e49\\u0e19\\u0e23\\u0e32\\u0e04\\u0e32\", \"\\u0e17\\u0e31\\u0e48\\u0e27\\u0e44\\u0e1b\", \"\\u0e2b\\u0e2d\\u0e22\", \"\\u0e42\\u0e2d\", \"\\u0e44\\u0e2d\\u0e28\\u0e04\\u0e23\\u0e35\\u0e21\", \"/\\u0e04\\u0e19\", \"\\u0e08\\u0e38\", \"\\u0e40\\u0e1b\\u0e47\\u0e19\\u0e1b\\u0e01\\u0e15\\u0e34\", \"\\u0e40\\u0e2b\\u0e21\\u0e37\\u0e2d\\u0e19\", \"\\u0e23\\u0e32\\u0e22\\u0e01\\u0e32\\u0e23\", \"\\u0e42\\u0e14\\u0e22\\u0e1b\\u0e23\\u0e30\\u0e21\\u0e32\\u0e13\", \"\\u0e2a\\u0e30\\u0e2d\\u0e32\\u0e14\", \"\\u0e1a\\u0e4a\\u0e27\\u0e22\", \"\\u0e1d\\u0e23\\u0e31\\u0e48\\u0e07\", \"\\u0e2a\\u0e14\", \"\\u0e15\\u0e31\\u0e27\", \"\\u0e01\\u0e25\\u0e31\\u0e1a\\u0e21\\u0e32\", \"\\u0e01\\u0e38\\u0e49\\u0e07\", \"\\u0e01\\u0e34\\u0e19\", \"\\u0e2b\\u0e27\\u0e32\\u0e19\", \"\\u0e04\\u0e19\", \"\\u0e19\\u0e32\\u0e17\\u0e35\", \"15\", \"\\u0e15\\u0e31\\u0e49\\u0e07\\u0e2d\\u0e22\\u0e39\\u0e48\", \"1\", \"\\u0e0a\\u0e31\\u0e48\\u0e27\\u0e42\\u0e21\\u0e07\", \"\\u0e14\\u0e35\", \"\\u0e19\\u0e30\\u0e04\\u0e30\", \"\\u0e14\\u0e35\\u0e21\\u0e32\\u0e01\", \"\\u0e23\\u0e2a\\u0e0a\\u0e32\\u0e15\\u0e34\", \"\\u0e19\\u0e38\\u0e48\\u0e21\", \"\\u0e40\\u0e19\\u0e37\\u0e49\\u0e2d\", \"\\u0e19\\u0e49\\u0e33\", \"\\u0e2a\\u0e32\\u0e02\\u0e32\", \"\\u0e0a\\u0e32\\u0e1a\\u0e39\", \"\\u0e2d\\u0e32\\u0e2b\\u0e32\\u0e23\", \"\\u0e23\\u0e32\\u0e04\\u0e32\", \"\\u0e0b\\u0e38\\u0e1b\", \"\\u0e17\\u0e32\\u0e19\", \"\\u0e2d\\u0e23\\u0e48\\u0e2d\\u0e22\", \"\\u0e14\\u0e39\", \"\\u0e1a\\u0e32\\u0e17\", \"\\u0e18\\u0e23\\u0e23\\u0e21\\u0e14\\u0e32\", \"\\u0e2b\\u0e49\\u0e32\\u0e07\", \"\\u0e23\\u0e2d\", \"\\u0e40\\u0e25\\u0e37\\u0e2d\\u0e01\", \"\\u0e04\\u0e38\\u0e49\\u0e21\", \"\\u0e40\\u0e01\\u0e34\\u0e19\\u0e44\\u0e1b\", \"\\u0e15\\u0e2d\\u0e19\\u0e19\\u0e35\\u0e49\", \"399\", \"\\u0e40\\u0e25\\u0e48\\u0e19\", \"\\u0e40\\u0e15\\u0e34\\u0e21\", \"\\u0e04\\u0e48\\u0e32\", \"\\u0e40\\u0e1b\\u0e47\\u0e19\\u0e2b\\u0e25\\u0e31\\u0e01\", \"\\u0e1b\\u0e38\\u0e23\\u0e30\", \"\\u0e40\\u0e17\", \"\\u0e21\", \"\\u0e44\\u0e21\\u0e48\\u0e07\\u0e31\\u0e49\\u0e19\", \"\\u0e25\\u0e30\\u0e25\\u0e32\\u0e19\\u0e15\\u0e32\", \"\\u0e44\\u0e27\", \"\\u0e42\\u0e2b\\u0e14\", \"\\u0e32\\u0e19\", \"\\u0e2e\\u0e48\\u0e32\", \"\\u0e40\\u0e25\\u0e35\\u0e48\\u0e22\\u0e19\", \"\\u0e02\\u0e2d\\u0e07\\u0e01\\u0e34\\u0e19\", \"\\u0e40\\u0e01\\u0e35\\u0e4a\\u0e22\\u0e27\", \"\\u0e2a\", \"\\u0e02\\u0e32\", \"..\", \"\\u0e16\\u0e49\\u0e27\\u0e22\", \"\\u0e0b\\u0e48\\u0e32\", \"\\u0e1b\\u0e39\\u0e2d\\u0e31\\u0e14\", \"\\u0e0a\\u0e37\\u0e48\\u0e19\\u0e43\\u0e08\", \"\\u0e01\\u0e35\\u0e48\", \"\\u0e19\\u0e1e\", \"\\u0e19\\u0e49\\u0e30\", \"\\u0e1a\\u0e31\\u0e15\\u0e23\\u0e2a\\u0e21\\u0e32\\u0e0a\\u0e34\\u0e01\", \"\\u0e0a\\u0e34\", \"\\u0e01\\u0e38\\u0e49\\u0e07\", \"\\u0e17\\u0e32\\u0e19\", \"3\", \"\\u0e17\\u0e2d\\u0e14\", \"\\u0e2b\\u0e21\\u0e49\\u0e2d\", \"\\u0e19\\u0e36\\u0e01\\u0e16\\u0e36\\u0e07\", \"\\u0e2b\\u0e19\\u0e49\\u0e32\", \"\\u0e04\\u0e38\\u0e49\\u0e21\", \"\\u0e2a\\u0e32\\u0e22\\u0e1e\\u0e32\\u0e19\", \"\\u0e23\\u0e2a\", \"\\u0e2d\\u0e32\\u0e2b\\u0e32\\u0e23\", \"\\u0e0a\\u0e32\\u0e1a\\u0e39\", \"\\u0e40\\u0e21\\u0e19\\u0e39\", \"\\u0e0b\\u0e39\\u0e0a\\u0e34\", \"\\u0e23\\u0e32\\u0e04\\u0e32\", \"\\u0e40\\u0e19\\u0e37\\u0e49\\u0e2d\", \"\\u0e40\\u0e25\\u0e37\\u0e2d\\u0e01\", \"\\u0e0a\\u0e2d\\u0e1a\", \"4\", \"\\u0e1a\\u0e32\\u0e17\", \"\\u0e19\\u0e49\\u0e33\", \"\\u0e14\\u0e35\", \"\\u0e0b\\u0e38\\u0e1b\", \"\\u0e2d\\u0e23\\u0e48\\u0e2d\\u0e22\", \"\\u0e44\\u0e2d\\u0e15\\u0e34\\u0e21\", \"\\u0e2a\\u0e32\\u0e02\\u0e32\", \"\\u0e2b\\u0e49\\u0e32\\u0e07\", \"\\u0e01\\u0e34\\u0e19\", \"\\u0e23\\u0e2a\\u0e0a\\u0e32\\u0e15\\u0e34\", \"\\u200b\", \"\\u0e2b\\u0e25\\u0e32\\u0e01\\u0e2b\\u0e25\\u0e32\\u0e22\", \"\\u0e1a\\u0e32\\u0e07\\u0e2a\\u0e48\\u0e27\\u0e19\", \"\\u0e0a\\u0e37\\u0e48\\u0e2d\", \"\\u0e1b\\u0e23\\u0e30\\u0e17\\u0e31\\u0e1a\\u0e43\\u0e08\", \"\\u0e41\\u0e1b\\u0e25\\u0e01\", \"\\u0e15\\u0e48\\u0e32\\u0e07 \\u0e46\", \"\\u0e27\\u0e31\\u0e19\\u0e01\\u0e48\\u0e2d\\u0e19\", \"\\u0e15\", \"\\u0e21\\u0e30\\u0e19\\u0e32\\u0e27\", \"\\u0e2d\\u0e32\\u0e2b\\u0e32\\u0e23\\u0e2a\\u0e14\", \"\\u0e2b\", \"\\u0e41\\u0e25\", \"\\u0e19\\u0e34\", \"\\u0e42\\u0e01\", \"\\u0e2b\\u0e32\", \"\\u0e0a\\u0e2d\\u0e04\", \"\\u0e19\\u0e31\\u0e14\", \"\\u0e2d\\u0e22\\u0e38\\u0e48\", \"\\u0e40\\u0e1a\\u0e2d\\u0e23\\u0e4c\", \"\\u0e41\\u0e01\\u0e07\\u0e04\\u0e4c\", \"\\u0e21\\u0e38\", \"\\u0e25\\u0e07\\u0e40\\u0e2d\\u0e22\", \"\\u0e1b\\u0e23\\u0e01\\u0e15\\u0e34\", \"\\u0e40\\u0e07\\u0e34\\u0e19\\u0e2a\\u0e14\", \"\\u0e42\\u0e14\\u0e22\\u0e40\\u0e09\\u0e1e\\u0e32\\u0e30\", \"\\u0e2a\\u0e14\\u0e46 \\u0e23\\u0e49\\u0e2d\\u0e19\\u0e46\", \"\\u0e17\\u0e14\\u0e41\\u0e17\\u0e19\", \"7\", \"%\", \"\\u0e1a\\u0e23\\u0e34\\u0e01\\u0e32\\u0e23\", \"\\u0e2d\\u0e32\\u0e2b\\u0e32\\u0e23\", \"\\u0e2d\\u0e23\\u0e48\\u0e2d\\u0e22\", \"\\u0e01\\u0e34\\u0e19\", \"\\u0e19\\u0e31\\u0e48\\u0e07\", \"\\u0e23\\u0e2a\\u0e0a\\u0e32\\u0e15\\u0e34\", \"\\u0e2a\\u0e31\\u0e48\\u0e07\", \"\", \"\\u0e23\\u0e32\\u0e04\\u0e32\", \"\\u0e0b\\u0e39\\u0e0a\\u0e34\", \"\\u0e14\\u0e35\", \"\\u0e40\\u0e19\\u0e37\\u0e49\\u0e2d\", \"\\\"\", \":\", \"\\u0e1a\\u0e32\\u0e17\", \"\\u0e0a\\u0e32\\u0e1a\\u0e39\", \"\\u0e19\\u0e49\\u0e33\", \"\\u0e04\\u0e38\\u0e13\\u0e20\\u0e32\\u0e1e\", \"\\u0e08\\u0e48\\u0e32\\u0e22\", \"\\u0e2b\\u0e19\\u0e49\\u0e32\", \"1\", \"\\u0e17\\u0e32\\u0e19\", \"\\u0e2a\\u0e32\\u0e02\\u0e32\", \"\\u0e40\\u0e25\\u0e37\\u0e2d\\u0e01\", \"\\u0e1e\\u0e19\\u0e31\\u0e01\\u0e07\\u0e32\\u0e19\", \"\\u0e0b\\u0e38\\u0e1b\", \"\\u0e25\\u0e2d\\u0e07\", \"\\u0e04\\u0e38\\u0e49\\u0e21\", \"\\u0e04\\u0e19\", \"\\u0e02\\u0e2d\\u0e07\\u0e2b\\u0e27\\u0e32\\u0e19\", \"\\u0e19\\u0e4d\\u0e49\\u0e32\", \"\\u0e25\\u0e39\\u0e01\\u0e04\\u0e49\\u0e32\", \"\\u0e40\\u0e0b\", \"\\u0e19\\u0e32\", \"\\u0e2d\\u0e40\\u0e23\\u0e35\\u0e22\", \"\\u0e1e\\u0e34\\u0e0b\", \"\\u0e41\\u0e19\\u0e48\\u0e19\\u0e2d\\u0e19\", \"\\u0e23\\u0e30\\u0e1a\\u0e1a\", \"\\u0e02\\u0e49\\u0e2d\\u0e14\\u0e35\", \"\\u0e1a\", \"\\u0e40\\u0e01\\u0e49\", \"\\u0e2a\\u0e27\\u0e31\\u0e2a\\u0e14\\u0e35\", \"\\u0e43\\u0e0a\\u0e49\\u0e41\\u0e25\\u0e49\\u0e27\", \"\\u0e17\\u0e31\\u0e48\\u0e27\\u0e16\\u0e36\\u0e07\", \"\\u0e21\\u0e35\\u0e48\", \"\\u0e15\\u0e49\\u0e2d\\u0e07\\u0e01\\u0e32\\u0e23\", \"\\u0e02\\u0e27\\u0e31\\u0e0d\\u0e43\\u0e08\", \"\\u0e1f\\u0e40\\u0e1f\", \"\\u0e23\\u0e35\\u0e27\\u0e34\\u0e27\", \"\\u0e01\\u0e32\\u0e23\\u0e07\\u0e14\", \"30\", \"\\u0e21\\u0e32\\u0e15\\u0e23\\u0e32\", \"\\u0e40\\u0e04\\u0e49\\u0e32\", \"\\u0e41\\u0e08\\u0e49\\u0e07\", \"9\", \"           \", \"\\u0e1e\\u0e32\\u0e23\\u0e32\\u0e44\\u0e14\\u0e0b\\u0e4c\", \"Terminal\", \"\\u0e40\\u0e04\\u0e23\\u0e37\\u0e48\\u0e2d\\u0e07\\u0e14\\u0e37\\u0e48\\u0e21\", \"\\u0e40\\u0e1b\\u0e47\\u0e19\\u0e01\\u0e31\\u0e19\\u0e40\\u0e2d\\u0e07\", \"\\u0e04\\u0e19\\u0e25\\u0e30\", \"199\", \"\\u0e0b\\u0e38\\u0e1b\", \"\\u0e1e\\u0e34\\u0e0b\\u0e0b\\u0e48\\u0e32\", \"\\u0e1a\\u0e32\\u0e17\", \"\\u0e1a\\u0e38\\u0e1f\\u0e40\\u0e1f\\u0e48\\u0e15\\u0e4c\", \"\\u0e2a\\u0e32\\u0e02\\u0e32\", \"\\u0e0a\\u0e38\\u0e14\", \"\\u0e17\\u0e32\\u0e19\", \"\\u0e19\\u0e49\\u0e33\", \"\\u0e40\\u0e25\\u0e37\\u0e2d\\u0e01\", \"\\u0e1a\\u0e23\\u0e34\\u0e01\\u0e32\\u0e23\", \"\\u0e14\\u0e35\", \"-\", \"\\u0e2d\\u0e23\\u0e48\\u0e2d\\u0e22\", \"\\u0e41\\u0e19\\u0e30\\u0e19\\u0e33\", \"\\u0e23\\u0e32\\u0e04\\u0e32\", \"\\u0e0a\\u0e32\\u0e1a\\u0e39\", \"\\u0e08\\u0e48\\u0e32\\u0e22\", \"\\u0e18\\u0e23\\u0e23\\u0e21\\u0e14\\u0e32\", \"\\u0e40\\u0e21\\u0e19\\u0e39\", \"\\u0e2d\\u0e32\\u0e2b\\u0e32\\u0e23\", \"\\u0e04\\u0e38\\u0e49\\u0e21\", \"\\u0e23\\u0e2a\\u0e0a\\u0e32\\u0e15\\u0e34\", \"\\u0e40\\u0e19\\u0e37\\u0e49\\u0e2d\", \"2\", \"\\u0e01\\u0e34\\u0e19\", \"\\u0e25\\u0e2d\\u0e07\", \"\\u0e04\\u0e19\", \"\\u0e2a\\u0e31\\u0e48\\u0e07\", \"\\u0e02\\u0e2d\\u0e07\\u0e2b\\u0e27\\u0e32\\u0e19\", \"\\u0e0a\\u0e2d\\u0e1a\"], \"Freq\": [6.0, 10.0, 9.0, 5.0, 5.0, 5.0, 20.0, 22.0, 11.0, 6.0, 16.0, 4.0, 8.0, 4.0, 14.0, 7.0, 2.0, 4.0, 20.0, 7.0, 3.0, 16.0, 2.0, 2.0, 7.0, 5.0, 12.0, 5.0, 3.0, 4.0, 2.3166109500230627, 1.759673241913936, 1.7603648162836583, 1.7770855317362273, 1.7787001637886144, 1.1930241079069064, 1.216944349782736, 1.2170688978695907, 1.2179006562331756, 1.2184207747950198, 1.2192968348951267, 1.220431965799276, 1.2204664726285344, 1.2216365596696148, 1.2218546536139125, 1.2316105609714065, 3.599011609755453, 0.6552643339812311, 0.6552660413503871, 0.6552662660042234, 0.655269096642561, 0.6552701749809754, 0.6552703547040444, 0.6552724664501058, 0.6552727360347094, 0.6552737245115892, 0.6552753869499779, 0.6552760159807196, 0.6552794756497989, 0.6552816772573948, 6.5767162564353026, 2.494827400589834, 2.4983136686833562, 2.5204442282375394, 3.2879422490358587, 3.285596503538557, 1.9472324165024444, 3.8459291804221265, 2.7345670116015333, 9.277872030607298, 3.7252972592419504, 6.247750431945383, 6.571744397452974, 5.491278780879705, 5.67706103348447, 3.0727209982738026, 4.62689600746154, 3.164912103222217, 5.449008274484188, 3.2489858360337096, 3.307887915239544, 4.425534999784979, 4.645461759941024, 3.859497193797339, 4.433432750331517, 2.490661060403009, 2.4838128925797505, 2.38324453593656, 2.94771210146987, 2.741127622514304, 2.7219989773825413, 1.5217646685437995, 1.5248897942546042, 1.050646523632775, 1.051680685835299, 1.0518835082997473, 1.0528327572675642, 1.0529932227001573, 1.0530202435653062, 1.0537413089618275, 1.0540437833147003, 1.0546753545436025, 1.055262045908031, 2.6198413748660454, 5.670073745439915, 2.1448736529407597, 0.575938985418839, 0.575972446146198, 0.5759770934694424, 0.5762453104109713, 0.5766138431442454, 0.5766268556493295, 0.5766802334763069, 0.5767054618024904, 0.5766551379307877, 0.5768242341065486, 0.5768656616737551, 0.5768998526947668, 0.5769914049626798, 0.5769811144612103, 0.5771000859362647, 3.8867532101635733, 1.6758971273613792, 1.6870391512299527, 3.9278759129651974, 6.389444329564308, 1.7577856185394647, 3.2551198399105647, 1.1930628149901121, 1.1964193773984835, 1.1990602520272307, 1.9377901242001294, 1.1985065566578368, 4.830714586373912, 1.2017367118739628, 2.029028365842453, 3.2902278441887347, 2.0083954456636786, 3.812159157549762, 4.429798508049494, 2.772408747995604, 3.5356208518002106, 3.191003775064047, 2.903141403155409, 2.639562490224286, 2.906450828428017, 2.5582396446753655, 1.6070739879716922, 2.078153493709457, 1.4386184789151388, 1.4476317631764886, 1.5044294889391898, 1.8469002990204653, 1.6144134391811045, 0.9824805421400692, 0.9897590161440024, 0.9914891491487, 0.9920750689485415, 0.9954893310048125, 0.997004338474144, 0.9972781400698263, 2.9116889275555335, 2.9123757437538718, 2.91272888114861, 0.5378811026809299, 0.5381019937247816, 0.5386276159150452, 0.5386543414491708, 0.5387237677805173, 0.5388876643706944, 0.538895652002242, 0.5391881314431222, 0.5392600801844311, 0.5393265036467747, 0.5393568926810839, 0.5393961702076415, 0.5396809623038743, 0.5398426367709892, 0.539922813373366, 0.5432695108770724, 0.5433506483975302, 0.5437372978103406, 0.5439565673049307, 0.5442038235386276, 2.8349817199098823, 3.2946342413935437, 6.43568110224122, 1.7454184487255602, 1.741333946307847, 1.7537418010277346, 1.1332052876654946, 1.824876644722127, 2.7545879500467794, 1.9126321281179233, 1.8361340402696325, 3.8318746519440197, 4.156477103810373, 2.0041494856857636, 2.0671682951539405, 3.560182751908359, 3.596521310515494, 3.3840077907228503, 2.135555874054981, 1.2854681627515738, 2.781588787202568, 3.3586647774861698, 2.9161615207631786, 2.4905552878046167, 2.4136277896889142, 1.650922485336386, 1.7946761905863928, 1.3657304069523508, 1.9245648088467957, 1.462802351486953, 5.19890312903724, 1.4122332419038965, 0.9647671584829133, 0.9671882481510146, 0.9675697844759159, 0.9701632225023444, 0.9755304835796589, 0.5238428626302002, 0.524141920469122, 0.5241765309290992, 0.524204629929657, 0.5242102028003313, 0.5244050186267454, 0.5244964137058039, 0.5246069911923412, 0.5246165530651824, 0.5246685860787415, 0.524694514592826, 0.5247388629110341, 0.525047893255373, 0.5252205935844797, 0.5256468888601652, 0.5256800327752281, 0.5267787682250135, 0.5269263613051874, 0.5274041616382628, 0.5275640736957168, 0.5276232047866609, 0.5280087887755258, 0.5283072599964819, 2.5827693228096007, 4.588651029424562, 5.213350356296883, 5.135427780086208, 1.1155732625787647, 3.4662291194196615, 2.57727623217864, 2.2414287648605917, 3.915661546261723, 2.0389118177925414, 3.6857366345995106, 3.546726479205454, 1.180679409474485, 2.3838396619254945, 2.743503114710036, 3.289437716620101, 3.7172513942480543, 1.414164153599846, 1.3395936297688638, 1.394843773575411, 1.3983063447798436, 3.109324413604287, 2.1749081647259376, 2.527987417463288, 1.5655527693356528, 2.0515149528151606, 1.48583256103084, 1.5021299813543496, 1.4097073822671184, 1.3364526425332364, 0.9228195655494135, 0.9345032405938838, 0.9486291601511148, 0.9490881487523235, 0.9498562089698167, 0.9503399054928171, 0.9540091431758072, 0.5058147874754656, 0.5060862407243376, 0.5061963134029496, 0.506226307929629, 0.5062720509740268, 0.5063102258261643, 0.5063768926962234, 0.5064680448941841, 0.5065187963011073, 0.5065314285043656, 0.5067657642220778, 0.5068782854334798, 0.5142369055465064, 0.5151552722882314, 0.515243864656457, 0.5153029633342557, 0.5153293963586949, 0.5153500419419937, 0.5153898305998337, 0.5154036314210145, 0.5157861033725311, 0.5157920577590889, 0.516025725695131, 1.9405330210537337, 1.5104476799785331, 4.340531439428666, 1.6618364557037084, 3.834155270162585, 2.42069185936008, 3.2832180300546097, 1.0725164607650652, 4.972375325927796, 4.778213353485318, 3.6255765592455726, 1.7178497595929316, 3.570768156082995, 2.366517848784042, 3.4827211428879727, 1.1462876374179323, 3.009380578026644, 3.1873497353461664, 1.2978912162469711, 1.2967582133468, 1.522787506162292, 2.484154045184731, 1.8474442562498952, 2.182065867011753, 2.2602740076742687, 1.5219209481484677, 2.2314164905850786, 1.4397173584571468, 1.3661524150433777, 1.320687946898861, 1.2949701166283178, 1.256260037482385], \"Total\": [6.0, 10.0, 9.0, 5.0, 5.0, 5.0, 20.0, 22.0, 11.0, 6.0, 16.0, 4.0, 8.0, 4.0, 14.0, 7.0, 2.0, 4.0, 20.0, 7.0, 3.0, 16.0, 2.0, 2.0, 7.0, 5.0, 12.0, 5.0, 3.0, 4.0, 3.2049054965579886, 2.4966228674774626, 2.499667945801474, 2.5708557267761805, 2.5777022334130395, 1.747993541133086, 1.8494807579684398, 1.8498318685770327, 1.853360010855598, 1.8556845639713797, 1.8593869072934832, 1.8641124444411175, 1.864259748092349, 1.8695370061498784, 1.870237216140398, 1.9116482620698416, 5.734299177814091, 1.1218765871223244, 1.1218836714627811, 1.121884693834907, 1.1218967770894896, 1.1219013848418313, 1.1219020076873234, 1.1219109255615622, 1.121912037007481, 1.1219161646326357, 1.1219232495663714, 1.121925943424883, 1.1219406317709149, 1.1219499762983989, 11.298869822940619, 4.348262966142116, 4.3754447326148025, 4.469065929097863, 6.474758223225061, 6.489384381574975, 3.680361856954728, 7.990533157364362, 5.770703551487611, 25.561800063876333, 9.14833733840075, 17.63222249839756, 20.23968333100211, 18.706959735824686, 19.845946441061322, 8.05500735904095, 16.14906017773427, 8.84203154737042, 22.87283994468551, 9.559515862118921, 10.357957331819728, 17.813901279137113, 19.64884265776062, 14.260822375904441, 20.114286159413908, 7.1800813640835734, 7.1882432070735325, 6.721723063431941, 14.385112767254515, 12.766338755876848, 16.8176824789999, 2.377737346871425, 2.393540935658343, 1.7637212834273885, 1.7688893876939318, 1.7700387048705615, 1.7746560334893868, 1.7755597832754675, 1.7756070165779052, 1.7793392984268188, 1.7807542506942577, 1.7839633473707739, 1.7867698484018855, 4.781402855116465, 10.732150594491163, 4.135520980510255, 1.1323185095047856, 1.1324980976163812, 1.1326888999444547, 1.1338357002242827, 1.1356995032616897, 1.1358969419088847, 1.1360134003792928, 1.136122687944337, 1.136067233393871, 1.1367619531991282, 1.1369223022134036, 1.1370730278552983, 1.137607995885784, 1.137647851276527, 1.1381144646727916, 8.64177453067495, 3.5495903791858354, 3.606000458691655, 9.873730584545912, 20.114286159413908, 4.566322808531892, 10.357957331819728, 2.86078406035773, 2.890139532768169, 2.908308041762618, 5.638008114386958, 3.005812986295779, 19.64884265776062, 3.021775202266812, 6.213302244515983, 14.260822375904441, 6.7211444745852935, 18.706959735824686, 25.561800063876333, 12.766338755876848, 19.845946441061322, 16.8176824789999, 17.813901279137113, 16.14906017773427, 22.87283994468551, 20.23968333100211, 6.3346950359721905, 14.385112767254515, 4.8778340694660995, 5.058811753112495, 5.9503419555815205, 17.63222249839756, 10.122171284216162, 1.6684231676760937, 1.7068676876874211, 1.7163887247921596, 1.7187005685886836, 1.7368255266894281, 1.74472089609469, 1.7462282982692274, 5.253479816786246, 5.25757232352264, 5.258838891761602, 1.0786175889451899, 1.0797946815849668, 1.082605001330751, 1.08274706576652, 1.083111846447231, 1.0839885320282292, 1.0840371408662934, 1.0855965541216666, 1.0859824336236423, 1.0863452822837074, 1.0865012945584065, 1.0867119156632583, 1.0882494696059763, 1.0891138993182272, 1.089546903233762, 1.1070765233110063, 1.1075030286232652, 1.1095849425864874, 1.11077822540298, 1.1118750357642824, 7.495830056631011, 9.873730584545912, 22.87283994468551, 4.7243735664879924, 4.734126076713462, 4.87367023758751, 2.850879053150194, 5.588752608649061, 10.122171284216162, 6.142019805436043, 5.8286449460340855, 16.8176824789999, 19.845946441061322, 7.014176016573631, 7.657063001599093, 17.813901279137113, 18.706959735824686, 17.63222249839756, 8.84203154737042, 4.054290579184285, 14.385112767254515, 25.561800063876333, 19.64884265776062, 16.14906017773427, 20.23968333100211, 8.05500735904095, 12.766338755876848, 5.058811753112495, 20.114286159413908, 14.260822375904441, 6.676331632660362, 2.2675567009526016, 1.635386897327525, 1.6484954138262495, 1.6502200399521008, 1.6639882302459466, 1.6930639664185636, 1.0379511504267034, 1.0395516455212261, 1.0397359752159625, 1.039884822528493, 1.0399143029096938, 1.0409563062926817, 1.041441866876869, 1.0420384019872713, 1.042087142272687, 1.0423638773908162, 1.042502755339219, 1.0427417442557745, 1.0443936443224222, 1.0453159527256668, 1.0475974623724889, 1.047768413806119, 1.053669219643284, 1.0544607293402448, 1.0570235109336754, 1.0578814260154787, 1.058198665268955, 1.0602689470922877, 1.0618720638468528, 6.172965289235135, 16.8176824789999, 20.23968333100211, 20.114286159413908, 2.9482140178853733, 14.260822375904441, 9.559515862118921, 7.990533157364362, 17.813901279137113, 7.657063001599093, 19.64884265776062, 18.706959735824686, 3.653664053721746, 11.298869822940619, 14.385112767254515, 19.845946441061322, 25.561800063876333, 5.262512278904424, 4.823638602750524, 5.588752608649061, 5.638008114386958, 22.87283994468551, 12.766338755876848, 17.63222249839756, 7.1882432070735325, 16.14906017773427, 6.721723063431941, 10.122171284216162, 10.357957331819728, 9.14833733840075, 1.5442706300800029, 1.608854406802005, 1.6867190362347497, 1.6892480662586222, 1.6935014609949235, 1.6961835538644061, 1.7165480815127308, 1.0158881066865169, 1.017384331293014, 1.017990588214274, 1.018156724070991, 1.0184085221185737, 1.0186189785634874, 1.0189861906102964, 1.0194890565228532, 1.0197691606839885, 1.0198388779267349, 1.0211293089998124, 1.0217500869867007, 1.0625263310854673, 1.0676612202130782, 1.06815882190828, 1.068489128426409, 1.068637732245475, 1.068752602440946, 1.0689761745649473, 1.0690533719999809, 1.0712013059395271, 1.07123325557431, 1.0725485359576408, 4.121541940070845, 3.4152613039969584, 16.14906017773427, 4.756035325639767, 14.385112767254515, 8.007004722214242, 12.766338755876848, 2.876763198359501, 22.87283994468551, 25.561800063876333, 17.63222249839756, 6.172965289235135, 19.64884265776062, 10.732150594491163, 20.23968333100211, 3.6406096150405958, 17.813901279137113, 19.845946441061322, 4.823638602750524, 4.8778340694660995, 7.014176016573631, 16.8176824789999, 10.122171284216162, 14.260822375904441, 18.706959735824686, 7.1800813640835734, 20.114286159413908, 6.721723063431941, 10.357957331819728, 9.559515862118921, 9.14833733840075, 8.84203154737042], \"Category\": [\"Default\", \"Default\", \"Default\", \"Default\", \"Default\", \"Default\", \"Default\", \"Default\", \"Default\", \"Default\", \"Default\", \"Default\", \"Default\", \"Default\", \"Default\", \"Default\", \"Default\", \"Default\", \"Default\", \"Default\", \"Default\", \"Default\", \"Default\", \"Default\", \"Default\", \"Default\", \"Default\", \"Default\", \"Default\", \"Default\", \"Topic1\", \"Topic1\", \"Topic1\", \"Topic1\", \"Topic1\", \"Topic1\", \"Topic1\", \"Topic1\", \"Topic1\", \"Topic1\", \"Topic1\", \"Topic1\", \"Topic1\", \"Topic1\", \"Topic1\", \"Topic1\", \"Topic1\", \"Topic1\", \"Topic1\", \"Topic1\", \"Topic1\", \"Topic1\", \"Topic1\", \"Topic1\", \"Topic1\", \"Topic1\", \"Topic1\", \"Topic1\", \"Topic1\", \"Topic1\", \"Topic1\", \"Topic1\", \"Topic1\", \"Topic1\", \"Topic1\", \"Topic1\", \"Topic1\", \"Topic1\", \"Topic1\", \"Topic1\", \"Topic1\", \"Topic1\", \"Topic1\", \"Topic1\", \"Topic1\", \"Topic1\", \"Topic1\", \"Topic1\", \"Topic1\", \"Topic1\", \"Topic1\", \"Topic1\", \"Topic1\", \"Topic1\", \"Topic1\", \"Topic1\", \"Topic1\", \"Topic1\", \"Topic1\", \"Topic1\", \"Topic1\", \"Topic2\", \"Topic2\", \"Topic2\", \"Topic2\", \"Topic2\", \"Topic2\", \"Topic2\", \"Topic2\", \"Topic2\", \"Topic2\", \"Topic2\", \"Topic2\", \"Topic2\", \"Topic2\", \"Topic2\", \"Topic2\", \"Topic2\", \"Topic2\", \"Topic2\", \"Topic2\", \"Topic2\", \"Topic2\", \"Topic2\", \"Topic2\", \"Topic2\", \"Topic2\", \"Topic2\", \"Topic2\", \"Topic2\", \"Topic2\", \"Topic2\", \"Topic2\", \"Topic2\", \"Topic2\", \"Topic2\", \"Topic2\", \"Topic2\", \"Topic2\", \"Topic2\", \"Topic2\", \"Topic2\", \"Topic2\", \"Topic2\", \"Topic2\", \"Topic2\", \"Topic2\", \"Topic2\", \"Topic2\", \"Topic2\", \"Topic2\", \"Topic2\", \"Topic2\", \"Topic2\", \"Topic2\", \"Topic2\", \"Topic2\", \"Topic2\", \"Topic2\", \"Topic2\", \"Topic2\", \"Topic2\", \"Topic2\", \"Topic2\", \"Topic3\", \"Topic3\", \"Topic3\", \"Topic3\", \"Topic3\", \"Topic3\", \"Topic3\", \"Topic3\", \"Topic3\", \"Topic3\", \"Topic3\", \"Topic3\", \"Topic3\", \"Topic3\", \"Topic3\", \"Topic3\", \"Topic3\", \"Topic3\", \"Topic3\", \"Topic3\", \"Topic3\", \"Topic3\", \"Topic3\", \"Topic3\", \"Topic3\", \"Topic3\", \"Topic3\", \"Topic3\", \"Topic3\", \"Topic3\", \"Topic3\", \"Topic3\", \"Topic3\", \"Topic3\", \"Topic3\", \"Topic3\", \"Topic3\", \"Topic3\", \"Topic3\", \"Topic3\", \"Topic3\", \"Topic3\", \"Topic3\", \"Topic3\", \"Topic3\", \"Topic3\", \"Topic3\", \"Topic3\", \"Topic3\", \"Topic3\", \"Topic3\", \"Topic3\", \"Topic3\", \"Topic3\", \"Topic3\", \"Topic3\", \"Topic3\", \"Topic3\", \"Topic3\", \"Topic3\", \"Topic4\", \"Topic4\", \"Topic4\", \"Topic4\", \"Topic4\", \"Topic4\", \"Topic4\", \"Topic4\", \"Topic4\", \"Topic4\", \"Topic4\", \"Topic4\", \"Topic4\", \"Topic4\", \"Topic4\", \"Topic4\", \"Topic4\", \"Topic4\", \"Topic4\", \"Topic4\", \"Topic4\", \"Topic4\", \"Topic4\", \"Topic4\", \"Topic4\", \"Topic4\", \"Topic4\", \"Topic4\", \"Topic4\", \"Topic4\", \"Topic4\", \"Topic4\", \"Topic4\", \"Topic4\", \"Topic4\", \"Topic4\", \"Topic4\", \"Topic4\", \"Topic4\", \"Topic4\", \"Topic4\", \"Topic4\", \"Topic4\", \"Topic4\", \"Topic4\", \"Topic4\", \"Topic4\", \"Topic4\", \"Topic4\", \"Topic4\", \"Topic4\", \"Topic4\", \"Topic4\", \"Topic4\", \"Topic4\", \"Topic4\", \"Topic4\", \"Topic4\", \"Topic4\", \"Topic4\", \"Topic5\", \"Topic5\", \"Topic5\", \"Topic5\", \"Topic5\", \"Topic5\", \"Topic5\", \"Topic5\", \"Topic5\", \"Topic5\", \"Topic5\", \"Topic5\", \"Topic5\", \"Topic5\", \"Topic5\", \"Topic5\", \"Topic5\", \"Topic5\", \"Topic5\", \"Topic5\", \"Topic5\", \"Topic5\", \"Topic5\", \"Topic5\", \"Topic5\", \"Topic5\", \"Topic5\", \"Topic5\", \"Topic5\", \"Topic5\", \"Topic5\", \"Topic5\", \"Topic5\", \"Topic5\", \"Topic5\", \"Topic5\", \"Topic5\", \"Topic5\", \"Topic5\", \"Topic5\", \"Topic5\", \"Topic5\", \"Topic5\", \"Topic5\", \"Topic5\", \"Topic5\", \"Topic5\", \"Topic5\", \"Topic5\", \"Topic5\", \"Topic5\", \"Topic5\", \"Topic5\", \"Topic5\", \"Topic5\", \"Topic5\", \"Topic5\", \"Topic5\", \"Topic5\", \"Topic5\", \"Topic5\", \"Topic5\"], \"logprob\": [30.0, 29.0, 28.0, 27.0, 26.0, 25.0, 24.0, 23.0, 22.0, 21.0, 20.0, 19.0, 18.0, 17.0, 16.0, 15.0, 14.0, 13.0, 12.0, 11.0, 10.0, 9.0, 8.0, 7.0, 6.0, 5.0, 4.0, 3.0, 2.0, 1.0, -5.1156, -5.3906, -5.3902, -5.3807, -5.3798, -5.7792, -5.7594, -5.7593, -5.7586, -5.7582, -5.7574, -5.7565, -5.7565, -5.7555, -5.7553, -5.7474, -4.6751, -6.3784, -6.3784, -6.3784, -6.3784, -6.3784, -6.3784, -6.3784, -6.3784, -6.3784, -6.3784, -6.3784, -6.3784, -6.3784, -4.0722, -5.0415, -5.0401, -5.0313, -4.7655, -4.7662, -5.2893, -4.6087, -4.9497, -3.7281, -4.6406, -4.1235, -4.0729, -4.2526, -4.2193, -4.8332, -4.4238, -4.8036, -4.2603, -4.7774, -4.7594, -4.4683, -4.4198, -4.6052, -4.4665, -5.0432, -5.0459, -5.0873, -4.8747, -4.9473, -4.9543, -5.2331, -5.2311, -5.6036, -5.6026, -5.6024, -5.6015, -5.6014, -5.6013, -5.6006, -5.6004, -5.5998, -5.5992, -4.6899, -3.9178, -4.8899, -6.2047, -6.2047, -6.2047, -6.2042, -6.2036, -6.2036, -6.2035, -6.2034, -6.2035, -6.2032, -6.2031, -6.2031, -6.2029, -6.2029, -6.2027, -4.2954, -5.1366, -5.13, -4.2849, -3.7983, -5.0889, -4.4728, -5.4765, -5.4737, -5.4715, -4.9914, -5.4719, -4.078, -5.4692, -4.9454, -4.462, -4.9557, -4.3148, -4.1646, -4.6333, -4.3901, -4.4927, -4.5872, -4.6824, -4.5861, -4.7137, -5.1786, -4.9215, -5.2893, -5.2831, -5.2446, -5.0395, -5.174, -5.5704, -5.563, -5.5613, -5.5607, -5.5573, -5.5557, -5.5555, -4.484, -4.4838, -4.4837, -6.1729, -6.1725, -6.1715, -6.1714, -6.1713, -6.171, -6.171, -6.1704, -6.1703, -6.1702, -6.1701, -6.17, -6.1695, -6.1692, -6.1691, -6.1629, -6.1627, -6.162, -6.1616, -6.1612, -4.5107, -4.3604, -3.6909, -4.9958, -4.9981, -4.991, -5.4277, -4.9512, -4.5395, -4.9043, -4.9451, -4.2094, -4.1281, -4.8575, -4.8266, -4.2829, -4.2728, -4.3337, -4.794, -5.3016, -4.5297, -4.3412, -4.4825, -4.6402, -4.6716, -5.0514, -4.9679, -5.2411, -4.898, -5.1724, -3.8808, -5.1841, -5.5651, -5.5626, -5.5622, -5.5595, -5.554, -6.1758, -6.1752, -6.1752, -6.1751, -6.1751, -6.1747, -6.1745, -6.1743, -6.1743, -6.1742, -6.1742, -6.1741, -6.1735, -6.1732, -6.1724, -6.1723, -6.1702, -6.1699, -6.169, -6.1687, -6.1686, -6.1679, -6.1673, -4.5804, -4.0056, -3.878, -3.8931, -5.4199, -4.2862, -4.5825, -4.7221, -4.1642, -4.8168, -4.2248, -4.2632, -5.3631, -4.6605, -4.52, -4.3385, -4.2162, -5.1827, -5.2369, -5.1965, -5.194, -4.3948, -4.7522, -4.6018, -5.081, -4.8107, -5.1333, -5.1223, -5.1859, -5.2392, -5.5568, -5.5442, -5.5292, -5.5288, -5.5279, -5.5274, -5.5236, -6.1581, -6.1575, -6.1573, -6.1573, -6.1572, -6.1571, -6.157, -6.1568, -6.1567, -6.1567, -6.1562, -6.156, -6.1416, -6.1398, -6.1396, -6.1395, -6.1394, -6.1394, -6.1393, -6.1393, -6.1386, -6.1386, -6.1381, -4.8135, -5.0641, -4.0085, -4.9686, -4.1325, -4.5924, -4.2877, -5.4065, -3.8726, -3.9124, -4.1885, -4.9354, -4.2037, -4.6151, -4.2287, -5.34, -4.3748, -4.3173, -5.2158, -5.2166, -5.056, -4.5666, -4.8627, -4.6962, -4.661, -5.0565, -4.6739, -5.1121, -5.1645, -5.1983, -5.218, -5.2484], \"loglift\": [30.0, 29.0, 28.0, 27.0, 26.0, 25.0, 24.0, 23.0, 22.0, 21.0, 20.0, 19.0, 18.0, 17.0, 16.0, 15.0, 14.0, 13.0, 12.0, 11.0, 10.0, 9.0, 8.0, 7.0, 6.0, 5.0, 4.0, 3.0, 2.0, 1.0, 0.9781, 0.9529, 0.9521, 0.9334, 0.9317, 0.9207, 0.8841, 0.884, 0.8828, 0.882, 0.8807, 0.8791, 0.8791, 0.8772, 0.877, 0.8631, 0.8369, 0.765, 0.765, 0.765, 0.765, 0.765, 0.765, 0.765, 0.765, 0.765, 0.765, 0.765, 0.7649, 0.7649, 0.7615, 0.7471, 0.7423, 0.73, 0.625, 0.6221, 0.6661, 0.5715, 0.5559, 0.2892, 0.4043, 0.2652, 0.1778, 0.077, 0.0511, 0.339, 0.0527, 0.2753, -0.1318, 0.2235, 0.1613, -0.0899, -0.1394, -0.0043, -0.2096, 0.2439, 0.24, 0.2658, -0.2825, -0.2357, -0.5184, 1.1591, 1.1546, 1.0874, 1.0855, 1.085, 1.0833, 1.0829, 1.0829, 1.0815, 1.081, 1.0798, 1.0788, 1.0038, 0.9674, 0.9489, 0.9294, 0.9293, 0.9291, 0.9286, 0.9276, 0.9274, 0.9274, 0.9274, 0.9273, 0.927, 0.9269, 0.9269, 0.9266, 0.9265, 0.9263, 0.8064, 0.8549, 0.8458, 0.6836, 0.4586, 0.6508, 0.4479, 0.7308, 0.7234, 0.7194, 0.5374, 0.6859, 0.2024, 0.6833, 0.4863, 0.1389, 0.3975, 0.0147, -0.1473, 0.0783, -0.1197, -0.0567, -0.2088, -0.2058, -0.4576, -0.4629, 0.2338, -0.3293, 0.3844, 0.3542, 0.2304, -0.6508, -0.2303, 1.1761, 1.1607, 1.1569, 1.1561, 1.1491, 1.1461, 1.1455, 1.1155, 1.115, 1.1148, 1.0099, 1.0092, 1.0076, 1.0075, 1.0073, 1.0068, 1.0067, 1.0058, 1.0056, 1.0054, 1.0053, 1.0052, 1.0043, 1.0038, 1.0036, 0.9938, 0.9936, 0.9924, 0.9917, 0.9912, 0.7334, 0.6081, 0.4376, 0.7099, 0.7055, 0.6836, 0.7831, 0.5864, 0.4042, 0.539, 0.5505, 0.2266, 0.1423, 0.453, 0.3962, 0.0955, 0.0567, 0.055, 0.2849, 0.557, 0.0625, -0.3239, -0.2021, -0.1637, -0.4208, 0.1207, -0.2563, 0.3962, -0.6411, -0.5715, 1.4791, 1.2556, 1.2014, 1.196, 1.1953, 1.1897, 1.1779, 1.0454, 1.0444, 1.0443, 1.0442, 1.0442, 1.0435, 1.0433, 1.0429, 1.0429, 1.0427, 1.0426, 1.0425, 1.0415, 1.0409, 1.0396, 1.0395, 1.0359, 1.0355, 1.0339, 1.0334, 1.0332, 1.032, 1.0311, 0.8579, 0.4303, 0.3728, 0.3639, 0.7573, 0.3147, 0.4184, 0.458, 0.2142, 0.406, 0.0556, 0.0663, 0.5995, 0.1732, 0.0722, -0.0681, -0.1989, 0.4151, 0.448, 0.3412, 0.3349, -0.2664, -0.0406, -0.2131, 0.205, -0.3341, 0.2198, -0.1787, -0.2652, -0.1944, 1.267, 1.2387, 1.2064, 1.2054, 1.2037, 1.2026, 1.1945, 1.0846, 1.0836, 1.0833, 1.0831, 1.083, 1.0829, 1.0826, 1.0823, 1.0821, 1.0821, 1.0813, 1.0809, 1.0562, 1.0532, 1.0529, 1.0527, 1.0526, 1.0525, 1.0524, 1.0523, 1.0511, 1.0511, 1.0503, 1.0286, 0.9661, 0.468, 0.7304, 0.4597, 0.5857, 0.4239, 0.7953, 0.2559, 0.1049, 0.2002, 0.5028, 0.0767, 0.2701, 0.0221, 0.6263, 0.0037, -0.0469, 0.4691, 0.4571, 0.2545, -0.1306, 0.081, -0.0953, -0.3315, 0.2306, -0.4169, 0.241, -0.2438, -0.1975, -0.1732, -0.1695]}, \"token.table\": {\"Topic\": [1, 2, 3, 4, 5, 5, 2, 4, 4, 1, 1, 2, 3, 4, 5, 3, 1, 2, 1, 2, 3, 4, 5, 2, 4, 4, 5, 1, 2, 3, 4, 5, 1, 2, 3, 4, 5, 5, 3, 1, 3, 4, 5, 1, 4, 5, 1, 2, 3, 4, 5, 1, 5, 1, 2, 3, 5, 1, 2, 3, 4, 5, 1, 3, 1, 2, 3, 4, 5, 5, 3, 1, 2, 3, 4, 5, 3, 2, 5, 1, 2, 3, 4, 5, 1, 5, 1, 2, 3, 4, 5, 1, 2, 3, 4, 5, 3, 1, 2, 1, 2, 3, 4, 5, 4, 1, 2, 3, 4, 5, 1, 2, 1, 2, 3, 4, 5, 1, 2, 3, 4, 5, 2, 3, 4, 1, 5, 1, 1, 2, 3, 4, 5, 1, 2, 3, 4, 5, 3, 1, 5, 1, 1, 2, 3, 4, 5, 1, 2, 3, 4, 5, 1, 2, 3, 4, 5, 1, 2, 3, 4, 5, 4, 3, 2, 3, 2, 3, 2, 4, 5, 3, 4, 1, 2, 3, 4, 5, 5, 2, 1, 2, 3, 4, 5, 1, 2, 3, 4, 5, 3, 1, 2, 4, 1, 4, 5, 2, 5, 4, 3, 5, 1, 2, 3, 4, 5, 3, 1, 2, 3, 4, 5, 1, 2, 3, 4, 5, 5, 5, 1, 2, 3, 4, 5, 3, 4, 1, 2, 3, 4, 5, 1, 5, 1, 1, 2, 3, 4, 5, 2, 1, 4, 4, 2, 1, 2, 3, 3, 1, 4, 2, 1, 2, 3, 4, 5, 1, 1, 5, 5, 1, 2, 3, 4, 5, 1, 5, 1, 1, 2, 3, 4, 5, 5, 4, 1, 2, 3, 4, 5, 1, 2, 3, 4, 5, 1, 2, 3, 4, 5, 5, 1, 2, 3, 4, 5, 2, 5, 1, 4, 1, 2, 3, 4, 5, 3, 5, 4, 2, 3, 1, 2, 3, 4, 5, 4, 5, 2, 1, 2, 3, 4, 5, 1, 2, 3, 4, 5, 1, 2, 3, 4, 5, 2, 5, 1, 1, 4, 1, 2, 3, 4, 5, 1, 2, 3, 4, 5, 4, 1, 1, 1, 2, 2, 2, 4, 1, 2, 3, 4, 5, 4, 1, 2, 3, 4, 5, 1, 2, 3, 4, 5, 4, 2, 5, 3, 3, 3, 3, 5, 1, 5, 5, 4, 2, 5, 2, 3, 1, 1, 2, 3, 1, 2, 3, 4, 5, 1, 4, 1, 4, 5, 2, 3, 1, 2, 3, 4, 5, 2, 3, 1, 2, 3, 4, 5, 3, 1, 2, 4, 2, 1, 4, 5, 1, 2, 5, 5, 4, 2, 4, 4, 1, 2, 2, 4, 1, 2, 3, 4, 5, 3, 2, 2, 5, 2, 1, 4, 1, 1, 3, 1, 3, 1, 2, 3, 4, 5, 2, 4], \"Freq\": [0.5005923786591708, 0.1251480946647927, 0.1251480946647927, 0.2502961893295854, 0.1251480946647927, 0.935474544516374, 0.2736978510603256, 0.2736978510603256, 0.9417330336173376, 0.7758848070484365, 0.09317796942891411, 0.5590678165734847, 0.09317796942891411, 0.09317796942891411, 0.18635593885782822, 0.9202070811836687, 0.7779510842127162, 0.8802713063649773, 0.1773676056705594, 0.3547352113411188, 0.1773676056705594, 0.1773676056705594, 0.1773676056705594, 0.3460040557426659, 0.3460040557426659, 0.29280336436619864, 0.5856067287323973, 0.27854837551068184, 0.13927418775534092, 0.13927418775534092, 0.13927418775534092, 0.27854837551068184, 0.21166827430697455, 0.21166827430697455, 0.4233365486139491, 0.21166827430697455, 0.21166827430697455, 0.9366266949364568, 0.5826186023921194, 0.2466522762660978, 0.2466522762660978, 0.2466522762660978, 0.2466522762660978, 0.5346915307693944, 0.943156925176795, 0.9356702362324821, 0.6195309893550217, 0.08850442705071739, 0.08850442705071739, 0.17700885410143477, 0.08850442705071739, 0.536448325841101, 0.933531348827961, 0.5231087851471419, 0.5546310997213929, 0.27731554986069645, 0.9411531467445226, 0.19886363196279358, 0.2982954479441904, 0.09943181598139679, 0.24857953995349197, 0.09943181598139679, 0.8913363594346486, 0.9029320680441822, 0.1012788420179473, 0.4051153680717892, 0.3038365260538419, 0.1012788420179473, 0.1012788420179473, 0.9805470468363924, 0.9211525185883433, 0.4372379211695371, 0.10930948029238427, 0.10930948029238427, 0.10930948029238427, 0.10930948029238427, 0.9203854657222809, 0.8830036907830081, 0.9829127196494958, 0.28963239603082513, 0.28963239603082513, 0.09654413201027504, 0.09654413201027504, 0.09654413201027504, 0.24262764143625604, 0.4852552828725121, 0.19002330959086805, 0.19002330959086805, 0.19002330959086805, 0.19002330959086805, 0.19002330959086805, 0.19758606566149167, 0.19758606566149167, 0.29637909849223754, 0.19758606566149167, 0.19758606566149167, 0.5731575762280133, 0.8913354764134078, 0.8801866300279305, 0.20731238020812387, 0.20731238020812387, 0.20731238020812387, 0.20731238020812387, 0.20731238020812387, 0.9593578803816006, 0.3392885429019066, 0.11309618096730219, 0.22619236193460437, 0.11309618096730219, 0.11309618096730219, 0.3326886950582885, 0.3326886950582885, 0.30232874092545076, 0.2015524939503005, 0.2015524939503005, 0.15116437046272538, 0.15116437046272538, 0.13340750689983605, 0.13340750689983605, 0.40022252069950814, 0.13340750689983605, 0.13340750689983605, 0.563489476906557, 0.9032799259523945, 0.6066137591969057, 0.34761290069695644, 0.34761290069695644, 0.5406922973875375, 0.3096155407788879, 0.18576932446733274, 0.12384621631155517, 0.12384621631155517, 0.24769243262311033, 0.1305983769222169, 0.1305983769222169, 0.2611967538444338, 0.2611967538444338, 0.1305983769222169, 0.9181776126684165, 0.5434248255292148, 0.2717124127646074, 0.8913321971142502, 0.46333776437225904, 0.15444592145741967, 0.15444592145741967, 0.15444592145741967, 0.15444592145741967, 0.25446791381502415, 0.25446791381502415, 0.15268074828901448, 0.20357433105201933, 0.20357433105201933, 0.1609450113074131, 0.3218900226148262, 0.1609450113074131, 0.1609450113074131, 0.1609450113074131, 0.31572159174874287, 0.31572159174874287, 0.15786079587437143, 0.15786079587437143, 0.15786079587437143, 0.9619531692421158, 0.5858684930375987, 0.5634452954706106, 0.2817226477353053, 0.34384253168517076, 0.34384253168517076, 0.8355821161044402, 0.5906451379479525, 0.9806140826314764, 0.9189069491226778, 0.9450021369530238, 0.2112322282498701, 0.2112322282498701, 0.4224644564997402, 0.2112322282498701, 0.2112322282498701, 0.981367568289689, 0.8828549481230358, 0.21859987706344033, 0.13115992623806422, 0.26231985247612843, 0.13115992623806422, 0.21859987706344033, 0.205009023627869, 0.205009023627869, 0.205009023627869, 0.205009023627869, 0.205009023627869, 0.9012378968201925, 0.33093130132573756, 0.33093130132573756, 0.959230078652992, 0.33918840149781826, 0.33918840149781826, 0.5919793664259261, 0.34955452033487416, 0.34955452033487416, 0.9602072202060139, 0.3507690018961028, 0.3507690018961028, 0.2975683691315687, 0.2975683691315687, 0.14878418456578435, 0.14878418456578435, 0.14878418456578435, 0.9002697182303958, 0.3520878802552996, 0.1564835023356887, 0.11736262675176654, 0.1564835023356887, 0.19560437791961088, 0.4622934663136566, 0.1540978221045522, 0.1540978221045522, 0.1540978221045522, 0.1540978221045522, 0.6475548913004929, 0.9823273530987822, 0.1619966990165768, 0.1619966990165768, 0.1619966990165768, 0.48599009704973034, 0.3239933980331536, 0.8993816461690936, 0.611476098796043, 0.20854893865198165, 0.13903262576798778, 0.20854893865198165, 0.20854893865198165, 0.27806525153597555, 0.45995378282616806, 0.22997689141308403, 0.5720844937171673, 0.24978129392771528, 0.12489064696385764, 0.12489064696385764, 0.12489064696385764, 0.24978129392771528, 0.8790066265918091, 0.8913572005173973, 0.9490644514969759, 0.6059797940819007, 0.5653264737506744, 0.19035002224710898, 0.19035002224710898, 0.571050066741327, 0.9178127137363359, 0.6975569072984428, 0.1743892268246107, 0.8786462443278941, 0.2782320996084156, 0.1391160498042078, 0.1391160498042078, 0.2782320996084156, 0.1391160498042078, 0.8913476002616537, 0.5348917923049827, 0.9354069929447993, 0.5895588350221326, 0.21025916157708166, 0.21025916157708166, 0.21025916157708166, 0.21025916157708166, 0.4205183231541633, 0.8913265683606296, 0.9793079007589075, 0.6240433616991092, 0.19015604405880948, 0.19015604405880948, 0.5704681321764284, 0.9617826292797949, 0.9361903674712779, 0.9808835059109668, 0.9545651224997289, 0.3431329268667902, 0.1715664634333951, 0.3431329268667902, 0.1715664634333951, 0.1715664634333951, 0.28048873301714583, 0.21036654976285937, 0.07012218325428646, 0.21036654976285937, 0.14024436650857292, 0.3361151367315901, 0.3361151367315901, 0.16805756836579505, 0.16805756836579505, 0.16805756836579505, 0.9843603773073607, 0.22454373903399985, 0.1684078042754999, 0.22454373903399985, 0.22454373903399985, 0.1684078042754999, 0.8795675817539703, 0.978712909092237, 0.8913636414902422, 0.9544093778962132, 0.2975427552022428, 0.1487713776011214, 0.1487713776011214, 0.1487713776011214, 0.1487713776011214, 0.9261019868445352, 0.6215602827528357, 0.9634364773225584, 0.5596691710991292, 0.9205176441672458, 0.23143394830549852, 0.46286789661099703, 0.11571697415274926, 0.11571697415274926, 0.11571697415274926, 0.9452855257762774, 0.9819242261638985, 0.8790374220439288, 0.3138234240384463, 0.10460780801281544, 0.10460780801281544, 0.3138234240384463, 0.10460780801281544, 0.23499298094522064, 0.23499298094522064, 0.15666198729681377, 0.15666198729681377, 0.23499298094522064, 0.1628128908205314, 0.1628128908205314, 0.3256257816410628, 0.1628128908205314, 0.1628128908205314, 0.48361500508050453, 0.24180750254025227, 0.5388846894646169, 0.891324428194715, 0.9616176998450612, 0.17893080442537687, 0.17893080442537687, 0.35786160885075374, 0.17893080442537687, 0.17893080442537687, 0.20518417357982857, 0.20518417357982857, 0.41036834715965714, 0.20518417357982857, 0.20518417357982857, 0.44100330526680964, 0.8913580128108455, 0.8913439394149448, 0.43798918382711, 0.43798918382711, 0.5649593973557361, 0.8819619983761238, 0.9596126460394674, 0.19767487876668624, 0.19767487876668624, 0.19767487876668624, 0.19767487876668624, 0.19767487876668624, 0.9590102300102312, 0.3458552135189664, 0.1482236629366999, 0.09881577529113326, 0.24703943822783317, 0.1482236629366999, 0.17838367466778346, 0.17838367466778346, 0.2378448995570446, 0.2973061244463058, 0.1189224497785223, 0.9616449613799416, 0.5631876821073176, 0.5904925522842508, 0.922518984706342, 0.9232656842228711, 0.5993683253588932, 0.9208252076999615, 0.9821670636339823, 0.8913434445682018, 0.9335035061657786, 0.9359009590230696, 0.9483520553920298, 0.5615597995119949, 0.5928669674780529, 0.5669830088213988, 0.575763071553943, 0.8913053354653626, 0.1902018533394111, 0.1902018533394111, 0.5706055600182333, 0.2672802032296446, 0.21382416258371564, 0.21382416258371564, 0.21382416258371564, 0.10691208129185782, 0.45709639184604284, 0.22854819592302142, 0.8001062714586819, 0.9574933794707036, 0.9323587385321778, 0.8802295943459387, 0.572662807601474, 0.1425684210999444, 0.1425684210999444, 0.2851368421998888, 0.1425684210999444, 0.2851368421998888, 0.562006358699624, 0.9224776184336855, 0.340286087051436, 0.11342869568381199, 0.170143043525718, 0.170143043525718, 0.22685739136762398, 0.5818349154449592, 0.20914364053845075, 0.6274309216153523, 0.20914364053845075, 0.8796916515245374, 0.8010821442249945, 0.9566485591198477, 0.9357708134624351, 0.5378116819460649, 0.2746792723583051, 0.2746792723583051, 0.5825645146617372, 0.6009657891944311, 0.8831437370368038, 0.9606551148736053, 0.9596575309440614, 0.8913127590553174, 0.5632026639819742, 0.8794509899563443, 0.9460527506305833, 0.519867287105164, 0.17328909570172135, 0.17328909570172135, 0.17328909570172135, 0.17328909570172135, 0.9235767351556479, 0.8805146054286672, 0.5605496331938724, 0.9817213512065671, 0.8411357977076637, 0.6712812134784477, 0.2237604044928159, 0.5405896703300076, 0.536405938616266, 0.9271126395944719, 0.5395605787017888, 0.9236979311667579, 0.3724391383246592, 0.12414637944155306, 0.24829275888310612, 0.12414637944155306, 0.12414637944155306, 0.8803615566738751, 0.7489142653639597], \"Term\": [\"\", \"\", \"\", \"\", \"\", \"           \", \"\\\"\", \"\\\"\", \"%\", \"+\", \"-\", \"-\", \"-\", \"-\", \"-\", \"..\", \"/\", \"/\\u0e04\\u0e19\", \"1\", \"1\", \"1\", \"1\", \"1\", \"15\", \"15\", \"199\", \"199\", \"2\", \"2\", \"2\", \"2\", \"2\", \"3\", \"3\", \"3\", \"3\", \"3\", \"30\", \"399\", \"4\", \"4\", \"4\", \"4\", \"600\", \"7\", \"9\", \":\", \":\", \":\", \":\", \":\", \"::\", \"Terminal\", \"\\u0e01\\u0e01\", \"\\u0e01\\u0e25\\u0e31\\u0e1a\\u0e21\\u0e32\", \"\\u0e01\\u0e25\\u0e31\\u0e1a\\u0e21\\u0e32\", \"\\u0e01\\u0e32\\u0e23\\u0e07\\u0e14\", \"\\u0e01\\u0e34\\u0e19\", \"\\u0e01\\u0e34\\u0e19\", \"\\u0e01\\u0e34\\u0e19\", \"\\u0e01\\u0e34\\u0e19\", \"\\u0e01\\u0e34\\u0e19\", \"\\u0e01\\u0e34\\u0e19\\u0e17\\u0e35\\u0e48\", \"\\u0e01\\u0e35\\u0e48\", \"\\u0e01\\u0e38\\u0e49\\u0e07\", \"\\u0e01\\u0e38\\u0e49\\u0e07\", \"\\u0e01\\u0e38\\u0e49\\u0e07\", \"\\u0e01\\u0e38\\u0e49\\u0e07\", \"\\u0e01\\u0e38\\u0e49\\u0e07\", \"\\u0e02\\u0e27\\u0e31\\u0e0d\\u0e43\\u0e08\", \"\\u0e02\\u0e2d\\u0e07\\u0e01\\u0e34\\u0e19\", \"\\u0e02\\u0e2d\\u0e07\\u0e2b\\u0e27\\u0e32\\u0e19\", \"\\u0e02\\u0e2d\\u0e07\\u0e2b\\u0e27\\u0e32\\u0e19\", \"\\u0e02\\u0e2d\\u0e07\\u0e2b\\u0e27\\u0e32\\u0e19\", \"\\u0e02\\u0e2d\\u0e07\\u0e2b\\u0e27\\u0e32\\u0e19\", \"\\u0e02\\u0e2d\\u0e07\\u0e2b\\u0e27\\u0e32\\u0e19\", \"\\u0e02\\u0e32\", \"\\u0e02\\u0e36\\u0e49\\u0e19\\u0e23\\u0e32\\u0e04\\u0e32\", \"\\u0e02\\u0e49\\u0e2d\\u0e14\\u0e35\", \"\\u0e04\\u0e19\", \"\\u0e04\\u0e19\", \"\\u0e04\\u0e19\", \"\\u0e04\\u0e19\", \"\\u0e04\\u0e19\", \"\\u0e04\\u0e19\\u0e25\\u0e30\", \"\\u0e04\\u0e19\\u0e25\\u0e30\", \"\\u0e04\\u0e38\\u0e13\\u0e20\\u0e32\\u0e1e\", \"\\u0e04\\u0e38\\u0e13\\u0e20\\u0e32\\u0e1e\", \"\\u0e04\\u0e38\\u0e13\\u0e20\\u0e32\\u0e1e\", \"\\u0e04\\u0e38\\u0e13\\u0e20\\u0e32\\u0e1e\", \"\\u0e04\\u0e38\\u0e13\\u0e20\\u0e32\\u0e1e\", \"\\u0e04\\u0e38\\u0e49\\u0e21\", \"\\u0e04\\u0e38\\u0e49\\u0e21\", \"\\u0e04\\u0e38\\u0e49\\u0e21\", \"\\u0e04\\u0e38\\u0e49\\u0e21\", \"\\u0e04\\u0e38\\u0e49\\u0e21\", \"\\u0e04\\u0e48\\u0e32\", \"\\u0e08\\u0e2d\\u0e07\", \"\\u0e08\\u0e38\", \"\\u0e08\\u0e48\\u0e32\\u0e22\", \"\\u0e08\\u0e48\\u0e32\\u0e22\", \"\\u0e08\\u0e48\\u0e32\\u0e22\", \"\\u0e08\\u0e48\\u0e32\\u0e22\", \"\\u0e08\\u0e48\\u0e32\\u0e22\", \"\\u0e0a\\u0e2d\\u0e04\", \"\\u0e0a\\u0e2d\\u0e1a\", \"\\u0e0a\\u0e2d\\u0e1a\", \"\\u0e0a\\u0e2d\\u0e1a\", \"\\u0e0a\\u0e2d\\u0e1a\", \"\\u0e0a\\u0e2d\\u0e1a\", \"\\u0e0a\\u0e31\\u0e48\\u0e27\\u0e42\\u0e21\\u0e07\", \"\\u0e0a\\u0e31\\u0e48\\u0e27\\u0e42\\u0e21\\u0e07\", \"\\u0e0a\\u0e32\\u0e1a\\u0e39\", \"\\u0e0a\\u0e32\\u0e1a\\u0e39\", \"\\u0e0a\\u0e32\\u0e1a\\u0e39\", \"\\u0e0a\\u0e32\\u0e1a\\u0e39\", \"\\u0e0a\\u0e32\\u0e1a\\u0e39\", \"\\u0e0a\\u0e34\", \"\\u0e0a\\u0e34\", \"\\u0e0a\\u0e34\", \"\\u0e0a\\u0e34\", \"\\u0e0a\\u0e34\", \"\\u0e0a\\u0e37\\u0e48\\u0e19\", \"\\u0e0a\\u0e37\\u0e48\\u0e19\\u0e43\\u0e08\", \"\\u0e0a\\u0e37\\u0e48\\u0e2d\", \"\\u0e0a\\u0e38\\u0e14\", \"\\u0e0a\\u0e38\\u0e14\", \"\\u0e0b\\u0e36\", \"\\u0e0b\\u0e38\\u0e1b\", \"\\u0e0b\\u0e38\\u0e1b\", \"\\u0e0b\\u0e38\\u0e1b\", \"\\u0e0b\\u0e38\\u0e1b\", \"\\u0e0b\\u0e38\\u0e1b\", \"\\u0e0b\\u0e39\\u0e0a\\u0e34\", \"\\u0e0b\\u0e39\\u0e0a\\u0e34\", \"\\u0e0b\\u0e39\\u0e0a\\u0e34\", \"\\u0e0b\\u0e39\\u0e0a\\u0e34\", \"\\u0e0b\\u0e39\\u0e0a\\u0e34\", \"\\u0e0b\\u0e48\\u0e32\", \"\\u0e0d\\u0e35\\u0e48\\u0e1b\\u0e38\\u0e48\\u0e19\", \"\\u0e0d\\u0e35\\u0e48\\u0e1b\\u0e38\\u0e48\\u0e19\", \"\\u0e13\\u0e4c\", \"\\u0e14\\u0e33\", \"\\u0e14\\u0e33\", \"\\u0e14\\u0e33\", \"\\u0e14\\u0e33\", \"\\u0e14\\u0e33\", \"\\u0e14\\u0e35\", \"\\u0e14\\u0e35\", \"\\u0e14\\u0e35\", \"\\u0e14\\u0e35\", \"\\u0e14\\u0e35\", \"\\u0e14\\u0e35\\u0e21\\u0e32\\u0e01\", \"\\u0e14\\u0e35\\u0e21\\u0e32\\u0e01\", \"\\u0e14\\u0e35\\u0e21\\u0e32\\u0e01\", \"\\u0e14\\u0e35\\u0e21\\u0e32\\u0e01\", \"\\u0e14\\u0e35\\u0e21\\u0e32\\u0e01\", \"\\u0e14\\u0e39\", \"\\u0e14\\u0e39\", \"\\u0e14\\u0e39\", \"\\u0e14\\u0e39\", \"\\u0e14\\u0e39\", \"\\u0e15\", \"\\u0e15\\u0e2d\\u0e19\\u0e19\\u0e35\\u0e49\", \"\\u0e15\\u0e31\\u0e27\", \"\\u0e15\\u0e31\\u0e27\", \"\\u0e15\\u0e31\\u0e49\\u0e07\\u0e2d\\u0e22\\u0e39\\u0e48\", \"\\u0e15\\u0e31\\u0e49\\u0e07\\u0e2d\\u0e22\\u0e39\\u0e48\", \"\\u0e15\\u0e34\\u0e14\", \"\\u0e15\\u0e48\\u0e32\\u0e07 \\u0e46\", \"\\u0e15\\u0e49\\u0e2d\\u0e07\\u0e01\\u0e32\\u0e23\", \"\\u0e16\\u0e49\\u0e27\\u0e22\", \"\\u0e17\\u0e14\\u0e41\\u0e17\\u0e19\", \"\\u0e17\\u0e2d\\u0e14\", \"\\u0e17\\u0e2d\\u0e14\", \"\\u0e17\\u0e2d\\u0e14\", \"\\u0e17\\u0e2d\\u0e14\", \"\\u0e17\\u0e2d\\u0e14\", \"\\u0e17\\u0e31\\u0e48\\u0e27\\u0e16\\u0e36\\u0e07\", \"\\u0e17\\u0e31\\u0e48\\u0e27\\u0e44\\u0e1b\", \"\\u0e17\\u0e32\\u0e19\", \"\\u0e17\\u0e32\\u0e19\", \"\\u0e17\\u0e32\\u0e19\", \"\\u0e17\\u0e32\\u0e19\", \"\\u0e17\\u0e32\\u0e19\", \"\\u0e18\\u0e23\\u0e23\\u0e21\\u0e14\\u0e32\", \"\\u0e18\\u0e23\\u0e23\\u0e21\\u0e14\\u0e32\", \"\\u0e18\\u0e23\\u0e23\\u0e21\\u0e14\\u0e32\", \"\\u0e18\\u0e23\\u0e23\\u0e21\\u0e14\\u0e32\", \"\\u0e18\\u0e23\\u0e23\\u0e21\\u0e14\\u0e32\", \"\\u0e19\\u0e1e\", \"\\u0e19\\u0e30\\u0e04\\u0e30\", \"\\u0e19\\u0e30\\u0e04\\u0e30\", \"\\u0e19\\u0e31\\u0e14\", \"\\u0e19\\u0e31\\u0e48\\u0e07\", \"\\u0e19\\u0e31\\u0e48\\u0e07\", \"\\u0e19\\u0e32\", \"\\u0e19\\u0e32\\u0e17\\u0e35\", \"\\u0e19\\u0e32\\u0e17\\u0e35\", \"\\u0e19\\u0e34\", \"\\u0e19\\u0e36\\u0e01\\u0e16\\u0e36\\u0e07\", \"\\u0e19\\u0e36\\u0e01\\u0e16\\u0e36\\u0e07\", \"\\u0e19\\u0e38\\u0e48\\u0e21\", \"\\u0e19\\u0e38\\u0e48\\u0e21\", \"\\u0e19\\u0e38\\u0e48\\u0e21\", \"\\u0e19\\u0e38\\u0e48\\u0e21\", \"\\u0e19\\u0e38\\u0e48\\u0e21\", \"\\u0e19\\u0e49\\u0e30\", \"\\u0e19\\u0e49\\u0e33\", \"\\u0e19\\u0e49\\u0e33\", \"\\u0e19\\u0e49\\u0e33\", \"\\u0e19\\u0e49\\u0e33\", \"\\u0e19\\u0e49\\u0e33\", \"\\u0e19\\u0e49\\u0e33\\u0e08\\u0e34\\u0e49\\u0e21\", \"\\u0e19\\u0e49\\u0e33\\u0e08\\u0e34\\u0e49\\u0e21\", \"\\u0e19\\u0e49\\u0e33\\u0e08\\u0e34\\u0e49\\u0e21\", \"\\u0e19\\u0e49\\u0e33\\u0e08\\u0e34\\u0e49\\u0e21\", \"\\u0e19\\u0e49\\u0e33\\u0e08\\u0e34\\u0e49\\u0e21\", \"\\u0e19\\u0e4d\\u0e49\\u0e32\", \"\\u0e1a\", \"\\u0e1a\\u0e23\\u0e34\\u0e01\\u0e32\\u0e23\", \"\\u0e1a\\u0e23\\u0e34\\u0e01\\u0e32\\u0e23\", \"\\u0e1a\\u0e23\\u0e34\\u0e01\\u0e32\\u0e23\", \"\\u0e1a\\u0e23\\u0e34\\u0e01\\u0e32\\u0e23\", \"\\u0e1a\\u0e23\\u0e34\\u0e01\\u0e32\\u0e23\", \"\\u0e1a\\u0e31\\u0e15\\u0e23\\u0e2a\\u0e21\\u0e32\\u0e0a\\u0e34\\u0e01\", \"\\u0e1a\\u0e32\\u0e07\\u0e2a\\u0e48\\u0e27\\u0e19\", \"\\u0e1a\\u0e32\\u0e17\", \"\\u0e1a\\u0e32\\u0e17\", \"\\u0e1a\\u0e32\\u0e17\", \"\\u0e1a\\u0e32\\u0e17\", \"\\u0e1a\\u0e32\\u0e17\", \"\\u0e1a\\u0e38\", \"\\u0e1a\\u0e38\", \"\\u0e1a\\u0e38\\u0e1f\\u0e40\\u0e1f\\u0e15\\u0e4c\", \"\\u0e1a\\u0e38\\u0e1f\\u0e40\\u0e1f\\u0e48\\u0e15\\u0e4c\", \"\\u0e1a\\u0e38\\u0e1f\\u0e40\\u0e1f\\u0e48\\u0e15\\u0e4c\", \"\\u0e1a\\u0e38\\u0e1f\\u0e40\\u0e1f\\u0e48\\u0e15\\u0e4c\", \"\\u0e1a\\u0e38\\u0e1f\\u0e40\\u0e1f\\u0e48\\u0e15\\u0e4c\", \"\\u0e1a\\u0e38\\u0e1f\\u0e40\\u0e1f\\u0e48\\u0e15\\u0e4c\", \"\\u0e1a\\u0e4a\\u0e27\\u0e22\", \"\\u0e1b\", \"\\u0e1b\\u0e23\\u0e01\\u0e15\\u0e34\", \"\\u0e1b\\u0e23\\u0e30\\u0e17\\u0e31\\u0e1a\\u0e43\\u0e08\", \"\\u0e1b\\u0e2d\\u0e01\\u0e40\\u0e1b\\u0e25\\u0e37\\u0e2d\\u0e01\", \"\\u0e1b\\u0e38\\u0e23\\u0e30\", \"\\u0e1b\\u0e38\\u0e23\\u0e30\", \"\\u0e1b\\u0e38\\u0e23\\u0e30\", \"\\u0e1b\\u0e39\\u0e2d\\u0e31\\u0e14\", \"\\u0e1c\\u0e31\\u0e01\", \"\\u0e1c\\u0e31\\u0e01\", \"\\u0e1d\\u0e23\\u0e31\\u0e48\\u0e07\", \"\\u0e1e\\u0e19\\u0e31\\u0e01\\u0e07\\u0e32\\u0e19\", \"\\u0e1e\\u0e19\\u0e31\\u0e01\\u0e07\\u0e32\\u0e19\", \"\\u0e1e\\u0e19\\u0e31\\u0e01\\u0e07\\u0e32\\u0e19\", \"\\u0e1e\\u0e19\\u0e31\\u0e01\\u0e07\\u0e32\\u0e19\", \"\\u0e1e\\u0e19\\u0e31\\u0e01\\u0e07\\u0e32\\u0e19\", \"\\u0e1e\\u0e25\\u0e32\\u0e14\", \"\\u0e1e\\u0e2d\\u0e19\", \"\\u0e1e\\u0e32\\u0e23\\u0e32\\u0e44\\u0e14\\u0e0b\\u0e4c\", \"\\u0e1e\\u0e34\\u0e0b\", \"\\u0e1e\\u0e34\\u0e0b\\u0e0b\\u0e48\\u0e32\", \"\\u0e1e\\u0e34\\u0e0b\\u0e0b\\u0e48\\u0e32\", \"\\u0e1e\\u0e34\\u0e0b\\u0e0b\\u0e48\\u0e32\", \"\\u0e1e\\u0e34\\u0e0b\\u0e0b\\u0e48\\u0e32\", \"\\u0e1e\\u0e34\\u0e0b\\u0e0b\\u0e48\\u0e32\", \"\\u0e1e\\u0e35\\u0e48\", \"\\u0e1f\\u0e40\\u0e1f\", \"\\u0e1f\\u0e40\\u0e1f\\u0e48\", \"\\u0e21\", \"\\u0e21\", \"\\u0e21\", \"\\u0e21\\u0e30\\u0e19\\u0e32\\u0e27\", \"\\u0e21\\u0e32\\u0e15\\u0e23\\u0e32\", \"\\u0e21\\u0e35\\u0e48\", \"\\u0e21\\u0e38\", \"\\u0e23\\u0e2a\", \"\\u0e23\\u0e2a\", \"\\u0e23\\u0e2a\", \"\\u0e23\\u0e2a\", \"\\u0e23\\u0e2a\", \"\\u0e23\\u0e2a\\u0e0a\\u0e32\\u0e15\\u0e34\", \"\\u0e23\\u0e2a\\u0e0a\\u0e32\\u0e15\\u0e34\", \"\\u0e23\\u0e2a\\u0e0a\\u0e32\\u0e15\\u0e34\", \"\\u0e23\\u0e2a\\u0e0a\\u0e32\\u0e15\\u0e34\", \"\\u0e23\\u0e2a\\u0e0a\\u0e32\\u0e15\\u0e34\", \"\\u0e23\\u0e2d\", \"\\u0e23\\u0e2d\", \"\\u0e23\\u0e2d\", \"\\u0e23\\u0e2d\", \"\\u0e23\\u0e2d\", \"\\u0e23\\u0e30\\u0e1a\\u0e1a\", \"\\u0e23\\u0e32\\u0e04\\u0e32\", \"\\u0e23\\u0e32\\u0e04\\u0e32\", \"\\u0e23\\u0e32\\u0e04\\u0e32\", \"\\u0e23\\u0e32\\u0e04\\u0e32\", \"\\u0e23\\u0e32\\u0e04\\u0e32\", \"\\u0e23\\u0e32\\u0e22\\u0e01\\u0e32\\u0e23\", \"\\u0e23\\u0e35\\u0e27\\u0e34\\u0e27\", \"\\u0e23\\u0e49\\u0e2d\\u0e22\", \"\\u0e25\\u0e07\\u0e40\\u0e2d\\u0e22\", \"\\u0e25\\u0e2d\\u0e07\", \"\\u0e25\\u0e2d\\u0e07\", \"\\u0e25\\u0e2d\\u0e07\", \"\\u0e25\\u0e2d\\u0e07\", \"\\u0e25\\u0e2d\\u0e07\", \"\\u0e25\\u0e30\\u0e25\\u0e32\\u0e19\\u0e15\\u0e32\", \"\\u0e25\\u0e39\\u0e01\\u0e04\\u0e49\\u0e32\", \"\\u0e27\\u0e31\\u0e19\\u0e01\\u0e48\\u0e2d\\u0e19\", \"\\u0e27\\u0e32\\u0e19\\u0e34\\u0e25\\u0e32\", \"\\u0e2a\", \"\\u0e2a\\u0e14\", \"\\u0e2a\\u0e14\", \"\\u0e2a\\u0e14\", \"\\u0e2a\\u0e14\", \"\\u0e2a\\u0e14\", \"\\u0e2a\\u0e14\\u0e46 \\u0e23\\u0e49\\u0e2d\\u0e19\\u0e46\", \"\\u0e2a\\u0e27\\u0e31\\u0e2a\\u0e14\\u0e35\", \"\\u0e2a\\u0e30\\u0e2d\\u0e32\\u0e14\", \"\\u0e2a\\u0e31\\u0e48\\u0e07\", \"\\u0e2a\\u0e31\\u0e48\\u0e07\", \"\\u0e2a\\u0e31\\u0e48\\u0e07\", \"\\u0e2a\\u0e31\\u0e48\\u0e07\", \"\\u0e2a\\u0e31\\u0e48\\u0e07\", \"\\u0e2a\\u0e32\\u0e02\\u0e32\", \"\\u0e2a\\u0e32\\u0e02\\u0e32\", \"\\u0e2a\\u0e32\\u0e02\\u0e32\", \"\\u0e2a\\u0e32\\u0e02\\u0e32\", \"\\u0e2a\\u0e32\\u0e02\\u0e32\", \"\\u0e2a\\u0e32\\u0e22\\u0e1e\\u0e32\\u0e19\", \"\\u0e2a\\u0e32\\u0e22\\u0e1e\\u0e32\\u0e19\", \"\\u0e2a\\u0e32\\u0e22\\u0e1e\\u0e32\\u0e19\", \"\\u0e2a\\u0e32\\u0e22\\u0e1e\\u0e32\\u0e19\", \"\\u0e2a\\u0e32\\u0e22\\u0e1e\\u0e32\\u0e19\", \"\\u0e2a\\u0e33\\u0e2b\\u0e23\\u0e31\\u0e1a\", \"\\u0e2a\\u0e33\\u0e2b\\u0e23\\u0e31\\u0e1a\", \"\\u0e2a\\u0e38\\u0e01\\u0e35\\u0e49\", \"\\u0e2a\\u0e38\\u0e14\\u0e17\\u0e49\\u0e32\\u0e22\", \"\\u0e2b\", \"\\u0e2b\\u0e19\\u0e49\\u0e32\", \"\\u0e2b\\u0e19\\u0e49\\u0e32\", \"\\u0e2b\\u0e19\\u0e49\\u0e32\", \"\\u0e2b\\u0e19\\u0e49\\u0e32\", \"\\u0e2b\\u0e19\\u0e49\\u0e32\", \"\\u0e2b\\u0e21\\u0e49\\u0e2d\", \"\\u0e2b\\u0e21\\u0e49\\u0e2d\", \"\\u0e2b\\u0e21\\u0e49\\u0e2d\", \"\\u0e2b\\u0e21\\u0e49\\u0e2d\", \"\\u0e2b\\u0e21\\u0e49\\u0e2d\", \"\\u0e2b\\u0e25\\u0e32\\u0e01\\u0e2b\\u0e25\\u0e32\\u0e22\", \"\\u0e2b\\u0e25\\u0e32\\u0e22\\u0e04\\u0e23\\u0e31\\u0e49\\u0e07\", \"\\u0e2b\\u0e25\\u0e48\\u0e30\", \"\\u0e2b\\u0e27\\u0e32\\u0e19\", \"\\u0e2b\\u0e27\\u0e32\\u0e19\", \"\\u0e2b\\u0e2d\\u0e21\", \"\\u0e2b\\u0e2d\\u0e22\", \"\\u0e2b\\u0e32\", \"\\u0e2b\\u0e49\\u0e32\\u0e07\", \"\\u0e2b\\u0e49\\u0e32\\u0e07\", \"\\u0e2b\\u0e49\\u0e32\\u0e07\", \"\\u0e2b\\u0e49\\u0e32\\u0e07\", \"\\u0e2b\\u0e49\\u0e32\\u0e07\", \"\\u0e2d\\u0e22\\u0e38\\u0e48\", \"\\u0e2d\\u0e23\\u0e48\\u0e2d\\u0e22\", \"\\u0e2d\\u0e23\\u0e48\\u0e2d\\u0e22\", \"\\u0e2d\\u0e23\\u0e48\\u0e2d\\u0e22\", \"\\u0e2d\\u0e23\\u0e48\\u0e2d\\u0e22\", \"\\u0e2d\\u0e23\\u0e48\\u0e2d\\u0e22\", \"\\u0e2d\\u0e32\\u0e2b\\u0e32\\u0e23\", \"\\u0e2d\\u0e32\\u0e2b\\u0e32\\u0e23\", \"\\u0e2d\\u0e32\\u0e2b\\u0e32\\u0e23\", \"\\u0e2d\\u0e32\\u0e2b\\u0e32\\u0e23\", \"\\u0e2d\\u0e32\\u0e2b\\u0e32\\u0e23\", \"\\u0e2d\\u0e32\\u0e2b\\u0e32\\u0e23\\u0e2a\\u0e14\", \"\\u0e2d\\u0e35\\u0e01\\u0e04\\u0e23\\u0e31\\u0e49\\u0e07\", \"\\u0e2d\\u0e40\\u0e23\\u0e35\\u0e22\", \"\\u0e2e\\u0e48\\u0e32\", \"\\u0e32\\u0e19\", \"\\u0e40\\u0e01\\u0e34\\u0e19\\u0e44\\u0e1b\", \"\\u0e40\\u0e01\\u0e35\\u0e4a\\u0e22\\u0e27\", \"\\u0e40\\u0e01\\u0e49\", \"\\u0e40\\u0e02\\u0e49\\u0e32\\u0e2b\\u0e19\\u0e49\\u0e32\", \"\\u0e40\\u0e04\\u0e23\\u0e37\\u0e48\\u0e2d\\u0e07\\u0e14\\u0e37\\u0e48\\u0e21\", \"\\u0e40\\u0e04\\u0e49\\u0e32\", \"\\u0e40\\u0e07\\u0e34\\u0e19\\u0e2a\\u0e14\", \"\\u0e40\\u0e0a\\u0e47\\u0e04\\u0e1a\\u0e34\\u0e25\", \"\\u0e40\\u0e0b\", \"\\u0e40\\u0e14\\u0e49\\u0e07\", \"\\u0e40\\u0e15\\u0e34\\u0e21\", \"\\u0e40\\u0e15\\u0e47\\u0e21\", \"\\u0e40\\u0e17\", \"\\u0e40\\u0e17\", \"\\u0e40\\u0e17\", \"\\u0e40\\u0e19\\u0e37\\u0e49\\u0e2d\", \"\\u0e40\\u0e19\\u0e37\\u0e49\\u0e2d\", \"\\u0e40\\u0e19\\u0e37\\u0e49\\u0e2d\", \"\\u0e40\\u0e19\\u0e37\\u0e49\\u0e2d\", \"\\u0e40\\u0e19\\u0e37\\u0e49\\u0e2d\", \"\\u0e40\\u0e19\\u0e37\\u0e49\\u0e2d\\u0e27\\u0e31\\u0e27\", \"\\u0e40\\u0e19\\u0e37\\u0e49\\u0e2d\\u0e27\\u0e31\\u0e27\", \"\\u0e40\\u0e19\\u0e37\\u0e49\\u0e2d\\u0e2b\\u0e21\\u0e39\", \"\\u0e40\\u0e1a\\u0e2d\\u0e23\\u0e4c\", \"\\u0e40\\u0e1b\\u0e47\\u0e19\\u0e01\\u0e31\\u0e19\\u0e40\\u0e2d\\u0e07\", \"\\u0e40\\u0e1b\\u0e47\\u0e19\\u0e1b\\u0e01\\u0e15\\u0e34\", \"\\u0e40\\u0e1b\\u0e47\\u0e19\\u0e2b\\u0e25\\u0e31\\u0e01\", \"\\u0e40\\u0e21\\u0e19\\u0e39\", \"\\u0e40\\u0e21\\u0e19\\u0e39\", \"\\u0e40\\u0e21\\u0e19\\u0e39\", \"\\u0e40\\u0e21\\u0e19\\u0e39\", \"\\u0e40\\u0e21\\u0e19\\u0e39\", \"\\u0e40\\u0e23\\u0e37\\u0e48\\u0e2d\\u0e07\", \"\\u0e40\\u0e25\\u0e35\\u0e48\\u0e22\\u0e19\", \"\\u0e40\\u0e25\\u0e37\\u0e2d\\u0e01\", \"\\u0e40\\u0e25\\u0e37\\u0e2d\\u0e01\", \"\\u0e40\\u0e25\\u0e37\\u0e2d\\u0e01\", \"\\u0e40\\u0e25\\u0e37\\u0e2d\\u0e01\", \"\\u0e40\\u0e25\\u0e37\\u0e2d\\u0e01\", \"\\u0e40\\u0e25\\u0e48\\u0e19\", \"\\u0e40\\u0e27\\u0e25\\u0e32\", \"\\u0e40\\u0e27\\u0e25\\u0e32\", \"\\u0e40\\u0e27\\u0e25\\u0e32\", \"\\u0e40\\u0e2b\\u0e21\\u0e37\\u0e2d\\u0e19\", \"\\u0e40\\u0e2b\\u0e47\\u0e14\", \"\\u0e41\\u0e01\\u0e07\\u0e04\\u0e4c\", \"\\u0e41\\u0e08\\u0e49\\u0e07\", \"\\u0e41\\u0e19\\u0e27\", \"\\u0e41\\u0e19\\u0e30\\u0e19\\u0e33\", \"\\u0e41\\u0e19\\u0e30\\u0e19\\u0e33\", \"\\u0e41\\u0e19\\u0e48\\u0e19\\u0e2d\\u0e19\", \"\\u0e41\\u0e1b\\u0e25\\u0e01\", \"\\u0e41\\u0e22\\u0e48\", \"\\u0e41\\u0e25\", \"\\u0e42\\u0e01\", \"\\u0e42\\u0e0a\\u0e04\\u0e14\\u0e35\", \"\\u0e42\\u0e14\\u0e19\", \"\\u0e42\\u0e14\\u0e22\\u0e1b\\u0e23\\u0e30\\u0e21\\u0e32\\u0e13\", \"\\u0e42\\u0e14\\u0e22\\u0e40\\u0e09\\u0e1e\\u0e32\\u0e30\", \"\\u0e42\\u0e21\", \"\\u0e42\\u0e21\", \"\\u0e42\\u0e21\", \"\\u0e42\\u0e21\", \"\\u0e42\\u0e21\", \"\\u0e42\\u0e2b\\u0e14\", \"\\u0e42\\u0e2d\", \"\\u0e43\\u0e08\\u0e14\\u0e35\", \"\\u0e43\\u0e0a\\u0e49\\u0e41\\u0e25\\u0e49\\u0e27\", \"\\u0e43\\u0e0a\\u0e49\\u0e44\\u0e14\\u0e49\", \"\\u0e44\\u0e01\\u0e48\", \"\\u0e44\\u0e01\\u0e48\", \"\\u0e44\\u0e14\\u0e1f\\u0e39\\u0e01\\u0e38\", \"\\u0e44\\u0e1c\\u0e48\", \"\\u0e44\\u0e21\\u0e48\\u0e07\\u0e31\\u0e49\\u0e19\", \"\\u0e44\\u0e21\\u0e49\", \"\\u0e44\\u0e27\", \"\\u0e44\\u0e2d\\u0e15\\u0e34\\u0e21\", \"\\u0e44\\u0e2d\\u0e15\\u0e34\\u0e21\", \"\\u0e44\\u0e2d\\u0e15\\u0e34\\u0e21\", \"\\u0e44\\u0e2d\\u0e15\\u0e34\\u0e21\", \"\\u0e44\\u0e2d\\u0e15\\u0e34\\u0e21\", \"\\u0e44\\u0e2d\\u0e28\\u0e04\\u0e23\\u0e35\\u0e21\", \"\\u200b\"]}, \"R\": 30, \"lambda.step\": 0.01, \"plot.opts\": {\"xlab\": \"PC1\", \"ylab\": \"PC2\"}, \"topic.order\": [2, 1, 4, 5, 3]};\n",
              "\n",
              "function LDAvis_load_lib(url, callback){\n",
              "  var s = document.createElement('script');\n",
              "  s.src = url;\n",
              "  s.async = true;\n",
              "  s.onreadystatechange = s.onload = callback;\n",
              "  s.onerror = function(){console.warn(\"failed to load library \" + url);};\n",
              "  document.getElementsByTagName(\"head\")[0].appendChild(s);\n",
              "}\n",
              "\n",
              "if(typeof(LDAvis) !== \"undefined\"){\n",
              "   // already loaded: just create the visualization\n",
              "   !function(LDAvis){\n",
              "       new LDAvis(\"#\" + \"ldavis_el3341405285649732645474273900\", ldavis_el3341405285649732645474273900_data);\n",
              "   }(LDAvis);\n",
              "}else if(typeof define === \"function\" && define.amd){\n",
              "   // require.js is available: use it to load d3/LDAvis\n",
              "   require.config({paths: {d3: \"https://d3js.org/d3.v5\"}});\n",
              "   require([\"d3\"], function(d3){\n",
              "      window.d3 = d3;\n",
              "      LDAvis_load_lib(\"https://cdn.jsdelivr.net/gh/bmabey/pyLDAvis@3.3.1/pyLDAvis/js/ldavis.v3.0.0.js\", function(){\n",
              "        new LDAvis(\"#\" + \"ldavis_el3341405285649732645474273900\", ldavis_el3341405285649732645474273900_data);\n",
              "      });\n",
              "    });\n",
              "}else{\n",
              "    // require.js not available: dynamically load d3 & LDAvis\n",
              "    LDAvis_load_lib(\"https://d3js.org/d3.v5.js\", function(){\n",
              "         LDAvis_load_lib(\"https://cdn.jsdelivr.net/gh/bmabey/pyLDAvis@3.3.1/pyLDAvis/js/ldavis.v3.0.0.js\", function(){\n",
              "                 new LDAvis(\"#\" + \"ldavis_el3341405285649732645474273900\", ldavis_el3341405285649732645474273900_data);\n",
              "            })\n",
              "         });\n",
              "}\n",
              "</script>"
            ],
            "text/plain": [
              "PreparedData(topic_coordinates=              x         y  topics  cluster       Freq\n",
              "topic                                                \n",
              "1      0.056216 -0.005355       1        1  27.179743\n",
              "0     -0.038080 -0.040828       2        1  20.080585\n",
              "3     -0.028260  0.036424       3        1  18.165104\n",
              "4      0.011678 -0.015807       4        1  17.742993\n",
              "2     -0.001554  0.025567       5        1  16.831575, topic_info=        Term       Freq      Total Category  logprob  loglift\n",
              "48         ​   6.000000   6.000000  Default  30.0000  30.0000\n",
              "338        -  10.000000  10.000000  Default  29.0000  29.0000\n",
              "274     กุ้ง   9.000000   9.000000  Default  28.0000  28.0000\n",
              "283     ปุระ   5.000000   5.000000  Default  27.0000  27.0000\n",
              "292       เท   5.000000   5.000000  Default  26.0000  26.0000\n",
              "..       ...        ...        ...      ...      ...      ...\n",
              "131      ลอง   1.439717   6.721723   Topic5  -5.1121   0.2410\n",
              "224       คน   1.366152  10.357957   Topic5  -5.1645  -0.2438\n",
              "137     สั่ง   1.320688   9.559516   Topic5  -5.1983  -0.1975\n",
              "97   ของหวาน   1.294970   9.148337   Topic5  -5.2180  -0.1732\n",
              "106      ชอบ   1.256260   8.842032   Topic5  -5.2484  -0.1695\n",
              "\n",
              "[336 rows x 6 columns], token_table=      Topic      Freq     Term\n",
              "term                          \n",
              "87        1  0.500592         \n",
              "87        2  0.125148         \n",
              "87        3  0.125148         \n",
              "87        4  0.250296         \n",
              "87        5  0.125148         \n",
              "...     ...       ...      ...\n",
              "47        3  0.248293    ไอติม\n",
              "47        4  0.124146    ไอติม\n",
              "47        5  0.124146    ไอติม\n",
              "271       2  0.880362  ไอศครีม\n",
              "48        4  0.748914        ​\n",
              "\n",
              "[461 rows x 3 columns], R=30, lambda_step=0.01, plot_opts={'xlab': 'PC1', 'ylab': 'PC2'}, topic_order=[2, 1, 4, 5, 3])"
            ]
          },
          "metadata": {
            "tags": []
          },
          "execution_count": 34
        }
      ]
    },
    {
      "cell_type": "code",
      "metadata": {
        "colab": {
          "base_uri": "https://localhost:8080/"
        },
        "id": "V2MiUpfMs0Zp",
        "outputId": "773a65ad-d737-4532-ef5e-03da92ea068f"
      },
      "source": [
        "model.show_topic(1)"
      ],
      "execution_count": 35,
      "outputs": [
        {
          "output_type": "execute_result",
          "data": {
            "text/plain": [
              "[('น้ำ', 0.024038905),\n",
              " (':', 0.017040228),\n",
              " ('อร่อย', 0.017027346),\n",
              " ('เลือก', 0.01618788),\n",
              " ('ชาบู', 0.014709228),\n",
              " ('เนื้อ', 0.014227867),\n",
              " ('ทาน', 0.0141183445),\n",
              " ('ดี', 0.012036361),\n",
              " ('ซุป', 0.011988257),\n",
              " ('กิน', 0.011486995)]"
            ]
          },
          "metadata": {
            "tags": []
          },
          "execution_count": 35
        }
      ]
    },
    {
      "cell_type": "code",
      "metadata": {
        "id": "WnosCtSss853"
      },
      "source": [
        "df['topics'] = df['Review_tokenized'].apply(lambda x: model.get_document_topics(dictionary.doc2bow(x.split(',')))[0][0])\n",
        "df['score'] = df['Review_tokenized'].apply(lambda x: model.get_document_topics(dictionary.doc2bow(x.split(',')))[0][1])"
      ],
      "execution_count": 36,
      "outputs": []
    },
    {
      "cell_type": "code",
      "metadata": {
        "colab": {
          "base_uri": "https://localhost:8080/",
          "height": 698
        },
        "id": "VNDRk-HYs_CH",
        "outputId": "842377b8-b15a-4da5-9576-03d52b688e88"
      },
      "source": [
        "df[['Restaurant', 'Review', 'topics']]"
      ],
      "execution_count": 37,
      "outputs": [
        {
          "output_type": "execute_result",
          "data": {
            "text/html": [
              "<div>\n",
              "<style scoped>\n",
              "    .dataframe tbody tr th:only-of-type {\n",
              "        vertical-align: middle;\n",
              "    }\n",
              "\n",
              "    .dataframe tbody tr th {\n",
              "        vertical-align: top;\n",
              "    }\n",
              "\n",
              "    .dataframe thead th {\n",
              "        text-align: right;\n",
              "    }\n",
              "</style>\n",
              "<table border=\"1\" class=\"dataframe\">\n",
              "  <thead>\n",
              "    <tr style=\"text-align: right;\">\n",
              "      <th></th>\n",
              "      <th>Restaurant</th>\n",
              "      <th>Review</th>\n",
              "      <th>topics</th>\n",
              "    </tr>\n",
              "  </thead>\n",
              "  <tbody>\n",
              "    <tr>\n",
              "      <th>0</th>\n",
              "      <td>Mo-Mo-Paradise (โม โม พาราไดซ์) เดอะมอลล์ บางกะปิ</td>\n",
              "      <td>ที่สำคัญของร้านนี้คือบริการดีมากพนักงานน่ารักส...</td>\n",
              "      <td>4</td>\n",
              "    </tr>\n",
              "    <tr>\n",
              "      <th>1</th>\n",
              "      <td>Mo-Mo-Paradise (โม โม พาราไดซ์) เดอะมอลล์ บางกะปิ</td>\n",
              "      <td>นึกถึงชาบูญี่ปุ่นยังไงก็ต้อง คิดถึงโมโม่ พาราไ...</td>\n",
              "      <td>2</td>\n",
              "    </tr>\n",
              "    <tr>\n",
              "      <th>2</th>\n",
              "      <td>Mo-Mo-Paradise (โม โม พาราไดซ์) เดอะมอลล์ บางกะปิ</td>\n",
              "      <td>มาทานช่วงนี้ สามารถนั่งโต๊ะเดียวกัน หม้อเดียวก...</td>\n",
              "      <td>1</td>\n",
              "    </tr>\n",
              "    <tr>\n",
              "      <th>3</th>\n",
              "      <td>Mo-Mo-Paradise (โม โม พาราไดซ์) เดอะมอลล์ บางกะปิ</td>\n",
              "      <td>ถ้านึกถึงชาบูที่มีเนื้อเน้นๆ ในราคาไม่โหดจนเกิ...</td>\n",
              "      <td>3</td>\n",
              "    </tr>\n",
              "    <tr>\n",
              "      <th>4</th>\n",
              "      <td>Mo-Mo-Paradise (โม โม พาราไดซ์) เดอะมอลล์ บางกะปิ</td>\n",
              "      <td>เดินมาหน้าร้านแล้วได้กลิ่นชาบูหอมมาก ๆ  ประกอบ...</td>\n",
              "      <td>4</td>\n",
              "    </tr>\n",
              "    <tr>\n",
              "      <th>5</th>\n",
              "      <td>Mo-Mo-Paradise (โม โม พาราไดซ์) เดอะมอลล์ บางกะปิ</td>\n",
              "      <td>ร้านบุฟเฟ่ ชาบูแนวญี่ปุ่น สายเนื้อหมู เนื้อวัว...</td>\n",
              "      <td>1</td>\n",
              "    </tr>\n",
              "    <tr>\n",
              "      <th>6</th>\n",
              "      <td>Mo-Mo-Paradise (โม โม พาราไดซ์) เดอะมอลล์ บางกะปิ</td>\n",
              "      <td>Number 20 : โมโม – พาราไดส์ (สาขาเดอะมอลบางกะป...</td>\n",
              "      <td>1</td>\n",
              "    </tr>\n",
              "    <tr>\n",
              "      <th>7</th>\n",
              "      <td>Mo-Mo-Paradise (โม โม พาราไดซ์) เดอะมอลล์ บางกะปิ</td>\n",
              "      <td>ร้านชาบูเฟรนไชส์รสชาติดีมากคุ้มค่าเหมาะสมกับรา...</td>\n",
              "      <td>0</td>\n",
              "    </tr>\n",
              "    <tr>\n",
              "      <th>8</th>\n",
              "      <td>Shabushi (ชาบูชิ) เดอะมอลล์บางกะปิ ชั้น G</td>\n",
              "      <td>มา านที่ขาบูชิต้องมาตอนหิว ไม่งั้นจะไม่คุ้มนะค...</td>\n",
              "      <td>3</td>\n",
              "    </tr>\n",
              "    <tr>\n",
              "      <th>9</th>\n",
              "      <td>Shabushi (ชาบูชิ) เดอะมอลล์บางกะปิ ชั้น G</td>\n",
              "      <td>ใครชอบกุ้งทอดเทมปุระ แค่กุ้งเทมปุระก็คุ้มแล้ว ...</td>\n",
              "      <td>3</td>\n",
              "    </tr>\n",
              "    <tr>\n",
              "      <th>10</th>\n",
              "      <td>Shabushi (ชาบูชิ) เดอะมอลล์บางกะปิ ชั้น G</td>\n",
              "      <td>กลับมาอัพเดทราคาชาบูชิ ตอนนี้อยู่ที่ 399 บาท n...</td>\n",
              "      <td>3</td>\n",
              "    </tr>\n",
              "    <tr>\n",
              "      <th>11</th>\n",
              "      <td>Shabushi (ชาบูชิ) เดอะมอลล์บางกะปิ ชั้น G</td>\n",
              "      <td>ห่างหายไปนานสำหรับชาบูชิ ตั้งแต่ทางร้านได้ปรับ...</td>\n",
              "      <td>0</td>\n",
              "    </tr>\n",
              "    <tr>\n",
              "      <th>12</th>\n",
              "      <td>Shabushi (ชาบูชิ) เดอะมอลล์บางกะปิ ชั้น G</td>\n",
              "      <td>เมื่อหลายวันก่อนนัดหาข้าวทานกับเดอะแกงค์ และก็...</td>\n",
              "      <td>4</td>\n",
              "    </tr>\n",
              "    <tr>\n",
              "      <th>13</th>\n",
              "      <td>Shabushi (ชาบูชิ) เดอะมอลล์บางกะปิ ชั้น G</td>\n",
              "      <td>บอกตรงๆว่าหลายครั้งที่เลือกจะกินบุฟเฟต์จะต้องอ...</td>\n",
              "      <td>1</td>\n",
              "    </tr>\n",
              "    <tr>\n",
              "      <th>14</th>\n",
              "      <td>Shabushi (ชาบูชิ) เดอะมอลล์บางกะปิ ชั้น G</td>\n",
              "      <td>สวัสดีครับวันนี้จะขอมารีวิวร้านชาบูชิ บุฟเฟขวั...</td>\n",
              "      <td>2</td>\n",
              "    </tr>\n",
              "    <tr>\n",
              "      <th>15</th>\n",
              "      <td>Shabushi (ชาบูชิ) เดอะมอลล์บางกะปิ ชั้น G</td>\n",
              "      <td>ชาบูชิ สาขาเดอะมอลล์บางกะปิ ตั้งอยู่ประตูหน้าห...</td>\n",
              "      <td>3</td>\n",
              "    </tr>\n",
              "    <tr>\n",
              "      <th>16</th>\n",
              "      <td>ข้าน้อยขอชาบู</td>\n",
              "      <td>หลังจากที่เคยลองสาขายูเนี่ยนมอลล์ไป รอบนี้มาที...</td>\n",
              "      <td>2</td>\n",
              "    </tr>\n",
              "    <tr>\n",
              "      <th>17</th>\n",
              "      <td>ข้าน้อยขอชาบู</td>\n",
              "      <td>ร้านบุฟเฟ่ต์ที่มีโปรโมชั่นหัวละ199บาท ไม่รวมน้...</td>\n",
              "      <td>2</td>\n",
              "    </tr>\n",
              "    <tr>\n",
              "      <th>18</th>\n",
              "      <td>ข้าน้อยขอชาบู</td>\n",
              "      <td>เคยรู้จักร้านนี้จากที่ union mall ไม่เคยได้ลอง...</td>\n",
              "      <td>4</td>\n",
              "    </tr>\n",
              "    <tr>\n",
              "      <th>19</th>\n",
              "      <td>ข้าน้อยขอชาบู</td>\n",
              "      <td>อร่อยมากค่ะ คุ้มค่าสมราคา บุฟเฟ่หมูผักต่างๆ รว...</td>\n",
              "      <td>1</td>\n",
              "    </tr>\n",
              "    <tr>\n",
              "      <th>20</th>\n",
              "      <td>ข้าน้อยขอชาบู</td>\n",
              "      <td>ก็ตามที่เขียนเลยครับ ว่า ถ้าจะจ่ายในราคา 199 บ...</td>\n",
              "      <td>4</td>\n",
              "    </tr>\n",
              "  </tbody>\n",
              "</table>\n",
              "</div>"
            ],
            "text/plain": [
              "                                           Restaurant  ... topics\n",
              "0   Mo-Mo-Paradise (โม โม พาราไดซ์) เดอะมอลล์ บางกะปิ  ...      4\n",
              "1   Mo-Mo-Paradise (โม โม พาราไดซ์) เดอะมอลล์ บางกะปิ  ...      2\n",
              "2   Mo-Mo-Paradise (โม โม พาราไดซ์) เดอะมอลล์ บางกะปิ  ...      1\n",
              "3   Mo-Mo-Paradise (โม โม พาราไดซ์) เดอะมอลล์ บางกะปิ  ...      3\n",
              "4   Mo-Mo-Paradise (โม โม พาราไดซ์) เดอะมอลล์ บางกะปิ  ...      4\n",
              "5   Mo-Mo-Paradise (โม โม พาราไดซ์) เดอะมอลล์ บางกะปิ  ...      1\n",
              "6   Mo-Mo-Paradise (โม โม พาราไดซ์) เดอะมอลล์ บางกะปิ  ...      1\n",
              "7   Mo-Mo-Paradise (โม โม พาราไดซ์) เดอะมอลล์ บางกะปิ  ...      0\n",
              "8           Shabushi (ชาบูชิ) เดอะมอลล์บางกะปิ ชั้น G  ...      3\n",
              "9           Shabushi (ชาบูชิ) เดอะมอลล์บางกะปิ ชั้น G  ...      3\n",
              "10          Shabushi (ชาบูชิ) เดอะมอลล์บางกะปิ ชั้น G  ...      3\n",
              "11          Shabushi (ชาบูชิ) เดอะมอลล์บางกะปิ ชั้น G  ...      0\n",
              "12          Shabushi (ชาบูชิ) เดอะมอลล์บางกะปิ ชั้น G  ...      4\n",
              "13          Shabushi (ชาบูชิ) เดอะมอลล์บางกะปิ ชั้น G  ...      1\n",
              "14          Shabushi (ชาบูชิ) เดอะมอลล์บางกะปิ ชั้น G  ...      2\n",
              "15          Shabushi (ชาบูชิ) เดอะมอลล์บางกะปิ ชั้น G  ...      3\n",
              "16                                      ข้าน้อยขอชาบู  ...      2\n",
              "17                                      ข้าน้อยขอชาบู  ...      2\n",
              "18                                      ข้าน้อยขอชาบู  ...      4\n",
              "19                                      ข้าน้อยขอชาบู  ...      1\n",
              "20                                      ข้าน้อยขอชาบู  ...      4\n",
              "\n",
              "[21 rows x 3 columns]"
            ]
          },
          "metadata": {
            "tags": []
          },
          "execution_count": 37
        }
      ]
    },
    {
      "cell_type": "code",
      "metadata": {
        "colab": {
          "base_uri": "https://localhost:8080/",
          "height": 392
        },
        "id": "SyxyRJShtDvg",
        "outputId": "a14362da-3569-4dc6-b1b8-696ab1c654f3"
      },
      "source": [
        "Restaurant = df.groupby(\"Restaurant\")\n",
        "Restaurant.describe().head()"
      ],
      "execution_count": 38,
      "outputs": [
        {
          "output_type": "execute_result",
          "data": {
            "text/html": [
              "<div>\n",
              "<style scoped>\n",
              "    .dataframe tbody tr th:only-of-type {\n",
              "        vertical-align: middle;\n",
              "    }\n",
              "\n",
              "    .dataframe tbody tr th {\n",
              "        vertical-align: top;\n",
              "    }\n",
              "\n",
              "    .dataframe thead tr th {\n",
              "        text-align: left;\n",
              "    }\n",
              "\n",
              "    .dataframe thead tr:last-of-type th {\n",
              "        text-align: right;\n",
              "    }\n",
              "</style>\n",
              "<table border=\"1\" class=\"dataframe\">\n",
              "  <thead>\n",
              "    <tr>\n",
              "      <th></th>\n",
              "      <th colspan=\"8\" halign=\"left\">Review ID</th>\n",
              "      <th colspan=\"8\" halign=\"left\">Rating</th>\n",
              "      <th colspan=\"8\" halign=\"left\">topics</th>\n",
              "      <th colspan=\"8\" halign=\"left\">score</th>\n",
              "    </tr>\n",
              "    <tr>\n",
              "      <th></th>\n",
              "      <th>count</th>\n",
              "      <th>mean</th>\n",
              "      <th>std</th>\n",
              "      <th>min</th>\n",
              "      <th>25%</th>\n",
              "      <th>50%</th>\n",
              "      <th>75%</th>\n",
              "      <th>max</th>\n",
              "      <th>count</th>\n",
              "      <th>mean</th>\n",
              "      <th>std</th>\n",
              "      <th>min</th>\n",
              "      <th>25%</th>\n",
              "      <th>50%</th>\n",
              "      <th>75%</th>\n",
              "      <th>max</th>\n",
              "      <th>count</th>\n",
              "      <th>mean</th>\n",
              "      <th>std</th>\n",
              "      <th>min</th>\n",
              "      <th>25%</th>\n",
              "      <th>50%</th>\n",
              "      <th>75%</th>\n",
              "      <th>max</th>\n",
              "      <th>count</th>\n",
              "      <th>mean</th>\n",
              "      <th>std</th>\n",
              "      <th>min</th>\n",
              "      <th>25%</th>\n",
              "      <th>50%</th>\n",
              "      <th>75%</th>\n",
              "      <th>max</th>\n",
              "    </tr>\n",
              "    <tr>\n",
              "      <th>Restaurant</th>\n",
              "      <th></th>\n",
              "      <th></th>\n",
              "      <th></th>\n",
              "      <th></th>\n",
              "      <th></th>\n",
              "      <th></th>\n",
              "      <th></th>\n",
              "      <th></th>\n",
              "      <th></th>\n",
              "      <th></th>\n",
              "      <th></th>\n",
              "      <th></th>\n",
              "      <th></th>\n",
              "      <th></th>\n",
              "      <th></th>\n",
              "      <th></th>\n",
              "      <th></th>\n",
              "      <th></th>\n",
              "      <th></th>\n",
              "      <th></th>\n",
              "      <th></th>\n",
              "      <th></th>\n",
              "      <th></th>\n",
              "      <th></th>\n",
              "      <th></th>\n",
              "      <th></th>\n",
              "      <th></th>\n",
              "      <th></th>\n",
              "      <th></th>\n",
              "      <th></th>\n",
              "      <th></th>\n",
              "      <th></th>\n",
              "    </tr>\n",
              "  </thead>\n",
              "  <tbody>\n",
              "    <tr>\n",
              "      <th>Mo-Mo-Paradise (โม โม พาราไดซ์) เดอะมอลล์ บางกะปิ</th>\n",
              "      <td>8.0</td>\n",
              "      <td>4.5</td>\n",
              "      <td>2.449490</td>\n",
              "      <td>1.0</td>\n",
              "      <td>2.75</td>\n",
              "      <td>4.5</td>\n",
              "      <td>6.25</td>\n",
              "      <td>8.0</td>\n",
              "      <td>8.0</td>\n",
              "      <td>4.375</td>\n",
              "      <td>0.517549</td>\n",
              "      <td>4.0</td>\n",
              "      <td>4.00</td>\n",
              "      <td>4.0</td>\n",
              "      <td>5.00</td>\n",
              "      <td>5.0</td>\n",
              "      <td>8.0</td>\n",
              "      <td>2.000</td>\n",
              "      <td>1.511858</td>\n",
              "      <td>0.0</td>\n",
              "      <td>1.00</td>\n",
              "      <td>1.5</td>\n",
              "      <td>3.25</td>\n",
              "      <td>4.0</td>\n",
              "      <td>8.0</td>\n",
              "      <td>0.997633</td>\n",
              "      <td>0.001029</td>\n",
              "      <td>0.996279</td>\n",
              "      <td>0.996956</td>\n",
              "      <td>0.997523</td>\n",
              "      <td>0.998409</td>\n",
              "      <td>0.999285</td>\n",
              "    </tr>\n",
              "    <tr>\n",
              "      <th>Shabushi (ชาบูชิ) เดอะมอลล์บางกะปิ ชั้น G</th>\n",
              "      <td>8.0</td>\n",
              "      <td>12.5</td>\n",
              "      <td>2.449490</td>\n",
              "      <td>9.0</td>\n",
              "      <td>10.75</td>\n",
              "      <td>12.5</td>\n",
              "      <td>14.25</td>\n",
              "      <td>16.0</td>\n",
              "      <td>8.0</td>\n",
              "      <td>3.500</td>\n",
              "      <td>0.534522</td>\n",
              "      <td>3.0</td>\n",
              "      <td>3.00</td>\n",
              "      <td>3.5</td>\n",
              "      <td>4.00</td>\n",
              "      <td>4.0</td>\n",
              "      <td>8.0</td>\n",
              "      <td>2.375</td>\n",
              "      <td>1.302470</td>\n",
              "      <td>0.0</td>\n",
              "      <td>1.75</td>\n",
              "      <td>3.0</td>\n",
              "      <td>3.00</td>\n",
              "      <td>4.0</td>\n",
              "      <td>8.0</td>\n",
              "      <td>0.997807</td>\n",
              "      <td>0.000981</td>\n",
              "      <td>0.996671</td>\n",
              "      <td>0.996968</td>\n",
              "      <td>0.997789</td>\n",
              "      <td>0.998318</td>\n",
              "      <td>0.999451</td>\n",
              "    </tr>\n",
              "    <tr>\n",
              "      <th>ข้าน้อยขอชาบู</th>\n",
              "      <td>5.0</td>\n",
              "      <td>19.0</td>\n",
              "      <td>1.581139</td>\n",
              "      <td>17.0</td>\n",
              "      <td>18.00</td>\n",
              "      <td>19.0</td>\n",
              "      <td>20.00</td>\n",
              "      <td>21.0</td>\n",
              "      <td>4.0</td>\n",
              "      <td>4.000</td>\n",
              "      <td>0.816497</td>\n",
              "      <td>3.0</td>\n",
              "      <td>3.75</td>\n",
              "      <td>4.0</td>\n",
              "      <td>4.25</td>\n",
              "      <td>5.0</td>\n",
              "      <td>5.0</td>\n",
              "      <td>2.600</td>\n",
              "      <td>1.341641</td>\n",
              "      <td>1.0</td>\n",
              "      <td>2.00</td>\n",
              "      <td>2.0</td>\n",
              "      <td>4.00</td>\n",
              "      <td>4.0</td>\n",
              "      <td>5.0</td>\n",
              "      <td>0.997887</td>\n",
              "      <td>0.000657</td>\n",
              "      <td>0.996877</td>\n",
              "      <td>0.997687</td>\n",
              "      <td>0.998007</td>\n",
              "      <td>0.998260</td>\n",
              "      <td>0.998603</td>\n",
              "    </tr>\n",
              "  </tbody>\n",
              "</table>\n",
              "</div>"
            ],
            "text/plain": [
              "                                                  Review ID  ...     score\n",
              "                                                      count  ...       max\n",
              "Restaurant                                                   ...          \n",
              "Mo-Mo-Paradise (โม โม พาราไดซ์) เดอะมอลล์ บางกะปิ       8.0  ...  0.999285\n",
              "Shabushi (ชาบูชิ) เดอะมอลล์บางกะปิ ชั้น G               8.0  ...  0.999451\n",
              "ข้าน้อยขอชาบู                                           5.0  ...  0.998603\n",
              "\n",
              "[3 rows x 32 columns]"
            ]
          },
          "metadata": {
            "tags": []
          },
          "execution_count": 38
        }
      ]
    }
  ]
}